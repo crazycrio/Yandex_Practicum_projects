{
 "cells": [
  {
   "cell_type": "markdown",
   "metadata": {},
   "source": [
    "<div style=\"border-radius: 15px; border: 3px solid indigo; padding: 15px;\">\n",
    "<b> Комментарий ревьюера</b>\n",
    "    \n",
    "Привет! Прошу прощения за задержку ревью 🙏 Понимаю, что это могло принести много неудобств, но мы стараемся как можем. Скоро все придет в норму.\n",
    "    \n",
    "    \n",
    "    \n",
    "Меня зовут Светлана Носова, я буду проверять твой проект. Если не против, давай общаться на «ты». Если тебе такой стиль общения не нравится, напиши об этом, будем на «вы». \n",
    "\n",
    "Сразу хочу обратить внимание на цветовую разметку:\n",
    "\n",
    "<div class=\"alert alert-success\" style=\"border-radius: 15px; box-shadow: 4px 4px 4px; border: 1px solid \">\n",
    "\n",
    "Зеленым отмечены отличные решения и идеи, которые можно и нужно использовать в будущем.\n",
    "</div>\n",
    "    \n",
    "<div class=\"alert alert-warning\" style=\"border-radius: 15px; box-shadow: 4px 4px 4px; border: 1px solid \">\n",
    "\n",
    " Желтым отмечено то, что можно или нужно оптимизировать, в зависимости от контекста.</div>    \n",
    "    \n",
    "<div class=\"alert alert-danger\" style=\"border-radius: 15px; box-shadow: 4px 4px 4px; border: 1px solid \">\n",
    "\n",
    "Красным  обозначены пропущенные пункты задания и ошибки, которые обязательно надо будет исправить, чтобы результаты были верные.</div> \n",
    "    \n",
    "**Ответы на мои комментарии или доработки по моим рекомендациям попрошу выделить каким-нибудь цветом, кроме перечисленных.**\n",
    "Также я попрошу тебя **не менять и не передвигать мои комментарии**, чтобы при последующей проверке мне было проще ориентироваться.\n",
    "    \n",
    "Кроме того, комментарии у меня обозначены как заголовки. Это сбивает содержание, но при последующей проверке я могу снять с них заголовок, если тебе так будет удобнее. При этом они удобны, поскольку ты сразу можешь перейти к ним.   \n",
    "        \n",
    "<hr>\n",
    "    \n",
    "<font color= 'dodgerblue'>**По проекту:**</font> работа выполнена очень качественно, все оформлено понятно и аккуратно. Склейка таблиц произведена верно, выручка вычислена правильно. Гистограммы и статистика выведены, выводы сделаны. У меня только пара уточняющих вопросов, я все написала в комментариях. Там же я оставила рекомендации по улучшению проекта.  Буду ждать работу на повторное ревью.\n",
    "</div>"
   ]
  },
  {
   "cell_type": "markdown",
   "metadata": {},
   "source": [
    "<div style=\"border-radius: 15px; border: 3px solid indigo; padding: 15px;\">\n",
    "<b> Комментарий ревьюера 2</b>\n",
    "    \n",
    "Спасибо за корректировки. Я оставила новые комментарии с цифрой 2, а со старых сняла заголовки, чтобы  не мешали. Проект я могу принять, поскольку вопросов больше нет. Желаю успехов :)\n",
    "    \n",
    "\n",
    "    \n",
    "</div>"
   ]
  },
  {
   "cell_type": "markdown",
   "metadata": {
    "toc": true
   },
   "source": [
    "<h1>Содержание<span class=\"tocSkip\"></span></h1>\n",
    "<div class=\"toc\"><ul class=\"toc-item\"><li><span><a href=\"#Описание-проекта\" data-toc-modified-id=\"Описание-проекта-1\"><span class=\"toc-item-num\">1&nbsp;&nbsp;</span>Описание проекта</a></span></li><li><span><a href=\"#Открываем-файлы,-загружаем-необходимые-библиотеки-и-инструменты\" data-toc-modified-id=\"Открываем-файлы,-загружаем-необходимые-библиотеки-и-инструменты-2\"><span class=\"toc-item-num\">2&nbsp;&nbsp;</span>Открываем файлы, загружаем необходимые библиотеки и инструменты</a></span></li><li><span><a href=\"#Предобработка-данных\" data-toc-modified-id=\"Предобработка-данных-3\"><span class=\"toc-item-num\">3&nbsp;&nbsp;</span>Предобработка данных</a></span><ul class=\"toc-item\"><li><span><a href=\"#Таблица-Users\" data-toc-modified-id=\"Таблица-Users-3.1\"><span class=\"toc-item-num\">3.1&nbsp;&nbsp;</span>Таблица Users</a></span><ul class=\"toc-item\"><li><span><a href=\"#Обрабатываем-данные-в-таблице-Users\" data-toc-modified-id=\"Обрабатываем-данные-в-таблице-Users-3.1.1\"><span class=\"toc-item-num\">3.1.1&nbsp;&nbsp;</span>Обрабатываем данные в таблице Users</a></span></li></ul></li><li><span><a href=\"#Таблица-Calls\" data-toc-modified-id=\"Таблица-Calls-3.2\"><span class=\"toc-item-num\">3.2&nbsp;&nbsp;</span>Таблица Calls</a></span><ul class=\"toc-item\"><li><span><a href=\"#Обрабатываем-данные-в-таблице-calls\" data-toc-modified-id=\"Обрабатываем-данные-в-таблице-calls-3.2.1\"><span class=\"toc-item-num\">3.2.1&nbsp;&nbsp;</span>Обрабатываем данные в таблице calls</a></span></li></ul></li><li><span><a href=\"#Таблица-Messages\" data-toc-modified-id=\"Таблица-Messages-3.3\"><span class=\"toc-item-num\">3.3&nbsp;&nbsp;</span>Таблица Messages</a></span><ul class=\"toc-item\"><li><span><a href=\"#Обрабатываем-данные-в-таблице-messages\" data-toc-modified-id=\"Обрабатываем-данные-в-таблице-messages-3.3.1\"><span class=\"toc-item-num\">3.3.1&nbsp;&nbsp;</span>Обрабатываем данные в таблице messages</a></span></li></ul></li><li><span><a href=\"#Таблица-Internet\" data-toc-modified-id=\"Таблица-Internet-3.4\"><span class=\"toc-item-num\">3.4&nbsp;&nbsp;</span>Таблица Internet</a></span></li></ul></li><li><span><a href=\"#-Комментарий-студента\" data-toc-modified-id=\"-Комментарий-студента-4\"><span class=\"toc-item-num\">4&nbsp;&nbsp;</span> Комментарий студента</a></span></li><li><span><a href=\"#-Комментарий-ревьюера-2\" data-toc-modified-id=\"-Комментарий-ревьюера-2-5\"><span class=\"toc-item-num\">5&nbsp;&nbsp;</span> Комментарий ревьюера 2</a></span><ul class=\"toc-item\"><li><ul class=\"toc-item\"><li><span><a href=\"#Обрабатываем-данные-в-таблице-internet\" data-toc-modified-id=\"Обрабатываем-данные-в-таблице-internet-5.0.1\"><span class=\"toc-item-num\">5.0.1&nbsp;&nbsp;</span>Обрабатываем данные в таблице internet</a></span></li></ul></li><li><span><a href=\"#Таблица-Tariffs\" data-toc-modified-id=\"Таблица-Tariffs-5.1\"><span class=\"toc-item-num\">5.1&nbsp;&nbsp;</span>Таблица Tariffs</a></span></li></ul></li><li><span><a href=\"#Подготовка-данных\" data-toc-modified-id=\"Подготовка-данных-6\"><span class=\"toc-item-num\">6&nbsp;&nbsp;</span>Подготовка данных</a></span><ul class=\"toc-item\"><li><span><a href=\"#Количество-сделанных-звонков-и-израсходованных-минут-разговора-по-месяцам\" data-toc-modified-id=\"Количество-сделанных-звонков-и-израсходованных-минут-разговора-по-месяцам-6.1\"><span class=\"toc-item-num\">6.1&nbsp;&nbsp;</span>Количество сделанных звонков и израсходованных минут разговора по месяцам</a></span></li><li><span><a href=\"#Количество-отправленных-сообщений-по-месяцам\" data-toc-modified-id=\"Количество-отправленных-сообщений-по-месяцам-6.2\"><span class=\"toc-item-num\">6.2&nbsp;&nbsp;</span>Количество отправленных сообщений по месяцам</a></span></li><li><span><a href=\"#Объем-израсходованного-интернет-трафика-по-месяцам\" data-toc-modified-id=\"Объем-израсходованного-интернет-трафика-по-месяцам-6.3\"><span class=\"toc-item-num\">6.3&nbsp;&nbsp;</span>Объем израсходованного интернет трафика по месяцам</a></span><ul class=\"toc-item\"><li><span><a href=\"#Оценка-объема-нулевых-трат-интернет-трафика\" data-toc-modified-id=\"Оценка-объема-нулевых-трат-интернет-трафика-6.3.1\"><span class=\"toc-item-num\">6.3.1&nbsp;&nbsp;</span>Оценка объема нулевых трат интернет-трафика</a></span></li></ul></li></ul></li><li><span><a href=\"#-Комментарий-студента\" data-toc-modified-id=\"-Комментарий-студента-7\"><span class=\"toc-item-num\">7&nbsp;&nbsp;</span> Комментарий студента</a></span></li><li><span><a href=\"#-Комментарий-ревьюера-2\" data-toc-modified-id=\"-Комментарий-ревьюера-2-8\"><span class=\"toc-item-num\">8&nbsp;&nbsp;</span> Комментарий ревьюера 2</a></span><ul class=\"toc-item\"><li><span><a href=\"#Расчет-помесячной-выручки-с-каждого-пользователя\" data-toc-modified-id=\"Расчет-помесячной-выручки-с-каждого-пользователя-8.1\"><span class=\"toc-item-num\">8.1&nbsp;&nbsp;</span>Расчет помесячной выручки с каждого пользователя</a></span><ul class=\"toc-item\"><li><span><a href=\"#Сводим-все-данные-в-одну-таблицу\" data-toc-modified-id=\"Сводим-все-данные-в-одну-таблицу-8.1.1\"><span class=\"toc-item-num\">8.1.1&nbsp;&nbsp;</span>Сводим все данные в одну таблицу</a></span></li></ul></li></ul></li><li><span><a href=\"#-Комментарий-студента\" data-toc-modified-id=\"-Комментарий-студента-9\"><span class=\"toc-item-num\">9&nbsp;&nbsp;</span> Комментарий студента</a></span><ul class=\"toc-item\"><li><ul class=\"toc-item\"><li><span><a href=\"#Непостредственный-расчет-помесячной-выручки\" data-toc-modified-id=\"Непостредственный-расчет-помесячной-выручки-9.0.1\"><span class=\"toc-item-num\">9.0.1&nbsp;&nbsp;</span>Непостредственный расчет помесячной выручки</a></span></li></ul></li></ul></li><li><span><a href=\"#-Комментарий-ревьюера-2\" data-toc-modified-id=\"-Комментарий-ревьюера-2-10\"><span class=\"toc-item-num\">10&nbsp;&nbsp;</span> Комментарий ревьюера 2</a></span></li><li><span><a href=\"#-Комментарий-студента\" data-toc-modified-id=\"-Комментарий-студента-11\"><span class=\"toc-item-num\">11&nbsp;&nbsp;</span> Комментарий студента</a></span></li><li><span><a href=\"#-Комментарий-ревьюера-2\" data-toc-modified-id=\"-Комментарий-ревьюера-2-12\"><span class=\"toc-item-num\">12&nbsp;&nbsp;</span> Комментарий ревьюера 2</a></span></li><li><span><a href=\"#Анализ-данных-и-проверка-гипотез\" data-toc-modified-id=\"Анализ-данных-и-проверка-гипотез-13\"><span class=\"toc-item-num\">13&nbsp;&nbsp;</span>Анализ данных и проверка гипотез</a></span><ul class=\"toc-item\"><li><span><a href=\"#Анализ-данных\" data-toc-modified-id=\"Анализ-данных-13.1\"><span class=\"toc-item-num\">13.1&nbsp;&nbsp;</span>Анализ данных</a></span><ul class=\"toc-item\"><li><span><a href=\"#Количество-звонков-в-месяц\" data-toc-modified-id=\"Количество-звонков-в-месяц-13.1.1\"><span class=\"toc-item-num\">13.1.1&nbsp;&nbsp;</span>Количество звонков в месяц</a></span></li><li><span><a href=\"#Количество-сообщений-в-месяц\" data-toc-modified-id=\"Количество-сообщений-в-месяц-13.1.2\"><span class=\"toc-item-num\">13.1.2&nbsp;&nbsp;</span>Количество сообщений в месяц</a></span></li><li><span><a href=\"#Количество-интернет-трафика-в-месяц\" data-toc-modified-id=\"Количество-интернет-трафика-в-месяц-13.1.3\"><span class=\"toc-item-num\">13.1.3&nbsp;&nbsp;</span>Количество интернет-трафика в месяц</a></span></li><li><span><a href=\"#Расходы-на-связь-в-месяц\" data-toc-modified-id=\"Расходы-на-связь-в-месяц-13.1.4\"><span class=\"toc-item-num\">13.1.4&nbsp;&nbsp;</span>Расходы на связь в месяц</a></span></li></ul></li></ul></li><li><span><a href=\"#-Комментарий-студента\" data-toc-modified-id=\"-Комментарий-студента-14\"><span class=\"toc-item-num\">14&nbsp;&nbsp;</span> Комментарий студента</a></span></li><li><span><a href=\"#-Комментарий-ревьюера-2\" data-toc-modified-id=\"-Комментарий-ревьюера-2-15\"><span class=\"toc-item-num\">15&nbsp;&nbsp;</span> Комментарий ревьюера 2</a></span><ul class=\"toc-item\"><li><span><a href=\"#Проверка-гипотез\" data-toc-modified-id=\"Проверка-гипотез-15.1\"><span class=\"toc-item-num\">15.1&nbsp;&nbsp;</span>Проверка гипотез</a></span><ul class=\"toc-item\"><li><span><a href=\"#Выбор-метода-проверки-гипотез.\" data-toc-modified-id=\"Выбор-метода-проверки-гипотез.-15.1.1\"><span class=\"toc-item-num\">15.1.1&nbsp;&nbsp;</span>Выбор метода проверки гипотез.</a></span></li><li><span><a href=\"#Подготовка-данных-для-проверки-гипотез\" data-toc-modified-id=\"Подготовка-данных-для-проверки-гипотез-15.1.2\"><span class=\"toc-item-num\">15.1.2&nbsp;&nbsp;</span>Подготовка данных для проверки гипотез</a></span></li><li><span><a href=\"#Гипотеза-1,-средняя-выручка-пользователей-тарифов-«Ультра»-и-«Смарт»-различаются\" data-toc-modified-id=\"Гипотеза-1,-средняя-выручка-пользователей-тарифов-«Ультра»-и-«Смарт»-различаются-15.1.3\"><span class=\"toc-item-num\">15.1.3&nbsp;&nbsp;</span>Гипотеза 1, средняя выручка пользователей тарифов «Ультра» и «Смарт» различаются</a></span></li><li><span><a href=\"#Гипотеза-2,-средняя-выручка-пользователей-из-Москвы-отличается-от-выручки-пользователей-из-других-регионов\" data-toc-modified-id=\"Гипотеза-2,-средняя-выручка-пользователей-из-Москвы-отличается-от-выручки-пользователей-из-других-регионов-15.1.4\"><span class=\"toc-item-num\">15.1.4&nbsp;&nbsp;</span>Гипотеза 2, средняя выручка пользователей из Москвы отличается от выручки пользователей из других регионов</a></span></li></ul></li></ul></li><li><span><a href=\"#Общие-выводы\" data-toc-modified-id=\"Общие-выводы-16\"><span class=\"toc-item-num\">16&nbsp;&nbsp;</span>Общие выводы</a></span></li><li><span><a href=\"#-Комментарий-студента\" data-toc-modified-id=\"-Комментарий-студента-17\"><span class=\"toc-item-num\">17&nbsp;&nbsp;</span> Комментарий студента</a></span></li><li><span><a href=\"#-Комментарий-ревьюера-2\" data-toc-modified-id=\"-Комментарий-ревьюера-2-18\"><span class=\"toc-item-num\">18&nbsp;&nbsp;</span> Комментарий ревьюера 2</a></span></li><li><span><a href=\"#Чек-лист-выполнения\" data-toc-modified-id=\"Чек-лист-выполнения-19\"><span class=\"toc-item-num\">19&nbsp;&nbsp;</span>Чек-лист выполнения</a></span></li></ul></div>"
   ]
  },
  {
   "cell_type": "markdown",
   "metadata": {},
   "source": [
    "## Описание проекта"
   ]
  },
  {
   "cell_type": "markdown",
   "metadata": {},
   "source": [
    "Вы аналитик компании «Мегалайн» — федерального оператора сотовой связи. Клиентам предлагают два тарифных плана: «Смарт» и «Ультра». Чтобы скорректировать рекламный бюджет, коммерческий департамент хочет понять, какой тариф приносит больше денег.\n",
    "Вам предстоит сделать предварительный анализ тарифов на небольшой выборке клиентов. В вашем распоряжении данные 500 пользователей «Мегалайна»: кто они, откуда, каким тарифом пользуются, сколько звонков и сообщений каждый отправил за 2018 год. Нужно проанализировать поведение клиентов и сделать вывод — какой тариф лучше.\n",
    "\n",
    "**Описание тарифов**\n",
    "\n",
    "**Тариф «Смарт»**\n",
    "Ежемесячная плата: 550 рублей\n",
    "Включено 500 минут разговора, 50 сообщений и 15 Гб интернет-трафика\n",
    "Стоимость услуг сверх тарифного пакета: 1. минута разговора: 3 рубля («Мегалайн» всегда округляет вверх значения минут и мегабайтов. Если пользователь проговорил всего 1 секунду, в тарифе засчитывается целая минута); 2. сообщение: 3 рубля; 3. 1 Гб интернет-трафика: 200 рублей.\n",
    "\n",
    "**Тариф «Ультра»**\n",
    "Ежемесячная плата: 1950 рублей\n",
    "Включено 3000 минут разговора, 1000 сообщений и 30 Гб интернет-трафика\n",
    "Стоимость услуг сверх тарифного пакета: 1. минута разговора: 1 рубль; 2. сообщение: 1 рубль; 3. 1 Гб интернет-трафика: 150 рублей.\n",
    "\n",
    "Примечание:\n",
    "«Мегалайн» всегда округляет секунды до минут, а мегабайты — до гигабайт. Каждый звонок округляется отдельно: даже если он длился всего 1 секунду, будет засчитан как 1 минута.\n",
    "Для веб-трафика отдельные сессии не считаются. Вместо этого общая сумма за месяц округляется в бо́льшую сторону. Если абонент использует 1025 мегабайт в этом месяце, с него возьмут плату за 2 гигабайта.\n",
    "Инструкция по выполнению проекта\n",
    "\n",
    "Шаг 1. Откройте файл с данными и изучите общую информацию\n",
    "Путь к файлам:\n",
    "- /datasets/calls.csv.\n",
    "- /datasets/internet.csv.\n",
    "- /datasets/messages.csv.\n",
    "- /datasets/tariffs.csv.\n",
    "- /datasets/users.csv.\n",
    "\n",
    "Шаг 2. Подготовьте данные\n",
    "\n",
    "Приведите данные к нужным типам;\n",
    "\n",
    "Найдите и исправьте ошибки в данных, если они есть.\n",
    "\n",
    "Поясните, какие ошибки вы нашли и как их исправили. В данных вы найдёте звонки с нулевой продолжительностью. Это не ошибка: нулями обозначены пропущенные звонки, поэтому их не нужно удалять.\n",
    "\n",
    "Посчитайте для каждого пользователя:\n",
    "- количество сделанных звонков и израсходованных минут разговора по месяцам;\n",
    "- количество отправленных сообщений по месяцам;\n",
    "- объем израсходованного интернет-трафика по месяцам;\n",
    "- помесячную выручку с каждого пользователя (вычтите бесплатный лимит из суммарного количества звонков, сообщений и интернет-трафика; остаток умножьте на значение из тарифного плана; прибавьте абонентскую плату, соответствующую тарифному плану).\n",
    "\n",
    "Шаг 3. Проанализируйте данные\n",
    "\n",
    "- Опишите поведение клиентов оператора, исходя из выборки. \n",
    "- Сколько минут разговора, сколько сообщений и какой объём интернет-трафика требуется пользователям каждого тарифа в месяц? \n",
    "- Посчитайте среднее количество, дисперсию и стандартное отклонение. \n",
    "- Постройте гистограммы. \n",
    "- Опишите распределения.\n",
    "\n",
    "Шаг 4. Проверьте гипотезы\n",
    "\n",
    "- средняя выручка пользователей тарифов «Ультра» и «Смарт» различаются;\n",
    "- средняя выручка пользователей из Москвы отличается от выручки пользователей из других регионов.\n",
    "Пороговое значение alpha задайте самостоятельно.\n",
    "Поясните:\n",
    "как вы формулировали нулевую и альтернативную гипотезы;\n",
    "какой критерий использовали для проверки гипотез и почему.\n",
    "\n",
    "Шаг 5. Напишите общий вывод\n",
    "Оформление: Задание выполните в Jupyter Notebook. Программный код заполните в ячейках типа code, текстовые пояснения — в ячейках типа markdown. Примените форматирование и заголовки.\n",
    "\n",
    "Описание данных\n",
    "\n",
    "**Таблица users (информация о пользователях)**:\n",
    "- user_id — уникальный идентификатор пользователя\n",
    "- first_name — имя пользователя\n",
    "- last_name — фамилия пользователя\n",
    "- age — возраст пользователя (годы)\n",
    "- reg_date — дата подключения тарифа (день, месяц, год)\n",
    "- churn_date — дата прекращения пользования тарифом (если значение пропущено, то тариф ещё действовал на момент выгрузки данных)\n",
    "- city — город проживания пользователя\n",
    "- tarif — название тарифного плана\n",
    "\n",
    "Таблица calls (информация о звонках):\n",
    "- id — уникальный номер звонка\n",
    "- call_date — дата звонка\n",
    "- duration — длительность звонка в минутах\n",
    "- user_id — идентификатор пользователя, сделавшего звонок\n",
    "\n",
    "Таблица messages (информация о сообщениях):\n",
    "- id — уникальный номер сообщения\n",
    "- message_date — дата сообщения\n",
    "- user_id — идентификатор пользователя, отправившего сообщение\n",
    "\n",
    "Таблица internet (информация об интернет-сессиях):\n",
    "- id — уникальный номер сессии\n",
    "- mb_used — объём потраченного за сессию интернет-трафика (в мегабайтах)\n",
    "- session_date — дата интернет-сессии\n",
    "- user_id — идентификатор пользователя\n",
    "\n",
    "Таблица tariffs (информация о тарифах):\n",
    "- tariff_name — название тарифа\n",
    "- rub_monthly_fee — ежемесячная абонентская плата в рублях\n",
    "- minutes_included — количество минут разговора в месяц, включённых в абонентскую плату\n",
    "- messages_included — количество сообщений в месяц, включённых в абонентскую плату\n",
    "- mb_per_month_included — объём интернет-трафика, включённого в абонентскую плату (в мегабайтах)\n",
    "- rub_per_minute — стоимость минуты разговора сверх тарифного пакета (например, если в тарифе 100 минут разговора в месяц, то со 101 минуты будет взиматься плата)\n",
    "- rub_per_message — стоимость отправки сообщения сверх тарифного пакета\n",
    "- rub_per_gb — стоимость дополнительного гигабайта интернет-трафика сверх тарифного пакета (1 гигабайт = 1024 мегабайта)"
   ]
  },
  {
   "cell_type": "markdown",
   "metadata": {},
   "source": [
    "<div class=\"alert alert-success\" style=\"border-radius: 15px; box-shadow: 4px 4px 4px; border: 1px solid \">\n",
    "<b>Комментарий ревьюера</b>\n",
    "    \n",
    "Правильно делаешь, что добавляешь описание задачи и данных. Это поможет быстро вспомнить, о чем проект, если ты к нему вернешься спустя какое-то время. Кроме того, так работа выглядит презентабельнее. \n",
    "</div>"
   ]
  },
  {
   "cell_type": "markdown",
   "metadata": {},
   "source": [
    "## Открываем файлы, загружаем необходимые библиотеки и инструменты"
   ]
  },
  {
   "cell_type": "code",
   "execution_count": 84,
   "metadata": {},
   "outputs": [],
   "source": [
    "import pandas as pd\n",
    "import numpy as np\n",
    "import matplotlib.pyplot as plt\n",
    "\n",
    "from datetime import datetime\n",
    "from scipy import stats as st"
   ]
  },
  {
   "cell_type": "code",
   "execution_count": 85,
   "metadata": {},
   "outputs": [],
   "source": [
    "pd.set_option('display.max_columns', None)\n",
    "pd.options.display.float_format = '{:,.2f}'.format"
   ]
  },
  {
   "cell_type": "code",
   "execution_count": 86,
   "metadata": {},
   "outputs": [],
   "source": [
    "users = pd.read_csv('/datasets/users.csv')\n",
    "calls = pd.read_csv('/datasets/calls.csv')\n",
    "messages = pd.read_csv('/datasets/messages.csv')\n",
    "internet = pd.read_csv('/datasets/internet.csv')\n",
    "tariffs = pd.read_csv('/datasets/tariffs.csv')"
   ]
  },
  {
   "cell_type": "code",
   "execution_count": 87,
   "metadata": {},
   "outputs": [],
   "source": [
    "font = {'family': 'monospace',\n",
    "        'color':  '#000000',\n",
    "        'weight': 'bold',\n",
    "        'size': 14,\n",
    "        }"
   ]
  },
  {
   "cell_type": "markdown",
   "metadata": {},
   "source": [
    "## Предобработка данных"
   ]
  },
  {
   "cell_type": "markdown",
   "metadata": {},
   "source": [
    "Последовательно откроем каждый датасет и пройдем по нему методами info(), sample(10), describe(), затем приведем в порядок данные, там где это потребуется."
   ]
  },
  {
   "cell_type": "markdown",
   "metadata": {},
   "source": [
    "### Таблица Users"
   ]
  },
  {
   "cell_type": "code",
   "execution_count": 88,
   "metadata": {
    "scrolled": false
   },
   "outputs": [
    {
     "name": "stdout",
     "output_type": "stream",
     "text": [
      "<class 'pandas.core.frame.DataFrame'>\n",
      "RangeIndex: 500 entries, 0 to 499\n",
      "Data columns (total 8 columns):\n",
      "user_id       500 non-null int64\n",
      "age           500 non-null int64\n",
      "churn_date    38 non-null object\n",
      "city          500 non-null object\n",
      "first_name    500 non-null object\n",
      "last_name     500 non-null object\n",
      "reg_date      500 non-null object\n",
      "tariff        500 non-null object\n",
      "dtypes: int64(2), object(6)\n",
      "memory usage: 31.4+ KB\n"
     ]
    }
   ],
   "source": [
    "users.info()"
   ]
  },
  {
   "cell_type": "markdown",
   "metadata": {},
   "source": [
    "38 человек решили расторгнуть действие договора, тип данных в колонках с датами **churn_date** и **reg_date** в неверном формате. В остальных колонках типы данные верны. Пропусков нет."
   ]
  },
  {
   "cell_type": "code",
   "execution_count": 89,
   "metadata": {
    "scrolled": false
   },
   "outputs": [
    {
     "data": {
      "text/html": [
       "<div>\n",
       "<style scoped>\n",
       "    .dataframe tbody tr th:only-of-type {\n",
       "        vertical-align: middle;\n",
       "    }\n",
       "\n",
       "    .dataframe tbody tr th {\n",
       "        vertical-align: top;\n",
       "    }\n",
       "\n",
       "    .dataframe thead th {\n",
       "        text-align: right;\n",
       "    }\n",
       "</style>\n",
       "<table border=\"1\" class=\"dataframe\">\n",
       "  <thead>\n",
       "    <tr style=\"text-align: right;\">\n",
       "      <th></th>\n",
       "      <th>user_id</th>\n",
       "      <th>age</th>\n",
       "      <th>churn_date</th>\n",
       "      <th>city</th>\n",
       "      <th>first_name</th>\n",
       "      <th>last_name</th>\n",
       "      <th>reg_date</th>\n",
       "      <th>tariff</th>\n",
       "    </tr>\n",
       "  </thead>\n",
       "  <tbody>\n",
       "    <tr>\n",
       "      <td>437</td>\n",
       "      <td>1437</td>\n",
       "      <td>73</td>\n",
       "      <td>NaN</td>\n",
       "      <td>Казань</td>\n",
       "      <td>Лилия</td>\n",
       "      <td>Селезнева</td>\n",
       "      <td>2018-08-03</td>\n",
       "      <td>smart</td>\n",
       "    </tr>\n",
       "    <tr>\n",
       "      <td>253</td>\n",
       "      <td>1253</td>\n",
       "      <td>29</td>\n",
       "      <td>NaN</td>\n",
       "      <td>Астрахань</td>\n",
       "      <td>Алла</td>\n",
       "      <td>Масленникова</td>\n",
       "      <td>2018-08-06</td>\n",
       "      <td>ultra</td>\n",
       "    </tr>\n",
       "    <tr>\n",
       "      <td>467</td>\n",
       "      <td>1467</td>\n",
       "      <td>66</td>\n",
       "      <td>NaN</td>\n",
       "      <td>Киров</td>\n",
       "      <td>Исак</td>\n",
       "      <td>Александрюк</td>\n",
       "      <td>2018-11-24</td>\n",
       "      <td>ultra</td>\n",
       "    </tr>\n",
       "    <tr>\n",
       "      <td>100</td>\n",
       "      <td>1100</td>\n",
       "      <td>58</td>\n",
       "      <td>NaN</td>\n",
       "      <td>Санкт-Петербург</td>\n",
       "      <td>Руслан</td>\n",
       "      <td>Красильников</td>\n",
       "      <td>2018-07-02</td>\n",
       "      <td>smart</td>\n",
       "    </tr>\n",
       "    <tr>\n",
       "      <td>34</td>\n",
       "      <td>1034</td>\n",
       "      <td>66</td>\n",
       "      <td>2018-11-21</td>\n",
       "      <td>Вологда</td>\n",
       "      <td>Святослав</td>\n",
       "      <td>Бондарев</td>\n",
       "      <td>2018-08-26</td>\n",
       "      <td>smart</td>\n",
       "    </tr>\n",
       "    <tr>\n",
       "      <td>484</td>\n",
       "      <td>1484</td>\n",
       "      <td>55</td>\n",
       "      <td>NaN</td>\n",
       "      <td>Екатеринбург</td>\n",
       "      <td>Илзе</td>\n",
       "      <td>Абалдуева</td>\n",
       "      <td>2018-08-04</td>\n",
       "      <td>smart</td>\n",
       "    </tr>\n",
       "    <tr>\n",
       "      <td>116</td>\n",
       "      <td>1116</td>\n",
       "      <td>65</td>\n",
       "      <td>NaN</td>\n",
       "      <td>Петрозаводск</td>\n",
       "      <td>Альберта</td>\n",
       "      <td>Шевцова</td>\n",
       "      <td>2018-04-17</td>\n",
       "      <td>smart</td>\n",
       "    </tr>\n",
       "    <tr>\n",
       "      <td>30</td>\n",
       "      <td>1030</td>\n",
       "      <td>28</td>\n",
       "      <td>NaN</td>\n",
       "      <td>Махачкала</td>\n",
       "      <td>Мариетта</td>\n",
       "      <td>Русанова</td>\n",
       "      <td>2018-05-23</td>\n",
       "      <td>smart</td>\n",
       "    </tr>\n",
       "    <tr>\n",
       "      <td>317</td>\n",
       "      <td>1317</td>\n",
       "      <td>45</td>\n",
       "      <td>NaN</td>\n",
       "      <td>Москва</td>\n",
       "      <td>Всеволод</td>\n",
       "      <td>Зыков</td>\n",
       "      <td>2018-07-09</td>\n",
       "      <td>smart</td>\n",
       "    </tr>\n",
       "    <tr>\n",
       "      <td>373</td>\n",
       "      <td>1373</td>\n",
       "      <td>34</td>\n",
       "      <td>NaN</td>\n",
       "      <td>Улан-Удэ</td>\n",
       "      <td>Нелли</td>\n",
       "      <td>Афанасенко</td>\n",
       "      <td>2018-01-17</td>\n",
       "      <td>smart</td>\n",
       "    </tr>\n",
       "  </tbody>\n",
       "</table>\n",
       "</div>"
      ],
      "text/plain": [
       "     user_id  age  churn_date             city first_name     last_name  \\\n",
       "437     1437   73         NaN           Казань      Лилия     Селезнева   \n",
       "253     1253   29         NaN        Астрахань       Алла  Масленникова   \n",
       "467     1467   66         NaN            Киров       Исак   Александрюк   \n",
       "100     1100   58         NaN  Санкт-Петербург     Руслан  Красильников   \n",
       "34      1034   66  2018-11-21          Вологда  Святослав      Бондарев   \n",
       "484     1484   55         NaN     Екатеринбург       Илзе     Абалдуева   \n",
       "116     1116   65         NaN     Петрозаводск   Альберта       Шевцова   \n",
       "30      1030   28         NaN        Махачкала   Мариетта      Русанова   \n",
       "317     1317   45         NaN           Москва   Всеволод         Зыков   \n",
       "373     1373   34         NaN         Улан-Удэ      Нелли    Афанасенко   \n",
       "\n",
       "       reg_date tariff  \n",
       "437  2018-08-03  smart  \n",
       "253  2018-08-06  ultra  \n",
       "467  2018-11-24  ultra  \n",
       "100  2018-07-02  smart  \n",
       "34   2018-08-26  smart  \n",
       "484  2018-08-04  smart  \n",
       "116  2018-04-17  smart  \n",
       "30   2018-05-23  smart  \n",
       "317  2018-07-09  smart  \n",
       "373  2018-01-17  smart  "
      ]
     },
     "execution_count": 89,
     "metadata": {},
     "output_type": "execute_result"
    }
   ],
   "source": [
    "users.sample(10)"
   ]
  },
  {
   "cell_type": "code",
   "execution_count": 90,
   "metadata": {
    "scrolled": true
   },
   "outputs": [
    {
     "data": {
      "text/html": [
       "<div>\n",
       "<style scoped>\n",
       "    .dataframe tbody tr th:only-of-type {\n",
       "        vertical-align: middle;\n",
       "    }\n",
       "\n",
       "    .dataframe tbody tr th {\n",
       "        vertical-align: top;\n",
       "    }\n",
       "\n",
       "    .dataframe thead th {\n",
       "        text-align: right;\n",
       "    }\n",
       "</style>\n",
       "<table border=\"1\" class=\"dataframe\">\n",
       "  <thead>\n",
       "    <tr style=\"text-align: right;\">\n",
       "      <th></th>\n",
       "      <th>user_id</th>\n",
       "      <th>age</th>\n",
       "    </tr>\n",
       "  </thead>\n",
       "  <tbody>\n",
       "    <tr>\n",
       "      <td>count</td>\n",
       "      <td>500.00</td>\n",
       "      <td>500.00</td>\n",
       "    </tr>\n",
       "    <tr>\n",
       "      <td>mean</td>\n",
       "      <td>1,249.50</td>\n",
       "      <td>46.59</td>\n",
       "    </tr>\n",
       "    <tr>\n",
       "      <td>std</td>\n",
       "      <td>144.48</td>\n",
       "      <td>16.67</td>\n",
       "    </tr>\n",
       "    <tr>\n",
       "      <td>min</td>\n",
       "      <td>1,000.00</td>\n",
       "      <td>18.00</td>\n",
       "    </tr>\n",
       "    <tr>\n",
       "      <td>25%</td>\n",
       "      <td>1,124.75</td>\n",
       "      <td>32.00</td>\n",
       "    </tr>\n",
       "    <tr>\n",
       "      <td>50%</td>\n",
       "      <td>1,249.50</td>\n",
       "      <td>46.00</td>\n",
       "    </tr>\n",
       "    <tr>\n",
       "      <td>75%</td>\n",
       "      <td>1,374.25</td>\n",
       "      <td>62.00</td>\n",
       "    </tr>\n",
       "    <tr>\n",
       "      <td>max</td>\n",
       "      <td>1,499.00</td>\n",
       "      <td>75.00</td>\n",
       "    </tr>\n",
       "  </tbody>\n",
       "</table>\n",
       "</div>"
      ],
      "text/plain": [
       "       user_id    age\n",
       "count   500.00 500.00\n",
       "mean  1,249.50  46.59\n",
       "std     144.48  16.67\n",
       "min   1,000.00  18.00\n",
       "25%   1,124.75  32.00\n",
       "50%   1,249.50  46.00\n",
       "75%   1,374.25  62.00\n",
       "max   1,499.00  75.00"
      ]
     },
     "execution_count": 90,
     "metadata": {},
     "output_type": "execute_result"
    }
   ],
   "source": [
    "users.describe()"
   ]
  },
  {
   "cell_type": "markdown",
   "metadata": {},
   "source": [
    "С возрастом все в порядке, аномальных значений нет, начинается с 18 лет, все в соответствии с логикой."
   ]
  },
  {
   "cell_type": "markdown",
   "metadata": {},
   "source": [
    "#### Обрабатываем данные в таблице Users"
   ]
  },
  {
   "cell_type": "markdown",
   "metadata": {},
   "source": [
    "Выполним типа данных в колонках с датами."
   ]
  },
  {
   "cell_type": "code",
   "execution_count": 91,
   "metadata": {},
   "outputs": [],
   "source": [
    "users['churn_date'] = pd.to_datetime(users['churn_date'], format=\"%Y-%m-%d\")\n",
    "users['reg_date'] = pd.to_datetime(users['reg_date'], format=\"%Y-%m-%d\")"
   ]
  },
  {
   "cell_type": "markdown",
   "metadata": {},
   "source": [
    "Выполняем проверку."
   ]
  },
  {
   "cell_type": "code",
   "execution_count": 92,
   "metadata": {},
   "outputs": [
    {
     "name": "stdout",
     "output_type": "stream",
     "text": [
      "<class 'pandas.core.frame.DataFrame'>\n",
      "RangeIndex: 500 entries, 0 to 499\n",
      "Data columns (total 8 columns):\n",
      "user_id       500 non-null int64\n",
      "age           500 non-null int64\n",
      "churn_date    38 non-null datetime64[ns]\n",
      "city          500 non-null object\n",
      "first_name    500 non-null object\n",
      "last_name     500 non-null object\n",
      "reg_date      500 non-null datetime64[ns]\n",
      "tariff        500 non-null object\n",
      "dtypes: datetime64[ns](2), int64(2), object(4)\n",
      "memory usage: 31.4+ KB\n"
     ]
    }
   ],
   "source": [
    "users.info()"
   ]
  },
  {
   "cell_type": "code",
   "execution_count": 93,
   "metadata": {
    "scrolled": true
   },
   "outputs": [
    {
     "data": {
      "text/html": [
       "<div>\n",
       "<style scoped>\n",
       "    .dataframe tbody tr th:only-of-type {\n",
       "        vertical-align: middle;\n",
       "    }\n",
       "\n",
       "    .dataframe tbody tr th {\n",
       "        vertical-align: top;\n",
       "    }\n",
       "\n",
       "    .dataframe thead th {\n",
       "        text-align: right;\n",
       "    }\n",
       "</style>\n",
       "<table border=\"1\" class=\"dataframe\">\n",
       "  <thead>\n",
       "    <tr style=\"text-align: right;\">\n",
       "      <th></th>\n",
       "      <th>user_id</th>\n",
       "      <th>age</th>\n",
       "      <th>churn_date</th>\n",
       "      <th>city</th>\n",
       "      <th>first_name</th>\n",
       "      <th>last_name</th>\n",
       "      <th>reg_date</th>\n",
       "      <th>tariff</th>\n",
       "    </tr>\n",
       "  </thead>\n",
       "  <tbody>\n",
       "    <tr>\n",
       "      <td>192</td>\n",
       "      <td>1192</td>\n",
       "      <td>41</td>\n",
       "      <td>NaT</td>\n",
       "      <td>Сургут</td>\n",
       "      <td>Степан</td>\n",
       "      <td>Мальцев</td>\n",
       "      <td>2018-12-04</td>\n",
       "      <td>ultra</td>\n",
       "    </tr>\n",
       "    <tr>\n",
       "      <td>383</td>\n",
       "      <td>1383</td>\n",
       "      <td>41</td>\n",
       "      <td>NaT</td>\n",
       "      <td>Ульяновск</td>\n",
       "      <td>Юна</td>\n",
       "      <td>Сомова</td>\n",
       "      <td>2018-10-24</td>\n",
       "      <td>smart</td>\n",
       "    </tr>\n",
       "    <tr>\n",
       "      <td>457</td>\n",
       "      <td>1457</td>\n",
       "      <td>35</td>\n",
       "      <td>NaT</td>\n",
       "      <td>Саратов</td>\n",
       "      <td>Татьяна</td>\n",
       "      <td>Авчинникова</td>\n",
       "      <td>2018-03-14</td>\n",
       "      <td>smart</td>\n",
       "    </tr>\n",
       "    <tr>\n",
       "      <td>77</td>\n",
       "      <td>1077</td>\n",
       "      <td>18</td>\n",
       "      <td>NaT</td>\n",
       "      <td>Москва</td>\n",
       "      <td>Марица</td>\n",
       "      <td>Кольцова</td>\n",
       "      <td>2018-10-23</td>\n",
       "      <td>smart</td>\n",
       "    </tr>\n",
       "    <tr>\n",
       "      <td>401</td>\n",
       "      <td>1401</td>\n",
       "      <td>42</td>\n",
       "      <td>NaT</td>\n",
       "      <td>Москва</td>\n",
       "      <td>Владислава</td>\n",
       "      <td>Васильева</td>\n",
       "      <td>2018-01-24</td>\n",
       "      <td>smart</td>\n",
       "    </tr>\n",
       "    <tr>\n",
       "      <td>32</td>\n",
       "      <td>1032</td>\n",
       "      <td>31</td>\n",
       "      <td>NaT</td>\n",
       "      <td>Ульяновск</td>\n",
       "      <td>Инна</td>\n",
       "      <td>Игнатьева</td>\n",
       "      <td>2018-01-04</td>\n",
       "      <td>smart</td>\n",
       "    </tr>\n",
       "    <tr>\n",
       "      <td>108</td>\n",
       "      <td>1108</td>\n",
       "      <td>70</td>\n",
       "      <td>NaT</td>\n",
       "      <td>Москва</td>\n",
       "      <td>Рафаил</td>\n",
       "      <td>Болдырев</td>\n",
       "      <td>2018-11-01</td>\n",
       "      <td>smart</td>\n",
       "    </tr>\n",
       "    <tr>\n",
       "      <td>210</td>\n",
       "      <td>1210</td>\n",
       "      <td>33</td>\n",
       "      <td>NaT</td>\n",
       "      <td>Севастополь</td>\n",
       "      <td>Евфросинья</td>\n",
       "      <td>Серебрякова</td>\n",
       "      <td>2018-07-29</td>\n",
       "      <td>smart</td>\n",
       "    </tr>\n",
       "    <tr>\n",
       "      <td>224</td>\n",
       "      <td>1224</td>\n",
       "      <td>58</td>\n",
       "      <td>NaT</td>\n",
       "      <td>Магнитогорск</td>\n",
       "      <td>Ахмет</td>\n",
       "      <td>Тарасов</td>\n",
       "      <td>2018-04-24</td>\n",
       "      <td>smart</td>\n",
       "    </tr>\n",
       "    <tr>\n",
       "      <td>95</td>\n",
       "      <td>1095</td>\n",
       "      <td>70</td>\n",
       "      <td>NaT</td>\n",
       "      <td>Новосибирск</td>\n",
       "      <td>Марианна</td>\n",
       "      <td>Кабанова</td>\n",
       "      <td>2018-12-23</td>\n",
       "      <td>smart</td>\n",
       "    </tr>\n",
       "  </tbody>\n",
       "</table>\n",
       "</div>"
      ],
      "text/plain": [
       "     user_id  age churn_date          city  first_name    last_name  \\\n",
       "192     1192   41        NaT        Сургут      Степан      Мальцев   \n",
       "383     1383   41        NaT     Ульяновск         Юна       Сомова   \n",
       "457     1457   35        NaT       Саратов     Татьяна  Авчинникова   \n",
       "77      1077   18        NaT        Москва      Марица     Кольцова   \n",
       "401     1401   42        NaT        Москва  Владислава    Васильева   \n",
       "32      1032   31        NaT     Ульяновск        Инна    Игнатьева   \n",
       "108     1108   70        NaT        Москва      Рафаил     Болдырев   \n",
       "210     1210   33        NaT   Севастополь  Евфросинья  Серебрякова   \n",
       "224     1224   58        NaT  Магнитогорск       Ахмет      Тарасов   \n",
       "95      1095   70        NaT   Новосибирск    Марианна     Кабанова   \n",
       "\n",
       "      reg_date tariff  \n",
       "192 2018-12-04  ultra  \n",
       "383 2018-10-24  smart  \n",
       "457 2018-03-14  smart  \n",
       "77  2018-10-23  smart  \n",
       "401 2018-01-24  smart  \n",
       "32  2018-01-04  smart  \n",
       "108 2018-11-01  smart  \n",
       "210 2018-07-29  smart  \n",
       "224 2018-04-24  smart  \n",
       "95  2018-12-23  smart  "
      ]
     },
     "execution_count": 93,
     "metadata": {},
     "output_type": "execute_result"
    }
   ],
   "source": [
    "users.sample(10)"
   ]
  },
  {
   "cell_type": "markdown",
   "metadata": {},
   "source": [
    "Замена типов данных произведена корректно."
   ]
  },
  {
   "cell_type": "markdown",
   "metadata": {},
   "source": [
    "Проверим наличие дубликатов."
   ]
  },
  {
   "cell_type": "code",
   "execution_count": 94,
   "metadata": {},
   "outputs": [
    {
     "data": {
      "text/plain": [
       "0"
      ]
     },
     "execution_count": 94,
     "metadata": {},
     "output_type": "execute_result"
    }
   ],
   "source": [
    "users.duplicated().sum()"
   ]
  },
  {
   "cell_type": "markdown",
   "metadata": {},
   "source": [
    "Дубликатов нет."
   ]
  },
  {
   "cell_type": "markdown",
   "metadata": {},
   "source": [
    "Выполним переименование столбца **tariff** в **tariff_name**."
   ]
  },
  {
   "cell_type": "code",
   "execution_count": 95,
   "metadata": {},
   "outputs": [],
   "source": [
    "users = users.rename(columns={'tariff':'tariff_name'})"
   ]
  },
  {
   "cell_type": "markdown",
   "metadata": {},
   "source": [
    "**Вывод**"
   ]
  },
  {
   "cell_type": "markdown",
   "metadata": {},
   "source": [
    "Изучены данные в таблице **users**, были выявлены проблемы с неверным типом данных для столбцов с датами, произведено исправление типов данных."
   ]
  },
  {
   "cell_type": "markdown",
   "metadata": {},
   "source": [
    "### Таблица Calls"
   ]
  },
  {
   "cell_type": "code",
   "execution_count": 96,
   "metadata": {},
   "outputs": [
    {
     "name": "stdout",
     "output_type": "stream",
     "text": [
      "<class 'pandas.core.frame.DataFrame'>\n",
      "RangeIndex: 202607 entries, 0 to 202606\n",
      "Data columns (total 4 columns):\n",
      "id           202607 non-null object\n",
      "call_date    202607 non-null object\n",
      "duration     202607 non-null float64\n",
      "user_id      202607 non-null int64\n",
      "dtypes: float64(1), int64(1), object(2)\n",
      "memory usage: 6.2+ MB\n"
     ]
    }
   ],
   "source": [
    "calls.info()"
   ]
  },
  {
   "cell_type": "markdown",
   "metadata": {},
   "source": [
    "Пропущенных значений в данных нет, есть вновь ошибка с типом данных в колонке **call_date**, в остальных данных типы указаны корректно. Из задания помним, что длительности звонков огругляются в большую сторону до целых, поэтому затем приведем данные к типу **int()** с округлением вверх."
   ]
  },
  {
   "cell_type": "code",
   "execution_count": 97,
   "metadata": {},
   "outputs": [
    {
     "data": {
      "text/html": [
       "<div>\n",
       "<style scoped>\n",
       "    .dataframe tbody tr th:only-of-type {\n",
       "        vertical-align: middle;\n",
       "    }\n",
       "\n",
       "    .dataframe tbody tr th {\n",
       "        vertical-align: top;\n",
       "    }\n",
       "\n",
       "    .dataframe thead th {\n",
       "        text-align: right;\n",
       "    }\n",
       "</style>\n",
       "<table border=\"1\" class=\"dataframe\">\n",
       "  <thead>\n",
       "    <tr style=\"text-align: right;\">\n",
       "      <th></th>\n",
       "      <th>id</th>\n",
       "      <th>call_date</th>\n",
       "      <th>duration</th>\n",
       "      <th>user_id</th>\n",
       "    </tr>\n",
       "  </thead>\n",
       "  <tbody>\n",
       "    <tr>\n",
       "      <td>109215</td>\n",
       "      <td>1282_109</td>\n",
       "      <td>2018-11-30</td>\n",
       "      <td>14.27</td>\n",
       "      <td>1282</td>\n",
       "    </tr>\n",
       "    <tr>\n",
       "      <td>130880</td>\n",
       "      <td>1335_357</td>\n",
       "      <td>2018-10-13</td>\n",
       "      <td>0.00</td>\n",
       "      <td>1335</td>\n",
       "    </tr>\n",
       "    <tr>\n",
       "      <td>56775</td>\n",
       "      <td>1144_146</td>\n",
       "      <td>2018-07-12</td>\n",
       "      <td>6.48</td>\n",
       "      <td>1144</td>\n",
       "    </tr>\n",
       "    <tr>\n",
       "      <td>89259</td>\n",
       "      <td>1224_176</td>\n",
       "      <td>2018-08-28</td>\n",
       "      <td>0.00</td>\n",
       "      <td>1224</td>\n",
       "    </tr>\n",
       "    <tr>\n",
       "      <td>112031</td>\n",
       "      <td>1288_173</td>\n",
       "      <td>2018-11-22</td>\n",
       "      <td>10.17</td>\n",
       "      <td>1288</td>\n",
       "    </tr>\n",
       "    <tr>\n",
       "      <td>80171</td>\n",
       "      <td>1200_74</td>\n",
       "      <td>2018-12-28</td>\n",
       "      <td>8.94</td>\n",
       "      <td>1200</td>\n",
       "    </tr>\n",
       "    <tr>\n",
       "      <td>192490</td>\n",
       "      <td>1472_303</td>\n",
       "      <td>2018-03-20</td>\n",
       "      <td>4.29</td>\n",
       "      <td>1472</td>\n",
       "    </tr>\n",
       "    <tr>\n",
       "      <td>185812</td>\n",
       "      <td>1458_1104</td>\n",
       "      <td>2018-12-11</td>\n",
       "      <td>0.90</td>\n",
       "      <td>1458</td>\n",
       "    </tr>\n",
       "    <tr>\n",
       "      <td>41713</td>\n",
       "      <td>1102_140</td>\n",
       "      <td>2018-12-14</td>\n",
       "      <td>1.28</td>\n",
       "      <td>1102</td>\n",
       "    </tr>\n",
       "    <tr>\n",
       "      <td>107552</td>\n",
       "      <td>1277_331</td>\n",
       "      <td>2018-08-14</td>\n",
       "      <td>0.00</td>\n",
       "      <td>1277</td>\n",
       "    </tr>\n",
       "  </tbody>\n",
       "</table>\n",
       "</div>"
      ],
      "text/plain": [
       "               id   call_date  duration  user_id\n",
       "109215   1282_109  2018-11-30     14.27     1282\n",
       "130880   1335_357  2018-10-13      0.00     1335\n",
       "56775    1144_146  2018-07-12      6.48     1144\n",
       "89259    1224_176  2018-08-28      0.00     1224\n",
       "112031   1288_173  2018-11-22     10.17     1288\n",
       "80171     1200_74  2018-12-28      8.94     1200\n",
       "192490   1472_303  2018-03-20      4.29     1472\n",
       "185812  1458_1104  2018-12-11      0.90     1458\n",
       "41713    1102_140  2018-12-14      1.28     1102\n",
       "107552   1277_331  2018-08-14      0.00     1277"
      ]
     },
     "execution_count": 97,
     "metadata": {},
     "output_type": "execute_result"
    }
   ],
   "source": [
    "calls.sample(10)"
   ]
  },
  {
   "cell_type": "code",
   "execution_count": 98,
   "metadata": {},
   "outputs": [
    {
     "data": {
      "text/html": [
       "<div>\n",
       "<style scoped>\n",
       "    .dataframe tbody tr th:only-of-type {\n",
       "        vertical-align: middle;\n",
       "    }\n",
       "\n",
       "    .dataframe tbody tr th {\n",
       "        vertical-align: top;\n",
       "    }\n",
       "\n",
       "    .dataframe thead th {\n",
       "        text-align: right;\n",
       "    }\n",
       "</style>\n",
       "<table border=\"1\" class=\"dataframe\">\n",
       "  <thead>\n",
       "    <tr style=\"text-align: right;\">\n",
       "      <th></th>\n",
       "      <th>duration</th>\n",
       "      <th>user_id</th>\n",
       "    </tr>\n",
       "  </thead>\n",
       "  <tbody>\n",
       "    <tr>\n",
       "      <td>count</td>\n",
       "      <td>202,607.00</td>\n",
       "      <td>202,607.00</td>\n",
       "    </tr>\n",
       "    <tr>\n",
       "      <td>mean</td>\n",
       "      <td>6.76</td>\n",
       "      <td>1,253.94</td>\n",
       "    </tr>\n",
       "    <tr>\n",
       "      <td>std</td>\n",
       "      <td>5.84</td>\n",
       "      <td>144.72</td>\n",
       "    </tr>\n",
       "    <tr>\n",
       "      <td>min</td>\n",
       "      <td>0.00</td>\n",
       "      <td>1,000.00</td>\n",
       "    </tr>\n",
       "    <tr>\n",
       "      <td>25%</td>\n",
       "      <td>1.30</td>\n",
       "      <td>1,126.00</td>\n",
       "    </tr>\n",
       "    <tr>\n",
       "      <td>50%</td>\n",
       "      <td>6.00</td>\n",
       "      <td>1,260.00</td>\n",
       "    </tr>\n",
       "    <tr>\n",
       "      <td>75%</td>\n",
       "      <td>10.70</td>\n",
       "      <td>1,379.00</td>\n",
       "    </tr>\n",
       "    <tr>\n",
       "      <td>max</td>\n",
       "      <td>38.00</td>\n",
       "      <td>1,499.00</td>\n",
       "    </tr>\n",
       "  </tbody>\n",
       "</table>\n",
       "</div>"
      ],
      "text/plain": [
       "        duration    user_id\n",
       "count 202,607.00 202,607.00\n",
       "mean        6.76   1,253.94\n",
       "std         5.84     144.72\n",
       "min         0.00   1,000.00\n",
       "25%         1.30   1,126.00\n",
       "50%         6.00   1,260.00\n",
       "75%        10.70   1,379.00\n",
       "max        38.00   1,499.00"
      ]
     },
     "execution_count": 98,
     "metadata": {},
     "output_type": "execute_result"
    }
   ],
   "source": [
    "calls.describe()"
   ]
  },
  {
   "cell_type": "markdown",
   "metadata": {},
   "source": [
    "Аномальных значений в длительности звонков нет, нулевые значения - это пропущенные вызовы, данную информацию знаем из задания, поэтому нули не обрабатываем, оставляем как есть."
   ]
  },
  {
   "cell_type": "markdown",
   "metadata": {},
   "source": [
    "#### Обрабатываем данные в таблице calls"
   ]
  },
  {
   "cell_type": "markdown",
   "metadata": {},
   "source": [
    "Приведем тип данных в столбце **call_date** в формат даты."
   ]
  },
  {
   "cell_type": "code",
   "execution_count": 99,
   "metadata": {},
   "outputs": [],
   "source": [
    "calls['call_date'] = pd.to_datetime(calls['call_date'], format=\"%Y-%m-%d\")"
   ]
  },
  {
   "cell_type": "markdown",
   "metadata": {},
   "source": [
    "Проверяем замену."
   ]
  },
  {
   "cell_type": "code",
   "execution_count": 100,
   "metadata": {},
   "outputs": [
    {
     "name": "stdout",
     "output_type": "stream",
     "text": [
      "<class 'pandas.core.frame.DataFrame'>\n",
      "RangeIndex: 202607 entries, 0 to 202606\n",
      "Data columns (total 4 columns):\n",
      "id           202607 non-null object\n",
      "call_date    202607 non-null datetime64[ns]\n",
      "duration     202607 non-null float64\n",
      "user_id      202607 non-null int64\n",
      "dtypes: datetime64[ns](1), float64(1), int64(1), object(1)\n",
      "memory usage: 6.2+ MB\n"
     ]
    }
   ],
   "source": [
    "calls.info()"
   ]
  },
  {
   "cell_type": "code",
   "execution_count": 101,
   "metadata": {},
   "outputs": [
    {
     "data": {
      "text/html": [
       "<div>\n",
       "<style scoped>\n",
       "    .dataframe tbody tr th:only-of-type {\n",
       "        vertical-align: middle;\n",
       "    }\n",
       "\n",
       "    .dataframe tbody tr th {\n",
       "        vertical-align: top;\n",
       "    }\n",
       "\n",
       "    .dataframe thead th {\n",
       "        text-align: right;\n",
       "    }\n",
       "</style>\n",
       "<table border=\"1\" class=\"dataframe\">\n",
       "  <thead>\n",
       "    <tr style=\"text-align: right;\">\n",
       "      <th></th>\n",
       "      <th>id</th>\n",
       "      <th>call_date</th>\n",
       "      <th>duration</th>\n",
       "      <th>user_id</th>\n",
       "    </tr>\n",
       "  </thead>\n",
       "  <tbody>\n",
       "    <tr>\n",
       "      <td>153007</td>\n",
       "      <td>1380_642</td>\n",
       "      <td>2018-07-02</td>\n",
       "      <td>12.94</td>\n",
       "      <td>1380</td>\n",
       "    </tr>\n",
       "    <tr>\n",
       "      <td>53404</td>\n",
       "      <td>1134_465</td>\n",
       "      <td>2018-06-15</td>\n",
       "      <td>13.96</td>\n",
       "      <td>1134</td>\n",
       "    </tr>\n",
       "    <tr>\n",
       "      <td>200711</td>\n",
       "      <td>1495_98</td>\n",
       "      <td>2018-12-25</td>\n",
       "      <td>7.15</td>\n",
       "      <td>1495</td>\n",
       "    </tr>\n",
       "    <tr>\n",
       "      <td>200488</td>\n",
       "      <td>1494_150</td>\n",
       "      <td>2018-11-12</td>\n",
       "      <td>0.00</td>\n",
       "      <td>1494</td>\n",
       "    </tr>\n",
       "    <tr>\n",
       "      <td>78078</td>\n",
       "      <td>1196_310</td>\n",
       "      <td>2018-12-05</td>\n",
       "      <td>15.17</td>\n",
       "      <td>1196</td>\n",
       "    </tr>\n",
       "    <tr>\n",
       "      <td>188738</td>\n",
       "      <td>1465_455</td>\n",
       "      <td>2018-11-05</td>\n",
       "      <td>5.18</td>\n",
       "      <td>1465</td>\n",
       "    </tr>\n",
       "    <tr>\n",
       "      <td>69308</td>\n",
       "      <td>1174_348</td>\n",
       "      <td>2018-08-02</td>\n",
       "      <td>11.96</td>\n",
       "      <td>1174</td>\n",
       "    </tr>\n",
       "    <tr>\n",
       "      <td>31957</td>\n",
       "      <td>1079_328</td>\n",
       "      <td>2018-06-21</td>\n",
       "      <td>4.37</td>\n",
       "      <td>1079</td>\n",
       "    </tr>\n",
       "    <tr>\n",
       "      <td>73416</td>\n",
       "      <td>1185_210</td>\n",
       "      <td>2018-10-23</td>\n",
       "      <td>0.00</td>\n",
       "      <td>1185</td>\n",
       "    </tr>\n",
       "    <tr>\n",
       "      <td>14577</td>\n",
       "      <td>1039_52</td>\n",
       "      <td>2018-11-13</td>\n",
       "      <td>9.92</td>\n",
       "      <td>1039</td>\n",
       "    </tr>\n",
       "  </tbody>\n",
       "</table>\n",
       "</div>"
      ],
      "text/plain": [
       "              id  call_date  duration  user_id\n",
       "153007  1380_642 2018-07-02     12.94     1380\n",
       "53404   1134_465 2018-06-15     13.96     1134\n",
       "200711   1495_98 2018-12-25      7.15     1495\n",
       "200488  1494_150 2018-11-12      0.00     1494\n",
       "78078   1196_310 2018-12-05     15.17     1196\n",
       "188738  1465_455 2018-11-05      5.18     1465\n",
       "69308   1174_348 2018-08-02     11.96     1174\n",
       "31957   1079_328 2018-06-21      4.37     1079\n",
       "73416   1185_210 2018-10-23      0.00     1185\n",
       "14577    1039_52 2018-11-13      9.92     1039"
      ]
     },
     "execution_count": 101,
     "metadata": {},
     "output_type": "execute_result"
    }
   ],
   "source": [
    "calls.sample(10)"
   ]
  },
  {
   "cell_type": "markdown",
   "metadata": {},
   "source": [
    "Теперь изменим тип данных для столбца **duration** на целочисленный с округлением вверх."
   ]
  },
  {
   "cell_type": "code",
   "execution_count": 102,
   "metadata": {},
   "outputs": [],
   "source": [
    "calls['duration'] = calls['duration'].apply(np.ceil).astype('int')"
   ]
  },
  {
   "cell_type": "code",
   "execution_count": 103,
   "metadata": {},
   "outputs": [
    {
     "name": "stdout",
     "output_type": "stream",
     "text": [
      "<class 'pandas.core.frame.DataFrame'>\n",
      "RangeIndex: 202607 entries, 0 to 202606\n",
      "Data columns (total 4 columns):\n",
      "id           202607 non-null object\n",
      "call_date    202607 non-null datetime64[ns]\n",
      "duration     202607 non-null int64\n",
      "user_id      202607 non-null int64\n",
      "dtypes: datetime64[ns](1), int64(2), object(1)\n",
      "memory usage: 6.2+ MB\n"
     ]
    }
   ],
   "source": [
    "calls.info()"
   ]
  },
  {
   "cell_type": "code",
   "execution_count": 104,
   "metadata": {},
   "outputs": [
    {
     "data": {
      "text/html": [
       "<div>\n",
       "<style scoped>\n",
       "    .dataframe tbody tr th:only-of-type {\n",
       "        vertical-align: middle;\n",
       "    }\n",
       "\n",
       "    .dataframe tbody tr th {\n",
       "        vertical-align: top;\n",
       "    }\n",
       "\n",
       "    .dataframe thead th {\n",
       "        text-align: right;\n",
       "    }\n",
       "</style>\n",
       "<table border=\"1\" class=\"dataframe\">\n",
       "  <thead>\n",
       "    <tr style=\"text-align: right;\">\n",
       "      <th></th>\n",
       "      <th>id</th>\n",
       "      <th>call_date</th>\n",
       "      <th>duration</th>\n",
       "      <th>user_id</th>\n",
       "    </tr>\n",
       "  </thead>\n",
       "  <tbody>\n",
       "    <tr>\n",
       "      <td>153187</td>\n",
       "      <td>1381_62</td>\n",
       "      <td>2018-03-27</td>\n",
       "      <td>16</td>\n",
       "      <td>1381</td>\n",
       "    </tr>\n",
       "    <tr>\n",
       "      <td>137369</td>\n",
       "      <td>1352_93</td>\n",
       "      <td>2018-06-20</td>\n",
       "      <td>5</td>\n",
       "      <td>1352</td>\n",
       "    </tr>\n",
       "    <tr>\n",
       "      <td>167213</td>\n",
       "      <td>1412_130</td>\n",
       "      <td>2018-09-30</td>\n",
       "      <td>10</td>\n",
       "      <td>1412</td>\n",
       "    </tr>\n",
       "    <tr>\n",
       "      <td>77508</td>\n",
       "      <td>1193_770</td>\n",
       "      <td>2018-06-18</td>\n",
       "      <td>6</td>\n",
       "      <td>1193</td>\n",
       "    </tr>\n",
       "    <tr>\n",
       "      <td>81844</td>\n",
       "      <td>1203_417</td>\n",
       "      <td>2018-12-29</td>\n",
       "      <td>0</td>\n",
       "      <td>1203</td>\n",
       "    </tr>\n",
       "    <tr>\n",
       "      <td>66149</td>\n",
       "      <td>1168_1300</td>\n",
       "      <td>2018-04-29</td>\n",
       "      <td>14</td>\n",
       "      <td>1168</td>\n",
       "    </tr>\n",
       "    <tr>\n",
       "      <td>168486</td>\n",
       "      <td>1415_206</td>\n",
       "      <td>2018-09-17</td>\n",
       "      <td>11</td>\n",
       "      <td>1415</td>\n",
       "    </tr>\n",
       "    <tr>\n",
       "      <td>110919</td>\n",
       "      <td>1284_517</td>\n",
       "      <td>2018-08-31</td>\n",
       "      <td>0</td>\n",
       "      <td>1284</td>\n",
       "    </tr>\n",
       "    <tr>\n",
       "      <td>10247</td>\n",
       "      <td>1027_117</td>\n",
       "      <td>2018-09-30</td>\n",
       "      <td>4</td>\n",
       "      <td>1027</td>\n",
       "    </tr>\n",
       "    <tr>\n",
       "      <td>21115</td>\n",
       "      <td>1055_608</td>\n",
       "      <td>2018-08-18</td>\n",
       "      <td>10</td>\n",
       "      <td>1055</td>\n",
       "    </tr>\n",
       "  </tbody>\n",
       "</table>\n",
       "</div>"
      ],
      "text/plain": [
       "               id  call_date  duration  user_id\n",
       "153187    1381_62 2018-03-27        16     1381\n",
       "137369    1352_93 2018-06-20         5     1352\n",
       "167213   1412_130 2018-09-30        10     1412\n",
       "77508    1193_770 2018-06-18         6     1193\n",
       "81844    1203_417 2018-12-29         0     1203\n",
       "66149   1168_1300 2018-04-29        14     1168\n",
       "168486   1415_206 2018-09-17        11     1415\n",
       "110919   1284_517 2018-08-31         0     1284\n",
       "10247    1027_117 2018-09-30         4     1027\n",
       "21115    1055_608 2018-08-18        10     1055"
      ]
     },
     "execution_count": 104,
     "metadata": {},
     "output_type": "execute_result"
    }
   ],
   "source": [
    "calls.sample(10)"
   ]
  },
  {
   "cell_type": "markdown",
   "metadata": {},
   "source": [
    "Привели типы данных в нужны вид."
   ]
  },
  {
   "cell_type": "markdown",
   "metadata": {},
   "source": [
    "Проверим наличие дублей."
   ]
  },
  {
   "cell_type": "code",
   "execution_count": 105,
   "metadata": {},
   "outputs": [
    {
     "data": {
      "text/plain": [
       "0"
      ]
     },
     "execution_count": 105,
     "metadata": {},
     "output_type": "execute_result"
    }
   ],
   "source": [
    "calls.duplicated().sum()"
   ]
  },
  {
   "cell_type": "markdown",
   "metadata": {},
   "source": [
    "Дублей нет."
   ]
  },
  {
   "cell_type": "markdown",
   "metadata": {},
   "source": [
    "**Вывод**"
   ]
  },
  {
   "cell_type": "markdown",
   "metadata": {},
   "source": [
    "Изучены данные в таблице **calls**, были выявлены проблемы с неверным типом данных для столбцов с датами, произведено исправление типов данных, также исходя из исходной информации о датасете произведена замена типа данных для столбца с длительностью разговора в целочисленный тип с округлением вверх."
   ]
  },
  {
   "cell_type": "markdown",
   "metadata": {},
   "source": [
    "### Таблица Messages"
   ]
  },
  {
   "cell_type": "code",
   "execution_count": 106,
   "metadata": {},
   "outputs": [
    {
     "name": "stdout",
     "output_type": "stream",
     "text": [
      "<class 'pandas.core.frame.DataFrame'>\n",
      "RangeIndex: 123036 entries, 0 to 123035\n",
      "Data columns (total 3 columns):\n",
      "id              123036 non-null object\n",
      "message_date    123036 non-null object\n",
      "user_id         123036 non-null int64\n",
      "dtypes: int64(1), object(2)\n",
      "memory usage: 2.8+ MB\n"
     ]
    }
   ],
   "source": [
    "messages.info()"
   ]
  },
  {
   "cell_type": "markdown",
   "metadata": {},
   "source": [
    "Пропущенных значений в данных нет, есть вновь ошибка с типом данных в колонке **message_date**, в остальных данных типы указаны корректно."
   ]
  },
  {
   "cell_type": "code",
   "execution_count": 107,
   "metadata": {},
   "outputs": [
    {
     "data": {
      "text/html": [
       "<div>\n",
       "<style scoped>\n",
       "    .dataframe tbody tr th:only-of-type {\n",
       "        vertical-align: middle;\n",
       "    }\n",
       "\n",
       "    .dataframe tbody tr th {\n",
       "        vertical-align: top;\n",
       "    }\n",
       "\n",
       "    .dataframe thead th {\n",
       "        text-align: right;\n",
       "    }\n",
       "</style>\n",
       "<table border=\"1\" class=\"dataframe\">\n",
       "  <thead>\n",
       "    <tr style=\"text-align: right;\">\n",
       "      <th></th>\n",
       "      <th>id</th>\n",
       "      <th>message_date</th>\n",
       "      <th>user_id</th>\n",
       "    </tr>\n",
       "  </thead>\n",
       "  <tbody>\n",
       "    <tr>\n",
       "      <td>23653</td>\n",
       "      <td>1097_168</td>\n",
       "      <td>2018-10-04</td>\n",
       "      <td>1097</td>\n",
       "    </tr>\n",
       "    <tr>\n",
       "      <td>33200</td>\n",
       "      <td>1145_853</td>\n",
       "      <td>2018-04-17</td>\n",
       "      <td>1145</td>\n",
       "    </tr>\n",
       "    <tr>\n",
       "      <td>32174</td>\n",
       "      <td>1144_313</td>\n",
       "      <td>2018-05-09</td>\n",
       "      <td>1144</td>\n",
       "    </tr>\n",
       "    <tr>\n",
       "      <td>12971</td>\n",
       "      <td>1054_527</td>\n",
       "      <td>2018-10-12</td>\n",
       "      <td>1054</td>\n",
       "    </tr>\n",
       "    <tr>\n",
       "      <td>116656</td>\n",
       "      <td>1474_42</td>\n",
       "      <td>2018-11-29</td>\n",
       "      <td>1474</td>\n",
       "    </tr>\n",
       "    <tr>\n",
       "      <td>46384</td>\n",
       "      <td>1200_279</td>\n",
       "      <td>2018-05-25</td>\n",
       "      <td>1200</td>\n",
       "    </tr>\n",
       "    <tr>\n",
       "      <td>97347</td>\n",
       "      <td>1399_49</td>\n",
       "      <td>2018-12-11</td>\n",
       "      <td>1399</td>\n",
       "    </tr>\n",
       "    <tr>\n",
       "      <td>105362</td>\n",
       "      <td>1425_606</td>\n",
       "      <td>2018-07-05</td>\n",
       "      <td>1425</td>\n",
       "    </tr>\n",
       "    <tr>\n",
       "      <td>111986</td>\n",
       "      <td>1453_11</td>\n",
       "      <td>2018-04-11</td>\n",
       "      <td>1453</td>\n",
       "    </tr>\n",
       "    <tr>\n",
       "      <td>99394</td>\n",
       "      <td>1405_84</td>\n",
       "      <td>2018-10-10</td>\n",
       "      <td>1405</td>\n",
       "    </tr>\n",
       "  </tbody>\n",
       "</table>\n",
       "</div>"
      ],
      "text/plain": [
       "              id message_date  user_id\n",
       "23653   1097_168   2018-10-04     1097\n",
       "33200   1145_853   2018-04-17     1145\n",
       "32174   1144_313   2018-05-09     1144\n",
       "12971   1054_527   2018-10-12     1054\n",
       "116656   1474_42   2018-11-29     1474\n",
       "46384   1200_279   2018-05-25     1200\n",
       "97347    1399_49   2018-12-11     1399\n",
       "105362  1425_606   2018-07-05     1425\n",
       "111986   1453_11   2018-04-11     1453\n",
       "99394    1405_84   2018-10-10     1405"
      ]
     },
     "execution_count": 107,
     "metadata": {},
     "output_type": "execute_result"
    }
   ],
   "source": [
    "messages.sample(10)"
   ]
  },
  {
   "cell_type": "code",
   "execution_count": 108,
   "metadata": {},
   "outputs": [
    {
     "data": {
      "text/html": [
       "<div>\n",
       "<style scoped>\n",
       "    .dataframe tbody tr th:only-of-type {\n",
       "        vertical-align: middle;\n",
       "    }\n",
       "\n",
       "    .dataframe tbody tr th {\n",
       "        vertical-align: top;\n",
       "    }\n",
       "\n",
       "    .dataframe thead th {\n",
       "        text-align: right;\n",
       "    }\n",
       "</style>\n",
       "<table border=\"1\" class=\"dataframe\">\n",
       "  <thead>\n",
       "    <tr style=\"text-align: right;\">\n",
       "      <th></th>\n",
       "      <th>user_id</th>\n",
       "    </tr>\n",
       "  </thead>\n",
       "  <tbody>\n",
       "    <tr>\n",
       "      <td>count</td>\n",
       "      <td>123,036.00</td>\n",
       "    </tr>\n",
       "    <tr>\n",
       "      <td>mean</td>\n",
       "      <td>1,256.99</td>\n",
       "    </tr>\n",
       "    <tr>\n",
       "      <td>std</td>\n",
       "      <td>143.52</td>\n",
       "    </tr>\n",
       "    <tr>\n",
       "      <td>min</td>\n",
       "      <td>1,000.00</td>\n",
       "    </tr>\n",
       "    <tr>\n",
       "      <td>25%</td>\n",
       "      <td>1,134.00</td>\n",
       "    </tr>\n",
       "    <tr>\n",
       "      <td>50%</td>\n",
       "      <td>1,271.00</td>\n",
       "    </tr>\n",
       "    <tr>\n",
       "      <td>75%</td>\n",
       "      <td>1,381.00</td>\n",
       "    </tr>\n",
       "    <tr>\n",
       "      <td>max</td>\n",
       "      <td>1,499.00</td>\n",
       "    </tr>\n",
       "  </tbody>\n",
       "</table>\n",
       "</div>"
      ],
      "text/plain": [
       "         user_id\n",
       "count 123,036.00\n",
       "mean    1,256.99\n",
       "std       143.52\n",
       "min     1,000.00\n",
       "25%     1,134.00\n",
       "50%     1,271.00\n",
       "75%     1,381.00\n",
       "max     1,499.00"
      ]
     },
     "execution_count": 108,
     "metadata": {},
     "output_type": "execute_result"
    }
   ],
   "source": [
    "messages.describe()"
   ]
  },
  {
   "cell_type": "markdown",
   "metadata": {},
   "source": [
    "#### Обрабатываем данные в таблице messages"
   ]
  },
  {
   "cell_type": "markdown",
   "metadata": {},
   "source": [
    "Требуется заменить тип данных в столбце **message_date**"
   ]
  },
  {
   "cell_type": "code",
   "execution_count": 109,
   "metadata": {},
   "outputs": [],
   "source": [
    "messages['message_date'] = pd.to_datetime(messages['message_date'], format=\"%Y-%m-%d\")"
   ]
  },
  {
   "cell_type": "code",
   "execution_count": 110,
   "metadata": {},
   "outputs": [
    {
     "name": "stdout",
     "output_type": "stream",
     "text": [
      "<class 'pandas.core.frame.DataFrame'>\n",
      "RangeIndex: 123036 entries, 0 to 123035\n",
      "Data columns (total 3 columns):\n",
      "id              123036 non-null object\n",
      "message_date    123036 non-null datetime64[ns]\n",
      "user_id         123036 non-null int64\n",
      "dtypes: datetime64[ns](1), int64(1), object(1)\n",
      "memory usage: 2.8+ MB\n"
     ]
    }
   ],
   "source": [
    "messages.info()"
   ]
  },
  {
   "cell_type": "code",
   "execution_count": 111,
   "metadata": {
    "scrolled": true
   },
   "outputs": [
    {
     "data": {
      "text/html": [
       "<div>\n",
       "<style scoped>\n",
       "    .dataframe tbody tr th:only-of-type {\n",
       "        vertical-align: middle;\n",
       "    }\n",
       "\n",
       "    .dataframe tbody tr th {\n",
       "        vertical-align: top;\n",
       "    }\n",
       "\n",
       "    .dataframe thead th {\n",
       "        text-align: right;\n",
       "    }\n",
       "</style>\n",
       "<table border=\"1\" class=\"dataframe\">\n",
       "  <thead>\n",
       "    <tr style=\"text-align: right;\">\n",
       "      <th></th>\n",
       "      <th>id</th>\n",
       "      <th>message_date</th>\n",
       "      <th>user_id</th>\n",
       "    </tr>\n",
       "  </thead>\n",
       "  <tbody>\n",
       "    <tr>\n",
       "      <td>59163</td>\n",
       "      <td>1259_30</td>\n",
       "      <td>2018-11-13</td>\n",
       "      <td>1259</td>\n",
       "    </tr>\n",
       "    <tr>\n",
       "      <td>27644</td>\n",
       "      <td>1119_167</td>\n",
       "      <td>2018-05-28</td>\n",
       "      <td>1119</td>\n",
       "    </tr>\n",
       "    <tr>\n",
       "      <td>5695</td>\n",
       "      <td>1023_40</td>\n",
       "      <td>2018-10-30</td>\n",
       "      <td>1023</td>\n",
       "    </tr>\n",
       "    <tr>\n",
       "      <td>30307</td>\n",
       "      <td>1134_25</td>\n",
       "      <td>2018-06-25</td>\n",
       "      <td>1134</td>\n",
       "    </tr>\n",
       "    <tr>\n",
       "      <td>60806</td>\n",
       "      <td>1268_121</td>\n",
       "      <td>2018-09-03</td>\n",
       "      <td>1268</td>\n",
       "    </tr>\n",
       "    <tr>\n",
       "      <td>34649</td>\n",
       "      <td>1149_461</td>\n",
       "      <td>2018-07-25</td>\n",
       "      <td>1149</td>\n",
       "    </tr>\n",
       "    <tr>\n",
       "      <td>25748</td>\n",
       "      <td>1105_137</td>\n",
       "      <td>2018-10-09</td>\n",
       "      <td>1105</td>\n",
       "    </tr>\n",
       "    <tr>\n",
       "      <td>115341</td>\n",
       "      <td>1471_569</td>\n",
       "      <td>2018-05-19</td>\n",
       "      <td>1471</td>\n",
       "    </tr>\n",
       "    <tr>\n",
       "      <td>35894</td>\n",
       "      <td>1155_283</td>\n",
       "      <td>2018-05-29</td>\n",
       "      <td>1155</td>\n",
       "    </tr>\n",
       "    <tr>\n",
       "      <td>80539</td>\n",
       "      <td>1335_451</td>\n",
       "      <td>2018-12-31</td>\n",
       "      <td>1335</td>\n",
       "    </tr>\n",
       "  </tbody>\n",
       "</table>\n",
       "</div>"
      ],
      "text/plain": [
       "              id message_date  user_id\n",
       "59163    1259_30   2018-11-13     1259\n",
       "27644   1119_167   2018-05-28     1119\n",
       "5695     1023_40   2018-10-30     1023\n",
       "30307    1134_25   2018-06-25     1134\n",
       "60806   1268_121   2018-09-03     1268\n",
       "34649   1149_461   2018-07-25     1149\n",
       "25748   1105_137   2018-10-09     1105\n",
       "115341  1471_569   2018-05-19     1471\n",
       "35894   1155_283   2018-05-29     1155\n",
       "80539   1335_451   2018-12-31     1335"
      ]
     },
     "execution_count": 111,
     "metadata": {},
     "output_type": "execute_result"
    }
   ],
   "source": [
    "messages.sample(10)"
   ]
  },
  {
   "cell_type": "markdown",
   "metadata": {},
   "source": [
    "Проверим наличие дублей."
   ]
  },
  {
   "cell_type": "code",
   "execution_count": 112,
   "metadata": {},
   "outputs": [
    {
     "data": {
      "text/plain": [
       "0"
      ]
     },
     "execution_count": 112,
     "metadata": {},
     "output_type": "execute_result"
    }
   ],
   "source": [
    "messages.duplicated().sum()"
   ]
  },
  {
   "cell_type": "markdown",
   "metadata": {},
   "source": [
    "Дублей нет."
   ]
  },
  {
   "cell_type": "markdown",
   "metadata": {},
   "source": [
    "**Вывод**"
   ]
  },
  {
   "cell_type": "markdown",
   "metadata": {},
   "source": [
    "Изучены данные в таблице **messages**, были выявлены проблемы с неверным типом данных для столбцов с датами, произведено исправление типов данных."
   ]
  },
  {
   "cell_type": "markdown",
   "metadata": {},
   "source": [
    "### Таблица Internet"
   ]
  },
  {
   "cell_type": "code",
   "execution_count": 113,
   "metadata": {},
   "outputs": [
    {
     "name": "stdout",
     "output_type": "stream",
     "text": [
      "<class 'pandas.core.frame.DataFrame'>\n",
      "RangeIndex: 149396 entries, 0 to 149395\n",
      "Data columns (total 5 columns):\n",
      "Unnamed: 0      149396 non-null int64\n",
      "id              149396 non-null object\n",
      "mb_used         149396 non-null float64\n",
      "session_date    149396 non-null object\n",
      "user_id         149396 non-null int64\n",
      "dtypes: float64(1), int64(2), object(2)\n",
      "memory usage: 5.7+ MB\n"
     ]
    }
   ],
   "source": [
    "internet.info()"
   ]
  },
  {
   "cell_type": "markdown",
   "metadata": {},
   "source": [
    "И снова видим неверных тип данных у столбца содержащего информацию о датах, исправим его далее. Также присутствует непонятный столбец **Unnamed: 0**. Количество интернет трафика также округляется, но при расчетах за месяц, поэтому в данной таблице округлять данные интернет трафика не будем."
   ]
  },
  {
   "cell_type": "markdown",
   "metadata": {},
   "source": [
    "<div class=\"alert alert-success\" style=\"border-radius: 15px; box-shadow: 4px 4px 4px; border: 1px solid \">\n",
    "<b> Комментарий ревьюера</b>\n",
    "    \n",
    "Столбец `Unnamed: 0` дублирует индекс. Дело в том, что таблица уже содержала в себе столбец с индексами, а пандас при чтении добавил еще один. В результате имеем два. Этого можно избежать, если при чтении указать аргумент **index_col=0**.</div>"
   ]
  },
  {
   "cell_type": "code",
   "execution_count": 114,
   "metadata": {},
   "outputs": [
    {
     "data": {
      "text/html": [
       "<div>\n",
       "<style scoped>\n",
       "    .dataframe tbody tr th:only-of-type {\n",
       "        vertical-align: middle;\n",
       "    }\n",
       "\n",
       "    .dataframe tbody tr th {\n",
       "        vertical-align: top;\n",
       "    }\n",
       "\n",
       "    .dataframe thead th {\n",
       "        text-align: right;\n",
       "    }\n",
       "</style>\n",
       "<table border=\"1\" class=\"dataframe\">\n",
       "  <thead>\n",
       "    <tr style=\"text-align: right;\">\n",
       "      <th></th>\n",
       "      <th>Unnamed: 0</th>\n",
       "      <th>id</th>\n",
       "      <th>mb_used</th>\n",
       "      <th>session_date</th>\n",
       "      <th>user_id</th>\n",
       "    </tr>\n",
       "  </thead>\n",
       "  <tbody>\n",
       "    <tr>\n",
       "      <td>79474</td>\n",
       "      <td>79474</td>\n",
       "      <td>1267_108</td>\n",
       "      <td>0.00</td>\n",
       "      <td>2018-12-18</td>\n",
       "      <td>1267</td>\n",
       "    </tr>\n",
       "    <tr>\n",
       "      <td>91888</td>\n",
       "      <td>91888</td>\n",
       "      <td>1310_349</td>\n",
       "      <td>456.54</td>\n",
       "      <td>2018-09-14</td>\n",
       "      <td>1310</td>\n",
       "    </tr>\n",
       "    <tr>\n",
       "      <td>23445</td>\n",
       "      <td>23445</td>\n",
       "      <td>1079_48</td>\n",
       "      <td>338.85</td>\n",
       "      <td>2018-07-11</td>\n",
       "      <td>1079</td>\n",
       "    </tr>\n",
       "    <tr>\n",
       "      <td>33665</td>\n",
       "      <td>33665</td>\n",
       "      <td>1118_282</td>\n",
       "      <td>3.58</td>\n",
       "      <td>2018-06-20</td>\n",
       "      <td>1118</td>\n",
       "    </tr>\n",
       "    <tr>\n",
       "      <td>112035</td>\n",
       "      <td>112035</td>\n",
       "      <td>1380_164</td>\n",
       "      <td>408.48</td>\n",
       "      <td>2018-12-30</td>\n",
       "      <td>1380</td>\n",
       "    </tr>\n",
       "    <tr>\n",
       "      <td>128615</td>\n",
       "      <td>128615</td>\n",
       "      <td>1430_37</td>\n",
       "      <td>536.18</td>\n",
       "      <td>2018-08-09</td>\n",
       "      <td>1430</td>\n",
       "    </tr>\n",
       "    <tr>\n",
       "      <td>11128</td>\n",
       "      <td>11128</td>\n",
       "      <td>1039_39</td>\n",
       "      <td>0.00</td>\n",
       "      <td>2018-12-30</td>\n",
       "      <td>1039</td>\n",
       "    </tr>\n",
       "    <tr>\n",
       "      <td>134180</td>\n",
       "      <td>134180</td>\n",
       "      <td>1450_63</td>\n",
       "      <td>421.69</td>\n",
       "      <td>2018-12-05</td>\n",
       "      <td>1450</td>\n",
       "    </tr>\n",
       "    <tr>\n",
       "      <td>78034</td>\n",
       "      <td>78034</td>\n",
       "      <td>1263_105</td>\n",
       "      <td>383.01</td>\n",
       "      <td>2018-10-04</td>\n",
       "      <td>1263</td>\n",
       "    </tr>\n",
       "    <tr>\n",
       "      <td>32678</td>\n",
       "      <td>32678</td>\n",
       "      <td>1114_75</td>\n",
       "      <td>647.63</td>\n",
       "      <td>2018-08-18</td>\n",
       "      <td>1114</td>\n",
       "    </tr>\n",
       "  </tbody>\n",
       "</table>\n",
       "</div>"
      ],
      "text/plain": [
       "        Unnamed: 0        id  mb_used session_date  user_id\n",
       "79474        79474  1267_108     0.00   2018-12-18     1267\n",
       "91888        91888  1310_349   456.54   2018-09-14     1310\n",
       "23445        23445   1079_48   338.85   2018-07-11     1079\n",
       "33665        33665  1118_282     3.58   2018-06-20     1118\n",
       "112035      112035  1380_164   408.48   2018-12-30     1380\n",
       "128615      128615   1430_37   536.18   2018-08-09     1430\n",
       "11128        11128   1039_39     0.00   2018-12-30     1039\n",
       "134180      134180   1450_63   421.69   2018-12-05     1450\n",
       "78034        78034  1263_105   383.01   2018-10-04     1263\n",
       "32678        32678   1114_75   647.63   2018-08-18     1114"
      ]
     },
     "execution_count": 114,
     "metadata": {},
     "output_type": "execute_result"
    }
   ],
   "source": [
    "internet.sample(10)"
   ]
  },
  {
   "cell_type": "markdown",
   "metadata": {},
   "source": [
    "Очень сильно похоже, что столбец **Unnamed: 0** дублирует столбец id датафрейма."
   ]
  },
  {
   "cell_type": "code",
   "execution_count": 115,
   "metadata": {},
   "outputs": [
    {
     "data": {
      "text/html": [
       "<div>\n",
       "<style scoped>\n",
       "    .dataframe tbody tr th:only-of-type {\n",
       "        vertical-align: middle;\n",
       "    }\n",
       "\n",
       "    .dataframe tbody tr th {\n",
       "        vertical-align: top;\n",
       "    }\n",
       "\n",
       "    .dataframe thead th {\n",
       "        text-align: right;\n",
       "    }\n",
       "</style>\n",
       "<table border=\"1\" class=\"dataframe\">\n",
       "  <thead>\n",
       "    <tr style=\"text-align: right;\">\n",
       "      <th></th>\n",
       "      <th>Unnamed: 0</th>\n",
       "      <th>mb_used</th>\n",
       "      <th>user_id</th>\n",
       "    </tr>\n",
       "  </thead>\n",
       "  <tbody>\n",
       "    <tr>\n",
       "      <td>count</td>\n",
       "      <td>149,396.00</td>\n",
       "      <td>149,396.00</td>\n",
       "      <td>149,396.00</td>\n",
       "    </tr>\n",
       "    <tr>\n",
       "      <td>mean</td>\n",
       "      <td>74,697.50</td>\n",
       "      <td>370.19</td>\n",
       "      <td>1,252.10</td>\n",
       "    </tr>\n",
       "    <tr>\n",
       "      <td>std</td>\n",
       "      <td>43,127.05</td>\n",
       "      <td>278.30</td>\n",
       "      <td>144.05</td>\n",
       "    </tr>\n",
       "    <tr>\n",
       "      <td>min</td>\n",
       "      <td>0.00</td>\n",
       "      <td>0.00</td>\n",
       "      <td>1,000.00</td>\n",
       "    </tr>\n",
       "    <tr>\n",
       "      <td>25%</td>\n",
       "      <td>37,348.75</td>\n",
       "      <td>138.19</td>\n",
       "      <td>1,130.00</td>\n",
       "    </tr>\n",
       "    <tr>\n",
       "      <td>50%</td>\n",
       "      <td>74,697.50</td>\n",
       "      <td>348.01</td>\n",
       "      <td>1,251.00</td>\n",
       "    </tr>\n",
       "    <tr>\n",
       "      <td>75%</td>\n",
       "      <td>112,046.25</td>\n",
       "      <td>559.55</td>\n",
       "      <td>1,380.00</td>\n",
       "    </tr>\n",
       "    <tr>\n",
       "      <td>max</td>\n",
       "      <td>149,395.00</td>\n",
       "      <td>1,724.83</td>\n",
       "      <td>1,499.00</td>\n",
       "    </tr>\n",
       "  </tbody>\n",
       "</table>\n",
       "</div>"
      ],
      "text/plain": [
       "       Unnamed: 0    mb_used    user_id\n",
       "count  149,396.00 149,396.00 149,396.00\n",
       "mean    74,697.50     370.19   1,252.10\n",
       "std     43,127.05     278.30     144.05\n",
       "min          0.00       0.00   1,000.00\n",
       "25%     37,348.75     138.19   1,130.00\n",
       "50%     74,697.50     348.01   1,251.00\n",
       "75%    112,046.25     559.55   1,380.00\n",
       "max    149,395.00   1,724.83   1,499.00"
      ]
     },
     "execution_count": 115,
     "metadata": {},
     "output_type": "execute_result"
    }
   ],
   "source": [
    "internet.describe()"
   ]
  },
  {
   "cell_type": "markdown",
   "metadata": {},
   "source": [
    "<div class=\"alert alert-danger\" style=\"border-radius: 15px; box-shadow: 4px 4px 4px; border: 1px solid \">\n",
    "<b> Комментарий ревьюера</b>\n",
    "    \n",
    "В таблице трафика тоже есть нули. Что про них можно сказать? Помешают ли они нам? </div>"
   ]
  },
  {
   "cell_type": "markdown",
   "metadata": {},
   "source": [
    "<div class=\"alert alert-info\" style=\"border-radius: 15px; box-shadow: 4px 4px 4px; border: 1px solid \">\n",
    "<h2> Комментарий студента</h2>\n",
    "\n",
    "Нули в значениях интернет-трафика могут говорить о том, что не все кленты пользуются мобильным интернетом, хотя и имеют его на тарифном плане (что в целом не противоречит логике окружающего мира, это могут быть, например люди старшего возраста или те, кто использует сим-карту, только для звонков по работе или как \"бизнес\" номер для ИП), либо кто то не пользовался интернетом в отчетный период, например, находясь в заграничной поездке, где необходимо подключать роуминг. \n",
    "    \n",
    "Такие нули пригодятся в анализе, поскольку могут повлиять на распределение на гистограммах.\n",
    "    \n",
    "Но дополнительно предлагаю оценить процент таких нулей в таблице, а также посмотреть на \"лицо\" такого клиента. Этот код добавил в блок обработки таблицы **Internet** (8.3 сейчас по содержанию).\n",
    "    \n",
    "</div>"
   ]
  },
  {
   "cell_type": "markdown",
   "metadata": {},
   "source": [
    "<div class=\"alert alert-success\" style=\"border-radius: 15px; box-shadow: 4px 4px 4px; border: 1px solid \">\n",
    "<h2> Комментарий ревьюера 2</h2>\n",
    "    \n",
    "Да, на средние могут повлиять. Отобразятся ли на гистограммах? Только если за весь мысяц у клиента были только нули. Все равно ведь суммируем трафик.</div>"
   ]
  },
  {
   "cell_type": "markdown",
   "metadata": {},
   "source": [
    "#### Обрабатываем данные в таблице internet"
   ]
  },
  {
   "cell_type": "markdown",
   "metadata": {},
   "source": [
    "Выполним приведение типа данных столбца **session_date** к верному типу."
   ]
  },
  {
   "cell_type": "code",
   "execution_count": 116,
   "metadata": {},
   "outputs": [],
   "source": [
    "internet['session_date'] = pd.to_datetime(internet['session_date'], format=\"%Y-%m-%d\")"
   ]
  },
  {
   "cell_type": "code",
   "execution_count": 117,
   "metadata": {},
   "outputs": [
    {
     "name": "stdout",
     "output_type": "stream",
     "text": [
      "<class 'pandas.core.frame.DataFrame'>\n",
      "RangeIndex: 149396 entries, 0 to 149395\n",
      "Data columns (total 5 columns):\n",
      "Unnamed: 0      149396 non-null int64\n",
      "id              149396 non-null object\n",
      "mb_used         149396 non-null float64\n",
      "session_date    149396 non-null datetime64[ns]\n",
      "user_id         149396 non-null int64\n",
      "dtypes: datetime64[ns](1), float64(1), int64(2), object(1)\n",
      "memory usage: 5.7+ MB\n"
     ]
    }
   ],
   "source": [
    "internet.info()"
   ]
  },
  {
   "cell_type": "code",
   "execution_count": 118,
   "metadata": {},
   "outputs": [
    {
     "data": {
      "text/html": [
       "<div>\n",
       "<style scoped>\n",
       "    .dataframe tbody tr th:only-of-type {\n",
       "        vertical-align: middle;\n",
       "    }\n",
       "\n",
       "    .dataframe tbody tr th {\n",
       "        vertical-align: top;\n",
       "    }\n",
       "\n",
       "    .dataframe thead th {\n",
       "        text-align: right;\n",
       "    }\n",
       "</style>\n",
       "<table border=\"1\" class=\"dataframe\">\n",
       "  <thead>\n",
       "    <tr style=\"text-align: right;\">\n",
       "      <th></th>\n",
       "      <th>Unnamed: 0</th>\n",
       "      <th>id</th>\n",
       "      <th>mb_used</th>\n",
       "      <th>session_date</th>\n",
       "      <th>user_id</th>\n",
       "    </tr>\n",
       "  </thead>\n",
       "  <tbody>\n",
       "    <tr>\n",
       "      <td>31710</td>\n",
       "      <td>31710</td>\n",
       "      <td>1110_304</td>\n",
       "      <td>106.42</td>\n",
       "      <td>2018-11-17</td>\n",
       "      <td>1110</td>\n",
       "    </tr>\n",
       "    <tr>\n",
       "      <td>107610</td>\n",
       "      <td>107610</td>\n",
       "      <td>1365_134</td>\n",
       "      <td>140.49</td>\n",
       "      <td>2018-12-23</td>\n",
       "      <td>1365</td>\n",
       "    </tr>\n",
       "    <tr>\n",
       "      <td>40112</td>\n",
       "      <td>40112</td>\n",
       "      <td>1142_193</td>\n",
       "      <td>203.95</td>\n",
       "      <td>2018-12-16</td>\n",
       "      <td>1142</td>\n",
       "    </tr>\n",
       "    <tr>\n",
       "      <td>46934</td>\n",
       "      <td>46934</td>\n",
       "      <td>1160_226</td>\n",
       "      <td>98.12</td>\n",
       "      <td>2018-10-09</td>\n",
       "      <td>1160</td>\n",
       "    </tr>\n",
       "    <tr>\n",
       "      <td>35425</td>\n",
       "      <td>35425</td>\n",
       "      <td>1123_389</td>\n",
       "      <td>0.00</td>\n",
       "      <td>2018-12-14</td>\n",
       "      <td>1123</td>\n",
       "    </tr>\n",
       "    <tr>\n",
       "      <td>8718</td>\n",
       "      <td>8718</td>\n",
       "      <td>1030_187</td>\n",
       "      <td>656.56</td>\n",
       "      <td>2018-12-28</td>\n",
       "      <td>1030</td>\n",
       "    </tr>\n",
       "    <tr>\n",
       "      <td>129069</td>\n",
       "      <td>129069</td>\n",
       "      <td>1431_103</td>\n",
       "      <td>187.46</td>\n",
       "      <td>2018-09-19</td>\n",
       "      <td>1431</td>\n",
       "    </tr>\n",
       "    <tr>\n",
       "      <td>90464</td>\n",
       "      <td>90464</td>\n",
       "      <td>1307_81</td>\n",
       "      <td>403.29</td>\n",
       "      <td>2018-11-27</td>\n",
       "      <td>1307</td>\n",
       "    </tr>\n",
       "    <tr>\n",
       "      <td>146546</td>\n",
       "      <td>146546</td>\n",
       "      <td>1490_289</td>\n",
       "      <td>299.02</td>\n",
       "      <td>2018-11-19</td>\n",
       "      <td>1490</td>\n",
       "    </tr>\n",
       "    <tr>\n",
       "      <td>16128</td>\n",
       "      <td>16128</td>\n",
       "      <td>1055_586</td>\n",
       "      <td>215.94</td>\n",
       "      <td>2018-11-25</td>\n",
       "      <td>1055</td>\n",
       "    </tr>\n",
       "  </tbody>\n",
       "</table>\n",
       "</div>"
      ],
      "text/plain": [
       "        Unnamed: 0        id  mb_used session_date  user_id\n",
       "31710        31710  1110_304   106.42   2018-11-17     1110\n",
       "107610      107610  1365_134   140.49   2018-12-23     1365\n",
       "40112        40112  1142_193   203.95   2018-12-16     1142\n",
       "46934        46934  1160_226    98.12   2018-10-09     1160\n",
       "35425        35425  1123_389     0.00   2018-12-14     1123\n",
       "8718          8718  1030_187   656.56   2018-12-28     1030\n",
       "129069      129069  1431_103   187.46   2018-09-19     1431\n",
       "90464        90464   1307_81   403.29   2018-11-27     1307\n",
       "146546      146546  1490_289   299.02   2018-11-19     1490\n",
       "16128        16128  1055_586   215.94   2018-11-25     1055"
      ]
     },
     "execution_count": 118,
     "metadata": {},
     "output_type": "execute_result"
    }
   ],
   "source": [
    "internet.sample(10)"
   ]
  },
  {
   "cell_type": "markdown",
   "metadata": {},
   "source": [
    "Разберемся со столбцом **Unnamed: 0**"
   ]
  },
  {
   "cell_type": "code",
   "execution_count": 119,
   "metadata": {},
   "outputs": [
    {
     "data": {
      "text/html": [
       "<div>\n",
       "<style scoped>\n",
       "    .dataframe tbody tr th:only-of-type {\n",
       "        vertical-align: middle;\n",
       "    }\n",
       "\n",
       "    .dataframe tbody tr th {\n",
       "        vertical-align: top;\n",
       "    }\n",
       "\n",
       "    .dataframe thead th {\n",
       "        text-align: right;\n",
       "    }\n",
       "</style>\n",
       "<table border=\"1\" class=\"dataframe\">\n",
       "  <thead>\n",
       "    <tr style=\"text-align: right;\">\n",
       "      <th></th>\n",
       "      <th>Unnamed: 0</th>\n",
       "      <th>id</th>\n",
       "      <th>mb_used</th>\n",
       "      <th>session_date</th>\n",
       "      <th>user_id</th>\n",
       "    </tr>\n",
       "  </thead>\n",
       "  <tbody>\n",
       "    <tr>\n",
       "      <td>0</td>\n",
       "      <td>0</td>\n",
       "      <td>1000_0</td>\n",
       "      <td>112.95</td>\n",
       "      <td>2018-11-25</td>\n",
       "      <td>1000</td>\n",
       "    </tr>\n",
       "    <tr>\n",
       "      <td>1</td>\n",
       "      <td>1</td>\n",
       "      <td>1000_1</td>\n",
       "      <td>1,052.81</td>\n",
       "      <td>2018-09-07</td>\n",
       "      <td>1000</td>\n",
       "    </tr>\n",
       "    <tr>\n",
       "      <td>2</td>\n",
       "      <td>2</td>\n",
       "      <td>1000_2</td>\n",
       "      <td>1,197.26</td>\n",
       "      <td>2018-06-25</td>\n",
       "      <td>1000</td>\n",
       "    </tr>\n",
       "    <tr>\n",
       "      <td>3</td>\n",
       "      <td>3</td>\n",
       "      <td>1000_3</td>\n",
       "      <td>550.27</td>\n",
       "      <td>2018-08-22</td>\n",
       "      <td>1000</td>\n",
       "    </tr>\n",
       "    <tr>\n",
       "      <td>4</td>\n",
       "      <td>4</td>\n",
       "      <td>1000_4</td>\n",
       "      <td>302.56</td>\n",
       "      <td>2018-09-24</td>\n",
       "      <td>1000</td>\n",
       "    </tr>\n",
       "    <tr>\n",
       "      <td>5</td>\n",
       "      <td>5</td>\n",
       "      <td>1000_5</td>\n",
       "      <td>399.97</td>\n",
       "      <td>2018-10-02</td>\n",
       "      <td>1000</td>\n",
       "    </tr>\n",
       "    <tr>\n",
       "      <td>6</td>\n",
       "      <td>6</td>\n",
       "      <td>1000_6</td>\n",
       "      <td>540.08</td>\n",
       "      <td>2018-09-07</td>\n",
       "      <td>1000</td>\n",
       "    </tr>\n",
       "    <tr>\n",
       "      <td>7</td>\n",
       "      <td>7</td>\n",
       "      <td>1000_7</td>\n",
       "      <td>415.70</td>\n",
       "      <td>2018-07-11</td>\n",
       "      <td>1000</td>\n",
       "    </tr>\n",
       "    <tr>\n",
       "      <td>8</td>\n",
       "      <td>8</td>\n",
       "      <td>1000_8</td>\n",
       "      <td>505.40</td>\n",
       "      <td>2018-10-08</td>\n",
       "      <td>1000</td>\n",
       "    </tr>\n",
       "    <tr>\n",
       "      <td>9</td>\n",
       "      <td>9</td>\n",
       "      <td>1000_9</td>\n",
       "      <td>345.54</td>\n",
       "      <td>2018-09-03</td>\n",
       "      <td>1000</td>\n",
       "    </tr>\n",
       "  </tbody>\n",
       "</table>\n",
       "</div>"
      ],
      "text/plain": [
       "   Unnamed: 0      id  mb_used session_date  user_id\n",
       "0           0  1000_0   112.95   2018-11-25     1000\n",
       "1           1  1000_1 1,052.81   2018-09-07     1000\n",
       "2           2  1000_2 1,197.26   2018-06-25     1000\n",
       "3           3  1000_3   550.27   2018-08-22     1000\n",
       "4           4  1000_4   302.56   2018-09-24     1000\n",
       "5           5  1000_5   399.97   2018-10-02     1000\n",
       "6           6  1000_6   540.08   2018-09-07     1000\n",
       "7           7  1000_7   415.70   2018-07-11     1000\n",
       "8           8  1000_8   505.40   2018-10-08     1000\n",
       "9           9  1000_9   345.54   2018-09-03     1000"
      ]
     },
     "execution_count": 119,
     "metadata": {},
     "output_type": "execute_result"
    }
   ],
   "source": [
    "internet.head(10)"
   ]
  },
  {
   "cell_type": "code",
   "execution_count": 120,
   "metadata": {},
   "outputs": [
    {
     "data": {
      "text/html": [
       "<div>\n",
       "<style scoped>\n",
       "    .dataframe tbody tr th:only-of-type {\n",
       "        vertical-align: middle;\n",
       "    }\n",
       "\n",
       "    .dataframe tbody tr th {\n",
       "        vertical-align: top;\n",
       "    }\n",
       "\n",
       "    .dataframe thead th {\n",
       "        text-align: right;\n",
       "    }\n",
       "</style>\n",
       "<table border=\"1\" class=\"dataframe\">\n",
       "  <thead>\n",
       "    <tr style=\"text-align: right;\">\n",
       "      <th></th>\n",
       "      <th>Unnamed: 0</th>\n",
       "      <th>id</th>\n",
       "      <th>mb_used</th>\n",
       "      <th>session_date</th>\n",
       "      <th>user_id</th>\n",
       "    </tr>\n",
       "  </thead>\n",
       "  <tbody>\n",
       "    <tr>\n",
       "      <td>149386</td>\n",
       "      <td>149386</td>\n",
       "      <td>1499_147</td>\n",
       "      <td>0.00</td>\n",
       "      <td>2018-10-21</td>\n",
       "      <td>1499</td>\n",
       "    </tr>\n",
       "    <tr>\n",
       "      <td>149387</td>\n",
       "      <td>149387</td>\n",
       "      <td>1499_148</td>\n",
       "      <td>268.19</td>\n",
       "      <td>2018-11-13</td>\n",
       "      <td>1499</td>\n",
       "    </tr>\n",
       "    <tr>\n",
       "      <td>149388</td>\n",
       "      <td>149388</td>\n",
       "      <td>1499_149</td>\n",
       "      <td>778.68</td>\n",
       "      <td>2018-11-24</td>\n",
       "      <td>1499</td>\n",
       "    </tr>\n",
       "    <tr>\n",
       "      <td>149389</td>\n",
       "      <td>149389</td>\n",
       "      <td>1499_150</td>\n",
       "      <td>273.98</td>\n",
       "      <td>2018-11-20</td>\n",
       "      <td>1499</td>\n",
       "    </tr>\n",
       "    <tr>\n",
       "      <td>149390</td>\n",
       "      <td>149390</td>\n",
       "      <td>1499_151</td>\n",
       "      <td>752.72</td>\n",
       "      <td>2018-10-11</td>\n",
       "      <td>1499</td>\n",
       "    </tr>\n",
       "    <tr>\n",
       "      <td>149391</td>\n",
       "      <td>149391</td>\n",
       "      <td>1499_152</td>\n",
       "      <td>318.90</td>\n",
       "      <td>2018-10-03</td>\n",
       "      <td>1499</td>\n",
       "    </tr>\n",
       "    <tr>\n",
       "      <td>149392</td>\n",
       "      <td>149392</td>\n",
       "      <td>1499_153</td>\n",
       "      <td>490.13</td>\n",
       "      <td>2018-12-14</td>\n",
       "      <td>1499</td>\n",
       "    </tr>\n",
       "    <tr>\n",
       "      <td>149393</td>\n",
       "      <td>149393</td>\n",
       "      <td>1499_154</td>\n",
       "      <td>0.00</td>\n",
       "      <td>2018-10-27</td>\n",
       "      <td>1499</td>\n",
       "    </tr>\n",
       "    <tr>\n",
       "      <td>149394</td>\n",
       "      <td>149394</td>\n",
       "      <td>1499_155</td>\n",
       "      <td>1,246.32</td>\n",
       "      <td>2018-11-26</td>\n",
       "      <td>1499</td>\n",
       "    </tr>\n",
       "    <tr>\n",
       "      <td>149395</td>\n",
       "      <td>149395</td>\n",
       "      <td>1499_156</td>\n",
       "      <td>544.37</td>\n",
       "      <td>2018-10-26</td>\n",
       "      <td>1499</td>\n",
       "    </tr>\n",
       "  </tbody>\n",
       "</table>\n",
       "</div>"
      ],
      "text/plain": [
       "        Unnamed: 0        id  mb_used session_date  user_id\n",
       "149386      149386  1499_147     0.00   2018-10-21     1499\n",
       "149387      149387  1499_148   268.19   2018-11-13     1499\n",
       "149388      149388  1499_149   778.68   2018-11-24     1499\n",
       "149389      149389  1499_150   273.98   2018-11-20     1499\n",
       "149390      149390  1499_151   752.72   2018-10-11     1499\n",
       "149391      149391  1499_152   318.90   2018-10-03     1499\n",
       "149392      149392  1499_153   490.13   2018-12-14     1499\n",
       "149393      149393  1499_154     0.00   2018-10-27     1499\n",
       "149394      149394  1499_155 1,246.32   2018-11-26     1499\n",
       "149395      149395  1499_156   544.37   2018-10-26     1499"
      ]
     },
     "execution_count": 120,
     "metadata": {},
     "output_type": "execute_result"
    }
   ],
   "source": [
    "internet.tail(10)"
   ]
  },
  {
   "cell_type": "markdown",
   "metadata": {},
   "source": [
    "Значения повторяют номер строки в датасете. Попробуем удалить столбец и дальше работать без него."
   ]
  },
  {
   "cell_type": "code",
   "execution_count": 121,
   "metadata": {},
   "outputs": [],
   "source": [
    "internet.drop(labels='Unnamed: 0', axis=1, inplace=True)"
   ]
  },
  {
   "cell_type": "code",
   "execution_count": 122,
   "metadata": {},
   "outputs": [
    {
     "name": "stdout",
     "output_type": "stream",
     "text": [
      "<class 'pandas.core.frame.DataFrame'>\n",
      "RangeIndex: 149396 entries, 0 to 149395\n",
      "Data columns (total 4 columns):\n",
      "id              149396 non-null object\n",
      "mb_used         149396 non-null float64\n",
      "session_date    149396 non-null datetime64[ns]\n",
      "user_id         149396 non-null int64\n",
      "dtypes: datetime64[ns](1), float64(1), int64(1), object(1)\n",
      "memory usage: 4.6+ MB\n"
     ]
    }
   ],
   "source": [
    "internet.info()"
   ]
  },
  {
   "cell_type": "code",
   "execution_count": 123,
   "metadata": {},
   "outputs": [
    {
     "data": {
      "text/html": [
       "<div>\n",
       "<style scoped>\n",
       "    .dataframe tbody tr th:only-of-type {\n",
       "        vertical-align: middle;\n",
       "    }\n",
       "\n",
       "    .dataframe tbody tr th {\n",
       "        vertical-align: top;\n",
       "    }\n",
       "\n",
       "    .dataframe thead th {\n",
       "        text-align: right;\n",
       "    }\n",
       "</style>\n",
       "<table border=\"1\" class=\"dataframe\">\n",
       "  <thead>\n",
       "    <tr style=\"text-align: right;\">\n",
       "      <th></th>\n",
       "      <th>id</th>\n",
       "      <th>mb_used</th>\n",
       "      <th>session_date</th>\n",
       "      <th>user_id</th>\n",
       "    </tr>\n",
       "  </thead>\n",
       "  <tbody>\n",
       "    <tr>\n",
       "      <td>33944</td>\n",
       "      <td>1119_98</td>\n",
       "      <td>208.81</td>\n",
       "      <td>2018-11-08</td>\n",
       "      <td>1119</td>\n",
       "    </tr>\n",
       "    <tr>\n",
       "      <td>116453</td>\n",
       "      <td>1392_196</td>\n",
       "      <td>557.63</td>\n",
       "      <td>2018-08-24</td>\n",
       "      <td>1392</td>\n",
       "    </tr>\n",
       "    <tr>\n",
       "      <td>84928</td>\n",
       "      <td>1289_74</td>\n",
       "      <td>1,023.62</td>\n",
       "      <td>2018-12-20</td>\n",
       "      <td>1289</td>\n",
       "    </tr>\n",
       "    <tr>\n",
       "      <td>101562</td>\n",
       "      <td>1340_273</td>\n",
       "      <td>238.21</td>\n",
       "      <td>2018-12-17</td>\n",
       "      <td>1340</td>\n",
       "    </tr>\n",
       "    <tr>\n",
       "      <td>17330</td>\n",
       "      <td>1059_336</td>\n",
       "      <td>0.00</td>\n",
       "      <td>2018-08-03</td>\n",
       "      <td>1059</td>\n",
       "    </tr>\n",
       "    <tr>\n",
       "      <td>145093</td>\n",
       "      <td>1483_472</td>\n",
       "      <td>316.48</td>\n",
       "      <td>2018-11-18</td>\n",
       "      <td>1483</td>\n",
       "    </tr>\n",
       "    <tr>\n",
       "      <td>37218</td>\n",
       "      <td>1130_116</td>\n",
       "      <td>103.90</td>\n",
       "      <td>2018-10-24</td>\n",
       "      <td>1130</td>\n",
       "    </tr>\n",
       "    <tr>\n",
       "      <td>86815</td>\n",
       "      <td>1294_157</td>\n",
       "      <td>864.24</td>\n",
       "      <td>2018-11-09</td>\n",
       "      <td>1294</td>\n",
       "    </tr>\n",
       "    <tr>\n",
       "      <td>99586</td>\n",
       "      <td>1333_121</td>\n",
       "      <td>172.10</td>\n",
       "      <td>2018-10-21</td>\n",
       "      <td>1333</td>\n",
       "    </tr>\n",
       "    <tr>\n",
       "      <td>143247</td>\n",
       "      <td>1479_322</td>\n",
       "      <td>164.02</td>\n",
       "      <td>2018-09-09</td>\n",
       "      <td>1479</td>\n",
       "    </tr>\n",
       "  </tbody>\n",
       "</table>\n",
       "</div>"
      ],
      "text/plain": [
       "              id  mb_used session_date  user_id\n",
       "33944    1119_98   208.81   2018-11-08     1119\n",
       "116453  1392_196   557.63   2018-08-24     1392\n",
       "84928    1289_74 1,023.62   2018-12-20     1289\n",
       "101562  1340_273   238.21   2018-12-17     1340\n",
       "17330   1059_336     0.00   2018-08-03     1059\n",
       "145093  1483_472   316.48   2018-11-18     1483\n",
       "37218   1130_116   103.90   2018-10-24     1130\n",
       "86815   1294_157   864.24   2018-11-09     1294\n",
       "99586   1333_121   172.10   2018-10-21     1333\n",
       "143247  1479_322   164.02   2018-09-09     1479"
      ]
     },
     "execution_count": 123,
     "metadata": {},
     "output_type": "execute_result"
    }
   ],
   "source": [
    "internet.sample(10)"
   ]
  },
  {
   "cell_type": "markdown",
   "metadata": {},
   "source": [
    "Удаление столбца произведено корректно."
   ]
  },
  {
   "cell_type": "markdown",
   "metadata": {},
   "source": [
    "Проверим наличие дублей."
   ]
  },
  {
   "cell_type": "code",
   "execution_count": 124,
   "metadata": {
    "scrolled": true
   },
   "outputs": [
    {
     "data": {
      "text/plain": [
       "0"
      ]
     },
     "execution_count": 124,
     "metadata": {},
     "output_type": "execute_result"
    }
   ],
   "source": [
    "internet.duplicated().sum()"
   ]
  },
  {
   "cell_type": "markdown",
   "metadata": {},
   "source": [
    "Дублей нет."
   ]
  },
  {
   "cell_type": "code",
   "execution_count": 125,
   "metadata": {},
   "outputs": [],
   "source": [
    "internet_zeros = internet.pivot_table"
   ]
  },
  {
   "cell_type": "markdown",
   "metadata": {},
   "source": [
    "**Вывод**"
   ]
  },
  {
   "cell_type": "markdown",
   "metadata": {},
   "source": [
    "Изучены данные в таблице **internet**, были выявлены проблемы с неверным типом данных для столбцов с датами, произведено исправление типов данных. Также в таблице присутствовал столбец дублирующий номер строки датасета. Возможно он появился из-за ошибок при выгрузке и формировании данных."
   ]
  },
  {
   "cell_type": "markdown",
   "metadata": {},
   "source": [
    "### Таблица Tariffs"
   ]
  },
  {
   "cell_type": "code",
   "execution_count": 126,
   "metadata": {},
   "outputs": [
    {
     "name": "stdout",
     "output_type": "stream",
     "text": [
      "<class 'pandas.core.frame.DataFrame'>\n",
      "RangeIndex: 2 entries, 0 to 1\n",
      "Data columns (total 8 columns):\n",
      "messages_included        2 non-null int64\n",
      "mb_per_month_included    2 non-null int64\n",
      "minutes_included         2 non-null int64\n",
      "rub_monthly_fee          2 non-null int64\n",
      "rub_per_gb               2 non-null int64\n",
      "rub_per_message          2 non-null int64\n",
      "rub_per_minute           2 non-null int64\n",
      "tariff_name              2 non-null object\n",
      "dtypes: int64(7), object(1)\n",
      "memory usage: 256.0+ bytes\n"
     ]
    }
   ],
   "source": [
    "tariffs.info()"
   ]
  },
  {
   "cell_type": "code",
   "execution_count": 127,
   "metadata": {},
   "outputs": [
    {
     "data": {
      "text/html": [
       "<div>\n",
       "<style scoped>\n",
       "    .dataframe tbody tr th:only-of-type {\n",
       "        vertical-align: middle;\n",
       "    }\n",
       "\n",
       "    .dataframe tbody tr th {\n",
       "        vertical-align: top;\n",
       "    }\n",
       "\n",
       "    .dataframe thead th {\n",
       "        text-align: right;\n",
       "    }\n",
       "</style>\n",
       "<table border=\"1\" class=\"dataframe\">\n",
       "  <thead>\n",
       "    <tr style=\"text-align: right;\">\n",
       "      <th></th>\n",
       "      <th>messages_included</th>\n",
       "      <th>mb_per_month_included</th>\n",
       "      <th>minutes_included</th>\n",
       "      <th>rub_monthly_fee</th>\n",
       "      <th>rub_per_gb</th>\n",
       "      <th>rub_per_message</th>\n",
       "      <th>rub_per_minute</th>\n",
       "      <th>tariff_name</th>\n",
       "    </tr>\n",
       "  </thead>\n",
       "  <tbody>\n",
       "    <tr>\n",
       "      <td>0</td>\n",
       "      <td>50</td>\n",
       "      <td>15360</td>\n",
       "      <td>500</td>\n",
       "      <td>550</td>\n",
       "      <td>200</td>\n",
       "      <td>3</td>\n",
       "      <td>3</td>\n",
       "      <td>smart</td>\n",
       "    </tr>\n",
       "    <tr>\n",
       "      <td>1</td>\n",
       "      <td>1000</td>\n",
       "      <td>30720</td>\n",
       "      <td>3000</td>\n",
       "      <td>1950</td>\n",
       "      <td>150</td>\n",
       "      <td>1</td>\n",
       "      <td>1</td>\n",
       "      <td>ultra</td>\n",
       "    </tr>\n",
       "  </tbody>\n",
       "</table>\n",
       "</div>"
      ],
      "text/plain": [
       "   messages_included  mb_per_month_included  minutes_included  \\\n",
       "0                 50                  15360               500   \n",
       "1               1000                  30720              3000   \n",
       "\n",
       "   rub_monthly_fee  rub_per_gb  rub_per_message  rub_per_minute tariff_name  \n",
       "0              550         200                3               3       smart  \n",
       "1             1950         150                1               1       ultra  "
      ]
     },
     "execution_count": 127,
     "metadata": {},
     "output_type": "execute_result"
    }
   ],
   "source": [
    "tariffs.head()"
   ]
  },
  {
   "cell_type": "markdown",
   "metadata": {},
   "source": [
    "Все выглядит в порядке, значения соответствуют изложенным в исходных данных к заданию."
   ]
  },
  {
   "cell_type": "markdown",
   "metadata": {},
   "source": [
    "**Вывод**"
   ]
  },
  {
   "cell_type": "markdown",
   "metadata": {},
   "source": [
    "Таблица с данными о тарифах в порядке, никаких обработок не требуется."
   ]
  },
  {
   "cell_type": "markdown",
   "metadata": {},
   "source": [
    "## Подготовка данных"
   ]
  },
  {
   "cell_type": "markdown",
   "metadata": {},
   "source": [
    "Выполним расчет параметров, которые будут использованы при дальнейшем анализе.\n",
    "- количество сделанных звонков и израсходованных минут разговора по месяцам\n",
    "- количество отправленных сообщений по месяцам\n",
    "- объем израсходованного интернет-трафика по месяцам\n",
    "- помесячную выручку с каждого пользователя\n",
    "(вычтите бесплатный лимит из суммарного количества звонков, сообщений и интернет-трафика, остаток умножьте на значение из тарифного плана)"
   ]
  },
  {
   "cell_type": "markdown",
   "metadata": {},
   "source": [
    "### Количество сделанных звонков и израсходованных минут разговора по месяцам"
   ]
  },
  {
   "cell_type": "markdown",
   "metadata": {},
   "source": [
    "Выполним следующие операции с таблицей **calls**:\n",
    "- добавим колонку с месяцем с помощью метода dt.month(), можно было бы через month_name(), но тогда он добавит название месяца, что может вызвать неудобства при сортировке (порядок будет по алфавитному названию месяца, а не по номеру);\n",
    "- создадим отдельную таблицу со звонками пользователей, сгруппированную по **user_id** и **month**, затем просуммируем длительности звонков, по столбцу **id** выполним подсчет;\n",
    "- затем в новой таблице переименуем столбцы."
   ]
  },
  {
   "cell_type": "code",
   "execution_count": 128,
   "metadata": {},
   "outputs": [],
   "source": [
    "calls['month'] = calls['call_date'].dt.month"
   ]
  },
  {
   "cell_type": "code",
   "execution_count": 129,
   "metadata": {
    "scrolled": true
   },
   "outputs": [
    {
     "data": {
      "text/html": [
       "<div>\n",
       "<style scoped>\n",
       "    .dataframe tbody tr th:only-of-type {\n",
       "        vertical-align: middle;\n",
       "    }\n",
       "\n",
       "    .dataframe tbody tr th {\n",
       "        vertical-align: top;\n",
       "    }\n",
       "\n",
       "    .dataframe thead th {\n",
       "        text-align: right;\n",
       "    }\n",
       "</style>\n",
       "<table border=\"1\" class=\"dataframe\">\n",
       "  <thead>\n",
       "    <tr style=\"text-align: right;\">\n",
       "      <th></th>\n",
       "      <th>id</th>\n",
       "      <th>call_date</th>\n",
       "      <th>duration</th>\n",
       "      <th>user_id</th>\n",
       "      <th>month</th>\n",
       "    </tr>\n",
       "  </thead>\n",
       "  <tbody>\n",
       "    <tr>\n",
       "      <td>69579</td>\n",
       "      <td>1174_619</td>\n",
       "      <td>2018-10-19</td>\n",
       "      <td>8</td>\n",
       "      <td>1174</td>\n",
       "      <td>10</td>\n",
       "    </tr>\n",
       "    <tr>\n",
       "      <td>160045</td>\n",
       "      <td>1394_450</td>\n",
       "      <td>2018-07-09</td>\n",
       "      <td>10</td>\n",
       "      <td>1394</td>\n",
       "      <td>7</td>\n",
       "    </tr>\n",
       "    <tr>\n",
       "      <td>119843</td>\n",
       "      <td>1310_38</td>\n",
       "      <td>2018-12-15</td>\n",
       "      <td>11</td>\n",
       "      <td>1310</td>\n",
       "      <td>12</td>\n",
       "    </tr>\n",
       "    <tr>\n",
       "      <td>40379</td>\n",
       "      <td>1099_752</td>\n",
       "      <td>2018-08-27</td>\n",
       "      <td>2</td>\n",
       "      <td>1099</td>\n",
       "      <td>8</td>\n",
       "    </tr>\n",
       "    <tr>\n",
       "      <td>93712</td>\n",
       "      <td>1236_31</td>\n",
       "      <td>2018-12-27</td>\n",
       "      <td>0</td>\n",
       "      <td>1236</td>\n",
       "      <td>12</td>\n",
       "    </tr>\n",
       "    <tr>\n",
       "      <td>23851</td>\n",
       "      <td>1060_161</td>\n",
       "      <td>2018-12-25</td>\n",
       "      <td>1</td>\n",
       "      <td>1060</td>\n",
       "      <td>12</td>\n",
       "    </tr>\n",
       "    <tr>\n",
       "      <td>171290</td>\n",
       "      <td>1423_261</td>\n",
       "      <td>2018-12-27</td>\n",
       "      <td>0</td>\n",
       "      <td>1423</td>\n",
       "      <td>12</td>\n",
       "    </tr>\n",
       "    <tr>\n",
       "      <td>26894</td>\n",
       "      <td>1066_315</td>\n",
       "      <td>2018-09-04</td>\n",
       "      <td>11</td>\n",
       "      <td>1066</td>\n",
       "      <td>9</td>\n",
       "    </tr>\n",
       "    <tr>\n",
       "      <td>184816</td>\n",
       "      <td>1458_108</td>\n",
       "      <td>2018-06-08</td>\n",
       "      <td>0</td>\n",
       "      <td>1458</td>\n",
       "      <td>6</td>\n",
       "    </tr>\n",
       "    <tr>\n",
       "      <td>83331</td>\n",
       "      <td>1208_183</td>\n",
       "      <td>2018-07-09</td>\n",
       "      <td>1</td>\n",
       "      <td>1208</td>\n",
       "      <td>7</td>\n",
       "    </tr>\n",
       "  </tbody>\n",
       "</table>\n",
       "</div>"
      ],
      "text/plain": [
       "              id  call_date  duration  user_id  month\n",
       "69579   1174_619 2018-10-19         8     1174     10\n",
       "160045  1394_450 2018-07-09        10     1394      7\n",
       "119843   1310_38 2018-12-15        11     1310     12\n",
       "40379   1099_752 2018-08-27         2     1099      8\n",
       "93712    1236_31 2018-12-27         0     1236     12\n",
       "23851   1060_161 2018-12-25         1     1060     12\n",
       "171290  1423_261 2018-12-27         0     1423     12\n",
       "26894   1066_315 2018-09-04        11     1066      9\n",
       "184816  1458_108 2018-06-08         0     1458      6\n",
       "83331   1208_183 2018-07-09         1     1208      7"
      ]
     },
     "execution_count": 129,
     "metadata": {},
     "output_type": "execute_result"
    }
   ],
   "source": [
    "calls.sample(10)"
   ]
  },
  {
   "cell_type": "code",
   "execution_count": 130,
   "metadata": {},
   "outputs": [],
   "source": [
    "grouped_calls = (calls.pivot_table(index = ['user_id', 'month'], values = ['duration', 'id'], \n",
    "                    aggfunc = {'duration':'sum', 'id':'count'})\n",
    "                   .reset_index().rename(columns={'duration':'month_calls_duration','id':'total_calls_in_month'}))"
   ]
  },
  {
   "cell_type": "code",
   "execution_count": 131,
   "metadata": {
    "scrolled": true
   },
   "outputs": [
    {
     "data": {
      "text/html": [
       "<div>\n",
       "<style scoped>\n",
       "    .dataframe tbody tr th:only-of-type {\n",
       "        vertical-align: middle;\n",
       "    }\n",
       "\n",
       "    .dataframe tbody tr th {\n",
       "        vertical-align: top;\n",
       "    }\n",
       "\n",
       "    .dataframe thead th {\n",
       "        text-align: right;\n",
       "    }\n",
       "</style>\n",
       "<table border=\"1\" class=\"dataframe\">\n",
       "  <thead>\n",
       "    <tr style=\"text-align: right;\">\n",
       "      <th></th>\n",
       "      <th>user_id</th>\n",
       "      <th>month</th>\n",
       "      <th>month_calls_duration</th>\n",
       "      <th>total_calls_in_month</th>\n",
       "    </tr>\n",
       "  </thead>\n",
       "  <tbody>\n",
       "    <tr>\n",
       "      <td>85</td>\n",
       "      <td>1011</td>\n",
       "      <td>10</td>\n",
       "      <td>630</td>\n",
       "      <td>76</td>\n",
       "    </tr>\n",
       "    <tr>\n",
       "      <td>1065</td>\n",
       "      <td>1171</td>\n",
       "      <td>10</td>\n",
       "      <td>656</td>\n",
       "      <td>97</td>\n",
       "    </tr>\n",
       "    <tr>\n",
       "      <td>2986</td>\n",
       "      <td>1469</td>\n",
       "      <td>9</td>\n",
       "      <td>763</td>\n",
       "      <td>104</td>\n",
       "    </tr>\n",
       "    <tr>\n",
       "      <td>3048</td>\n",
       "      <td>1478</td>\n",
       "      <td>8</td>\n",
       "      <td>305</td>\n",
       "      <td>45</td>\n",
       "    </tr>\n",
       "    <tr>\n",
       "      <td>971</td>\n",
       "      <td>1155</td>\n",
       "      <td>9</td>\n",
       "      <td>503</td>\n",
       "      <td>56</td>\n",
       "    </tr>\n",
       "    <tr>\n",
       "      <td>2982</td>\n",
       "      <td>1468</td>\n",
       "      <td>11</td>\n",
       "      <td>276</td>\n",
       "      <td>36</td>\n",
       "    </tr>\n",
       "    <tr>\n",
       "      <td>381</td>\n",
       "      <td>1059</td>\n",
       "      <td>12</td>\n",
       "      <td>726</td>\n",
       "      <td>92</td>\n",
       "    </tr>\n",
       "    <tr>\n",
       "      <td>690</td>\n",
       "      <td>1111</td>\n",
       "      <td>11</td>\n",
       "      <td>347</td>\n",
       "      <td>53</td>\n",
       "    </tr>\n",
       "    <tr>\n",
       "      <td>2663</td>\n",
       "      <td>1420</td>\n",
       "      <td>12</td>\n",
       "      <td>231</td>\n",
       "      <td>36</td>\n",
       "    </tr>\n",
       "    <tr>\n",
       "      <td>2146</td>\n",
       "      <td>1342</td>\n",
       "      <td>10</td>\n",
       "      <td>153</td>\n",
       "      <td>23</td>\n",
       "    </tr>\n",
       "  </tbody>\n",
       "</table>\n",
       "</div>"
      ],
      "text/plain": [
       "      user_id  month  month_calls_duration  total_calls_in_month\n",
       "85       1011     10                   630                    76\n",
       "1065     1171     10                   656                    97\n",
       "2986     1469      9                   763                   104\n",
       "3048     1478      8                   305                    45\n",
       "971      1155      9                   503                    56\n",
       "2982     1468     11                   276                    36\n",
       "381      1059     12                   726                    92\n",
       "690      1111     11                   347                    53\n",
       "2663     1420     12                   231                    36\n",
       "2146     1342     10                   153                    23"
      ]
     },
     "execution_count": 131,
     "metadata": {},
     "output_type": "execute_result"
    }
   ],
   "source": [
    "grouped_calls.sample(10)"
   ]
  },
  {
   "cell_type": "code",
   "execution_count": 132,
   "metadata": {},
   "outputs": [
    {
     "name": "stdout",
     "output_type": "stream",
     "text": [
      "<class 'pandas.core.frame.DataFrame'>\n",
      "RangeIndex: 3174 entries, 0 to 3173\n",
      "Data columns (total 4 columns):\n",
      "user_id                 3174 non-null int64\n",
      "month                   3174 non-null int64\n",
      "month_calls_duration    3174 non-null int64\n",
      "total_calls_in_month    3174 non-null int64\n",
      "dtypes: int64(4)\n",
      "memory usage: 99.3 KB\n"
     ]
    }
   ],
   "source": [
    "grouped_calls.info()"
   ]
  },
  {
   "cell_type": "markdown",
   "metadata": {},
   "source": [
    "### Количество отправленных сообщений по месяцам"
   ]
  },
  {
   "cell_type": "markdown",
   "metadata": {},
   "source": [
    "Аналогично как и со звонками, в таблице **messages**, добавим столбец с номером месяца, сгруппируем по пользователю и месяцу, подсчитаем количество сообщений, отправленных каждым пользователем."
   ]
  },
  {
   "cell_type": "code",
   "execution_count": 133,
   "metadata": {},
   "outputs": [],
   "source": [
    "messages['month'] = messages['message_date'].dt.month"
   ]
  },
  {
   "cell_type": "code",
   "execution_count": 134,
   "metadata": {},
   "outputs": [
    {
     "data": {
      "text/html": [
       "<div>\n",
       "<style scoped>\n",
       "    .dataframe tbody tr th:only-of-type {\n",
       "        vertical-align: middle;\n",
       "    }\n",
       "\n",
       "    .dataframe tbody tr th {\n",
       "        vertical-align: top;\n",
       "    }\n",
       "\n",
       "    .dataframe thead th {\n",
       "        text-align: right;\n",
       "    }\n",
       "</style>\n",
       "<table border=\"1\" class=\"dataframe\">\n",
       "  <thead>\n",
       "    <tr style=\"text-align: right;\">\n",
       "      <th></th>\n",
       "      <th>id</th>\n",
       "      <th>message_date</th>\n",
       "      <th>user_id</th>\n",
       "      <th>month</th>\n",
       "    </tr>\n",
       "  </thead>\n",
       "  <tbody>\n",
       "    <tr>\n",
       "      <td>101029</td>\n",
       "      <td>1412_331</td>\n",
       "      <td>2018-10-25</td>\n",
       "      <td>1412</td>\n",
       "      <td>10</td>\n",
       "    </tr>\n",
       "    <tr>\n",
       "      <td>44568</td>\n",
       "      <td>1196_18</td>\n",
       "      <td>2018-05-30</td>\n",
       "      <td>1196</td>\n",
       "      <td>5</td>\n",
       "    </tr>\n",
       "    <tr>\n",
       "      <td>35901</td>\n",
       "      <td>1155_290</td>\n",
       "      <td>2018-04-20</td>\n",
       "      <td>1155</td>\n",
       "      <td>4</td>\n",
       "    </tr>\n",
       "    <tr>\n",
       "      <td>109525</td>\n",
       "      <td>1440_466</td>\n",
       "      <td>2018-12-11</td>\n",
       "      <td>1440</td>\n",
       "      <td>12</td>\n",
       "    </tr>\n",
       "    <tr>\n",
       "      <td>56888</td>\n",
       "      <td>1251_352</td>\n",
       "      <td>2018-11-18</td>\n",
       "      <td>1251</td>\n",
       "      <td>11</td>\n",
       "    </tr>\n",
       "    <tr>\n",
       "      <td>9495</td>\n",
       "      <td>1039_151</td>\n",
       "      <td>2018-07-01</td>\n",
       "      <td>1039</td>\n",
       "      <td>7</td>\n",
       "    </tr>\n",
       "    <tr>\n",
       "      <td>7347</td>\n",
       "      <td>1030_258</td>\n",
       "      <td>2018-12-08</td>\n",
       "      <td>1030</td>\n",
       "      <td>12</td>\n",
       "    </tr>\n",
       "    <tr>\n",
       "      <td>39640</td>\n",
       "      <td>1168_418</td>\n",
       "      <td>2018-02-01</td>\n",
       "      <td>1168</td>\n",
       "      <td>2</td>\n",
       "    </tr>\n",
       "    <tr>\n",
       "      <td>31915</td>\n",
       "      <td>1144_54</td>\n",
       "      <td>2018-12-04</td>\n",
       "      <td>1144</td>\n",
       "      <td>12</td>\n",
       "    </tr>\n",
       "    <tr>\n",
       "      <td>87399</td>\n",
       "      <td>1364_133</td>\n",
       "      <td>2018-12-03</td>\n",
       "      <td>1364</td>\n",
       "      <td>12</td>\n",
       "    </tr>\n",
       "  </tbody>\n",
       "</table>\n",
       "</div>"
      ],
      "text/plain": [
       "              id message_date  user_id  month\n",
       "101029  1412_331   2018-10-25     1412     10\n",
       "44568    1196_18   2018-05-30     1196      5\n",
       "35901   1155_290   2018-04-20     1155      4\n",
       "109525  1440_466   2018-12-11     1440     12\n",
       "56888   1251_352   2018-11-18     1251     11\n",
       "9495    1039_151   2018-07-01     1039      7\n",
       "7347    1030_258   2018-12-08     1030     12\n",
       "39640   1168_418   2018-02-01     1168      2\n",
       "31915    1144_54   2018-12-04     1144     12\n",
       "87399   1364_133   2018-12-03     1364     12"
      ]
     },
     "execution_count": 134,
     "metadata": {},
     "output_type": "execute_result"
    }
   ],
   "source": [
    "messages.sample(10)"
   ]
  },
  {
   "cell_type": "code",
   "execution_count": 135,
   "metadata": {},
   "outputs": [],
   "source": [
    "grouped_messages = (messages.pivot_table(index = ['user_id', 'month'], values = ['id'], \n",
    "                    aggfunc = {'id':'count'})\n",
    "                   .reset_index().rename(columns={'id':'total_messages_in_month'}))"
   ]
  },
  {
   "cell_type": "code",
   "execution_count": 136,
   "metadata": {},
   "outputs": [
    {
     "data": {
      "text/html": [
       "<div>\n",
       "<style scoped>\n",
       "    .dataframe tbody tr th:only-of-type {\n",
       "        vertical-align: middle;\n",
       "    }\n",
       "\n",
       "    .dataframe tbody tr th {\n",
       "        vertical-align: top;\n",
       "    }\n",
       "\n",
       "    .dataframe thead th {\n",
       "        text-align: right;\n",
       "    }\n",
       "</style>\n",
       "<table border=\"1\" class=\"dataframe\">\n",
       "  <thead>\n",
       "    <tr style=\"text-align: right;\">\n",
       "      <th></th>\n",
       "      <th>user_id</th>\n",
       "      <th>month</th>\n",
       "      <th>total_messages_in_month</th>\n",
       "    </tr>\n",
       "  </thead>\n",
       "  <tbody>\n",
       "    <tr>\n",
       "      <td>0</td>\n",
       "      <td>1000</td>\n",
       "      <td>5</td>\n",
       "      <td>22</td>\n",
       "    </tr>\n",
       "    <tr>\n",
       "      <td>1</td>\n",
       "      <td>1000</td>\n",
       "      <td>6</td>\n",
       "      <td>60</td>\n",
       "    </tr>\n",
       "    <tr>\n",
       "      <td>2</td>\n",
       "      <td>1000</td>\n",
       "      <td>7</td>\n",
       "      <td>75</td>\n",
       "    </tr>\n",
       "    <tr>\n",
       "      <td>3</td>\n",
       "      <td>1000</td>\n",
       "      <td>8</td>\n",
       "      <td>81</td>\n",
       "    </tr>\n",
       "    <tr>\n",
       "      <td>4</td>\n",
       "      <td>1000</td>\n",
       "      <td>9</td>\n",
       "      <td>57</td>\n",
       "    </tr>\n",
       "    <tr>\n",
       "      <td>5</td>\n",
       "      <td>1000</td>\n",
       "      <td>10</td>\n",
       "      <td>73</td>\n",
       "    </tr>\n",
       "    <tr>\n",
       "      <td>6</td>\n",
       "      <td>1000</td>\n",
       "      <td>11</td>\n",
       "      <td>58</td>\n",
       "    </tr>\n",
       "    <tr>\n",
       "      <td>7</td>\n",
       "      <td>1000</td>\n",
       "      <td>12</td>\n",
       "      <td>70</td>\n",
       "    </tr>\n",
       "    <tr>\n",
       "      <td>8</td>\n",
       "      <td>1002</td>\n",
       "      <td>6</td>\n",
       "      <td>4</td>\n",
       "    </tr>\n",
       "    <tr>\n",
       "      <td>9</td>\n",
       "      <td>1002</td>\n",
       "      <td>7</td>\n",
       "      <td>11</td>\n",
       "    </tr>\n",
       "  </tbody>\n",
       "</table>\n",
       "</div>"
      ],
      "text/plain": [
       "   user_id  month  total_messages_in_month\n",
       "0     1000      5                       22\n",
       "1     1000      6                       60\n",
       "2     1000      7                       75\n",
       "3     1000      8                       81\n",
       "4     1000      9                       57\n",
       "5     1000     10                       73\n",
       "6     1000     11                       58\n",
       "7     1000     12                       70\n",
       "8     1002      6                        4\n",
       "9     1002      7                       11"
      ]
     },
     "execution_count": 136,
     "metadata": {},
     "output_type": "execute_result"
    }
   ],
   "source": [
    "grouped_messages.head(10)"
   ]
  },
  {
   "cell_type": "code",
   "execution_count": 137,
   "metadata": {},
   "outputs": [
    {
     "name": "stdout",
     "output_type": "stream",
     "text": [
      "<class 'pandas.core.frame.DataFrame'>\n",
      "RangeIndex: 2717 entries, 0 to 2716\n",
      "Data columns (total 3 columns):\n",
      "user_id                    2717 non-null int64\n",
      "month                      2717 non-null int64\n",
      "total_messages_in_month    2717 non-null int64\n",
      "dtypes: int64(3)\n",
      "memory usage: 63.8 KB\n"
     ]
    }
   ],
   "source": [
    "grouped_messages.info()"
   ]
  },
  {
   "cell_type": "markdown",
   "metadata": {},
   "source": [
    "### Объем израсходованного интернет трафика по месяцам"
   ]
  },
  {
   "cell_type": "markdown",
   "metadata": {},
   "source": [
    "Также как и со звонками и сообщениями, выполним операции и с таблицей **internet**. Поскольку тут нас интересует только общее количество трафика за месяц, то будем производить суммирование по столбцу **mb_used** при группировке."
   ]
  },
  {
   "cell_type": "code",
   "execution_count": 138,
   "metadata": {},
   "outputs": [],
   "source": [
    "internet['month'] = internet['session_date'].dt.month"
   ]
  },
  {
   "cell_type": "code",
   "execution_count": 139,
   "metadata": {},
   "outputs": [
    {
     "data": {
      "text/html": [
       "<div>\n",
       "<style scoped>\n",
       "    .dataframe tbody tr th:only-of-type {\n",
       "        vertical-align: middle;\n",
       "    }\n",
       "\n",
       "    .dataframe tbody tr th {\n",
       "        vertical-align: top;\n",
       "    }\n",
       "\n",
       "    .dataframe thead th {\n",
       "        text-align: right;\n",
       "    }\n",
       "</style>\n",
       "<table border=\"1\" class=\"dataframe\">\n",
       "  <thead>\n",
       "    <tr style=\"text-align: right;\">\n",
       "      <th></th>\n",
       "      <th>id</th>\n",
       "      <th>mb_used</th>\n",
       "      <th>session_date</th>\n",
       "      <th>user_id</th>\n",
       "      <th>month</th>\n",
       "    </tr>\n",
       "  </thead>\n",
       "  <tbody>\n",
       "    <tr>\n",
       "      <td>0</td>\n",
       "      <td>1000_0</td>\n",
       "      <td>112.95</td>\n",
       "      <td>2018-11-25</td>\n",
       "      <td>1000</td>\n",
       "      <td>11</td>\n",
       "    </tr>\n",
       "    <tr>\n",
       "      <td>1</td>\n",
       "      <td>1000_1</td>\n",
       "      <td>1,052.81</td>\n",
       "      <td>2018-09-07</td>\n",
       "      <td>1000</td>\n",
       "      <td>9</td>\n",
       "    </tr>\n",
       "    <tr>\n",
       "      <td>2</td>\n",
       "      <td>1000_2</td>\n",
       "      <td>1,197.26</td>\n",
       "      <td>2018-06-25</td>\n",
       "      <td>1000</td>\n",
       "      <td>6</td>\n",
       "    </tr>\n",
       "    <tr>\n",
       "      <td>3</td>\n",
       "      <td>1000_3</td>\n",
       "      <td>550.27</td>\n",
       "      <td>2018-08-22</td>\n",
       "      <td>1000</td>\n",
       "      <td>8</td>\n",
       "    </tr>\n",
       "    <tr>\n",
       "      <td>4</td>\n",
       "      <td>1000_4</td>\n",
       "      <td>302.56</td>\n",
       "      <td>2018-09-24</td>\n",
       "      <td>1000</td>\n",
       "      <td>9</td>\n",
       "    </tr>\n",
       "    <tr>\n",
       "      <td>5</td>\n",
       "      <td>1000_5</td>\n",
       "      <td>399.97</td>\n",
       "      <td>2018-10-02</td>\n",
       "      <td>1000</td>\n",
       "      <td>10</td>\n",
       "    </tr>\n",
       "    <tr>\n",
       "      <td>6</td>\n",
       "      <td>1000_6</td>\n",
       "      <td>540.08</td>\n",
       "      <td>2018-09-07</td>\n",
       "      <td>1000</td>\n",
       "      <td>9</td>\n",
       "    </tr>\n",
       "    <tr>\n",
       "      <td>7</td>\n",
       "      <td>1000_7</td>\n",
       "      <td>415.70</td>\n",
       "      <td>2018-07-11</td>\n",
       "      <td>1000</td>\n",
       "      <td>7</td>\n",
       "    </tr>\n",
       "    <tr>\n",
       "      <td>8</td>\n",
       "      <td>1000_8</td>\n",
       "      <td>505.40</td>\n",
       "      <td>2018-10-08</td>\n",
       "      <td>1000</td>\n",
       "      <td>10</td>\n",
       "    </tr>\n",
       "    <tr>\n",
       "      <td>9</td>\n",
       "      <td>1000_9</td>\n",
       "      <td>345.54</td>\n",
       "      <td>2018-09-03</td>\n",
       "      <td>1000</td>\n",
       "      <td>9</td>\n",
       "    </tr>\n",
       "  </tbody>\n",
       "</table>\n",
       "</div>"
      ],
      "text/plain": [
       "       id  mb_used session_date  user_id  month\n",
       "0  1000_0   112.95   2018-11-25     1000     11\n",
       "1  1000_1 1,052.81   2018-09-07     1000      9\n",
       "2  1000_2 1,197.26   2018-06-25     1000      6\n",
       "3  1000_3   550.27   2018-08-22     1000      8\n",
       "4  1000_4   302.56   2018-09-24     1000      9\n",
       "5  1000_5   399.97   2018-10-02     1000     10\n",
       "6  1000_6   540.08   2018-09-07     1000      9\n",
       "7  1000_7   415.70   2018-07-11     1000      7\n",
       "8  1000_8   505.40   2018-10-08     1000     10\n",
       "9  1000_9   345.54   2018-09-03     1000      9"
      ]
     },
     "execution_count": 139,
     "metadata": {},
     "output_type": "execute_result"
    }
   ],
   "source": [
    "internet.head(10)"
   ]
  },
  {
   "cell_type": "code",
   "execution_count": 140,
   "metadata": {},
   "outputs": [],
   "source": [
    "grouped_internet = (internet.pivot_table(index = ['user_id', 'month'], values = ['mb_used'], \n",
    "                    aggfunc = {'mb_used':'sum'})\n",
    "                   .reset_index().rename(columns={'mb_used':'total_mb_in_month'}))"
   ]
  },
  {
   "cell_type": "code",
   "execution_count": 141,
   "metadata": {
    "scrolled": true
   },
   "outputs": [
    {
     "data": {
      "text/html": [
       "<div>\n",
       "<style scoped>\n",
       "    .dataframe tbody tr th:only-of-type {\n",
       "        vertical-align: middle;\n",
       "    }\n",
       "\n",
       "    .dataframe tbody tr th {\n",
       "        vertical-align: top;\n",
       "    }\n",
       "\n",
       "    .dataframe thead th {\n",
       "        text-align: right;\n",
       "    }\n",
       "</style>\n",
       "<table border=\"1\" class=\"dataframe\">\n",
       "  <thead>\n",
       "    <tr style=\"text-align: right;\">\n",
       "      <th></th>\n",
       "      <th>user_id</th>\n",
       "      <th>month</th>\n",
       "      <th>total_mb_in_month</th>\n",
       "    </tr>\n",
       "  </thead>\n",
       "  <tbody>\n",
       "    <tr>\n",
       "      <td>0</td>\n",
       "      <td>1000</td>\n",
       "      <td>5</td>\n",
       "      <td>2,253.49</td>\n",
       "    </tr>\n",
       "    <tr>\n",
       "      <td>1</td>\n",
       "      <td>1000</td>\n",
       "      <td>6</td>\n",
       "      <td>23,233.77</td>\n",
       "    </tr>\n",
       "    <tr>\n",
       "      <td>2</td>\n",
       "      <td>1000</td>\n",
       "      <td>7</td>\n",
       "      <td>14,003.64</td>\n",
       "    </tr>\n",
       "    <tr>\n",
       "      <td>3</td>\n",
       "      <td>1000</td>\n",
       "      <td>8</td>\n",
       "      <td>14,055.93</td>\n",
       "    </tr>\n",
       "    <tr>\n",
       "      <td>4</td>\n",
       "      <td>1000</td>\n",
       "      <td>9</td>\n",
       "      <td>14,568.91</td>\n",
       "    </tr>\n",
       "    <tr>\n",
       "      <td>5</td>\n",
       "      <td>1000</td>\n",
       "      <td>10</td>\n",
       "      <td>14,702.49</td>\n",
       "    </tr>\n",
       "    <tr>\n",
       "      <td>6</td>\n",
       "      <td>1000</td>\n",
       "      <td>11</td>\n",
       "      <td>14,756.47</td>\n",
       "    </tr>\n",
       "    <tr>\n",
       "      <td>7</td>\n",
       "      <td>1000</td>\n",
       "      <td>12</td>\n",
       "      <td>9,817.61</td>\n",
       "    </tr>\n",
       "    <tr>\n",
       "      <td>8</td>\n",
       "      <td>1001</td>\n",
       "      <td>11</td>\n",
       "      <td>18,429.34</td>\n",
       "    </tr>\n",
       "    <tr>\n",
       "      <td>9</td>\n",
       "      <td>1001</td>\n",
       "      <td>12</td>\n",
       "      <td>14,036.66</td>\n",
       "    </tr>\n",
       "  </tbody>\n",
       "</table>\n",
       "</div>"
      ],
      "text/plain": [
       "   user_id  month  total_mb_in_month\n",
       "0     1000      5           2,253.49\n",
       "1     1000      6          23,233.77\n",
       "2     1000      7          14,003.64\n",
       "3     1000      8          14,055.93\n",
       "4     1000      9          14,568.91\n",
       "5     1000     10          14,702.49\n",
       "6     1000     11          14,756.47\n",
       "7     1000     12           9,817.61\n",
       "8     1001     11          18,429.34\n",
       "9     1001     12          14,036.66"
      ]
     },
     "execution_count": 141,
     "metadata": {},
     "output_type": "execute_result"
    }
   ],
   "source": [
    "grouped_internet.head(10)"
   ]
  },
  {
   "cell_type": "code",
   "execution_count": 142,
   "metadata": {
    "scrolled": true
   },
   "outputs": [
    {
     "name": "stdout",
     "output_type": "stream",
     "text": [
      "<class 'pandas.core.frame.DataFrame'>\n",
      "RangeIndex: 3203 entries, 0 to 3202\n",
      "Data columns (total 3 columns):\n",
      "user_id              3203 non-null int64\n",
      "month                3203 non-null int64\n",
      "total_mb_in_month    3203 non-null float64\n",
      "dtypes: float64(1), int64(2)\n",
      "memory usage: 75.2 KB\n"
     ]
    }
   ],
   "source": [
    "grouped_internet.info()"
   ]
  },
  {
   "cell_type": "markdown",
   "metadata": {},
   "source": [
    "#### Оценка объема нулевых трат интернет-трафика"
   ]
  },
  {
   "cell_type": "markdown",
   "metadata": {},
   "source": [
    "Сгруппируем полученную таблицу по количеству израсходованного интернет-трафика и отсортируем по возрастанию, чтобы увидеть нули сверху таблицы."
   ]
  },
  {
   "cell_type": "code",
   "execution_count": 143,
   "metadata": {},
   "outputs": [
    {
     "data": {
      "text/html": [
       "<div>\n",
       "<style scoped>\n",
       "    .dataframe tbody tr th:only-of-type {\n",
       "        vertical-align: middle;\n",
       "    }\n",
       "\n",
       "    .dataframe tbody tr th {\n",
       "        vertical-align: top;\n",
       "    }\n",
       "\n",
       "    .dataframe thead th {\n",
       "        text-align: right;\n",
       "    }\n",
       "</style>\n",
       "<table border=\"1\" class=\"dataframe\">\n",
       "  <thead>\n",
       "    <tr style=\"text-align: right;\">\n",
       "      <th></th>\n",
       "      <th>user_id</th>\n",
       "      <th>month</th>\n",
       "      <th>total_mb_in_month</th>\n",
       "    </tr>\n",
       "  </thead>\n",
       "  <tbody>\n",
       "    <tr>\n",
       "      <td>592</td>\n",
       "      <td>1094</td>\n",
       "      <td>5</td>\n",
       "      <td>0.00</td>\n",
       "    </tr>\n",
       "    <tr>\n",
       "      <td>2298</td>\n",
       "      <td>1365</td>\n",
       "      <td>10</td>\n",
       "      <td>0.00</td>\n",
       "    </tr>\n",
       "    <tr>\n",
       "      <td>3102</td>\n",
       "      <td>1482</td>\n",
       "      <td>2</td>\n",
       "      <td>201.07</td>\n",
       "    </tr>\n",
       "    <tr>\n",
       "      <td>1290</td>\n",
       "      <td>1201</td>\n",
       "      <td>12</td>\n",
       "      <td>365.09</td>\n",
       "    </tr>\n",
       "    <tr>\n",
       "      <td>667</td>\n",
       "      <td>1105</td>\n",
       "      <td>9</td>\n",
       "      <td>370.06</td>\n",
       "    </tr>\n",
       "    <tr>\n",
       "      <td>...</td>\n",
       "      <td>...</td>\n",
       "      <td>...</td>\n",
       "      <td>...</td>\n",
       "    </tr>\n",
       "    <tr>\n",
       "      <td>383</td>\n",
       "      <td>1060</td>\n",
       "      <td>12</td>\n",
       "      <td>43,931.36</td>\n",
       "    </tr>\n",
       "    <tr>\n",
       "      <td>1901</td>\n",
       "      <td>1300</td>\n",
       "      <td>11</td>\n",
       "      <td>44,296.86</td>\n",
       "    </tr>\n",
       "    <tr>\n",
       "      <td>1622</td>\n",
       "      <td>1255</td>\n",
       "      <td>7</td>\n",
       "      <td>45,180.71</td>\n",
       "    </tr>\n",
       "    <tr>\n",
       "      <td>1524</td>\n",
       "      <td>1240</td>\n",
       "      <td>8</td>\n",
       "      <td>48,351.59</td>\n",
       "    </tr>\n",
       "    <tr>\n",
       "      <td>799</td>\n",
       "      <td>1124</td>\n",
       "      <td>10</td>\n",
       "      <td>49,745.69</td>\n",
       "    </tr>\n",
       "  </tbody>\n",
       "</table>\n",
       "<p>3203 rows × 3 columns</p>\n",
       "</div>"
      ],
      "text/plain": [
       "      user_id  month  total_mb_in_month\n",
       "592      1094      5               0.00\n",
       "2298     1365     10               0.00\n",
       "3102     1482      2             201.07\n",
       "1290     1201     12             365.09\n",
       "667      1105      9             370.06\n",
       "...       ...    ...                ...\n",
       "383      1060     12          43,931.36\n",
       "1901     1300     11          44,296.86\n",
       "1622     1255      7          45,180.71\n",
       "1524     1240      8          48,351.59\n",
       "799      1124     10          49,745.69\n",
       "\n",
       "[3203 rows x 3 columns]"
      ]
     },
     "execution_count": 143,
     "metadata": {},
     "output_type": "execute_result"
    }
   ],
   "source": [
    "grouped_internet.sort_values(by = 'total_mb_in_month', ascending = True)"
   ]
  },
  {
   "cell_type": "markdown",
   "metadata": {},
   "source": [
    "Получается всего 2 клиента совсем не пользуются интернетом."
   ]
  },
  {
   "cell_type": "code",
   "execution_count": 144,
   "metadata": {
    "scrolled": true
   },
   "outputs": [
    {
     "data": {
      "text/html": [
       "<div>\n",
       "<style scoped>\n",
       "    .dataframe tbody tr th:only-of-type {\n",
       "        vertical-align: middle;\n",
       "    }\n",
       "\n",
       "    .dataframe tbody tr th {\n",
       "        vertical-align: top;\n",
       "    }\n",
       "\n",
       "    .dataframe thead th {\n",
       "        text-align: right;\n",
       "    }\n",
       "</style>\n",
       "<table border=\"1\" class=\"dataframe\">\n",
       "  <thead>\n",
       "    <tr style=\"text-align: right;\">\n",
       "      <th></th>\n",
       "      <th>user_id</th>\n",
       "      <th>age</th>\n",
       "      <th>churn_date</th>\n",
       "      <th>city</th>\n",
       "      <th>first_name</th>\n",
       "      <th>last_name</th>\n",
       "      <th>reg_date</th>\n",
       "      <th>tariff_name</th>\n",
       "    </tr>\n",
       "  </thead>\n",
       "  <tbody>\n",
       "    <tr>\n",
       "      <td>94</td>\n",
       "      <td>1094</td>\n",
       "      <td>37</td>\n",
       "      <td>NaT</td>\n",
       "      <td>Новосибирск</td>\n",
       "      <td>Даниэла</td>\n",
       "      <td>Пугачева</td>\n",
       "      <td>2018-05-28</td>\n",
       "      <td>ultra</td>\n",
       "    </tr>\n",
       "    <tr>\n",
       "      <td>365</td>\n",
       "      <td>1365</td>\n",
       "      <td>38</td>\n",
       "      <td>NaT</td>\n",
       "      <td>Ростов-на-Дону</td>\n",
       "      <td>Георгий</td>\n",
       "      <td>Вишняков</td>\n",
       "      <td>2018-10-31</td>\n",
       "      <td>smart</td>\n",
       "    </tr>\n",
       "  </tbody>\n",
       "</table>\n",
       "</div>"
      ],
      "text/plain": [
       "     user_id  age churn_date            city first_name last_name   reg_date  \\\n",
       "94      1094   37        NaT     Новосибирск    Даниэла  Пугачева 2018-05-28   \n",
       "365     1365   38        NaT  Ростов-на-Дону    Георгий  Вишняков 2018-10-31   \n",
       "\n",
       "    tariff_name  \n",
       "94        ultra  \n",
       "365       smart  "
      ]
     },
     "execution_count": 144,
     "metadata": {},
     "output_type": "execute_result"
    }
   ],
   "source": [
    "users[users['user_id'].isin(grouped_internet[grouped_internet['total_mb_in_month'] == 0]['user_id'])]"
   ]
  },
  {
   "cell_type": "code",
   "execution_count": 145,
   "metadata": {},
   "outputs": [
    {
     "data": {
      "text/html": [
       "<div>\n",
       "<style scoped>\n",
       "    .dataframe tbody tr th:only-of-type {\n",
       "        vertical-align: middle;\n",
       "    }\n",
       "\n",
       "    .dataframe tbody tr th {\n",
       "        vertical-align: top;\n",
       "    }\n",
       "\n",
       "    .dataframe thead th {\n",
       "        text-align: right;\n",
       "    }\n",
       "</style>\n",
       "<table border=\"1\" class=\"dataframe\">\n",
       "  <thead>\n",
       "    <tr style=\"text-align: right;\">\n",
       "      <th></th>\n",
       "      <th>user_id</th>\n",
       "      <th>month</th>\n",
       "      <th>month_calls_duration</th>\n",
       "      <th>total_calls_in_month</th>\n",
       "    </tr>\n",
       "  </thead>\n",
       "  <tbody>\n",
       "    <tr>\n",
       "      <td>584</td>\n",
       "      <td>1094</td>\n",
       "      <td>5</td>\n",
       "      <td>107</td>\n",
       "      <td>16</td>\n",
       "    </tr>\n",
       "    <tr>\n",
       "      <td>585</td>\n",
       "      <td>1094</td>\n",
       "      <td>6</td>\n",
       "      <td>684</td>\n",
       "      <td>100</td>\n",
       "    </tr>\n",
       "    <tr>\n",
       "      <td>586</td>\n",
       "      <td>1094</td>\n",
       "      <td>7</td>\n",
       "      <td>784</td>\n",
       "      <td>127</td>\n",
       "    </tr>\n",
       "    <tr>\n",
       "      <td>587</td>\n",
       "      <td>1094</td>\n",
       "      <td>8</td>\n",
       "      <td>617</td>\n",
       "      <td>100</td>\n",
       "    </tr>\n",
       "    <tr>\n",
       "      <td>588</td>\n",
       "      <td>1094</td>\n",
       "      <td>9</td>\n",
       "      <td>717</td>\n",
       "      <td>105</td>\n",
       "    </tr>\n",
       "    <tr>\n",
       "      <td>589</td>\n",
       "      <td>1094</td>\n",
       "      <td>10</td>\n",
       "      <td>868</td>\n",
       "      <td>117</td>\n",
       "    </tr>\n",
       "    <tr>\n",
       "      <td>590</td>\n",
       "      <td>1094</td>\n",
       "      <td>11</td>\n",
       "      <td>839</td>\n",
       "      <td>109</td>\n",
       "    </tr>\n",
       "    <tr>\n",
       "      <td>591</td>\n",
       "      <td>1094</td>\n",
       "      <td>12</td>\n",
       "      <td>752</td>\n",
       "      <td>118</td>\n",
       "    </tr>\n",
       "    <tr>\n",
       "      <td>2278</td>\n",
       "      <td>1365</td>\n",
       "      <td>10</td>\n",
       "      <td>43</td>\n",
       "      <td>5</td>\n",
       "    </tr>\n",
       "    <tr>\n",
       "      <td>2279</td>\n",
       "      <td>1365</td>\n",
       "      <td>11</td>\n",
       "      <td>618</td>\n",
       "      <td>91</td>\n",
       "    </tr>\n",
       "    <tr>\n",
       "      <td>2280</td>\n",
       "      <td>1365</td>\n",
       "      <td>12</td>\n",
       "      <td>782</td>\n",
       "      <td>111</td>\n",
       "    </tr>\n",
       "  </tbody>\n",
       "</table>\n",
       "</div>"
      ],
      "text/plain": [
       "      user_id  month  month_calls_duration  total_calls_in_month\n",
       "584      1094      5                   107                    16\n",
       "585      1094      6                   684                   100\n",
       "586      1094      7                   784                   127\n",
       "587      1094      8                   617                   100\n",
       "588      1094      9                   717                   105\n",
       "589      1094     10                   868                   117\n",
       "590      1094     11                   839                   109\n",
       "591      1094     12                   752                   118\n",
       "2278     1365     10                    43                     5\n",
       "2279     1365     11                   618                    91\n",
       "2280     1365     12                   782                   111"
      ]
     },
     "execution_count": 145,
     "metadata": {},
     "output_type": "execute_result"
    }
   ],
   "source": [
    "grouped_calls[grouped_calls['user_id'].isin(grouped_internet[grouped_internet['total_mb_in_month'] == 0]['user_id'])]"
   ]
  },
  {
   "cell_type": "code",
   "execution_count": 146,
   "metadata": {},
   "outputs": [
    {
     "data": {
      "text/html": [
       "<div>\n",
       "<style scoped>\n",
       "    .dataframe tbody tr th:only-of-type {\n",
       "        vertical-align: middle;\n",
       "    }\n",
       "\n",
       "    .dataframe tbody tr th {\n",
       "        vertical-align: top;\n",
       "    }\n",
       "\n",
       "    .dataframe thead th {\n",
       "        text-align: right;\n",
       "    }\n",
       "</style>\n",
       "<table border=\"1\" class=\"dataframe\">\n",
       "  <thead>\n",
       "    <tr style=\"text-align: right;\">\n",
       "      <th></th>\n",
       "      <th>user_id</th>\n",
       "      <th>month</th>\n",
       "      <th>total_messages_in_month</th>\n",
       "    </tr>\n",
       "  </thead>\n",
       "  <tbody>\n",
       "    <tr>\n",
       "      <td>513</td>\n",
       "      <td>1094</td>\n",
       "      <td>5</td>\n",
       "      <td>3</td>\n",
       "    </tr>\n",
       "    <tr>\n",
       "      <td>514</td>\n",
       "      <td>1094</td>\n",
       "      <td>6</td>\n",
       "      <td>31</td>\n",
       "    </tr>\n",
       "    <tr>\n",
       "      <td>515</td>\n",
       "      <td>1094</td>\n",
       "      <td>7</td>\n",
       "      <td>21</td>\n",
       "    </tr>\n",
       "    <tr>\n",
       "      <td>516</td>\n",
       "      <td>1094</td>\n",
       "      <td>8</td>\n",
       "      <td>23</td>\n",
       "    </tr>\n",
       "    <tr>\n",
       "      <td>517</td>\n",
       "      <td>1094</td>\n",
       "      <td>9</td>\n",
       "      <td>18</td>\n",
       "    </tr>\n",
       "    <tr>\n",
       "      <td>518</td>\n",
       "      <td>1094</td>\n",
       "      <td>10</td>\n",
       "      <td>28</td>\n",
       "    </tr>\n",
       "    <tr>\n",
       "      <td>519</td>\n",
       "      <td>1094</td>\n",
       "      <td>11</td>\n",
       "      <td>17</td>\n",
       "    </tr>\n",
       "    <tr>\n",
       "      <td>520</td>\n",
       "      <td>1094</td>\n",
       "      <td>12</td>\n",
       "      <td>27</td>\n",
       "    </tr>\n",
       "    <tr>\n",
       "      <td>1909</td>\n",
       "      <td>1365</td>\n",
       "      <td>10</td>\n",
       "      <td>1</td>\n",
       "    </tr>\n",
       "    <tr>\n",
       "      <td>1910</td>\n",
       "      <td>1365</td>\n",
       "      <td>11</td>\n",
       "      <td>46</td>\n",
       "    </tr>\n",
       "    <tr>\n",
       "      <td>1911</td>\n",
       "      <td>1365</td>\n",
       "      <td>12</td>\n",
       "      <td>43</td>\n",
       "    </tr>\n",
       "  </tbody>\n",
       "</table>\n",
       "</div>"
      ],
      "text/plain": [
       "      user_id  month  total_messages_in_month\n",
       "513      1094      5                        3\n",
       "514      1094      6                       31\n",
       "515      1094      7                       21\n",
       "516      1094      8                       23\n",
       "517      1094      9                       18\n",
       "518      1094     10                       28\n",
       "519      1094     11                       17\n",
       "520      1094     12                       27\n",
       "1909     1365     10                        1\n",
       "1910     1365     11                       46\n",
       "1911     1365     12                       43"
      ]
     },
     "execution_count": 146,
     "metadata": {},
     "output_type": "execute_result"
    }
   ],
   "source": [
    "grouped_messages[grouped_messages['user_id'].isin(grouped_internet[grouped_internet['total_mb_in_month'] == 0]['user_id'])]"
   ]
  },
  {
   "cell_type": "markdown",
   "metadata": {},
   "source": [
    "2 пользователя средних лет, один из которых активно пользуется звонками и СМС на тарифе **Ультра**, второй активный пользователь СМС сообщений на тарифе **Смарт**."
   ]
  },
  {
   "cell_type": "markdown",
   "metadata": {},
   "source": [
    "<div class=\"alert alert-info\" style=\"border-radius: 15px; box-shadow: 4px 4px 4px; border: 1px solid \">\n",
    "<h2> Комментарий студента</h2>\n",
    "\n",
    "Понимаю, что возможно такая оценка не самая корректная, но по крайней мере, таким образом получилось убедиться, что нулевые значения трафика не связаны с ошибками в данных, а что пользователи связи действительно ей пользуются, но не всеми возможными способами.\n",
    "\n",
    "</div>"
   ]
  },
  {
   "cell_type": "markdown",
   "metadata": {},
   "source": [
    "<div class=\"alert alert-success\" style=\"border-radius: 15px; box-shadow: 4px 4px 4px; border: 1px solid \">\n",
    "<h2> Комментарий ревьюера 2</h2>\n",
    "    \n",
    "Очень хорошо. </div>"
   ]
  },
  {
   "cell_type": "markdown",
   "metadata": {},
   "source": [
    "**Вывод**"
   ]
  },
  {
   "cell_type": "markdown",
   "metadata": {},
   "source": [
    "Произведена подготовка данных для анализа. Собраны 3 сгруппированные таблицы с помесячной информацией о выполненных звонках, отправленных сообщениях и количестве израсходованного интернет трафика."
   ]
  },
  {
   "cell_type": "markdown",
   "metadata": {},
   "source": [
    "### Расчет помесячной выручки с каждого пользователя"
   ]
  },
  {
   "cell_type": "markdown",
   "metadata": {},
   "source": [
    "Для расчета помесячной выручки с каждого пользователя, нужно найти для каждого превышение звонков, сообщений и интернет-трафика выше лимита, предоставленного в тарифе, и сложить полученные значения с месячной абонентской платой.\n",
    "\n",
    "Для расчета нужно выполнить следующие операции:\n",
    "- соединить три подготовленные таблицы со сгруппированными данными;\n",
    "- добавить к сгруппированным данным информацию о тарифе каждого пользователя из таблицы **users**;\n",
    "- добавить к сгруппированным данным информацию о лимитах внутри тарифа;\n",
    "- рассчитать превыщения звонков, сообщений и интернет-трафика для каждого пользователя, умножить превышения на тариф;\n",
    "- сложить абонентскую плату с суммой превышения лимитов тарифа."
   ]
  },
  {
   "cell_type": "markdown",
   "metadata": {},
   "source": [
    "#### Сводим все данные в одну таблицу"
   ]
  },
  {
   "cell_type": "markdown",
   "metadata": {},
   "source": [
    "Используем метод **merge(how = 'outer')**, потому что ключи по которым соединяем есть и в правой и в левой таблице."
   ]
  },
  {
   "cell_type": "code",
   "execution_count": 147,
   "metadata": {},
   "outputs": [],
   "source": [
    "merged_data = grouped_calls.merge(grouped_messages, on = ['user_id', 'month'], how = 'outer')"
   ]
  },
  {
   "cell_type": "code",
   "execution_count": 148,
   "metadata": {},
   "outputs": [],
   "source": [
    "merged_data = merged_data.merge(grouped_internet, on = ['user_id', 'month'], how = 'outer')"
   ]
  },
  {
   "cell_type": "markdown",
   "metadata": {},
   "source": [
    "Используем метод **merge(how = 'left')**, потому что ключи находятся в левой таблице (экспериментально к этому пришел, т.к. при других методах терялась часть данных)"
   ]
  },
  {
   "cell_type": "code",
   "execution_count": 149,
   "metadata": {},
   "outputs": [],
   "source": [
    "merged_data = merged_data.merge(users[['user_id', 'tariff_name', 'city']], on = 'user_id', how = 'left')"
   ]
  },
  {
   "cell_type": "raw",
   "metadata": {},
   "source": [
    "merged_data = merged_data.merge(tariffs, on = 'tariff_name', how = 'left')"
   ]
  },
  {
   "cell_type": "markdown",
   "metadata": {},
   "source": [
    "<div class=\"alert alert-success\" style=\"border-radius: 15px; box-shadow: 4px 4px 4px; border: 1px solid \">\n",
    "<b> Комментарий ревьюера</b>\n",
    "    \n",
    "- Верно произведена склейка.\n",
    "    \n",
    "    \n",
    "    \n",
    "- Клиентов действительно можно добавлять уже с параметром **left**, чтобы не зацепить тех, кто не пользовался услугами оператора. У нас все же задача рассмотреть траты пакетов услуг, так что эти клиенты нам не интересны.     \n",
    "\n",
    "</div>\n",
    "<div class=\"alert alert-warning\" style=\"border-radius: 15px; box-shadow: 4px 4px 4px; border: 1px solid \">\n",
    "<b> Комментарий ревьюера</b>\n",
    "    \n",
    "- Незачем дублировать информацию и добавлять в рабочую таблицу описание тарифов, ведь все это есть в таблице с тарифами. \n",
    "\n",
    "\n",
    "- То же самое касается и информации о клиентах. О них нам достаточно знать лишь тариф и город. Остальное нам не нужно. \n",
    "\n",
    "\n",
    "</div>"
   ]
  },
  {
   "cell_type": "markdown",
   "metadata": {},
   "source": [
    "<div class=\"alert alert-info\" style=\"border-radius: 15px; box-shadow: 4px 4px 4px; border: 1px solid \">\n",
    "<h2> Комментарий студента</h2>\n",
    "    \n",
    "Окей, оставим данные о тарифах за бортом, также как и лишние данные о клиентах. Исправил выше код объединения.\n",
    "    \n",
    "</div>"
   ]
  },
  {
   "cell_type": "code",
   "execution_count": 150,
   "metadata": {
    "scrolled": true
   },
   "outputs": [
    {
     "data": {
      "text/html": [
       "<div>\n",
       "<style scoped>\n",
       "    .dataframe tbody tr th:only-of-type {\n",
       "        vertical-align: middle;\n",
       "    }\n",
       "\n",
       "    .dataframe tbody tr th {\n",
       "        vertical-align: top;\n",
       "    }\n",
       "\n",
       "    .dataframe thead th {\n",
       "        text-align: right;\n",
       "    }\n",
       "</style>\n",
       "<table border=\"1\" class=\"dataframe\">\n",
       "  <thead>\n",
       "    <tr style=\"text-align: right;\">\n",
       "      <th></th>\n",
       "      <th>user_id</th>\n",
       "      <th>month</th>\n",
       "      <th>month_calls_duration</th>\n",
       "      <th>total_calls_in_month</th>\n",
       "      <th>total_messages_in_month</th>\n",
       "      <th>total_mb_in_month</th>\n",
       "      <th>tariff_name</th>\n",
       "      <th>city</th>\n",
       "    </tr>\n",
       "  </thead>\n",
       "  <tbody>\n",
       "    <tr>\n",
       "      <td>181</td>\n",
       "      <td>1027</td>\n",
       "      <td>11</td>\n",
       "      <td>348.00</td>\n",
       "      <td>59.00</td>\n",
       "      <td>9.00</td>\n",
       "      <td>24,707.70</td>\n",
       "      <td>smart</td>\n",
       "      <td>Петрозаводск</td>\n",
       "    </tr>\n",
       "    <tr>\n",
       "      <td>3067</td>\n",
       "      <td>1481</td>\n",
       "      <td>2</td>\n",
       "      <td>36.00</td>\n",
       "      <td>2.00</td>\n",
       "      <td>6.00</td>\n",
       "      <td>2,745.82</td>\n",
       "      <td>smart</td>\n",
       "      <td>Москва</td>\n",
       "    </tr>\n",
       "    <tr>\n",
       "      <td>2214</td>\n",
       "      <td>1356</td>\n",
       "      <td>4</td>\n",
       "      <td>308.00</td>\n",
       "      <td>49.00</td>\n",
       "      <td>65.00</td>\n",
       "      <td>17,393.93</td>\n",
       "      <td>ultra</td>\n",
       "      <td>Москва</td>\n",
       "    </tr>\n",
       "    <tr>\n",
       "      <td>2078</td>\n",
       "      <td>1331</td>\n",
       "      <td>11</td>\n",
       "      <td>497.00</td>\n",
       "      <td>65.00</td>\n",
       "      <td>76.00</td>\n",
       "      <td>30,307.32</td>\n",
       "      <td>ultra</td>\n",
       "      <td>Москва</td>\n",
       "    </tr>\n",
       "    <tr>\n",
       "      <td>441</td>\n",
       "      <td>1068</td>\n",
       "      <td>11</td>\n",
       "      <td>433.00</td>\n",
       "      <td>69.00</td>\n",
       "      <td>28.00</td>\n",
       "      <td>25,065.01</td>\n",
       "      <td>smart</td>\n",
       "      <td>Москва</td>\n",
       "    </tr>\n",
       "    <tr>\n",
       "      <td>554</td>\n",
       "      <td>1088</td>\n",
       "      <td>11</td>\n",
       "      <td>364.00</td>\n",
       "      <td>56.00</td>\n",
       "      <td>37.00</td>\n",
       "      <td>15,260.97</td>\n",
       "      <td>smart</td>\n",
       "      <td>Казань</td>\n",
       "    </tr>\n",
       "    <tr>\n",
       "      <td>510</td>\n",
       "      <td>1081</td>\n",
       "      <td>6</td>\n",
       "      <td>618.00</td>\n",
       "      <td>91.00</td>\n",
       "      <td>19.00</td>\n",
       "      <td>25,152.82</td>\n",
       "      <td>ultra</td>\n",
       "      <td>Москва</td>\n",
       "    </tr>\n",
       "    <tr>\n",
       "      <td>2063</td>\n",
       "      <td>1330</td>\n",
       "      <td>5</td>\n",
       "      <td>665.00</td>\n",
       "      <td>86.00</td>\n",
       "      <td>61.00</td>\n",
       "      <td>29,374.15</td>\n",
       "      <td>ultra</td>\n",
       "      <td>Нижний Новгород</td>\n",
       "    </tr>\n",
       "    <tr>\n",
       "      <td>600</td>\n",
       "      <td>1096</td>\n",
       "      <td>11</td>\n",
       "      <td>389.00</td>\n",
       "      <td>52.00</td>\n",
       "      <td>84.00</td>\n",
       "      <td>9,536.32</td>\n",
       "      <td>ultra</td>\n",
       "      <td>Брянск</td>\n",
       "    </tr>\n",
       "    <tr>\n",
       "      <td>2565</td>\n",
       "      <td>1404</td>\n",
       "      <td>4</td>\n",
       "      <td>105.00</td>\n",
       "      <td>14.00</td>\n",
       "      <td>29.00</td>\n",
       "      <td>5,185.18</td>\n",
       "      <td>smart</td>\n",
       "      <td>Иркутск</td>\n",
       "    </tr>\n",
       "  </tbody>\n",
       "</table>\n",
       "</div>"
      ],
      "text/plain": [
       "      user_id  month  month_calls_duration  total_calls_in_month  \\\n",
       "181      1027     11                348.00                 59.00   \n",
       "3067     1481      2                 36.00                  2.00   \n",
       "2214     1356      4                308.00                 49.00   \n",
       "2078     1331     11                497.00                 65.00   \n",
       "441      1068     11                433.00                 69.00   \n",
       "554      1088     11                364.00                 56.00   \n",
       "510      1081      6                618.00                 91.00   \n",
       "2063     1330      5                665.00                 86.00   \n",
       "600      1096     11                389.00                 52.00   \n",
       "2565     1404      4                105.00                 14.00   \n",
       "\n",
       "      total_messages_in_month  total_mb_in_month tariff_name             city  \n",
       "181                      9.00          24,707.70       smart     Петрозаводск  \n",
       "3067                     6.00           2,745.82       smart           Москва  \n",
       "2214                    65.00          17,393.93       ultra           Москва  \n",
       "2078                    76.00          30,307.32       ultra           Москва  \n",
       "441                     28.00          25,065.01       smart           Москва  \n",
       "554                     37.00          15,260.97       smart           Казань  \n",
       "510                     19.00          25,152.82       ultra           Москва  \n",
       "2063                    61.00          29,374.15       ultra  Нижний Новгород  \n",
       "600                     84.00           9,536.32       ultra           Брянск  \n",
       "2565                    29.00           5,185.18       smart          Иркутск  "
      ]
     },
     "execution_count": 150,
     "metadata": {},
     "output_type": "execute_result"
    }
   ],
   "source": [
    "merged_data.sample(10)"
   ]
  },
  {
   "cell_type": "code",
   "execution_count": 151,
   "metadata": {},
   "outputs": [
    {
     "data": {
      "text/html": [
       "<div>\n",
       "<style scoped>\n",
       "    .dataframe tbody tr th:only-of-type {\n",
       "        vertical-align: middle;\n",
       "    }\n",
       "\n",
       "    .dataframe tbody tr th {\n",
       "        vertical-align: top;\n",
       "    }\n",
       "\n",
       "    .dataframe thead th {\n",
       "        text-align: right;\n",
       "    }\n",
       "</style>\n",
       "<table border=\"1\" class=\"dataframe\">\n",
       "  <thead>\n",
       "    <tr style=\"text-align: right;\">\n",
       "      <th></th>\n",
       "      <th>user_id</th>\n",
       "      <th>month</th>\n",
       "      <th>month_calls_duration</th>\n",
       "      <th>total_calls_in_month</th>\n",
       "      <th>total_messages_in_month</th>\n",
       "      <th>total_mb_in_month</th>\n",
       "    </tr>\n",
       "  </thead>\n",
       "  <tbody>\n",
       "    <tr>\n",
       "      <td>count</td>\n",
       "      <td>3,214.00</td>\n",
       "      <td>3,214.00</td>\n",
       "      <td>3,174.00</td>\n",
       "      <td>3,174.00</td>\n",
       "      <td>2,717.00</td>\n",
       "      <td>3,203.00</td>\n",
       "    </tr>\n",
       "    <tr>\n",
       "      <td>mean</td>\n",
       "      <td>1,251.59</td>\n",
       "      <td>8.32</td>\n",
       "      <td>456.93</td>\n",
       "      <td>63.83</td>\n",
       "      <td>45.28</td>\n",
       "      <td>17,266.71</td>\n",
       "    </tr>\n",
       "    <tr>\n",
       "      <td>std</td>\n",
       "      <td>144.66</td>\n",
       "      <td>2.91</td>\n",
       "      <td>238.03</td>\n",
       "      <td>32.68</td>\n",
       "      <td>35.05</td>\n",
       "      <td>7,516.36</td>\n",
       "    </tr>\n",
       "    <tr>\n",
       "      <td>min</td>\n",
       "      <td>1,000.00</td>\n",
       "      <td>1.00</td>\n",
       "      <td>0.00</td>\n",
       "      <td>1.00</td>\n",
       "      <td>1.00</td>\n",
       "      <td>0.00</td>\n",
       "    </tr>\n",
       "    <tr>\n",
       "      <td>25%</td>\n",
       "      <td>1,125.00</td>\n",
       "      <td>6.00</td>\n",
       "      <td>290.00</td>\n",
       "      <td>41.00</td>\n",
       "      <td>19.00</td>\n",
       "      <td>12,526.91</td>\n",
       "    </tr>\n",
       "    <tr>\n",
       "      <td>50%</td>\n",
       "      <td>1,253.00</td>\n",
       "      <td>9.00</td>\n",
       "      <td>447.00</td>\n",
       "      <td>63.00</td>\n",
       "      <td>38.00</td>\n",
       "      <td>16,963.11</td>\n",
       "    </tr>\n",
       "    <tr>\n",
       "      <td>75%</td>\n",
       "      <td>1,378.75</td>\n",
       "      <td>11.00</td>\n",
       "      <td>592.00</td>\n",
       "      <td>83.00</td>\n",
       "      <td>63.00</td>\n",
       "      <td>21,432.17</td>\n",
       "    </tr>\n",
       "    <tr>\n",
       "      <td>max</td>\n",
       "      <td>1,499.00</td>\n",
       "      <td>12.00</td>\n",
       "      <td>1,673.00</td>\n",
       "      <td>244.00</td>\n",
       "      <td>224.00</td>\n",
       "      <td>49,745.69</td>\n",
       "    </tr>\n",
       "  </tbody>\n",
       "</table>\n",
       "</div>"
      ],
      "text/plain": [
       "       user_id    month  month_calls_duration  total_calls_in_month  \\\n",
       "count 3,214.00 3,214.00              3,174.00              3,174.00   \n",
       "mean  1,251.59     8.32                456.93                 63.83   \n",
       "std     144.66     2.91                238.03                 32.68   \n",
       "min   1,000.00     1.00                  0.00                  1.00   \n",
       "25%   1,125.00     6.00                290.00                 41.00   \n",
       "50%   1,253.00     9.00                447.00                 63.00   \n",
       "75%   1,378.75    11.00                592.00                 83.00   \n",
       "max   1,499.00    12.00              1,673.00                244.00   \n",
       "\n",
       "       total_messages_in_month  total_mb_in_month  \n",
       "count                 2,717.00           3,203.00  \n",
       "mean                     45.28          17,266.71  \n",
       "std                      35.05           7,516.36  \n",
       "min                       1.00               0.00  \n",
       "25%                      19.00          12,526.91  \n",
       "50%                      38.00          16,963.11  \n",
       "75%                      63.00          21,432.17  \n",
       "max                     224.00          49,745.69  "
      ]
     },
     "execution_count": 151,
     "metadata": {},
     "output_type": "execute_result"
    }
   ],
   "source": [
    "merged_data.describe()"
   ]
  },
  {
   "cell_type": "code",
   "execution_count": 152,
   "metadata": {
    "scrolled": false
   },
   "outputs": [
    {
     "name": "stdout",
     "output_type": "stream",
     "text": [
      "<class 'pandas.core.frame.DataFrame'>\n",
      "Int64Index: 3214 entries, 0 to 3213\n",
      "Data columns (total 8 columns):\n",
      "user_id                    3214 non-null int64\n",
      "month                      3214 non-null int64\n",
      "month_calls_duration       3174 non-null float64\n",
      "total_calls_in_month       3174 non-null float64\n",
      "total_messages_in_month    2717 non-null float64\n",
      "total_mb_in_month          3203 non-null float64\n",
      "tariff_name                3214 non-null object\n",
      "city                       3214 non-null object\n",
      "dtypes: float64(4), int64(2), object(2)\n",
      "memory usage: 226.0+ KB\n"
     ]
    }
   ],
   "source": [
    "merged_data.info()"
   ]
  },
  {
   "cell_type": "code",
   "execution_count": 153,
   "metadata": {},
   "outputs": [
    {
     "data": {
      "text/plain": [
       "user_id                      0\n",
       "month                        0\n",
       "month_calls_duration        40\n",
       "total_calls_in_month        40\n",
       "total_messages_in_month    497\n",
       "total_mb_in_month           11\n",
       "tariff_name                  0\n",
       "city                         0\n",
       "dtype: int64"
      ]
     },
     "execution_count": 153,
     "metadata": {},
     "output_type": "execute_result"
    }
   ],
   "source": [
    "merged_data.isnull().sum()"
   ]
  },
  {
   "cell_type": "markdown",
   "metadata": {},
   "source": [
    "Появились пропуски в данных. Есть пользователи которые не пользовались либо звонками, либо сообщениями, либо интернетом. В целом можно было бы оставить эти пропуски, но есть вполне резонная возможность заполнить эти пропуски нулями."
   ]
  },
  {
   "cell_type": "markdown",
   "metadata": {},
   "source": [
    "<div class=\"alert alert-success\" style=\"border-radius: 15px; box-shadow: 4px 4px 4px; border: 1px solid \">\n",
    "<b> Комментарий ревьюера</b>\n",
    "    \n",
    "Пользователи и правда могли не использовать все виды связи, поэтому это и есть нули.\n",
    "</div>"
   ]
  },
  {
   "cell_type": "code",
   "execution_count": 154,
   "metadata": {},
   "outputs": [],
   "source": [
    "merged_data['total_messages_in_month'] = merged_data['total_messages_in_month'].fillna(0)\n",
    "merged_data['total_mb_in_month'] = merged_data['total_mb_in_month'].fillna(0)\n",
    "merged_data['month_calls_duration'] = merged_data['month_calls_duration'].fillna(0)\n",
    "merged_data['total_calls_in_month'] = merged_data['total_calls_in_month'].fillna(0)"
   ]
  },
  {
   "cell_type": "code",
   "execution_count": 155,
   "metadata": {},
   "outputs": [
    {
     "data": {
      "text/plain": [
       "user_id                    0\n",
       "month                      0\n",
       "month_calls_duration       0\n",
       "total_calls_in_month       0\n",
       "total_messages_in_month    0\n",
       "total_mb_in_month          0\n",
       "tariff_name                0\n",
       "city                       0\n",
       "dtype: int64"
      ]
     },
     "execution_count": 155,
     "metadata": {},
     "output_type": "execute_result"
    }
   ],
   "source": [
    "merged_data.isnull().sum()"
   ]
  },
  {
   "cell_type": "code",
   "execution_count": 156,
   "metadata": {
    "scrolled": false
   },
   "outputs": [
    {
     "name": "stdout",
     "output_type": "stream",
     "text": [
      "<class 'pandas.core.frame.DataFrame'>\n",
      "Int64Index: 3214 entries, 0 to 3213\n",
      "Data columns (total 8 columns):\n",
      "user_id                    3214 non-null int64\n",
      "month                      3214 non-null int64\n",
      "month_calls_duration       3214 non-null float64\n",
      "total_calls_in_month       3214 non-null float64\n",
      "total_messages_in_month    3214 non-null float64\n",
      "total_mb_in_month          3214 non-null float64\n",
      "tariff_name                3214 non-null object\n",
      "city                       3214 non-null object\n",
      "dtypes: float64(4), int64(2), object(2)\n",
      "memory usage: 226.0+ KB\n"
     ]
    }
   ],
   "source": [
    "merged_data.info()"
   ]
  },
  {
   "cell_type": "markdown",
   "metadata": {},
   "source": [
    "Пропуски обработаны, также почему-то после объединений тип данных в столбцах total_calls_in_month, month_calls_duration, total_messages_in_month сменился с целочисленного на тип с плавающей точкой. Хотя ранее в явном виде задавался целочисленный тип, вернем все как было."
   ]
  },
  {
   "cell_type": "code",
   "execution_count": 157,
   "metadata": {},
   "outputs": [],
   "source": [
    "merged_data['month_calls_duration'] = merged_data['month_calls_duration'].astype('int')\n",
    "merged_data['total_calls_in_month'] = merged_data['total_calls_in_month'].astype('int')\n",
    "merged_data['total_messages_in_month'] = merged_data['total_messages_in_month'].astype('int')"
   ]
  },
  {
   "cell_type": "code",
   "execution_count": 158,
   "metadata": {
    "scrolled": false
   },
   "outputs": [
    {
     "name": "stdout",
     "output_type": "stream",
     "text": [
      "<class 'pandas.core.frame.DataFrame'>\n",
      "Int64Index: 3214 entries, 0 to 3213\n",
      "Data columns (total 8 columns):\n",
      "user_id                    3214 non-null int64\n",
      "month                      3214 non-null int64\n",
      "month_calls_duration       3214 non-null int64\n",
      "total_calls_in_month       3214 non-null int64\n",
      "total_messages_in_month    3214 non-null int64\n",
      "total_mb_in_month          3214 non-null float64\n",
      "tariff_name                3214 non-null object\n",
      "city                       3214 non-null object\n",
      "dtypes: float64(1), int64(5), object(2)\n",
      "memory usage: 226.0+ KB\n"
     ]
    }
   ],
   "source": [
    "merged_data.info()"
   ]
  },
  {
   "cell_type": "markdown",
   "metadata": {},
   "source": [
    "Проверим на всякий случай наличие дублей в данных."
   ]
  },
  {
   "cell_type": "code",
   "execution_count": 159,
   "metadata": {},
   "outputs": [
    {
     "data": {
      "text/plain": [
       "0"
      ]
     },
     "execution_count": 159,
     "metadata": {},
     "output_type": "execute_result"
    }
   ],
   "source": [
    "merged_data.duplicated().sum()"
   ]
  },
  {
   "cell_type": "markdown",
   "metadata": {},
   "source": [
    "Дубликатов нет, можно работать дальше."
   ]
  },
  {
   "cell_type": "markdown",
   "metadata": {},
   "source": [
    "**Вывод**"
   ]
  },
  {
   "cell_type": "markdown",
   "metadata": {},
   "source": [
    "Подготовили таблицу для расчета помесячной выручки с каждого пользователя."
   ]
  },
  {
   "cell_type": "markdown",
   "metadata": {},
   "source": [
    "#### Непостредственный расчет помесячной выручки"
   ]
  },
  {
   "cell_type": "markdown",
   "metadata": {},
   "source": [
    "Для расчета помесячной выручки нужно сложить абонентскую плату каждого пользователя с оплатой звонков, сообщений и интернета сверх лимита."
   ]
  },
  {
   "cell_type": "markdown",
   "metadata": {},
   "source": [
    "Для расчета суммы оплаты сверх лимита напишем функцию, которая будет:\n",
    "- проходить по каждой строке таблицы **merged_data**;\n",
    "- рассчитывать для столбцов **month_calls_duration**, **total_messages_in_month** и **total_mb_in_month** дельту со значениями по тарифу;\n",
    "- данные по интернет-трафику будут округляться в большую сторону и делиться на 1024, т.к. по условиям известно, что тарифы учитывают только суммарный расход трафика в гигабайтах, с округлением до целых вверх;\n",
    "- затем полученные значения дельт будут домнажаться на стоимость по тарифу и полученные платежи будут суммироваться, тем самым возвращая суммарные платежи сверх абонентской платы для каждого пользователя."
   ]
  },
  {
   "cell_type": "markdown",
   "metadata": {},
   "source": [
    "Первый вариант функции, когда была очень большая объединенная таблица."
   ]
  },
  {
   "cell_type": "raw",
   "metadata": {},
   "source": [
    "def over_the_limit(row):\n",
    "    messages_over_payment = (row['total_messages_in_month'] - row['messages_included']) * row['rub_per_message']\n",
    "    calls_over_payment = (row['month_calls_duration'] - row['minutes_included']) * row['rub_per_minute']\n",
    "    internet_over_payment = np.ceil((row['total_mb_in_month'] - row['mb_per_month_included'])/1024) * row['rub_per_gb']\n",
    "    total_payment = 0\n",
    "    for i in [messages_over_payment, calls_over_payment, internet_over_payment]:\n",
    "        if i > 0:\n",
    "            total_payment += i\n",
    "    return total_payment"
   ]
  },
  {
   "cell_type": "markdown",
   "metadata": {},
   "source": [
    "И расширенная функция, цепляющаяся к таблице **Tariffs**, и учитывающая для каждого клиента сразу и абонентскую плату в месяц."
   ]
  },
  {
   "cell_type": "code",
   "execution_count": 160,
   "metadata": {},
   "outputs": [],
   "source": [
    "def over_the_limit(row):\n",
    "    #Подцепляем переменные из таблицы с тарифами\n",
    "    messages_included = int(tariffs[tariffs['tariff_name'] == (row['tariff_name'])]['messages_included'])\n",
    "    messages_month_fee = int(tariffs[tariffs['tariff_name'] == (row['tariff_name'])]['rub_per_message'])\n",
    "    \n",
    "    calls_included = int(tariffs[tariffs['tariff_name'] == (row['tariff_name'])]['minutes_included'])\n",
    "    calls_month_fee = int(tariffs[tariffs['tariff_name'] == (row['tariff_name'])]['rub_per_minute'])\n",
    "    \n",
    "    internet_included = int(tariffs[tariffs['tariff_name'] == (row['tariff_name'])]['mb_per_month_included'])\n",
    "    internet_month_fee = int(tariffs[tariffs['tariff_name'] == (row['tariff_name'])]['rub_per_gb'])\n",
    "    \n",
    "    monthly_fee = int(tariffs[tariffs['tariff_name'] == (row['tariff_name'])]['rub_monthly_fee'])\n",
    "        \n",
    "    messages_over_payment = ((row['total_messages_in_month'] - messages_included) * messages_month_fee)\n",
    "    calls_over_payment = ((row['month_calls_duration'] - calls_included) * calls_month_fee)\n",
    "    internet_over_payment = (np.ceil((row['total_mb_in_month'] - internet_included)/1024) * internet_month_fee)\n",
    "    total_payment = 0\n",
    "    for i in [messages_over_payment, calls_over_payment, internet_over_payment]:\n",
    "        if i > 0:\n",
    "            total_payment += i\n",
    "            \n",
    "    total_payment = total_payment + monthly_fee\n",
    "           \n",
    "    return total_payment"
   ]
  },
  {
   "cell_type": "markdown",
   "metadata": {},
   "source": [
    "<div class=\"alert alert-success\" style=\"border-radius: 15px; box-shadow: 4px 4px 4px; border: 1px solid \">\n",
    "<b> Комментарий ревьюера</b>\n",
    "    \n",
    "-  Здорово, что не забываешь про округление Гб.\n",
    "    \n",
    "  \n",
    "- Абонентскую плату можно прямо внутри функции добавлять. \n",
    "    \n",
    "    \n",
    "- Кстати, есть функция, возвращающая максимум из двух чисел, результат работы которой можно добавлять к абонентской плате:</div>\n",
    "\n",
    "```python\n",
    "\n",
    "max(0, row['total_messages_in_month'] - row['messages_included']) * row['rub_per_message']) \n",
    "\n",
    "\n",
    "```\n",
    "\n",
    "<div class=\"alert alert-success\" style=\"border-radius: 15px; box-shadow: 4px 4px 4px; border: 1px solid \">\n",
    "<h2> Комментарий ревьюера 2</h2>\n",
    "    \n",
    "Ниже набросаю пример функции с применением функции максимума: \n",
    "\n",
    "</div>"
   ]
  },
  {
   "cell_type": "code",
   "execution_count": 161,
   "metadata": {},
   "outputs": [
    {
     "data": {
      "text/plain": [
       "0      1,950.00\n",
       "1      1,950.00\n",
       "2      1,950.00\n",
       "3      1,950.00\n",
       "4      1,950.00\n",
       "         ...   \n",
       "3209     950.00\n",
       "3210   1,550.00\n",
       "3211   1,150.00\n",
       "3212     950.00\n",
       "3213   1,950.00\n",
       "Length: 3214, dtype: float64"
      ]
     },
     "execution_count": 161,
     "metadata": {},
     "output_type": "execute_result"
    }
   ],
   "source": [
    "# КОД РЕВЬЮЕРА\n",
    "\n",
    "\n",
    "def func(df):\n",
    "    \n",
    "    df_tariffs = tariffs.set_index('tariff_name') # Чтобы получить доступ по имени тарифа.\n",
    "    \n",
    "    # Записали абонентскую плату. \n",
    "    revenue = df_tariffs.loc[df.tariff_name]['rub_monthly_fee']\n",
    "    \n",
    "    revenue += (max(0, (df['month_calls_duration'] - df_tariffs.loc[df.tariff_name]['minutes_included']) * df_tariffs.loc[df.tariff_name]['rub_per_minute'])\n",
    "    + max(0, (df['total_messages_in_month'] - df_tariffs.loc[df.tariff_name]['messages_included']) * df_tariffs.loc[df.tariff_name]['rub_per_message'])\n",
    "    + max(0, np.ceil((df['total_mb_in_month'] - df_tariffs.loc[df.tariff_name]['mb_per_month_included'])/1024) * df_tariffs.loc[df.tariff_name]['rub_per_gb']))\n",
    "    \n",
    "    return revenue\n",
    "\n",
    "merged_data.apply(func, axis=1) "
   ]
  },
  {
   "cell_type": "code",
   "execution_count": 162,
   "metadata": {},
   "outputs": [],
   "source": [
    "merged_data['total_month_payment'] = merged_data.apply(over_the_limit, axis = 1)"
   ]
  },
  {
   "cell_type": "raw",
   "metadata": {},
   "source": [
    "merged_data['total_month_payment'] = tariffs['rub_monthly_fee'] + merged_data['payment_over_limit']"
   ]
  },
  {
   "cell_type": "code",
   "execution_count": 163,
   "metadata": {},
   "outputs": [
    {
     "data": {
      "text/html": [
       "<div>\n",
       "<style scoped>\n",
       "    .dataframe tbody tr th:only-of-type {\n",
       "        vertical-align: middle;\n",
       "    }\n",
       "\n",
       "    .dataframe tbody tr th {\n",
       "        vertical-align: top;\n",
       "    }\n",
       "\n",
       "    .dataframe thead th {\n",
       "        text-align: right;\n",
       "    }\n",
       "</style>\n",
       "<table border=\"1\" class=\"dataframe\">\n",
       "  <thead>\n",
       "    <tr style=\"text-align: right;\">\n",
       "      <th></th>\n",
       "      <th>user_id</th>\n",
       "      <th>month</th>\n",
       "      <th>month_calls_duration</th>\n",
       "      <th>total_calls_in_month</th>\n",
       "      <th>total_messages_in_month</th>\n",
       "      <th>total_mb_in_month</th>\n",
       "      <th>tariff_name</th>\n",
       "      <th>city</th>\n",
       "      <th>total_month_payment</th>\n",
       "    </tr>\n",
       "  </thead>\n",
       "  <tbody>\n",
       "    <tr>\n",
       "      <td>873</td>\n",
       "      <td>1142</td>\n",
       "      <td>11</td>\n",
       "      <td>478</td>\n",
       "      <td>60</td>\n",
       "      <td>43</td>\n",
       "      <td>21,617.13</td>\n",
       "      <td>smart</td>\n",
       "      <td>Новосибирск</td>\n",
       "      <td>1,950.00</td>\n",
       "    </tr>\n",
       "    <tr>\n",
       "      <td>2157</td>\n",
       "      <td>1344</td>\n",
       "      <td>9</td>\n",
       "      <td>901</td>\n",
       "      <td>118</td>\n",
       "      <td>129</td>\n",
       "      <td>27,549.16</td>\n",
       "      <td>ultra</td>\n",
       "      <td>Воронеж</td>\n",
       "      <td>1,950.00</td>\n",
       "    </tr>\n",
       "    <tr>\n",
       "      <td>3092</td>\n",
       "      <td>1483</td>\n",
       "      <td>7</td>\n",
       "      <td>686</td>\n",
       "      <td>86</td>\n",
       "      <td>47</td>\n",
       "      <td>14,153.01</td>\n",
       "      <td>smart</td>\n",
       "      <td>Ульяновск</td>\n",
       "      <td>1,108.00</td>\n",
       "    </tr>\n",
       "    <tr>\n",
       "      <td>2837</td>\n",
       "      <td>1447</td>\n",
       "      <td>12</td>\n",
       "      <td>750</td>\n",
       "      <td>92</td>\n",
       "      <td>66</td>\n",
       "      <td>23,827.41</td>\n",
       "      <td>smart</td>\n",
       "      <td>Москва</td>\n",
       "      <td>3,148.00</td>\n",
       "    </tr>\n",
       "    <tr>\n",
       "      <td>2946</td>\n",
       "      <td>1464</td>\n",
       "      <td>8</td>\n",
       "      <td>490</td>\n",
       "      <td>69</td>\n",
       "      <td>19</td>\n",
       "      <td>16,927.93</td>\n",
       "      <td>smart</td>\n",
       "      <td>Саранск</td>\n",
       "      <td>950.00</td>\n",
       "    </tr>\n",
       "    <tr>\n",
       "      <td>340</td>\n",
       "      <td>1054</td>\n",
       "      <td>12</td>\n",
       "      <td>595</td>\n",
       "      <td>91</td>\n",
       "      <td>62</td>\n",
       "      <td>19,373.99</td>\n",
       "      <td>smart</td>\n",
       "      <td>Омск</td>\n",
       "      <td>1,671.00</td>\n",
       "    </tr>\n",
       "    <tr>\n",
       "      <td>1808</td>\n",
       "      <td>1290</td>\n",
       "      <td>7</td>\n",
       "      <td>437</td>\n",
       "      <td>73</td>\n",
       "      <td>0</td>\n",
       "      <td>18,521.59</td>\n",
       "      <td>smart</td>\n",
       "      <td>Нижний Новгород</td>\n",
       "      <td>1,350.00</td>\n",
       "    </tr>\n",
       "    <tr>\n",
       "      <td>3086</td>\n",
       "      <td>1482</td>\n",
       "      <td>10</td>\n",
       "      <td>303</td>\n",
       "      <td>41</td>\n",
       "      <td>70</td>\n",
       "      <td>17,280.78</td>\n",
       "      <td>smart</td>\n",
       "      <td>Санкт-Петербург</td>\n",
       "      <td>1,010.00</td>\n",
       "    </tr>\n",
       "    <tr>\n",
       "      <td>1771</td>\n",
       "      <td>1284</td>\n",
       "      <td>3</td>\n",
       "      <td>261</td>\n",
       "      <td>39</td>\n",
       "      <td>15</td>\n",
       "      <td>6,572.59</td>\n",
       "      <td>smart</td>\n",
       "      <td>Волгоград</td>\n",
       "      <td>550.00</td>\n",
       "    </tr>\n",
       "    <tr>\n",
       "      <td>2729</td>\n",
       "      <td>1429</td>\n",
       "      <td>4</td>\n",
       "      <td>188</td>\n",
       "      <td>34</td>\n",
       "      <td>0</td>\n",
       "      <td>18,631.57</td>\n",
       "      <td>smart</td>\n",
       "      <td>Санкт-Петербург</td>\n",
       "      <td>1,350.00</td>\n",
       "    </tr>\n",
       "  </tbody>\n",
       "</table>\n",
       "</div>"
      ],
      "text/plain": [
       "      user_id  month  month_calls_duration  total_calls_in_month  \\\n",
       "873      1142     11                   478                    60   \n",
       "2157     1344      9                   901                   118   \n",
       "3092     1483      7                   686                    86   \n",
       "2837     1447     12                   750                    92   \n",
       "2946     1464      8                   490                    69   \n",
       "340      1054     12                   595                    91   \n",
       "1808     1290      7                   437                    73   \n",
       "3086     1482     10                   303                    41   \n",
       "1771     1284      3                   261                    39   \n",
       "2729     1429      4                   188                    34   \n",
       "\n",
       "      total_messages_in_month  total_mb_in_month tariff_name             city  \\\n",
       "873                        43          21,617.13       smart      Новосибирск   \n",
       "2157                      129          27,549.16       ultra          Воронеж   \n",
       "3092                       47          14,153.01       smart        Ульяновск   \n",
       "2837                       66          23,827.41       smart           Москва   \n",
       "2946                       19          16,927.93       smart          Саранск   \n",
       "340                        62          19,373.99       smart             Омск   \n",
       "1808                        0          18,521.59       smart  Нижний Новгород   \n",
       "3086                       70          17,280.78       smart  Санкт-Петербург   \n",
       "1771                       15           6,572.59       smart        Волгоград   \n",
       "2729                        0          18,631.57       smart  Санкт-Петербург   \n",
       "\n",
       "      total_month_payment  \n",
       "873              1,950.00  \n",
       "2157             1,950.00  \n",
       "3092             1,108.00  \n",
       "2837             3,148.00  \n",
       "2946               950.00  \n",
       "340              1,671.00  \n",
       "1808             1,350.00  \n",
       "3086             1,010.00  \n",
       "1771               550.00  \n",
       "2729             1,350.00  "
      ]
     },
     "execution_count": 163,
     "metadata": {},
     "output_type": "execute_result"
    }
   ],
   "source": [
    "merged_data.sample(10)"
   ]
  },
  {
   "cell_type": "markdown",
   "metadata": {},
   "source": [
    "**Вывод**"
   ]
  },
  {
   "cell_type": "markdown",
   "metadata": {},
   "source": [
    "Получили таблицу с рассчитанными величинами помесячной выручки для каждого пользователя. Теперь с полученной таблицей можно переходить к анализу данных и проверке гипотез."
   ]
  },
  {
   "cell_type": "markdown",
   "metadata": {},
   "source": [
    "<div class=\"alert alert-info\" style=\"border-radius: 15px; box-shadow: 4px 4px 4px; border: 1px solid \">\n",
    "<h2> Комментарий студента</h2>\n",
    "    \n",
    "Докрутил функцию, сделал все расчеты внутри нее.\n",
    "    \n",
    "</div>"
   ]
  },
  {
   "cell_type": "markdown",
   "metadata": {},
   "source": [
    "<div class=\"alert alert-success\" style=\"border-radius: 15px; box-shadow: 4px 4px 4px; border: 1px solid \">\n",
    "<h2> Комментарий ревьюера 2</h2>\n",
    "    \n",
    "Супер 👍\n",
    "</div>"
   ]
  },
  {
   "cell_type": "markdown",
   "metadata": {},
   "source": [
    "## Анализ данных и проверка гипотез"
   ]
  },
  {
   "cell_type": "markdown",
   "metadata": {},
   "source": [
    "### Анализ данных"
   ]
  },
  {
   "cell_type": "markdown",
   "metadata": {},
   "source": [
    "- Опишите поведение клиентов оператора, исходя из выборки. \n",
    "- Сколько минут разговора, сколько сообщений и какой объём интернет-трафика требуется пользователям каждого тарифа в месяц? \n",
    "- Посчитайте среднее количество, дисперсию и стандартное отклонение. \n",
    "- Постройте гистограммы. \n",
    "- Опишите распределения."
   ]
  },
  {
   "cell_type": "markdown",
   "metadata": {},
   "source": [
    "Последовательно пройдем по каждому интересующему нас параметру (количество минут разговора, отправленных сообщений и интернет-трафика в месяц, а также расходы в месяц на связь), рассчитаем среднее, дисперсию и стандартное отклонение; построим гистограммы для данных и затем проанализируем полученные результаты."
   ]
  },
  {
   "cell_type": "markdown",
   "metadata": {},
   "source": [
    "У нас имеется 2 выборки данных - пользователи тарифа Smart и Ultra. Поскольку нам нужно сделать вывод о том как из тарифов лучше, то каждый параметр будем рассматривать отдельно для каждого тарифа."
   ]
  },
  {
   "cell_type": "markdown",
   "metadata": {},
   "source": [
    "Оценим количество пользователей каждого тарифа."
   ]
  },
  {
   "cell_type": "code",
   "execution_count": 164,
   "metadata": {},
   "outputs": [
    {
     "data": {
      "text/plain": [
       "smart    2229\n",
       "ultra     985\n",
       "Name: tariff_name, dtype: int64"
      ]
     },
     "execution_count": 164,
     "metadata": {},
     "output_type": "execute_result"
    }
   ],
   "source": [
    "merged_data['tariff_name'].value_counts()"
   ]
  },
  {
   "cell_type": "markdown",
   "metadata": {},
   "source": [
    "Имеем достаточный объем данных по каждому тарифу."
   ]
  },
  {
   "cell_type": "markdown",
   "metadata": {},
   "source": [
    "#### Количество звонков в месяц"
   ]
  },
  {
   "cell_type": "markdown",
   "metadata": {},
   "source": []
  },
  {
   "cell_type": "code",
   "execution_count": 165,
   "metadata": {
    "scrolled": true
   },
   "outputs": [
    {
     "data": {
      "text/html": [
       "<style  type=\"text/css\" >\n",
       "</style><table id=\"T_53daecdc_7b94_11ec_bb8e_02420a393415\" ><thead>    <tr>        <th class=\"blank level0\" ></th>        <th class=\"col_heading level0 col0\" >mean</th>        <th class=\"col_heading level0 col1\" >median</th>        <th class=\"col_heading level0 col2\" >std</th>        <th class=\"col_heading level0 col3\" >var</th>    </tr>    <tr>        <th class=\"index_name level0\" >tariff_name</th>        <th class=\"blank\" ></th>        <th class=\"blank\" ></th>        <th class=\"blank\" ></th>        <th class=\"blank\" ></th>    </tr></thead><tbody>\n",
       "                <tr>\n",
       "                        <th id=\"T_53daecdc_7b94_11ec_bb8e_02420a393415level0_row0\" class=\"row_heading level0 row0\" >smart</th>\n",
       "                        <td id=\"T_53daecdc_7b94_11ec_bb8e_02420a393415row0_col0\" class=\"data row0 col0\" >417.93</td>\n",
       "                        <td id=\"T_53daecdc_7b94_11ec_bb8e_02420a393415row0_col1\" class=\"data row0 col1\" >422.00</td>\n",
       "                        <td id=\"T_53daecdc_7b94_11ec_bb8e_02420a393415row0_col2\" class=\"data row0 col2\" >190.31</td>\n",
       "                        <td id=\"T_53daecdc_7b94_11ec_bb8e_02420a393415row0_col3\" class=\"data row0 col3\" >36219.32</td>\n",
       "            </tr>\n",
       "            <tr>\n",
       "                        <th id=\"T_53daecdc_7b94_11ec_bb8e_02420a393415level0_row1\" class=\"row_heading level0 row1\" >ultra</th>\n",
       "                        <td id=\"T_53daecdc_7b94_11ec_bb8e_02420a393415row1_col0\" class=\"data row1 col0\" >526.62</td>\n",
       "                        <td id=\"T_53daecdc_7b94_11ec_bb8e_02420a393415row1_col1\" class=\"data row1 col1\" >518.00</td>\n",
       "                        <td id=\"T_53daecdc_7b94_11ec_bb8e_02420a393415row1_col2\" class=\"data row1 col2\" >317.61</td>\n",
       "                        <td id=\"T_53daecdc_7b94_11ec_bb8e_02420a393415row1_col3\" class=\"data row1 col3\" >100873.63</td>\n",
       "            </tr>\n",
       "    </tbody></table>"
      ],
      "text/plain": [
       "<pandas.io.formats.style.Styler at 0x7f7776911210>"
      ]
     },
     "execution_count": 165,
     "metadata": {},
     "output_type": "execute_result"
    }
   ],
   "source": [
    "merged_data.pivot_table(index = 'tariff_name', values = 'month_calls_duration', \n",
    "                        aggfunc = {'month_calls_duration': ['median','mean','var','std']}).style.format(\"{:.2f}\")"
   ]
  },
  {
   "cell_type": "raw",
   "metadata": {
    "scrolled": false
   },
   "source": [
    "merged_data[merged_data['tariff_name'] == 'smart']['month_calls_duration']\\\n",
    ".plot(kind='hist', bins=10, color = 'r', alpha = 0.5, grid = True);\n",
    "plt.title('Смарт — Звонки в минутах в месяц', fontdict=font);"
   ]
  },
  {
   "cell_type": "raw",
   "metadata": {
    "scrolled": true
   },
   "source": [
    "merged_data[merged_data['tariff_name'] == 'ultra']['month_calls_duration']\\\n",
    ".plot(kind='hist', bins=10, color = 'g', alpha = 0.5, grid = True);\n",
    "plt.title('Ультра — Звонки в минутах в месяц', fontdict=font);"
   ]
  },
  {
   "cell_type": "code",
   "execution_count": 166,
   "metadata": {},
   "outputs": [
    {
     "data": {
      "image/png": "[encoded data removed]",
      "text/plain": [
       "<Figure size 720x576 with 1 Axes>"
      ]
     },
     "metadata": {
      "needs_background": "light"
     },
     "output_type": "display_data"
    }
   ],
   "source": [
    "merged_data.groupby('tariff_name')['month_calls_duration'].plot.hist(alpha=0.5, legend=True, \n",
    "                                                                     bins=25, figsize=(10,8), grid = True)\n",
    "\n",
    "plt.legend(['Смарт', 'Ультра'])\n",
    "plt.title('Звонки в минутах в месяц', fontdict=font)\n",
    "plt.xlabel('Продолжительность звонка, мин', fontdict=font)\n",
    "plt.ylabel('Частость', fontdict=font)\n",
    "\n",
    "plt.show()"
   ]
  },
  {
   "cell_type": "markdown",
   "metadata": {},
   "source": [
    "<div class=\"alert alert-success\" style=\"border-radius: 15px; box-shadow: 4px 4px 4px; border: 1px solid \">\n",
    "<b> Комментарий ревьюера</b>\n",
    "    \n",
    "Наша таблица позволяет выводить гистограммы в одну строчку: \n",
    "\n",
    "</div>"
   ]
  },
  {
   "cell_type": "code",
   "execution_count": 167,
   "metadata": {},
   "outputs": [
    {
     "data": {
      "image/png": "[encoded data removed]",
      "text/plain": [
       "<Figure size 720x576 with 1 Axes>"
      ]
     },
     "metadata": {
      "needs_background": "light"
     },
     "output_type": "display_data"
    }
   ],
   "source": [
    "# КОД РЕВЬЮЕРА\n",
    "\n",
    "merged_data.groupby('tariff_name')['month_calls_duration'].plot.hist(alpha=0.5, legend=True, bins=25, figsize=(10,8))\n",
    "\n",
    "plt.legend(['Смарт', 'Ультра'])\n",
    "plt.title('Заголовок')\n",
    "plt.xlabel('Подпись')\n",
    "plt.ylabel('Подпись')\n",
    "\n",
    "plt.show()"
   ]
  },
  {
   "cell_type": "markdown",
   "metadata": {},
   "source": [
    "- Пользователи тарифа **Смарт** в среднем разговаривают 420 минут, набор данных имеет скошенность влево. Судя по графику, основная часть пользователей тарифа договаривает до установленного лимита и небольшая часть выходит за него. И совсем малая часть пользователей наговаривает в 2-3 раза больше установленного лимита - потенциальные клиенты для перехода на более \"высокий\" тарифный план.\n",
    "- Пользователи тарифа **Ультра** разговаривают больше, что логично с большим лимитом по звонкам. Набор данных имеет скошенность вправо. В среднем продолжительность разговора составляет 525 минут. По графику можно сделать вывод, что пользователи тарифа **Ультра** зачастую не пользуются всеми предоставленными минутами разговора, возможно стоит сделать тарифную линейку более гибкой и настраиваемой. "
   ]
  },
  {
   "cell_type": "markdown",
   "metadata": {},
   "source": [
    "#### Количество сообщений в месяц"
   ]
  },
  {
   "cell_type": "code",
   "execution_count": 168,
   "metadata": {},
   "outputs": [
    {
     "data": {
      "text/html": [
       "<style  type=\"text/css\" >\n",
       "</style><table id=\"T_549aa004_7b94_11ec_bb8e_02420a393415\" ><thead>    <tr>        <th class=\"blank level0\" ></th>        <th class=\"col_heading level0 col0\" >mean</th>        <th class=\"col_heading level0 col1\" >median</th>        <th class=\"col_heading level0 col2\" >std</th>        <th class=\"col_heading level0 col3\" >var</th>    </tr>    <tr>        <th class=\"index_name level0\" >tariff_name</th>        <th class=\"blank\" ></th>        <th class=\"blank\" ></th>        <th class=\"blank\" ></th>        <th class=\"blank\" ></th>    </tr></thead><tbody>\n",
       "                <tr>\n",
       "                        <th id=\"T_549aa004_7b94_11ec_bb8e_02420a393415level0_row0\" class=\"row_heading level0 row0\" >smart</th>\n",
       "                        <td id=\"T_549aa004_7b94_11ec_bb8e_02420a393415row0_col0\" class=\"data row0 col0\" >33.38</td>\n",
       "                        <td id=\"T_549aa004_7b94_11ec_bb8e_02420a393415row0_col1\" class=\"data row0 col1\" >28.00</td>\n",
       "                        <td id=\"T_549aa004_7b94_11ec_bb8e_02420a393415row0_col2\" class=\"data row0 col2\" >28.23</td>\n",
       "                        <td id=\"T_549aa004_7b94_11ec_bb8e_02420a393415row0_col3\" class=\"data row0 col3\" >796.81</td>\n",
       "            </tr>\n",
       "            <tr>\n",
       "                        <th id=\"T_549aa004_7b94_11ec_bb8e_02420a393415level0_row1\" class=\"row_heading level0 row1\" >ultra</th>\n",
       "                        <td id=\"T_549aa004_7b94_11ec_bb8e_02420a393415row1_col0\" class=\"data row1 col0\" >49.36</td>\n",
       "                        <td id=\"T_549aa004_7b94_11ec_bb8e_02420a393415row1_col1\" class=\"data row1 col1\" >38.00</td>\n",
       "                        <td id=\"T_549aa004_7b94_11ec_bb8e_02420a393415row1_col2\" class=\"data row1 col2\" >47.80</td>\n",
       "                        <td id=\"T_549aa004_7b94_11ec_bb8e_02420a393415row1_col3\" class=\"data row1 col3\" >2285.27</td>\n",
       "            </tr>\n",
       "    </tbody></table>"
      ],
      "text/plain": [
       "<pandas.io.formats.style.Styler at 0x7f77f0ec5710>"
      ]
     },
     "execution_count": 168,
     "metadata": {},
     "output_type": "execute_result"
    }
   ],
   "source": [
    "merged_data.pivot_table(index = 'tariff_name', values = 'total_messages_in_month', \n",
    "                        aggfunc = {'total_messages_in_month': ['median','mean','var','std']}).style.format(\"{:.2f}\")"
   ]
  },
  {
   "cell_type": "raw",
   "metadata": {},
   "source": [
    "merged_data[merged_data['tariff_name'] == 'smart']['total_messages_in_month']\\\n",
    ".plot(kind='hist', bins=10, color = 'r', alpha = 0.5, grid = True);\n",
    "plt.title('Смарт — Сообщения в месяц', fontdict=font);"
   ]
  },
  {
   "cell_type": "raw",
   "metadata": {
    "scrolled": true
   },
   "source": [
    "merged_data[merged_data['tariff_name'] == 'ultra']['total_messages_in_month']\\\n",
    ".plot(kind='hist', bins=10, color = 'g', alpha = 0.5, grid = True);\n",
    "plt.title('Ультра — Сообщения в месяц', fontdict=font);"
   ]
  },
  {
   "cell_type": "code",
   "execution_count": 169,
   "metadata": {},
   "outputs": [
    {
     "data": {
      "image/png": "[encoded data removed]",
      "text/plain": [
       "<Figure size 720x576 with 1 Axes>"
      ]
     },
     "metadata": {
      "needs_background": "light"
     },
     "output_type": "display_data"
    }
   ],
   "source": [
    "merged_data.groupby('tariff_name')['total_messages_in_month'].plot.hist(alpha=0.5, legend=True, \n",
    "                                                                        bins=25, figsize=(10,8), grid = True)\n",
    "\n",
    "plt.legend(['Смарт', 'Ультра'])\n",
    "plt.title('Сообщения в месяц', fontdict=font)\n",
    "plt.xlabel('Количество сообщений', fontdict=font)\n",
    "plt.ylabel('Частость', fontdict=font)\n",
    "\n",
    "plt.show()"
   ]
  },
  {
   "cell_type": "markdown",
   "metadata": {},
   "source": [
    "Для обоих тарифных планов отмечается одинаковое распределение отправленных сообщений. Из графиков видно, что пользователи обоих тарифных планов в большинстве своем не пользуются СМС-Сообщениями (видимо все заменили мессенджеры и интернет). Оба набора данных имеют скошенность вправо. Но тут стоит отметить, что на тарифном плане **Смарт** до сих пор активно пользутся СМС небольшая группа пользователей, что они даже успевают выйти за лимит."
   ]
  },
  {
   "cell_type": "markdown",
   "metadata": {},
   "source": [
    "#### Количество интернет-трафика в месяц"
   ]
  },
  {
   "cell_type": "code",
   "execution_count": 170,
   "metadata": {},
   "outputs": [
    {
     "data": {
      "text/html": [
       "<style  type=\"text/css\" >\n",
       "</style><table id=\"T_54f975de_7b94_11ec_bb8e_02420a393415\" ><thead>    <tr>        <th class=\"blank level0\" ></th>        <th class=\"col_heading level0 col0\" >mean</th>        <th class=\"col_heading level0 col1\" >median</th>        <th class=\"col_heading level0 col2\" >std</th>        <th class=\"col_heading level0 col3\" >var</th>    </tr>    <tr>        <th class=\"index_name level0\" >tariff_name</th>        <th class=\"blank\" ></th>        <th class=\"blank\" ></th>        <th class=\"blank\" ></th>        <th class=\"blank\" ></th>    </tr></thead><tbody>\n",
       "                <tr>\n",
       "                        <th id=\"T_54f975de_7b94_11ec_bb8e_02420a393415level0_row0\" class=\"row_heading level0 row0\" >smart</th>\n",
       "                        <td id=\"T_54f975de_7b94_11ec_bb8e_02420a393415row0_col0\" class=\"data row0 col0\" >16208.39</td>\n",
       "                        <td id=\"T_54f975de_7b94_11ec_bb8e_02420a393415row0_col1\" class=\"data row0 col1\" >16506.84</td>\n",
       "                        <td id=\"T_54f975de_7b94_11ec_bb8e_02420a393415row0_col2\" class=\"data row0 col2\" >5870.48</td>\n",
       "                        <td id=\"T_54f975de_7b94_11ec_bb8e_02420a393415row0_col3\" class=\"data row0 col3\" >34462496.46</td>\n",
       "            </tr>\n",
       "            <tr>\n",
       "                        <th id=\"T_54f975de_7b94_11ec_bb8e_02420a393415level0_row1\" class=\"row_heading level0 row1\" >ultra</th>\n",
       "                        <td id=\"T_54f975de_7b94_11ec_bb8e_02420a393415row1_col0\" class=\"data row1 col0\" >19468.81</td>\n",
       "                        <td id=\"T_54f975de_7b94_11ec_bb8e_02420a393415row1_col1\" class=\"data row1 col1\" >19308.01</td>\n",
       "                        <td id=\"T_54f975de_7b94_11ec_bb8e_02420a393415row1_col2\" class=\"data row1 col2\" >10087.17</td>\n",
       "                        <td id=\"T_54f975de_7b94_11ec_bb8e_02420a393415row1_col3\" class=\"data row1 col3\" >101751013.78</td>\n",
       "            </tr>\n",
       "    </tbody></table>"
      ],
      "text/plain": [
       "<pandas.io.formats.style.Styler at 0x7f77de01d250>"
      ]
     },
     "execution_count": 170,
     "metadata": {},
     "output_type": "execute_result"
    }
   ],
   "source": [
    "merged_data.pivot_table(index = 'tariff_name', values = 'total_mb_in_month', \n",
    "                        aggfunc = {'total_mb_in_month': ['median','mean','var','std']}).style.format(\"{:.2f}\")"
   ]
  },
  {
   "cell_type": "raw",
   "metadata": {},
   "source": [
    "merged_data[merged_data['tariff_name'] == 'smart']['total_mb_in_month']\\\n",
    ".plot(kind='hist', bins=10, color = 'r', alpha = 0.5, grid = True);\n",
    "plt.title('Смарт — Интернет-трафик в МБ в месяц', fontdict=font);"
   ]
  },
  {
   "cell_type": "raw",
   "metadata": {
    "scrolled": true
   },
   "source": [
    "merged_data[merged_data['tariff_name'] == 'ultra']['total_mb_in_month']\\\n",
    ".plot(kind='hist', bins=10, color = 'g', alpha = 0.5, grid = True);\n",
    "plt.title('Ультра — Интернет-трафик в МБ в месяц', fontdict=font);"
   ]
  },
  {
   "cell_type": "code",
   "execution_count": 171,
   "metadata": {},
   "outputs": [
    {
     "data": {
      "image/png": "[encoded data removed]",
      "text/plain": [
       "<Figure size 720x576 with 1 Axes>"
      ]
     },
     "metadata": {
      "needs_background": "light"
     },
     "output_type": "display_data"
    }
   ],
   "source": [
    "merged_data.groupby('tariff_name')['total_mb_in_month'].plot.hist(alpha=0.5, legend=True, \n",
    "                                                                        bins=25, figsize=(10,8), grid = True)\n",
    "\n",
    "plt.legend(['Смарт', 'Ультра'])\n",
    "plt.title('Интернет-трафик в МБ в месяц', fontdict=font)\n",
    "plt.xlabel('Интернет-трафик, МБ', fontdict=font)\n",
    "plt.ylabel('Частость', fontdict=font)\n",
    "\n",
    "plt.show()"
   ]
  },
  {
   "cell_type": "markdown",
   "metadata": {},
   "source": [
    "- Пользователи тарифа **Смарт** в среднем тратят на 1ГБ больше интернет-трафика (16 против 15), чем им предусмотрено тарифом (возможно это вызвано округлением вверх при трате даже меньше 1ГБ сверх тарифа, но имеем что имеем). Набор данных имеет скошенность влево, т.е. все-таки пользователи скорее остаются в пределах лимита. Тем не менее очень большая часть данных лежит за средними и медианными значениями, т.е. пользователям привычно выходит за рамки тарифа, стоит обратить на них внимание и предложить перейти на более \"высокий\" тарифный план.\n",
    "- Пользователи тарифа **Ультра** в среднем тратят 19ГБ интернет-трафика, т.е. оставляя запас около 10ГБ. Набор данных имеет небольшую скошенность вправо. Разброс значений на графике более широкий, чем на тарифе Смарт. Очень малое число пользователей выходит за пределы тарифного плана."
   ]
  },
  {
   "cell_type": "markdown",
   "metadata": {},
   "source": [
    "<div class=\"alert alert-success\" style=\"border-radius: 15px; box-shadow: 4px 4px 4px; border: 1px solid \">\n",
    "<b> Комментарий ревьюера</b>\n",
    "    \n",
    "Похоже, клиенты Ультра могут не думать об экономии :)\n",
    "</div>"
   ]
  },
  {
   "cell_type": "markdown",
   "metadata": {},
   "source": [
    "#### Расходы на связь в месяц"
   ]
  },
  {
   "cell_type": "code",
   "execution_count": 172,
   "metadata": {},
   "outputs": [
    {
     "data": {
      "text/html": [
       "<style  type=\"text/css\" >\n",
       "</style><table id=\"T_556681ce_7b94_11ec_bb8e_02420a393415\" ><thead>    <tr>        <th class=\"blank level0\" ></th>        <th class=\"col_heading level0 col0\" >mean</th>        <th class=\"col_heading level0 col1\" >median</th>        <th class=\"col_heading level0 col2\" >std</th>        <th class=\"col_heading level0 col3\" >var</th>    </tr>    <tr>        <th class=\"index_name level0\" >tariff_name</th>        <th class=\"blank\" ></th>        <th class=\"blank\" ></th>        <th class=\"blank\" ></th>        <th class=\"blank\" ></th>    </tr></thead><tbody>\n",
       "                <tr>\n",
       "                        <th id=\"T_556681ce_7b94_11ec_bb8e_02420a393415level0_row0\" class=\"row_heading level0 row0\" >smart</th>\n",
       "                        <td id=\"T_556681ce_7b94_11ec_bb8e_02420a393415row0_col0\" class=\"data row0 col0\" >1289.97</td>\n",
       "                        <td id=\"T_556681ce_7b94_11ec_bb8e_02420a393415row0_col1\" class=\"data row0 col1\" >1023.00</td>\n",
       "                        <td id=\"T_556681ce_7b94_11ec_bb8e_02420a393415row0_col2\" class=\"data row0 col2\" >818.40</td>\n",
       "                        <td id=\"T_556681ce_7b94_11ec_bb8e_02420a393415row0_col3\" class=\"data row0 col3\" >669785.71</td>\n",
       "            </tr>\n",
       "            <tr>\n",
       "                        <th id=\"T_556681ce_7b94_11ec_bb8e_02420a393415level0_row1\" class=\"row_heading level0 row1\" >ultra</th>\n",
       "                        <td id=\"T_556681ce_7b94_11ec_bb8e_02420a393415row1_col0\" class=\"data row1 col0\" >2070.15</td>\n",
       "                        <td id=\"T_556681ce_7b94_11ec_bb8e_02420a393415row1_col1\" class=\"data row1 col1\" >1950.00</td>\n",
       "                        <td id=\"T_556681ce_7b94_11ec_bb8e_02420a393415row1_col2\" class=\"data row1 col2\" >376.19</td>\n",
       "                        <td id=\"T_556681ce_7b94_11ec_bb8e_02420a393415row1_col3\" class=\"data row1 col3\" >141516.75</td>\n",
       "            </tr>\n",
       "    </tbody></table>"
      ],
      "text/plain": [
       "<pandas.io.formats.style.Styler at 0x7f77de078c90>"
      ]
     },
     "execution_count": 172,
     "metadata": {},
     "output_type": "execute_result"
    }
   ],
   "source": [
    "merged_data.pivot_table(index = 'tariff_name', values = 'total_month_payment', \n",
    "                        aggfunc = {'total_month_payment': ['median','mean','var','std']}).style.format(\"{:.2f}\")"
   ]
  },
  {
   "cell_type": "raw",
   "metadata": {},
   "source": [
    "merged_data.pivot_table(index = 'tariff_name', values = 'payment_over_limit', \n",
    "                        aggfunc = {'payment_over_limit': ['median','mean','var','std']}).style.format(\"{:.2f}\")"
   ]
  },
  {
   "cell_type": "code",
   "execution_count": 173,
   "metadata": {},
   "outputs": [
    {
     "data": {
      "image/png": "[encoded data removed]",
      "text/plain": [
       "<Figure size 432x288 with 1 Axes>"
      ]
     },
     "metadata": {
      "needs_background": "light"
     },
     "output_type": "display_data"
    }
   ],
   "source": [
    "merged_data[merged_data['tariff_name'] == 'smart']['total_month_payment']\\\n",
    ".plot(kind='hist', bins=10, color = 'r', alpha = 0.5, grid = True);\n",
    "plt.title('Смарт — Общие расходы в месяц', fontdict=font);"
   ]
  },
  {
   "cell_type": "code",
   "execution_count": 174,
   "metadata": {},
   "outputs": [
    {
     "data": {
      "image/png": "[encoded data removed]",
      "text/plain": [
       "<Figure size 432x288 with 1 Axes>"
      ]
     },
     "metadata": {
      "needs_background": "light"
     },
     "output_type": "display_data"
    }
   ],
   "source": [
    "merged_data[merged_data['tariff_name'] == 'ultra']['total_month_payment']\\\n",
    ".plot(kind='hist', bins=10, color = 'g', alpha = 0.5, grid = True);\n",
    "plt.title('Ультра — Общие расходы в месяц', fontdict=font);"
   ]
  },
  {
   "cell_type": "raw",
   "metadata": {},
   "source": [
    "merged_data[merged_data['tariff_name'] == 'smart']['payment_over_limit']\\\n",
    ".plot(kind='hist', bins=10, color = 'r', alpha = 0.5, grid = True);\n",
    "plt.title('Смарт — Расходы сверх абонентской платы', fontdict=font);"
   ]
  },
  {
   "cell_type": "raw",
   "metadata": {
    "scrolled": true
   },
   "source": [
    "merged_data[merged_data['tariff_name'] == 'ultra']['payment_over_limit']\\\n",
    ".plot(kind='hist', bins=10, color = 'g', alpha = 0.5, grid = True);\n",
    "plt.title('Ультра — Расходы сверх абонентской платы', fontdict=font);"
   ]
  },
  {
   "cell_type": "code",
   "execution_count": 189,
   "metadata": {},
   "outputs": [
    {
     "data": {
      "image/png": "[encoded data removed]",
      "text/plain": [
       "<Figure size 720x576 with 1 Axes>"
      ]
     },
     "metadata": {
      "needs_background": "light"
     },
     "output_type": "display_data"
    }
   ],
   "source": [
    "merged_data.groupby('tariff_name')['total_month_payment'].plot.hist(alpha=0.5, legend=True, \n",
    "                                                                        bins=25, figsize=(10,8), grid = True)\n",
    "\n",
    "plt.legend(['Смарт', 'Ультра'])\n",
    "plt.title('Общие расходы в месяц', fontdict=font)\n",
    "plt.xlabel('Расходы в месяц, руб', fontdict=font)\n",
    "plt.ylabel('Частость', fontdict=font)\n",
    "\n",
    "plt.show()"
   ]
  },
  {
   "cell_type": "markdown",
   "metadata": {},
   "source": [
    "Поведение обоих групп пользователей схожее - в основном все платят абонентскую плату и не выходят за пределы тарифа. Среди пользователей, выходящих за установленные лимиты, больше пользователей тарифа **Смарт**, пользователи тарифа **Ультра** выходят за рамки тарифа небольшими группами. По поведению пользователей тарифа **Смарт** можно выделить небольшие группы людей, которые переплачивают до 10 раз больше."
   ]
  },
  {
   "cell_type": "markdown",
   "metadata": {},
   "source": [
    "<div class=\"alert alert-info\" style=\"border-radius: 15px; box-shadow: 4px 4px 4px; border: 1px solid \">\n",
    "<h2> Комментарий студента</h2>\n",
    "    \n",
    "Переписал код, для представления двух графиков на одной координатной плоскости, единственное мне не нравится совместный график расходов, по отдельности как то поприятнее. Как ни пробовал подобрать число корзин, **Ультра** просто тонкой палкой смотрится. \n",
    "    \n",
    "</div>"
   ]
  },
  {
   "cell_type": "markdown",
   "metadata": {},
   "source": [
    "<div class=\"alert alert-success\" style=\"border-radius: 15px; box-shadow: 4px 4px 4px; border: 1px solid \">\n",
    "<h2> Комментарий ревьюера 2</h2>\n",
    "    \n",
    "Соглашусь.\n",
    "</div>"
   ]
  },
  {
   "cell_type": "markdown",
   "metadata": {},
   "source": [
    "**Вывод**"
   ]
  },
  {
   "cell_type": "markdown",
   "metadata": {},
   "source": [
    "Несмотря на разные тарифные планы, поведение пользователей схожее.\n",
    "- В основном все пользуются интернетом и совершают звонки;\n",
    "- Очень малая группа активно пользуется СМС-сообщениями.\n",
    "- Пользователи тарифа **Смарт** чаще выходят за установленные лимиты;\n",
    "- Пользователи тарифа **Ультра** не успевают израсходовать все оплаченные минуты и интернет-трафик.\n",
    "\n",
    "Рекомендации сотовому оператору:\n",
    "- Сделать тарифную линейку более гибкой, добавить промежуточный тарифный план, для тех кому мало **Смарта**, но много **Ультры**;\n",
    "- Продумать использование СМС, возможно стоит сделать месячные лимиты меньше и соптимизировать тарифы, за счет увеличения числа минут или интернет-трафика."
   ]
  },
  {
   "cell_type": "markdown",
   "metadata": {},
   "source": [
    "<div class=\"alert alert-success\" style=\"border-radius: 15px; box-shadow: 4px 4px 4px; border: 1px solid \">\n",
    "<b> Комментарий ревьюера</b>\n",
    "    \n",
    "Молодец, рекомендации лишними не бывают. </div>"
   ]
  },
  {
   "cell_type": "markdown",
   "metadata": {},
   "source": [
    "### Проверка гипотез"
   ]
  },
  {
   "cell_type": "markdown",
   "metadata": {},
   "source": [
    "- средняя выручка пользователей тарифов «Ультра» и «Смарт» различаются;\n",
    "- средняя выручка пользователей из Москвы отличается от выручки пользователей из других регионов. Пороговое значение alpha задайте самостоятельно. \n",
    "\n",
    "Поясните: как вы формулировали нулевую и альтернативную гипотезы; какой критерий использовали для проверки гипотез и почему."
   ]
  },
  {
   "cell_type": "markdown",
   "metadata": {},
   "source": [
    "#### Выбор метода проверки гипотез."
   ]
  },
  {
   "cell_type": "markdown",
   "metadata": {},
   "source": [
    "Для проверки обоих гипотез подойдет метод **scipy.stats.ttest_ind (array1, array2,equal_var)**, т.к. мы проверяем гипотезы о равенстве средних двух совокупностей.\n",
    "\n",
    "В обоих случаях совокупности независимы друг от друга, т.к. в первом случае это пользователи двух разных тарифных планов, а во втором жители Москвы и остальных городов.\n",
    "\n",
    "Сразу сформулируем нулевую и альтернативную гипотезы для обоих случаев.\n",
    "\n",
    "**Гипотеза 1:**\n",
    "- Н0 - средняя выручка пользователей тарифов **Ультра** и **Смарт** равна;\n",
    "- Н1 - средняя выручка пользователей тарифов **Ультра** и **Смарт** не равна.\n",
    "\n",
    "Гипотеза двусторонняя, т.к. нет в задании уточнения, в какую сторону отличаются средние.\n",
    "\n",
    "**Гипотеза 2:**\n",
    "- Н0 - средняя выручка пользователей тарифов из Москвы и регионов равна;\n",
    "- Н1 - средняя выручка пользователей тарифов из Москвы и регионов не равна;\n",
    "\n",
    "Гипотеза двусторонняя, т.к. нет в задании уточнения, в какую сторону отличаются средние.\n",
    "\n",
    "Величину **alpha** возьмем общепринятую, равную 5%."
   ]
  },
  {
   "cell_type": "markdown",
   "metadata": {},
   "source": [
    "#### Подготовка данных для проверки гипотез"
   ]
  },
  {
   "cell_type": "markdown",
   "metadata": {},
   "source": [
    "Подготовим датасеты для проверки гипотез из общего датасета. Сначала выделим датасет с пользователями по тарифам, для проверки первой гипотезы; затем рассчитаем столбец с признаком города (Москва или другой) и выделим два датасета: для Москвы и для остальных городов."
   ]
  },
  {
   "cell_type": "markdown",
   "metadata": {},
   "source": [
    "Создаем отфильтрованные датасеты с пользователями разных тарифов."
   ]
  },
  {
   "cell_type": "code",
   "execution_count": 176,
   "metadata": {},
   "outputs": [],
   "source": [
    "smart = merged_data[merged_data['tariff_name']=='smart']\n",
    "ultra = merged_data[merged_data['tariff_name']=='ultra']"
   ]
  },
  {
   "cell_type": "code",
   "execution_count": 177,
   "metadata": {
    "scrolled": false
   },
   "outputs": [
    {
     "name": "stdout",
     "output_type": "stream",
     "text": [
      "<class 'pandas.core.frame.DataFrame'>\n",
      "Int64Index: 2229 entries, 8 to 3212\n",
      "Data columns (total 9 columns):\n",
      "user_id                    2229 non-null int64\n",
      "month                      2229 non-null int64\n",
      "month_calls_duration       2229 non-null int64\n",
      "total_calls_in_month       2229 non-null int64\n",
      "total_messages_in_month    2229 non-null int64\n",
      "total_mb_in_month          2229 non-null float64\n",
      "tariff_name                2229 non-null object\n",
      "city                       2229 non-null object\n",
      "total_month_payment        2229 non-null float64\n",
      "dtypes: float64(2), int64(5), object(2)\n",
      "memory usage: 174.1+ KB\n"
     ]
    }
   ],
   "source": [
    "smart.info()"
   ]
  },
  {
   "cell_type": "code",
   "execution_count": 178,
   "metadata": {},
   "outputs": [
    {
     "name": "stdout",
     "output_type": "stream",
     "text": [
      "<class 'pandas.core.frame.DataFrame'>\n",
      "Int64Index: 985 entries, 0 to 3213\n",
      "Data columns (total 9 columns):\n",
      "user_id                    985 non-null int64\n",
      "month                      985 non-null int64\n",
      "month_calls_duration       985 non-null int64\n",
      "total_calls_in_month       985 non-null int64\n",
      "total_messages_in_month    985 non-null int64\n",
      "total_mb_in_month          985 non-null float64\n",
      "tariff_name                985 non-null object\n",
      "city                       985 non-null object\n",
      "total_month_payment        985 non-null float64\n",
      "dtypes: float64(2), int64(5), object(2)\n",
      "memory usage: 77.0+ KB\n"
     ]
    }
   ],
   "source": [
    "ultra.info()"
   ]
  },
  {
   "cell_type": "markdown",
   "metadata": {},
   "source": [
    "Теперь подготовим данные для проверки второй гипотезы. Проверим значения в столбце с названиями городов."
   ]
  },
  {
   "cell_type": "code",
   "execution_count": 179,
   "metadata": {},
   "outputs": [
    {
     "data": {
      "text/plain": [
       "array(['Краснодар', 'Москва', 'Стерлитамак', 'Новокузнецк',\n",
       "       'Набережные Челны', 'Ульяновск', 'Челябинск', 'Пермь', 'Тюмень',\n",
       "       'Самара', 'Санкт-Петербург', 'Иваново', 'Чебоксары', 'Омск', 'Уфа',\n",
       "       'Томск', 'Чита', 'Мурманск', 'Петрозаводск', 'Тверь',\n",
       "       'Екатеринбург', 'Махачкала', 'Вологда', 'Череповец', 'Ярославль',\n",
       "       'Сочи', 'Хабаровск', 'Ставрополь', 'Рязань', 'Улан-Удэ', 'Тула',\n",
       "       'Саратов', 'Ростов-на-Дону', 'Казань', 'Иркутск', 'Курск',\n",
       "       'Калуга', 'Якутск', 'Астрахань', 'Химки', 'Владикавказ',\n",
       "       'Волгоград', 'Саранск', 'Ижевск', 'Новосибирск', 'Брянск',\n",
       "       'Тольятти', 'Нижний Тагил', 'Орёл', 'Белгород', 'Воронеж',\n",
       "       'Курган', 'Барнаул', 'Красноярск', 'Архангельск', 'Липецк',\n",
       "       'Кемерово', 'Киров', 'Сургут', 'Пенза', 'Волжский', 'Магнитогорск',\n",
       "       'Нижний Новгород', 'Кострома', 'Владивосток', 'Тамбов', 'Балашиха',\n",
       "       'Севастополь', 'Калининград', 'Оренбург', 'Смоленск',\n",
       "       'Нижневартовск', 'Владимир', 'Новороссийск', 'Грозный', 'Подольск'],\n",
       "      dtype=object)"
      ]
     },
     "execution_count": 179,
     "metadata": {},
     "output_type": "execute_result"
    }
   ],
   "source": [
    "merged_data['city'].unique()"
   ]
  },
  {
   "cell_type": "markdown",
   "metadata": {},
   "source": [
    "Ошибок регистра, дублирующихся названий нет (хотя это и не столь важно в данном конкретном случае, главное что значение \"Москва\" одно и не повторяется). Создадим столбец в основной таблице с параметром принадлежности к региону."
   ]
  },
  {
   "cell_type": "code",
   "execution_count": 180,
   "metadata": {},
   "outputs": [],
   "source": [
    "merged_data['city_region'] = np.where(merged_data['city'] == 'Москва', 'Москва', 'Другой')"
   ]
  },
  {
   "cell_type": "code",
   "execution_count": 181,
   "metadata": {},
   "outputs": [],
   "source": [
    "moscow = merged_data[merged_data['city_region'] == 'Москва']\n",
    "all_other_cities = merged_data[merged_data['city_region'] == 'Другой']"
   ]
  },
  {
   "cell_type": "code",
   "execution_count": 182,
   "metadata": {},
   "outputs": [
    {
     "name": "stdout",
     "output_type": "stream",
     "text": [
      "<class 'pandas.core.frame.DataFrame'>\n",
      "Int64Index: 611 entries, 8 to 3213\n",
      "Data columns (total 10 columns):\n",
      "user_id                    611 non-null int64\n",
      "month                      611 non-null int64\n",
      "month_calls_duration       611 non-null int64\n",
      "total_calls_in_month       611 non-null int64\n",
      "total_messages_in_month    611 non-null int64\n",
      "total_mb_in_month          611 non-null float64\n",
      "tariff_name                611 non-null object\n",
      "city                       611 non-null object\n",
      "total_month_payment        611 non-null float64\n",
      "city_region                611 non-null object\n",
      "dtypes: float64(2), int64(5), object(3)\n",
      "memory usage: 52.5+ KB\n"
     ]
    }
   ],
   "source": [
    "moscow.info()"
   ]
  },
  {
   "cell_type": "code",
   "execution_count": 183,
   "metadata": {
    "scrolled": false
   },
   "outputs": [
    {
     "name": "stdout",
     "output_type": "stream",
     "text": [
      "<class 'pandas.core.frame.DataFrame'>\n",
      "Int64Index: 2603 entries, 0 to 3212\n",
      "Data columns (total 10 columns):\n",
      "user_id                    2603 non-null int64\n",
      "month                      2603 non-null int64\n",
      "month_calls_duration       2603 non-null int64\n",
      "total_calls_in_month       2603 non-null int64\n",
      "total_messages_in_month    2603 non-null int64\n",
      "total_mb_in_month          2603 non-null float64\n",
      "tariff_name                2603 non-null object\n",
      "city                       2603 non-null object\n",
      "total_month_payment        2603 non-null float64\n",
      "city_region                2603 non-null object\n",
      "dtypes: float64(2), int64(5), object(3)\n",
      "memory usage: 223.7+ KB\n"
     ]
    }
   ],
   "source": [
    "all_other_cities.info()"
   ]
  },
  {
   "cell_type": "markdown",
   "metadata": {},
   "source": [
    "Зададим параметр alpha"
   ]
  },
  {
   "cell_type": "code",
   "execution_count": 184,
   "metadata": {},
   "outputs": [],
   "source": [
    "alpha = 0.05"
   ]
  },
  {
   "cell_type": "markdown",
   "metadata": {},
   "source": [
    "Данные для проверки гипотез готовы. Можно проверять."
   ]
  },
  {
   "cell_type": "markdown",
   "metadata": {},
   "source": [
    "#### Гипотеза 1, средняя выручка пользователей тарифов «Ультра» и «Смарт» различаются"
   ]
  },
  {
   "cell_type": "markdown",
   "metadata": {},
   "source": [
    "Генеральные совокупности по тарифам имеют разный размер (985 и 2229 значений). Т.е. не будет выполняться одно из условий для проверки равенства средних двух генеральных совокупностей. Сделаем из генеральных совокупностей выборки по 400 значений и будем проводить проверку гипотезы на них.\n",
    "\n",
    "Параметр **equal_var** в этом случае оставляем по умолчанию равный True, т.к. мы сделали выполнение условий о равных дисперсиях."
   ]
  },
  {
   "cell_type": "code",
   "execution_count": 185,
   "metadata": {},
   "outputs": [],
   "source": [
    "smart_for_hypothesis = smart['total_month_payment'].sample(400)\n",
    "ultra_for_hypothesis = ultra['total_month_payment'].sample(400)"
   ]
  },
  {
   "cell_type": "code",
   "execution_count": 186,
   "metadata": {
    "scrolled": true
   },
   "outputs": [
    {
     "name": "stdout",
     "output_type": "stream",
     "text": [
      "p-значение: 1.3982488999233162e-50\n",
      "Отвергаем нулевую гипотезу\n"
     ]
    }
   ],
   "source": [
    "results = st.ttest_ind(ultra_for_hypothesis, smart_for_hypothesis)\n",
    "print('p-значение:', results.pvalue)\n",
    "\n",
    "if (results.pvalue < alpha):\n",
    "    print(\"Отвергаем нулевую гипотезу\")\n",
    "else:\n",
    "    print(\"Не получилось отвергнуть нулевую гипотезу\")"
   ]
  },
  {
   "cell_type": "markdown",
   "metadata": {},
   "source": [
    "<div class=\"alert alert-success\" style=\"border-radius: 15px; box-shadow: 4px 4px 4px; border: 1px solid \">\n",
    "<b> Комментарий ревьюера</b>\n",
    "    \n",
    "Ну да. Средняя месячная выручка бюджетного тарифа не дотягивает даже до абонентской платы дорогого тарифа.\n",
    "</div>"
   ]
  },
  {
   "cell_type": "markdown",
   "metadata": {},
   "source": [
    "**Вывод**"
   ]
  },
  {
   "cell_type": "markdown",
   "metadata": {},
   "source": [
    "Не получилось подтвердить нулевую гипотезу, получается средняя выручка от пользователей разных тарифов различается. Есть значимые различия между выборками."
   ]
  },
  {
   "cell_type": "markdown",
   "metadata": {},
   "source": [
    "#### Гипотеза 2, средняя выручка пользователей из Москвы отличается от выручки пользователей из других регионов"
   ]
  },
  {
   "cell_type": "markdown",
   "metadata": {},
   "source": [
    "Генеральные совокупности по тарифам имеют разный размер (611 и 2603 значений). Т.е. не будет выполняться одно из условий для проверки равенства средних двух генеральных совокупностей. Сделаем из генеральных совокупностей выборки по 300 значений и будем проводить проверку гипотезы на них.\n",
    "\n",
    "Параметр **equal_var** в этом случае оставляем по умолчанию равный True, т.к. мы сделали выполнение условий о равных дисперсиях."
   ]
  },
  {
   "cell_type": "code",
   "execution_count": 187,
   "metadata": {},
   "outputs": [],
   "source": [
    "moscow_for_hypothesis = moscow['total_month_payment'].sample(300)\n",
    "all_other_cities_for_hypothesis = all_other_cities['total_month_payment'].sample(300)"
   ]
  },
  {
   "cell_type": "code",
   "execution_count": 188,
   "metadata": {
    "scrolled": true
   },
   "outputs": [
    {
     "name": "stdout",
     "output_type": "stream",
     "text": [
      "p-значение: 0.49415779886771904\n",
      "Не получилось отвергнуть нулевую гипотезу\n"
     ]
    }
   ],
   "source": [
    "results = st.ttest_ind(moscow_for_hypothesis, all_other_cities_for_hypothesis)\n",
    "print('p-значение:', results.pvalue)\n",
    "\n",
    "if (results.pvalue < alpha):\n",
    "    print(\"Отвергаем нулевую гипотезу\")\n",
    "else:\n",
    "    print(\"Не получилось отвергнуть нулевую гипотезу\")"
   ]
  },
  {
   "cell_type": "markdown",
   "metadata": {},
   "source": [
    "**Вывод**"
   ]
  },
  {
   "cell_type": "markdown",
   "metadata": {},
   "source": [
    "Не получилось отвергнуть нулевую гипотезу, средняя выручка по всей стране схожа."
   ]
  },
  {
   "cell_type": "markdown",
   "metadata": {},
   "source": [
    "## Общие выводы"
   ]
  },
  {
   "cell_type": "markdown",
   "metadata": {},
   "source": [
    "- В ходе работы были получены данные о пользователях двух тарифных планов сотового оператора, информация о звонках, отправленных смс, интернет-трафике и описания тарифных планов;\n",
    "- Полученные данные были проанализированы, исправлены ошибки в типизации данных, выполнена проверка на наличие пропусков, аномальных значений, дуболикатов, данные подготовлены для анализа;\n",
    "- Рассчитаны показатели для анализа по каждому пользователю: израсходованные минуты разговора, отправленные смс, потраченный интернет-трафик и выручка с каждого клиента по каждому месяцу;\n",
    "- Произведено описание поведения клиентов, выводы представлены в конце блока 5.1.4.\n",
    "- Произведена проверка гипотез о различии средней выручки пользователей разных тарифов и пользователей из Москвы и остальных городов.\n",
    "\n",
    "Основные рекомендации заказчику:\n",
    "- По анализу поведения клиентов в блоке 5.1 можно предположить, что в линейке тарифов не хватает некоего \"среднего\" тарифа, либо есть необходимость в расширении пакета тарифа **Смарт**;\n",
    "- Обратить внимание на клиентов, которые регулярно выходят за лимиты тарифного плана **Смарт**, как на потенциальных клиентов для перехода на **Ультра**.\n",
    "- Снизить пакет СМС-сообщения для пользователей как тарифа **Смарт**, так и тарифа **Ультра**, поскольку ими почти не пользуются, либо заменить на больший пакет интернета и минут разговора;\n",
    "- Многие клиенты тарифа **Ультра** не расходуют весь пакет интернета в месяц, что можно рассматривать как упущенную выгоду;\n",
    "\n",
    "Результаты проверки гипотез:\n",
    "- Средняя выручка для тарифов **Смарт** и **Ультра** различается, на основании имеющихся данных не удалось доказать обратное;\n",
    "- Средняя выручка для Москвы и регионов по имеющимся данным не различается."
   ]
  },
  {
   "cell_type": "markdown",
   "metadata": {},
   "source": [
    "<div class=\"alert alert-danger\" style=\"border-radius: 15px; box-shadow: 4px 4px 4px; border: 1px solid \">\n",
    "<b> Комментарий ревьюера</b>\n",
    "    \n",
    "В итоге как мы ответим на главный вопрос задачи?\n",
    "\n",
    "> Нужно проанализировать поведение клиентов и сделать вывод — какой тариф лучше.</div>"
   ]
  },
  {
   "cell_type": "markdown",
   "metadata": {},
   "source": [
    "<div class=\"alert alert-info\" style=\"border-radius: 15px; box-shadow: 4px 4px 4px; border: 1px solid \">\n",
    "<h2> Комментарий студента</h2>\n",
    "    \n",
    "Если рассматривать директивно, то тариф **Ультра** лучше, он приносит больше прибыли с каждого клиента, чем Смарт.\n",
    "    \n",
    "Но если рассматривать по активности пользователей, то тариф **Смарт** становится лучше, пользователи этого тарифа чаще выходят за рамки тарифа, а значит потенциально готовы больше тратить на связь. К тому же за счет массовости (пользователей тарифа Смарт в 2.2 раза больше), пользователи тарифа Смарт могут принести больше прибыли компании.\n",
    "\n",
    "Но нельзя же перевести всех пользователей на один тариф, это может послужить поводом для оттока клиентов, поэтому, как я писал в промежуточных выводах и комментариях, текущая линейка тарифов явно требует дополнения или изменения, для того чтобы появился либо средний тариф, либо вариант с подписками и выбором необходимых услуг, как сейчас практикуют все операторы связи.\n",
    "    \n",
    "</div>"
   ]
  },
  {
   "cell_type": "markdown",
   "metadata": {},
   "source": [
    "<div class=\"alert alert-success\" style=\"border-radius: 15px; box-shadow: 4px 4px 4px; border: 1px solid \">\n",
    "<h2> Комментарий ревьюера 2</h2>\n",
    "    \n",
    "Тут я тоже согласна. Трудно сделать однозначный выбор. Проще еще один тариф ввести. \n",
    "</div>"
   ]
  },
  {
   "cell_type": "markdown",
   "metadata": {},
   "source": [
    "## Чек-лист выполнения"
   ]
  },
  {
   "cell_type": "markdown",
   "metadata": {},
   "source": [
    "Как будут проверять мой проект?\n",
    "Прежде чем приступить к решению кейса, изучите критерии оценивания.\n",
    "На что обращают внимание ревьюеры:\n",
    "Как вы описываете выявленные в данных проблемы?\n",
    "Как готовите данные к анализу?\n",
    "Какие графики строите для распределений?\n",
    "Как интерпретируете полученные графики?\n",
    "Как рассчитываете стандартное отклонение и дисперсию?\n",
    "Формулируете ли альтернативную и нулевую гипотезы?\n",
    "Какие методы применяете для проверки гипотез?\n",
    "Интерпретируете ли результат проверки гипотезы?\n",
    "Соблюдаете структуру проекта и поддерживаете аккуратность кода?\n",
    "Какие выводы делаете?\n",
    "Оставляете ли комментарии к шагам?"
   ]
  },
  {
   "cell_type": "markdown",
   "metadata": {},
   "source": [
    "- [x]  открыт файл\n",
    "- [x]  файлы изучены (выведены первые строки, метод info())\n",
    "- [x]  определены пропущенные значения\n",
    "- [x]  изменены типы данных\n",
    "- [x]  есть пояснение, в каких столбцах изменены типы и почему\n",
    "- [x]  посчитано и добавлено в таблицу: количество сделанных звонков и израсходованных минут разговора по месяцам\n",
    "- [x]  посчитано и добавлено в таблицу: количество отправленных сообщений по месяцам\n",
    "- [x]  посчитано и добавлено в таблицу: помесячная выручка с каждого пользователя\n",
    "- [x]  Опишите поведение клиентов оператора, исходя из выборки. Сколько минут разговора, сколько сообщений и какой объём интернет-трафика требуется пользователям каждого тарифа в месяц? Посчитаны среднее количество, дисперсия и стандартное отклонение. Построены гистограммы. Описаны распределения.\n",
    "- [x]  проверена гипотеза: \"средняя выручка пользователей тарифов «Ультра» и «Смарт» различаются\"\n",
    "- [x]  проверена гипотеза: \"средняя выручка пользователей из Москвы отличается от выручки пользователей из других регионов\"\n",
    "- [x]  в каждом этапе есть выводы\n",
    "- [x]  есть общий вывод"
   ]
  }
 ],
 "metadata": {
  "ExecuteTimeLog": [
   {
    "duration": 935,
    "start_time": "2022-01-13T19:01:53.753Z"
   },
   {
    "duration": 2,
    "start_time": "2022-01-13T19:02:45.194Z"
   },
   {
    "duration": 358,
    "start_time": "2022-01-13T19:03:02.962Z"
   },
   {
    "duration": 260,
    "start_time": "2022-01-15T17:36:28.276Z"
   },
   {
    "duration": 1092,
    "start_time": "2022-01-15T17:36:39.486Z"
   },
   {
    "duration": 4,
    "start_time": "2022-01-15T17:36:40.579Z"
   },
   {
    "duration": 448,
    "start_time": "2022-01-15T17:36:40.584Z"
   },
   {
    "duration": 7,
    "start_time": "2022-01-15T17:36:41.034Z"
   },
   {
    "duration": 14,
    "start_time": "2022-01-15T17:36:56.365Z"
   },
   {
    "duration": 14,
    "start_time": "2022-01-15T17:37:42.617Z"
   },
   {
    "duration": 6,
    "start_time": "2022-01-15T18:05:35.802Z"
   },
   {
    "duration": 6,
    "start_time": "2022-01-15T18:05:54.911Z"
   },
   {
    "duration": 11,
    "start_time": "2022-01-15T18:06:08.345Z"
   },
   {
    "duration": 8,
    "start_time": "2022-01-15T18:08:13.664Z"
   },
   {
    "duration": 7,
    "start_time": "2022-01-15T18:08:19.871Z"
   },
   {
    "duration": 21,
    "start_time": "2022-01-15T18:15:03.896Z"
   },
   {
    "duration": 13,
    "start_time": "2022-01-15T18:16:37.030Z"
   },
   {
    "duration": 13,
    "start_time": "2022-01-15T18:16:44.114Z"
   },
   {
    "duration": 29,
    "start_time": "2022-01-15T18:17:07.603Z"
   },
   {
    "duration": 34,
    "start_time": "2022-01-15T18:20:05.026Z"
   },
   {
    "duration": 16,
    "start_time": "2022-01-15T18:20:30.146Z"
   },
   {
    "duration": 15,
    "start_time": "2022-01-15T18:20:41.841Z"
   },
   {
    "duration": 5,
    "start_time": "2022-01-15T18:23:00.145Z"
   },
   {
    "duration": 19,
    "start_time": "2022-01-15T18:23:11.792Z"
   },
   {
    "duration": 13,
    "start_time": "2022-01-15T18:23:19.061Z"
   },
   {
    "duration": 15,
    "start_time": "2022-01-15T18:25:30.498Z"
   },
   {
    "duration": 10,
    "start_time": "2022-01-15T18:31:46.615Z"
   },
   {
    "duration": 13,
    "start_time": "2022-01-15T18:31:55.740Z"
   },
   {
    "duration": 5528,
    "start_time": "2022-01-15T18:34:00.591Z"
   },
   {
    "duration": 209,
    "start_time": "2022-01-15T18:34:11.205Z"
   },
   {
    "duration": 228,
    "start_time": "2022-01-15T18:34:13.275Z"
   },
   {
    "duration": 18,
    "start_time": "2022-01-15T18:34:23.742Z"
   },
   {
    "duration": 12,
    "start_time": "2022-01-15T18:34:37.758Z"
   },
   {
    "duration": 11,
    "start_time": "2022-01-15T18:34:54.364Z"
   },
   {
    "duration": 831,
    "start_time": "2022-01-15T18:35:04.097Z"
   },
   {
    "duration": 2790,
    "start_time": "2022-01-15T18:35:06.463Z"
   },
   {
    "duration": 18,
    "start_time": "2022-01-15T18:36:00.177Z"
   },
   {
    "duration": 13,
    "start_time": "2022-01-15T18:36:52.088Z"
   },
   {
    "duration": 28,
    "start_time": "2022-01-15T18:37:07.731Z"
   },
   {
    "duration": 1064,
    "start_time": "2022-01-15T18:41:05.923Z"
   },
   {
    "duration": 3,
    "start_time": "2022-01-15T18:41:06.988Z"
   },
   {
    "duration": 440,
    "start_time": "2022-01-15T18:41:06.993Z"
   },
   {
    "duration": 9,
    "start_time": "2022-01-15T18:41:07.435Z"
   },
   {
    "duration": 17,
    "start_time": "2022-01-15T18:41:07.446Z"
   },
   {
    "duration": 16,
    "start_time": "2022-01-15T18:41:07.464Z"
   },
   {
    "duration": 17,
    "start_time": "2022-01-15T18:41:07.481Z"
   },
   {
    "duration": 9,
    "start_time": "2022-01-15T18:41:07.500Z"
   },
   {
    "duration": 13,
    "start_time": "2022-01-15T18:41:07.512Z"
   },
   {
    "duration": 17,
    "start_time": "2022-01-15T18:41:07.527Z"
   },
   {
    "duration": 22,
    "start_time": "2022-01-15T18:41:07.545Z"
   },
   {
    "duration": 39,
    "start_time": "2022-01-15T18:41:07.569Z"
   },
   {
    "duration": 29,
    "start_time": "2022-01-15T18:41:07.610Z"
   },
   {
    "duration": 34,
    "start_time": "2022-01-15T18:41:07.640Z"
   },
   {
    "duration": 33,
    "start_time": "2022-01-15T18:41:07.675Z"
   },
   {
    "duration": 14,
    "start_time": "2022-01-15T18:41:07.710Z"
   },
   {
    "duration": 6,
    "start_time": "2022-01-15T18:41:07.726Z"
   },
   {
    "duration": 17,
    "start_time": "2022-01-15T18:41:07.734Z"
   },
   {
    "duration": 12,
    "start_time": "2022-01-15T18:41:07.753Z"
   },
   {
    "duration": 14,
    "start_time": "2022-01-15T18:41:07.799Z"
   },
   {
    "duration": 11,
    "start_time": "2022-01-15T18:41:07.815Z"
   },
   {
    "duration": 15,
    "start_time": "2022-01-15T18:41:07.828Z"
   },
   {
    "duration": 18,
    "start_time": "2022-01-15T18:41:07.845Z"
   },
   {
    "duration": 41,
    "start_time": "2022-01-15T18:41:07.864Z"
   },
   {
    "duration": 12,
    "start_time": "2022-01-15T18:41:07.906Z"
   },
   {
    "duration": 20,
    "start_time": "2022-01-15T18:41:07.920Z"
   },
   {
    "duration": 11,
    "start_time": "2022-01-15T18:41:07.943Z"
   },
   {
    "duration": 66,
    "start_time": "2022-01-15T18:41:07.956Z"
   },
   {
    "duration": 81,
    "start_time": "2022-01-15T18:42:38.898Z"
   },
   {
    "duration": 35,
    "start_time": "2022-01-15T18:43:28.292Z"
   },
   {
    "duration": 38,
    "start_time": "2022-01-15T18:43:30.386Z"
   },
   {
    "duration": 34,
    "start_time": "2022-01-15T18:44:11.522Z"
   },
   {
    "duration": 12,
    "start_time": "2022-01-15T18:44:28.776Z"
   },
   {
    "duration": 12,
    "start_time": "2022-01-15T18:44:35.986Z"
   },
   {
    "duration": 13,
    "start_time": "2022-01-15T18:44:38.838Z"
   },
   {
    "duration": 9,
    "start_time": "2022-01-15T18:45:22.949Z"
   },
   {
    "duration": 12,
    "start_time": "2022-01-15T18:45:37.254Z"
   },
   {
    "duration": 7,
    "start_time": "2022-01-15T18:47:50.090Z"
   },
   {
    "duration": 14,
    "start_time": "2022-01-15T18:47:57.652Z"
   },
   {
    "duration": 13,
    "start_time": "2022-01-15T18:48:10.011Z"
   },
   {
    "duration": 49,
    "start_time": "2022-01-15T18:48:47.568Z"
   },
   {
    "duration": 8,
    "start_time": "2022-01-15T18:59:05.687Z"
   },
   {
    "duration": 326,
    "start_time": "2022-01-15T18:59:33.461Z"
   },
   {
    "duration": 8,
    "start_time": "2022-01-15T18:59:39.225Z"
   },
   {
    "duration": 4,
    "start_time": "2022-01-15T19:06:56.440Z"
   },
   {
    "duration": 242,
    "start_time": "2022-01-15T19:52:42.370Z"
   },
   {
    "duration": 62,
    "start_time": "2022-01-15T19:53:42.098Z"
   },
   {
    "duration": 25,
    "start_time": "2022-01-15T19:54:11.326Z"
   },
   {
    "duration": 21,
    "start_time": "2022-01-15T19:54:19.069Z"
   },
   {
    "duration": 14,
    "start_time": "2022-01-15T19:54:25.025Z"
   },
   {
    "duration": 26,
    "start_time": "2022-01-15T19:56:23.606Z"
   },
   {
    "duration": 7,
    "start_time": "2022-01-15T19:56:43.061Z"
   },
   {
    "duration": 1413,
    "start_time": "2022-01-16T08:24:09.908Z"
   },
   {
    "duration": 3,
    "start_time": "2022-01-16T08:24:11.324Z"
   },
   {
    "duration": 521,
    "start_time": "2022-01-16T08:24:11.330Z"
   },
   {
    "duration": 10,
    "start_time": "2022-01-16T08:24:11.853Z"
   },
   {
    "duration": 20,
    "start_time": "2022-01-16T08:24:11.865Z"
   },
   {
    "duration": 20,
    "start_time": "2022-01-16T08:24:11.887Z"
   },
   {
    "duration": 8,
    "start_time": "2022-01-16T08:24:11.909Z"
   },
   {
    "duration": 41,
    "start_time": "2022-01-16T08:24:11.921Z"
   },
   {
    "duration": 17,
    "start_time": "2022-01-16T08:24:11.965Z"
   },
   {
    "duration": 10,
    "start_time": "2022-01-16T08:24:11.984Z"
   },
   {
    "duration": 7,
    "start_time": "2022-01-16T08:24:11.996Z"
   },
   {
    "duration": 61,
    "start_time": "2022-01-16T08:24:12.005Z"
   },
   {
    "duration": 26,
    "start_time": "2022-01-16T08:24:12.068Z"
   },
   {
    "duration": 63,
    "start_time": "2022-01-16T08:24:12.096Z"
   },
   {
    "duration": 43,
    "start_time": "2022-01-16T08:24:12.162Z"
   },
   {
    "duration": 21,
    "start_time": "2022-01-16T08:24:12.208Z"
   },
   {
    "duration": 46,
    "start_time": "2022-01-16T08:24:12.232Z"
   },
   {
    "duration": 9,
    "start_time": "2022-01-16T08:24:12.281Z"
   },
   {
    "duration": 24,
    "start_time": "2022-01-16T08:24:12.292Z"
   },
   {
    "duration": 54,
    "start_time": "2022-01-16T08:24:12.319Z"
   },
   {
    "duration": 123,
    "start_time": "2022-01-16T08:24:12.376Z"
   },
   {
    "duration": 20,
    "start_time": "2022-01-16T08:24:12.501Z"
   },
   {
    "duration": 34,
    "start_time": "2022-01-16T08:24:12.526Z"
   },
   {
    "duration": 18,
    "start_time": "2022-01-16T08:24:12.563Z"
   },
   {
    "duration": 26,
    "start_time": "2022-01-16T08:24:12.584Z"
   },
   {
    "duration": 46,
    "start_time": "2022-01-16T08:24:12.613Z"
   },
   {
    "duration": 17,
    "start_time": "2022-01-16T08:24:12.663Z"
   },
   {
    "duration": 81,
    "start_time": "2022-01-16T08:24:12.683Z"
   },
   {
    "duration": 25,
    "start_time": "2022-01-16T08:24:12.767Z"
   },
   {
    "duration": 17,
    "start_time": "2022-01-16T08:24:12.795Z"
   },
   {
    "duration": 67,
    "start_time": "2022-01-16T08:24:12.815Z"
   },
   {
    "duration": 29,
    "start_time": "2022-01-16T08:24:12.884Z"
   },
   {
    "duration": 16,
    "start_time": "2022-01-16T08:24:12.915Z"
   },
   {
    "duration": 17,
    "start_time": "2022-01-16T08:24:12.959Z"
   },
   {
    "duration": 11,
    "start_time": "2022-01-16T08:24:12.979Z"
   },
   {
    "duration": 12,
    "start_time": "2022-01-16T08:24:12.993Z"
   },
   {
    "duration": 9,
    "start_time": "2022-01-16T08:24:13.008Z"
   },
   {
    "duration": 55,
    "start_time": "2022-01-16T08:24:13.019Z"
   },
   {
    "duration": 16,
    "start_time": "2022-01-16T08:24:13.077Z"
   },
   {
    "duration": 91,
    "start_time": "2022-01-16T08:24:13.095Z"
   },
   {
    "duration": 8,
    "start_time": "2022-01-16T08:24:13.189Z"
   },
   {
    "duration": 13,
    "start_time": "2022-01-16T08:24:13.200Z"
   },
   {
    "duration": 60,
    "start_time": "2022-01-16T08:24:13.216Z"
   },
   {
    "duration": 25,
    "start_time": "2022-01-16T08:24:13.278Z"
   },
   {
    "duration": 54,
    "start_time": "2022-01-16T08:24:13.306Z"
   },
   {
    "duration": 10,
    "start_time": "2022-01-16T08:24:13.362Z"
   },
   {
    "duration": 23,
    "start_time": "2022-01-16T08:53:17.068Z"
   },
   {
    "duration": 18,
    "start_time": "2022-01-16T08:53:25.292Z"
   },
   {
    "duration": 16,
    "start_time": "2022-01-16T08:53:32.955Z"
   },
   {
    "duration": 22,
    "start_time": "2022-01-16T08:54:11.717Z"
   },
   {
    "duration": 11,
    "start_time": "2022-01-16T08:54:24.269Z"
   },
   {
    "duration": 35,
    "start_time": "2022-01-16T08:54:38.343Z"
   },
   {
    "duration": 13,
    "start_time": "2022-01-16T08:54:39.977Z"
   },
   {
    "duration": 12,
    "start_time": "2022-01-16T08:54:45.770Z"
   },
   {
    "duration": 1374,
    "start_time": "2022-01-16T08:55:33.935Z"
   },
   {
    "duration": 3,
    "start_time": "2022-01-16T08:55:35.312Z"
   },
   {
    "duration": 544,
    "start_time": "2022-01-16T08:55:35.318Z"
   },
   {
    "duration": 11,
    "start_time": "2022-01-16T08:55:35.865Z"
   },
   {
    "duration": 28,
    "start_time": "2022-01-16T08:55:35.878Z"
   },
   {
    "duration": 38,
    "start_time": "2022-01-16T08:55:35.909Z"
   },
   {
    "duration": 18,
    "start_time": "2022-01-16T08:55:35.949Z"
   },
   {
    "duration": 11,
    "start_time": "2022-01-16T08:55:35.971Z"
   },
   {
    "duration": 17,
    "start_time": "2022-01-16T08:55:35.986Z"
   },
   {
    "duration": 9,
    "start_time": "2022-01-16T08:55:36.005Z"
   },
   {
    "duration": 46,
    "start_time": "2022-01-16T08:55:36.017Z"
   },
   {
    "duration": 29,
    "start_time": "2022-01-16T08:55:36.066Z"
   },
   {
    "duration": 19,
    "start_time": "2022-01-16T08:55:36.098Z"
   },
   {
    "duration": 73,
    "start_time": "2022-01-16T08:55:36.119Z"
   },
   {
    "duration": 45,
    "start_time": "2022-01-16T08:55:36.194Z"
   },
   {
    "duration": 35,
    "start_time": "2022-01-16T08:55:36.241Z"
   },
   {
    "duration": 17,
    "start_time": "2022-01-16T08:55:36.278Z"
   },
   {
    "duration": 7,
    "start_time": "2022-01-16T08:55:36.297Z"
   },
   {
    "duration": 60,
    "start_time": "2022-01-16T08:55:36.306Z"
   },
   {
    "duration": 17,
    "start_time": "2022-01-16T08:55:36.368Z"
   },
   {
    "duration": 128,
    "start_time": "2022-01-16T08:55:36.388Z"
   },
   {
    "duration": 18,
    "start_time": "2022-01-16T08:55:36.519Z"
   },
   {
    "duration": 15,
    "start_time": "2022-01-16T08:55:36.559Z"
   },
   {
    "duration": 25,
    "start_time": "2022-01-16T08:55:36.577Z"
   },
   {
    "duration": 33,
    "start_time": "2022-01-16T08:55:36.604Z"
   },
   {
    "duration": 31,
    "start_time": "2022-01-16T08:55:36.640Z"
   },
   {
    "duration": 34,
    "start_time": "2022-01-16T08:55:36.673Z"
   },
   {
    "duration": 57,
    "start_time": "2022-01-16T08:55:36.710Z"
   },
   {
    "duration": 23,
    "start_time": "2022-01-16T08:55:36.770Z"
   },
   {
    "duration": 18,
    "start_time": "2022-01-16T08:55:36.795Z"
   },
   {
    "duration": 70,
    "start_time": "2022-01-16T08:55:36.816Z"
   },
   {
    "duration": 30,
    "start_time": "2022-01-16T08:55:36.888Z"
   },
   {
    "duration": 18,
    "start_time": "2022-01-16T08:55:36.921Z"
   },
   {
    "duration": 21,
    "start_time": "2022-01-16T08:55:36.960Z"
   },
   {
    "duration": 15,
    "start_time": "2022-01-16T08:55:36.985Z"
   },
   {
    "duration": 56,
    "start_time": "2022-01-16T08:55:37.003Z"
   },
   {
    "duration": 11,
    "start_time": "2022-01-16T08:55:37.062Z"
   },
   {
    "duration": 20,
    "start_time": "2022-01-16T08:55:37.076Z"
   },
   {
    "duration": 18,
    "start_time": "2022-01-16T08:55:37.098Z"
   },
   {
    "duration": 62,
    "start_time": "2022-01-16T08:55:37.158Z"
   },
   {
    "duration": 9,
    "start_time": "2022-01-16T08:55:37.223Z"
   },
   {
    "duration": 34,
    "start_time": "2022-01-16T08:55:37.235Z"
   },
   {
    "duration": 35,
    "start_time": "2022-01-16T08:55:37.271Z"
   },
   {
    "duration": 25,
    "start_time": "2022-01-16T08:55:37.308Z"
   },
   {
    "duration": 36,
    "start_time": "2022-01-16T08:55:37.360Z"
   },
   {
    "duration": 12,
    "start_time": "2022-01-16T08:55:37.398Z"
   },
   {
    "duration": 49,
    "start_time": "2022-01-16T08:55:37.413Z"
   },
   {
    "duration": 17,
    "start_time": "2022-01-16T08:55:37.465Z"
   },
   {
    "duration": 21,
    "start_time": "2022-01-16T08:55:37.484Z"
   },
   {
    "duration": 10,
    "start_time": "2022-01-16T08:55:37.507Z"
   },
   {
    "duration": 24,
    "start_time": "2022-01-16T09:04:57.984Z"
   },
   {
    "duration": 18,
    "start_time": "2022-01-16T09:05:08.413Z"
   },
   {
    "duration": 20,
    "start_time": "2022-01-16T09:06:12.722Z"
   },
   {
    "duration": 13,
    "start_time": "2022-01-16T09:06:29.937Z"
   },
   {
    "duration": 103,
    "start_time": "2022-01-16T09:10:01.837Z"
   },
   {
    "duration": 13,
    "start_time": "2022-01-16T09:31:27.778Z"
   },
   {
    "duration": 14,
    "start_time": "2022-01-16T09:32:10.593Z"
   },
   {
    "duration": 13,
    "start_time": "2022-01-16T09:32:27.527Z"
   },
   {
    "duration": 9,
    "start_time": "2022-01-16T09:32:43.363Z"
   },
   {
    "duration": 13,
    "start_time": "2022-01-16T09:32:49.097Z"
   },
   {
    "duration": 10,
    "start_time": "2022-01-16T09:32:57.153Z"
   },
   {
    "duration": 12,
    "start_time": "2022-01-16T09:34:38.608Z"
   },
   {
    "duration": 22,
    "start_time": "2022-01-16T09:34:40.437Z"
   },
   {
    "duration": 18,
    "start_time": "2022-01-16T09:36:20.090Z"
   },
   {
    "duration": 29,
    "start_time": "2022-01-16T09:36:22.437Z"
   },
   {
    "duration": 1312,
    "start_time": "2022-01-16T09:36:53.596Z"
   },
   {
    "duration": 4,
    "start_time": "2022-01-16T09:36:54.910Z"
   },
   {
    "duration": 535,
    "start_time": "2022-01-16T09:36:54.917Z"
   },
   {
    "duration": 10,
    "start_time": "2022-01-16T09:36:55.455Z"
   },
   {
    "duration": 20,
    "start_time": "2022-01-16T09:36:55.468Z"
   },
   {
    "duration": 23,
    "start_time": "2022-01-16T09:36:55.491Z"
   },
   {
    "duration": 9,
    "start_time": "2022-01-16T09:36:55.516Z"
   },
   {
    "duration": 39,
    "start_time": "2022-01-16T09:36:55.528Z"
   },
   {
    "duration": 17,
    "start_time": "2022-01-16T09:36:55.571Z"
   },
   {
    "duration": 9,
    "start_time": "2022-01-16T09:36:55.590Z"
   },
   {
    "duration": 4,
    "start_time": "2022-01-16T09:36:55.602Z"
   },
   {
    "duration": 75,
    "start_time": "2022-01-16T09:36:55.608Z"
   },
   {
    "duration": 18,
    "start_time": "2022-01-16T09:36:55.685Z"
   },
   {
    "duration": 61,
    "start_time": "2022-01-16T09:36:55.705Z"
   },
   {
    "duration": 45,
    "start_time": "2022-01-16T09:36:55.768Z"
   },
   {
    "duration": 20,
    "start_time": "2022-01-16T09:36:55.815Z"
   },
   {
    "duration": 18,
    "start_time": "2022-01-16T09:36:55.859Z"
   },
   {
    "duration": 8,
    "start_time": "2022-01-16T09:36:55.880Z"
   },
   {
    "duration": 23,
    "start_time": "2022-01-16T09:36:55.891Z"
   },
   {
    "duration": 56,
    "start_time": "2022-01-16T09:36:55.917Z"
   },
   {
    "duration": 143,
    "start_time": "2022-01-16T09:36:55.976Z"
   },
   {
    "duration": 22,
    "start_time": "2022-01-16T09:36:56.122Z"
   },
   {
    "duration": 16,
    "start_time": "2022-01-16T09:36:56.166Z"
   },
   {
    "duration": 18,
    "start_time": "2022-01-16T09:36:56.185Z"
   },
   {
    "duration": 59,
    "start_time": "2022-01-16T09:36:56.205Z"
   },
   {
    "duration": 14,
    "start_time": "2022-01-16T09:36:56.266Z"
   },
   {
    "duration": 14,
    "start_time": "2022-01-16T09:36:56.283Z"
   },
   {
    "duration": 77,
    "start_time": "2022-01-16T09:36:56.299Z"
   },
   {
    "duration": 23,
    "start_time": "2022-01-16T09:36:56.379Z"
   },
   {
    "duration": 16,
    "start_time": "2022-01-16T09:36:56.404Z"
   },
   {
    "duration": 66,
    "start_time": "2022-01-16T09:36:56.423Z"
   },
   {
    "duration": 29,
    "start_time": "2022-01-16T09:36:56.491Z"
   },
   {
    "duration": 38,
    "start_time": "2022-01-16T09:36:56.522Z"
   },
   {
    "duration": 19,
    "start_time": "2022-01-16T09:36:56.563Z"
   },
   {
    "duration": 14,
    "start_time": "2022-01-16T09:36:56.585Z"
   },
   {
    "duration": 57,
    "start_time": "2022-01-16T09:36:56.602Z"
   },
   {
    "duration": 11,
    "start_time": "2022-01-16T09:36:56.662Z"
   },
   {
    "duration": 20,
    "start_time": "2022-01-16T09:36:56.676Z"
   },
   {
    "duration": 19,
    "start_time": "2022-01-16T09:36:56.699Z"
   },
   {
    "duration": 60,
    "start_time": "2022-01-16T09:36:56.760Z"
   },
   {
    "duration": 10,
    "start_time": "2022-01-16T09:36:56.823Z"
   },
   {
    "duration": 35,
    "start_time": "2022-01-16T09:36:56.836Z"
   },
   {
    "duration": 34,
    "start_time": "2022-01-16T09:36:56.873Z"
   },
   {
    "duration": 54,
    "start_time": "2022-01-16T09:36:56.910Z"
   },
   {
    "duration": 38,
    "start_time": "2022-01-16T09:36:56.966Z"
   },
   {
    "duration": 11,
    "start_time": "2022-01-16T09:36:57.007Z"
   },
   {
    "duration": 46,
    "start_time": "2022-01-16T09:36:57.021Z"
   },
   {
    "duration": 16,
    "start_time": "2022-01-16T09:36:57.069Z"
   },
   {
    "duration": 20,
    "start_time": "2022-01-16T09:36:57.088Z"
   },
   {
    "duration": 9,
    "start_time": "2022-01-16T09:36:57.111Z"
   },
   {
    "duration": 57,
    "start_time": "2022-01-16T09:36:57.122Z"
   },
   {
    "duration": 12,
    "start_time": "2022-01-16T09:36:57.182Z"
   },
   {
    "duration": 22,
    "start_time": "2022-01-16T09:36:57.196Z"
   },
   {
    "duration": 10,
    "start_time": "2022-01-16T09:36:57.220Z"
   },
   {
    "duration": 13,
    "start_time": "2022-01-16T09:36:57.260Z"
   },
   {
    "duration": 11,
    "start_time": "2022-01-16T09:36:57.275Z"
   },
   {
    "duration": 14,
    "start_time": "2022-01-16T09:36:57.288Z"
   },
   {
    "duration": 57,
    "start_time": "2022-01-16T09:36:57.304Z"
   },
   {
    "duration": 12,
    "start_time": "2022-01-16T09:37:41.683Z"
   },
   {
    "duration": 25,
    "start_time": "2022-01-16T09:37:43.781Z"
   },
   {
    "duration": 1543,
    "start_time": "2022-01-16T09:38:17.070Z"
   },
   {
    "duration": 3,
    "start_time": "2022-01-16T09:38:18.616Z"
   },
   {
    "duration": 626,
    "start_time": "2022-01-16T09:38:18.622Z"
   },
   {
    "duration": 11,
    "start_time": "2022-01-16T09:38:19.251Z"
   },
   {
    "duration": 23,
    "start_time": "2022-01-16T09:38:19.265Z"
   },
   {
    "duration": 23,
    "start_time": "2022-01-16T09:38:19.291Z"
   },
   {
    "duration": 47,
    "start_time": "2022-01-16T09:38:19.316Z"
   },
   {
    "duration": 10,
    "start_time": "2022-01-16T09:38:19.367Z"
   },
   {
    "duration": 23,
    "start_time": "2022-01-16T09:38:19.380Z"
   },
   {
    "duration": 10,
    "start_time": "2022-01-16T09:38:19.406Z"
   },
   {
    "duration": 40,
    "start_time": "2022-01-16T09:38:19.419Z"
   },
   {
    "duration": 28,
    "start_time": "2022-01-16T09:38:19.461Z"
   },
   {
    "duration": 18,
    "start_time": "2022-01-16T09:38:19.491Z"
   },
   {
    "duration": 65,
    "start_time": "2022-01-16T09:38:19.512Z"
   },
   {
    "duration": 41,
    "start_time": "2022-01-16T09:38:19.579Z"
   },
   {
    "duration": 37,
    "start_time": "2022-01-16T09:38:19.622Z"
   },
   {
    "duration": 24,
    "start_time": "2022-01-16T09:38:19.661Z"
   },
   {
    "duration": 7,
    "start_time": "2022-01-16T09:38:19.687Z"
   },
   {
    "duration": 23,
    "start_time": "2022-01-16T09:38:19.697Z"
   },
   {
    "duration": 50,
    "start_time": "2022-01-16T09:38:19.722Z"
   },
   {
    "duration": 125,
    "start_time": "2022-01-16T09:38:19.774Z"
   },
   {
    "duration": 19,
    "start_time": "2022-01-16T09:38:19.901Z"
   },
   {
    "duration": 36,
    "start_time": "2022-01-16T09:38:19.925Z"
   },
   {
    "duration": 18,
    "start_time": "2022-01-16T09:38:19.965Z"
   },
   {
    "duration": 23,
    "start_time": "2022-01-16T09:38:19.986Z"
   },
   {
    "duration": 51,
    "start_time": "2022-01-16T09:38:20.012Z"
   },
   {
    "duration": 15,
    "start_time": "2022-01-16T09:38:20.065Z"
   },
   {
    "duration": 78,
    "start_time": "2022-01-16T09:38:20.083Z"
   },
   {
    "duration": 22,
    "start_time": "2022-01-16T09:38:20.164Z"
   },
   {
    "duration": 18,
    "start_time": "2022-01-16T09:38:20.188Z"
   },
   {
    "duration": 64,
    "start_time": "2022-01-16T09:38:20.208Z"
   },
   {
    "duration": 29,
    "start_time": "2022-01-16T09:38:20.275Z"
   },
   {
    "duration": 20,
    "start_time": "2022-01-16T09:38:20.307Z"
   },
   {
    "duration": 44,
    "start_time": "2022-01-16T09:38:20.330Z"
   },
   {
    "duration": 14,
    "start_time": "2022-01-16T09:38:20.377Z"
   },
   {
    "duration": 14,
    "start_time": "2022-01-16T09:38:20.393Z"
   },
   {
    "duration": 54,
    "start_time": "2022-01-16T09:38:20.409Z"
   },
   {
    "duration": 18,
    "start_time": "2022-01-16T09:38:20.465Z"
   },
   {
    "duration": 17,
    "start_time": "2022-01-16T09:38:20.485Z"
   },
   {
    "duration": 82,
    "start_time": "2022-01-16T09:38:20.504Z"
   },
   {
    "duration": 10,
    "start_time": "2022-01-16T09:38:20.589Z"
   },
   {
    "duration": 20,
    "start_time": "2022-01-16T09:38:20.601Z"
   },
   {
    "duration": 57,
    "start_time": "2022-01-16T09:38:20.623Z"
   },
   {
    "duration": 30,
    "start_time": "2022-01-16T09:38:20.682Z"
   },
   {
    "duration": 55,
    "start_time": "2022-01-16T09:38:20.715Z"
   },
   {
    "duration": 12,
    "start_time": "2022-01-16T09:38:20.772Z"
   },
   {
    "duration": 24,
    "start_time": "2022-01-16T09:38:20.786Z"
   },
   {
    "duration": 20,
    "start_time": "2022-01-16T09:38:20.812Z"
   },
   {
    "duration": 23,
    "start_time": "2022-01-16T09:38:20.859Z"
   },
   {
    "duration": 10,
    "start_time": "2022-01-16T09:38:20.884Z"
   },
   {
    "duration": 25,
    "start_time": "2022-01-16T09:38:20.896Z"
   },
   {
    "duration": 45,
    "start_time": "2022-01-16T09:38:20.923Z"
   },
   {
    "duration": 22,
    "start_time": "2022-01-16T09:38:20.970Z"
   },
   {
    "duration": 9,
    "start_time": "2022-01-16T09:38:20.995Z"
   },
   {
    "duration": 12,
    "start_time": "2022-01-16T09:38:21.006Z"
   },
   {
    "duration": 46,
    "start_time": "2022-01-16T09:38:21.021Z"
   },
   {
    "duration": 17,
    "start_time": "2022-01-16T09:38:21.070Z"
   },
   {
    "duration": 11,
    "start_time": "2022-01-16T09:38:21.090Z"
   },
   {
    "duration": 57,
    "start_time": "2022-01-16T09:38:21.104Z"
   },
   {
    "duration": 121,
    "start_time": "2022-01-16T09:46:05.795Z"
   },
   {
    "duration": 26,
    "start_time": "2022-01-16T09:46:30.783Z"
   },
   {
    "duration": 63,
    "start_time": "2022-01-16T09:46:41.283Z"
   },
   {
    "duration": 11,
    "start_time": "2022-01-16T09:46:59.004Z"
   },
   {
    "duration": 11,
    "start_time": "2022-01-16T09:52:44.508Z"
   },
   {
    "duration": 9,
    "start_time": "2022-01-16T09:53:13.322Z"
   },
   {
    "duration": 8,
    "start_time": "2022-01-16T09:53:36.029Z"
   },
   {
    "duration": 10,
    "start_time": "2022-01-16T09:54:10.597Z"
   },
   {
    "duration": 8,
    "start_time": "2022-01-16T09:55:34.363Z"
   },
   {
    "duration": 9,
    "start_time": "2022-01-16T09:55:47.042Z"
   },
   {
    "duration": 12,
    "start_time": "2022-01-16T09:56:00.964Z"
   },
   {
    "duration": 8,
    "start_time": "2022-01-16T10:11:43.100Z"
   },
   {
    "duration": 13,
    "start_time": "2022-01-16T10:11:56.926Z"
   },
   {
    "duration": 13,
    "start_time": "2022-01-16T10:13:38.270Z"
   },
   {
    "duration": 6,
    "start_time": "2022-01-16T10:33:40.362Z"
   },
   {
    "duration": 5,
    "start_time": "2022-01-16T10:34:26.599Z"
   },
   {
    "duration": 25432,
    "start_time": "2022-01-16T10:35:58.194Z"
   },
   {
    "duration": 5,
    "start_time": "2022-01-16T10:37:40.040Z"
   },
   {
    "duration": 724,
    "start_time": "2022-01-16T10:37:41.720Z"
   },
   {
    "duration": 12,
    "start_time": "2022-01-16T10:38:29.603Z"
   },
   {
    "duration": 24,
    "start_time": "2022-01-16T10:38:37.956Z"
   },
   {
    "duration": 25,
    "start_time": "2022-01-16T10:39:03.081Z"
   },
   {
    "duration": 26,
    "start_time": "2022-01-16T10:44:24.609Z"
   },
   {
    "duration": 11,
    "start_time": "2022-01-16T12:02:11.979Z"
   },
   {
    "duration": 4,
    "start_time": "2022-01-16T12:02:15.667Z"
   },
   {
    "duration": 4,
    "start_time": "2022-01-16T12:02:43.194Z"
   },
   {
    "duration": 11,
    "start_time": "2022-01-16T12:29:11.046Z"
   },
   {
    "duration": 730,
    "start_time": "2022-01-16T12:31:04.963Z"
   },
   {
    "duration": 390,
    "start_time": "2022-01-16T12:31:52.771Z"
   },
   {
    "duration": 319,
    "start_time": "2022-01-16T12:31:59.631Z"
   },
   {
    "duration": 318,
    "start_time": "2022-01-16T12:34:55.532Z"
   },
   {
    "duration": 323,
    "start_time": "2022-01-16T12:35:05.740Z"
   },
   {
    "duration": 410,
    "start_time": "2022-01-16T12:35:16.705Z"
   },
   {
    "duration": 314,
    "start_time": "2022-01-16T12:35:47.976Z"
   },
   {
    "duration": 43,
    "start_time": "2022-01-16T12:39:46.869Z"
   },
   {
    "duration": 29,
    "start_time": "2022-01-16T12:40:32.089Z"
   },
   {
    "duration": 30,
    "start_time": "2022-01-16T12:40:48.779Z"
   },
   {
    "duration": 146,
    "start_time": "2022-01-16T12:41:47.483Z"
   },
   {
    "duration": 25,
    "start_time": "2022-01-16T12:41:59.479Z"
   },
   {
    "duration": 28,
    "start_time": "2022-01-16T12:43:26.913Z"
   },
   {
    "duration": 43,
    "start_time": "2022-01-16T12:44:00.973Z"
   },
   {
    "duration": 1480,
    "start_time": "2022-01-16T12:44:48.373Z"
   },
   {
    "duration": 4,
    "start_time": "2022-01-16T12:44:49.856Z"
   },
   {
    "duration": 640,
    "start_time": "2022-01-16T12:44:49.868Z"
   },
   {
    "duration": 5,
    "start_time": "2022-01-16T12:44:50.511Z"
   },
   {
    "duration": 25,
    "start_time": "2022-01-16T12:44:50.519Z"
   },
   {
    "duration": 38,
    "start_time": "2022-01-16T12:44:50.546Z"
   },
   {
    "duration": 23,
    "start_time": "2022-01-16T12:44:50.586Z"
   },
   {
    "duration": 9,
    "start_time": "2022-01-16T12:44:50.614Z"
   },
   {
    "duration": 35,
    "start_time": "2022-01-16T12:44:50.626Z"
   },
   {
    "duration": 38,
    "start_time": "2022-01-16T12:44:50.664Z"
   },
   {
    "duration": 15,
    "start_time": "2022-01-16T12:44:50.705Z"
   },
   {
    "duration": 12,
    "start_time": "2022-01-16T12:44:50.722Z"
   },
   {
    "duration": 56,
    "start_time": "2022-01-16T12:44:50.736Z"
   },
   {
    "duration": 28,
    "start_time": "2022-01-16T12:44:50.795Z"
   },
   {
    "duration": 70,
    "start_time": "2022-01-16T12:44:50.826Z"
   },
   {
    "duration": 84,
    "start_time": "2022-01-16T12:44:50.900Z"
   },
   {
    "duration": 31,
    "start_time": "2022-01-16T12:44:50.987Z"
   },
   {
    "duration": 48,
    "start_time": "2022-01-16T12:44:51.021Z"
   },
   {
    "duration": 19,
    "start_time": "2022-01-16T12:44:51.073Z"
   },
   {
    "duration": 37,
    "start_time": "2022-01-16T12:44:51.095Z"
   },
   {
    "duration": 41,
    "start_time": "2022-01-16T12:44:51.135Z"
   },
   {
    "duration": 148,
    "start_time": "2022-01-16T12:44:51.179Z"
   },
   {
    "duration": 33,
    "start_time": "2022-01-16T12:44:51.329Z"
   },
   {
    "duration": 22,
    "start_time": "2022-01-16T12:44:51.366Z"
   },
   {
    "duration": 18,
    "start_time": "2022-01-16T12:44:51.390Z"
   },
   {
    "duration": 63,
    "start_time": "2022-01-16T12:44:51.415Z"
   },
   {
    "duration": 15,
    "start_time": "2022-01-16T12:44:51.482Z"
   },
   {
    "duration": 16,
    "start_time": "2022-01-16T12:44:51.500Z"
   },
   {
    "duration": 95,
    "start_time": "2022-01-16T12:44:51.518Z"
   },
   {
    "duration": 25,
    "start_time": "2022-01-16T12:44:51.616Z"
   },
   {
    "duration": 36,
    "start_time": "2022-01-16T12:44:51.643Z"
   },
   {
    "duration": 44,
    "start_time": "2022-01-16T12:44:51.681Z"
   },
   {
    "duration": 66,
    "start_time": "2022-01-16T12:44:51.728Z"
   },
   {
    "duration": 17,
    "start_time": "2022-01-16T12:44:51.796Z"
   },
   {
    "duration": 17,
    "start_time": "2022-01-16T12:44:51.816Z"
   },
   {
    "duration": 37,
    "start_time": "2022-01-16T12:44:51.835Z"
   },
   {
    "duration": 14,
    "start_time": "2022-01-16T12:44:51.875Z"
   },
   {
    "duration": 12,
    "start_time": "2022-01-16T12:44:51.891Z"
   },
   {
    "duration": 55,
    "start_time": "2022-01-16T12:44:51.905Z"
   },
   {
    "duration": 21,
    "start_time": "2022-01-16T12:44:51.963Z"
   },
   {
    "duration": 99,
    "start_time": "2022-01-16T12:44:51.987Z"
   },
   {
    "duration": 8,
    "start_time": "2022-01-16T12:44:52.088Z"
   },
   {
    "duration": 14,
    "start_time": "2022-01-16T12:44:52.098Z"
   },
   {
    "duration": 61,
    "start_time": "2022-01-16T12:44:52.114Z"
   },
   {
    "duration": 24,
    "start_time": "2022-01-16T12:44:52.177Z"
   },
   {
    "duration": 57,
    "start_time": "2022-01-16T12:44:52.204Z"
   },
   {
    "duration": 15,
    "start_time": "2022-01-16T12:44:52.264Z"
   },
   {
    "duration": 11,
    "start_time": "2022-01-16T12:44:52.283Z"
   },
   {
    "duration": 24,
    "start_time": "2022-01-16T12:44:52.296Z"
   },
   {
    "duration": 48,
    "start_time": "2022-01-16T12:44:52.323Z"
   },
   {
    "duration": 21,
    "start_time": "2022-01-16T12:44:52.373Z"
   },
   {
    "duration": 10,
    "start_time": "2022-01-16T12:44:52.397Z"
   },
   {
    "duration": 8,
    "start_time": "2022-01-16T12:44:52.410Z"
   },
   {
    "duration": 29,
    "start_time": "2022-01-16T12:44:52.461Z"
   },
   {
    "duration": 13,
    "start_time": "2022-01-16T12:44:52.492Z"
   },
   {
    "duration": 25,
    "start_time": "2022-01-16T12:44:52.508Z"
   },
   {
    "duration": 36,
    "start_time": "2022-01-16T12:44:52.535Z"
   },
   {
    "duration": 9,
    "start_time": "2022-01-16T12:44:52.574Z"
   },
   {
    "duration": 13,
    "start_time": "2022-01-16T12:44:52.587Z"
   },
   {
    "duration": 12,
    "start_time": "2022-01-16T12:44:52.603Z"
   },
   {
    "duration": 60,
    "start_time": "2022-01-16T12:44:52.618Z"
   },
   {
    "duration": 17,
    "start_time": "2022-01-16T12:44:52.681Z"
   },
   {
    "duration": 28,
    "start_time": "2022-01-16T12:44:52.701Z"
   },
   {
    "duration": 89,
    "start_time": "2022-01-16T12:44:52.732Z"
   },
   {
    "duration": 13,
    "start_time": "2022-01-16T12:44:52.824Z"
   },
   {
    "duration": 30,
    "start_time": "2022-01-16T12:44:52.839Z"
   },
   {
    "duration": 19,
    "start_time": "2022-01-16T12:44:52.872Z"
   },
   {
    "duration": 11,
    "start_time": "2022-01-16T12:44:52.894Z"
   },
   {
    "duration": 11,
    "start_time": "2022-01-16T12:44:52.908Z"
   },
   {
    "duration": 40,
    "start_time": "2022-01-16T12:44:52.922Z"
   },
   {
    "duration": 22,
    "start_time": "2022-01-16T12:44:52.965Z"
   },
   {
    "duration": 13,
    "start_time": "2022-01-16T12:44:52.990Z"
   },
   {
    "duration": 6,
    "start_time": "2022-01-16T12:44:53.005Z"
   },
   {
    "duration": 442,
    "start_time": "2022-01-16T12:44:53.014Z"
   },
   {
    "duration": 12,
    "start_time": "2022-01-16T12:44:53.460Z"
   },
   {
    "duration": 55,
    "start_time": "2022-01-16T12:44:53.476Z"
   },
   {
    "duration": 17,
    "start_time": "2022-01-16T12:44:53.533Z"
   },
   {
    "duration": 857,
    "start_time": "2022-01-16T12:44:53.552Z"
   },
   {
    "duration": 334,
    "start_time": "2022-01-16T12:44:54.413Z"
   },
   {
    "duration": 353,
    "start_time": "2022-01-16T12:44:54.755Z"
   },
   {
    "duration": 31,
    "start_time": "2022-01-16T12:46:51.044Z"
   },
   {
    "duration": 310,
    "start_time": "2022-01-16T12:47:34.098Z"
   },
   {
    "duration": 295,
    "start_time": "2022-01-16T12:47:35.844Z"
   },
   {
    "duration": 461,
    "start_time": "2022-01-16T12:51:17.689Z"
   },
   {
    "duration": 26,
    "start_time": "2022-01-16T12:51:26.051Z"
   },
   {
    "duration": 336,
    "start_time": "2022-01-16T12:52:03.751Z"
   },
   {
    "duration": 297,
    "start_time": "2022-01-16T12:52:06.331Z"
   },
   {
    "duration": 25,
    "start_time": "2022-01-16T12:58:10.091Z"
   },
   {
    "duration": 24,
    "start_time": "2022-01-16T12:58:53.624Z"
   },
   {
    "duration": 488,
    "start_time": "2022-01-16T13:00:42.363Z"
   },
   {
    "duration": 285,
    "start_time": "2022-01-16T13:00:45.955Z"
   },
   {
    "duration": 483,
    "start_time": "2022-01-16T13:01:34.637Z"
   },
   {
    "duration": 279,
    "start_time": "2022-01-16T13:01:36.151Z"
   },
   {
    "duration": 4,
    "start_time": "2022-01-16T13:03:24.690Z"
   },
   {
    "duration": 1444,
    "start_time": "2022-01-16T13:03:31.477Z"
   },
   {
    "duration": 4,
    "start_time": "2022-01-16T13:03:32.924Z"
   },
   {
    "duration": 530,
    "start_time": "2022-01-16T13:03:32.931Z"
   },
   {
    "duration": 5,
    "start_time": "2022-01-16T13:03:33.464Z"
   },
   {
    "duration": 10,
    "start_time": "2022-01-16T13:03:33.473Z"
   },
   {
    "duration": 22,
    "start_time": "2022-01-16T13:03:33.487Z"
   },
   {
    "duration": 64,
    "start_time": "2022-01-16T13:03:33.511Z"
   },
   {
    "duration": 9,
    "start_time": "2022-01-16T13:03:33.579Z"
   },
   {
    "duration": 13,
    "start_time": "2022-01-16T13:03:33.591Z"
   },
   {
    "duration": 24,
    "start_time": "2022-01-16T13:03:33.607Z"
   },
   {
    "duration": 13,
    "start_time": "2022-01-16T13:03:33.659Z"
   },
   {
    "duration": 6,
    "start_time": "2022-01-16T13:03:33.675Z"
   },
   {
    "duration": 32,
    "start_time": "2022-01-16T13:03:33.684Z"
   },
   {
    "duration": 58,
    "start_time": "2022-01-16T13:03:33.719Z"
   },
   {
    "duration": 36,
    "start_time": "2022-01-16T13:03:33.780Z"
   },
   {
    "duration": 67,
    "start_time": "2022-01-16T13:03:33.819Z"
   },
   {
    "duration": 20,
    "start_time": "2022-01-16T13:03:33.888Z"
   },
   {
    "duration": 51,
    "start_time": "2022-01-16T13:03:33.910Z"
   },
   {
    "duration": 9,
    "start_time": "2022-01-16T13:03:33.963Z"
   },
   {
    "duration": 24,
    "start_time": "2022-01-16T13:03:33.974Z"
   },
   {
    "duration": 18,
    "start_time": "2022-01-16T13:03:34.000Z"
   },
   {
    "duration": 151,
    "start_time": "2022-01-16T13:03:34.021Z"
   },
   {
    "duration": 18,
    "start_time": "2022-01-16T13:03:34.179Z"
   },
   {
    "duration": 15,
    "start_time": "2022-01-16T13:03:34.201Z"
   },
   {
    "duration": 52,
    "start_time": "2022-01-16T13:03:34.218Z"
   },
   {
    "duration": 24,
    "start_time": "2022-01-16T13:03:34.273Z"
   },
   {
    "duration": 17,
    "start_time": "2022-01-16T13:03:34.300Z"
   },
   {
    "duration": 50,
    "start_time": "2022-01-16T13:03:34.320Z"
   },
   {
    "duration": 88,
    "start_time": "2022-01-16T13:03:34.373Z"
   },
   {
    "duration": 38,
    "start_time": "2022-01-16T13:03:34.464Z"
   },
   {
    "duration": 25,
    "start_time": "2022-01-16T13:03:34.505Z"
   },
   {
    "duration": 53,
    "start_time": "2022-01-16T13:03:34.559Z"
   },
   {
    "duration": 66,
    "start_time": "2022-01-16T13:03:34.615Z"
   },
   {
    "duration": 27,
    "start_time": "2022-01-16T13:03:34.684Z"
   },
   {
    "duration": 45,
    "start_time": "2022-01-16T13:03:34.714Z"
   },
   {
    "duration": 18,
    "start_time": "2022-01-16T13:03:34.762Z"
   },
   {
    "duration": 19,
    "start_time": "2022-01-16T13:03:34.783Z"
   },
   {
    "duration": 10,
    "start_time": "2022-01-16T13:03:34.804Z"
   },
   {
    "duration": 49,
    "start_time": "2022-01-16T13:03:34.817Z"
   },
   {
    "duration": 16,
    "start_time": "2022-01-16T13:03:34.869Z"
   },
   {
    "duration": 85,
    "start_time": "2022-01-16T13:03:34.887Z"
   },
   {
    "duration": 10,
    "start_time": "2022-01-16T13:03:34.975Z"
   },
   {
    "duration": 11,
    "start_time": "2022-01-16T13:03:34.988Z"
   },
   {
    "duration": 65,
    "start_time": "2022-01-16T13:03:35.002Z"
   },
   {
    "duration": 26,
    "start_time": "2022-01-16T13:03:35.070Z"
   },
   {
    "duration": 37,
    "start_time": "2022-01-16T13:03:35.098Z"
   },
   {
    "duration": 32,
    "start_time": "2022-01-16T13:03:35.137Z"
   },
   {
    "duration": 11,
    "start_time": "2022-01-16T13:03:35.172Z"
   },
   {
    "duration": 28,
    "start_time": "2022-01-16T13:03:35.186Z"
   },
   {
    "duration": 57,
    "start_time": "2022-01-16T13:03:35.217Z"
   },
   {
    "duration": 36,
    "start_time": "2022-01-16T13:03:35.277Z"
   },
   {
    "duration": 14,
    "start_time": "2022-01-16T13:03:35.316Z"
   },
   {
    "duration": 8,
    "start_time": "2022-01-16T13:03:35.360Z"
   },
   {
    "duration": 26,
    "start_time": "2022-01-16T13:03:35.371Z"
   },
   {
    "duration": 14,
    "start_time": "2022-01-16T13:03:35.400Z"
   },
   {
    "duration": 62,
    "start_time": "2022-01-16T13:03:35.416Z"
   },
   {
    "duration": 10,
    "start_time": "2022-01-16T13:03:35.480Z"
   },
   {
    "duration": 11,
    "start_time": "2022-01-16T13:03:35.493Z"
   },
   {
    "duration": 13,
    "start_time": "2022-01-16T13:03:35.506Z"
   },
   {
    "duration": 45,
    "start_time": "2022-01-16T13:03:35.521Z"
   },
   {
    "duration": 12,
    "start_time": "2022-01-16T13:03:35.569Z"
   },
   {
    "duration": 12,
    "start_time": "2022-01-16T13:03:35.584Z"
   },
   {
    "duration": 28,
    "start_time": "2022-01-16T13:03:35.598Z"
   },
   {
    "duration": 69,
    "start_time": "2022-01-16T13:03:35.660Z"
   },
   {
    "duration": 37,
    "start_time": "2022-01-16T13:03:35.732Z"
   },
   {
    "duration": 11,
    "start_time": "2022-01-16T13:03:35.772Z"
   },
   {
    "duration": 10,
    "start_time": "2022-01-16T13:03:35.786Z"
   },
   {
    "duration": 56,
    "start_time": "2022-01-16T13:03:35.805Z"
   },
   {
    "duration": 14,
    "start_time": "2022-01-16T13:03:35.865Z"
   },
   {
    "duration": 6,
    "start_time": "2022-01-16T13:03:35.882Z"
   },
   {
    "duration": 16,
    "start_time": "2022-01-16T13:03:35.890Z"
   },
   {
    "duration": 54,
    "start_time": "2022-01-16T13:03:35.908Z"
   },
   {
    "duration": 5,
    "start_time": "2022-01-16T13:03:35.965Z"
   },
   {
    "duration": 396,
    "start_time": "2022-01-16T13:03:35.972Z"
   },
   {
    "duration": 11,
    "start_time": "2022-01-16T13:03:36.370Z"
   },
   {
    "duration": 28,
    "start_time": "2022-01-16T13:03:36.384Z"
   },
   {
    "duration": 10,
    "start_time": "2022-01-16T13:03:36.416Z"
   },
   {
    "duration": 701,
    "start_time": "2022-01-16T13:03:36.428Z"
   },
   {
    "duration": 530,
    "start_time": "2022-01-16T13:03:37.133Z"
   },
   {
    "duration": 608,
    "start_time": "2022-01-16T13:03:37.666Z"
   },
   {
    "duration": 29,
    "start_time": "2022-01-16T13:03:38.276Z"
   },
   {
    "duration": 337,
    "start_time": "2022-01-16T13:03:38.308Z"
   },
   {
    "duration": 299,
    "start_time": "2022-01-16T13:03:38.647Z"
   },
   {
    "duration": 28,
    "start_time": "2022-01-16T13:03:38.948Z"
   },
   {
    "duration": 333,
    "start_time": "2022-01-16T13:03:38.979Z"
   },
   {
    "duration": 313,
    "start_time": "2022-01-16T13:03:39.315Z"
   },
   {
    "duration": 36,
    "start_time": "2022-01-16T13:03:39.632Z"
   },
   {
    "duration": 26,
    "start_time": "2022-01-16T13:03:39.671Z"
   },
   {
    "duration": 404,
    "start_time": "2022-01-16T13:03:39.700Z"
   },
   {
    "duration": 400,
    "start_time": "2022-01-16T13:03:40.107Z"
   },
   {
    "duration": 419,
    "start_time": "2022-01-16T13:03:40.509Z"
   },
   {
    "duration": 472,
    "start_time": "2022-01-16T13:03:40.931Z"
   },
   {
    "duration": 295,
    "start_time": "2022-01-16T13:03:48.898Z"
   },
   {
    "duration": 278,
    "start_time": "2022-01-16T13:03:54.602Z"
   },
   {
    "duration": 4,
    "start_time": "2022-01-16T13:07:08.376Z"
   },
   {
    "duration": 316,
    "start_time": "2022-01-16T13:07:17.464Z"
   },
   {
    "duration": 303,
    "start_time": "2022-01-16T13:07:24.087Z"
   },
   {
    "duration": 300,
    "start_time": "2022-01-16T13:07:31.227Z"
   },
   {
    "duration": 4,
    "start_time": "2022-01-16T13:07:42.781Z"
   },
   {
    "duration": 1511,
    "start_time": "2022-01-16T13:07:50.439Z"
   },
   {
    "duration": 3,
    "start_time": "2022-01-16T13:07:51.953Z"
   },
   {
    "duration": 550,
    "start_time": "2022-01-16T13:07:51.960Z"
   },
   {
    "duration": 3,
    "start_time": "2022-01-16T13:07:52.513Z"
   },
   {
    "duration": 29,
    "start_time": "2022-01-16T13:07:52.518Z"
   },
   {
    "duration": 28,
    "start_time": "2022-01-16T13:07:52.549Z"
   },
   {
    "duration": 24,
    "start_time": "2022-01-16T13:07:52.579Z"
   },
   {
    "duration": 14,
    "start_time": "2022-01-16T13:07:52.607Z"
   },
   {
    "duration": 36,
    "start_time": "2022-01-16T13:07:52.624Z"
   },
   {
    "duration": 18,
    "start_time": "2022-01-16T13:07:52.662Z"
   },
   {
    "duration": 8,
    "start_time": "2022-01-16T13:07:52.683Z"
   },
   {
    "duration": 5,
    "start_time": "2022-01-16T13:07:52.693Z"
   },
   {
    "duration": 59,
    "start_time": "2022-01-16T13:07:52.700Z"
   },
   {
    "duration": 18,
    "start_time": "2022-01-16T13:07:52.762Z"
   },
   {
    "duration": 38,
    "start_time": "2022-01-16T13:07:52.782Z"
   },
   {
    "duration": 71,
    "start_time": "2022-01-16T13:07:52.822Z"
   },
   {
    "duration": 19,
    "start_time": "2022-01-16T13:07:52.896Z"
   },
   {
    "duration": 43,
    "start_time": "2022-01-16T13:07:52.918Z"
   },
   {
    "duration": 7,
    "start_time": "2022-01-16T13:07:52.963Z"
   },
   {
    "duration": 25,
    "start_time": "2022-01-16T13:07:52.973Z"
   },
   {
    "duration": 18,
    "start_time": "2022-01-16T13:07:53.000Z"
   },
   {
    "duration": 155,
    "start_time": "2022-01-16T13:07:53.020Z"
   },
   {
    "duration": 20,
    "start_time": "2022-01-16T13:07:53.181Z"
   },
   {
    "duration": 15,
    "start_time": "2022-01-16T13:07:53.205Z"
   },
   {
    "duration": 47,
    "start_time": "2022-01-16T13:07:53.222Z"
   },
   {
    "duration": 26,
    "start_time": "2022-01-16T13:07:53.271Z"
   },
   {
    "duration": 14,
    "start_time": "2022-01-16T13:07:53.299Z"
   },
   {
    "duration": 45,
    "start_time": "2022-01-16T13:07:53.316Z"
   },
   {
    "duration": 56,
    "start_time": "2022-01-16T13:07:53.364Z"
   },
   {
    "duration": 44,
    "start_time": "2022-01-16T13:07:53.422Z"
   },
   {
    "duration": 17,
    "start_time": "2022-01-16T13:07:53.468Z"
   },
   {
    "duration": 36,
    "start_time": "2022-01-16T13:07:53.487Z"
   },
   {
    "duration": 53,
    "start_time": "2022-01-16T13:07:53.526Z"
   },
   {
    "duration": 17,
    "start_time": "2022-01-16T13:07:53.582Z"
   },
   {
    "duration": 17,
    "start_time": "2022-01-16T13:07:53.601Z"
   },
   {
    "duration": 46,
    "start_time": "2022-01-16T13:07:53.621Z"
   },
   {
    "duration": 12,
    "start_time": "2022-01-16T13:07:53.670Z"
   },
   {
    "duration": 11,
    "start_time": "2022-01-16T13:07:53.685Z"
   },
   {
    "duration": 19,
    "start_time": "2022-01-16T13:07:53.699Z"
   },
   {
    "duration": 55,
    "start_time": "2022-01-16T13:07:53.720Z"
   },
   {
    "duration": 62,
    "start_time": "2022-01-16T13:07:53.777Z"
   },
   {
    "duration": 25,
    "start_time": "2022-01-16T13:07:53.841Z"
   },
   {
    "duration": 14,
    "start_time": "2022-01-16T13:07:53.868Z"
   },
   {
    "duration": 36,
    "start_time": "2022-01-16T13:07:53.884Z"
   },
   {
    "duration": 50,
    "start_time": "2022-01-16T13:07:53.923Z"
   },
   {
    "duration": 36,
    "start_time": "2022-01-16T13:07:53.976Z"
   },
   {
    "duration": 12,
    "start_time": "2022-01-16T13:07:54.015Z"
   },
   {
    "duration": 38,
    "start_time": "2022-01-16T13:07:54.029Z"
   },
   {
    "duration": 25,
    "start_time": "2022-01-16T13:07:54.069Z"
   },
   {
    "duration": 19,
    "start_time": "2022-01-16T13:07:54.097Z"
   },
   {
    "duration": 55,
    "start_time": "2022-01-16T13:07:54.119Z"
   },
   {
    "duration": 11,
    "start_time": "2022-01-16T13:07:54.176Z"
   },
   {
    "duration": 9,
    "start_time": "2022-01-16T13:07:54.189Z"
   },
   {
    "duration": 26,
    "start_time": "2022-01-16T13:07:54.201Z"
   },
   {
    "duration": 14,
    "start_time": "2022-01-16T13:07:54.259Z"
   },
   {
    "duration": 25,
    "start_time": "2022-01-16T13:07:54.276Z"
   },
   {
    "duration": 12,
    "start_time": "2022-01-16T13:07:54.304Z"
   },
   {
    "duration": 48,
    "start_time": "2022-01-16T13:07:54.318Z"
   },
   {
    "duration": 11,
    "start_time": "2022-01-16T13:07:54.368Z"
   },
   {
    "duration": 12,
    "start_time": "2022-01-16T13:07:54.381Z"
   },
   {
    "duration": 11,
    "start_time": "2022-01-16T13:07:54.396Z"
   },
   {
    "duration": 52,
    "start_time": "2022-01-16T13:07:54.410Z"
   },
   {
    "duration": 27,
    "start_time": "2022-01-16T13:07:54.465Z"
   },
   {
    "duration": 86,
    "start_time": "2022-01-16T13:07:54.495Z"
   },
   {
    "duration": 11,
    "start_time": "2022-01-16T13:07:54.583Z"
   },
   {
    "duration": 10,
    "start_time": "2022-01-16T13:07:54.596Z"
   },
   {
    "duration": 7,
    "start_time": "2022-01-16T13:07:54.609Z"
   },
   {
    "duration": 41,
    "start_time": "2022-01-16T13:07:54.624Z"
   },
   {
    "duration": 14,
    "start_time": "2022-01-16T13:07:54.669Z"
   },
   {
    "duration": 10,
    "start_time": "2022-01-16T13:07:54.685Z"
   },
   {
    "duration": 18,
    "start_time": "2022-01-16T13:07:54.698Z"
   },
   {
    "duration": 43,
    "start_time": "2022-01-16T13:07:54.718Z"
   },
   {
    "duration": 6,
    "start_time": "2022-01-16T13:07:54.763Z"
   },
   {
    "duration": 368,
    "start_time": "2022-01-16T13:07:54.771Z"
   },
   {
    "duration": 17,
    "start_time": "2022-01-16T13:07:55.142Z"
   },
   {
    "duration": 28,
    "start_time": "2022-01-16T13:07:55.161Z"
   },
   {
    "duration": 9,
    "start_time": "2022-01-16T13:07:55.192Z"
   },
   {
    "duration": 673,
    "start_time": "2022-01-16T13:07:55.204Z"
   },
   {
    "duration": 348,
    "start_time": "2022-01-16T13:07:55.880Z"
   },
   {
    "duration": 313,
    "start_time": "2022-01-16T13:07:56.231Z"
   },
   {
    "duration": 36,
    "start_time": "2022-01-16T13:07:56.547Z"
   },
   {
    "duration": 332,
    "start_time": "2022-01-16T13:07:56.585Z"
   },
   {
    "duration": 305,
    "start_time": "2022-01-16T13:07:56.920Z"
   },
   {
    "duration": 43,
    "start_time": "2022-01-16T13:07:57.229Z"
   },
   {
    "duration": 315,
    "start_time": "2022-01-16T13:07:57.275Z"
   },
   {
    "duration": 314,
    "start_time": "2022-01-16T13:07:57.594Z"
   },
   {
    "duration": 24,
    "start_time": "2022-01-16T13:07:57.910Z"
   },
   {
    "duration": 44,
    "start_time": "2022-01-16T13:07:57.936Z"
   },
   {
    "duration": 393,
    "start_time": "2022-01-16T13:07:57.982Z"
   },
   {
    "duration": 295,
    "start_time": "2022-01-16T13:07:58.378Z"
   },
   {
    "duration": 316,
    "start_time": "2022-01-16T13:07:58.676Z"
   },
   {
    "duration": 306,
    "start_time": "2022-01-16T13:07:58.995Z"
   },
   {
    "duration": 270,
    "start_time": "2022-01-16T13:11:11.309Z"
   },
   {
    "duration": 284,
    "start_time": "2022-01-16T13:11:29.549Z"
   },
   {
    "duration": 287,
    "start_time": "2022-01-16T13:12:17.659Z"
   },
   {
    "duration": 1333,
    "start_time": "2022-01-17T15:38:20.900Z"
   },
   {
    "duration": 4,
    "start_time": "2022-01-17T15:38:22.235Z"
   },
   {
    "duration": 553,
    "start_time": "2022-01-17T15:38:22.242Z"
   },
   {
    "duration": 4,
    "start_time": "2022-01-17T15:38:22.797Z"
   },
   {
    "duration": 19,
    "start_time": "2022-01-17T15:38:22.804Z"
   },
   {
    "duration": 50,
    "start_time": "2022-01-17T15:38:22.825Z"
   },
   {
    "duration": 59,
    "start_time": "2022-01-17T15:38:22.878Z"
   },
   {
    "duration": 12,
    "start_time": "2022-01-17T15:38:22.942Z"
   },
   {
    "duration": 14,
    "start_time": "2022-01-17T15:38:22.958Z"
   },
   {
    "duration": 18,
    "start_time": "2022-01-17T15:38:22.975Z"
   },
   {
    "duration": 18,
    "start_time": "2022-01-17T15:38:22.996Z"
   },
   {
    "duration": 15,
    "start_time": "2022-01-17T15:38:23.016Z"
   },
   {
    "duration": 47,
    "start_time": "2022-01-17T15:38:23.033Z"
   },
   {
    "duration": 22,
    "start_time": "2022-01-17T15:38:23.083Z"
   },
   {
    "duration": 71,
    "start_time": "2022-01-17T15:38:23.108Z"
   },
   {
    "duration": 45,
    "start_time": "2022-01-17T15:38:23.182Z"
   },
   {
    "duration": 36,
    "start_time": "2022-01-17T15:38:23.229Z"
   },
   {
    "duration": 20,
    "start_time": "2022-01-17T15:38:23.267Z"
   },
   {
    "duration": 12,
    "start_time": "2022-01-17T15:38:23.290Z"
   },
   {
    "duration": 31,
    "start_time": "2022-01-17T15:38:23.304Z"
   },
   {
    "duration": 18,
    "start_time": "2022-01-17T15:38:23.363Z"
   },
   {
    "duration": 137,
    "start_time": "2022-01-17T15:38:23.384Z"
   },
   {
    "duration": 19,
    "start_time": "2022-01-17T15:38:23.528Z"
   },
   {
    "duration": 15,
    "start_time": "2022-01-17T15:38:23.564Z"
   },
   {
    "duration": 29,
    "start_time": "2022-01-17T15:38:23.582Z"
   },
   {
    "duration": 25,
    "start_time": "2022-01-17T15:38:23.614Z"
   },
   {
    "duration": 33,
    "start_time": "2022-01-17T15:38:23.641Z"
   },
   {
    "duration": 15,
    "start_time": "2022-01-17T15:38:23.677Z"
   },
   {
    "duration": 81,
    "start_time": "2022-01-17T15:38:23.695Z"
   },
   {
    "duration": 23,
    "start_time": "2022-01-17T15:38:23.778Z"
   },
   {
    "duration": 19,
    "start_time": "2022-01-17T15:38:23.804Z"
   },
   {
    "duration": 70,
    "start_time": "2022-01-17T15:38:23.825Z"
   },
   {
    "duration": 30,
    "start_time": "2022-01-17T15:38:23.898Z"
   },
   {
    "duration": 40,
    "start_time": "2022-01-17T15:38:23.930Z"
   },
   {
    "duration": 18,
    "start_time": "2022-01-17T15:38:23.973Z"
   },
   {
    "duration": 27,
    "start_time": "2022-01-17T15:38:23.994Z"
   },
   {
    "duration": 18,
    "start_time": "2022-01-17T15:38:24.024Z"
   },
   {
    "duration": 10,
    "start_time": "2022-01-17T15:38:24.065Z"
   },
   {
    "duration": 20,
    "start_time": "2022-01-17T15:38:24.078Z"
   },
   {
    "duration": 19,
    "start_time": "2022-01-17T15:38:24.101Z"
   },
   {
    "duration": 99,
    "start_time": "2022-01-17T15:38:24.122Z"
   },
   {
    "duration": 9,
    "start_time": "2022-01-17T15:38:24.223Z"
   },
   {
    "duration": 31,
    "start_time": "2022-01-17T15:38:24.235Z"
   },
   {
    "duration": 37,
    "start_time": "2022-01-17T15:38:24.268Z"
   },
   {
    "duration": 27,
    "start_time": "2022-01-17T15:38:24.307Z"
   },
   {
    "duration": 60,
    "start_time": "2022-01-17T15:38:24.336Z"
   },
   {
    "duration": 11,
    "start_time": "2022-01-17T15:38:24.398Z"
   },
   {
    "duration": 11,
    "start_time": "2022-01-17T15:38:24.411Z"
   },
   {
    "duration": 52,
    "start_time": "2022-01-17T15:38:24.425Z"
   },
   {
    "duration": 19,
    "start_time": "2022-01-17T15:38:24.479Z"
   },
   {
    "duration": 24,
    "start_time": "2022-01-17T15:38:24.501Z"
   },
   {
    "duration": 36,
    "start_time": "2022-01-17T15:38:24.527Z"
   },
   {
    "duration": 9,
    "start_time": "2022-01-17T15:38:24.566Z"
   },
   {
    "duration": 28,
    "start_time": "2022-01-17T15:38:24.577Z"
   },
   {
    "duration": 13,
    "start_time": "2022-01-17T15:38:24.607Z"
   },
   {
    "duration": 60,
    "start_time": "2022-01-17T15:38:24.623Z"
   },
   {
    "duration": 11,
    "start_time": "2022-01-17T15:38:24.686Z"
   },
   {
    "duration": 12,
    "start_time": "2022-01-17T15:38:24.700Z"
   },
   {
    "duration": 50,
    "start_time": "2022-01-17T15:38:24.715Z"
   },
   {
    "duration": 25,
    "start_time": "2022-01-17T15:38:24.768Z"
   },
   {
    "duration": 13,
    "start_time": "2022-01-17T15:38:24.796Z"
   },
   {
    "duration": 13,
    "start_time": "2022-01-17T15:38:24.811Z"
   },
   {
    "duration": 56,
    "start_time": "2022-01-17T15:38:24.827Z"
   },
   {
    "duration": 90,
    "start_time": "2022-01-17T15:38:24.886Z"
   },
   {
    "duration": 13,
    "start_time": "2022-01-17T15:38:24.978Z"
   },
   {
    "duration": 8,
    "start_time": "2022-01-17T15:38:24.993Z"
   },
   {
    "duration": 8,
    "start_time": "2022-01-17T15:38:25.004Z"
   },
   {
    "duration": 46,
    "start_time": "2022-01-17T15:38:25.023Z"
   },
   {
    "duration": 12,
    "start_time": "2022-01-17T15:38:25.073Z"
   },
   {
    "duration": 8,
    "start_time": "2022-01-17T15:38:25.087Z"
   },
   {
    "duration": 19,
    "start_time": "2022-01-17T15:38:25.097Z"
   },
   {
    "duration": 51,
    "start_time": "2022-01-17T15:38:25.118Z"
   },
   {
    "duration": 5,
    "start_time": "2022-01-17T15:38:25.172Z"
   },
   {
    "duration": 382,
    "start_time": "2022-01-17T15:38:25.180Z"
   },
   {
    "duration": 11,
    "start_time": "2022-01-17T15:38:25.565Z"
   },
   {
    "duration": 29,
    "start_time": "2022-01-17T15:38:25.578Z"
   },
   {
    "duration": 9,
    "start_time": "2022-01-17T15:38:25.609Z"
   },
   {
    "duration": 663,
    "start_time": "2022-01-17T15:38:25.621Z"
   },
   {
    "duration": 357,
    "start_time": "2022-01-17T15:38:26.287Z"
   },
   {
    "duration": 325,
    "start_time": "2022-01-17T15:38:26.647Z"
   },
   {
    "duration": 30,
    "start_time": "2022-01-17T15:38:26.974Z"
   },
   {
    "duration": 429,
    "start_time": "2022-01-17T15:38:27.007Z"
   },
   {
    "duration": 309,
    "start_time": "2022-01-17T15:38:27.439Z"
   },
   {
    "duration": 32,
    "start_time": "2022-01-17T15:38:27.750Z"
   },
   {
    "duration": 328,
    "start_time": "2022-01-17T15:38:27.785Z"
   },
   {
    "duration": 313,
    "start_time": "2022-01-17T15:38:28.115Z"
   },
   {
    "duration": 37,
    "start_time": "2022-01-17T15:38:28.430Z"
   },
   {
    "duration": 24,
    "start_time": "2022-01-17T15:38:28.469Z"
   },
   {
    "duration": 403,
    "start_time": "2022-01-17T15:38:28.495Z"
   },
   {
    "duration": 404,
    "start_time": "2022-01-17T15:38:28.900Z"
   },
   {
    "duration": 320,
    "start_time": "2022-01-17T15:38:29.307Z"
   },
   {
    "duration": 324,
    "start_time": "2022-01-17T15:38:29.630Z"
   },
   {
    "duration": 303,
    "start_time": "2022-01-17T15:38:42.737Z"
   },
   {
    "duration": 303,
    "start_time": "2022-01-17T15:43:58.721Z"
   },
   {
    "duration": 1398,
    "start_time": "2022-01-17T15:44:33.226Z"
   },
   {
    "duration": 4,
    "start_time": "2022-01-17T15:44:34.626Z"
   },
   {
    "duration": 547,
    "start_time": "2022-01-17T15:44:34.633Z"
   },
   {
    "duration": 4,
    "start_time": "2022-01-17T15:44:35.182Z"
   },
   {
    "duration": 14,
    "start_time": "2022-01-17T15:44:35.189Z"
   },
   {
    "duration": 22,
    "start_time": "2022-01-17T15:44:35.206Z"
   },
   {
    "duration": 34,
    "start_time": "2022-01-17T15:44:35.230Z"
   },
   {
    "duration": 9,
    "start_time": "2022-01-17T15:44:35.268Z"
   },
   {
    "duration": 12,
    "start_time": "2022-01-17T15:44:35.280Z"
   },
   {
    "duration": 18,
    "start_time": "2022-01-17T15:44:35.295Z"
   },
   {
    "duration": 47,
    "start_time": "2022-01-17T15:44:35.316Z"
   },
   {
    "duration": 7,
    "start_time": "2022-01-17T15:44:35.366Z"
   },
   {
    "duration": 29,
    "start_time": "2022-01-17T15:44:35.377Z"
   },
   {
    "duration": 17,
    "start_time": "2022-01-17T15:44:35.409Z"
   },
   {
    "duration": 39,
    "start_time": "2022-01-17T15:44:35.464Z"
   },
   {
    "duration": 63,
    "start_time": "2022-01-17T15:44:35.505Z"
   },
   {
    "duration": 20,
    "start_time": "2022-01-17T15:44:35.571Z"
   },
   {
    "duration": 18,
    "start_time": "2022-01-17T15:44:35.593Z"
   },
   {
    "duration": 8,
    "start_time": "2022-01-17T15:44:35.613Z"
   },
   {
    "duration": 55,
    "start_time": "2022-01-17T15:44:35.624Z"
   },
   {
    "duration": 18,
    "start_time": "2022-01-17T15:44:35.682Z"
   },
   {
    "duration": 136,
    "start_time": "2022-01-17T15:44:35.702Z"
   },
   {
    "duration": 27,
    "start_time": "2022-01-17T15:44:35.844Z"
   },
   {
    "duration": 15,
    "start_time": "2022-01-17T15:44:35.875Z"
   },
   {
    "duration": 20,
    "start_time": "2022-01-17T15:44:35.893Z"
   },
   {
    "duration": 57,
    "start_time": "2022-01-17T15:44:35.916Z"
   },
   {
    "duration": 14,
    "start_time": "2022-01-17T15:44:35.975Z"
   },
   {
    "duration": 15,
    "start_time": "2022-01-17T15:44:35.992Z"
   },
   {
    "duration": 83,
    "start_time": "2022-01-17T15:44:36.009Z"
   },
   {
    "duration": 23,
    "start_time": "2022-01-17T15:44:36.094Z"
   },
   {
    "duration": 20,
    "start_time": "2022-01-17T15:44:36.120Z"
   },
   {
    "duration": 37,
    "start_time": "2022-01-17T15:44:36.163Z"
   },
   {
    "duration": 33,
    "start_time": "2022-01-17T15:44:36.203Z"
   },
   {
    "duration": 33,
    "start_time": "2022-01-17T15:44:36.239Z"
   },
   {
    "duration": 17,
    "start_time": "2022-01-17T15:44:36.275Z"
   },
   {
    "duration": 13,
    "start_time": "2022-01-17T15:44:36.295Z"
   },
   {
    "duration": 13,
    "start_time": "2022-01-17T15:44:36.310Z"
   },
   {
    "duration": 10,
    "start_time": "2022-01-17T15:44:36.363Z"
   },
   {
    "duration": 20,
    "start_time": "2022-01-17T15:44:36.375Z"
   },
   {
    "duration": 17,
    "start_time": "2022-01-17T15:44:36.397Z"
   },
   {
    "duration": 96,
    "start_time": "2022-01-17T15:44:36.416Z"
   },
   {
    "duration": 9,
    "start_time": "2022-01-17T15:44:36.514Z"
   },
   {
    "duration": 14,
    "start_time": "2022-01-17T15:44:36.526Z"
   },
   {
    "duration": 32,
    "start_time": "2022-01-17T15:44:36.562Z"
   },
   {
    "duration": 26,
    "start_time": "2022-01-17T15:44:36.597Z"
   },
   {
    "duration": 64,
    "start_time": "2022-01-17T15:44:36.625Z"
   },
   {
    "duration": 12,
    "start_time": "2022-01-17T15:44:36.691Z"
   },
   {
    "duration": 11,
    "start_time": "2022-01-17T15:44:36.706Z"
   },
   {
    "duration": 43,
    "start_time": "2022-01-17T15:44:36.720Z"
   },
   {
    "duration": 20,
    "start_time": "2022-01-17T15:44:36.765Z"
   },
   {
    "duration": 23,
    "start_time": "2022-01-17T15:44:36.788Z"
   },
   {
    "duration": 12,
    "start_time": "2022-01-17T15:44:36.814Z"
   },
   {
    "duration": 9,
    "start_time": "2022-01-17T15:44:36.864Z"
   },
   {
    "duration": 25,
    "start_time": "2022-01-17T15:44:36.875Z"
   },
   {
    "duration": 13,
    "start_time": "2022-01-17T15:44:36.902Z"
   },
   {
    "duration": 56,
    "start_time": "2022-01-17T15:44:36.917Z"
   },
   {
    "duration": 10,
    "start_time": "2022-01-17T15:44:36.975Z"
   },
   {
    "duration": 10,
    "start_time": "2022-01-17T15:44:36.987Z"
   },
   {
    "duration": 11,
    "start_time": "2022-01-17T15:44:36.999Z"
   },
   {
    "duration": 12,
    "start_time": "2022-01-17T15:44:37.012Z"
   },
   {
    "duration": 46,
    "start_time": "2022-01-17T15:44:37.026Z"
   },
   {
    "duration": 12,
    "start_time": "2022-01-17T15:44:37.075Z"
   },
   {
    "duration": 32,
    "start_time": "2022-01-17T15:44:37.089Z"
   },
   {
    "duration": 98,
    "start_time": "2022-01-17T15:44:37.123Z"
   },
   {
    "duration": 12,
    "start_time": "2022-01-17T15:44:37.224Z"
   },
   {
    "duration": 26,
    "start_time": "2022-01-17T15:44:37.238Z"
   },
   {
    "duration": 9,
    "start_time": "2022-01-17T15:44:37.267Z"
   },
   {
    "duration": 8,
    "start_time": "2022-01-17T15:44:37.284Z"
   },
   {
    "duration": 13,
    "start_time": "2022-01-17T15:44:37.295Z"
   },
   {
    "duration": 55,
    "start_time": "2022-01-17T15:44:37.310Z"
   },
   {
    "duration": 16,
    "start_time": "2022-01-17T15:44:37.368Z"
   },
   {
    "duration": 14,
    "start_time": "2022-01-17T15:44:37.387Z"
   },
   {
    "duration": 6,
    "start_time": "2022-01-17T15:44:37.403Z"
   },
   {
    "duration": 396,
    "start_time": "2022-01-17T15:44:37.411Z"
   },
   {
    "duration": 11,
    "start_time": "2022-01-17T15:44:37.810Z"
   },
   {
    "duration": 41,
    "start_time": "2022-01-17T15:44:37.824Z"
   },
   {
    "duration": 8,
    "start_time": "2022-01-17T15:44:37.868Z"
   },
   {
    "duration": 666,
    "start_time": "2022-01-17T15:44:37.877Z"
   },
   {
    "duration": 334,
    "start_time": "2022-01-17T15:44:38.546Z"
   },
   {
    "duration": 424,
    "start_time": "2022-01-17T15:44:38.883Z"
   },
   {
    "duration": 55,
    "start_time": "2022-01-17T15:44:39.311Z"
   },
   {
    "duration": 328,
    "start_time": "2022-01-17T15:44:39.369Z"
   },
   {
    "duration": 404,
    "start_time": "2022-01-17T15:44:39.699Z"
   },
   {
    "duration": 24,
    "start_time": "2022-01-17T15:44:40.106Z"
   },
   {
    "duration": 384,
    "start_time": "2022-01-17T15:44:40.133Z"
   },
   {
    "duration": 321,
    "start_time": "2022-01-17T15:44:40.519Z"
   },
   {
    "duration": 37,
    "start_time": "2022-01-17T15:44:40.844Z"
   },
   {
    "duration": 23,
    "start_time": "2022-01-17T15:44:40.884Z"
   },
   {
    "duration": 411,
    "start_time": "2022-01-17T15:44:40.910Z"
   },
   {
    "duration": 308,
    "start_time": "2022-01-17T15:44:41.323Z"
   },
   {
    "duration": 334,
    "start_time": "2022-01-17T15:44:41.634Z"
   },
   {
    "duration": 302,
    "start_time": "2022-01-17T15:44:41.970Z"
   },
   {
    "duration": 632,
    "start_time": "2022-01-17T15:50:51.134Z"
   },
   {
    "duration": 291,
    "start_time": "2022-01-17T15:50:57.005Z"
   },
   {
    "duration": 1443,
    "start_time": "2022-01-17T15:51:39.720Z"
   },
   {
    "duration": 4,
    "start_time": "2022-01-17T15:51:41.165Z"
   },
   {
    "duration": 544,
    "start_time": "2022-01-17T15:51:41.171Z"
   },
   {
    "duration": 5,
    "start_time": "2022-01-17T15:51:41.718Z"
   },
   {
    "duration": 14,
    "start_time": "2022-01-17T15:51:41.726Z"
   },
   {
    "duration": 37,
    "start_time": "2022-01-17T15:51:41.743Z"
   },
   {
    "duration": 25,
    "start_time": "2022-01-17T15:51:41.783Z"
   },
   {
    "duration": 15,
    "start_time": "2022-01-17T15:51:41.813Z"
   },
   {
    "duration": 37,
    "start_time": "2022-01-17T15:51:41.831Z"
   },
   {
    "duration": 22,
    "start_time": "2022-01-17T15:51:41.870Z"
   },
   {
    "duration": 9,
    "start_time": "2022-01-17T15:51:41.894Z"
   },
   {
    "duration": 4,
    "start_time": "2022-01-17T15:51:41.905Z"
   },
   {
    "duration": 67,
    "start_time": "2022-01-17T15:51:41.913Z"
   },
   {
    "duration": 18,
    "start_time": "2022-01-17T15:51:41.983Z"
   },
   {
    "duration": 61,
    "start_time": "2022-01-17T15:51:42.004Z"
   },
   {
    "duration": 46,
    "start_time": "2022-01-17T15:51:42.068Z"
   },
   {
    "duration": 20,
    "start_time": "2022-01-17T15:51:42.116Z"
   },
   {
    "duration": 40,
    "start_time": "2022-01-17T15:51:42.138Z"
   },
   {
    "duration": 8,
    "start_time": "2022-01-17T15:51:42.182Z"
   },
   {
    "duration": 73,
    "start_time": "2022-01-17T15:51:42.194Z"
   },
   {
    "duration": 21,
    "start_time": "2022-01-17T15:51:42.270Z"
   },
   {
    "duration": 140,
    "start_time": "2022-01-17T15:51:42.294Z"
   },
   {
    "duration": 35,
    "start_time": "2022-01-17T15:51:42.442Z"
   },
   {
    "duration": 15,
    "start_time": "2022-01-17T15:51:42.481Z"
   },
   {
    "duration": 19,
    "start_time": "2022-01-17T15:51:42.499Z"
   },
   {
    "duration": 55,
    "start_time": "2022-01-17T15:51:42.520Z"
   },
   {
    "duration": 16,
    "start_time": "2022-01-17T15:51:42.577Z"
   },
   {
    "duration": 16,
    "start_time": "2022-01-17T15:51:42.596Z"
   },
   {
    "duration": 84,
    "start_time": "2022-01-17T15:51:42.614Z"
   },
   {
    "duration": 22,
    "start_time": "2022-01-17T15:51:42.700Z"
   },
   {
    "duration": 39,
    "start_time": "2022-01-17T15:51:42.725Z"
   },
   {
    "duration": 37,
    "start_time": "2022-01-17T15:51:42.766Z"
   },
   {
    "duration": 31,
    "start_time": "2022-01-17T15:51:42.805Z"
   },
   {
    "duration": 39,
    "start_time": "2022-01-17T15:51:42.838Z"
   },
   {
    "duration": 17,
    "start_time": "2022-01-17T15:51:42.879Z"
   },
   {
    "duration": 12,
    "start_time": "2022-01-17T15:51:42.898Z"
   },
   {
    "duration": 52,
    "start_time": "2022-01-17T15:51:42.912Z"
   },
   {
    "duration": 10,
    "start_time": "2022-01-17T15:51:42.966Z"
   },
   {
    "duration": 20,
    "start_time": "2022-01-17T15:51:42.978Z"
   },
   {
    "duration": 16,
    "start_time": "2022-01-17T15:51:43.000Z"
   },
   {
    "duration": 91,
    "start_time": "2022-01-17T15:51:43.019Z"
   },
   {
    "duration": 9,
    "start_time": "2022-01-17T15:51:43.114Z"
   },
   {
    "duration": 12,
    "start_time": "2022-01-17T15:51:43.126Z"
   },
   {
    "duration": 33,
    "start_time": "2022-01-17T15:51:43.162Z"
   },
   {
    "duration": 25,
    "start_time": "2022-01-17T15:51:43.197Z"
   },
   {
    "duration": 61,
    "start_time": "2022-01-17T15:51:43.224Z"
   },
   {
    "duration": 11,
    "start_time": "2022-01-17T15:51:43.287Z"
   },
   {
    "duration": 10,
    "start_time": "2022-01-17T15:51:43.300Z"
   },
   {
    "duration": 50,
    "start_time": "2022-01-17T15:51:43.313Z"
   },
   {
    "duration": 19,
    "start_time": "2022-01-17T15:51:43.365Z"
   },
   {
    "duration": 23,
    "start_time": "2022-01-17T15:51:43.387Z"
   },
   {
    "duration": 9,
    "start_time": "2022-01-17T15:51:43.413Z"
   },
   {
    "duration": 39,
    "start_time": "2022-01-17T15:51:43.424Z"
   },
   {
    "duration": 28,
    "start_time": "2022-01-17T15:51:43.465Z"
   },
   {
    "duration": 14,
    "start_time": "2022-01-17T15:51:43.495Z"
   },
   {
    "duration": 51,
    "start_time": "2022-01-17T15:51:43.511Z"
   },
   {
    "duration": 10,
    "start_time": "2022-01-17T15:51:43.565Z"
   },
   {
    "duration": 10,
    "start_time": "2022-01-17T15:51:43.577Z"
   },
   {
    "duration": 13,
    "start_time": "2022-01-17T15:51:43.589Z"
   },
   {
    "duration": 12,
    "start_time": "2022-01-17T15:51:43.604Z"
   },
   {
    "duration": 52,
    "start_time": "2022-01-17T15:51:43.619Z"
   },
   {
    "duration": 11,
    "start_time": "2022-01-17T15:51:43.673Z"
   },
   {
    "duration": 27,
    "start_time": "2022-01-17T15:51:43.686Z"
   },
   {
    "duration": 99,
    "start_time": "2022-01-17T15:51:43.715Z"
   },
   {
    "duration": 11,
    "start_time": "2022-01-17T15:51:43.817Z"
   },
   {
    "duration": 9,
    "start_time": "2022-01-17T15:51:43.830Z"
   },
   {
    "duration": 8,
    "start_time": "2022-01-17T15:51:43.863Z"
   },
   {
    "duration": 8,
    "start_time": "2022-01-17T15:51:43.878Z"
   },
   {
    "duration": 11,
    "start_time": "2022-01-17T15:51:43.890Z"
   },
   {
    "duration": 7,
    "start_time": "2022-01-17T15:51:43.903Z"
   },
   {
    "duration": 51,
    "start_time": "2022-01-17T15:51:43.912Z"
   },
   {
    "duration": 14,
    "start_time": "2022-01-17T15:51:43.965Z"
   },
   {
    "duration": 6,
    "start_time": "2022-01-17T15:51:43.981Z"
   },
   {
    "duration": 397,
    "start_time": "2022-01-17T15:51:43.989Z"
   },
   {
    "duration": 13,
    "start_time": "2022-01-17T15:51:44.388Z"
   },
   {
    "duration": 37,
    "start_time": "2022-01-17T15:51:44.404Z"
   },
   {
    "duration": 9,
    "start_time": "2022-01-17T15:51:44.462Z"
   },
   {
    "duration": 1471,
    "start_time": "2022-01-17T15:51:44.474Z"
   },
   {
    "duration": 337,
    "start_time": "2022-01-17T15:51:45.948Z"
   },
   {
    "duration": 339,
    "start_time": "2022-01-17T15:51:46.287Z"
   },
   {
    "duration": 44,
    "start_time": "2022-01-17T15:51:46.629Z"
   },
   {
    "duration": 321,
    "start_time": "2022-01-17T15:51:46.675Z"
   },
   {
    "duration": 358,
    "start_time": "2022-01-17T15:51:46.999Z"
   },
   {
    "duration": 27,
    "start_time": "2022-01-17T15:51:47.363Z"
   },
   {
    "duration": 339,
    "start_time": "2022-01-17T15:51:47.392Z"
   },
   {
    "duration": 323,
    "start_time": "2022-01-17T15:51:47.734Z"
   },
   {
    "duration": 24,
    "start_time": "2022-01-17T15:51:48.060Z"
   },
   {
    "duration": 23,
    "start_time": "2022-01-17T15:51:48.087Z"
   },
   {
    "duration": 413,
    "start_time": "2022-01-17T15:51:48.113Z"
   },
   {
    "duration": 295,
    "start_time": "2022-01-17T15:51:48.529Z"
   },
   {
    "duration": 313,
    "start_time": "2022-01-17T15:51:48.826Z"
   },
   {
    "duration": 296,
    "start_time": "2022-01-17T15:51:49.142Z"
   },
   {
    "duration": 9,
    "start_time": "2022-01-17T16:31:27.753Z"
   },
   {
    "duration": 13,
    "start_time": "2022-01-17T16:55:04.735Z"
   },
   {
    "duration": 15,
    "start_time": "2022-01-17T16:55:12.522Z"
   },
   {
    "duration": 14,
    "start_time": "2022-01-17T16:55:27.243Z"
   },
   {
    "duration": 7,
    "start_time": "2022-01-17T16:56:35.425Z"
   },
   {
    "duration": 7,
    "start_time": "2022-01-17T16:58:46.773Z"
   },
   {
    "duration": 10,
    "start_time": "2022-01-17T16:59:33.939Z"
   },
   {
    "duration": 12,
    "start_time": "2022-01-17T16:59:41.983Z"
   },
   {
    "duration": 359,
    "start_time": "2022-01-17T16:59:56.779Z"
   },
   {
    "duration": 15,
    "start_time": "2022-01-17T17:00:03.747Z"
   },
   {
    "duration": 6,
    "start_time": "2022-01-17T17:04:31.774Z"
   },
   {
    "duration": 12,
    "start_time": "2022-01-17T17:04:43.436Z"
   },
   {
    "duration": 6,
    "start_time": "2022-01-17T17:04:50.019Z"
   },
   {
    "duration": 12,
    "start_time": "2022-01-17T17:04:51.583Z"
   },
   {
    "duration": 7,
    "start_time": "2022-01-17T17:05:14.051Z"
   },
   {
    "duration": 3,
    "start_time": "2022-01-17T17:06:01.248Z"
   },
   {
    "duration": 453,
    "start_time": "2022-01-17T17:08:06.073Z"
   },
   {
    "duration": 5,
    "start_time": "2022-01-17T17:09:24.627Z"
   },
   {
    "duration": 497,
    "start_time": "2022-01-17T17:09:34.127Z"
   },
   {
    "duration": 9,
    "start_time": "2022-01-17T17:09:41.330Z"
   },
   {
    "duration": 10,
    "start_time": "2022-01-17T17:09:47.321Z"
   },
   {
    "duration": 5,
    "start_time": "2022-01-17T17:09:56.265Z"
   },
   {
    "duration": 9,
    "start_time": "2022-01-17T17:09:57.163Z"
   },
   {
    "duration": 6,
    "start_time": "2022-01-17T17:09:58.858Z"
   },
   {
    "duration": 9,
    "start_time": "2022-01-17T17:09:59.615Z"
   },
   {
    "duration": 7,
    "start_time": "2022-01-17T17:10:01.283Z"
   },
   {
    "duration": 9,
    "start_time": "2022-01-17T17:10:01.975Z"
   },
   {
    "duration": 5,
    "start_time": "2022-01-17T17:30:58.222Z"
   },
   {
    "duration": 5,
    "start_time": "2022-01-17T17:31:01.631Z"
   },
   {
    "duration": 7,
    "start_time": "2022-01-17T17:31:29.108Z"
   },
   {
    "duration": 5,
    "start_time": "2022-01-17T17:31:33.109Z"
   },
   {
    "duration": 6,
    "start_time": "2022-01-17T17:31:33.813Z"
   },
   {
    "duration": 5,
    "start_time": "2022-01-17T17:31:34.787Z"
   },
   {
    "duration": 9,
    "start_time": "2022-01-17T17:31:35.514Z"
   },
   {
    "duration": 5,
    "start_time": "2022-01-17T17:31:53.681Z"
   },
   {
    "duration": 7,
    "start_time": "2022-01-17T17:31:54.644Z"
   },
   {
    "duration": 5,
    "start_time": "2022-01-17T17:35:04.485Z"
   },
   {
    "duration": 7,
    "start_time": "2022-01-17T17:35:05.711Z"
   },
   {
    "duration": 72,
    "start_time": "2022-01-17T17:50:45.136Z"
   },
   {
    "duration": 18,
    "start_time": "2022-01-17T17:50:53.912Z"
   },
   {
    "duration": 12,
    "start_time": "2022-01-17T17:51:10.527Z"
   },
   {
    "duration": 10,
    "start_time": "2022-01-17T17:51:15.501Z"
   },
   {
    "duration": 57,
    "start_time": "2022-01-17T17:51:48.849Z"
   },
   {
    "duration": 16,
    "start_time": "2022-01-17T17:51:52.195Z"
   },
   {
    "duration": 68,
    "start_time": "2022-01-17T17:52:03.722Z"
   },
   {
    "duration": 20,
    "start_time": "2022-01-17T17:52:06.039Z"
   },
   {
    "duration": 741,
    "start_time": "2022-01-17T17:52:46.649Z"
   },
   {
    "duration": 15,
    "start_time": "2022-01-17T17:52:50.275Z"
   },
   {
    "duration": 46,
    "start_time": "2022-01-17T17:53:07.148Z"
   },
   {
    "duration": 12,
    "start_time": "2022-01-17T17:53:10.244Z"
   },
   {
    "duration": 89,
    "start_time": "2022-01-17T17:53:24.412Z"
   },
   {
    "duration": 44,
    "start_time": "2022-01-17T17:53:36.308Z"
   },
   {
    "duration": 10,
    "start_time": "2022-01-17T17:53:38.824Z"
   },
   {
    "duration": 46,
    "start_time": "2022-01-17T17:54:07.130Z"
   },
   {
    "duration": 12,
    "start_time": "2022-01-17T17:54:10.446Z"
   },
   {
    "duration": 47,
    "start_time": "2022-01-17T17:54:23.009Z"
   },
   {
    "duration": 11,
    "start_time": "2022-01-17T17:54:25.522Z"
   },
   {
    "duration": 56,
    "start_time": "2022-01-17T17:54:36.621Z"
   },
   {
    "duration": 14,
    "start_time": "2022-01-17T17:54:40.084Z"
   },
   {
    "duration": 43,
    "start_time": "2022-01-17T18:00:05.500Z"
   },
   {
    "duration": 11,
    "start_time": "2022-01-17T18:00:06.577Z"
   },
   {
    "duration": 237,
    "start_time": "2022-01-17T18:01:12.283Z"
   },
   {
    "duration": 25,
    "start_time": "2022-01-17T18:01:42.773Z"
   },
   {
    "duration": 12,
    "start_time": "2022-01-17T18:01:43.907Z"
   },
   {
    "duration": 29,
    "start_time": "2022-01-17T18:01:54.182Z"
   },
   {
    "duration": 11,
    "start_time": "2022-01-17T18:01:56.803Z"
   },
   {
    "duration": 95,
    "start_time": "2022-01-17T18:05:33.999Z"
   },
   {
    "duration": 288,
    "start_time": "2022-01-17T18:05:43.810Z"
   },
   {
    "duration": 309,
    "start_time": "2022-01-17T18:05:53.095Z"
   },
   {
    "duration": 1404,
    "start_time": "2022-01-17T18:06:56.425Z"
   },
   {
    "duration": 4,
    "start_time": "2022-01-17T18:06:57.832Z"
   },
   {
    "duration": 520,
    "start_time": "2022-01-17T18:06:57.839Z"
   },
   {
    "duration": 5,
    "start_time": "2022-01-17T18:06:58.362Z"
   },
   {
    "duration": 15,
    "start_time": "2022-01-17T18:06:58.370Z"
   },
   {
    "duration": 23,
    "start_time": "2022-01-17T18:06:58.387Z"
   },
   {
    "duration": 61,
    "start_time": "2022-01-17T18:06:58.413Z"
   },
   {
    "duration": 9,
    "start_time": "2022-01-17T18:06:58.480Z"
   },
   {
    "duration": 12,
    "start_time": "2022-01-17T18:06:58.493Z"
   },
   {
    "duration": 20,
    "start_time": "2022-01-17T18:06:58.508Z"
   },
   {
    "duration": 45,
    "start_time": "2022-01-17T18:06:58.531Z"
   },
   {
    "duration": 5,
    "start_time": "2022-01-17T18:06:58.579Z"
   },
   {
    "duration": 29,
    "start_time": "2022-01-17T18:06:58.587Z"
   },
   {
    "duration": 58,
    "start_time": "2022-01-17T18:06:58.619Z"
   },
   {
    "duration": 37,
    "start_time": "2022-01-17T18:06:58.679Z"
   },
   {
    "duration": 74,
    "start_time": "2022-01-17T18:06:58.719Z"
   },
   {
    "duration": 19,
    "start_time": "2022-01-17T18:06:58.796Z"
   },
   {
    "duration": 18,
    "start_time": "2022-01-17T18:06:58.817Z"
   },
   {
    "duration": 31,
    "start_time": "2022-01-17T18:06:58.838Z"
   },
   {
    "duration": 25,
    "start_time": "2022-01-17T18:06:58.872Z"
   },
   {
    "duration": 19,
    "start_time": "2022-01-17T18:06:58.900Z"
   },
   {
    "duration": 144,
    "start_time": "2022-01-17T18:06:58.921Z"
   },
   {
    "duration": 20,
    "start_time": "2022-01-17T18:06:59.072Z"
   },
   {
    "duration": 17,
    "start_time": "2022-01-17T18:06:59.096Z"
   },
   {
    "duration": 17,
    "start_time": "2022-01-17T18:06:59.115Z"
   },
   {
    "duration": 27,
    "start_time": "2022-01-17T18:06:59.164Z"
   },
   {
    "duration": 16,
    "start_time": "2022-01-17T18:06:59.194Z"
   },
   {
    "duration": 16,
    "start_time": "2022-01-17T18:06:59.212Z"
   },
   {
    "duration": 49,
    "start_time": "2022-01-17T18:06:59.264Z"
   },
   {
    "duration": 21,
    "start_time": "2022-01-17T18:06:59.316Z"
   },
   {
    "duration": 40,
    "start_time": "2022-01-17T18:06:59.340Z"
   },
   {
    "duration": 36,
    "start_time": "2022-01-17T18:06:59.382Z"
   },
   {
    "duration": 59,
    "start_time": "2022-01-17T18:06:59.421Z"
   },
   {
    "duration": 16,
    "start_time": "2022-01-17T18:06:59.483Z"
   },
   {
    "duration": 18,
    "start_time": "2022-01-17T18:06:59.502Z"
   },
   {
    "duration": 43,
    "start_time": "2022-01-17T18:06:59.523Z"
   },
   {
    "duration": 13,
    "start_time": "2022-01-17T18:06:59.569Z"
   },
   {
    "duration": 13,
    "start_time": "2022-01-17T18:06:59.585Z"
   },
   {
    "duration": 28,
    "start_time": "2022-01-17T18:06:59.600Z"
   },
   {
    "duration": 47,
    "start_time": "2022-01-17T18:06:59.630Z"
   },
   {
    "duration": 67,
    "start_time": "2022-01-17T18:06:59.680Z"
   },
   {
    "duration": 9,
    "start_time": "2022-01-17T18:06:59.765Z"
   },
   {
    "duration": 22,
    "start_time": "2022-01-17T18:06:59.777Z"
   },
   {
    "duration": 33,
    "start_time": "2022-01-17T18:06:59.801Z"
   },
   {
    "duration": 41,
    "start_time": "2022-01-17T18:06:59.836Z"
   },
   {
    "duration": 54,
    "start_time": "2022-01-17T18:06:59.880Z"
   },
   {
    "duration": 33,
    "start_time": "2022-01-17T18:06:59.937Z"
   },
   {
    "duration": 10,
    "start_time": "2022-01-17T18:06:59.972Z"
   },
   {
    "duration": 23,
    "start_time": "2022-01-17T18:06:59.984Z"
   },
   {
    "duration": 18,
    "start_time": "2022-01-17T18:07:00.009Z"
   },
   {
    "duration": 70,
    "start_time": "2022-01-17T18:07:00.030Z"
   },
   {
    "duration": 22,
    "start_time": "2022-01-17T18:07:00.103Z"
   },
   {
    "duration": 25,
    "start_time": "2022-01-17T18:07:00.128Z"
   },
   {
    "duration": 47,
    "start_time": "2022-01-17T18:07:00.156Z"
   },
   {
    "duration": 16,
    "start_time": "2022-01-17T18:07:00.206Z"
   },
   {
    "duration": 72,
    "start_time": "2022-01-17T18:07:00.224Z"
   },
   {
    "duration": 92,
    "start_time": "2022-01-17T18:07:00.299Z"
   },
   {
    "duration": 66,
    "start_time": "2022-01-17T18:07:00.393Z"
   },
   {
    "duration": 22,
    "start_time": "2022-01-17T18:07:00.462Z"
   },
   {
    "duration": 28,
    "start_time": "2022-01-17T18:07:00.487Z"
   },
   {
    "duration": 15,
    "start_time": "2022-01-17T18:07:00.518Z"
   },
   {
    "duration": 35,
    "start_time": "2022-01-17T18:07:00.536Z"
   },
   {
    "duration": 40,
    "start_time": "2022-01-17T18:07:00.574Z"
   },
   {
    "duration": 89,
    "start_time": "2022-01-17T18:07:00.617Z"
   },
   {
    "duration": 12,
    "start_time": "2022-01-17T18:07:00.708Z"
   },
   {
    "duration": 44,
    "start_time": "2022-01-17T18:07:00.723Z"
   },
   {
    "duration": 39,
    "start_time": "2022-01-17T18:07:00.770Z"
   },
   {
    "duration": 29,
    "start_time": "2022-01-17T18:07:00.818Z"
   },
   {
    "duration": 12,
    "start_time": "2022-01-17T18:07:00.852Z"
   },
   {
    "duration": 7,
    "start_time": "2022-01-17T18:07:00.867Z"
   },
   {
    "duration": 33,
    "start_time": "2022-01-17T18:07:00.876Z"
   },
   {
    "duration": 13,
    "start_time": "2022-01-17T18:07:00.913Z"
   },
   {
    "duration": 7,
    "start_time": "2022-01-17T18:07:00.928Z"
   },
   {
    "duration": 379,
    "start_time": "2022-01-17T18:07:00.937Z"
   },
   {
    "duration": 11,
    "start_time": "2022-01-17T18:07:01.318Z"
   },
   {
    "duration": 38,
    "start_time": "2022-01-17T18:07:01.332Z"
   },
   {
    "duration": 14,
    "start_time": "2022-01-17T18:07:01.373Z"
   },
   {
    "duration": 642,
    "start_time": "2022-01-17T18:07:01.390Z"
   },
   {
    "duration": 345,
    "start_time": "2022-01-17T18:07:02.034Z"
   },
   {
    "duration": 327,
    "start_time": "2022-01-17T18:07:02.382Z"
   },
   {
    "duration": 31,
    "start_time": "2022-01-17T18:07:02.711Z"
   },
   {
    "duration": 340,
    "start_time": "2022-01-17T18:07:02.744Z"
   },
   {
    "duration": 304,
    "start_time": "2022-01-17T18:07:03.087Z"
   },
   {
    "duration": 25,
    "start_time": "2022-01-17T18:07:03.393Z"
   },
   {
    "duration": 343,
    "start_time": "2022-01-17T18:07:03.421Z"
   },
   {
    "duration": 311,
    "start_time": "2022-01-17T18:07:03.767Z"
   },
   {
    "duration": 25,
    "start_time": "2022-01-17T18:07:04.081Z"
   },
   {
    "duration": 54,
    "start_time": "2022-01-17T18:07:04.109Z"
   },
   {
    "duration": 397,
    "start_time": "2022-01-17T18:07:04.166Z"
   },
   {
    "duration": 347,
    "start_time": "2022-01-17T18:07:04.566Z"
   },
   {
    "duration": 330,
    "start_time": "2022-01-17T18:07:04.966Z"
   },
   {
    "duration": 298,
    "start_time": "2022-01-17T18:07:05.298Z"
   },
   {
    "duration": 9,
    "start_time": "2022-01-17T18:07:05.598Z"
   },
   {
    "duration": 15,
    "start_time": "2022-01-17T18:07:05.609Z"
   },
   {
    "duration": 10,
    "start_time": "2022-01-17T18:07:05.627Z"
   },
   {
    "duration": 11,
    "start_time": "2022-01-17T18:07:05.639Z"
   },
   {
    "duration": 11,
    "start_time": "2022-01-17T18:07:05.653Z"
   },
   {
    "duration": 9,
    "start_time": "2022-01-17T18:07:05.667Z"
   },
   {
    "duration": 18,
    "start_time": "2022-01-17T18:07:05.678Z"
   },
   {
    "duration": 29,
    "start_time": "2022-01-17T18:07:05.698Z"
   },
   {
    "duration": 10,
    "start_time": "2022-01-17T18:07:05.730Z"
   },
   {
    "duration": 11,
    "start_time": "2022-01-17T18:07:05.742Z"
   },
   {
    "duration": 13,
    "start_time": "2022-01-17T18:07:05.755Z"
   },
   {
    "duration": 25,
    "start_time": "2022-01-17T18:07:05.771Z"
   },
   {
    "duration": 38,
    "start_time": "2022-01-17T18:07:05.798Z"
   },
   {
    "duration": 1023,
    "start_time": "2022-01-21T04:47:41.959Z"
   },
   {
    "duration": 3,
    "start_time": "2022-01-21T04:47:42.984Z"
   },
   {
    "duration": 387,
    "start_time": "2022-01-21T04:47:42.988Z"
   },
   {
    "duration": 2,
    "start_time": "2022-01-21T04:47:43.377Z"
   },
   {
    "duration": 15,
    "start_time": "2022-01-21T04:47:43.381Z"
   },
   {
    "duration": 14,
    "start_time": "2022-01-21T04:47:43.398Z"
   },
   {
    "duration": 15,
    "start_time": "2022-01-21T04:47:43.414Z"
   },
   {
    "duration": 6,
    "start_time": "2022-01-21T04:47:43.431Z"
   },
   {
    "duration": 9,
    "start_time": "2022-01-21T04:47:43.439Z"
   },
   {
    "duration": 11,
    "start_time": "2022-01-21T04:47:43.450Z"
   },
   {
    "duration": 6,
    "start_time": "2022-01-21T04:47:43.463Z"
   },
   {
    "duration": 3,
    "start_time": "2022-01-21T04:47:43.471Z"
   },
   {
    "duration": 49,
    "start_time": "2022-01-21T04:47:43.475Z"
   },
   {
    "duration": 12,
    "start_time": "2022-01-21T04:47:43.526Z"
   },
   {
    "duration": 28,
    "start_time": "2022-01-21T04:47:43.540Z"
   },
   {
    "duration": 51,
    "start_time": "2022-01-21T04:47:43.569Z"
   },
   {
    "duration": 13,
    "start_time": "2022-01-21T04:47:43.622Z"
   },
   {
    "duration": 11,
    "start_time": "2022-01-21T04:47:43.637Z"
   },
   {
    "duration": 6,
    "start_time": "2022-01-21T04:47:43.650Z"
   },
   {
    "duration": 16,
    "start_time": "2022-01-21T04:47:43.657Z"
   },
   {
    "duration": 40,
    "start_time": "2022-01-21T04:47:43.675Z"
   },
   {
    "duration": 75,
    "start_time": "2022-01-21T04:47:43.716Z"
   },
   {
    "duration": 22,
    "start_time": "2022-01-21T04:47:43.795Z"
   },
   {
    "duration": 10,
    "start_time": "2022-01-21T04:47:43.820Z"
   },
   {
    "duration": 13,
    "start_time": "2022-01-21T04:47:43.832Z"
   },
   {
    "duration": 18,
    "start_time": "2022-01-21T04:47:43.846Z"
   },
   {
    "duration": 11,
    "start_time": "2022-01-21T04:47:43.865Z"
   },
   {
    "duration": 11,
    "start_time": "2022-01-21T04:47:43.912Z"
   },
   {
    "duration": 32,
    "start_time": "2022-01-21T04:47:43.925Z"
   },
   {
    "duration": 16,
    "start_time": "2022-01-21T04:47:43.959Z"
   },
   {
    "duration": 36,
    "start_time": "2022-01-21T04:47:43.977Z"
   },
   {
    "duration": 25,
    "start_time": "2022-01-21T04:47:44.015Z"
   },
   {
    "duration": 21,
    "start_time": "2022-01-21T04:47:44.042Z"
   },
   {
    "duration": 12,
    "start_time": "2022-01-21T04:47:44.065Z"
   },
   {
    "duration": 36,
    "start_time": "2022-01-21T04:47:44.079Z"
   },
   {
    "duration": 9,
    "start_time": "2022-01-21T04:47:44.117Z"
   },
   {
    "duration": 8,
    "start_time": "2022-01-21T04:47:44.128Z"
   },
   {
    "duration": 11,
    "start_time": "2022-01-21T04:47:44.137Z"
   },
   {
    "duration": 14,
    "start_time": "2022-01-21T04:47:44.150Z"
   },
   {
    "duration": 11,
    "start_time": "2022-01-21T04:47:44.165Z"
   },
   {
    "duration": 65,
    "start_time": "2022-01-21T04:47:44.177Z"
   },
   {
    "duration": 5,
    "start_time": "2022-01-21T04:47:44.244Z"
   },
   {
    "duration": 9,
    "start_time": "2022-01-21T04:47:44.251Z"
   },
   {
    "duration": 28,
    "start_time": "2022-01-21T04:47:44.261Z"
   },
   {
    "duration": 33,
    "start_time": "2022-01-21T04:47:44.291Z"
   },
   {
    "duration": 38,
    "start_time": "2022-01-21T04:47:44.325Z"
   },
   {
    "duration": 8,
    "start_time": "2022-01-21T04:47:44.364Z"
   },
   {
    "duration": 6,
    "start_time": "2022-01-21T04:47:44.373Z"
   },
   {
    "duration": 40,
    "start_time": "2022-01-21T04:47:44.380Z"
   },
   {
    "duration": 11,
    "start_time": "2022-01-21T04:47:44.422Z"
   },
   {
    "duration": 23,
    "start_time": "2022-01-21T04:47:44.434Z"
   },
   {
    "duration": 6,
    "start_time": "2022-01-21T04:47:44.458Z"
   },
   {
    "duration": 6,
    "start_time": "2022-01-21T04:47:44.466Z"
   },
   {
    "duration": 48,
    "start_time": "2022-01-21T04:47:44.473Z"
   },
   {
    "duration": 9,
    "start_time": "2022-01-21T04:47:44.522Z"
   },
   {
    "duration": 23,
    "start_time": "2022-01-21T04:47:44.532Z"
   },
   {
    "duration": 7,
    "start_time": "2022-01-21T04:47:44.556Z"
   },
   {
    "duration": 7,
    "start_time": "2022-01-21T04:47:44.564Z"
   },
   {
    "duration": 7,
    "start_time": "2022-01-21T04:47:44.572Z"
   },
   {
    "duration": 37,
    "start_time": "2022-01-21T04:47:44.581Z"
   },
   {
    "duration": 7,
    "start_time": "2022-01-21T04:47:44.619Z"
   },
   {
    "duration": 6,
    "start_time": "2022-01-21T04:47:44.628Z"
   },
   {
    "duration": 16,
    "start_time": "2022-01-21T04:47:44.635Z"
   },
   {
    "duration": 64,
    "start_time": "2022-01-21T04:47:44.653Z"
   },
   {
    "duration": 7,
    "start_time": "2022-01-21T04:47:44.719Z"
   },
   {
    "duration": 5,
    "start_time": "2022-01-21T04:47:44.728Z"
   },
   {
    "duration": 5,
    "start_time": "2022-01-21T04:47:44.735Z"
   },
   {
    "duration": 5,
    "start_time": "2022-01-21T04:47:44.745Z"
   },
   {
    "duration": 7,
    "start_time": "2022-01-21T04:47:44.752Z"
   },
   {
    "duration": 4,
    "start_time": "2022-01-21T04:47:44.761Z"
   },
   {
    "duration": 47,
    "start_time": "2022-01-21T04:47:44.767Z"
   },
   {
    "duration": 8,
    "start_time": "2022-01-21T04:47:44.816Z"
   },
   {
    "duration": 3,
    "start_time": "2022-01-21T04:47:44.826Z"
   },
   {
    "duration": 215,
    "start_time": "2022-01-21T04:47:44.831Z"
   },
   {
    "duration": 4,
    "start_time": "2022-01-21T04:47:45.048Z"
   },
   {
    "duration": 17,
    "start_time": "2022-01-21T04:47:45.054Z"
   },
   {
    "duration": 8,
    "start_time": "2022-01-21T04:47:45.073Z"
   },
   {
    "duration": 602,
    "start_time": "2022-01-21T04:47:45.082Z"
   },
   {
    "duration": 226,
    "start_time": "2022-01-21T04:47:45.686Z"
   },
   {
    "duration": 214,
    "start_time": "2022-01-21T04:47:45.914Z"
   },
   {
    "duration": 20,
    "start_time": "2022-01-21T04:47:46.130Z"
   },
   {
    "duration": 215,
    "start_time": "2022-01-21T04:47:46.152Z"
   },
   {
    "duration": 198,
    "start_time": "2022-01-21T04:47:46.369Z"
   },
   {
    "duration": 17,
    "start_time": "2022-01-21T04:47:46.569Z"
   },
   {
    "duration": 230,
    "start_time": "2022-01-21T04:47:46.588Z"
   },
   {
    "duration": 209,
    "start_time": "2022-01-21T04:47:46.819Z"
   },
   {
    "duration": 15,
    "start_time": "2022-01-21T04:47:47.029Z"
   },
   {
    "duration": 14,
    "start_time": "2022-01-21T04:47:47.046Z"
   },
   {
    "duration": 287,
    "start_time": "2022-01-21T04:47:47.061Z"
   },
   {
    "duration": 198,
    "start_time": "2022-01-21T04:47:47.349Z"
   },
   {
    "duration": 208,
    "start_time": "2022-01-21T04:47:47.549Z"
   },
   {
    "duration": 187,
    "start_time": "2022-01-21T04:47:47.759Z"
   },
   {
    "duration": 5,
    "start_time": "2022-01-21T04:47:47.948Z"
   },
   {
    "duration": 9,
    "start_time": "2022-01-21T04:47:47.955Z"
   },
   {
    "duration": 7,
    "start_time": "2022-01-21T04:47:47.965Z"
   },
   {
    "duration": 4,
    "start_time": "2022-01-21T04:47:47.974Z"
   },
   {
    "duration": 32,
    "start_time": "2022-01-21T04:47:47.980Z"
   },
   {
    "duration": 6,
    "start_time": "2022-01-21T04:47:48.014Z"
   },
   {
    "duration": 7,
    "start_time": "2022-01-21T04:47:48.021Z"
   },
   {
    "duration": 7,
    "start_time": "2022-01-21T04:47:48.030Z"
   },
   {
    "duration": 2,
    "start_time": "2022-01-21T04:47:48.039Z"
   },
   {
    "duration": 4,
    "start_time": "2022-01-21T04:47:48.043Z"
   },
   {
    "duration": 8,
    "start_time": "2022-01-21T04:47:48.048Z"
   },
   {
    "duration": 5,
    "start_time": "2022-01-21T04:47:48.057Z"
   },
   {
    "duration": 9,
    "start_time": "2022-01-21T04:47:48.063Z"
   },
   {
    "duration": 374,
    "start_time": "2022-01-21T04:58:04.025Z"
   },
   {
    "duration": 346,
    "start_time": "2022-01-21T04:58:22.523Z"
   },
   {
    "duration": 68,
    "start_time": "2022-01-21T17:44:22.521Z"
   },
   {
    "duration": 295,
    "start_time": "2022-01-21T17:44:36.978Z"
   },
   {
    "duration": 1097,
    "start_time": "2022-01-21T17:44:53.556Z"
   },
   {
    "duration": 7,
    "start_time": "2022-01-21T17:44:54.655Z"
   },
   {
    "duration": 458,
    "start_time": "2022-01-21T17:44:54.663Z"
   },
   {
    "duration": 3,
    "start_time": "2022-01-21T17:44:55.123Z"
   },
   {
    "duration": 25,
    "start_time": "2022-01-21T17:44:55.127Z"
   },
   {
    "duration": 33,
    "start_time": "2022-01-21T17:44:55.154Z"
   },
   {
    "duration": 28,
    "start_time": "2022-01-21T17:44:55.189Z"
   },
   {
    "duration": 27,
    "start_time": "2022-01-21T17:44:55.219Z"
   },
   {
    "duration": 13,
    "start_time": "2022-01-21T17:44:55.248Z"
   },
   {
    "duration": 54,
    "start_time": "2022-01-21T17:44:55.263Z"
   },
   {
    "duration": 15,
    "start_time": "2022-01-21T17:44:55.319Z"
   },
   {
    "duration": 39,
    "start_time": "2022-01-21T17:44:55.335Z"
   },
   {
    "duration": 38,
    "start_time": "2022-01-21T17:44:55.376Z"
   },
   {
    "duration": 16,
    "start_time": "2022-01-21T17:44:55.415Z"
   },
   {
    "duration": 34,
    "start_time": "2022-01-21T17:44:55.433Z"
   },
   {
    "duration": 34,
    "start_time": "2022-01-21T17:44:55.469Z"
   },
   {
    "duration": 14,
    "start_time": "2022-01-21T17:44:55.505Z"
   },
   {
    "duration": 44,
    "start_time": "2022-01-21T17:44:55.520Z"
   },
   {
    "duration": 34,
    "start_time": "2022-01-21T17:44:55.566Z"
   },
   {
    "duration": 52,
    "start_time": "2022-01-21T17:44:55.601Z"
   },
   {
    "duration": 48,
    "start_time": "2022-01-21T17:44:55.654Z"
   },
   {
    "duration": 109,
    "start_time": "2022-01-21T17:44:55.704Z"
   },
   {
    "duration": 16,
    "start_time": "2022-01-21T17:44:55.818Z"
   },
   {
    "duration": 49,
    "start_time": "2022-01-21T17:44:55.837Z"
   },
   {
    "duration": 38,
    "start_time": "2022-01-21T17:44:55.888Z"
   },
   {
    "duration": 49,
    "start_time": "2022-01-21T17:44:55.928Z"
   },
   {
    "duration": 12,
    "start_time": "2022-01-21T17:44:55.979Z"
   },
   {
    "duration": 14,
    "start_time": "2022-01-21T17:44:55.993Z"
   },
   {
    "duration": 55,
    "start_time": "2022-01-21T17:44:56.009Z"
   },
   {
    "duration": 17,
    "start_time": "2022-01-21T17:44:56.066Z"
   },
   {
    "duration": 11,
    "start_time": "2022-01-21T17:44:56.085Z"
   },
   {
    "duration": 27,
    "start_time": "2022-01-21T17:44:56.097Z"
   },
   {
    "duration": 36,
    "start_time": "2022-01-21T17:44:56.126Z"
   },
   {
    "duration": 23,
    "start_time": "2022-01-21T17:44:56.164Z"
   },
   {
    "duration": 14,
    "start_time": "2022-01-21T17:44:56.189Z"
   },
   {
    "duration": 13,
    "start_time": "2022-01-21T17:44:56.205Z"
   },
   {
    "duration": 11,
    "start_time": "2022-01-21T17:44:56.220Z"
   },
   {
    "duration": 9,
    "start_time": "2022-01-21T17:44:56.261Z"
   },
   {
    "duration": 8,
    "start_time": "2022-01-21T17:44:56.272Z"
   },
   {
    "duration": 20,
    "start_time": "2022-01-21T17:44:56.282Z"
   },
   {
    "duration": 15,
    "start_time": "2022-01-21T17:44:56.303Z"
   },
   {
    "duration": 68,
    "start_time": "2022-01-21T17:44:56.320Z"
   },
   {
    "duration": 6,
    "start_time": "2022-01-21T17:44:56.390Z"
   },
   {
    "duration": 8,
    "start_time": "2022-01-21T17:44:56.398Z"
   },
   {
    "duration": 27,
    "start_time": "2022-01-21T17:44:56.408Z"
   },
   {
    "duration": 35,
    "start_time": "2022-01-21T17:44:56.437Z"
   },
   {
    "duration": 42,
    "start_time": "2022-01-21T17:44:56.474Z"
   },
   {
    "duration": 8,
    "start_time": "2022-01-21T17:44:56.518Z"
   },
   {
    "duration": 51,
    "start_time": "2022-01-21T17:44:56.527Z"
   },
   {
    "duration": 18,
    "start_time": "2022-01-21T17:44:56.580Z"
   },
   {
    "duration": 12,
    "start_time": "2022-01-21T17:44:56.600Z"
   },
   {
    "duration": 25,
    "start_time": "2022-01-21T17:44:56.614Z"
   },
   {
    "duration": 7,
    "start_time": "2022-01-21T17:44:56.641Z"
   },
   {
    "duration": 5,
    "start_time": "2022-01-21T17:44:56.661Z"
   },
   {
    "duration": 19,
    "start_time": "2022-01-21T17:44:56.668Z"
   },
   {
    "duration": 9,
    "start_time": "2022-01-21T17:44:56.689Z"
   },
   {
    "duration": 25,
    "start_time": "2022-01-21T17:44:56.699Z"
   },
   {
    "duration": 7,
    "start_time": "2022-01-21T17:44:56.725Z"
   },
   {
    "duration": 12,
    "start_time": "2022-01-21T17:44:56.761Z"
   },
   {
    "duration": 9,
    "start_time": "2022-01-21T17:44:56.775Z"
   },
   {
    "duration": 9,
    "start_time": "2022-01-21T17:44:56.786Z"
   },
   {
    "duration": 8,
    "start_time": "2022-01-21T17:44:56.796Z"
   },
   {
    "duration": 8,
    "start_time": "2022-01-21T17:44:56.806Z"
   },
   {
    "duration": 52,
    "start_time": "2022-01-21T17:44:56.815Z"
   },
   {
    "duration": 43,
    "start_time": "2022-01-21T17:44:56.868Z"
   },
   {
    "duration": 8,
    "start_time": "2022-01-21T17:44:56.912Z"
   },
   {
    "duration": 7,
    "start_time": "2022-01-21T17:44:56.921Z"
   },
   {
    "duration": 31,
    "start_time": "2022-01-21T17:44:56.933Z"
   },
   {
    "duration": 11,
    "start_time": "2022-01-21T17:44:56.966Z"
   },
   {
    "duration": 8,
    "start_time": "2022-01-21T17:44:56.978Z"
   },
   {
    "duration": 4,
    "start_time": "2022-01-21T17:44:56.988Z"
   },
   {
    "duration": 13,
    "start_time": "2022-01-21T17:44:56.994Z"
   },
   {
    "duration": 18,
    "start_time": "2022-01-21T17:44:57.009Z"
   },
   {
    "duration": 4,
    "start_time": "2022-01-21T17:44:57.029Z"
   },
   {
    "duration": 227,
    "start_time": "2022-01-21T17:44:57.035Z"
   },
   {
    "duration": 8,
    "start_time": "2022-01-21T17:44:57.264Z"
   },
   {
    "duration": 16,
    "start_time": "2022-01-21T17:44:57.274Z"
   },
   {
    "duration": 8,
    "start_time": "2022-01-21T17:44:57.292Z"
   },
   {
    "duration": 487,
    "start_time": "2022-01-21T17:44:57.302Z"
   },
   {
    "duration": 216,
    "start_time": "2022-01-21T17:44:57.792Z"
   },
   {
    "duration": 212,
    "start_time": "2022-01-21T17:44:58.010Z"
   },
   {
    "duration": 349,
    "start_time": "2022-01-21T17:44:58.223Z"
   },
   {
    "duration": 20,
    "start_time": "2022-01-21T17:44:58.574Z"
   },
   {
    "duration": 219,
    "start_time": "2022-01-21T17:44:58.596Z"
   },
   {
    "duration": 225,
    "start_time": "2022-01-21T17:44:58.817Z"
   },
   {
    "duration": 27,
    "start_time": "2022-01-21T17:44:59.044Z"
   },
   {
    "duration": 285,
    "start_time": "2022-01-21T17:44:59.073Z"
   },
   {
    "duration": 194,
    "start_time": "2022-01-21T17:44:59.360Z"
   },
   {
    "duration": 18,
    "start_time": "2022-01-21T17:44:59.556Z"
   },
   {
    "duration": 44,
    "start_time": "2022-01-21T17:44:59.576Z"
   },
   {
    "duration": 210,
    "start_time": "2022-01-21T17:44:59.622Z"
   },
   {
    "duration": 195,
    "start_time": "2022-01-21T17:44:59.834Z"
   },
   {
    "duration": 209,
    "start_time": "2022-01-21T17:45:00.032Z"
   },
   {
    "duration": 188,
    "start_time": "2022-01-21T17:45:00.244Z"
   },
   {
    "duration": 8,
    "start_time": "2022-01-21T17:45:00.434Z"
   },
   {
    "duration": 41,
    "start_time": "2022-01-21T17:45:00.444Z"
   },
   {
    "duration": 15,
    "start_time": "2022-01-21T17:45:00.487Z"
   },
   {
    "duration": 48,
    "start_time": "2022-01-21T17:45:00.504Z"
   },
   {
    "duration": 33,
    "start_time": "2022-01-21T17:45:00.554Z"
   },
   {
    "duration": 44,
    "start_time": "2022-01-21T17:45:00.590Z"
   },
   {
    "duration": 32,
    "start_time": "2022-01-21T17:45:00.636Z"
   },
   {
    "duration": 20,
    "start_time": "2022-01-21T17:45:00.670Z"
   },
   {
    "duration": 12,
    "start_time": "2022-01-21T17:45:00.691Z"
   },
   {
    "duration": 22,
    "start_time": "2022-01-21T17:45:00.705Z"
   },
   {
    "duration": 33,
    "start_time": "2022-01-21T17:45:00.728Z"
   },
   {
    "duration": 36,
    "start_time": "2022-01-21T17:45:00.763Z"
   },
   {
    "duration": 24,
    "start_time": "2022-01-21T17:45:00.801Z"
   },
   {
    "duration": 13,
    "start_time": "2022-01-21T17:45:08.260Z"
   },
   {
    "duration": 13,
    "start_time": "2022-01-21T17:45:15.920Z"
   },
   {
    "duration": 11,
    "start_time": "2022-01-21T17:50:00.641Z"
   },
   {
    "duration": 10,
    "start_time": "2022-01-21T17:50:07.192Z"
   },
   {
    "duration": 140,
    "start_time": "2022-01-21T17:58:32.147Z"
   },
   {
    "duration": 4,
    "start_time": "2022-01-21T17:59:05.802Z"
   },
   {
    "duration": 8,
    "start_time": "2022-01-21T17:59:14.863Z"
   },
   {
    "duration": 282,
    "start_time": "2022-01-21T17:59:39.281Z"
   },
   {
    "duration": 278,
    "start_time": "2022-01-21T17:59:55.062Z"
   },
   {
    "duration": 6,
    "start_time": "2022-01-21T18:00:02.803Z"
   },
   {
    "duration": 217,
    "start_time": "2022-01-21T18:00:19.957Z"
   },
   {
    "duration": 11,
    "start_time": "2022-01-21T18:03:23.452Z"
   },
   {
    "duration": 12,
    "start_time": "2022-01-21T18:03:52.224Z"
   },
   {
    "duration": 9,
    "start_time": "2022-01-21T18:05:04.249Z"
   },
   {
    "duration": 10,
    "start_time": "2022-01-21T18:05:38.287Z"
   },
   {
    "duration": 1121,
    "start_time": "2022-01-21T18:19:45.633Z"
   },
   {
    "duration": 3,
    "start_time": "2022-01-21T18:19:46.755Z"
   },
   {
    "duration": 433,
    "start_time": "2022-01-21T18:19:46.762Z"
   },
   {
    "duration": 3,
    "start_time": "2022-01-21T18:19:47.197Z"
   },
   {
    "duration": 9,
    "start_time": "2022-01-21T18:19:47.201Z"
   },
   {
    "duration": 13,
    "start_time": "2022-01-21T18:19:47.212Z"
   },
   {
    "duration": 14,
    "start_time": "2022-01-21T18:19:47.228Z"
   },
   {
    "duration": 16,
    "start_time": "2022-01-21T18:19:47.244Z"
   },
   {
    "duration": 8,
    "start_time": "2022-01-21T18:19:47.262Z"
   },
   {
    "duration": 15,
    "start_time": "2022-01-21T18:19:47.272Z"
   },
   {
    "duration": 28,
    "start_time": "2022-01-21T18:19:47.289Z"
   },
   {
    "duration": 3,
    "start_time": "2022-01-21T18:19:47.319Z"
   },
   {
    "duration": 24,
    "start_time": "2022-01-21T18:19:47.324Z"
   },
   {
    "duration": 22,
    "start_time": "2022-01-21T18:19:47.350Z"
   },
   {
    "duration": 29,
    "start_time": "2022-01-21T18:19:47.373Z"
   },
   {
    "duration": 32,
    "start_time": "2022-01-21T18:19:47.404Z"
   },
   {
    "duration": 31,
    "start_time": "2022-01-21T18:19:47.438Z"
   },
   {
    "duration": 15,
    "start_time": "2022-01-21T18:19:47.471Z"
   },
   {
    "duration": 9,
    "start_time": "2022-01-21T18:19:47.489Z"
   },
   {
    "duration": 30,
    "start_time": "2022-01-21T18:19:47.501Z"
   },
   {
    "duration": 45,
    "start_time": "2022-01-21T18:19:47.533Z"
   },
   {
    "duration": 106,
    "start_time": "2022-01-21T18:19:47.584Z"
   },
   {
    "duration": 16,
    "start_time": "2022-01-21T18:19:47.693Z"
   },
   {
    "duration": 10,
    "start_time": "2022-01-21T18:19:47.710Z"
   },
   {
    "duration": 41,
    "start_time": "2022-01-21T18:19:47.722Z"
   },
   {
    "duration": 18,
    "start_time": "2022-01-21T18:19:47.764Z"
   },
   {
    "duration": 11,
    "start_time": "2022-01-21T18:19:47.784Z"
   },
   {
    "duration": 14,
    "start_time": "2022-01-21T18:19:47.796Z"
   },
   {
    "duration": 62,
    "start_time": "2022-01-21T18:19:47.812Z"
   },
   {
    "duration": 19,
    "start_time": "2022-01-21T18:19:47.876Z"
   },
   {
    "duration": 12,
    "start_time": "2022-01-21T18:19:47.897Z"
   },
   {
    "duration": 51,
    "start_time": "2022-01-21T18:19:47.911Z"
   },
   {
    "duration": 23,
    "start_time": "2022-01-21T18:19:47.963Z"
   },
   {
    "duration": 14,
    "start_time": "2022-01-21T18:19:47.987Z"
   },
   {
    "duration": 12,
    "start_time": "2022-01-21T18:19:48.003Z"
   },
   {
    "duration": 10,
    "start_time": "2022-01-21T18:19:48.017Z"
   },
   {
    "duration": 34,
    "start_time": "2022-01-21T18:19:48.028Z"
   },
   {
    "duration": 10,
    "start_time": "2022-01-21T18:19:48.064Z"
   },
   {
    "duration": 13,
    "start_time": "2022-01-21T18:19:48.076Z"
   },
   {
    "duration": 18,
    "start_time": "2022-01-21T18:19:48.091Z"
   },
   {
    "duration": 66,
    "start_time": "2022-01-21T18:19:48.110Z"
   },
   {
    "duration": 2,
    "start_time": "2022-01-21T18:19:48.178Z"
   },
   {
    "duration": 11,
    "start_time": "2022-01-21T18:19:48.181Z"
   },
   {
    "duration": 13,
    "start_time": "2022-01-21T18:19:48.193Z"
   },
   {
    "duration": 26,
    "start_time": "2022-01-21T18:19:48.208Z"
   },
   {
    "duration": 31,
    "start_time": "2022-01-21T18:19:48.235Z"
   },
   {
    "duration": 42,
    "start_time": "2022-01-21T18:19:48.268Z"
   },
   {
    "duration": 7,
    "start_time": "2022-01-21T18:19:48.312Z"
   },
   {
    "duration": 14,
    "start_time": "2022-01-21T18:19:48.320Z"
   },
   {
    "duration": 33,
    "start_time": "2022-01-21T18:19:48.335Z"
   },
   {
    "duration": 12,
    "start_time": "2022-01-21T18:19:48.369Z"
   },
   {
    "duration": 26,
    "start_time": "2022-01-21T18:19:48.383Z"
   },
   {
    "duration": 6,
    "start_time": "2022-01-21T18:19:48.411Z"
   },
   {
    "duration": 9,
    "start_time": "2022-01-21T18:19:48.419Z"
   },
   {
    "duration": 39,
    "start_time": "2022-01-21T18:19:48.430Z"
   },
   {
    "duration": 9,
    "start_time": "2022-01-21T18:19:48.471Z"
   },
   {
    "duration": 49,
    "start_time": "2022-01-21T18:19:48.482Z"
   },
   {
    "duration": 7,
    "start_time": "2022-01-21T18:19:48.533Z"
   },
   {
    "duration": 26,
    "start_time": "2022-01-21T18:19:48.542Z"
   },
   {
    "duration": 35,
    "start_time": "2022-01-21T18:19:48.570Z"
   },
   {
    "duration": 17,
    "start_time": "2022-01-21T18:19:48.607Z"
   },
   {
    "duration": 25,
    "start_time": "2022-01-21T18:19:48.626Z"
   },
   {
    "duration": 22,
    "start_time": "2022-01-21T18:19:48.653Z"
   },
   {
    "duration": 29,
    "start_time": "2022-01-21T18:19:48.677Z"
   },
   {
    "duration": 36,
    "start_time": "2022-01-21T18:19:48.708Z"
   },
   {
    "duration": 34,
    "start_time": "2022-01-21T18:19:48.746Z"
   },
   {
    "duration": 29,
    "start_time": "2022-01-21T18:19:48.786Z"
   },
   {
    "duration": 53,
    "start_time": "2022-01-21T18:19:48.817Z"
   },
   {
    "duration": 33,
    "start_time": "2022-01-21T18:19:48.872Z"
   },
   {
    "duration": 26,
    "start_time": "2022-01-21T18:19:48.907Z"
   },
   {
    "duration": 33,
    "start_time": "2022-01-21T18:19:48.934Z"
   },
   {
    "duration": 24,
    "start_time": "2022-01-21T18:19:48.968Z"
   },
   {
    "duration": 29,
    "start_time": "2022-01-21T18:19:48.993Z"
   },
   {
    "duration": 23,
    "start_time": "2022-01-21T18:19:49.024Z"
   },
   {
    "duration": 21,
    "start_time": "2022-01-21T18:19:49.049Z"
   },
   {
    "duration": 38,
    "start_time": "2022-01-21T18:19:49.072Z"
   },
   {
    "duration": 11,
    "start_time": "2022-01-21T18:19:49.111Z"
   },
   {
    "duration": 6103,
    "start_time": "2022-01-21T18:19:49.124Z"
   },
   {
    "duration": -224,
    "start_time": "2022-01-21T18:19:55.454Z"
   },
   {
    "duration": -275,
    "start_time": "2022-01-21T18:19:55.506Z"
   },
   {
    "duration": -312,
    "start_time": "2022-01-21T18:19:55.544Z"
   },
   {
    "duration": -317,
    "start_time": "2022-01-21T18:19:55.550Z"
   },
   {
    "duration": -324,
    "start_time": "2022-01-21T18:19:55.558Z"
   },
   {
    "duration": -329,
    "start_time": "2022-01-21T18:19:55.564Z"
   },
   {
    "duration": -337,
    "start_time": "2022-01-21T18:19:55.573Z"
   },
   {
    "duration": -343,
    "start_time": "2022-01-21T18:19:55.580Z"
   },
   {
    "duration": -349,
    "start_time": "2022-01-21T18:19:55.587Z"
   },
   {
    "duration": -354,
    "start_time": "2022-01-21T18:19:55.593Z"
   },
   {
    "duration": -361,
    "start_time": "2022-01-21T18:19:55.601Z"
   },
   {
    "duration": -367,
    "start_time": "2022-01-21T18:19:55.608Z"
   },
   {
    "duration": -373,
    "start_time": "2022-01-21T18:19:55.615Z"
   },
   {
    "duration": -379,
    "start_time": "2022-01-21T18:19:55.622Z"
   },
   {
    "duration": -385,
    "start_time": "2022-01-21T18:19:55.629Z"
   },
   {
    "duration": -391,
    "start_time": "2022-01-21T18:19:55.636Z"
   },
   {
    "duration": -436,
    "start_time": "2022-01-21T18:19:55.682Z"
   },
   {
    "duration": -441,
    "start_time": "2022-01-21T18:19:55.688Z"
   },
   {
    "duration": -447,
    "start_time": "2022-01-21T18:19:55.695Z"
   },
   {
    "duration": -454,
    "start_time": "2022-01-21T18:19:55.703Z"
   },
   {
    "duration": -461,
    "start_time": "2022-01-21T18:19:55.711Z"
   },
   {
    "duration": -467,
    "start_time": "2022-01-21T18:19:55.718Z"
   },
   {
    "duration": -473,
    "start_time": "2022-01-21T18:19:55.725Z"
   },
   {
    "duration": -479,
    "start_time": "2022-01-21T18:19:55.732Z"
   },
   {
    "duration": -485,
    "start_time": "2022-01-21T18:19:55.739Z"
   },
   {
    "duration": -492,
    "start_time": "2022-01-21T18:19:55.747Z"
   },
   {
    "duration": -498,
    "start_time": "2022-01-21T18:19:55.754Z"
   },
   {
    "duration": -504,
    "start_time": "2022-01-21T18:19:55.761Z"
   },
   {
    "duration": -510,
    "start_time": "2022-01-21T18:19:55.768Z"
   },
   {
    "duration": -516,
    "start_time": "2022-01-21T18:19:55.775Z"
   },
   {
    "duration": -556,
    "start_time": "2022-01-21T18:19:55.816Z"
   },
   {
    "duration": -561,
    "start_time": "2022-01-21T18:19:55.822Z"
   },
   {
    "duration": 332,
    "start_time": "2022-01-21T18:23:24.899Z"
   },
   {
    "duration": 416,
    "start_time": "2022-01-21T18:23:40.694Z"
   },
   {
    "duration": 7591,
    "start_time": "2022-01-21T18:23:54.337Z"
   },
   {
    "duration": 2026,
    "start_time": "2022-01-21T18:24:18.444Z"
   },
   {
    "duration": 1903,
    "start_time": "2022-01-21T18:25:25.110Z"
   },
   {
    "duration": 4,
    "start_time": "2022-01-21T18:25:57.273Z"
   },
   {
    "duration": 6,
    "start_time": "2022-01-21T18:26:04.258Z"
   },
   {
    "duration": 2982,
    "start_time": "2022-01-21T18:28:05.983Z"
   },
   {
    "duration": 8342,
    "start_time": "2022-01-21T18:29:16.141Z"
   },
   {
    "duration": 8957,
    "start_time": "2022-01-21T18:30:34.405Z"
   },
   {
    "duration": 3122,
    "start_time": "2022-01-21T18:30:49.882Z"
   },
   {
    "duration": 6641,
    "start_time": "2022-01-21T18:32:14.726Z"
   },
   {
    "duration": 222,
    "start_time": "2022-01-21T18:33:45.668Z"
   },
   {
    "duration": 247,
    "start_time": "2022-01-21T18:33:55.521Z"
   },
   {
    "duration": 214,
    "start_time": "2022-01-21T18:34:28.576Z"
   },
   {
    "duration": 2020,
    "start_time": "2022-01-21T18:35:39.973Z"
   },
   {
    "duration": 4,
    "start_time": "2022-01-21T18:37:36.782Z"
   },
   {
    "duration": 3870,
    "start_time": "2022-01-21T18:37:41.581Z"
   },
   {
    "duration": 13,
    "start_time": "2022-01-21T18:37:51.552Z"
   },
   {
    "duration": 6,
    "start_time": "2022-01-21T18:43:20.781Z"
   },
   {
    "duration": 1124,
    "start_time": "2022-01-21T18:44:09.473Z"
   },
   {
    "duration": 2,
    "start_time": "2022-01-21T18:44:10.599Z"
   },
   {
    "duration": 466,
    "start_time": "2022-01-21T18:44:10.603Z"
   },
   {
    "duration": 3,
    "start_time": "2022-01-21T18:44:11.072Z"
   },
   {
    "duration": 11,
    "start_time": "2022-01-21T18:44:11.077Z"
   },
   {
    "duration": 19,
    "start_time": "2022-01-21T18:44:11.090Z"
   },
   {
    "duration": 15,
    "start_time": "2022-01-21T18:44:11.111Z"
   },
   {
    "duration": 5,
    "start_time": "2022-01-21T18:44:11.129Z"
   },
   {
    "duration": 28,
    "start_time": "2022-01-21T18:44:11.136Z"
   },
   {
    "duration": 11,
    "start_time": "2022-01-21T18:44:11.166Z"
   },
   {
    "duration": 7,
    "start_time": "2022-01-21T18:44:11.179Z"
   },
   {
    "duration": 4,
    "start_time": "2022-01-21T18:44:11.188Z"
   },
   {
    "duration": 23,
    "start_time": "2022-01-21T18:44:11.193Z"
   },
   {
    "duration": 44,
    "start_time": "2022-01-21T18:44:11.218Z"
   },
   {
    "duration": 41,
    "start_time": "2022-01-21T18:44:11.264Z"
   },
   {
    "duration": 65,
    "start_time": "2022-01-21T18:44:11.307Z"
   },
   {
    "duration": 15,
    "start_time": "2022-01-21T18:44:11.375Z"
   },
   {
    "duration": 14,
    "start_time": "2022-01-21T18:44:11.392Z"
   },
   {
    "duration": 10,
    "start_time": "2022-01-21T18:44:11.408Z"
   },
   {
    "duration": 48,
    "start_time": "2022-01-21T18:44:11.419Z"
   },
   {
    "duration": 14,
    "start_time": "2022-01-21T18:44:11.469Z"
   },
   {
    "duration": 153,
    "start_time": "2022-01-21T18:44:11.486Z"
   },
   {
    "duration": 29,
    "start_time": "2022-01-21T18:44:11.646Z"
   },
   {
    "duration": 13,
    "start_time": "2022-01-21T18:44:11.678Z"
   },
   {
    "duration": 18,
    "start_time": "2022-01-21T18:44:11.693Z"
   },
   {
    "duration": 48,
    "start_time": "2022-01-21T18:44:11.713Z"
   },
   {
    "duration": 12,
    "start_time": "2022-01-21T18:44:11.763Z"
   },
   {
    "duration": 11,
    "start_time": "2022-01-21T18:44:11.777Z"
   },
   {
    "duration": 73,
    "start_time": "2022-01-21T18:44:11.790Z"
   },
   {
    "duration": 29,
    "start_time": "2022-01-21T18:44:11.865Z"
   },
   {
    "duration": 18,
    "start_time": "2022-01-21T18:44:11.896Z"
   },
   {
    "duration": 68,
    "start_time": "2022-01-21T18:44:11.916Z"
   },
   {
    "duration": 31,
    "start_time": "2022-01-21T18:44:11.986Z"
   },
   {
    "duration": 20,
    "start_time": "2022-01-21T18:44:12.020Z"
   },
   {
    "duration": 30,
    "start_time": "2022-01-21T18:44:12.042Z"
   },
   {
    "duration": 12,
    "start_time": "2022-01-21T18:44:12.074Z"
   },
   {
    "duration": 17,
    "start_time": "2022-01-21T18:44:12.087Z"
   },
   {
    "duration": 14,
    "start_time": "2022-01-21T18:44:12.106Z"
   },
   {
    "duration": 17,
    "start_time": "2022-01-21T18:44:12.121Z"
   },
   {
    "duration": 32,
    "start_time": "2022-01-21T18:44:12.140Z"
   },
   {
    "duration": 46,
    "start_time": "2022-01-21T18:44:12.174Z"
   },
   {
    "duration": 3,
    "start_time": "2022-01-21T18:44:12.222Z"
   },
   {
    "duration": 39,
    "start_time": "2022-01-21T18:44:12.227Z"
   },
   {
    "duration": 10,
    "start_time": "2022-01-21T18:44:12.269Z"
   },
   {
    "duration": 29,
    "start_time": "2022-01-21T18:44:12.281Z"
   },
   {
    "duration": 25,
    "start_time": "2022-01-21T18:44:12.312Z"
   },
   {
    "duration": 78,
    "start_time": "2022-01-21T18:44:12.339Z"
   },
   {
    "duration": 10,
    "start_time": "2022-01-21T18:44:12.419Z"
   },
   {
    "duration": 30,
    "start_time": "2022-01-21T18:44:12.431Z"
   },
   {
    "duration": 26,
    "start_time": "2022-01-21T18:44:12.463Z"
   },
   {
    "duration": 28,
    "start_time": "2022-01-21T18:44:12.491Z"
   },
   {
    "duration": 54,
    "start_time": "2022-01-21T18:44:12.521Z"
   },
   {
    "duration": 20,
    "start_time": "2022-01-21T18:44:12.577Z"
   },
   {
    "duration": 27,
    "start_time": "2022-01-21T18:44:12.599Z"
   },
   {
    "duration": 43,
    "start_time": "2022-01-21T18:44:12.628Z"
   },
   {
    "duration": 27,
    "start_time": "2022-01-21T18:44:12.673Z"
   },
   {
    "duration": 56,
    "start_time": "2022-01-21T18:44:12.702Z"
   },
   {
    "duration": 7,
    "start_time": "2022-01-21T18:44:12.760Z"
   },
   {
    "duration": 11,
    "start_time": "2022-01-21T18:44:12.769Z"
   },
   {
    "duration": 23,
    "start_time": "2022-01-21T18:44:12.782Z"
   },
   {
    "duration": 15,
    "start_time": "2022-01-21T18:44:12.807Z"
   },
   {
    "duration": 12,
    "start_time": "2022-01-21T18:44:12.824Z"
   },
   {
    "duration": 23,
    "start_time": "2022-01-21T18:44:12.838Z"
   },
   {
    "duration": 8,
    "start_time": "2022-01-21T18:44:12.863Z"
   },
   {
    "duration": 8,
    "start_time": "2022-01-21T18:44:12.872Z"
   },
   {
    "duration": 7,
    "start_time": "2022-01-21T18:44:12.881Z"
   },
   {
    "duration": 11,
    "start_time": "2022-01-21T18:44:12.890Z"
   },
   {
    "duration": 62,
    "start_time": "2022-01-21T18:44:12.908Z"
   },
   {
    "duration": 6,
    "start_time": "2022-01-21T18:44:12.973Z"
   },
   {
    "duration": 7,
    "start_time": "2022-01-21T18:44:12.981Z"
   },
   {
    "duration": 5,
    "start_time": "2022-01-21T18:44:12.990Z"
   },
   {
    "duration": 9,
    "start_time": "2022-01-21T18:44:12.996Z"
   },
   {
    "duration": 10,
    "start_time": "2022-01-21T18:44:13.007Z"
   },
   {
    "duration": 42,
    "start_time": "2022-01-21T18:44:13.019Z"
   },
   {
    "duration": 8,
    "start_time": "2022-01-21T18:44:13.063Z"
   },
   {
    "duration": 10,
    "start_time": "2022-01-21T18:44:13.072Z"
   },
   {
    "duration": 7,
    "start_time": "2022-01-21T18:44:13.083Z"
   },
   {
    "duration": 649,
    "start_time": "2022-01-21T18:44:13.092Z"
   },
   {
    "duration": -2571,
    "start_time": "2022-01-21T18:44:16.315Z"
   },
   {
    "duration": -2577,
    "start_time": "2022-01-21T18:44:16.322Z"
   },
   {
    "duration": -2582,
    "start_time": "2022-01-21T18:44:16.328Z"
   },
   {
    "duration": -2588,
    "start_time": "2022-01-21T18:44:16.335Z"
   },
   {
    "duration": -2593,
    "start_time": "2022-01-21T18:44:16.341Z"
   },
   {
    "duration": -2599,
    "start_time": "2022-01-21T18:44:16.348Z"
   },
   {
    "duration": -2604,
    "start_time": "2022-01-21T18:44:16.354Z"
   },
   {
    "duration": -2609,
    "start_time": "2022-01-21T18:44:16.361Z"
   },
   {
    "duration": -2614,
    "start_time": "2022-01-21T18:44:16.367Z"
   },
   {
    "duration": -2620,
    "start_time": "2022-01-21T18:44:16.374Z"
   },
   {
    "duration": -2625,
    "start_time": "2022-01-21T18:44:16.380Z"
   },
   {
    "duration": -2630,
    "start_time": "2022-01-21T18:44:16.386Z"
   },
   {
    "duration": -2636,
    "start_time": "2022-01-21T18:44:16.393Z"
   },
   {
    "duration": -2641,
    "start_time": "2022-01-21T18:44:16.399Z"
   },
   {
    "duration": -2646,
    "start_time": "2022-01-21T18:44:16.405Z"
   },
   {
    "duration": -2652,
    "start_time": "2022-01-21T18:44:16.412Z"
   },
   {
    "duration": -2698,
    "start_time": "2022-01-21T18:44:16.459Z"
   },
   {
    "duration": -2704,
    "start_time": "2022-01-21T18:44:16.466Z"
   },
   {
    "duration": -2710,
    "start_time": "2022-01-21T18:44:16.472Z"
   },
   {
    "duration": -2716,
    "start_time": "2022-01-21T18:44:16.479Z"
   },
   {
    "duration": -2722,
    "start_time": "2022-01-21T18:44:16.486Z"
   },
   {
    "duration": -2729,
    "start_time": "2022-01-21T18:44:16.493Z"
   },
   {
    "duration": -2734,
    "start_time": "2022-01-21T18:44:16.499Z"
   },
   {
    "duration": -2740,
    "start_time": "2022-01-21T18:44:16.506Z"
   },
   {
    "duration": -2746,
    "start_time": "2022-01-21T18:44:16.512Z"
   },
   {
    "duration": -2752,
    "start_time": "2022-01-21T18:44:16.519Z"
   },
   {
    "duration": -2758,
    "start_time": "2022-01-21T18:44:16.526Z"
   },
   {
    "duration": -2765,
    "start_time": "2022-01-21T18:44:16.534Z"
   },
   {
    "duration": -2771,
    "start_time": "2022-01-21T18:44:16.541Z"
   },
   {
    "duration": -2777,
    "start_time": "2022-01-21T18:44:16.548Z"
   },
   {
    "duration": -2782,
    "start_time": "2022-01-21T18:44:16.554Z"
   },
   {
    "duration": 6,
    "start_time": "2022-01-21T18:45:15.611Z"
   },
   {
    "duration": 13278,
    "start_time": "2022-01-21T18:45:18.472Z"
   },
   {
    "duration": 11,
    "start_time": "2022-01-21T18:45:34.807Z"
   },
   {
    "duration": 11,
    "start_time": "2022-01-21T18:47:16.145Z"
   },
   {
    "duration": 11,
    "start_time": "2022-01-21T18:48:10.255Z"
   },
   {
    "duration": 11,
    "start_time": "2022-01-21T18:48:42.807Z"
   },
   {
    "duration": 7,
    "start_time": "2022-01-21T18:50:01.855Z"
   },
   {
    "duration": 13196,
    "start_time": "2022-01-21T18:50:06.967Z"
   },
   {
    "duration": 12,
    "start_time": "2022-01-21T18:50:21.821Z"
   },
   {
    "duration": 12,
    "start_time": "2022-01-21T18:50:24.222Z"
   },
   {
    "duration": 5,
    "start_time": "2022-01-21T18:51:00.306Z"
   },
   {
    "duration": 13170,
    "start_time": "2022-01-21T18:51:03.812Z"
   },
   {
    "duration": 4953,
    "start_time": "2022-01-21T18:51:24.116Z"
   },
   {
    "duration": 12,
    "start_time": "2022-01-21T18:51:45.026Z"
   },
   {
    "duration": 12,
    "start_time": "2022-01-21T18:51:48.323Z"
   },
   {
    "duration": 13513,
    "start_time": "2022-01-21T18:53:02.607Z"
   },
   {
    "duration": 1076,
    "start_time": "2022-01-21T18:53:34.793Z"
   },
   {
    "duration": 4,
    "start_time": "2022-01-21T18:53:35.871Z"
   },
   {
    "duration": 456,
    "start_time": "2022-01-21T18:53:35.877Z"
   },
   {
    "duration": 3,
    "start_time": "2022-01-21T18:53:36.335Z"
   },
   {
    "duration": 26,
    "start_time": "2022-01-21T18:53:36.340Z"
   },
   {
    "duration": 34,
    "start_time": "2022-01-21T18:53:36.369Z"
   },
   {
    "duration": 28,
    "start_time": "2022-01-21T18:53:36.406Z"
   },
   {
    "duration": 7,
    "start_time": "2022-01-21T18:53:36.438Z"
   },
   {
    "duration": 33,
    "start_time": "2022-01-21T18:53:36.447Z"
   },
   {
    "duration": 27,
    "start_time": "2022-01-21T18:53:36.482Z"
   },
   {
    "duration": 28,
    "start_time": "2022-01-21T18:53:36.511Z"
   },
   {
    "duration": 23,
    "start_time": "2022-01-21T18:53:36.540Z"
   },
   {
    "duration": 40,
    "start_time": "2022-01-21T18:53:36.565Z"
   },
   {
    "duration": 19,
    "start_time": "2022-01-21T18:53:36.608Z"
   },
   {
    "duration": 40,
    "start_time": "2022-01-21T18:53:36.630Z"
   },
   {
    "duration": 48,
    "start_time": "2022-01-21T18:53:36.672Z"
   },
   {
    "duration": 22,
    "start_time": "2022-01-21T18:53:36.722Z"
   },
   {
    "duration": 31,
    "start_time": "2022-01-21T18:53:36.746Z"
   },
   {
    "duration": 13,
    "start_time": "2022-01-21T18:53:36.779Z"
   },
   {
    "duration": 43,
    "start_time": "2022-01-21T18:53:36.794Z"
   },
   {
    "duration": 22,
    "start_time": "2022-01-21T18:53:36.839Z"
   },
   {
    "duration": 131,
    "start_time": "2022-01-21T18:53:36.864Z"
   },
   {
    "duration": 16,
    "start_time": "2022-01-21T18:53:36.999Z"
   },
   {
    "duration": 23,
    "start_time": "2022-01-21T18:53:37.018Z"
   },
   {
    "duration": 27,
    "start_time": "2022-01-21T18:53:37.042Z"
   },
   {
    "duration": 44,
    "start_time": "2022-01-21T18:53:37.071Z"
   },
   {
    "duration": 24,
    "start_time": "2022-01-21T18:53:37.116Z"
   },
   {
    "duration": 39,
    "start_time": "2022-01-21T18:53:37.142Z"
   },
   {
    "duration": 69,
    "start_time": "2022-01-21T18:53:37.182Z"
   },
   {
    "duration": 18,
    "start_time": "2022-01-21T18:53:37.253Z"
   },
   {
    "duration": 41,
    "start_time": "2022-01-21T18:53:37.272Z"
   },
   {
    "duration": 55,
    "start_time": "2022-01-21T18:53:37.314Z"
   },
   {
    "duration": 34,
    "start_time": "2022-01-21T18:53:37.371Z"
   },
   {
    "duration": 27,
    "start_time": "2022-01-21T18:53:37.406Z"
   },
   {
    "duration": 34,
    "start_time": "2022-01-21T18:53:37.435Z"
   },
   {
    "duration": 27,
    "start_time": "2022-01-21T18:53:37.471Z"
   },
   {
    "duration": 38,
    "start_time": "2022-01-21T18:53:37.499Z"
   },
   {
    "duration": 31,
    "start_time": "2022-01-21T18:53:37.539Z"
   },
   {
    "duration": 40,
    "start_time": "2022-01-21T18:53:37.572Z"
   },
   {
    "duration": 32,
    "start_time": "2022-01-21T18:53:37.613Z"
   },
   {
    "duration": 71,
    "start_time": "2022-01-21T18:53:37.647Z"
   },
   {
    "duration": 3,
    "start_time": "2022-01-21T18:53:37.719Z"
   },
   {
    "duration": 27,
    "start_time": "2022-01-21T18:53:37.723Z"
   },
   {
    "duration": 30,
    "start_time": "2022-01-21T18:53:37.751Z"
   },
   {
    "duration": 46,
    "start_time": "2022-01-21T18:53:37.783Z"
   },
   {
    "duration": 19,
    "start_time": "2022-01-21T18:53:37.831Z"
   },
   {
    "duration": 54,
    "start_time": "2022-01-21T18:53:37.852Z"
   },
   {
    "duration": 7,
    "start_time": "2022-01-21T18:53:37.908Z"
   },
   {
    "duration": 33,
    "start_time": "2022-01-21T18:53:37.917Z"
   },
   {
    "duration": 39,
    "start_time": "2022-01-21T18:53:37.952Z"
   },
   {
    "duration": 25,
    "start_time": "2022-01-21T18:53:37.993Z"
   },
   {
    "duration": 39,
    "start_time": "2022-01-21T18:53:38.020Z"
   },
   {
    "duration": 6,
    "start_time": "2022-01-21T18:53:38.061Z"
   },
   {
    "duration": 33,
    "start_time": "2022-01-21T18:53:38.069Z"
   },
   {
    "duration": 41,
    "start_time": "2022-01-21T18:53:38.104Z"
   },
   {
    "duration": 29,
    "start_time": "2022-01-21T18:53:38.147Z"
   },
   {
    "duration": 41,
    "start_time": "2022-01-21T18:53:38.178Z"
   },
   {
    "duration": 20,
    "start_time": "2022-01-21T18:53:38.220Z"
   },
   {
    "duration": 41,
    "start_time": "2022-01-21T18:53:38.241Z"
   },
   {
    "duration": 44,
    "start_time": "2022-01-21T18:53:38.284Z"
   },
   {
    "duration": 39,
    "start_time": "2022-01-21T18:53:38.330Z"
   },
   {
    "duration": 34,
    "start_time": "2022-01-21T18:53:38.371Z"
   },
   {
    "duration": 41,
    "start_time": "2022-01-21T18:53:38.407Z"
   },
   {
    "duration": 30,
    "start_time": "2022-01-21T18:53:38.450Z"
   },
   {
    "duration": 30,
    "start_time": "2022-01-21T18:53:38.482Z"
   },
   {
    "duration": 38,
    "start_time": "2022-01-21T18:53:38.514Z"
   },
   {
    "duration": 34,
    "start_time": "2022-01-21T18:53:38.554Z"
   },
   {
    "duration": 37,
    "start_time": "2022-01-21T18:53:38.594Z"
   },
   {
    "duration": 21,
    "start_time": "2022-01-21T18:53:38.633Z"
   },
   {
    "duration": 37,
    "start_time": "2022-01-21T18:53:38.655Z"
   },
   {
    "duration": 44,
    "start_time": "2022-01-21T18:53:38.694Z"
   },
   {
    "duration": 44,
    "start_time": "2022-01-21T18:53:38.739Z"
   },
   {
    "duration": 29,
    "start_time": "2022-01-21T18:53:38.785Z"
   },
   {
    "duration": 30,
    "start_time": "2022-01-21T18:53:38.816Z"
   },
   {
    "duration": 32,
    "start_time": "2022-01-21T18:53:38.848Z"
   },
   {
    "duration": 28,
    "start_time": "2022-01-21T18:53:38.882Z"
   },
   {
    "duration": 24,
    "start_time": "2022-01-21T18:53:38.912Z"
   },
   {
    "duration": 13304,
    "start_time": "2022-01-21T18:53:38.938Z"
   },
   {
    "duration": 17,
    "start_time": "2022-01-21T18:53:52.243Z"
   },
   {
    "duration": 10,
    "start_time": "2022-01-21T18:53:52.262Z"
   },
   {
    "duration": 10,
    "start_time": "2022-01-21T18:53:52.274Z"
   },
   {
    "duration": 463,
    "start_time": "2022-01-21T18:53:52.286Z"
   },
   {
    "duration": 199,
    "start_time": "2022-01-21T18:53:52.752Z"
   },
   {
    "duration": 202,
    "start_time": "2022-01-21T18:53:52.952Z"
   },
   {
    "duration": 329,
    "start_time": "2022-01-21T18:53:53.160Z"
   },
   {
    "duration": 19,
    "start_time": "2022-01-21T18:53:53.490Z"
   },
   {
    "duration": 204,
    "start_time": "2022-01-21T18:53:53.511Z"
   },
   {
    "duration": 188,
    "start_time": "2022-01-21T18:53:53.717Z"
   },
   {
    "duration": 16,
    "start_time": "2022-01-21T18:53:53.906Z"
   },
   {
    "duration": 272,
    "start_time": "2022-01-21T18:53:53.924Z"
   },
   {
    "duration": 185,
    "start_time": "2022-01-21T18:53:54.198Z"
   },
   {
    "duration": 16,
    "start_time": "2022-01-21T18:53:54.384Z"
   },
   {
    "duration": 279,
    "start_time": "2022-01-21T18:53:54.402Z"
   },
   {
    "duration": 6,
    "start_time": "2022-01-21T18:53:54.677Z"
   },
   {
    "duration": -16,
    "start_time": "2022-01-21T18:53:54.700Z"
   },
   {
    "duration": -21,
    "start_time": "2022-01-21T18:53:54.706Z"
   },
   {
    "duration": -27,
    "start_time": "2022-01-21T18:53:54.713Z"
   },
   {
    "duration": -32,
    "start_time": "2022-01-21T18:53:54.719Z"
   },
   {
    "duration": -38,
    "start_time": "2022-01-21T18:53:54.726Z"
   },
   {
    "duration": -61,
    "start_time": "2022-01-21T18:53:54.750Z"
   },
   {
    "duration": -67,
    "start_time": "2022-01-21T18:53:54.757Z"
   },
   {
    "duration": -72,
    "start_time": "2022-01-21T18:53:54.763Z"
   },
   {
    "duration": -78,
    "start_time": "2022-01-21T18:53:54.770Z"
   },
   {
    "duration": -83,
    "start_time": "2022-01-21T18:53:54.776Z"
   },
   {
    "duration": -90,
    "start_time": "2022-01-21T18:53:54.784Z"
   },
   {
    "duration": -95,
    "start_time": "2022-01-21T18:53:54.790Z"
   },
   {
    "duration": -100,
    "start_time": "2022-01-21T18:53:54.796Z"
   },
   {
    "duration": -106,
    "start_time": "2022-01-21T18:53:54.803Z"
   },
   {
    "duration": -114,
    "start_time": "2022-01-21T18:53:54.811Z"
   },
   {
    "duration": -120,
    "start_time": "2022-01-21T18:53:54.818Z"
   },
   {
    "duration": 1073,
    "start_time": "2022-01-21T18:54:24.794Z"
   },
   {
    "duration": 2,
    "start_time": "2022-01-21T18:54:25.869Z"
   },
   {
    "duration": 428,
    "start_time": "2022-01-21T18:54:25.874Z"
   },
   {
    "duration": 2,
    "start_time": "2022-01-21T18:54:26.304Z"
   },
   {
    "duration": 10,
    "start_time": "2022-01-21T18:54:26.308Z"
   },
   {
    "duration": 15,
    "start_time": "2022-01-21T18:54:26.319Z"
   },
   {
    "duration": 16,
    "start_time": "2022-01-21T18:54:26.336Z"
   },
   {
    "duration": 7,
    "start_time": "2022-01-21T18:54:26.360Z"
   },
   {
    "duration": 10,
    "start_time": "2022-01-21T18:54:26.370Z"
   },
   {
    "duration": 15,
    "start_time": "2022-01-21T18:54:26.382Z"
   },
   {
    "duration": 18,
    "start_time": "2022-01-21T18:54:26.399Z"
   },
   {
    "duration": 5,
    "start_time": "2022-01-21T18:54:26.419Z"
   },
   {
    "duration": 48,
    "start_time": "2022-01-21T18:54:26.425Z"
   },
   {
    "duration": 19,
    "start_time": "2022-01-21T18:54:26.475Z"
   },
   {
    "duration": 40,
    "start_time": "2022-01-21T18:54:26.496Z"
   },
   {
    "duration": 70,
    "start_time": "2022-01-21T18:54:26.538Z"
   },
   {
    "duration": 22,
    "start_time": "2022-01-21T18:54:26.610Z"
   },
   {
    "duration": 38,
    "start_time": "2022-01-21T18:54:26.634Z"
   },
   {
    "duration": 8,
    "start_time": "2022-01-21T18:54:26.674Z"
   },
   {
    "duration": 20,
    "start_time": "2022-01-21T18:54:26.683Z"
   },
   {
    "duration": 15,
    "start_time": "2022-01-21T18:54:26.705Z"
   },
   {
    "duration": 147,
    "start_time": "2022-01-21T18:54:26.721Z"
   },
   {
    "duration": 23,
    "start_time": "2022-01-21T18:54:26.870Z"
   },
   {
    "duration": 13,
    "start_time": "2022-01-21T18:54:26.895Z"
   },
   {
    "duration": 26,
    "start_time": "2022-01-21T18:54:26.910Z"
   },
   {
    "duration": 44,
    "start_time": "2022-01-21T18:54:26.938Z"
   },
   {
    "duration": 12,
    "start_time": "2022-01-21T18:54:26.986Z"
   },
   {
    "duration": 13,
    "start_time": "2022-01-21T18:54:27.002Z"
   },
   {
    "duration": 66,
    "start_time": "2022-01-21T18:54:27.017Z"
   },
   {
    "duration": 21,
    "start_time": "2022-01-21T18:54:27.085Z"
   },
   {
    "duration": 12,
    "start_time": "2022-01-21T18:54:27.107Z"
   },
   {
    "duration": 52,
    "start_time": "2022-01-21T18:54:27.120Z"
   },
   {
    "duration": 22,
    "start_time": "2022-01-21T18:54:27.174Z"
   },
   {
    "duration": 13,
    "start_time": "2022-01-21T18:54:27.198Z"
   },
   {
    "duration": 12,
    "start_time": "2022-01-21T18:54:27.213Z"
   },
   {
    "duration": 39,
    "start_time": "2022-01-21T18:54:27.227Z"
   },
   {
    "duration": 11,
    "start_time": "2022-01-21T18:54:27.268Z"
   },
   {
    "duration": 7,
    "start_time": "2022-01-21T18:54:27.281Z"
   },
   {
    "duration": 12,
    "start_time": "2022-01-21T18:54:27.290Z"
   },
   {
    "duration": 13,
    "start_time": "2022-01-21T18:54:27.304Z"
   },
   {
    "duration": 72,
    "start_time": "2022-01-21T18:54:27.319Z"
   },
   {
    "duration": 4,
    "start_time": "2022-01-21T18:54:27.393Z"
   },
   {
    "duration": 7,
    "start_time": "2022-01-21T18:54:27.400Z"
   },
   {
    "duration": 10,
    "start_time": "2022-01-21T18:54:27.409Z"
   },
   {
    "duration": 53,
    "start_time": "2022-01-21T18:54:27.421Z"
   },
   {
    "duration": 19,
    "start_time": "2022-01-21T18:54:27.476Z"
   },
   {
    "duration": 41,
    "start_time": "2022-01-21T18:54:27.497Z"
   },
   {
    "duration": 25,
    "start_time": "2022-01-21T18:54:27.539Z"
   },
   {
    "duration": 9,
    "start_time": "2022-01-21T18:54:27.565Z"
   },
   {
    "duration": 18,
    "start_time": "2022-01-21T18:54:27.576Z"
   },
   {
    "duration": 12,
    "start_time": "2022-01-21T18:54:27.596Z"
   },
   {
    "duration": 25,
    "start_time": "2022-01-21T18:54:27.609Z"
   },
   {
    "duration": 7,
    "start_time": "2022-01-21T18:54:27.661Z"
   },
   {
    "duration": 11,
    "start_time": "2022-01-21T18:54:27.669Z"
   },
   {
    "duration": 24,
    "start_time": "2022-01-21T18:54:27.682Z"
   },
   {
    "duration": 10,
    "start_time": "2022-01-21T18:54:27.708Z"
   },
   {
    "duration": 49,
    "start_time": "2022-01-21T18:54:27.720Z"
   },
   {
    "duration": 8,
    "start_time": "2022-01-21T18:54:27.771Z"
   },
   {
    "duration": 10,
    "start_time": "2022-01-21T18:54:27.781Z"
   },
   {
    "duration": 13,
    "start_time": "2022-01-21T18:54:27.793Z"
   },
   {
    "duration": 14,
    "start_time": "2022-01-21T18:54:27.808Z"
   },
   {
    "duration": 40,
    "start_time": "2022-01-21T18:54:27.824Z"
   },
   {
    "duration": 19,
    "start_time": "2022-01-21T18:54:27.867Z"
   },
   {
    "duration": 10,
    "start_time": "2022-01-21T18:54:27.888Z"
   },
   {
    "duration": 11,
    "start_time": "2022-01-21T18:54:27.900Z"
   },
   {
    "duration": 10,
    "start_time": "2022-01-21T18:54:27.913Z"
   },
   {
    "duration": 9,
    "start_time": "2022-01-21T18:54:27.925Z"
   },
   {
    "duration": 49,
    "start_time": "2022-01-21T18:54:27.936Z"
   },
   {
    "duration": 8,
    "start_time": "2022-01-21T18:54:27.987Z"
   },
   {
    "duration": 8,
    "start_time": "2022-01-21T18:54:27.997Z"
   },
   {
    "duration": 6,
    "start_time": "2022-01-21T18:54:28.007Z"
   },
   {
    "duration": 9,
    "start_time": "2022-01-21T18:54:28.015Z"
   },
   {
    "duration": 16,
    "start_time": "2022-01-21T18:54:28.062Z"
   },
   {
    "duration": 9,
    "start_time": "2022-01-21T18:54:28.080Z"
   },
   {
    "duration": 10,
    "start_time": "2022-01-21T18:54:28.091Z"
   },
   {
    "duration": 9,
    "start_time": "2022-01-21T18:54:28.103Z"
   },
   {
    "duration": 5,
    "start_time": "2022-01-21T18:54:28.114Z"
   },
   {
    "duration": 13860,
    "start_time": "2022-01-21T18:54:28.121Z"
   },
   {
    "duration": 11,
    "start_time": "2022-01-21T18:54:41.983Z"
   },
   {
    "duration": 16,
    "start_time": "2022-01-21T18:54:41.996Z"
   },
   {
    "duration": 6,
    "start_time": "2022-01-21T18:54:42.018Z"
   },
   {
    "duration": 459,
    "start_time": "2022-01-21T18:54:42.026Z"
   },
   {
    "duration": 215,
    "start_time": "2022-01-21T18:54:42.487Z"
   },
   {
    "duration": 217,
    "start_time": "2022-01-21T18:54:42.704Z"
   },
   {
    "duration": 378,
    "start_time": "2022-01-21T18:54:42.923Z"
   },
   {
    "duration": 20,
    "start_time": "2022-01-21T18:54:43.303Z"
   },
   {
    "duration": 212,
    "start_time": "2022-01-21T18:54:43.325Z"
   },
   {
    "duration": 195,
    "start_time": "2022-01-21T18:54:43.539Z"
   },
   {
    "duration": 30,
    "start_time": "2022-01-21T18:54:43.737Z"
   },
   {
    "duration": 279,
    "start_time": "2022-01-21T18:54:43.769Z"
   },
   {
    "duration": 198,
    "start_time": "2022-01-21T18:54:44.050Z"
   },
   {
    "duration": 22,
    "start_time": "2022-01-21T18:54:44.250Z"
   },
   {
    "duration": 184,
    "start_time": "2022-01-21T18:54:44.273Z"
   },
   {
    "duration": 188,
    "start_time": "2022-01-21T18:54:44.458Z"
   },
   {
    "duration": 15,
    "start_time": "2022-01-21T18:54:44.647Z"
   },
   {
    "duration": 11,
    "start_time": "2022-01-21T18:54:44.663Z"
   },
   {
    "duration": 13,
    "start_time": "2022-01-21T18:54:44.675Z"
   },
   {
    "duration": 6,
    "start_time": "2022-01-21T18:54:44.689Z"
   },
   {
    "duration": 5,
    "start_time": "2022-01-21T18:54:44.697Z"
   },
   {
    "duration": 10,
    "start_time": "2022-01-21T18:54:44.703Z"
   },
   {
    "duration": 7,
    "start_time": "2022-01-21T18:54:44.715Z"
   },
   {
    "duration": 9,
    "start_time": "2022-01-21T18:54:44.724Z"
   },
   {
    "duration": 2,
    "start_time": "2022-01-21T18:54:44.735Z"
   },
   {
    "duration": 3,
    "start_time": "2022-01-21T18:54:44.761Z"
   },
   {
    "duration": 8,
    "start_time": "2022-01-21T18:54:44.766Z"
   },
   {
    "duration": 5,
    "start_time": "2022-01-21T18:54:44.776Z"
   },
   {
    "duration": 9,
    "start_time": "2022-01-21T18:54:44.782Z"
   },
   {
    "duration": 7,
    "start_time": "2022-01-21T18:55:50.557Z"
   },
   {
    "duration": 1088,
    "start_time": "2022-01-21T18:56:09.117Z"
   },
   {
    "duration": 3,
    "start_time": "2022-01-21T18:56:10.207Z"
   },
   {
    "duration": 477,
    "start_time": "2022-01-21T18:56:10.214Z"
   },
   {
    "duration": 3,
    "start_time": "2022-01-21T18:56:10.693Z"
   },
   {
    "duration": 50,
    "start_time": "2022-01-21T18:56:10.698Z"
   },
   {
    "duration": 44,
    "start_time": "2022-01-21T18:56:10.750Z"
   },
   {
    "duration": 40,
    "start_time": "2022-01-21T18:56:10.796Z"
   },
   {
    "duration": 45,
    "start_time": "2022-01-21T18:56:10.839Z"
   },
   {
    "duration": 15,
    "start_time": "2022-01-21T18:56:10.886Z"
   },
   {
    "duration": 49,
    "start_time": "2022-01-21T18:56:10.902Z"
   },
   {
    "duration": 35,
    "start_time": "2022-01-21T18:56:10.953Z"
   },
   {
    "duration": 44,
    "start_time": "2022-01-21T18:56:10.990Z"
   },
   {
    "duration": 57,
    "start_time": "2022-01-21T18:56:11.036Z"
   },
   {
    "duration": 23,
    "start_time": "2022-01-21T18:56:11.095Z"
   },
   {
    "duration": 49,
    "start_time": "2022-01-21T18:56:11.120Z"
   },
   {
    "duration": 31,
    "start_time": "2022-01-21T18:56:11.171Z"
   },
   {
    "duration": 14,
    "start_time": "2022-01-21T18:56:11.204Z"
   },
   {
    "duration": 49,
    "start_time": "2022-01-21T18:56:11.220Z"
   },
   {
    "duration": 24,
    "start_time": "2022-01-21T18:56:11.271Z"
   },
   {
    "duration": 47,
    "start_time": "2022-01-21T18:56:11.297Z"
   },
   {
    "duration": 22,
    "start_time": "2022-01-21T18:56:11.346Z"
   },
   {
    "duration": 104,
    "start_time": "2022-01-21T18:56:11.373Z"
   },
   {
    "duration": 16,
    "start_time": "2022-01-21T18:56:11.480Z"
   },
   {
    "duration": 30,
    "start_time": "2022-01-21T18:56:11.499Z"
   },
   {
    "duration": 16,
    "start_time": "2022-01-21T18:56:11.531Z"
   },
   {
    "duration": 23,
    "start_time": "2022-01-21T18:56:11.549Z"
   },
   {
    "duration": 12,
    "start_time": "2022-01-21T18:56:11.574Z"
   },
   {
    "duration": 30,
    "start_time": "2022-01-21T18:56:11.587Z"
   },
   {
    "duration": 53,
    "start_time": "2022-01-21T18:56:11.619Z"
   },
   {
    "duration": 19,
    "start_time": "2022-01-21T18:56:11.674Z"
   },
   {
    "duration": 19,
    "start_time": "2022-01-21T18:56:11.695Z"
   },
   {
    "duration": 46,
    "start_time": "2022-01-21T18:56:11.716Z"
   },
   {
    "duration": 22,
    "start_time": "2022-01-21T18:56:11.764Z"
   },
   {
    "duration": 24,
    "start_time": "2022-01-21T18:56:11.788Z"
   },
   {
    "duration": 22,
    "start_time": "2022-01-21T18:56:11.814Z"
   },
   {
    "duration": 22,
    "start_time": "2022-01-21T18:56:11.838Z"
   },
   {
    "duration": 14,
    "start_time": "2022-01-21T18:56:11.862Z"
   },
   {
    "duration": 9,
    "start_time": "2022-01-21T18:56:11.878Z"
   },
   {
    "duration": 17,
    "start_time": "2022-01-21T18:56:11.889Z"
   },
   {
    "duration": 14,
    "start_time": "2022-01-21T18:56:11.908Z"
   },
   {
    "duration": 77,
    "start_time": "2022-01-21T18:56:11.924Z"
   },
   {
    "duration": 3,
    "start_time": "2022-01-21T18:56:12.003Z"
   },
   {
    "duration": 11,
    "start_time": "2022-01-21T18:56:12.008Z"
   },
   {
    "duration": 9,
    "start_time": "2022-01-21T18:56:12.021Z"
   },
   {
    "duration": 46,
    "start_time": "2022-01-21T18:56:12.032Z"
   },
   {
    "duration": 20,
    "start_time": "2022-01-21T18:56:12.080Z"
   },
   {
    "duration": 40,
    "start_time": "2022-01-21T18:56:12.102Z"
   },
   {
    "duration": 9,
    "start_time": "2022-01-21T18:56:12.161Z"
   },
   {
    "duration": 7,
    "start_time": "2022-01-21T18:56:12.171Z"
   },
   {
    "duration": 18,
    "start_time": "2022-01-21T18:56:12.180Z"
   },
   {
    "duration": 12,
    "start_time": "2022-01-21T18:56:12.199Z"
   },
   {
    "duration": 48,
    "start_time": "2022-01-21T18:56:12.213Z"
   },
   {
    "duration": 7,
    "start_time": "2022-01-21T18:56:12.262Z"
   },
   {
    "duration": 8,
    "start_time": "2022-01-21T18:56:12.271Z"
   },
   {
    "duration": 25,
    "start_time": "2022-01-21T18:56:12.281Z"
   },
   {
    "duration": 10,
    "start_time": "2022-01-21T18:56:12.308Z"
   },
   {
    "duration": 53,
    "start_time": "2022-01-21T18:56:12.320Z"
   },
   {
    "duration": 7,
    "start_time": "2022-01-21T18:56:12.375Z"
   },
   {
    "duration": 11,
    "start_time": "2022-01-21T18:56:12.383Z"
   },
   {
    "duration": 12,
    "start_time": "2022-01-21T18:56:12.396Z"
   },
   {
    "duration": 12,
    "start_time": "2022-01-21T18:56:12.410Z"
   },
   {
    "duration": 38,
    "start_time": "2022-01-21T18:56:12.424Z"
   },
   {
    "duration": 14,
    "start_time": "2022-01-21T18:56:12.464Z"
   },
   {
    "duration": 9,
    "start_time": "2022-01-21T18:56:12.480Z"
   },
   {
    "duration": 8,
    "start_time": "2022-01-21T18:56:12.491Z"
   },
   {
    "duration": 7,
    "start_time": "2022-01-21T18:56:12.501Z"
   },
   {
    "duration": 12,
    "start_time": "2022-01-21T18:56:12.513Z"
   },
   {
    "duration": 54,
    "start_time": "2022-01-21T18:56:12.527Z"
   },
   {
    "duration": 8,
    "start_time": "2022-01-21T18:56:12.583Z"
   },
   {
    "duration": 7,
    "start_time": "2022-01-21T18:56:12.593Z"
   },
   {
    "duration": 6,
    "start_time": "2022-01-21T18:56:12.602Z"
   },
   {
    "duration": 12,
    "start_time": "2022-01-21T18:56:12.610Z"
   },
   {
    "duration": 39,
    "start_time": "2022-01-21T18:56:12.624Z"
   },
   {
    "duration": 7,
    "start_time": "2022-01-21T18:56:12.665Z"
   },
   {
    "duration": 9,
    "start_time": "2022-01-21T18:56:12.673Z"
   },
   {
    "duration": 7,
    "start_time": "2022-01-21T18:56:12.684Z"
   },
   {
    "duration": 8,
    "start_time": "2022-01-21T18:56:12.693Z"
   },
   {
    "duration": 13708,
    "start_time": "2022-01-21T18:56:12.703Z"
   },
   {
    "duration": 11,
    "start_time": "2022-01-21T18:56:26.413Z"
   },
   {
    "duration": 38,
    "start_time": "2022-01-21T18:56:26.426Z"
   },
   {
    "duration": 24,
    "start_time": "2022-01-21T18:56:26.466Z"
   },
   {
    "duration": 553,
    "start_time": "2022-01-21T18:56:26.492Z"
   },
   {
    "duration": 208,
    "start_time": "2022-01-21T18:56:27.047Z"
   },
   {
    "duration": 196,
    "start_time": "2022-01-21T18:56:27.257Z"
   },
   {
    "duration": 366,
    "start_time": "2022-01-21T18:56:27.454Z"
   },
   {
    "duration": 21,
    "start_time": "2022-01-21T18:56:27.821Z"
   },
   {
    "duration": 205,
    "start_time": "2022-01-21T18:56:27.843Z"
   },
   {
    "duration": 195,
    "start_time": "2022-01-21T18:56:28.049Z"
   },
   {
    "duration": 25,
    "start_time": "2022-01-21T18:56:28.246Z"
   },
   {
    "duration": 284,
    "start_time": "2022-01-21T18:56:28.273Z"
   },
   {
    "duration": 194,
    "start_time": "2022-01-21T18:56:28.559Z"
   },
   {
    "duration": 17,
    "start_time": "2022-01-21T18:56:28.755Z"
   },
   {
    "duration": 188,
    "start_time": "2022-01-21T18:56:28.774Z"
   },
   {
    "duration": 192,
    "start_time": "2022-01-21T18:56:28.964Z"
   },
   {
    "duration": 6,
    "start_time": "2022-01-21T18:56:29.160Z"
   },
   {
    "duration": 35,
    "start_time": "2022-01-21T18:56:29.167Z"
   },
   {
    "duration": 37,
    "start_time": "2022-01-21T18:56:29.204Z"
   },
   {
    "duration": 27,
    "start_time": "2022-01-21T18:56:29.243Z"
   },
   {
    "duration": 28,
    "start_time": "2022-01-21T18:56:29.272Z"
   },
   {
    "duration": 29,
    "start_time": "2022-01-21T18:56:29.301Z"
   },
   {
    "duration": 42,
    "start_time": "2022-01-21T18:56:29.331Z"
   },
   {
    "duration": 34,
    "start_time": "2022-01-21T18:56:29.375Z"
   },
   {
    "duration": 33,
    "start_time": "2022-01-21T18:56:29.410Z"
   },
   {
    "duration": 32,
    "start_time": "2022-01-21T18:56:29.445Z"
   },
   {
    "duration": 34,
    "start_time": "2022-01-21T18:56:29.479Z"
   },
   {
    "duration": 24,
    "start_time": "2022-01-21T18:56:29.515Z"
   },
   {
    "duration": 23,
    "start_time": "2022-01-21T18:56:29.540Z"
   },
   {
    "duration": 7,
    "start_time": "2022-01-21T18:58:10.755Z"
   },
   {
    "duration": 2007,
    "start_time": "2022-01-21T18:58:21.628Z"
   },
   {
    "duration": 3,
    "start_time": "2022-01-21T18:58:23.638Z"
   },
   {
    "duration": 453,
    "start_time": "2022-01-21T18:58:23.642Z"
   },
   {
    "duration": 3,
    "start_time": "2022-01-21T18:58:24.097Z"
   },
   {
    "duration": 40,
    "start_time": "2022-01-21T18:58:24.101Z"
   },
   {
    "duration": 69,
    "start_time": "2022-01-21T18:58:24.142Z"
   },
   {
    "duration": 36,
    "start_time": "2022-01-21T18:58:24.213Z"
   },
   {
    "duration": 31,
    "start_time": "2022-01-21T18:58:24.252Z"
   },
   {
    "duration": 28,
    "start_time": "2022-01-21T18:58:24.285Z"
   },
   {
    "duration": 50,
    "start_time": "2022-01-21T18:58:24.315Z"
   },
   {
    "duration": 26,
    "start_time": "2022-01-21T18:58:24.367Z"
   },
   {
    "duration": 29,
    "start_time": "2022-01-21T18:58:24.395Z"
   },
   {
    "duration": 41,
    "start_time": "2022-01-21T18:58:24.426Z"
   },
   {
    "duration": 28,
    "start_time": "2022-01-21T18:58:24.469Z"
   },
   {
    "duration": 40,
    "start_time": "2022-01-21T18:58:24.500Z"
   },
   {
    "duration": 40,
    "start_time": "2022-01-21T18:58:24.542Z"
   },
   {
    "duration": 17,
    "start_time": "2022-01-21T18:58:24.584Z"
   },
   {
    "duration": 30,
    "start_time": "2022-01-21T18:58:24.603Z"
   },
   {
    "duration": 19,
    "start_time": "2022-01-21T18:58:24.635Z"
   },
   {
    "duration": 27,
    "start_time": "2022-01-21T18:58:24.656Z"
   },
   {
    "duration": 26,
    "start_time": "2022-01-21T18:58:24.686Z"
   },
   {
    "duration": 121,
    "start_time": "2022-01-21T18:58:24.714Z"
   },
   {
    "duration": 16,
    "start_time": "2022-01-21T18:58:24.840Z"
   },
   {
    "duration": 29,
    "start_time": "2022-01-21T18:58:24.861Z"
   },
   {
    "duration": 31,
    "start_time": "2022-01-21T18:58:24.892Z"
   },
   {
    "duration": 54,
    "start_time": "2022-01-21T18:58:24.924Z"
   },
   {
    "duration": 26,
    "start_time": "2022-01-21T18:58:24.980Z"
   },
   {
    "duration": 26,
    "start_time": "2022-01-21T18:58:25.008Z"
   },
   {
    "duration": 78,
    "start_time": "2022-01-21T18:58:25.036Z"
   },
   {
    "duration": 17,
    "start_time": "2022-01-21T18:58:25.116Z"
   },
   {
    "duration": 49,
    "start_time": "2022-01-21T18:58:25.135Z"
   },
   {
    "duration": 47,
    "start_time": "2022-01-21T18:58:25.186Z"
   },
   {
    "duration": 26,
    "start_time": "2022-01-21T18:58:25.235Z"
   },
   {
    "duration": 54,
    "start_time": "2022-01-21T18:58:25.262Z"
   },
   {
    "duration": 31,
    "start_time": "2022-01-21T18:58:25.318Z"
   },
   {
    "duration": 39,
    "start_time": "2022-01-21T18:58:25.351Z"
   },
   {
    "duration": 27,
    "start_time": "2022-01-21T18:58:25.391Z"
   },
   {
    "duration": 44,
    "start_time": "2022-01-21T18:58:25.420Z"
   },
   {
    "duration": 34,
    "start_time": "2022-01-21T18:58:25.466Z"
   },
   {
    "duration": 21,
    "start_time": "2022-01-21T18:58:25.502Z"
   },
   {
    "duration": 61,
    "start_time": "2022-01-21T18:58:25.525Z"
   },
   {
    "duration": 2,
    "start_time": "2022-01-21T18:58:25.588Z"
   },
   {
    "duration": 35,
    "start_time": "2022-01-21T18:58:25.592Z"
   },
   {
    "duration": 20,
    "start_time": "2022-01-21T18:58:25.629Z"
   },
   {
    "duration": 39,
    "start_time": "2022-01-21T18:58:25.651Z"
   },
   {
    "duration": 20,
    "start_time": "2022-01-21T18:58:25.692Z"
   },
   {
    "duration": 57,
    "start_time": "2022-01-21T18:58:25.713Z"
   },
   {
    "duration": 6,
    "start_time": "2022-01-21T18:58:25.772Z"
   },
   {
    "duration": 27,
    "start_time": "2022-01-21T18:58:25.780Z"
   },
   {
    "duration": 51,
    "start_time": "2022-01-21T18:58:25.808Z"
   },
   {
    "duration": 15,
    "start_time": "2022-01-21T18:58:25.861Z"
   },
   {
    "duration": 39,
    "start_time": "2022-01-21T18:58:25.878Z"
   },
   {
    "duration": 7,
    "start_time": "2022-01-21T18:58:25.919Z"
   },
   {
    "duration": 37,
    "start_time": "2022-01-21T18:58:25.927Z"
   },
   {
    "duration": 29,
    "start_time": "2022-01-21T18:58:25.966Z"
   },
   {
    "duration": 23,
    "start_time": "2022-01-21T18:58:25.997Z"
   },
   {
    "duration": 47,
    "start_time": "2022-01-21T18:58:26.022Z"
   },
   {
    "duration": 7,
    "start_time": "2022-01-21T18:58:26.071Z"
   },
   {
    "duration": 30,
    "start_time": "2022-01-21T18:58:26.080Z"
   },
   {
    "duration": 21,
    "start_time": "2022-01-21T18:58:26.112Z"
   },
   {
    "duration": 37,
    "start_time": "2022-01-21T18:58:26.135Z"
   },
   {
    "duration": 23,
    "start_time": "2022-01-21T18:58:26.173Z"
   },
   {
    "duration": 40,
    "start_time": "2022-01-21T18:58:26.198Z"
   },
   {
    "duration": 34,
    "start_time": "2022-01-21T18:58:26.239Z"
   },
   {
    "duration": 31,
    "start_time": "2022-01-21T18:58:26.274Z"
   },
   {
    "duration": 43,
    "start_time": "2022-01-21T18:58:26.307Z"
   },
   {
    "duration": 26,
    "start_time": "2022-01-21T18:58:26.352Z"
   },
   {
    "duration": 49,
    "start_time": "2022-01-21T18:58:26.384Z"
   },
   {
    "duration": 26,
    "start_time": "2022-01-21T18:58:26.436Z"
   },
   {
    "duration": 20,
    "start_time": "2022-01-21T18:58:26.463Z"
   },
   {
    "duration": 37,
    "start_time": "2022-01-21T18:58:26.485Z"
   },
   {
    "duration": 49,
    "start_time": "2022-01-21T18:58:26.524Z"
   },
   {
    "duration": 38,
    "start_time": "2022-01-21T18:58:26.575Z"
   },
   {
    "duration": 23,
    "start_time": "2022-01-21T18:58:26.615Z"
   },
   {
    "duration": 38,
    "start_time": "2022-01-21T18:58:26.640Z"
   },
   {
    "duration": 33,
    "start_time": "2022-01-21T18:58:26.680Z"
   },
   {
    "duration": 26,
    "start_time": "2022-01-21T18:58:26.715Z"
   },
   {
    "duration": 574,
    "start_time": "2022-01-21T18:58:26.743Z"
   },
   {
    "duration": -1915,
    "start_time": "2022-01-21T18:58:29.234Z"
   },
   {
    "duration": -1922,
    "start_time": "2022-01-21T18:58:29.242Z"
   },
   {
    "duration": -1928,
    "start_time": "2022-01-21T18:58:29.250Z"
   },
   {
    "duration": -1933,
    "start_time": "2022-01-21T18:58:29.256Z"
   },
   {
    "duration": -1939,
    "start_time": "2022-01-21T18:58:29.264Z"
   },
   {
    "duration": -1944,
    "start_time": "2022-01-21T18:58:29.270Z"
   },
   {
    "duration": -1971,
    "start_time": "2022-01-21T18:58:29.299Z"
   },
   {
    "duration": -1976,
    "start_time": "2022-01-21T18:58:29.305Z"
   },
   {
    "duration": -1982,
    "start_time": "2022-01-21T18:58:29.312Z"
   },
   {
    "duration": -1986,
    "start_time": "2022-01-21T18:58:29.318Z"
   },
   {
    "duration": -1992,
    "start_time": "2022-01-21T18:58:29.325Z"
   },
   {
    "duration": -1998,
    "start_time": "2022-01-21T18:58:29.332Z"
   },
   {
    "duration": -2004,
    "start_time": "2022-01-21T18:58:29.339Z"
   },
   {
    "duration": -2010,
    "start_time": "2022-01-21T18:58:29.346Z"
   },
   {
    "duration": -2016,
    "start_time": "2022-01-21T18:58:29.353Z"
   },
   {
    "duration": -2021,
    "start_time": "2022-01-21T18:58:29.359Z"
   },
   {
    "duration": -2027,
    "start_time": "2022-01-21T18:58:29.367Z"
   },
   {
    "duration": -2033,
    "start_time": "2022-01-21T18:58:29.374Z"
   },
   {
    "duration": -2040,
    "start_time": "2022-01-21T18:58:29.382Z"
   },
   {
    "duration": -2046,
    "start_time": "2022-01-21T18:58:29.389Z"
   },
   {
    "duration": -2052,
    "start_time": "2022-01-21T18:58:29.396Z"
   },
   {
    "duration": -2057,
    "start_time": "2022-01-21T18:58:29.402Z"
   },
   {
    "duration": -2064,
    "start_time": "2022-01-21T18:58:29.410Z"
   },
   {
    "duration": -2068,
    "start_time": "2022-01-21T18:58:29.416Z"
   },
   {
    "duration": -2075,
    "start_time": "2022-01-21T18:58:29.424Z"
   },
   {
    "duration": -2080,
    "start_time": "2022-01-21T18:58:29.430Z"
   },
   {
    "duration": -2088,
    "start_time": "2022-01-21T18:58:29.439Z"
   },
   {
    "duration": -2093,
    "start_time": "2022-01-21T18:58:29.445Z"
   },
   {
    "duration": -2099,
    "start_time": "2022-01-21T18:58:29.452Z"
   },
   {
    "duration": 6,
    "start_time": "2022-01-21T19:02:50.934Z"
   },
   {
    "duration": 1216,
    "start_time": "2022-01-21T19:03:01.702Z"
   },
   {
    "duration": 3,
    "start_time": "2022-01-21T19:03:02.920Z"
   },
   {
    "duration": 427,
    "start_time": "2022-01-21T19:03:02.927Z"
   },
   {
    "duration": 3,
    "start_time": "2022-01-21T19:03:03.355Z"
   },
   {
    "duration": 17,
    "start_time": "2022-01-21T19:03:03.360Z"
   },
   {
    "duration": 24,
    "start_time": "2022-01-21T19:03:03.379Z"
   },
   {
    "duration": 14,
    "start_time": "2022-01-21T19:03:03.406Z"
   },
   {
    "duration": 11,
    "start_time": "2022-01-21T19:03:03.422Z"
   },
   {
    "duration": 10,
    "start_time": "2022-01-21T19:03:03.435Z"
   },
   {
    "duration": 17,
    "start_time": "2022-01-21T19:03:03.447Z"
   },
   {
    "duration": 7,
    "start_time": "2022-01-21T19:03:03.466Z"
   },
   {
    "duration": 7,
    "start_time": "2022-01-21T19:03:03.475Z"
   },
   {
    "duration": 23,
    "start_time": "2022-01-21T19:03:03.483Z"
   },
   {
    "duration": 14,
    "start_time": "2022-01-21T19:03:03.508Z"
   },
   {
    "duration": 54,
    "start_time": "2022-01-21T19:03:03.524Z"
   },
   {
    "duration": 33,
    "start_time": "2022-01-21T19:03:03.580Z"
   },
   {
    "duration": 15,
    "start_time": "2022-01-21T19:03:03.615Z"
   },
   {
    "duration": 41,
    "start_time": "2022-01-21T19:03:03.632Z"
   },
   {
    "duration": 5,
    "start_time": "2022-01-21T19:03:03.675Z"
   },
   {
    "duration": 19,
    "start_time": "2022-01-21T19:03:03.682Z"
   },
   {
    "duration": 15,
    "start_time": "2022-01-21T19:03:03.704Z"
   },
   {
    "duration": 121,
    "start_time": "2022-01-21T19:03:03.724Z"
   },
   {
    "duration": 25,
    "start_time": "2022-01-21T19:03:03.849Z"
   },
   {
    "duration": 15,
    "start_time": "2022-01-21T19:03:03.876Z"
   },
   {
    "duration": 19,
    "start_time": "2022-01-21T19:03:03.893Z"
   },
   {
    "duration": 28,
    "start_time": "2022-01-21T19:03:03.914Z"
   },
   {
    "duration": 26,
    "start_time": "2022-01-21T19:03:03.944Z"
   },
   {
    "duration": 12,
    "start_time": "2022-01-21T19:03:03.973Z"
   },
   {
    "duration": 70,
    "start_time": "2022-01-21T19:03:03.987Z"
   },
   {
    "duration": 21,
    "start_time": "2022-01-21T19:03:04.059Z"
   },
   {
    "duration": 22,
    "start_time": "2022-01-21T19:03:04.082Z"
   },
   {
    "duration": 40,
    "start_time": "2022-01-21T19:03:04.106Z"
   },
   {
    "duration": 31,
    "start_time": "2022-01-21T19:03:04.148Z"
   },
   {
    "duration": 14,
    "start_time": "2022-01-21T19:03:04.181Z"
   },
   {
    "duration": 13,
    "start_time": "2022-01-21T19:03:04.197Z"
   },
   {
    "duration": 12,
    "start_time": "2022-01-21T19:03:04.212Z"
   },
   {
    "duration": 35,
    "start_time": "2022-01-21T19:03:04.226Z"
   },
   {
    "duration": 8,
    "start_time": "2022-01-21T19:03:04.263Z"
   },
   {
    "duration": 17,
    "start_time": "2022-01-21T19:03:04.272Z"
   },
   {
    "duration": 14,
    "start_time": "2022-01-21T19:03:04.290Z"
   },
   {
    "duration": 66,
    "start_time": "2022-01-21T19:03:04.306Z"
   },
   {
    "duration": 3,
    "start_time": "2022-01-21T19:03:04.373Z"
   },
   {
    "duration": 12,
    "start_time": "2022-01-21T19:03:04.377Z"
   },
   {
    "duration": 17,
    "start_time": "2022-01-21T19:03:04.390Z"
   },
   {
    "duration": 30,
    "start_time": "2022-01-21T19:03:04.408Z"
   },
   {
    "duration": 38,
    "start_time": "2022-01-21T19:03:04.439Z"
   },
   {
    "duration": 43,
    "start_time": "2022-01-21T19:03:04.479Z"
   },
   {
    "duration": 8,
    "start_time": "2022-01-21T19:03:04.524Z"
   },
   {
    "duration": 27,
    "start_time": "2022-01-21T19:03:04.534Z"
   },
   {
    "duration": 20,
    "start_time": "2022-01-21T19:03:04.563Z"
   },
   {
    "duration": 14,
    "start_time": "2022-01-21T19:03:04.585Z"
   },
   {
    "duration": 28,
    "start_time": "2022-01-21T19:03:04.601Z"
   },
   {
    "duration": 36,
    "start_time": "2022-01-21T19:03:04.631Z"
   },
   {
    "duration": 10,
    "start_time": "2022-01-21T19:03:04.668Z"
   },
   {
    "duration": 21,
    "start_time": "2022-01-21T19:03:04.680Z"
   },
   {
    "duration": 10,
    "start_time": "2022-01-21T19:03:04.702Z"
   },
   {
    "duration": 46,
    "start_time": "2022-01-21T19:03:04.714Z"
   },
   {
    "duration": 7,
    "start_time": "2022-01-21T19:03:04.763Z"
   },
   {
    "duration": 7,
    "start_time": "2022-01-21T19:03:04.772Z"
   },
   {
    "duration": 11,
    "start_time": "2022-01-21T19:03:04.780Z"
   },
   {
    "duration": 11,
    "start_time": "2022-01-21T19:03:04.792Z"
   },
   {
    "duration": 11,
    "start_time": "2022-01-21T19:03:04.805Z"
   },
   {
    "duration": 10,
    "start_time": "2022-01-21T19:03:04.818Z"
   },
   {
    "duration": 9,
    "start_time": "2022-01-21T19:03:04.861Z"
   },
   {
    "duration": 8,
    "start_time": "2022-01-21T19:03:04.872Z"
   },
   {
    "duration": 7,
    "start_time": "2022-01-21T19:03:04.882Z"
   },
   {
    "duration": 10,
    "start_time": "2022-01-21T19:03:04.896Z"
   },
   {
    "duration": 53,
    "start_time": "2022-01-21T19:03:04.909Z"
   },
   {
    "duration": 7,
    "start_time": "2022-01-21T19:03:04.964Z"
   },
   {
    "duration": 20,
    "start_time": "2022-01-21T19:03:04.973Z"
   },
   {
    "duration": 9,
    "start_time": "2022-01-21T19:03:04.994Z"
   },
   {
    "duration": 11,
    "start_time": "2022-01-21T19:03:05.005Z"
   },
   {
    "duration": 19,
    "start_time": "2022-01-21T19:03:05.018Z"
   },
   {
    "duration": 8,
    "start_time": "2022-01-21T19:03:05.039Z"
   },
   {
    "duration": 14,
    "start_time": "2022-01-21T19:03:05.049Z"
   },
   {
    "duration": 13,
    "start_time": "2022-01-21T19:03:05.065Z"
   },
   {
    "duration": 7,
    "start_time": "2022-01-21T19:03:05.080Z"
   },
   {
    "duration": 524,
    "start_time": "2022-01-21T19:03:05.089Z"
   },
   {
    "duration": -2711,
    "start_time": "2022-01-21T19:03:08.326Z"
   },
   {
    "duration": -2717,
    "start_time": "2022-01-21T19:03:08.333Z"
   },
   {
    "duration": -2723,
    "start_time": "2022-01-21T19:03:08.340Z"
   },
   {
    "duration": -2729,
    "start_time": "2022-01-21T19:03:08.347Z"
   },
   {
    "duration": -2734,
    "start_time": "2022-01-21T19:03:08.353Z"
   },
   {
    "duration": -2740,
    "start_time": "2022-01-21T19:03:08.360Z"
   },
   {
    "duration": -2745,
    "start_time": "2022-01-21T19:03:08.366Z"
   },
   {
    "duration": -2750,
    "start_time": "2022-01-21T19:03:08.372Z"
   },
   {
    "duration": -2755,
    "start_time": "2022-01-21T19:03:08.378Z"
   },
   {
    "duration": -2761,
    "start_time": "2022-01-21T19:03:08.385Z"
   },
   {
    "duration": -2810,
    "start_time": "2022-01-21T19:03:08.435Z"
   },
   {
    "duration": -2817,
    "start_time": "2022-01-21T19:03:08.443Z"
   },
   {
    "duration": -2822,
    "start_time": "2022-01-21T19:03:08.449Z"
   },
   {
    "duration": -2829,
    "start_time": "2022-01-21T19:03:08.457Z"
   },
   {
    "duration": -2834,
    "start_time": "2022-01-21T19:03:08.463Z"
   },
   {
    "duration": -2840,
    "start_time": "2022-01-21T19:03:08.470Z"
   },
   {
    "duration": -2845,
    "start_time": "2022-01-21T19:03:08.476Z"
   },
   {
    "duration": -2851,
    "start_time": "2022-01-21T19:03:08.483Z"
   },
   {
    "duration": -2856,
    "start_time": "2022-01-21T19:03:08.489Z"
   },
   {
    "duration": -2862,
    "start_time": "2022-01-21T19:03:08.496Z"
   },
   {
    "duration": -2868,
    "start_time": "2022-01-21T19:03:08.503Z"
   },
   {
    "duration": -2874,
    "start_time": "2022-01-21T19:03:08.510Z"
   },
   {
    "duration": -2879,
    "start_time": "2022-01-21T19:03:08.516Z"
   },
   {
    "duration": -2885,
    "start_time": "2022-01-21T19:03:08.523Z"
   },
   {
    "duration": -2890,
    "start_time": "2022-01-21T19:03:08.529Z"
   },
   {
    "duration": -2929,
    "start_time": "2022-01-21T19:03:08.569Z"
   },
   {
    "duration": -2934,
    "start_time": "2022-01-21T19:03:08.575Z"
   },
   {
    "duration": -2940,
    "start_time": "2022-01-21T19:03:08.582Z"
   },
   {
    "duration": -2945,
    "start_time": "2022-01-21T19:03:08.588Z"
   },
   {
    "duration": 206,
    "start_time": "2022-01-21T19:04:09.457Z"
   },
   {
    "duration": 230,
    "start_time": "2022-01-21T19:04:21.036Z"
   },
   {
    "duration": 204,
    "start_time": "2022-01-21T19:04:38.077Z"
   },
   {
    "duration": 3,
    "start_time": "2022-01-21T19:04:54.989Z"
   },
   {
    "duration": 14,
    "start_time": "2022-01-21T19:04:54.994Z"
   },
   {
    "duration": 436,
    "start_time": "2022-01-21T19:04:55.011Z"
   },
   {
    "duration": 3,
    "start_time": "2022-01-21T19:04:55.449Z"
   },
   {
    "duration": 33,
    "start_time": "2022-01-21T19:04:55.454Z"
   },
   {
    "duration": 34,
    "start_time": "2022-01-21T19:04:55.489Z"
   },
   {
    "duration": 27,
    "start_time": "2022-01-21T19:04:55.525Z"
   },
   {
    "duration": 20,
    "start_time": "2022-01-21T19:04:55.554Z"
   },
   {
    "duration": 44,
    "start_time": "2022-01-21T19:04:55.576Z"
   },
   {
    "duration": 34,
    "start_time": "2022-01-21T19:04:55.622Z"
   },
   {
    "duration": 21,
    "start_time": "2022-01-21T19:04:55.658Z"
   },
   {
    "duration": 24,
    "start_time": "2022-01-21T19:04:55.681Z"
   },
   {
    "duration": 34,
    "start_time": "2022-01-21T19:04:55.708Z"
   },
   {
    "duration": 13,
    "start_time": "2022-01-21T19:04:55.743Z"
   },
   {
    "duration": 30,
    "start_time": "2022-01-21T19:04:55.758Z"
   },
   {
    "duration": 31,
    "start_time": "2022-01-21T19:04:55.790Z"
   },
   {
    "duration": 17,
    "start_time": "2022-01-21T19:04:55.823Z"
   },
   {
    "duration": 33,
    "start_time": "2022-01-21T19:04:55.844Z"
   },
   {
    "duration": 12,
    "start_time": "2022-01-21T19:04:55.880Z"
   },
   {
    "duration": 35,
    "start_time": "2022-01-21T19:04:55.893Z"
   },
   {
    "duration": 15,
    "start_time": "2022-01-21T19:04:55.929Z"
   },
   {
    "duration": 91,
    "start_time": "2022-01-21T19:04:55.945Z"
   },
   {
    "duration": 25,
    "start_time": "2022-01-21T19:04:56.038Z"
   },
   {
    "duration": 11,
    "start_time": "2022-01-21T19:04:56.065Z"
   },
   {
    "duration": 48,
    "start_time": "2022-01-21T19:04:56.077Z"
   },
   {
    "duration": 18,
    "start_time": "2022-01-21T19:04:56.128Z"
   },
   {
    "duration": 11,
    "start_time": "2022-01-21T19:04:56.148Z"
   },
   {
    "duration": 14,
    "start_time": "2022-01-21T19:04:56.161Z"
   },
   {
    "duration": 41,
    "start_time": "2022-01-21T19:04:56.176Z"
   },
   {
    "duration": 18,
    "start_time": "2022-01-21T19:04:56.219Z"
   },
   {
    "duration": 31,
    "start_time": "2022-01-21T19:04:56.239Z"
   },
   {
    "duration": 26,
    "start_time": "2022-01-21T19:04:56.272Z"
   },
   {
    "duration": 21,
    "start_time": "2022-01-21T19:04:56.300Z"
   },
   {
    "duration": 38,
    "start_time": "2022-01-21T19:04:56.323Z"
   },
   {
    "duration": 14,
    "start_time": "2022-01-21T19:04:56.363Z"
   },
   {
    "duration": 10,
    "start_time": "2022-01-21T19:04:56.379Z"
   },
   {
    "duration": 10,
    "start_time": "2022-01-21T19:04:56.391Z"
   },
   {
    "duration": 9,
    "start_time": "2022-01-21T19:04:56.403Z"
   },
   {
    "duration": 13,
    "start_time": "2022-01-21T19:04:56.414Z"
   },
   {
    "duration": 13,
    "start_time": "2022-01-21T19:04:56.462Z"
   },
   {
    "duration": 49,
    "start_time": "2022-01-21T19:04:56.477Z"
   },
   {
    "duration": 3,
    "start_time": "2022-01-21T19:04:56.528Z"
   },
   {
    "duration": 29,
    "start_time": "2022-01-21T19:04:56.533Z"
   },
   {
    "duration": 11,
    "start_time": "2022-01-21T19:04:56.564Z"
   },
   {
    "duration": 25,
    "start_time": "2022-01-21T19:04:56.577Z"
   },
   {
    "duration": 19,
    "start_time": "2022-01-21T19:04:56.604Z"
   },
   {
    "duration": 62,
    "start_time": "2022-01-21T19:04:56.625Z"
   },
   {
    "duration": 8,
    "start_time": "2022-01-21T19:04:56.688Z"
   },
   {
    "duration": 7,
    "start_time": "2022-01-21T19:04:56.698Z"
   },
   {
    "duration": 18,
    "start_time": "2022-01-21T19:04:56.707Z"
   },
   {
    "duration": 37,
    "start_time": "2022-01-21T19:04:56.730Z"
   },
   {
    "duration": 26,
    "start_time": "2022-01-21T19:04:56.769Z"
   },
   {
    "duration": 7,
    "start_time": "2022-01-21T19:04:56.797Z"
   },
   {
    "duration": 8,
    "start_time": "2022-01-21T19:04:56.805Z"
   },
   {
    "duration": 50,
    "start_time": "2022-01-21T19:04:56.815Z"
   },
   {
    "duration": 10,
    "start_time": "2022-01-21T19:04:56.867Z"
   },
   {
    "duration": 26,
    "start_time": "2022-01-21T19:04:56.879Z"
   },
   {
    "duration": 9,
    "start_time": "2022-01-21T19:04:56.907Z"
   },
   {
    "duration": 17,
    "start_time": "2022-01-21T19:04:56.917Z"
   },
   {
    "duration": 25,
    "start_time": "2022-01-21T19:04:56.936Z"
   },
   {
    "duration": 13,
    "start_time": "2022-01-21T19:04:56.963Z"
   },
   {
    "duration": 10,
    "start_time": "2022-01-21T19:04:56.977Z"
   },
   {
    "duration": 10,
    "start_time": "2022-01-21T19:04:56.989Z"
   },
   {
    "duration": 9,
    "start_time": "2022-01-21T19:04:57.000Z"
   },
   {
    "duration": 10,
    "start_time": "2022-01-21T19:04:57.010Z"
   },
   {
    "duration": 44,
    "start_time": "2022-01-21T19:04:57.021Z"
   },
   {
    "duration": 31,
    "start_time": "2022-01-21T19:04:57.067Z"
   },
   {
    "duration": 41,
    "start_time": "2022-01-21T19:04:57.099Z"
   },
   {
    "duration": 7,
    "start_time": "2022-01-21T19:04:57.141Z"
   },
   {
    "duration": 23,
    "start_time": "2022-01-21T19:04:57.149Z"
   },
   {
    "duration": 22,
    "start_time": "2022-01-21T19:04:57.174Z"
   },
   {
    "duration": 18,
    "start_time": "2022-01-21T19:04:57.197Z"
   },
   {
    "duration": 20,
    "start_time": "2022-01-21T19:04:57.217Z"
   },
   {
    "duration": 32,
    "start_time": "2022-01-21T19:04:57.239Z"
   },
   {
    "duration": 17,
    "start_time": "2022-01-21T19:04:57.273Z"
   },
   {
    "duration": 26,
    "start_time": "2022-01-21T19:04:57.292Z"
   },
   {
    "duration": 217,
    "start_time": "2022-01-21T19:05:00.568Z"
   },
   {
    "duration": 5,
    "start_time": "2022-01-21T19:05:12.258Z"
   },
   {
    "duration": 6,
    "start_time": "2022-01-21T19:05:25.592Z"
   },
   {
    "duration": 207,
    "start_time": "2022-01-21T19:05:39.153Z"
   },
   {
    "duration": 206,
    "start_time": "2022-01-21T19:05:49.227Z"
   },
   {
    "duration": 217,
    "start_time": "2022-01-21T19:06:03.163Z"
   },
   {
    "duration": 79,
    "start_time": "2022-01-21T19:06:11.811Z"
   },
   {
    "duration": 224,
    "start_time": "2022-01-21T19:06:17.146Z"
   },
   {
    "duration": 203,
    "start_time": "2022-01-21T19:06:33.611Z"
   },
   {
    "duration": 200,
    "start_time": "2022-01-21T19:07:53.501Z"
   },
   {
    "duration": 5550,
    "start_time": "2022-01-21T19:08:09.286Z"
   },
   {
    "duration": 6,
    "start_time": "2022-01-21T19:08:34.961Z"
   },
   {
    "duration": 216,
    "start_time": "2022-01-21T19:09:09.702Z"
   },
   {
    "duration": 217,
    "start_time": "2022-01-21T19:09:21.032Z"
   },
   {
    "duration": 5009,
    "start_time": "2022-01-21T19:09:24.098Z"
   },
   {
    "duration": 5115,
    "start_time": "2022-01-21T19:09:53.876Z"
   },
   {
    "duration": 6,
    "start_time": "2022-01-21T19:10:59.909Z"
   },
   {
    "duration": 6,
    "start_time": "2022-01-21T19:11:26.392Z"
   },
   {
    "duration": 1124,
    "start_time": "2022-01-21T19:11:32.433Z"
   },
   {
    "duration": 2,
    "start_time": "2022-01-21T19:11:33.561Z"
   },
   {
    "duration": 458,
    "start_time": "2022-01-21T19:11:33.568Z"
   },
   {
    "duration": 3,
    "start_time": "2022-01-21T19:11:34.028Z"
   },
   {
    "duration": 34,
    "start_time": "2022-01-21T19:11:34.032Z"
   },
   {
    "duration": 41,
    "start_time": "2022-01-21T19:11:34.068Z"
   },
   {
    "duration": 43,
    "start_time": "2022-01-21T19:11:34.112Z"
   },
   {
    "duration": 52,
    "start_time": "2022-01-21T19:11:34.157Z"
   },
   {
    "duration": 18,
    "start_time": "2022-01-21T19:11:34.211Z"
   },
   {
    "duration": 13,
    "start_time": "2022-01-21T19:11:34.231Z"
   },
   {
    "duration": 8,
    "start_time": "2022-01-21T19:11:34.246Z"
   },
   {
    "duration": 4,
    "start_time": "2022-01-21T19:11:34.255Z"
   },
   {
    "duration": 25,
    "start_time": "2022-01-21T19:11:34.261Z"
   },
   {
    "duration": 13,
    "start_time": "2022-01-21T19:11:34.287Z"
   },
   {
    "duration": 30,
    "start_time": "2022-01-21T19:11:34.302Z"
   },
   {
    "duration": 58,
    "start_time": "2022-01-21T19:11:34.334Z"
   },
   {
    "duration": 17,
    "start_time": "2022-01-21T19:11:34.394Z"
   },
   {
    "duration": 15,
    "start_time": "2022-01-21T19:11:34.413Z"
   },
   {
    "duration": 34,
    "start_time": "2022-01-21T19:11:34.430Z"
   },
   {
    "duration": 19,
    "start_time": "2022-01-21T19:11:34.466Z"
   },
   {
    "duration": 15,
    "start_time": "2022-01-21T19:11:34.487Z"
   },
   {
    "duration": 122,
    "start_time": "2022-01-21T19:11:34.507Z"
   },
   {
    "duration": 15,
    "start_time": "2022-01-21T19:11:34.633Z"
   },
   {
    "duration": 10,
    "start_time": "2022-01-21T19:11:34.660Z"
   },
   {
    "duration": 18,
    "start_time": "2022-01-21T19:11:34.672Z"
   },
   {
    "duration": 19,
    "start_time": "2022-01-21T19:11:34.691Z"
   },
   {
    "duration": 11,
    "start_time": "2022-01-21T19:11:34.711Z"
   },
   {
    "duration": 38,
    "start_time": "2022-01-21T19:11:34.724Z"
   },
   {
    "duration": 39,
    "start_time": "2022-01-21T19:11:34.763Z"
   },
   {
    "duration": 18,
    "start_time": "2022-01-21T19:11:34.804Z"
   },
   {
    "duration": 12,
    "start_time": "2022-01-21T19:11:34.824Z"
   },
   {
    "duration": 29,
    "start_time": "2022-01-21T19:11:34.861Z"
   },
   {
    "duration": 23,
    "start_time": "2022-01-21T19:11:34.892Z"
   },
   {
    "duration": 13,
    "start_time": "2022-01-21T19:11:34.916Z"
   },
   {
    "duration": 38,
    "start_time": "2022-01-21T19:11:34.931Z"
   },
   {
    "duration": 12,
    "start_time": "2022-01-21T19:11:34.971Z"
   },
   {
    "duration": 12,
    "start_time": "2022-01-21T19:11:34.985Z"
   },
   {
    "duration": 10,
    "start_time": "2022-01-21T19:11:34.998Z"
   },
   {
    "duration": 15,
    "start_time": "2022-01-21T19:11:35.010Z"
   },
   {
    "duration": 45,
    "start_time": "2022-01-21T19:11:35.027Z"
   },
   {
    "duration": 45,
    "start_time": "2022-01-21T19:11:35.074Z"
   },
   {
    "duration": 2,
    "start_time": "2022-01-21T19:11:35.121Z"
   },
   {
    "duration": 10,
    "start_time": "2022-01-21T19:11:35.125Z"
   },
   {
    "duration": 29,
    "start_time": "2022-01-21T19:11:35.136Z"
   },
   {
    "duration": 25,
    "start_time": "2022-01-21T19:11:35.167Z"
   },
   {
    "duration": 18,
    "start_time": "2022-01-21T19:11:35.193Z"
   },
   {
    "duration": 61,
    "start_time": "2022-01-21T19:11:35.212Z"
   },
   {
    "duration": 8,
    "start_time": "2022-01-21T19:11:35.275Z"
   },
   {
    "duration": 8,
    "start_time": "2022-01-21T19:11:35.285Z"
   },
   {
    "duration": 19,
    "start_time": "2022-01-21T19:11:35.295Z"
   },
   {
    "duration": 14,
    "start_time": "2022-01-21T19:11:35.316Z"
   },
   {
    "duration": 48,
    "start_time": "2022-01-21T19:11:35.332Z"
   },
   {
    "duration": 8,
    "start_time": "2022-01-21T19:11:35.381Z"
   },
   {
    "duration": 19,
    "start_time": "2022-01-21T19:11:35.391Z"
   },
   {
    "duration": 26,
    "start_time": "2022-01-21T19:11:35.412Z"
   },
   {
    "duration": 21,
    "start_time": "2022-01-21T19:11:35.440Z"
   },
   {
    "duration": 24,
    "start_time": "2022-01-21T19:11:35.463Z"
   },
   {
    "duration": 8,
    "start_time": "2022-01-21T19:11:35.489Z"
   },
   {
    "duration": 7,
    "start_time": "2022-01-21T19:11:35.499Z"
   },
   {
    "duration": 10,
    "start_time": "2022-01-21T19:11:35.508Z"
   },
   {
    "duration": 50,
    "start_time": "2022-01-21T19:11:35.520Z"
   },
   {
    "duration": 10,
    "start_time": "2022-01-21T19:11:35.572Z"
   },
   {
    "duration": 9,
    "start_time": "2022-01-21T19:11:35.584Z"
   },
   {
    "duration": 14,
    "start_time": "2022-01-21T19:11:35.595Z"
   },
   {
    "duration": 8,
    "start_time": "2022-01-21T19:11:35.611Z"
   },
   {
    "duration": 8,
    "start_time": "2022-01-21T19:11:35.621Z"
   },
   {
    "duration": 10,
    "start_time": "2022-01-21T19:11:35.664Z"
   },
   {
    "duration": 24,
    "start_time": "2022-01-21T19:11:35.677Z"
   },
   {
    "duration": 6,
    "start_time": "2022-01-21T19:11:35.703Z"
   },
   {
    "duration": 6,
    "start_time": "2022-01-21T19:11:35.711Z"
   },
   {
    "duration": 5,
    "start_time": "2022-01-21T19:11:35.718Z"
   },
   {
    "duration": 42,
    "start_time": "2022-01-21T19:11:35.725Z"
   },
   {
    "duration": 13,
    "start_time": "2022-01-21T19:11:35.769Z"
   },
   {
    "duration": 16,
    "start_time": "2022-01-21T19:11:35.784Z"
   },
   {
    "duration": 16,
    "start_time": "2022-01-21T19:11:35.802Z"
   },
   {
    "duration": 8,
    "start_time": "2022-01-21T19:11:35.820Z"
   },
   {
    "duration": 9,
    "start_time": "2022-01-21T19:11:35.830Z"
   },
   {
    "duration": 13533,
    "start_time": "2022-01-21T19:11:35.841Z"
   },
   {
    "duration": 11,
    "start_time": "2022-01-21T19:11:49.375Z"
   },
   {
    "duration": 13,
    "start_time": "2022-01-21T19:11:49.387Z"
   },
   {
    "duration": 6,
    "start_time": "2022-01-21T19:11:49.401Z"
   },
   {
    "duration": 496,
    "start_time": "2022-01-21T19:11:49.408Z"
   },
   {
    "duration": 213,
    "start_time": "2022-01-21T19:11:49.906Z"
   },
   {
    "duration": 207,
    "start_time": "2022-01-21T19:11:50.121Z"
   },
   {
    "duration": 356,
    "start_time": "2022-01-21T19:11:50.330Z"
   },
   {
    "duration": 20,
    "start_time": "2022-01-21T19:11:50.689Z"
   },
   {
    "duration": 214,
    "start_time": "2022-01-21T19:11:50.711Z"
   },
   {
    "duration": 202,
    "start_time": "2022-01-21T19:11:50.927Z"
   },
   {
    "duration": 17,
    "start_time": "2022-01-21T19:11:51.131Z"
   },
   {
    "duration": 360,
    "start_time": "2022-01-21T19:11:51.161Z"
   },
   {
    "duration": 231,
    "start_time": "2022-01-21T19:11:51.523Z"
   },
   {
    "duration": 18,
    "start_time": "2022-01-21T19:11:51.760Z"
   },
   {
    "duration": 213,
    "start_time": "2022-01-21T19:11:51.780Z"
   },
   {
    "duration": 202,
    "start_time": "2022-01-21T19:11:51.995Z"
   },
   {
    "duration": 6,
    "start_time": "2022-01-21T19:11:52.199Z"
   },
   {
    "duration": 29,
    "start_time": "2022-01-21T19:11:52.207Z"
   },
   {
    "duration": 31,
    "start_time": "2022-01-21T19:11:52.238Z"
   },
   {
    "duration": 28,
    "start_time": "2022-01-21T19:11:52.271Z"
   },
   {
    "duration": 20,
    "start_time": "2022-01-21T19:11:52.301Z"
   },
   {
    "duration": 35,
    "start_time": "2022-01-21T19:11:52.323Z"
   },
   {
    "duration": 36,
    "start_time": "2022-01-21T19:11:52.360Z"
   },
   {
    "duration": 20,
    "start_time": "2022-01-21T19:11:52.398Z"
   },
   {
    "duration": 13,
    "start_time": "2022-01-21T19:11:52.420Z"
   },
   {
    "duration": 35,
    "start_time": "2022-01-21T19:11:52.435Z"
   },
   {
    "duration": 32,
    "start_time": "2022-01-21T19:11:52.472Z"
   },
   {
    "duration": 50,
    "start_time": "2022-01-21T19:11:52.506Z"
   },
   {
    "duration": 42,
    "start_time": "2022-01-21T19:11:52.558Z"
   },
   {
    "duration": 347,
    "start_time": "2022-01-21T19:13:49.629Z"
   },
   {
    "duration": 654,
    "start_time": "2022-01-21T19:14:43.877Z"
   },
   {
    "duration": 358,
    "start_time": "2022-01-21T19:15:33.574Z"
   },
   {
    "duration": 345,
    "start_time": "2022-01-21T19:15:39.240Z"
   },
   {
    "duration": 432,
    "start_time": "2022-01-21T19:15:43.271Z"
   },
   {
    "duration": 358,
    "start_time": "2022-01-21T19:15:52.830Z"
   },
   {
    "duration": 372,
    "start_time": "2022-01-21T19:16:25.625Z"
   },
   {
    "duration": 332,
    "start_time": "2022-01-21T19:17:05.034Z"
   },
   {
    "duration": 356,
    "start_time": "2022-01-21T19:17:21.581Z"
   },
   {
    "duration": 368,
    "start_time": "2022-01-21T19:18:30.729Z"
   },
   {
    "duration": 459,
    "start_time": "2022-01-21T19:19:43.470Z"
   },
   {
    "duration": 325,
    "start_time": "2022-01-21T19:21:13.512Z"
   },
   {
    "duration": 279,
    "start_time": "2022-01-21T19:21:20.212Z"
   },
   {
    "duration": 344,
    "start_time": "2022-01-21T19:21:27.707Z"
   },
   {
    "duration": 1069,
    "start_time": "2022-01-21T19:23:46.609Z"
   },
   {
    "duration": 4,
    "start_time": "2022-01-21T19:23:47.680Z"
   },
   {
    "duration": 444,
    "start_time": "2022-01-21T19:23:47.686Z"
   },
   {
    "duration": 4,
    "start_time": "2022-01-21T19:23:48.132Z"
   },
   {
    "duration": 10,
    "start_time": "2022-01-21T19:23:48.137Z"
   },
   {
    "duration": 17,
    "start_time": "2022-01-21T19:23:48.149Z"
   },
   {
    "duration": 14,
    "start_time": "2022-01-21T19:23:48.167Z"
   },
   {
    "duration": 7,
    "start_time": "2022-01-21T19:23:48.183Z"
   },
   {
    "duration": 12,
    "start_time": "2022-01-21T19:23:48.192Z"
   },
   {
    "duration": 17,
    "start_time": "2022-01-21T19:23:48.205Z"
   },
   {
    "duration": 10,
    "start_time": "2022-01-21T19:23:48.224Z"
   },
   {
    "duration": 24,
    "start_time": "2022-01-21T19:23:48.236Z"
   },
   {
    "duration": 20,
    "start_time": "2022-01-21T19:23:48.262Z"
   },
   {
    "duration": 16,
    "start_time": "2022-01-21T19:23:48.284Z"
   },
   {
    "duration": 28,
    "start_time": "2022-01-21T19:23:48.301Z"
   },
   {
    "duration": 52,
    "start_time": "2022-01-21T19:23:48.331Z"
   },
   {
    "duration": 15,
    "start_time": "2022-01-21T19:23:48.385Z"
   },
   {
    "duration": 17,
    "start_time": "2022-01-21T19:23:48.402Z"
   },
   {
    "duration": 6,
    "start_time": "2022-01-21T19:23:48.420Z"
   },
   {
    "duration": 46,
    "start_time": "2022-01-21T19:23:48.427Z"
   },
   {
    "duration": 13,
    "start_time": "2022-01-21T19:23:48.475Z"
   },
   {
    "duration": 101,
    "start_time": "2022-01-21T19:23:48.489Z"
   },
   {
    "duration": 16,
    "start_time": "2022-01-21T19:23:48.594Z"
   },
   {
    "duration": 10,
    "start_time": "2022-01-21T19:23:48.613Z"
   },
   {
    "duration": 36,
    "start_time": "2022-01-21T19:23:48.625Z"
   },
   {
    "duration": 18,
    "start_time": "2022-01-21T19:23:48.663Z"
   },
   {
    "duration": 11,
    "start_time": "2022-01-21T19:23:48.683Z"
   },
   {
    "duration": 12,
    "start_time": "2022-01-21T19:23:48.695Z"
   },
   {
    "duration": 60,
    "start_time": "2022-01-21T19:23:48.708Z"
   },
   {
    "duration": 18,
    "start_time": "2022-01-21T19:23:48.770Z"
   },
   {
    "duration": 12,
    "start_time": "2022-01-21T19:23:48.789Z"
   },
   {
    "duration": 28,
    "start_time": "2022-01-21T19:23:48.803Z"
   },
   {
    "duration": 43,
    "start_time": "2022-01-21T19:23:48.833Z"
   },
   {
    "duration": 13,
    "start_time": "2022-01-21T19:23:48.877Z"
   },
   {
    "duration": 12,
    "start_time": "2022-01-21T19:23:48.892Z"
   },
   {
    "duration": 9,
    "start_time": "2022-01-21T19:23:48.906Z"
   },
   {
    "duration": 8,
    "start_time": "2022-01-21T19:23:48.916Z"
   },
   {
    "duration": 7,
    "start_time": "2022-01-21T19:23:48.961Z"
   },
   {
    "duration": 19,
    "start_time": "2022-01-21T19:23:48.970Z"
   },
   {
    "duration": 12,
    "start_time": "2022-01-21T19:23:48.990Z"
   },
   {
    "duration": 61,
    "start_time": "2022-01-21T19:23:49.004Z"
   },
   {
    "duration": 2,
    "start_time": "2022-01-21T19:23:49.067Z"
   },
   {
    "duration": 13,
    "start_time": "2022-01-21T19:23:49.071Z"
   },
   {
    "duration": 12,
    "start_time": "2022-01-21T19:23:49.086Z"
   },
   {
    "duration": 27,
    "start_time": "2022-01-21T19:23:49.100Z"
   },
   {
    "duration": 40,
    "start_time": "2022-01-21T19:23:49.128Z"
   },
   {
    "duration": 42,
    "start_time": "2022-01-21T19:23:49.170Z"
   },
   {
    "duration": 8,
    "start_time": "2022-01-21T19:23:49.214Z"
   },
   {
    "duration": 7,
    "start_time": "2022-01-21T19:23:49.224Z"
   },
   {
    "duration": 41,
    "start_time": "2022-01-21T19:23:49.233Z"
   },
   {
    "duration": 14,
    "start_time": "2022-01-21T19:23:49.276Z"
   },
   {
    "duration": 25,
    "start_time": "2022-01-21T19:23:49.292Z"
   },
   {
    "duration": 8,
    "start_time": "2022-01-21T19:23:49.319Z"
   },
   {
    "duration": 36,
    "start_time": "2022-01-21T19:23:49.329Z"
   },
   {
    "duration": 20,
    "start_time": "2022-01-21T19:23:49.367Z"
   },
   {
    "duration": 9,
    "start_time": "2022-01-21T19:23:49.389Z"
   },
   {
    "duration": 26,
    "start_time": "2022-01-21T19:23:49.400Z"
   },
   {
    "duration": 6,
    "start_time": "2022-01-21T19:23:49.428Z"
   },
   {
    "duration": 30,
    "start_time": "2022-01-21T19:23:49.435Z"
   },
   {
    "duration": 14,
    "start_time": "2022-01-21T19:23:49.466Z"
   },
   {
    "duration": 13,
    "start_time": "2022-01-21T19:23:49.482Z"
   },
   {
    "duration": 8,
    "start_time": "2022-01-21T19:23:49.496Z"
   },
   {
    "duration": 12,
    "start_time": "2022-01-21T19:23:49.505Z"
   },
   {
    "duration": 8,
    "start_time": "2022-01-21T19:23:49.519Z"
   },
   {
    "duration": 37,
    "start_time": "2022-01-21T19:23:49.529Z"
   },
   {
    "duration": 8,
    "start_time": "2022-01-21T19:23:49.568Z"
   },
   {
    "duration": 17,
    "start_time": "2022-01-21T19:23:49.578Z"
   },
   {
    "duration": 23,
    "start_time": "2022-01-21T19:23:49.600Z"
   },
   {
    "duration": 6,
    "start_time": "2022-01-21T19:23:49.626Z"
   },
   {
    "duration": 31,
    "start_time": "2022-01-21T19:23:49.634Z"
   },
   {
    "duration": 5,
    "start_time": "2022-01-21T19:23:49.667Z"
   },
   {
    "duration": 11,
    "start_time": "2022-01-21T19:23:49.674Z"
   },
   {
    "duration": 7,
    "start_time": "2022-01-21T19:23:49.686Z"
   },
   {
    "duration": 5,
    "start_time": "2022-01-21T19:23:49.694Z"
   },
   {
    "duration": 12,
    "start_time": "2022-01-21T19:23:49.701Z"
   },
   {
    "duration": 6,
    "start_time": "2022-01-21T19:23:49.716Z"
   },
   {
    "duration": 40,
    "start_time": "2022-01-21T19:23:49.724Z"
   },
   {
    "duration": 13784,
    "start_time": "2022-01-21T19:23:49.766Z"
   },
   {
    "duration": 16,
    "start_time": "2022-01-21T19:24:03.552Z"
   },
   {
    "duration": 7,
    "start_time": "2022-01-21T19:24:03.570Z"
   },
   {
    "duration": 456,
    "start_time": "2022-01-21T19:24:03.578Z"
   },
   {
    "duration": 370,
    "start_time": "2022-01-21T19:24:04.036Z"
   },
   {
    "duration": 369,
    "start_time": "2022-01-21T19:24:04.407Z"
   },
   {
    "duration": 21,
    "start_time": "2022-01-21T19:24:04.778Z"
   },
   {
    "duration": 349,
    "start_time": "2022-01-21T19:24:04.800Z"
   },
   {
    "duration": 15,
    "start_time": "2022-01-21T19:24:05.151Z"
   },
   {
    "duration": 353,
    "start_time": "2022-01-21T19:24:05.168Z"
   },
   {
    "duration": 15,
    "start_time": "2022-01-21T19:24:05.523Z"
   },
   {
    "duration": 278,
    "start_time": "2022-01-21T19:24:05.540Z"
   },
   {
    "duration": 190,
    "start_time": "2022-01-21T19:24:05.819Z"
   },
   {
    "duration": 352,
    "start_time": "2022-01-21T19:24:06.011Z"
   },
   {
    "duration": 6,
    "start_time": "2022-01-21T19:24:06.364Z"
   },
   {
    "duration": 29,
    "start_time": "2022-01-21T19:24:06.371Z"
   },
   {
    "duration": 10,
    "start_time": "2022-01-21T19:24:06.401Z"
   },
   {
    "duration": 6,
    "start_time": "2022-01-21T19:24:06.413Z"
   },
   {
    "duration": 5,
    "start_time": "2022-01-21T19:24:06.421Z"
   },
   {
    "duration": 8,
    "start_time": "2022-01-21T19:24:06.427Z"
   },
   {
    "duration": 9,
    "start_time": "2022-01-21T19:24:06.437Z"
   },
   {
    "duration": 14,
    "start_time": "2022-01-21T19:24:06.448Z"
   },
   {
    "duration": 2,
    "start_time": "2022-01-21T19:24:06.463Z"
   },
   {
    "duration": 6,
    "start_time": "2022-01-21T19:24:06.467Z"
   },
   {
    "duration": 5,
    "start_time": "2022-01-21T19:24:06.474Z"
   },
   {
    "duration": 11,
    "start_time": "2022-01-21T19:24:06.480Z"
   },
   {
    "duration": 8,
    "start_time": "2022-01-21T19:24:06.492Z"
   },
   {
    "duration": 40,
    "start_time": "2022-01-21T19:29:30.402Z"
   },
   {
    "duration": 11,
    "start_time": "2022-01-21T19:29:40.714Z"
   },
   {
    "duration": 3261,
    "start_time": "2022-01-21T19:31:57.942Z"
   },
   {
    "duration": 1911,
    "start_time": "2022-01-21T19:34:20.818Z"
   },
   {
    "duration": 1865,
    "start_time": "2022-01-21T19:35:14.225Z"
   },
   {
    "duration": 1967,
    "start_time": "2022-01-21T19:35:20.250Z"
   },
   {
    "duration": 3860,
    "start_time": "2022-01-21T19:36:13.084Z"
   },
   {
    "duration": 13183,
    "start_time": "2022-01-21T19:37:07.494Z"
   },
   {
    "duration": 1121,
    "start_time": "2022-01-21T19:39:35.834Z"
   },
   {
    "duration": 3,
    "start_time": "2022-01-21T19:39:36.961Z"
   },
   {
    "duration": 456,
    "start_time": "2022-01-21T19:39:36.966Z"
   },
   {
    "duration": 2,
    "start_time": "2022-01-21T19:39:37.424Z"
   },
   {
    "duration": 33,
    "start_time": "2022-01-21T19:39:37.428Z"
   },
   {
    "duration": 24,
    "start_time": "2022-01-21T19:39:37.463Z"
   },
   {
    "duration": 45,
    "start_time": "2022-01-21T19:39:37.489Z"
   },
   {
    "duration": 24,
    "start_time": "2022-01-21T19:39:37.537Z"
   },
   {
    "duration": 45,
    "start_time": "2022-01-21T19:39:37.563Z"
   },
   {
    "duration": 49,
    "start_time": "2022-01-21T19:39:37.610Z"
   },
   {
    "duration": 24,
    "start_time": "2022-01-21T19:39:37.661Z"
   },
   {
    "duration": 20,
    "start_time": "2022-01-21T19:39:37.687Z"
   },
   {
    "duration": 43,
    "start_time": "2022-01-21T19:39:37.709Z"
   },
   {
    "duration": 37,
    "start_time": "2022-01-21T19:39:37.754Z"
   },
   {
    "duration": 50,
    "start_time": "2022-01-21T19:39:37.793Z"
   },
   {
    "duration": 30,
    "start_time": "2022-01-21T19:39:37.845Z"
   },
   {
    "duration": 14,
    "start_time": "2022-01-21T19:39:37.877Z"
   },
   {
    "duration": 32,
    "start_time": "2022-01-21T19:39:37.893Z"
   },
   {
    "duration": 39,
    "start_time": "2022-01-21T19:39:37.926Z"
   },
   {
    "duration": 48,
    "start_time": "2022-01-21T19:39:37.967Z"
   },
   {
    "duration": 17,
    "start_time": "2022-01-21T19:39:38.017Z"
   },
   {
    "duration": 107,
    "start_time": "2022-01-21T19:39:38.036Z"
   },
   {
    "duration": 23,
    "start_time": "2022-01-21T19:39:38.149Z"
   },
   {
    "duration": 58,
    "start_time": "2022-01-21T19:39:38.175Z"
   },
   {
    "duration": 31,
    "start_time": "2022-01-21T19:39:38.235Z"
   },
   {
    "duration": 41,
    "start_time": "2022-01-21T19:39:38.268Z"
   },
   {
    "duration": 12,
    "start_time": "2022-01-21T19:39:38.310Z"
   },
   {
    "duration": 37,
    "start_time": "2022-01-21T19:39:38.323Z"
   },
   {
    "duration": 51,
    "start_time": "2022-01-21T19:39:38.362Z"
   },
   {
    "duration": 19,
    "start_time": "2022-01-21T19:39:38.415Z"
   },
   {
    "duration": 20,
    "start_time": "2022-01-21T19:39:38.436Z"
   },
   {
    "duration": 48,
    "start_time": "2022-01-21T19:39:38.457Z"
   },
   {
    "duration": 22,
    "start_time": "2022-01-21T19:39:38.506Z"
   },
   {
    "duration": 23,
    "start_time": "2022-01-21T19:39:38.530Z"
   },
   {
    "duration": 19,
    "start_time": "2022-01-21T19:39:38.555Z"
   },
   {
    "duration": 21,
    "start_time": "2022-01-21T19:39:38.576Z"
   },
   {
    "duration": 25,
    "start_time": "2022-01-21T19:39:38.600Z"
   },
   {
    "duration": 20,
    "start_time": "2022-01-21T19:39:38.627Z"
   },
   {
    "duration": 33,
    "start_time": "2022-01-21T19:39:38.649Z"
   },
   {
    "duration": 20,
    "start_time": "2022-01-21T19:39:38.684Z"
   },
   {
    "duration": 63,
    "start_time": "2022-01-21T19:39:38.705Z"
   },
   {
    "duration": 2,
    "start_time": "2022-01-21T19:39:38.770Z"
   },
   {
    "duration": 43,
    "start_time": "2022-01-21T19:39:38.774Z"
   },
   {
    "duration": 31,
    "start_time": "2022-01-21T19:39:38.819Z"
   },
   {
    "duration": 36,
    "start_time": "2022-01-21T19:39:38.852Z"
   },
   {
    "duration": 19,
    "start_time": "2022-01-21T19:39:38.890Z"
   },
   {
    "duration": 40,
    "start_time": "2022-01-21T19:39:38.911Z"
   },
   {
    "duration": 13,
    "start_time": "2022-01-21T19:39:38.953Z"
   },
   {
    "duration": 14,
    "start_time": "2022-01-21T19:39:38.967Z"
   },
   {
    "duration": 33,
    "start_time": "2022-01-21T19:39:38.982Z"
   },
   {
    "duration": 12,
    "start_time": "2022-01-21T19:39:39.017Z"
   },
   {
    "duration": 39,
    "start_time": "2022-01-21T19:39:39.030Z"
   },
   {
    "duration": 15,
    "start_time": "2022-01-21T19:39:39.071Z"
   },
   {
    "duration": 32,
    "start_time": "2022-01-21T19:39:39.088Z"
   },
   {
    "duration": 43,
    "start_time": "2022-01-21T19:39:39.122Z"
   },
   {
    "duration": 8,
    "start_time": "2022-01-21T19:39:39.167Z"
   },
   {
    "duration": 54,
    "start_time": "2022-01-21T19:39:39.177Z"
   },
   {
    "duration": 15,
    "start_time": "2022-01-21T19:39:39.233Z"
   },
   {
    "duration": 22,
    "start_time": "2022-01-21T19:39:39.250Z"
   },
   {
    "duration": 39,
    "start_time": "2022-01-21T19:39:39.273Z"
   },
   {
    "duration": 20,
    "start_time": "2022-01-21T19:39:39.313Z"
   },
   {
    "duration": 39,
    "start_time": "2022-01-21T19:39:39.335Z"
   },
   {
    "duration": 22,
    "start_time": "2022-01-21T19:39:39.376Z"
   },
   {
    "duration": 28,
    "start_time": "2022-01-21T19:39:39.400Z"
   },
   {
    "duration": 21,
    "start_time": "2022-01-21T19:39:39.429Z"
   },
   {
    "duration": 26,
    "start_time": "2022-01-21T19:39:39.452Z"
   },
   {
    "duration": 34,
    "start_time": "2022-01-21T19:39:39.479Z"
   },
   {
    "duration": 31,
    "start_time": "2022-01-21T19:39:39.518Z"
   },
   {
    "duration": 9,
    "start_time": "2022-01-21T19:39:39.551Z"
   },
   {
    "duration": 26,
    "start_time": "2022-01-21T19:39:39.562Z"
   },
   {
    "duration": 31,
    "start_time": "2022-01-21T19:39:39.590Z"
   },
   {
    "duration": 26,
    "start_time": "2022-01-21T19:39:39.623Z"
   },
   {
    "duration": 28,
    "start_time": "2022-01-21T19:39:39.651Z"
   },
   {
    "duration": 28,
    "start_time": "2022-01-21T19:39:39.681Z"
   },
   {
    "duration": 26,
    "start_time": "2022-01-21T19:39:39.711Z"
   },
   {
    "duration": 29,
    "start_time": "2022-01-21T19:39:39.738Z"
   },
   {
    "duration": 26,
    "start_time": "2022-01-21T19:39:39.769Z"
   },
   {
    "duration": 13130,
    "start_time": "2022-01-21T19:39:39.796Z"
   },
   {
    "duration": 11,
    "start_time": "2022-01-21T19:39:52.927Z"
   },
   {
    "duration": 23,
    "start_time": "2022-01-21T19:39:52.941Z"
   },
   {
    "duration": 35,
    "start_time": "2022-01-21T19:39:52.966Z"
   },
   {
    "duration": 504,
    "start_time": "2022-01-21T19:39:53.003Z"
   },
   {
    "duration": 374,
    "start_time": "2022-01-21T19:39:53.509Z"
   },
   {
    "duration": 359,
    "start_time": "2022-01-21T19:39:53.885Z"
   },
   {
    "duration": 26,
    "start_time": "2022-01-21T19:39:54.246Z"
   },
   {
    "duration": 359,
    "start_time": "2022-01-21T19:39:54.274Z"
   },
   {
    "duration": 28,
    "start_time": "2022-01-21T19:39:54.635Z"
   },
   {
    "duration": 365,
    "start_time": "2022-01-21T19:39:54.665Z"
   },
   {
    "duration": 16,
    "start_time": "2022-01-21T19:39:55.032Z"
   },
   {
    "duration": 294,
    "start_time": "2022-01-21T19:39:55.061Z"
   },
   {
    "duration": 199,
    "start_time": "2022-01-21T19:39:55.361Z"
   },
   {
    "duration": 560,
    "start_time": "2022-01-21T19:39:55.562Z"
   },
   {
    "duration": 7,
    "start_time": "2022-01-21T19:39:56.125Z"
   },
   {
    "duration": 9,
    "start_time": "2022-01-21T19:39:56.135Z"
   },
   {
    "duration": 8,
    "start_time": "2022-01-21T19:39:56.161Z"
   },
   {
    "duration": 7,
    "start_time": "2022-01-21T19:39:56.171Z"
   },
   {
    "duration": 7,
    "start_time": "2022-01-21T19:39:56.179Z"
   },
   {
    "duration": 7,
    "start_time": "2022-01-21T19:39:56.188Z"
   },
   {
    "duration": 7,
    "start_time": "2022-01-21T19:39:56.196Z"
   },
   {
    "duration": 9,
    "start_time": "2022-01-21T19:39:56.204Z"
   },
   {
    "duration": 4,
    "start_time": "2022-01-21T19:39:56.215Z"
   },
   {
    "duration": 40,
    "start_time": "2022-01-21T19:39:56.221Z"
   },
   {
    "duration": 6,
    "start_time": "2022-01-21T19:39:56.263Z"
   },
   {
    "duration": 12,
    "start_time": "2022-01-21T19:39:56.271Z"
   },
   {
    "duration": 7,
    "start_time": "2022-01-21T19:39:56.285Z"
   },
   {
    "duration": 13,
    "start_time": "2022-01-21T19:40:56.615Z"
   },
   {
    "duration": 1100,
    "start_time": "2022-01-21T19:48:26.321Z"
   },
   {
    "duration": 3,
    "start_time": "2022-01-21T19:48:27.423Z"
   },
   {
    "duration": 422,
    "start_time": "2022-01-21T19:48:27.429Z"
   },
   {
    "duration": 2,
    "start_time": "2022-01-21T19:48:27.853Z"
   },
   {
    "duration": 27,
    "start_time": "2022-01-21T19:48:27.857Z"
   },
   {
    "duration": 19,
    "start_time": "2022-01-21T19:48:27.885Z"
   },
   {
    "duration": 41,
    "start_time": "2022-01-21T19:48:27.906Z"
   },
   {
    "duration": 18,
    "start_time": "2022-01-21T19:48:27.949Z"
   },
   {
    "duration": 31,
    "start_time": "2022-01-21T19:48:27.968Z"
   },
   {
    "duration": 25,
    "start_time": "2022-01-21T19:48:28.000Z"
   },
   {
    "duration": 22,
    "start_time": "2022-01-21T19:48:28.027Z"
   },
   {
    "duration": 26,
    "start_time": "2022-01-21T19:48:28.051Z"
   },
   {
    "duration": 29,
    "start_time": "2022-01-21T19:48:28.078Z"
   },
   {
    "duration": 26,
    "start_time": "2022-01-21T19:48:28.109Z"
   },
   {
    "duration": 29,
    "start_time": "2022-01-21T19:48:28.138Z"
   },
   {
    "duration": 31,
    "start_time": "2022-01-21T19:48:28.169Z"
   },
   {
    "duration": 14,
    "start_time": "2022-01-21T19:48:28.201Z"
   },
   {
    "duration": 13,
    "start_time": "2022-01-21T19:48:28.217Z"
   },
   {
    "duration": 33,
    "start_time": "2022-01-21T19:48:28.232Z"
   },
   {
    "duration": 19,
    "start_time": "2022-01-21T19:48:28.266Z"
   },
   {
    "duration": 14,
    "start_time": "2022-01-21T19:48:28.287Z"
   },
   {
    "duration": 111,
    "start_time": "2022-01-21T19:48:28.305Z"
   },
   {
    "duration": 14,
    "start_time": "2022-01-21T19:48:28.419Z"
   },
   {
    "duration": 9,
    "start_time": "2022-01-21T19:48:28.435Z"
   },
   {
    "duration": 13,
    "start_time": "2022-01-21T19:48:28.461Z"
   },
   {
    "duration": 19,
    "start_time": "2022-01-21T19:48:28.476Z"
   },
   {
    "duration": 11,
    "start_time": "2022-01-21T19:48:28.497Z"
   },
   {
    "duration": 11,
    "start_time": "2022-01-21T19:48:28.510Z"
   },
   {
    "duration": 72,
    "start_time": "2022-01-21T19:48:28.522Z"
   },
   {
    "duration": 17,
    "start_time": "2022-01-21T19:48:28.596Z"
   },
   {
    "duration": 12,
    "start_time": "2022-01-21T19:48:28.615Z"
   },
   {
    "duration": 52,
    "start_time": "2022-01-21T19:48:28.629Z"
   },
   {
    "duration": 23,
    "start_time": "2022-01-21T19:48:28.683Z"
   },
   {
    "duration": 15,
    "start_time": "2022-01-21T19:48:28.708Z"
   },
   {
    "duration": 41,
    "start_time": "2022-01-21T19:48:28.725Z"
   },
   {
    "duration": 15,
    "start_time": "2022-01-21T19:48:28.768Z"
   },
   {
    "duration": 10,
    "start_time": "2022-01-21T19:48:28.785Z"
   },
   {
    "duration": 8,
    "start_time": "2022-01-21T19:48:28.796Z"
   },
   {
    "duration": 17,
    "start_time": "2022-01-21T19:48:28.806Z"
   },
   {
    "duration": 11,
    "start_time": "2022-01-21T19:48:28.825Z"
   },
   {
    "duration": 61,
    "start_time": "2022-01-21T19:48:28.837Z"
   },
   {
    "duration": 3,
    "start_time": "2022-01-21T19:48:28.899Z"
   },
   {
    "duration": 20,
    "start_time": "2022-01-21T19:48:28.903Z"
   },
   {
    "duration": 20,
    "start_time": "2022-01-21T19:48:28.925Z"
   },
   {
    "duration": 40,
    "start_time": "2022-01-21T19:48:28.947Z"
   },
   {
    "duration": 17,
    "start_time": "2022-01-21T19:48:28.989Z"
   },
   {
    "duration": 51,
    "start_time": "2022-01-21T19:48:29.008Z"
   },
   {
    "duration": 10,
    "start_time": "2022-01-21T19:48:29.061Z"
   },
   {
    "duration": 19,
    "start_time": "2022-01-21T19:48:29.073Z"
   },
   {
    "duration": 34,
    "start_time": "2022-01-21T19:48:29.094Z"
   },
   {
    "duration": 12,
    "start_time": "2022-01-21T19:48:29.130Z"
   },
   {
    "duration": 38,
    "start_time": "2022-01-21T19:48:29.144Z"
   },
   {
    "duration": 7,
    "start_time": "2022-01-21T19:48:29.184Z"
   },
   {
    "duration": 34,
    "start_time": "2022-01-21T19:48:29.193Z"
   },
   {
    "duration": 29,
    "start_time": "2022-01-21T19:48:29.229Z"
   },
   {
    "duration": 18,
    "start_time": "2022-01-21T19:48:29.260Z"
   },
   {
    "duration": 40,
    "start_time": "2022-01-21T19:48:29.280Z"
   },
   {
    "duration": 7,
    "start_time": "2022-01-21T19:48:29.322Z"
   },
   {
    "duration": 17,
    "start_time": "2022-01-21T19:48:29.330Z"
   },
   {
    "duration": 12,
    "start_time": "2022-01-21T19:48:29.349Z"
   },
   {
    "duration": 10,
    "start_time": "2022-01-21T19:48:29.363Z"
   },
   {
    "duration": 14,
    "start_time": "2022-01-21T19:48:29.375Z"
   },
   {
    "duration": 8,
    "start_time": "2022-01-21T19:48:29.391Z"
   },
   {
    "duration": 7,
    "start_time": "2022-01-21T19:48:29.401Z"
   },
   {
    "duration": 7,
    "start_time": "2022-01-21T19:48:29.410Z"
   },
   {
    "duration": 8,
    "start_time": "2022-01-21T19:48:29.419Z"
   },
   {
    "duration": 36,
    "start_time": "2022-01-21T19:48:29.432Z"
   },
   {
    "duration": 21,
    "start_time": "2022-01-21T19:48:29.471Z"
   },
   {
    "duration": 7,
    "start_time": "2022-01-21T19:48:29.493Z"
   },
   {
    "duration": 7,
    "start_time": "2022-01-21T19:48:29.501Z"
   },
   {
    "duration": 5,
    "start_time": "2022-01-21T19:48:29.509Z"
   },
   {
    "duration": 8,
    "start_time": "2022-01-21T19:48:29.515Z"
   },
   {
    "duration": 40,
    "start_time": "2022-01-21T19:48:29.524Z"
   },
   {
    "duration": 5,
    "start_time": "2022-01-21T19:48:29.565Z"
   },
   {
    "duration": 9,
    "start_time": "2022-01-21T19:48:29.572Z"
   },
   {
    "duration": 6,
    "start_time": "2022-01-21T19:48:29.583Z"
   },
   {
    "duration": 7,
    "start_time": "2022-01-21T19:48:29.590Z"
   },
   {
    "duration": 13453,
    "start_time": "2022-01-21T19:48:29.599Z"
   },
   {
    "duration": 15,
    "start_time": "2022-01-21T19:48:43.054Z"
   },
   {
    "duration": 9,
    "start_time": "2022-01-21T19:48:43.071Z"
   },
   {
    "duration": 672,
    "start_time": "2022-01-21T19:48:43.081Z"
   },
   {
    "duration": 522,
    "start_time": "2022-01-21T19:48:43.755Z"
   },
   {
    "duration": 429,
    "start_time": "2022-01-21T19:48:44.280Z"
   },
   {
    "duration": 22,
    "start_time": "2022-01-21T19:48:44.711Z"
   },
   {
    "duration": 357,
    "start_time": "2022-01-21T19:48:44.735Z"
   },
   {
    "duration": 18,
    "start_time": "2022-01-21T19:48:45.095Z"
   },
   {
    "duration": 386,
    "start_time": "2022-01-21T19:48:45.115Z"
   },
   {
    "duration": 17,
    "start_time": "2022-01-21T19:48:45.503Z"
   },
   {
    "duration": 287,
    "start_time": "2022-01-21T19:48:45.522Z"
   },
   {
    "duration": 184,
    "start_time": "2022-01-21T19:48:45.811Z"
   },
   {
    "duration": 341,
    "start_time": "2022-01-21T19:48:45.997Z"
   },
   {
    "duration": 5,
    "start_time": "2022-01-21T19:48:46.340Z"
   },
   {
    "duration": 22,
    "start_time": "2022-01-21T19:48:46.347Z"
   },
   {
    "duration": 15,
    "start_time": "2022-01-21T19:48:46.371Z"
   },
   {
    "duration": 22,
    "start_time": "2022-01-21T19:48:46.388Z"
   },
   {
    "duration": 20,
    "start_time": "2022-01-21T19:48:46.412Z"
   },
   {
    "duration": 8,
    "start_time": "2022-01-21T19:48:46.434Z"
   },
   {
    "duration": 7,
    "start_time": "2022-01-21T19:48:46.443Z"
   },
   {
    "duration": 10,
    "start_time": "2022-01-21T19:48:46.452Z"
   },
   {
    "duration": 6,
    "start_time": "2022-01-21T19:48:46.464Z"
   },
   {
    "duration": 7,
    "start_time": "2022-01-21T19:48:46.471Z"
   },
   {
    "duration": 8,
    "start_time": "2022-01-21T19:48:46.479Z"
   },
   {
    "duration": 5,
    "start_time": "2022-01-21T19:48:46.488Z"
   },
   {
    "duration": 6,
    "start_time": "2022-01-21T19:48:46.495Z"
   },
   {
    "duration": 1309,
    "start_time": "2022-01-22T14:58:27.643Z"
   },
   {
    "duration": 4,
    "start_time": "2022-01-22T14:58:28.955Z"
   },
   {
    "duration": 467,
    "start_time": "2022-01-22T14:58:28.963Z"
   },
   {
    "duration": 4,
    "start_time": "2022-01-22T14:58:29.433Z"
   },
   {
    "duration": 12,
    "start_time": "2022-01-22T14:58:29.440Z"
   },
   {
    "duration": 21,
    "start_time": "2022-01-22T14:58:29.455Z"
   },
   {
    "duration": 51,
    "start_time": "2022-01-22T14:58:29.479Z"
   },
   {
    "duration": 10,
    "start_time": "2022-01-22T14:58:29.534Z"
   },
   {
    "duration": 12,
    "start_time": "2022-01-22T14:58:29.547Z"
   },
   {
    "duration": 16,
    "start_time": "2022-01-22T14:58:29.562Z"
   },
   {
    "duration": 8,
    "start_time": "2022-01-22T14:58:29.581Z"
   },
   {
    "duration": 5,
    "start_time": "2022-01-22T14:58:29.624Z"
   },
   {
    "duration": 35,
    "start_time": "2022-01-22T14:58:29.631Z"
   },
   {
    "duration": 17,
    "start_time": "2022-01-22T14:58:29.669Z"
   },
   {
    "duration": 58,
    "start_time": "2022-01-22T14:58:29.688Z"
   },
   {
    "duration": 37,
    "start_time": "2022-01-22T14:58:29.748Z"
   },
   {
    "duration": 37,
    "start_time": "2022-01-22T14:58:29.788Z"
   },
   {
    "duration": 17,
    "start_time": "2022-01-22T14:58:29.827Z"
   },
   {
    "duration": 10,
    "start_time": "2022-01-22T14:58:29.847Z"
   },
   {
    "duration": 29,
    "start_time": "2022-01-22T14:58:29.860Z"
   },
   {
    "duration": 42,
    "start_time": "2022-01-22T14:58:29.892Z"
   },
   {
    "duration": 109,
    "start_time": "2022-01-22T14:58:29.937Z"
   },
   {
    "duration": 17,
    "start_time": "2022-01-22T14:58:30.052Z"
   },
   {
    "duration": 17,
    "start_time": "2022-01-22T14:58:30.073Z"
   },
   {
    "duration": 46,
    "start_time": "2022-01-22T14:58:30.093Z"
   },
   {
    "duration": 27,
    "start_time": "2022-01-22T14:58:30.143Z"
   },
   {
    "duration": 13,
    "start_time": "2022-01-22T14:58:30.172Z"
   },
   {
    "duration": 43,
    "start_time": "2022-01-22T14:58:30.187Z"
   },
   {
    "duration": 46,
    "start_time": "2022-01-22T14:58:30.232Z"
   },
   {
    "duration": 46,
    "start_time": "2022-01-22T14:58:30.281Z"
   },
   {
    "duration": 17,
    "start_time": "2022-01-22T14:58:30.329Z"
   },
   {
    "duration": 53,
    "start_time": "2022-01-22T14:58:30.349Z"
   },
   {
    "duration": 43,
    "start_time": "2022-01-22T14:58:30.404Z"
   },
   {
    "duration": 21,
    "start_time": "2022-01-22T14:58:30.450Z"
   },
   {
    "duration": 20,
    "start_time": "2022-01-22T14:58:30.475Z"
   },
   {
    "duration": 13,
    "start_time": "2022-01-22T14:58:30.523Z"
   },
   {
    "duration": 38,
    "start_time": "2022-01-22T14:58:30.538Z"
   },
   {
    "duration": 18,
    "start_time": "2022-01-22T14:58:30.579Z"
   },
   {
    "duration": 20,
    "start_time": "2022-01-22T14:58:30.599Z"
   },
   {
    "duration": 23,
    "start_time": "2022-01-22T14:58:30.621Z"
   },
   {
    "duration": 75,
    "start_time": "2022-01-22T14:58:30.646Z"
   },
   {
    "duration": 3,
    "start_time": "2022-01-22T14:58:30.724Z"
   },
   {
    "duration": 12,
    "start_time": "2022-01-22T14:58:30.730Z"
   },
   {
    "duration": 31,
    "start_time": "2022-01-22T14:58:30.744Z"
   },
   {
    "duration": 48,
    "start_time": "2022-01-22T14:58:30.777Z"
   },
   {
    "duration": 25,
    "start_time": "2022-01-22T14:58:30.828Z"
   },
   {
    "duration": 68,
    "start_time": "2022-01-22T14:58:30.855Z"
   },
   {
    "duration": 11,
    "start_time": "2022-01-22T14:58:30.926Z"
   },
   {
    "duration": 20,
    "start_time": "2022-01-22T14:58:30.940Z"
   },
   {
    "duration": 22,
    "start_time": "2022-01-22T14:58:30.963Z"
   },
   {
    "duration": 37,
    "start_time": "2022-01-22T14:58:30.987Z"
   },
   {
    "duration": 32,
    "start_time": "2022-01-22T14:58:31.027Z"
   },
   {
    "duration": 9,
    "start_time": "2022-01-22T14:58:31.061Z"
   },
   {
    "duration": 14,
    "start_time": "2022-01-22T14:58:31.072Z"
   },
   {
    "duration": 47,
    "start_time": "2022-01-22T14:58:31.087Z"
   },
   {
    "duration": 13,
    "start_time": "2022-01-22T14:58:31.136Z"
   },
   {
    "duration": 32,
    "start_time": "2022-01-22T14:58:31.152Z"
   },
   {
    "duration": 39,
    "start_time": "2022-01-22T14:58:31.187Z"
   },
   {
    "duration": 23,
    "start_time": "2022-01-22T14:58:31.229Z"
   },
   {
    "duration": 27,
    "start_time": "2022-01-22T14:58:31.255Z"
   },
   {
    "duration": 17,
    "start_time": "2022-01-22T14:58:31.285Z"
   },
   {
    "duration": 28,
    "start_time": "2022-01-22T14:58:31.305Z"
   },
   {
    "duration": 22,
    "start_time": "2022-01-22T14:58:31.335Z"
   },
   {
    "duration": 18,
    "start_time": "2022-01-22T14:58:31.359Z"
   },
   {
    "duration": 10,
    "start_time": "2022-01-22T14:58:31.379Z"
   },
   {
    "duration": 32,
    "start_time": "2022-01-22T14:58:31.391Z"
   },
   {
    "duration": 23,
    "start_time": "2022-01-22T14:58:31.426Z"
   },
   {
    "duration": 32,
    "start_time": "2022-01-22T14:58:31.457Z"
   },
   {
    "duration": 8,
    "start_time": "2022-01-22T14:58:31.491Z"
   },
   {
    "duration": 23,
    "start_time": "2022-01-22T14:58:31.502Z"
   },
   {
    "duration": 8,
    "start_time": "2022-01-22T14:58:31.527Z"
   },
   {
    "duration": 15,
    "start_time": "2022-01-22T14:58:31.537Z"
   },
   {
    "duration": 18,
    "start_time": "2022-01-22T14:58:31.554Z"
   },
   {
    "duration": 6,
    "start_time": "2022-01-22T14:58:31.575Z"
   },
   {
    "duration": 17,
    "start_time": "2022-01-22T14:58:31.582Z"
   },
   {
    "duration": 29,
    "start_time": "2022-01-22T14:58:31.601Z"
   },
   {
    "duration": 9,
    "start_time": "2022-01-22T14:58:31.631Z"
   },
   {
    "duration": 758,
    "start_time": "2022-01-22T14:58:44.745Z"
   },
   {
    "duration": 11,
    "start_time": "2022-01-22T14:58:56.665Z"
   },
   {
    "duration": 634,
    "start_time": "2022-01-22T14:59:40.790Z"
   },
   {
    "duration": 21,
    "start_time": "2022-01-22T15:00:08.958Z"
   },
   {
    "duration": 7607,
    "start_time": "2022-01-22T15:00:18.202Z"
   },
   {
    "duration": 366,
    "start_time": "2022-01-22T15:01:40.373Z"
   },
   {
    "duration": 4,
    "start_time": "2022-01-22T15:01:56.724Z"
   },
   {
    "duration": 6,
    "start_time": "2022-01-22T15:01:56.730Z"
   },
   {
    "duration": 580,
    "start_time": "2022-01-22T15:01:56.739Z"
   },
   {
    "duration": 3,
    "start_time": "2022-01-22T15:01:57.321Z"
   },
   {
    "duration": 11,
    "start_time": "2022-01-22T15:01:57.327Z"
   },
   {
    "duration": 19,
    "start_time": "2022-01-22T15:01:57.340Z"
   },
   {
    "duration": 22,
    "start_time": "2022-01-22T15:01:57.361Z"
   },
   {
    "duration": 39,
    "start_time": "2022-01-22T15:01:57.387Z"
   },
   {
    "duration": 19,
    "start_time": "2022-01-22T15:01:57.429Z"
   },
   {
    "duration": 33,
    "start_time": "2022-01-22T15:01:57.450Z"
   },
   {
    "duration": 9,
    "start_time": "2022-01-22T15:01:57.486Z"
   },
   {
    "duration": 5,
    "start_time": "2022-01-22T15:01:57.497Z"
   },
   {
    "duration": 27,
    "start_time": "2022-01-22T15:01:57.523Z"
   },
   {
    "duration": 17,
    "start_time": "2022-01-22T15:01:57.552Z"
   },
   {
    "duration": 59,
    "start_time": "2022-01-22T15:01:57.571Z"
   },
   {
    "duration": 36,
    "start_time": "2022-01-22T15:01:57.632Z"
   },
   {
    "duration": 18,
    "start_time": "2022-01-22T15:01:57.670Z"
   },
   {
    "duration": 43,
    "start_time": "2022-01-22T15:01:57.691Z"
   },
   {
    "duration": 7,
    "start_time": "2022-01-22T15:01:57.738Z"
   },
   {
    "duration": 24,
    "start_time": "2022-01-22T15:01:57.747Z"
   },
   {
    "duration": 64,
    "start_time": "2022-01-22T15:01:57.774Z"
   },
   {
    "duration": 118,
    "start_time": "2022-01-22T15:01:57.840Z"
   },
   {
    "duration": 19,
    "start_time": "2022-01-22T15:01:57.963Z"
   },
   {
    "duration": 38,
    "start_time": "2022-01-22T15:01:57.986Z"
   },
   {
    "duration": 17,
    "start_time": "2022-01-22T15:01:58.027Z"
   },
   {
    "duration": 23,
    "start_time": "2022-01-22T15:01:58.047Z"
   },
   {
    "duration": 14,
    "start_time": "2022-01-22T15:01:58.072Z"
   },
   {
    "duration": 48,
    "start_time": "2022-01-22T15:01:58.088Z"
   },
   {
    "duration": 65,
    "start_time": "2022-01-22T15:01:58.138Z"
   },
   {
    "duration": 23,
    "start_time": "2022-01-22T15:01:58.224Z"
   },
   {
    "duration": 16,
    "start_time": "2022-01-22T15:01:58.249Z"
   },
   {
    "duration": 78,
    "start_time": "2022-01-22T15:01:58.267Z"
   },
   {
    "duration": 37,
    "start_time": "2022-01-22T15:01:58.347Z"
   },
   {
    "duration": 42,
    "start_time": "2022-01-22T15:01:58.387Z"
   },
   {
    "duration": 23,
    "start_time": "2022-01-22T15:01:58.432Z"
   },
   {
    "duration": 11,
    "start_time": "2022-01-22T15:01:58.457Z"
   },
   {
    "duration": 14,
    "start_time": "2022-01-22T15:01:58.471Z"
   },
   {
    "duration": 51,
    "start_time": "2022-01-22T15:01:58.487Z"
   },
   {
    "duration": 19,
    "start_time": "2022-01-22T15:01:58.540Z"
   },
   {
    "duration": 17,
    "start_time": "2022-01-22T15:01:58.561Z"
   },
   {
    "duration": 169,
    "start_time": "2022-01-22T15:01:58.581Z"
   },
   {
    "duration": 4,
    "start_time": "2022-01-22T15:01:58.752Z"
   },
   {
    "duration": 13,
    "start_time": "2022-01-22T15:01:58.758Z"
   },
   {
    "duration": 12,
    "start_time": "2022-01-22T15:01:58.824Z"
   },
   {
    "duration": 33,
    "start_time": "2022-01-22T15:01:58.838Z"
   },
   {
    "duration": 25,
    "start_time": "2022-01-22T15:01:58.924Z"
   },
   {
    "duration": 103,
    "start_time": "2022-01-22T15:01:58.951Z"
   },
   {
    "duration": 66,
    "start_time": "2022-01-22T15:01:59.056Z"
   },
   {
    "duration": 11,
    "start_time": "2022-01-22T15:01:59.125Z"
   },
   {
    "duration": 84,
    "start_time": "2022-01-22T15:01:59.139Z"
   },
   {
    "duration": 17,
    "start_time": "2022-01-22T15:01:59.226Z"
   },
   {
    "duration": 80,
    "start_time": "2022-01-22T15:01:59.245Z"
   },
   {
    "duration": 10,
    "start_time": "2022-01-22T15:01:59.327Z"
   },
   {
    "duration": 9,
    "start_time": "2022-01-22T15:01:59.339Z"
   },
   {
    "duration": 76,
    "start_time": "2022-01-22T15:01:59.350Z"
   },
   {
    "duration": 13,
    "start_time": "2022-01-22T15:01:59.428Z"
   },
   {
    "duration": 80,
    "start_time": "2022-01-22T15:01:59.443Z"
   },
   {
    "duration": 10,
    "start_time": "2022-01-22T15:01:59.526Z"
   },
   {
    "duration": 10,
    "start_time": "2022-01-22T15:01:59.539Z"
   },
   {
    "duration": 15,
    "start_time": "2022-01-22T15:01:59.551Z"
   },
   {
    "duration": 69,
    "start_time": "2022-01-22T15:01:59.569Z"
   },
   {
    "duration": 14,
    "start_time": "2022-01-22T15:01:59.640Z"
   },
   {
    "duration": 15,
    "start_time": "2022-01-22T15:01:59.656Z"
   },
   {
    "duration": 11,
    "start_time": "2022-01-22T15:01:59.724Z"
   },
   {
    "duration": 12,
    "start_time": "2022-01-22T15:01:59.737Z"
   },
   {
    "duration": 10,
    "start_time": "2022-01-22T15:01:59.751Z"
   },
   {
    "duration": 71,
    "start_time": "2022-01-22T15:01:59.764Z"
   },
   {
    "duration": 34,
    "start_time": "2022-01-22T15:01:59.843Z"
   },
   {
    "duration": 9,
    "start_time": "2022-01-22T15:01:59.880Z"
   },
   {
    "duration": 36,
    "start_time": "2022-01-22T15:01:59.891Z"
   },
   {
    "duration": 7,
    "start_time": "2022-01-22T15:01:59.929Z"
   },
   {
    "duration": 12,
    "start_time": "2022-01-22T15:01:59.939Z"
   },
   {
    "duration": 9,
    "start_time": "2022-01-22T15:01:59.953Z"
   },
   {
    "duration": 7,
    "start_time": "2022-01-22T15:01:59.964Z"
   },
   {
    "duration": 55,
    "start_time": "2022-01-22T15:01:59.973Z"
   },
   {
    "duration": 14,
    "start_time": "2022-01-22T15:02:00.031Z"
   },
   {
    "duration": 11,
    "start_time": "2022-01-22T15:02:00.048Z"
   },
   {
    "duration": 8477,
    "start_time": "2022-01-22T15:02:00.061Z"
   },
   {
    "duration": 23830,
    "start_time": "2022-01-22T15:02:08.540Z"
   },
   {
    "duration": 17,
    "start_time": "2022-01-22T15:02:32.372Z"
   },
   {
    "duration": 9,
    "start_time": "2022-01-22T15:02:32.391Z"
   },
   {
    "duration": 992,
    "start_time": "2022-01-22T15:02:32.402Z"
   },
   {
    "duration": 611,
    "start_time": "2022-01-22T15:02:33.397Z"
   },
   {
    "duration": 587,
    "start_time": "2022-01-22T15:02:34.010Z"
   },
   {
    "duration": 49,
    "start_time": "2022-01-22T15:02:34.599Z"
   },
   {
    "duration": 590,
    "start_time": "2022-01-22T15:02:34.651Z"
   },
   {
    "duration": 25,
    "start_time": "2022-01-22T15:02:35.244Z"
   },
   {
    "duration": 684,
    "start_time": "2022-01-22T15:02:35.272Z"
   },
   {
    "duration": 25,
    "start_time": "2022-01-22T15:02:35.959Z"
   },
   {
    "duration": 340,
    "start_time": "2022-01-22T15:02:35.987Z"
   },
   {
    "duration": 296,
    "start_time": "2022-01-22T15:02:36.330Z"
   },
   {
    "duration": 1269,
    "start_time": "2022-01-22T15:02:36.629Z"
   },
   {
    "duration": 7,
    "start_time": "2022-01-22T15:02:37.900Z"
   },
   {
    "duration": 21,
    "start_time": "2022-01-22T15:02:37.909Z"
   },
   {
    "duration": 8,
    "start_time": "2022-01-22T15:02:37.932Z"
   },
   {
    "duration": 9,
    "start_time": "2022-01-22T15:02:37.943Z"
   },
   {
    "duration": 6,
    "start_time": "2022-01-22T15:02:37.954Z"
   },
   {
    "duration": 8,
    "start_time": "2022-01-22T15:02:37.962Z"
   },
   {
    "duration": 53,
    "start_time": "2022-01-22T15:02:37.972Z"
   },
   {
    "duration": 11,
    "start_time": "2022-01-22T15:02:38.027Z"
   },
   {
    "duration": 3,
    "start_time": "2022-01-22T15:02:38.041Z"
   },
   {
    "duration": 5,
    "start_time": "2022-01-22T15:02:38.046Z"
   },
   {
    "duration": 6,
    "start_time": "2022-01-22T15:02:38.054Z"
   },
   {
    "duration": 4,
    "start_time": "2022-01-22T15:02:38.063Z"
   },
   {
    "duration": 56,
    "start_time": "2022-01-22T15:02:38.070Z"
   },
   {
    "duration": 564,
    "start_time": "2022-01-22T15:02:44.562Z"
   }
  ],
  "kernelspec": {
   "display_name": "Python 3 (ipykernel)",
   "language": "python",
   "name": "python3"
  },
  "language_info": {
   "codemirror_mode": {
    "name": "ipython",
    "version": 3
   },
   "file_extension": ".py",
   "mimetype": "text/x-python",
   "name": "python",
   "nbconvert_exporter": "python",
   "pygments_lexer": "ipython3",
   "version": "3.9.5"
  },
  "toc": {
   "base_numbering": 1,
   "nav_menu": {},
   "number_sections": true,
   "sideBar": true,
   "skip_h1_title": false,
   "title_cell": "Содержание",
   "title_sidebar": "Содержание",
   "toc_cell": true,
   "toc_position": {
    "height": "calc(100% - 180px)",
    "left": "10px",
    "top": "150px",
    "width": "290.365px"
   },
   "toc_section_display": true,
   "toc_window_display": true
  }
 },
 "nbformat": 4,
 "nbformat_minor": 2
}
