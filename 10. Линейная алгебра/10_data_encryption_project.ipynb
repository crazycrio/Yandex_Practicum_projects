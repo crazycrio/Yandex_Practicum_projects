{
 "cells": [
  {
   "cell_type": "markdown",
   "metadata": {},
   "source": [
    "<div style=\"border:solid green 2px; padding: 20px\">\n",
    "<b>Комментарий ревьюера:</b> \n",
    "    \n",
    "Алексей, привет! Меня зовут Бунакова Влада. Если не возражаешь, предлагаю общаться на «ты» :)\n",
    "\n",
    "Ниже в файле ты найдешь мои комментарии: <font color='green'>зеленый цвет — «все отлично»; </font> <font color='orange'>желтый — «хорошо, но можно лучше (один-два таких замечаний допустимы, но если их больше — придется исправлять)»; </font> <font color='red'>красный — «нужно исправить».</font> Комментарии в самом коде я отделяю знаками «###». Пожалуйста, не удаляй мои комментарии, они мне нужны при повторной проверке. Будет здорово, если в своих новых комментариях (выделяй их другим цветом) ты напишешь о сделанных тобой изменениях в коде. \n",
    "\n"
   ]
  },
  {
   "cell_type": "markdown",
   "metadata": {},
   "source": [
    "<div style=\"border:solid green 2px; padding: 20px\">\n",
    "<b>Комментарий ревьюера v2:</b>   \n",
    "    \n",
    "Алексей, см. мои комментарии по поводу последних экспериментов. Проект принимаю!"
   ]
  },
  {
   "cell_type": "markdown",
   "metadata": {
    "toc": true
   },
   "source": [
    "<h1>Содержание<span class=\"tocSkip\"></span></h1>\n",
    "<div class=\"toc\"><ul class=\"toc-item\"><li><span><a href=\"#Загрузка-данных\" data-toc-modified-id=\"Загрузка-данных-1\"><span class=\"toc-item-num\">1&nbsp;&nbsp;</span>Загрузка данных</a></span></li><li><span><a href=\"#Умножение-матриц\" data-toc-modified-id=\"Умножение-матриц-2\"><span class=\"toc-item-num\">2&nbsp;&nbsp;</span>Умножение матриц</a></span></li><li><span><a href=\"#Алгоритм-преобразования\" data-toc-modified-id=\"Алгоритм-преобразования-3\"><span class=\"toc-item-num\">3&nbsp;&nbsp;</span>Алгоритм преобразования</a></span></li><li><span><a href=\"#Проверка-алгоритма\" data-toc-modified-id=\"Проверка-алгоритма-4\"><span class=\"toc-item-num\">4&nbsp;&nbsp;</span>Проверка алгоритма</a></span></li><li><span><a href=\"#Чек-лист-проверки\" data-toc-modified-id=\"Чек-лист-проверки-5\"><span class=\"toc-item-num\">5&nbsp;&nbsp;</span>Чек-лист проверки</a></span></li></ul></div>"
   ]
  },
  {
   "cell_type": "markdown",
   "metadata": {},
   "source": [
    "# Защита персональных данных клиентов"
   ]
  },
  {
   "cell_type": "markdown",
   "metadata": {},
   "source": [
    "Вам нужно защитить данные клиентов страховой компании «Хоть потоп». Разработайте такой метод преобразования данных, чтобы по ним было сложно восстановить персональную информацию. Обоснуйте корректность его работы.\n",
    "\n",
    "Нужно защитить данные, чтобы при преобразовании качество моделей машинного обучения не ухудшилось. Подбирать наилучшую модель не требуется."
   ]
  },
  {
   "cell_type": "markdown",
   "metadata": {},
   "source": [
    "## Загрузка данных"
   ]
  },
  {
   "cell_type": "markdown",
   "metadata": {},
   "source": [
    "Выполним загрузку необходимых инструментов и библиотек."
   ]
  },
  {
   "cell_type": "code",
   "execution_count": 1,
   "metadata": {},
   "outputs": [],
   "source": [
    "import pandas as pd\n",
    "import numpy as np\n",
    "\n",
    "from sklearn.linear_model import LinearRegression\n",
    "from sklearn.metrics import r2_score\n",
    "from sklearn.model_selection import train_test_split\n",
    "\n",
    "from sklearn.datasets import make_spd_matrix\n",
    "from sklearn.model_selection import train_test_split, cross_val_score\n",
    "from sklearn.linear_model import LinearRegression\n",
    "from sklearn.metrics import r2_score\n",
    "from numpy.linalg import inv, cond\n",
    "from numpy.random import RandomState"
   ]
  },
  {
   "cell_type": "markdown",
   "metadata": {},
   "source": [
    "Загрузим исходные данные и выполним первичный анализ."
   ]
  },
  {
   "cell_type": "code",
   "execution_count": 2,
   "metadata": {},
   "outputs": [],
   "source": [
    "data = pd.read_csv('/datasets/insurance.csv')"
   ]
  },
  {
   "cell_type": "code",
   "execution_count": 3,
   "metadata": {},
   "outputs": [
    {
     "data": {
      "text/html": [
       "<div>\n",
       "<style scoped>\n",
       "    .dataframe tbody tr th:only-of-type {\n",
       "        vertical-align: middle;\n",
       "    }\n",
       "\n",
       "    .dataframe tbody tr th {\n",
       "        vertical-align: top;\n",
       "    }\n",
       "\n",
       "    .dataframe thead th {\n",
       "        text-align: right;\n",
       "    }\n",
       "</style>\n",
       "<table border=\"1\" class=\"dataframe\">\n",
       "  <thead>\n",
       "    <tr style=\"text-align: right;\">\n",
       "      <th></th>\n",
       "      <th>Пол</th>\n",
       "      <th>Возраст</th>\n",
       "      <th>Зарплата</th>\n",
       "      <th>Члены семьи</th>\n",
       "      <th>Страховые выплаты</th>\n",
       "    </tr>\n",
       "  </thead>\n",
       "  <tbody>\n",
       "    <tr>\n",
       "      <th>0</th>\n",
       "      <td>1</td>\n",
       "      <td>41.0</td>\n",
       "      <td>49600.0</td>\n",
       "      <td>1</td>\n",
       "      <td>0</td>\n",
       "    </tr>\n",
       "    <tr>\n",
       "      <th>1</th>\n",
       "      <td>0</td>\n",
       "      <td>46.0</td>\n",
       "      <td>38000.0</td>\n",
       "      <td>1</td>\n",
       "      <td>1</td>\n",
       "    </tr>\n",
       "    <tr>\n",
       "      <th>2</th>\n",
       "      <td>0</td>\n",
       "      <td>29.0</td>\n",
       "      <td>21000.0</td>\n",
       "      <td>0</td>\n",
       "      <td>0</td>\n",
       "    </tr>\n",
       "    <tr>\n",
       "      <th>3</th>\n",
       "      <td>0</td>\n",
       "      <td>21.0</td>\n",
       "      <td>41700.0</td>\n",
       "      <td>2</td>\n",
       "      <td>0</td>\n",
       "    </tr>\n",
       "    <tr>\n",
       "      <th>4</th>\n",
       "      <td>1</td>\n",
       "      <td>28.0</td>\n",
       "      <td>26100.0</td>\n",
       "      <td>0</td>\n",
       "      <td>0</td>\n",
       "    </tr>\n",
       "  </tbody>\n",
       "</table>\n",
       "</div>"
      ],
      "text/plain": [
       "   Пол  Возраст  Зарплата  Члены семьи  Страховые выплаты\n",
       "0    1     41.0   49600.0            1                  0\n",
       "1    0     46.0   38000.0            1                  1\n",
       "2    0     29.0   21000.0            0                  0\n",
       "3    0     21.0   41700.0            2                  0\n",
       "4    1     28.0   26100.0            0                  0"
      ]
     },
     "execution_count": 3,
     "metadata": {},
     "output_type": "execute_result"
    }
   ],
   "source": [
    "data.head()"
   ]
  },
  {
   "cell_type": "code",
   "execution_count": 4,
   "metadata": {
    "scrolled": true
   },
   "outputs": [
    {
     "name": "stdout",
     "output_type": "stream",
     "text": [
      "<class 'pandas.core.frame.DataFrame'>\n",
      "RangeIndex: 5000 entries, 0 to 4999\n",
      "Data columns (total 5 columns):\n",
      " #   Column             Non-Null Count  Dtype  \n",
      "---  ------             --------------  -----  \n",
      " 0   Пол                5000 non-null   int64  \n",
      " 1   Возраст            5000 non-null   float64\n",
      " 2   Зарплата           5000 non-null   float64\n",
      " 3   Члены семьи        5000 non-null   int64  \n",
      " 4   Страховые выплаты  5000 non-null   int64  \n",
      "dtypes: float64(2), int64(3)\n",
      "memory usage: 195.4 KB\n"
     ]
    }
   ],
   "source": [
    "data.info()"
   ]
  },
  {
   "cell_type": "markdown",
   "metadata": {},
   "source": [
    "Данные содержат 5 столбцов. Первые 4 столбца будут признаками для обучения модели машинного обучения, последний - **Страховые выплаты** является целевым признаком."
   ]
  },
  {
   "cell_type": "markdown",
   "metadata": {},
   "source": [
    "Оценим наличие пропусков данных."
   ]
  },
  {
   "cell_type": "code",
   "execution_count": 5,
   "metadata": {},
   "outputs": [
    {
     "data": {
      "text/plain": [
       "Пол                  0\n",
       "Возраст              0\n",
       "Зарплата             0\n",
       "Члены семьи          0\n",
       "Страховые выплаты    0\n",
       "dtype: int64"
      ]
     },
     "execution_count": 5,
     "metadata": {},
     "output_type": "execute_result"
    }
   ],
   "source": [
    "data.isnull().sum()"
   ]
  },
  {
   "cell_type": "markdown",
   "metadata": {},
   "source": [
    "Пропусков нет."
   ]
  },
  {
   "cell_type": "markdown",
   "metadata": {},
   "source": [
    "Оценим наличие дубликатов"
   ]
  },
  {
   "cell_type": "code",
   "execution_count": 6,
   "metadata": {},
   "outputs": [
    {
     "data": {
      "text/plain": [
       "False    4847\n",
       "True      153\n",
       "dtype: int64"
      ]
     },
     "execution_count": 6,
     "metadata": {},
     "output_type": "execute_result"
    }
   ],
   "source": [
    "data.duplicated().value_counts()"
   ]
  },
  {
   "cell_type": "markdown",
   "metadata": {},
   "source": [
    "Нашлись дубликаты. Т.к. маловероятно совпадение по всем признакам, удалим дубликаты."
   ]
  },
  {
   "cell_type": "code",
   "execution_count": 7,
   "metadata": {},
   "outputs": [
    {
     "data": {
      "text/plain": [
       "False    4847\n",
       "dtype: int64"
      ]
     },
     "execution_count": 7,
     "metadata": {},
     "output_type": "execute_result"
    }
   ],
   "source": [
    "data.drop_duplicates(inplace=True)\n",
    "data.duplicated().value_counts()"
   ]
  },
  {
   "cell_type": "markdown",
   "metadata": {},
   "source": [
    "Избавились от дубликатов."
   ]
  },
  {
   "cell_type": "markdown",
   "metadata": {},
   "source": [
    "**Вывод**"
   ]
  },
  {
   "cell_type": "markdown",
   "metadata": {},
   "source": [
    "Первичный анализ данных показал, что имеем дело с набором данных, который не требует дополнительной обработки. Пропусков данных нет, все данные типизированы верно. Были найдены дубликаты в данных, данные очищены от дубликатов."
   ]
  },
  {
   "cell_type": "markdown",
   "metadata": {},
   "source": [
    "<div class=\"alert alert-block alert-success\">\n",
    "<b>Комментарий ревьюера ✔️</b> \n",
    "\n",
    "Хорошо, данные готовы.\n",
    "</div>\n",
    "\n"
   ]
  },
  {
   "cell_type": "markdown",
   "metadata": {},
   "source": [
    "## Умножение матриц"
   ]
  },
  {
   "cell_type": "markdown",
   "metadata": {},
   "source": [
    "**Проблема:**\n",
    "\n",
    "Изменится ли качество линейной регрессии при умножении признаков на обратимую матрицу?\n",
    "\n",
    "**Ответ:** Качество линейной регрессии не изменится."
   ]
  },
  {
   "cell_type": "markdown",
   "metadata": {},
   "source": [
    "<div class=\"alert alert-block alert-success\">\n",
    "<b>Комментарий ревьюера ✔️</b> \n",
    "\n",
    "Ответ верный.\n",
    "</div>\n"
   ]
  },
  {
   "cell_type": "markdown",
   "metadata": {},
   "source": [
    "Обозначения:\n",
    "\n",
    "- $X$ — матрица признаков (нулевой столбец состоит из единиц)\n",
    "\n",
    "- $y$ — вектор целевого признака\n",
    "\n",
    "- $P$ — матрица, на которую умножаются признаки\n",
    "\n",
    "- $w$ — вектор весов линейной регрессии (нулевой элемент равен сдвигу)"
   ]
  },
  {
   "cell_type": "markdown",
   "metadata": {},
   "source": [
    "Предсказания:\n",
    "\n",
    "$$\n",
    "a = Xw\n",
    "$$\n",
    "\n",
    "Задача обучения:\n",
    "\n",
    "$$\n",
    "w = \\arg\\min_w MSE(Xw, y)\n",
    "$$\n",
    "\n",
    "Формула обучения:\n",
    "\n",
    "$$\n",
    "w = (X^T X)^{-1} X^T y\n",
    "$$\n",
    "\n",
    "При подстановке в формулы вместо X - XP, получаем:\n",
    "\n",
    "Предсказания:\n",
    "\n",
    "$$\n",
    "a = XPw\n",
    "$$\n",
    "\n",
    "Формула обучения:\n",
    "\n",
    "$$\n",
    "w = ((XP)^T XP)^{-1} (XP)^T y\n",
    "$$\n",
    "\n",
    "Формула предсказания станет:\n",
    "\n",
    "$$\n",
    "a = XP((XP)^T XP)^{-1} (XP)^T y\n",
    "$$\n",
    "\n",
    "Раскроем скобки для транспонируемых матриц:\n",
    "\n",
    "$$\n",
    "a = XP(P^TX^TXP)^{-1}P^TX^Ty\n",
    "$$\n",
    "\n",
    "Раскрываем скобки для инверсии:\n",
    "\n",
    "$$\n",
    "a = XP(P)^{-1}(P^TX^TX)^{-1}P^TX^Ty\n",
    "$$\n",
    "$$\n",
    "a = XP(P)^{-1}(X^TX)^{-1}P^(T^{-1})P^TX^Ty\n",
    "$$\n",
    "\n",
    "Произведение матрицы на обратную дает единичную матрицу:\n",
    "$$\n",
    "a = XE(X^TX)^{-1}EX^Ty\n",
    "$$\n",
    "\n",
    "Умножение на единичную матрицу осталвет исходную матрицу:\n",
    "$$\n",
    "a = X(X^TX)^{-1}X^Ty\n",
    "$$\n",
    "\n",
    "Что эквивалентно:\n",
    "\n",
    "$$\n",
    "a = Xw\n",
    "$$"
   ]
  },
  {
   "cell_type": "markdown",
   "metadata": {},
   "source": [
    "<div class=\"alert alert-block alert-success\">\n",
    "<b>Комментарий ревьюера ✔️</b> \n",
    "\n",
    "Доказательство корректное, отлично! Из пожеланий – обозначать новые веса и предсказания другими буквами, например, $w'$ и $a'$, чтобы не запутаться.\n",
    "</div>\n",
    "\n",
    "\n",
    "\n",
    "<div class=\"alert alert-block alert-danger\">\n",
    "<b>Комментарий ревьюера ❌</b> \n",
    "\n",
    "~~В задании еще просили найти связь между параметрами линейной регрессии, т.е. между весами $w$ и $w'$.~~\n",
    "</div>\n"
   ]
  },
  {
   "cell_type": "markdown",
   "metadata": {},
   "source": [
    "<div class=\"alert alert-block alert-warning\">\n",
    "<b>Комментарий студента, изменения:</b> Добавил вывод.\n",
    "\n",
    "</div>"
   ]
  },
  {
   "cell_type": "markdown",
   "metadata": {},
   "source": [
    "Т.е. нам надо доказать, что \n",
    "\n",
    "$$\n",
    "a = Xw = X'w' = XPw' = a'\n",
    "$$\n",
    "\n",
    "Чтобы данное равенство выполнялось, нужно соблюдение условия:\n",
    "\n",
    "$$\n",
    "w' = P^{-1}w\n",
    "$$\n",
    "\n",
    "Получается равенство выше расписывается следующим образом:\n",
    "\n",
    "$$\n",
    "a = Xw = X'(P^{-1}w) = XP(P^{-1}) = XEw = Xw = a\n",
    "$$\n",
    "\n",
    "Т.е. в данном алгоритме веса модели домнажаются на обратную случайную матрицу для соблюдения условия."
   ]
  },
  {
   "cell_type": "markdown",
   "metadata": {},
   "source": [
    "<div class=\"alert alert-block alert-success\">\n",
    "<b>Комментарий ревьюера v2 ✔️</b> \n",
    "\n",
    "Да, все верно. Из доказанного выше $a=a'$ следует, что $w'=P^{-1} w$\n",
    "</div>\n"
   ]
  },
  {
   "cell_type": "markdown",
   "metadata": {},
   "source": [
    "## Алгоритм преобразования"
   ]
  },
  {
   "cell_type": "markdown",
   "metadata": {},
   "source": [
    "**Алгоритм**\n",
    "\n",
    "Создадим алгоритм, который будет при подаче на него исходных признаков данных, будет случайным образом генерировать обратимую матрицу соответствующего размера и умножать исходную матрицу на нее."
   ]
  },
  {
   "cell_type": "markdown",
   "metadata": {},
   "source": [
    "**Обоснование**\n",
    "\n",
    "В шаге 2, получено, что при обучении модели линейной регрессии и предсказании, влияние матрицы, на которую умножаются исходные данные, сходит на нет."
   ]
  },
  {
   "cell_type": "markdown",
   "metadata": {},
   "source": [
    "<div class=\"alert alert-block alert-success\">\n",
    "<b>Комментарий ревьюера ✔️</b> \n",
    "\n",
    "Отлично, все верно! Умножение на случайную матрицу сделает признаки неузнаваемыми, а на качестве модели это не отразится.    \n",
    "    \n",
    "    \n",
    "    \n",
    "</div>\n",
    "\n",
    "\n"
   ]
  },
  {
   "cell_type": "markdown",
   "metadata": {},
   "source": [
    "## Проверка алгоритма"
   ]
  },
  {
   "cell_type": "markdown",
   "metadata": {},
   "source": [
    "Поскольку результаты работы могут быть использованы не только специалистами по DS, то оставим именование признаков не по правилам python, а в общедоступном формате."
   ]
  },
  {
   "cell_type": "markdown",
   "metadata": {},
   "source": [
    "Выполним разделение данных на обучающие признаки и целевой."
   ]
  },
  {
   "cell_type": "code",
   "execution_count": 8,
   "metadata": {},
   "outputs": [],
   "source": [
    "features = data.drop(columns=['Страховые выплаты'])\n",
    "target = data['Страховые выплаты']"
   ]
  },
  {
   "cell_type": "code",
   "execution_count": 9,
   "metadata": {},
   "outputs": [],
   "source": [
    "RANDOM = 48151\n",
    "seed = RandomState(RANDOM)"
   ]
  },
  {
   "cell_type": "markdown",
   "metadata": {},
   "source": [
    "Запишем функцию, которая принимает на себя исходные признаки из данных, создает внутри себя рандомную матрицу, производит умножение исходных данных на рандомную матрицу и возвращает закодированный результат."
   ]
  },
  {
   "cell_type": "code",
   "execution_count": 10,
   "metadata": {},
   "outputs": [],
   "source": [
    "def encode(features):\n",
    "    random_matrix = make_spd_matrix(n_dim = features.shape[1],\n",
    "                                   random_state = seed)\n",
    "    if inv(random_matrix) is False:\n",
    "        XP = features @ random_matrix\n",
    "    else:\n",
    "        random_matrix = make_spd_matrix(n_dim = features.shape[1],\n",
    "                                   random_state = seed)\n",
    "        XP = features @ random_matrix\n",
    "    return XP"
   ]
  },
  {
   "cell_type": "code",
   "execution_count": 11,
   "metadata": {},
   "outputs": [],
   "source": [
    "encoded_features = encode(features)"
   ]
  },
  {
   "cell_type": "markdown",
   "metadata": {},
   "source": [
    "<div class=\"alert alert-block alert-danger\">\n",
    "<b>Комментарий ревьюера ❌</b> \n",
    "\n",
    "\n",
    "~~1) Обрати внимание, функция make_spd_matrix создает не произвольную матрицу, а симметричную положительно определенную матрицу. Но матрица $P$ не обязана быть симметричной.~~\n",
    "    \n",
    "~~2) Также замечу, что если вдруг сгенерированная матрица окажется необратимой (что, вообще говоря, невозможно, так как она положительно определена, но представим, что это произошло), то код выше зациклится, так как генерироваться будет все время одна и та же матрица – random_state при каждой генерации ты задаешь одним и тем же.~~\n",
    "</div>\n"
   ]
  },
  {
   "cell_type": "markdown",
   "metadata": {},
   "source": [
    "<div class=\"alert alert-block alert-warning\">\n",
    "<b>Комментарий студента, изменения:</b> Понял, принял. Не до конца вчитался в смысл функции <b>make_spd_matrix</b>, в коде ниже поправил функцию, заменил на генерацию случайной несимметричной матрицы.\n",
    "\n",
    "</div>"
   ]
  },
  {
   "cell_type": "code",
   "execution_count": 39,
   "metadata": {},
   "outputs": [],
   "source": [
    "def encode_corr(features):\n",
    "    random_matrix = np.random.randint(1000, size=(features.shape[1], features.shape[1]))\n",
    "    XP = features @ random_matrix\n",
    "    try:\n",
    "        inv(random_matrix) != True\n",
    "        print('Случайная матрица обратима, можно применять')\n",
    "    except:\n",
    "        print('Случайная матрица необратима')\n",
    "    return XP"
   ]
  },
  {
   "cell_type": "markdown",
   "metadata": {},
   "source": [
    "<div class=\"alert alert-block alert-success\">\n",
    "<b>Комментарий ревьюера v2 ✔️</b> \n",
    "\n",
    "Ок, хорошо. В принципе, матрица P могла состоять и из вещественных значений.\n",
    "</div>\n"
   ]
  },
  {
   "cell_type": "code",
   "execution_count": 13,
   "metadata": {
    "scrolled": false
   },
   "outputs": [
    {
     "name": "stdout",
     "output_type": "stream",
     "text": [
      "Случайная матрица обратима, можно применять\n"
     ]
    }
   ],
   "source": [
    "encoded_features = encode_corr(features)"
   ]
  },
  {
   "cell_type": "markdown",
   "metadata": {},
   "source": [
    "Создадим класс линейной регрессии для проверки. Также затем проверим на линейной регрессии из sklearn."
   ]
  },
  {
   "cell_type": "code",
   "execution_count": 14,
   "metadata": {},
   "outputs": [],
   "source": [
    "class LinReg:\n",
    "    def fit(self, train_features, train_target):\n",
    "        X = np.concatenate((np.ones((train_features.shape[0], 1)), train_features), axis=1)\n",
    "        y = train_target\n",
    "        w = np.linalg.inv(np.dot(X.T, X)).dot(X.T).dot(y)\n",
    "        self.w = w[1:]\n",
    "        self.w0 = w[0]\n",
    "\n",
    "    def predict(self, test_features):\n",
    "        return test_features.dot(self.w) + self.w0"
   ]
  },
  {
   "cell_type": "code",
   "execution_count": 15,
   "metadata": {},
   "outputs": [],
   "source": [
    "model_original = LinReg()\n",
    "model_encoded = LinReg()"
   ]
  },
  {
   "cell_type": "code",
   "execution_count": 16,
   "metadata": {},
   "outputs": [
    {
     "name": "stdout",
     "output_type": "stream",
     "text": [
      "R2 исходного набора данных: 0.4302010044852068\n"
     ]
    }
   ],
   "source": [
    "model_original.fit(features, target)\n",
    "predictions_original = model_original.predict(features)\n",
    "print(\"R2 исходного набора данных:\", r2_score(target, predictions_original))"
   ]
  },
  {
   "cell_type": "code",
   "execution_count": 17,
   "metadata": {},
   "outputs": [
    {
     "name": "stdout",
     "output_type": "stream",
     "text": [
      "R2 закодированного набора данных: 0.43020100448499843\n"
     ]
    }
   ],
   "source": [
    "model_encoded.fit(encoded_features, target)\n",
    "predictions_encoded = model_encoded.predict(encoded_features)\n",
    "print(\"R2 закодированного набора данных:\", r2_score(target, predictions_encoded))"
   ]
  },
  {
   "cell_type": "markdown",
   "metadata": {},
   "source": [
    "Видим, что величина метрик при обучении модели на исходных и закодированных данных не изменяется."
   ]
  },
  {
   "cell_type": "markdown",
   "metadata": {},
   "source": [
    "Выполним проверку на модели из модуля sklearn."
   ]
  },
  {
   "cell_type": "code",
   "execution_count": 18,
   "metadata": {},
   "outputs": [],
   "source": [
    "model_original_sklearn = LinearRegression(fit_intercept=True, normalize = True)\n",
    "model_encoded_sklearn = LinearRegression(fit_intercept=True, normalize = True)"
   ]
  },
  {
   "cell_type": "code",
   "execution_count": 19,
   "metadata": {},
   "outputs": [
    {
     "name": "stdout",
     "output_type": "stream",
     "text": [
      "R2 исходного набора данных: 0.4302010044852068\n"
     ]
    }
   ],
   "source": [
    "model_original_sklearn.fit(features, target)\n",
    "predictions_original_sklearn = model_original_sklearn.predict(features)\n",
    "print(\"R2 исходного набора данных:\", r2_score(target, predictions_original_sklearn))"
   ]
  },
  {
   "cell_type": "code",
   "execution_count": 20,
   "metadata": {},
   "outputs": [
    {
     "name": "stdout",
     "output_type": "stream",
     "text": [
      "R2 закодированного набора данных: 0.43020100448519394\n"
     ]
    }
   ],
   "source": [
    "model_encoded_sklearn.fit(encoded_features, target)\n",
    "predictions_encoded_sklearn = model_encoded_sklearn.predict(encoded_features)\n",
    "print(\"R2 закодированного набора данных:\", r2_score(target, predictions_encoded_sklearn))"
   ]
  },
  {
   "cell_type": "markdown",
   "metadata": {},
   "source": [
    "Результат совпадает с результатами выше."
   ]
  },
  {
   "cell_type": "markdown",
   "metadata": {},
   "source": [
    "<div class=\"alert alert-block alert-success\">\n",
    "<b>Комментарий ревьюера ✔️</b> \n",
    "\n",
    "Здорово, качество не поменялось!\n",
    "    \n",
    "Можно было поделить выборку на обучающую и тестовую и проверить, что качество не изменится не только на обучающей, но и на тестовой выборке.\n",
    "</div>\n",
    "\n"
   ]
  },
  {
   "cell_type": "markdown",
   "metadata": {},
   "source": [
    "<div class=\"alert alert-block alert-warning\">\n",
    "<b>Комментарий студента, изменения:</b> Ниже добавил проверку с разбивкой на тестовую и обучающую выборки. Т.к с целевым признаком отдельно функция работала некорректно, сначала закодировал весь набор данных, затем уже делил.\n",
    "\n",
    "</div>"
   ]
  },
  {
   "cell_type": "code",
   "execution_count": 21,
   "metadata": {
    "scrolled": false
   },
   "outputs": [
    {
     "name": "stdout",
     "output_type": "stream",
     "text": [
      "Случайная матрица обратима, можно применять\n"
     ]
    }
   ],
   "source": [
    "encoded_data = encode_corr(data)"
   ]
  },
  {
   "cell_type": "code",
   "execution_count": 22,
   "metadata": {},
   "outputs": [],
   "source": [
    "encoded_features = encoded_data.drop(columns=[4])\n",
    "encoded_target = encoded_data[4]"
   ]
  },
  {
   "cell_type": "code",
   "execution_count": 23,
   "metadata": {},
   "outputs": [],
   "source": [
    "target_train_origin, target_test_origin = train_test_split(target, test_size=0.25, random_state=seed)"
   ]
  },
  {
   "cell_type": "code",
   "execution_count": 24,
   "metadata": {},
   "outputs": [],
   "source": [
    "target_train_encoded, target_test_encoded = train_test_split(encoded_target, test_size=0.25, random_state=seed)"
   ]
  },
  {
   "cell_type": "code",
   "execution_count": 25,
   "metadata": {},
   "outputs": [],
   "source": [
    "features_train_origin, features_test_origin = train_test_split(features, test_size=0.25, random_state=seed)"
   ]
  },
  {
   "cell_type": "code",
   "execution_count": 26,
   "metadata": {},
   "outputs": [],
   "source": [
    "features_train_encoded, features_test_encoded = train_test_split(encoded_features, test_size=0.25, random_state=seed)"
   ]
  },
  {
   "cell_type": "code",
   "execution_count": 27,
   "metadata": {
    "scrolled": false
   },
   "outputs": [
    {
     "name": "stdout",
     "output_type": "stream",
     "text": [
      "R2 исходного набора данных: -0.0029090019601951678\n",
      "\n",
      "\n",
      "R2 закодированного набора данных: -0.0007611149584954013\n",
      "\n",
      "\n",
      "R2 исходного набора данных (модель sklearn): -0.0029090019601949457\n",
      "\n",
      "\n",
      "R2 закодированного набора данных (модель sklearn): -0.0007611995068155242\n"
     ]
    }
   ],
   "source": [
    "model_original.fit(features_train_origin, target_train_origin)\n",
    "predictions_original = model_original.predict(features_test_origin)\n",
    "print(\"R2 исходного набора данных:\", r2_score(target_test_origin, predictions_original))\n",
    "print('\\n')\n",
    "model_encoded.fit(features_train_encoded, target_train_encoded)\n",
    "predictions_encoded = model_encoded.predict(features_test_encoded )\n",
    "print(\"R2 закодированного набора данных:\", r2_score(target_test_encoded, predictions_encoded))\n",
    "print('\\n')\n",
    "model_original_sklearn.fit(features_train_origin, target_train_origin)\n",
    "predictions_original_sklearn = model_original_sklearn.predict(features_test_origin)\n",
    "print(\"R2 исходного набора данных (модель sklearn):\", r2_score(target_test_origin, predictions_original_sklearn))\n",
    "print('\\n')\n",
    "model_encoded_sklearn.fit(features_train_encoded, target_train_encoded)\n",
    "predictions_encoded_sklearn = model_encoded_sklearn.predict(features_test_encoded)\n",
    "print(\"R2 закодированного набора данных (модель sklearn):\", r2_score(target_test_encoded, predictions_encoded_sklearn))"
   ]
  },
  {
   "cell_type": "markdown",
   "metadata": {},
   "source": [
    "<div class=\"alert alert-block alert-warning\">\n",
    "<b>Комментарий ревьюера v2 ⚠️</b> \n",
    "\n",
    "Нет, целевой столбец должен остаться без изменений (в доказательстве $y$ не менялся).\n",
    "    \n",
    "Проблема в том, что RandomState(..) генерирует одну и ту же последовательность случайных чисел, а не одно и то же случайное число. Поэтому выборки при вызовах train_test_split у тебя получались не согласованными:\n",
    "</div>\n",
    "\n"
   ]
  },
  {
   "cell_type": "code",
   "execution_count": 54,
   "metadata": {},
   "outputs": [
    {
     "name": "stdout",
     "output_type": "stream",
     "text": [
      "4559    0\n",
      "21      0\n",
      "3219    0\n",
      "3482    0\n",
      "927     0\n",
      "Name: Страховые выплаты, dtype: int64\n",
      "1622    0\n",
      "2983    0\n",
      "3075    0\n",
      "2488    0\n",
      "367     0\n",
      "Name: Страховые выплаты, dtype: int64\n"
     ]
    }
   ],
   "source": [
    "# два раза делим выборку на части с одним и тем же RandomState(..), результаты разные\n",
    "target_train, target_test = train_test_split(target, random_state=seed)\n",
    "print(target_train[:5])\n",
    "\n",
    "target_train, target_test = train_test_split(target, random_state=seed)\n",
    "print(target_train[:5])"
   ]
  },
  {
   "cell_type": "code",
   "execution_count": 55,
   "metadata": {},
   "outputs": [
    {
     "name": "stdout",
     "output_type": "stream",
     "text": [
      "4599    0\n",
      "3882    0\n",
      "4705    0\n",
      "1400    1\n",
      "728     0\n",
      "Name: Страховые выплаты, dtype: int64\n",
      "4599    0\n",
      "3882    0\n",
      "4705    0\n",
      "1400    1\n",
      "728     0\n",
      "Name: Страховые выплаты, dtype: int64\n"
     ]
    }
   ],
   "source": [
    "# два раза делим выборку на части с random_state=12345\n",
    "target_train, target_test = train_test_split(target, random_state=12345)\n",
    "print(target_train[:5])\n",
    "\n",
    "target_train, target_test = train_test_split(target, random_state=12345)\n",
    "print(target_train[:5])"
   ]
  },
  {
   "cell_type": "markdown",
   "metadata": {},
   "source": [
    "<div class=\"alert alert-block alert-success\">\n",
    "<b>Комментарий ревьюера v2 ✔️</b> \n",
    "\n",
    "При random_state=12345 получаются ожидаемые результаты:\n",
    "</div>\n",
    "\n"
   ]
  },
  {
   "cell_type": "code",
   "execution_count": 56,
   "metadata": {},
   "outputs": [
    {
     "name": "stdout",
     "output_type": "stream",
     "text": [
      "Случайная матрица обратима, можно применять\n"
     ]
    }
   ],
   "source": [
    "encoded_features = encode_corr(features)\n",
    "\n",
    "features_train_origin, features_test_origin, target_train_origin, target_test_origin = train_test_split(features, target, test_size=0.25, random_state=12345)\n",
    "features_train_encoded, features_test_encoded = train_test_split(encoded_features, test_size=0.25, random_state=12345)"
   ]
  },
  {
   "cell_type": "code",
   "execution_count": 57,
   "metadata": {},
   "outputs": [
    {
     "name": "stdout",
     "output_type": "stream",
     "text": [
      "R2 исходного набора данных (модель sklearn): 0.42307727492147296\n",
      "R2 преобразованного набора данных (модель sklearn): 0.4230772749222953\n"
     ]
    }
   ],
   "source": [
    "model = LinearRegression()\n",
    "model.fit(features_train_origin, target_train_origin)\n",
    "predictions = model.predict(features_test_origin)\n",
    "print(\"R2 исходного набора данных (модель sklearn):\", r2_score(target_test_origin, predictions))\n",
    "\n",
    "model = LinearRegression()\n",
    "model.fit(features_train_encoded, target_train_origin)\n",
    "predictions = model.predict(features_test_encoded)\n",
    "print(\"R2 преобразованного набора данных (модель sklearn):\", r2_score(target_test_origin, predictions))"
   ]
  },
  {
   "cell_type": "markdown",
   "metadata": {},
   "source": [
    "<div class=\"alert alert-block alert-warning\">\n",
    "<b>Комментарий студента, изменения:</b> Даже не знаю как такой результат комментировать. Качество модель не изменилось, потому что куда уж хуже меняться, но разница в метриках в 1 тысячную это много? Является ли это признаком, что алгоритм работает как то не так?\n",
    "\n",
    "</div>"
   ]
  },
  {
   "cell_type": "markdown",
   "metadata": {},
   "source": [
    "**Вывод**"
   ]
  },
  {
   "cell_type": "markdown",
   "metadata": {},
   "source": [
    "В рамках выполнения проекта было подтверждено и обосновано, что умножение матрицы признаков на обратимую матрицу позволяет преобразовать ее, при этом не привнеся искажений в результаты работы линейной регрессии.\n",
    "\n",
    "Реализован алгоритм кодирования данных, основанный на доказанном утверждении.\n",
    "\n",
    "Выполнена проверка результатов качества предсказаний моделей линейной регрессии записанной вручную и из модуля sklearn на двух вариантах обучающих признаков."
   ]
  },
  {
   "cell_type": "markdown",
   "metadata": {},
   "source": [
    "<div style=\"border:solid green 2px; padding: 20px\">\n",
    "<b>Комментарий ревьюера:</b>    \n",
    "    \n",
    "Алексей, отличная работа! 👍\n",
    "    \n",
    "Доработать требуется немного:\n",
    "    \n",
    "- найти связь между весами в исходной и преобразованной задаче;\n",
    "- сгенерировать случайную несимметричную матрицу."
   ]
  },
  {
   "cell_type": "markdown",
   "metadata": {},
   "source": [
    "<div style=\"border:solid green 2px; padding: 20px\">\n",
    "<b>Комментарий ревьюера v2:</b>   \n",
    "    \n",
    "Алексей, успехов в дальнейших проектах!"
   ]
  },
  {
   "cell_type": "markdown",
   "metadata": {},
   "source": [
    "## Чек-лист проверки"
   ]
  },
  {
   "cell_type": "markdown",
   "metadata": {},
   "source": [
    "Поставьте 'x' в выполненных пунктах. Далее нажмите Shift+Enter."
   ]
  },
  {
   "cell_type": "markdown",
   "metadata": {},
   "source": [
    "- [x]  Jupyter Notebook открыт\n",
    "- [x]  Весь код выполняется без ошибок\n",
    "- [x]  Ячейки с кодом расположены в порядке исполнения\n",
    "- [x]  Выполнен шаг 1: данные загружены\n",
    "- [x]  Выполнен шаг 2: получен ответ на вопрос об умножении матриц\n",
    "    - [x]  Указан правильный вариант ответа\n",
    "    - [x]  Вариант обоснован\n",
    "- [x]  Выполнен шаг 3: предложен алгоритм преобразования\n",
    "    - [x]  Алгоритм описан\n",
    "    - [x]  Алгоритм обоснован\n",
    "- [x]  Выполнен шаг 4: алгоритм проверен\n",
    "    - [x]  Алгоритм реализован\n",
    "    - [x]  Проведено сравнение качества моделей до и после преобразования"
   ]
  }
 ],
 "metadata": {
  "ExecuteTimeLog": [
   {
    "duration": 1311,
    "start_time": "2022-04-05T08:58:49.160Z"
   },
   {
    "duration": 225,
    "start_time": "2022-04-05T08:59:04.846Z"
   },
   {
    "duration": 18,
    "start_time": "2022-04-05T08:59:11.415Z"
   },
   {
    "duration": 19,
    "start_time": "2022-04-05T08:59:18.048Z"
   },
   {
    "duration": 12,
    "start_time": "2022-04-05T09:00:13.434Z"
   },
   {
    "duration": 7,
    "start_time": "2022-04-05T09:02:02.160Z"
   },
   {
    "duration": 13,
    "start_time": "2022-04-05T09:02:41.339Z"
   },
   {
    "duration": 11,
    "start_time": "2022-04-05T09:02:47.109Z"
   },
   {
    "duration": 8,
    "start_time": "2022-04-05T09:02:55.892Z"
   },
   {
    "duration": 7,
    "start_time": "2022-04-05T09:02:59.396Z"
   },
   {
    "duration": 7,
    "start_time": "2022-04-05T09:03:05.421Z"
   },
   {
    "duration": 8,
    "start_time": "2022-04-05T09:03:09.839Z"
   },
   {
    "duration": 10,
    "start_time": "2022-04-05T09:03:13.890Z"
   },
   {
    "duration": 7,
    "start_time": "2022-04-05T09:03:45.359Z"
   },
   {
    "duration": 7,
    "start_time": "2022-04-05T09:03:48.929Z"
   },
   {
    "duration": 7,
    "start_time": "2022-04-05T09:36:48.811Z"
   },
   {
    "duration": 9,
    "start_time": "2022-04-05T09:37:47.876Z"
   },
   {
    "duration": 10,
    "start_time": "2022-04-05T09:37:51.926Z"
   },
   {
    "duration": 4,
    "start_time": "2022-04-05T09:40:09.668Z"
   },
   {
    "duration": 5,
    "start_time": "2022-04-05T09:43:29.283Z"
   },
   {
    "duration": 3,
    "start_time": "2022-04-05T10:02:34.542Z"
   },
   {
    "duration": 3,
    "start_time": "2022-04-05T10:02:59.330Z"
   },
   {
    "duration": 3,
    "start_time": "2022-04-05T10:03:47.035Z"
   },
   {
    "duration": 13,
    "start_time": "2022-04-05T10:03:54.724Z"
   },
   {
    "duration": 3,
    "start_time": "2022-04-05T10:04:52.010Z"
   },
   {
    "duration": 13,
    "start_time": "2022-04-05T10:04:53.695Z"
   },
   {
    "duration": 137,
    "start_time": "2022-04-05T10:05:45.616Z"
   },
   {
    "duration": 3,
    "start_time": "2022-04-05T10:05:50.108Z"
   },
   {
    "duration": 20,
    "start_time": "2022-04-05T10:05:52.318Z"
   },
   {
    "duration": 4,
    "start_time": "2022-04-05T10:06:02.220Z"
   },
   {
    "duration": 4,
    "start_time": "2022-04-05T10:06:03.840Z"
   },
   {
    "duration": 4,
    "start_time": "2022-04-05T10:06:11.529Z"
   },
   {
    "duration": 4,
    "start_time": "2022-04-05T10:06:26.807Z"
   },
   {
    "duration": 15,
    "start_time": "2022-04-05T10:06:28.683Z"
   },
   {
    "duration": 4,
    "start_time": "2022-04-05T10:06:53.954Z"
   },
   {
    "duration": 18,
    "start_time": "2022-04-05T10:06:55.984Z"
   },
   {
    "duration": 3,
    "start_time": "2022-04-05T10:08:30.203Z"
   },
   {
    "duration": 2,
    "start_time": "2022-04-05T10:08:42.034Z"
   },
   {
    "duration": 13,
    "start_time": "2022-04-05T10:09:44.459Z"
   },
   {
    "duration": 33,
    "start_time": "2022-04-05T10:09:53.868Z"
   },
   {
    "duration": 9,
    "start_time": "2022-04-05T10:10:03.271Z"
   },
   {
    "duration": 5,
    "start_time": "2022-04-05T10:10:36.858Z"
   },
   {
    "duration": 13,
    "start_time": "2022-04-05T10:10:48.792Z"
   },
   {
    "duration": 3,
    "start_time": "2022-04-05T10:13:26.226Z"
   },
   {
    "duration": 11,
    "start_time": "2022-04-05T10:13:43.864Z"
   },
   {
    "duration": 11,
    "start_time": "2022-04-05T10:14:05.396Z"
   },
   {
    "duration": 1272,
    "start_time": "2022-04-05T10:16:49.494Z"
   },
   {
    "duration": 13,
    "start_time": "2022-04-05T10:16:50.769Z"
   },
   {
    "duration": 24,
    "start_time": "2022-04-05T10:16:50.784Z"
   },
   {
    "duration": 12,
    "start_time": "2022-04-05T10:16:50.810Z"
   },
   {
    "duration": 12,
    "start_time": "2022-04-05T10:16:50.825Z"
   },
   {
    "duration": 10,
    "start_time": "2022-04-05T10:16:50.838Z"
   },
   {
    "duration": 9,
    "start_time": "2022-04-05T10:16:50.850Z"
   },
   {
    "duration": 4,
    "start_time": "2022-04-05T10:16:50.861Z"
   },
   {
    "duration": 7,
    "start_time": "2022-04-05T10:16:50.867Z"
   },
   {
    "duration": 7,
    "start_time": "2022-04-05T10:16:50.900Z"
   },
   {
    "duration": 8,
    "start_time": "2022-04-05T10:16:50.909Z"
   },
   {
    "duration": 89,
    "start_time": "2022-04-05T10:16:50.920Z"
   },
   {
    "duration": 100,
    "start_time": "2022-04-05T10:16:51.011Z"
   },
   {
    "duration": 10,
    "start_time": "2022-04-05T10:16:51.203Z"
   },
   {
    "duration": 94,
    "start_time": "2022-04-05T10:16:51.216Z"
   },
   {
    "duration": 107,
    "start_time": "2022-04-05T10:16:51.314Z"
   },
   {
    "duration": 180,
    "start_time": "2022-04-05T10:16:51.424Z"
   },
   {
    "duration": 4,
    "start_time": "2022-04-05T10:20:10.175Z"
   },
   {
    "duration": 3,
    "start_time": "2022-04-05T10:21:13.474Z"
   },
   {
    "duration": 3,
    "start_time": "2022-04-05T10:21:33.158Z"
   },
   {
    "duration": 3,
    "start_time": "2022-04-05T10:21:34.778Z"
   },
   {
    "duration": 5,
    "start_time": "2022-04-05T10:21:35.850Z"
   },
   {
    "duration": 1356,
    "start_time": "2022-04-05T10:22:25.272Z"
   },
   {
    "duration": 14,
    "start_time": "2022-04-05T10:22:26.630Z"
   },
   {
    "duration": 18,
    "start_time": "2022-04-05T10:22:26.646Z"
   },
   {
    "duration": 12,
    "start_time": "2022-04-05T10:22:26.666Z"
   },
   {
    "duration": 23,
    "start_time": "2022-04-05T10:22:26.680Z"
   },
   {
    "duration": 9,
    "start_time": "2022-04-05T10:22:26.705Z"
   },
   {
    "duration": 11,
    "start_time": "2022-04-05T10:22:26.716Z"
   },
   {
    "duration": 4,
    "start_time": "2022-04-05T10:22:26.728Z"
   },
   {
    "duration": 9,
    "start_time": "2022-04-05T10:22:26.734Z"
   },
   {
    "duration": 5,
    "start_time": "2022-04-05T10:22:26.746Z"
   },
   {
    "duration": 12,
    "start_time": "2022-04-05T10:22:26.753Z"
   },
   {
    "duration": 6,
    "start_time": "2022-04-05T10:22:26.802Z"
   },
   {
    "duration": 91,
    "start_time": "2022-04-05T10:22:26.810Z"
   },
   {
    "duration": 11,
    "start_time": "2022-04-05T10:22:26.904Z"
   },
   {
    "duration": 189,
    "start_time": "2022-04-05T10:22:26.917Z"
   },
   {
    "duration": 95,
    "start_time": "2022-04-05T10:22:27.108Z"
   },
   {
    "duration": 109,
    "start_time": "2022-04-05T10:22:27.207Z"
   },
   {
    "duration": 90,
    "start_time": "2022-04-05T10:22:27.319Z"
   },
   {
    "duration": 24569,
    "start_time": "2022-04-05T15:25:08.346Z"
   },
   {
    "duration": 15,
    "start_time": "2022-04-05T15:25:32.917Z"
   },
   {
    "duration": 34,
    "start_time": "2022-04-05T15:25:32.935Z"
   },
   {
    "duration": 16,
    "start_time": "2022-04-05T15:25:32.973Z"
   },
   {
    "duration": 11,
    "start_time": "2022-04-05T15:25:32.992Z"
   },
   {
    "duration": 11,
    "start_time": "2022-04-05T15:25:33.006Z"
   },
   {
    "duration": 55,
    "start_time": "2022-04-05T15:25:33.020Z"
   },
   {
    "duration": 5,
    "start_time": "2022-04-05T15:25:33.078Z"
   },
   {
    "duration": 8,
    "start_time": "2022-04-05T15:25:33.085Z"
   },
   {
    "duration": 13,
    "start_time": "2022-04-05T15:25:33.096Z"
   },
   {
    "duration": 8,
    "start_time": "2022-04-05T15:25:35.324Z"
   },
   {
    "duration": 7,
    "start_time": "2022-04-05T15:25:41.964Z"
   },
   {
    "duration": 8,
    "start_time": "2022-04-05T15:25:44.314Z"
   },
   {
    "duration": 13,
    "start_time": "2022-04-05T16:12:21.033Z"
   },
   {
    "duration": 1621,
    "start_time": "2022-04-05T16:12:29.232Z"
   },
   {
    "duration": 21,
    "start_time": "2022-04-05T16:12:30.856Z"
   },
   {
    "duration": 24,
    "start_time": "2022-04-05T16:12:30.879Z"
   },
   {
    "duration": 19,
    "start_time": "2022-04-05T16:12:30.905Z"
   },
   {
    "duration": 8,
    "start_time": "2022-04-05T16:12:30.926Z"
   },
   {
    "duration": 42,
    "start_time": "2022-04-05T16:12:30.936Z"
   },
   {
    "duration": 13,
    "start_time": "2022-04-05T16:12:30.980Z"
   },
   {
    "duration": 10,
    "start_time": "2022-04-05T16:12:30.995Z"
   },
   {
    "duration": 22,
    "start_time": "2022-04-05T16:12:31.007Z"
   },
   {
    "duration": 17,
    "start_time": "2022-04-05T16:12:31.031Z"
   },
   {
    "duration": 14,
    "start_time": "2022-04-05T16:12:31.051Z"
   },
   {
    "duration": 165,
    "start_time": "2022-04-05T16:12:31.067Z"
   },
   {
    "duration": 0,
    "start_time": "2022-04-05T16:12:31.235Z"
   },
   {
    "duration": 0,
    "start_time": "2022-04-05T16:12:31.237Z"
   },
   {
    "duration": 0,
    "start_time": "2022-04-05T16:12:31.238Z"
   },
   {
    "duration": 0,
    "start_time": "2022-04-05T16:12:31.239Z"
   },
   {
    "duration": 0,
    "start_time": "2022-04-05T16:12:31.241Z"
   },
   {
    "duration": 0,
    "start_time": "2022-04-05T16:12:31.243Z"
   },
   {
    "duration": 0,
    "start_time": "2022-04-05T16:12:31.244Z"
   },
   {
    "duration": 5,
    "start_time": "2022-04-05T16:13:05.668Z"
   },
   {
    "duration": 1537,
    "start_time": "2022-04-05T16:13:07.562Z"
   },
   {
    "duration": 4,
    "start_time": "2022-04-05T16:13:32.591Z"
   },
   {
    "duration": 544,
    "start_time": "2022-04-05T16:13:34.460Z"
   },
   {
    "duration": 4,
    "start_time": "2022-04-05T16:13:41.692Z"
   },
   {
    "duration": 1248,
    "start_time": "2022-04-05T16:13:43.588Z"
   },
   {
    "duration": 1105,
    "start_time": "2022-04-05T16:13:53.532Z"
   },
   {
    "duration": 124,
    "start_time": "2022-04-05T16:14:59.822Z"
   },
   {
    "duration": 4,
    "start_time": "2022-04-05T16:15:03.541Z"
   },
   {
    "duration": 5,
    "start_time": "2022-04-05T16:15:10.897Z"
   },
   {
    "duration": 6,
    "start_time": "2022-04-05T16:15:15.512Z"
   },
   {
    "duration": 7,
    "start_time": "2022-04-05T16:15:23.887Z"
   },
   {
    "duration": 6,
    "start_time": "2022-04-05T16:15:24.632Z"
   },
   {
    "duration": 6,
    "start_time": "2022-04-05T16:15:25.321Z"
   },
   {
    "duration": 7,
    "start_time": "2022-04-05T16:15:26.300Z"
   },
   {
    "duration": 1136,
    "start_time": "2022-04-05T16:15:32.217Z"
   },
   {
    "duration": 596,
    "start_time": "2022-04-05T16:15:37.494Z"
   },
   {
    "duration": 1084,
    "start_time": "2022-04-05T16:16:17.880Z"
   },
   {
    "duration": 6,
    "start_time": "2022-04-05T16:16:23.403Z"
   },
   {
    "duration": 7,
    "start_time": "2022-04-05T16:16:28.192Z"
   },
   {
    "duration": 6,
    "start_time": "2022-04-05T16:16:28.769Z"
   },
   {
    "duration": 7,
    "start_time": "2022-04-05T16:16:37.209Z"
   },
   {
    "duration": 4,
    "start_time": "2022-04-05T16:17:35.341Z"
   },
   {
    "duration": 21,
    "start_time": "2022-04-05T16:17:41.308Z"
   },
   {
    "duration": 5,
    "start_time": "2022-04-05T16:18:19.069Z"
   },
   {
    "duration": 21,
    "start_time": "2022-04-05T16:18:21.049Z"
   },
   {
    "duration": 4,
    "start_time": "2022-04-05T16:18:29.047Z"
   },
   {
    "duration": 17,
    "start_time": "2022-04-05T16:18:31.161Z"
   },
   {
    "duration": 5,
    "start_time": "2022-04-05T16:18:51.641Z"
   },
   {
    "duration": 5,
    "start_time": "2022-04-05T16:18:54.079Z"
   },
   {
    "duration": 11,
    "start_time": "2022-04-05T16:19:01.166Z"
   },
   {
    "duration": 5,
    "start_time": "2022-04-05T16:19:13.664Z"
   },
   {
    "duration": 12,
    "start_time": "2022-04-05T16:19:15.690Z"
   },
   {
    "duration": 6,
    "start_time": "2022-04-05T16:19:34.665Z"
   },
   {
    "duration": 18,
    "start_time": "2022-04-05T16:19:35.653Z"
   },
   {
    "duration": 4,
    "start_time": "2022-04-05T16:19:48.250Z"
   },
   {
    "duration": 18,
    "start_time": "2022-04-05T16:19:50.208Z"
   },
   {
    "duration": 4,
    "start_time": "2022-04-05T16:20:00.208Z"
   },
   {
    "duration": 33,
    "start_time": "2022-04-05T16:20:01.679Z"
   },
   {
    "duration": 6,
    "start_time": "2022-04-05T16:20:08.898Z"
   },
   {
    "duration": 3,
    "start_time": "2022-04-05T16:20:09.943Z"
   },
   {
    "duration": 10,
    "start_time": "2022-04-05T16:20:10.677Z"
   },
   {
    "duration": 10,
    "start_time": "2022-04-05T16:20:12.046Z"
   },
   {
    "duration": 4,
    "start_time": "2022-04-05T16:20:16.772Z"
   },
   {
    "duration": 14,
    "start_time": "2022-04-05T16:20:17.472Z"
   },
   {
    "duration": 14,
    "start_time": "2022-04-05T16:20:18.363Z"
   },
   {
    "duration": 4,
    "start_time": "2022-04-05T16:21:20.237Z"
   },
   {
    "duration": 7,
    "start_time": "2022-04-05T16:21:27.018Z"
   },
   {
    "duration": 4,
    "start_time": "2022-04-05T16:21:46.473Z"
   },
   {
    "duration": 7,
    "start_time": "2022-04-05T16:21:52.364Z"
   },
   {
    "duration": 522,
    "start_time": "2022-04-05T16:22:02.175Z"
   },
   {
    "duration": 551,
    "start_time": "2022-04-05T16:22:12.459Z"
   },
   {
    "duration": 1067,
    "start_time": "2022-04-05T16:22:19.068Z"
   },
   {
    "duration": 1048,
    "start_time": "2022-04-05T16:22:48.100Z"
   },
   {
    "duration": 1487,
    "start_time": "2022-04-05T16:24:45.005Z"
   },
   {
    "duration": 5,
    "start_time": "2022-04-05T16:24:54.492Z"
   },
   {
    "duration": 5,
    "start_time": "2022-04-05T16:24:56.392Z"
   },
   {
    "duration": 6,
    "start_time": "2022-04-05T16:24:56.873Z"
   },
   {
    "duration": 5,
    "start_time": "2022-04-05T16:24:59.656Z"
   },
   {
    "duration": 6,
    "start_time": "2022-04-05T16:25:00.111Z"
   },
   {
    "duration": 7,
    "start_time": "2022-04-05T16:25:01.029Z"
   },
   {
    "duration": 6,
    "start_time": "2022-04-05T16:25:01.391Z"
   },
   {
    "duration": 6,
    "start_time": "2022-04-05T16:25:01.704Z"
   },
   {
    "duration": 6,
    "start_time": "2022-04-05T16:25:02.014Z"
   },
   {
    "duration": 6,
    "start_time": "2022-04-05T16:25:02.264Z"
   },
   {
    "duration": 7,
    "start_time": "2022-04-05T16:25:02.481Z"
   },
   {
    "duration": 6,
    "start_time": "2022-04-05T16:25:02.683Z"
   },
   {
    "duration": 6,
    "start_time": "2022-04-05T16:25:02.912Z"
   },
   {
    "duration": 7,
    "start_time": "2022-04-05T16:30:19.592Z"
   },
   {
    "duration": 4,
    "start_time": "2022-04-05T16:30:54.616Z"
   },
   {
    "duration": 20,
    "start_time": "2022-04-05T16:30:56.775Z"
   },
   {
    "duration": 6,
    "start_time": "2022-04-05T16:31:01.969Z"
   },
   {
    "duration": 5,
    "start_time": "2022-04-05T16:31:02.722Z"
   },
   {
    "duration": 15,
    "start_time": "2022-04-05T16:31:03.483Z"
   },
   {
    "duration": 17,
    "start_time": "2022-04-05T16:31:04.966Z"
   },
   {
    "duration": 4,
    "start_time": "2022-04-05T16:31:09.065Z"
   },
   {
    "duration": 13,
    "start_time": "2022-04-05T16:31:10.065Z"
   },
   {
    "duration": 15,
    "start_time": "2022-04-05T16:31:11.223Z"
   },
   {
    "duration": 5,
    "start_time": "2022-04-05T16:31:48.506Z"
   },
   {
    "duration": 20,
    "start_time": "2022-04-05T16:31:50.053Z"
   },
   {
    "duration": 5,
    "start_time": "2022-04-05T16:31:53.692Z"
   },
   {
    "duration": 4,
    "start_time": "2022-04-05T16:37:44.054Z"
   },
   {
    "duration": 5,
    "start_time": "2022-04-05T16:37:46.278Z"
   },
   {
    "duration": 18,
    "start_time": "2022-04-05T16:37:51.701Z"
   },
   {
    "duration": 17,
    "start_time": "2022-04-05T16:37:53.952Z"
   },
   {
    "duration": 19,
    "start_time": "2022-04-05T16:37:54.692Z"
   },
   {
    "duration": 19,
    "start_time": "2022-04-05T16:37:55.298Z"
   },
   {
    "duration": 18,
    "start_time": "2022-04-05T16:37:55.938Z"
   },
   {
    "duration": 19,
    "start_time": "2022-04-05T16:37:56.531Z"
   },
   {
    "duration": 6,
    "start_time": "2022-04-05T16:38:01.292Z"
   },
   {
    "duration": 5,
    "start_time": "2022-04-05T16:38:20.048Z"
   },
   {
    "duration": 5,
    "start_time": "2022-04-05T16:38:21.898Z"
   },
   {
    "duration": 1534,
    "start_time": "2022-04-05T16:38:35.917Z"
   },
   {
    "duration": 14,
    "start_time": "2022-04-05T16:38:37.454Z"
   },
   {
    "duration": 24,
    "start_time": "2022-04-05T16:38:37.470Z"
   },
   {
    "duration": 16,
    "start_time": "2022-04-05T16:38:37.498Z"
   },
   {
    "duration": 11,
    "start_time": "2022-04-05T16:38:37.517Z"
   },
   {
    "duration": 44,
    "start_time": "2022-04-05T16:38:37.530Z"
   },
   {
    "duration": 14,
    "start_time": "2022-04-05T16:38:37.577Z"
   },
   {
    "duration": 6,
    "start_time": "2022-04-05T16:38:37.594Z"
   },
   {
    "duration": 6,
    "start_time": "2022-04-05T16:38:37.603Z"
   },
   {
    "duration": 5,
    "start_time": "2022-04-05T16:38:37.613Z"
   },
   {
    "duration": 61,
    "start_time": "2022-04-05T16:38:37.621Z"
   },
   {
    "duration": 5,
    "start_time": "2022-04-05T16:38:37.684Z"
   },
   {
    "duration": 84,
    "start_time": "2022-04-05T16:38:37.692Z"
   },
   {
    "duration": 5,
    "start_time": "2022-04-05T16:38:37.779Z"
   },
   {
    "duration": 88,
    "start_time": "2022-04-05T16:38:37.786Z"
   },
   {
    "duration": 99,
    "start_time": "2022-04-05T16:38:37.877Z"
   },
   {
    "duration": 101,
    "start_time": "2022-04-05T16:38:37.979Z"
   },
   {
    "duration": 99,
    "start_time": "2022-04-05T16:38:38.083Z"
   },
   {
    "duration": 18,
    "start_time": "2022-04-05T16:38:38.273Z"
   },
   {
    "duration": 105,
    "start_time": "2022-04-05T16:38:38.379Z"
   },
   {
    "duration": 6,
    "start_time": "2022-04-05T16:40:53.296Z"
   },
   {
    "duration": 153,
    "start_time": "2022-04-05T16:40:54.190Z"
   },
   {
    "duration": 6,
    "start_time": "2022-04-05T16:40:58.940Z"
   },
   {
    "duration": 7,
    "start_time": "2022-04-05T16:41:37.057Z"
   },
   {
    "duration": 6,
    "start_time": "2022-04-05T16:41:39.029Z"
   },
   {
    "duration": 7,
    "start_time": "2022-04-05T16:41:39.588Z"
   },
   {
    "duration": 5,
    "start_time": "2022-04-05T16:41:40.152Z"
   },
   {
    "duration": 5,
    "start_time": "2022-04-05T16:45:46.107Z"
   },
   {
    "duration": 6,
    "start_time": "2022-04-05T16:45:46.837Z"
   },
   {
    "duration": 6,
    "start_time": "2022-04-05T16:45:47.541Z"
   },
   {
    "duration": 130,
    "start_time": "2022-04-05T16:45:48.227Z"
   },
   {
    "duration": 172,
    "start_time": "2022-04-05T16:46:09.835Z"
   },
   {
    "duration": 61,
    "start_time": "2022-04-05T16:46:23.420Z"
   },
   {
    "duration": 16,
    "start_time": "2022-04-05T16:48:56.980Z"
   },
   {
    "duration": 5,
    "start_time": "2022-04-05T16:49:20.148Z"
   },
   {
    "duration": 21,
    "start_time": "2022-04-05T16:49:22.347Z"
   },
   {
    "duration": 5,
    "start_time": "2022-04-05T16:49:27.912Z"
   },
   {
    "duration": 13,
    "start_time": "2022-04-05T16:49:29.586Z"
   },
   {
    "duration": 6,
    "start_time": "2022-04-05T16:49:32.767Z"
   },
   {
    "duration": 5,
    "start_time": "2022-04-05T16:49:34.334Z"
   },
   {
    "duration": 7,
    "start_time": "2022-04-05T16:49:35.248Z"
   },
   {
    "duration": 6,
    "start_time": "2022-04-05T16:49:35.862Z"
   },
   {
    "duration": 9,
    "start_time": "2022-04-05T16:49:36.263Z"
   },
   {
    "duration": 6,
    "start_time": "2022-04-05T16:49:36.675Z"
   },
   {
    "duration": 5,
    "start_time": "2022-04-05T16:49:37.238Z"
   },
   {
    "duration": 6,
    "start_time": "2022-04-05T16:49:37.863Z"
   },
   {
    "duration": 5,
    "start_time": "2022-04-05T16:49:57.559Z"
   },
   {
    "duration": 204,
    "start_time": "2022-04-05T16:49:59.547Z"
   },
   {
    "duration": 5,
    "start_time": "2022-04-05T16:50:06.855Z"
   },
   {
    "duration": 6,
    "start_time": "2022-04-05T16:50:07.794Z"
   },
   {
    "duration": 15,
    "start_time": "2022-04-05T16:50:13.980Z"
   },
   {
    "duration": 6,
    "start_time": "2022-04-05T16:50:16.283Z"
   },
   {
    "duration": 12,
    "start_time": "2022-04-05T16:50:18.531Z"
   },
   {
    "duration": 8,
    "start_time": "2022-04-05T16:50:20.071Z"
   },
   {
    "duration": 7,
    "start_time": "2022-04-05T16:50:20.832Z"
   },
   {
    "duration": 20,
    "start_time": "2022-04-05T16:50:21.587Z"
   },
   {
    "duration": 6,
    "start_time": "2022-04-05T16:51:24.809Z"
   },
   {
    "duration": 23283,
    "start_time": "2022-04-05T16:51:26.249Z"
   },
   {
    "duration": 5,
    "start_time": "2022-04-05T16:51:53.181Z"
   },
   {
    "duration": 4,
    "start_time": "2022-04-05T16:51:53.998Z"
   },
   {
    "duration": 5,
    "start_time": "2022-04-05T16:51:54.974Z"
   },
   {
    "duration": 4,
    "start_time": "2022-04-05T16:51:55.326Z"
   },
   {
    "duration": 5,
    "start_time": "2022-04-05T16:51:55.515Z"
   },
   {
    "duration": 5,
    "start_time": "2022-04-05T16:51:56.470Z"
   },
   {
    "duration": 5,
    "start_time": "2022-04-05T16:51:57.281Z"
   },
   {
    "duration": 4,
    "start_time": "2022-04-05T16:52:09.983Z"
   },
   {
    "duration": 5,
    "start_time": "2022-04-05T16:52:11.421Z"
   },
   {
    "duration": 4,
    "start_time": "2022-04-05T16:52:26.004Z"
   },
   {
    "duration": 5,
    "start_time": "2022-04-05T16:52:27.938Z"
   },
   {
    "duration": 6,
    "start_time": "2022-04-05T16:53:15.074Z"
   },
   {
    "duration": 21,
    "start_time": "2022-04-05T16:53:55.266Z"
   },
   {
    "duration": 6,
    "start_time": "2022-04-05T16:54:06.692Z"
   },
   {
    "duration": 17,
    "start_time": "2022-04-05T16:54:17.781Z"
   },
   {
    "duration": 5,
    "start_time": "2022-04-05T16:54:34.844Z"
   },
   {
    "duration": 6,
    "start_time": "2022-04-05T16:54:37.282Z"
   },
   {
    "duration": 5,
    "start_time": "2022-04-05T16:54:38.076Z"
   },
   {
    "duration": 7,
    "start_time": "2022-04-05T16:54:39.106Z"
   },
   {
    "duration": 6,
    "start_time": "2022-04-05T16:54:39.869Z"
   },
   {
    "duration": 121,
    "start_time": "2022-04-05T16:54:40.865Z"
   },
   {
    "duration": 1592,
    "start_time": "2022-04-05T16:57:02.864Z"
   },
   {
    "duration": 15,
    "start_time": "2022-04-05T16:57:04.459Z"
   },
   {
    "duration": 24,
    "start_time": "2022-04-05T16:57:04.476Z"
   },
   {
    "duration": 17,
    "start_time": "2022-04-05T16:57:04.501Z"
   },
   {
    "duration": 8,
    "start_time": "2022-04-05T16:57:04.521Z"
   },
   {
    "duration": 45,
    "start_time": "2022-04-05T16:57:04.531Z"
   },
   {
    "duration": 14,
    "start_time": "2022-04-05T16:57:04.578Z"
   },
   {
    "duration": 5,
    "start_time": "2022-04-05T16:57:04.594Z"
   },
   {
    "duration": 7,
    "start_time": "2022-04-05T16:57:04.601Z"
   },
   {
    "duration": 6,
    "start_time": "2022-04-05T16:57:04.611Z"
   },
   {
    "duration": 54,
    "start_time": "2022-04-05T16:57:04.620Z"
   },
   {
    "duration": 6,
    "start_time": "2022-04-05T16:57:04.677Z"
   },
   {
    "duration": 93,
    "start_time": "2022-04-05T16:57:04.686Z"
   },
   {
    "duration": 6,
    "start_time": "2022-04-05T16:57:04.784Z"
   },
   {
    "duration": 82,
    "start_time": "2022-04-05T16:57:04.793Z"
   },
   {
    "duration": 97,
    "start_time": "2022-04-05T16:57:04.877Z"
   },
   {
    "duration": 102,
    "start_time": "2022-04-05T16:57:04.978Z"
   },
   {
    "duration": 101,
    "start_time": "2022-04-05T16:57:05.083Z"
   },
   {
    "duration": 102,
    "start_time": "2022-04-05T16:57:05.187Z"
   },
   {
    "duration": 184,
    "start_time": "2022-04-05T16:57:05.293Z"
   },
   {
    "duration": 101,
    "start_time": "2022-04-05T16:57:05.480Z"
   },
   {
    "duration": 90,
    "start_time": "2022-04-05T16:57:05.585Z"
   },
   {
    "duration": 97,
    "start_time": "2022-04-05T16:57:05.678Z"
   },
   {
    "duration": 9,
    "start_time": "2022-04-05T16:57:05.778Z"
   },
   {
    "duration": 8,
    "start_time": "2022-04-05T16:57:05.789Z"
   },
   {
    "duration": 11,
    "start_time": "2022-04-05T16:57:05.799Z"
   },
   {
    "duration": 77,
    "start_time": "2022-04-05T16:57:05.812Z"
   },
   {
    "duration": 2114,
    "start_time": "2022-04-05T19:46:51.986Z"
   },
   {
    "duration": 16,
    "start_time": "2022-04-05T19:46:54.102Z"
   },
   {
    "duration": 28,
    "start_time": "2022-04-05T19:46:54.120Z"
   },
   {
    "duration": 17,
    "start_time": "2022-04-05T19:46:54.152Z"
   },
   {
    "duration": 8,
    "start_time": "2022-04-05T19:46:54.184Z"
   },
   {
    "duration": 16,
    "start_time": "2022-04-05T19:46:54.194Z"
   },
   {
    "duration": 12,
    "start_time": "2022-04-05T19:46:54.212Z"
   },
   {
    "duration": 6,
    "start_time": "2022-04-05T19:46:54.226Z"
   },
   {
    "duration": 50,
    "start_time": "2022-04-05T19:46:54.234Z"
   },
   {
    "duration": 5,
    "start_time": "2022-04-05T19:46:54.290Z"
   },
   {
    "duration": 14,
    "start_time": "2022-04-05T19:46:54.297Z"
   },
   {
    "duration": 69,
    "start_time": "2022-04-05T19:46:54.315Z"
   },
   {
    "duration": 17,
    "start_time": "2022-04-05T19:46:54.388Z"
   },
   {
    "duration": 10,
    "start_time": "2022-04-05T19:46:54.485Z"
   },
   {
    "duration": 86,
    "start_time": "2022-04-05T19:46:54.498Z"
   },
   {
    "duration": 105,
    "start_time": "2022-04-05T19:46:54.586Z"
   },
   {
    "duration": 99,
    "start_time": "2022-04-05T19:46:54.695Z"
   },
   {
    "duration": 192,
    "start_time": "2022-04-05T19:46:54.797Z"
   },
   {
    "duration": 20,
    "start_time": "2022-04-05T19:46:54.991Z"
   },
   {
    "duration": 275,
    "start_time": "2022-04-05T19:46:55.014Z"
   },
   {
    "duration": 11,
    "start_time": "2022-04-05T19:46:55.383Z"
   },
   {
    "duration": 8,
    "start_time": "2022-04-05T19:46:55.483Z"
   },
   {
    "duration": 90,
    "start_time": "2022-04-05T19:46:55.495Z"
   },
   {
    "duration": 6,
    "start_time": "2022-04-05T19:46:55.587Z"
   },
   {
    "duration": 8,
    "start_time": "2022-04-05T19:46:55.596Z"
   },
   {
    "duration": 21,
    "start_time": "2022-04-05T19:46:55.606Z"
   },
   {
    "duration": 164,
    "start_time": "2022-04-05T19:46:55.629Z"
   },
   {
    "duration": 53,
    "start_time": "2022-04-05T19:47:41.043Z"
   },
   {
    "duration": 75,
    "start_time": "2022-04-05T19:47:51.423Z"
   },
   {
    "duration": 23250,
    "start_time": "2022-04-06T15:04:47.238Z"
   },
   {
    "duration": 13,
    "start_time": "2022-04-06T15:05:10.491Z"
   },
   {
    "duration": 20,
    "start_time": "2022-04-06T15:05:10.506Z"
   },
   {
    "duration": 13,
    "start_time": "2022-04-06T15:05:10.528Z"
   },
   {
    "duration": 7,
    "start_time": "2022-04-06T15:05:10.545Z"
   },
   {
    "duration": 13,
    "start_time": "2022-04-06T15:05:10.554Z"
   },
   {
    "duration": 40,
    "start_time": "2022-04-06T15:05:10.569Z"
   },
   {
    "duration": 6,
    "start_time": "2022-04-06T15:05:10.611Z"
   },
   {
    "duration": 7,
    "start_time": "2022-04-06T15:05:10.619Z"
   },
   {
    "duration": 8,
    "start_time": "2022-04-06T15:05:10.627Z"
   },
   {
    "duration": 11,
    "start_time": "2022-04-06T15:05:10.637Z"
   },
   {
    "duration": 53,
    "start_time": "2022-04-06T15:05:10.650Z"
   },
   {
    "duration": 12,
    "start_time": "2022-04-06T15:05:10.706Z"
   },
   {
    "duration": 6,
    "start_time": "2022-04-06T15:05:10.800Z"
   },
   {
    "duration": 12,
    "start_time": "2022-04-06T15:05:10.808Z"
   },
   {
    "duration": 109,
    "start_time": "2022-04-06T15:05:10.902Z"
   },
   {
    "duration": 11,
    "start_time": "2022-04-06T15:05:11.101Z"
   },
   {
    "duration": 93,
    "start_time": "2022-04-06T15:05:11.114Z"
   },
   {
    "duration": 98,
    "start_time": "2022-04-06T15:05:11.210Z"
   },
   {
    "duration": 192,
    "start_time": "2022-04-06T15:05:11.310Z"
   },
   {
    "duration": 107,
    "start_time": "2022-04-06T15:05:11.505Z"
   },
   {
    "duration": 87,
    "start_time": "2022-04-06T15:05:11.615Z"
   },
   {
    "duration": 97,
    "start_time": "2022-04-06T15:05:11.704Z"
   },
   {
    "duration": 5,
    "start_time": "2022-04-06T15:05:11.803Z"
   },
   {
    "duration": 15,
    "start_time": "2022-04-06T15:05:11.810Z"
   },
   {
    "duration": 16,
    "start_time": "2022-04-06T15:05:11.827Z"
   },
   {
    "duration": 70,
    "start_time": "2022-04-06T15:05:11.844Z"
   },
   {
    "duration": 9,
    "start_time": "2022-04-06T15:15:59.002Z"
   },
   {
    "duration": 9,
    "start_time": "2022-04-06T15:19:56.374Z"
   },
   {
    "duration": 14,
    "start_time": "2022-04-06T15:20:45.638Z"
   },
   {
    "duration": 8,
    "start_time": "2022-04-06T15:22:16.001Z"
   },
   {
    "duration": 14,
    "start_time": "2022-04-06T15:22:17.704Z"
   },
   {
    "duration": 14,
    "start_time": "2022-04-06T15:22:34.442Z"
   },
   {
    "duration": 3,
    "start_time": "2022-04-06T15:22:49.575Z"
   },
   {
    "duration": 8,
    "start_time": "2022-04-06T15:22:59.384Z"
   },
   {
    "duration": 12,
    "start_time": "2022-04-06T15:23:00.586Z"
   },
   {
    "duration": 16,
    "start_time": "2022-04-06T15:23:03.366Z"
   },
   {
    "duration": 17,
    "start_time": "2022-04-06T15:29:35.575Z"
   },
   {
    "duration": 4,
    "start_time": "2022-04-06T15:30:26.158Z"
   },
   {
    "duration": 17,
    "start_time": "2022-04-06T15:30:32.124Z"
   },
   {
    "duration": 18,
    "start_time": "2022-04-06T15:35:19.104Z"
   },
   {
    "duration": 16,
    "start_time": "2022-04-06T15:36:02.481Z"
   },
   {
    "duration": 24,
    "start_time": "2022-04-06T15:38:01.439Z"
   },
   {
    "duration": 115,
    "start_time": "2022-04-06T15:38:15.742Z"
   },
   {
    "duration": 20,
    "start_time": "2022-04-06T15:38:45.315Z"
   },
   {
    "duration": 16,
    "start_time": "2022-04-06T15:38:46.623Z"
   },
   {
    "duration": 4,
    "start_time": "2022-04-06T15:39:21.861Z"
   },
   {
    "duration": 6,
    "start_time": "2022-04-06T15:39:51.737Z"
   },
   {
    "duration": 6,
    "start_time": "2022-04-06T15:40:00.261Z"
   },
   {
    "duration": 27,
    "start_time": "2022-04-06T15:40:49.728Z"
   },
   {
    "duration": 14,
    "start_time": "2022-04-06T15:40:52.679Z"
   },
   {
    "duration": 79,
    "start_time": "2022-04-06T15:40:59.722Z"
   },
   {
    "duration": 14,
    "start_time": "2022-04-06T15:41:03.213Z"
   },
   {
    "duration": 6,
    "start_time": "2022-04-06T15:42:29.675Z"
   },
   {
    "duration": 7,
    "start_time": "2022-04-06T15:48:07.921Z"
   },
   {
    "duration": 10,
    "start_time": "2022-04-06T15:55:09.782Z"
   },
   {
    "duration": 15,
    "start_time": "2022-04-06T15:55:13.437Z"
   }
  ],
  "kernelspec": {
   "display_name": "Python 3 (ipykernel)",
   "language": "python",
   "name": "python3"
  },
  "language_info": {
   "codemirror_mode": {
    "name": "ipython",
    "version": 3
   },
   "file_extension": ".py",
   "mimetype": "text/x-python",
   "name": "python",
   "nbconvert_exporter": "python",
   "pygments_lexer": "ipython3",
   "version": "3.9.5"
  },
  "toc": {
   "base_numbering": 1,
   "nav_menu": {},
   "number_sections": true,
   "sideBar": true,
   "skip_h1_title": true,
   "title_cell": "Содержание",
   "title_sidebar": "Contents",
   "toc_cell": true,
   "toc_position": {},
   "toc_section_display": true,
   "toc_window_display": false
  }
 },
 "nbformat": 4,
 "nbformat_minor": 2
}
