{
 "cells": [
  {
   "cell_type": "markdown",
   "metadata": {},
   "source": [
    "<div  style=\"border:solid MediumSeaGreen 3px; padding: 20px;\"> \n",
    "<div>    \n",
    "<p><font color=\"black\" >\n",
    "Привет! Меня зовут Ксения Ларченко, и я буду проверять твой проект. Давай будем общаться на «ты»? Если тебе такой стиль общения не нравится, напиши об этом, и будем на «вы» 👌\n",
    "    \n",
    "Я буду оставлять комментарии в разных цветах, пожалуйста, обрати внимание:</font></p>\n",
    "</div>\n",
    "\n",
    "<div class=\"alert alert-success\">\n",
    "\n",
    "<b>✔️</b> Зеленым отмечены отличные решения и идеи, на которые можно опираться в будущем.\n",
    "\n",
    "</div>\n",
    "\n",
    "<div class=\"alert alert-warning\">\n",
    "\n",
    "<b>⚠️</b> Оранжевым цветом выделены рекомендации или нектритичные замечания, то, что в следующий раз можно сделать немного иначе, оптимизировать или улучшить. Ты можешь учесть эти комментарии при выполнении будущих заданий или доработать проект сейчас (однако это не обязательно). \n",
    "\n",
    "</div>\n",
    "\n",
    "<div class=\"alert alert-danger\">\n",
    "\n",
    "<b>❌</b> Красным цветом отмечены критичные ошибки, без исправления которых проект не будет принят.\n",
    "\n",
    "</div>\n",
    "\n",
    "<p>Предлагаю работать над проектом в диалоге: если ты что-то меняешь в проекте по моим рекомендациям — пиши об этом. Выбери для своих комментариев какой-то заметный цвет, так мне будет легче отследить изменения, например вот так:\n",
    "\n",
    "<div class=\"alert alert-info\">\n",
    "<b>Комментарий студента:</b> Привет! \n",
    "<br>\n",
    "</div>\n",
    "    \n",
    "Пожалуйста, не удаляй, не изменяй и не перемещай мои коментарии, это ускорит повторное ревью🙂 </p>\n",
    "\n",
    "</div>\n",
    "\n",
    "\n",
    "_____________\n",
    "\n",
    "\n",
    "<div  style=\"border:solid MediumSeaGreen 3px; padding: 20px;\"> \n",
    "<div>    \n",
    "<p><font color=\"black\" >\n",
    "<b>Результат ревью 1:</b> </font></p>\n",
    "    \n",
    "</div>\n",
    "\n",
    "<div class=\"alert alert-success\">\n",
    "\n",
    "<b>🍀 Общий комментарий. </b> \n",
    "\n",
    "Что можно отметить?\n",
    "    \n",
    "* Отличное вступление, редко встречаю такое детальное описание;\n",
    "    \n",
    "* Код написан без ошибок с использованием различных важных методов, необходимых для анализа;\n",
    "    \n",
    "* Достаточное количество комментариев и выводов, это важно для понимания полученных результатов;\n",
    "    \n",
    "* В работе использована информативная  визуализация, что помогает проиллюстрировать полученные данные. Отдельный плюс, твой проект очень выделяется грамотным оформлением;\n",
    "    \n",
    "* Работа выполнена точно, аккуратно, расчеты проведены верно!\n",
    "    \n",
    "    \n",
    "</div> \n",
    "   \n",
    "<div class=\"alert alert-success\">  \n",
    "<b>✔️ Работа принята.</b> \n",
    "\n",
    "\n",
    "**Поздравляю, проект принят!** \n",
    "    \n",
    "Спасибо за отличную работу, внимательное и ответственное отношение к решению задачи очень ценится и приветствуется на нашей специализации! \n",
    "    \n",
    "Отправляю проект назад на случай возникновения вопросов. Если вопросов к моим комментариям нет, то просто пришли мне работу обратно😃\n",
    "    \n",
    "    \n",
    "</div>\n",
    "\n",
    "<div class=\"alert alert-warning\">\n",
    "\n",
    "<b>⚠️ Полезные ссылки и материалы для дополнительного чтения:</b> \n",
    "    \n",
    "    \n",
    "* Неплохая статья о визуализации и [оформлении данных](https://www.owox.ru/blog/articles/data-visualization/). \n",
    "    \n",
    "* Также было бы отлично использовать `subplot`\\ `subplots` для построения сразу нескольких графиков рядом. [Пример с использованием данного метода](https://nagornyy.me/it/vizualizatsiia-dannykh-v-matplotlib/).\n",
    "    \n",
    " * Предупреждения в проекте (если появляются) можно убрать при помощи:\n",
    "    \n",
    "        import warnings\n",
    "        warnings.filterwarnings(\"ignore\")\n",
    "\n",
    "*  Pie chart. [Пример хорошей визуализации с pie chart](https://stackabuse.com/matplotlib-pie-chart-tutorial-and-examples/)\n",
    "</div>\n",
    "</div>\n"
   ]
  },
  {
   "cell_type": "markdown",
   "metadata": {},
   "source": [
    "<div class=\"alert alert-info\">\n",
    "<b>Комментарий студента:</b> Привет! Благодарю за отзыв и комментарии! Особенно про игнорирование предупреждений, очень пригодится в работе) \n",
    "Дополнительно хочу выразить благодарность и пожелать сил и терпения тебе и всей команде ревьюверов) знаю от куратора, какие непростые времена сейчас)\n",
    "\n",
    "<br>\n",
    "</div>\n",
    "\n",
    "\n",
    "<br>\n",
    "<div  style=\"border:solid MediumSeaGreen 3px; padding: 20px;\"> \n",
    "<div>    \n",
    "<p><font color=\"black\" >\n",
    "<b>Результат ревью 2:</b> </font></p>\n",
    "    \n",
    "<div class=\"alert alert-success\">  \n",
    "<b>✔️ Работа принята.</b> \n",
    "\n",
    "\n",
    "    \n",
    "И тебе спасибо за отличную работу и фидбек в комментариях. Действительно сейчас не самое простое время, отдельно благодарю за поддержку😉\n",
    "    \n",
    "Удачи на следующих спринтах!\n",
    "    \n",
    "С уважением,\n",
    "К. Д. Ларченко\n",
    "    \n",
    "</div>    \n",
    "</div>"
   ]
  },
  {
   "cell_type": "markdown",
   "metadata": {
    "toc": true
   },
   "source": [
    "<h1>Table of Contents<span class=\"tocSkip\"></span></h1>\n",
    "<div class=\"toc\"><ul class=\"toc-item\"><li><span><a href=\"#Введение\" data-toc-modified-id=\"Введение-1\"><span class=\"toc-item-num\">1&nbsp;&nbsp;</span>Введение</a></span><ul class=\"toc-item\"><li><span><a href=\"#Описание-проекта\" data-toc-modified-id=\"Описание-проекта-1.1\"><span class=\"toc-item-num\">1.1&nbsp;&nbsp;</span>Описание проекта</a></span></li><li><span><a href=\"#Описание-данных\" data-toc-modified-id=\"Описание-данных-1.2\"><span class=\"toc-item-num\">1.2&nbsp;&nbsp;</span>Описание данных</a></span></li><li><span><a href=\"#Шаги-выполнения-проекта\" data-toc-modified-id=\"Шаги-выполнения-проекта-1.3\"><span class=\"toc-item-num\">1.3&nbsp;&nbsp;</span>Шаги выполнения проекта</a></span></li></ul></li><li><span><a href=\"#Импорт-данных,-загрузка-библиотек\" data-toc-modified-id=\"Импорт-данных,-загрузка-библиотек-2\"><span class=\"toc-item-num\">2&nbsp;&nbsp;</span>Импорт данных, загрузка библиотек</a></span></li><li><span><a href=\"#Предобработка-данных\" data-toc-modified-id=\"Предобработка-данных-3\"><span class=\"toc-item-num\">3&nbsp;&nbsp;</span>Предобработка данных</a></span><ul class=\"toc-item\"><li><span><a href=\"#Обработка-заголовков\" data-toc-modified-id=\"Обработка-заголовков-3.1\"><span class=\"toc-item-num\">3.1&nbsp;&nbsp;</span>Обработка заголовков</a></span></li><li><span><a href=\"#Обработка-данных\" data-toc-modified-id=\"Обработка-данных-3.2\"><span class=\"toc-item-num\">3.2&nbsp;&nbsp;</span>Обработка данных</a></span><ul class=\"toc-item\"><li><span><a href=\"#game_name\" data-toc-modified-id=\"game_name-3.2.1\"><span class=\"toc-item-num\">3.2.1&nbsp;&nbsp;</span>game_name</a></span></li><li><span><a href=\"#platform\" data-toc-modified-id=\"platform-3.2.2\"><span class=\"toc-item-num\">3.2.2&nbsp;&nbsp;</span>platform</a></span></li><li><span><a href=\"#year_of_release\" data-toc-modified-id=\"year_of_release-3.2.3\"><span class=\"toc-item-num\">3.2.3&nbsp;&nbsp;</span>year_of_release</a></span></li><li><span><a href=\"#game_genre\" data-toc-modified-id=\"game_genre-3.2.4\"><span class=\"toc-item-num\">3.2.4&nbsp;&nbsp;</span>game_genre</a></span></li><li><span><a href=\"#sales\" data-toc-modified-id=\"sales-3.2.5\"><span class=\"toc-item-num\">3.2.5&nbsp;&nbsp;</span>sales</a></span></li><li><span><a href=\"#critic_score-и-user_score\" data-toc-modified-id=\"critic_score-и-user_score-3.2.6\"><span class=\"toc-item-num\">3.2.6&nbsp;&nbsp;</span>critic_score и user_score</a></span></li><li><span><a href=\"#esrb_rating\" data-toc-modified-id=\"esrb_rating-3.2.7\"><span class=\"toc-item-num\">3.2.7&nbsp;&nbsp;</span>esrb_rating</a></span></li></ul></li></ul></li><li><span><a href=\"#Исследовательский-анализ-данных\" data-toc-modified-id=\"Исследовательский-анализ-данных-4\"><span class=\"toc-item-num\">4&nbsp;&nbsp;</span>Исследовательский анализ данных</a></span><ul class=\"toc-item\"><li><span><a href=\"#Анализ-выхода-игр-по-годам\" data-toc-modified-id=\"Анализ-выхода-игр-по-годам-4.1\"><span class=\"toc-item-num\">4.1&nbsp;&nbsp;</span>Анализ выхода игр по годам</a></span></li><li><span><a href=\"#Анализ-продаж-по-платформам\" data-toc-modified-id=\"Анализ-продаж-по-платформам-4.2\"><span class=\"toc-item-num\">4.2&nbsp;&nbsp;</span>Анализ продаж по платформам</a></span></li><li><span><a href=\"#Анализ-актуального-периода-до-2017-года\" data-toc-modified-id=\"Анализ-актуального-периода-до-2017-года-4.3\"><span class=\"toc-item-num\">4.3&nbsp;&nbsp;</span>Анализ актуального периода до 2017 года</a></span><ul class=\"toc-item\"><li><span><a href=\"#Выделяем-перспективные-платформы\" data-toc-modified-id=\"Выделяем-перспективные-платформы-4.3.1\"><span class=\"toc-item-num\">4.3.1&nbsp;&nbsp;</span>Выделяем перспективные платформы</a></span></li><li><span><a href=\"#Оценка-корреляции-между-отзывами-и-продажами\" data-toc-modified-id=\"Оценка-корреляции-между-отзывами-и-продажами-4.3.2\"><span class=\"toc-item-num\">4.3.2&nbsp;&nbsp;</span>Оценка корреляции между отзывами и продажами</a></span></li><li><span><a href=\"#Выделяем-перспективные-жанры\" data-toc-modified-id=\"Выделяем-перспективные-жанры-4.3.3\"><span class=\"toc-item-num\">4.3.3&nbsp;&nbsp;</span>Выделяем перспективные жанры</a></span></li></ul></li></ul></li><li><span><a href=\"#Портрет-пользователя-каждого-региона\" data-toc-modified-id=\"Портрет-пользователя-каждого-региона-5\"><span class=\"toc-item-num\">5&nbsp;&nbsp;</span>Портрет пользователя каждого региона</a></span><ul class=\"toc-item\"><li><span><a href=\"#Самые-популярные-платформы-по-регионам\" data-toc-modified-id=\"Самые-популярные-платформы-по-регионам-5.1\"><span class=\"toc-item-num\">5.1&nbsp;&nbsp;</span>Самые популярные платформы по регионам</a></span></li><li><span><a href=\"#Самые-популярные-жанры\" data-toc-modified-id=\"Самые-популярные-жанры-5.2\"><span class=\"toc-item-num\">5.2&nbsp;&nbsp;</span>Самые популярные жанры</a></span></li><li><span><a href=\"#Влияние-рейтинга-ESRB-на-продажи-по-регионам\" data-toc-modified-id=\"Влияние-рейтинга-ESRB-на-продажи-по-регионам-5.3\"><span class=\"toc-item-num\">5.3&nbsp;&nbsp;</span>Влияние рейтинга ESRB на продажи по регионам</a></span></li><li><span><a href=\"#Общий-вывод-портрета-пользователя\" data-toc-modified-id=\"Общий-вывод-портрета-пользователя-5.4\"><span class=\"toc-item-num\">5.4&nbsp;&nbsp;</span>Общий вывод портрета пользователя</a></span></li></ul></li><li><span><a href=\"#Статистический-анализ-данных\" data-toc-modified-id=\"Статистический-анализ-данных-6\"><span class=\"toc-item-num\">6&nbsp;&nbsp;</span>Статистический анализ данных</a></span><ul class=\"toc-item\"><li><span><a href=\"#Выбор-метода-проверки-гипотез.\" data-toc-modified-id=\"Выбор-метода-проверки-гипотез.-6.1\"><span class=\"toc-item-num\">6.1&nbsp;&nbsp;</span>Выбор метода проверки гипотез.</a></span></li><li><span><a href=\"#Подготовка-данных-для-проверки-гипотез\" data-toc-modified-id=\"Подготовка-данных-для-проверки-гипотез-6.2\"><span class=\"toc-item-num\">6.2&nbsp;&nbsp;</span>Подготовка данных для проверки гипотез</a></span></li><li><span><a href=\"#Проверка-Гипотезы-1\" data-toc-modified-id=\"Проверка-Гипотезы-1-6.3\"><span class=\"toc-item-num\">6.3&nbsp;&nbsp;</span>Проверка Гипотезы 1</a></span></li><li><span><a href=\"#Проверка-гипотезы-2\" data-toc-modified-id=\"Проверка-гипотезы-2-6.4\"><span class=\"toc-item-num\">6.4&nbsp;&nbsp;</span>Проверка гипотезы 2</a></span></li></ul></li><li><span><a href=\"#Общий-вывод-и-рекомендации\" data-toc-modified-id=\"Общий-вывод-и-рекомендации-7\"><span class=\"toc-item-num\">7&nbsp;&nbsp;</span>Общий вывод и рекомендации</a></span><ul class=\"toc-item\"><li><span><a href=\"#Вывод\" data-toc-modified-id=\"Вывод-7.1\"><span class=\"toc-item-num\">7.1&nbsp;&nbsp;</span>Вывод</a></span></li><li><span><a href=\"#Рекомендации\" data-toc-modified-id=\"Рекомендации-7.2\"><span class=\"toc-item-num\">7.2&nbsp;&nbsp;</span>Рекомендации</a></span></li></ul></li></ul></div>"
   ]
  },
  {
   "cell_type": "markdown",
   "metadata": {},
   "source": [
    "## Введение"
   ]
  },
  {
   "cell_type": "markdown",
   "metadata": {},
   "source": [
    "### Описание проекта"
   ]
  },
  {
   "cell_type": "markdown",
   "metadata": {},
   "source": [
    "Вы работаете в интернет-магазине «Стримчик», который продаёт по всему миру компьютерные игры. Из открытых источников доступны исторические данные о продажах игр, оценки пользователей и экспертов, жанры и платформы (например, Xbox или PlayStation). Вам нужно выявить определяющие успешность игры закономерности. Это позволит сделать ставку на потенциально популярный продукт и спланировать рекламные кампании.\n",
    "\n",
    "Перед вами данные до 2016 года. Представим, что сейчас декабрь 2016 г., и вы планируете кампанию на 2017-й. Нужно отработать принцип работы с данными. Неважно, прогнозируете ли вы продажи на 2017 год по данным 2016-го или же 2027-й — по данным 2026 года.\n",
    "\n",
    "В наборе данных попадается аббревиатура ESRB (Entertainment Software Rating Board) — это ассоциация, определяющая возрастной рейтинг компьютерных игр. ESRB оценивает игровой контент и присваивает ему подходящую возрастную категорию, например, «Для взрослых», «Для детей младшего возраста» или «Для подростков»."
   ]
  },
  {
   "cell_type": "markdown",
   "metadata": {},
   "source": [
    "### Описание данных"
   ]
  },
  {
   "cell_type": "markdown",
   "metadata": {},
   "source": [
    "- Name — название игры\n",
    "- Platform — платформа\n",
    "- Year_of_Release — год выпуска\n",
    "- Genre — жанр игры\n",
    "- NA_sales — продажи в Северной Америке (миллионы проданных копий)\n",
    "- EU_sales — продажи в Европе (миллионы проданных копий)\n",
    "- JP_sales — продажи в Японии (миллионы проданных копий)\n",
    "- Other_sales — продажи в других странах (миллионы проданных копий)\n",
    "- Critic_Score — оценка критиков (максимум 100)\n",
    "- User_Score — оценка пользователей (максимум 10)\n",
    "- Rating — рейтинг от организации ESRB (англ. Entertainment Software Rating Board). Эта ассоциация определяет рейтинг компьютерных игр и присваивает им подходящую возрастную категорию.\n",
    "\n",
    "Данные за 2016 год могут быть неполными."
   ]
  },
  {
   "cell_type": "markdown",
   "metadata": {},
   "source": [
    "### Шаги выполнения проекта"
   ]
  },
  {
   "cell_type": "markdown",
   "metadata": {},
   "source": [
    "**Шаг 1. Откройте файл с данными и изучите общую информацию**\n",
    "\n",
    "Путь к файлу: /datasets/games.csv.\n",
    "\n",
    "**Шаг 2. Подготовьте данные**\n",
    "\n",
    "- Замените названия столбцов (приведите к нижнему регистру);\n",
    "- Преобразуйте данные в нужные типы. Опишите, в каких столбцах заменили тип данных и почему;\n",
    "- Обработайте пропуски при необходимости:\n",
    "- Объясните, почему заполнили пропуски определённым образом или почему не стали это делать;\n",
    "- Опишите причины, которые могли привести к пропускам;\n",
    "- Обратите внимание на аббревиатуру 'tbd' в столбце с оценкой пользователей. Отдельно разберите это значение и опишите, как его обработать;\n",
    "- Посчитайте суммарные продажи во всех регионах и запишите их в отдельный столбец.\n",
    "\n",
    "**Шаг 3. Проведите исследовательский анализ данных**\n",
    "\n",
    "- Посмотрите, сколько игр выпускалось в разные годы. Важны ли данные за все периоды?\n",
    "- Посмотрите, как менялись продажи по платформам. Выберите платформы с наибольшими суммарными продажами и постройте распределение по годам. За какой характерный срок появляются новые и исчезают старые платформы?\n",
    "- Возьмите данные за соответствующий актуальный период. Актуальный период определите самостоятельно в результате исследования предыдущих вопросов. Основной фактор — эти данные помогут построить прогноз на 2017 год.\n",
    "- Не учитывайте в работе данные за предыдущие годы.\n",
    "- Какие платформы лидируют по продажам, растут или падают? Выберите несколько потенциально прибыльных платформ.\n",
    "- Постройте график «ящик с усами» по глобальным продажам игр в разбивке по платформам. Опишите результат.\n",
    "- Посмотрите, как влияют на продажи внутри одной популярной платформы отзывы пользователей и критиков. Постройте диаграмму рассеяния и посчитайте корреляцию между отзывами и продажами. Сформулируйте выводы.\n",
    "- Соотнесите выводы с продажами игр на других платформах.\n",
    "- Посмотрите на общее распределение игр по жанрам. Что можно сказать о самых прибыльных жанрах? Выделяются ли жанры с высокими и низкими продажами?\n",
    "\n",
    "**Шаг 4. Составьте портрет пользователя каждого региона**\n",
    "- Определите для пользователя каждого региона (NA, EU, JP):\n",
    "- Самые популярные платформы (топ-5). Опишите различия в долях продаж.\n",
    "- Самые популярные жанры (топ-5). Поясните разницу.\n",
    "- Влияет ли рейтинг ESRB на продажи в отдельном регионе?\n",
    "\n",
    "**Шаг 5. Проверьте гипотезы**\n",
    "- Средние пользовательские рейтинги платформ Xbox One и PC одинаковые;\n",
    "- Средние пользовательские рейтинги жанров Action (англ. «действие», экшен-игры) и Sports (англ. «спортивные соревнования») разные.\n",
    "Задайте самостоятельно пороговое значение alpha.\n",
    "\n",
    "Поясните:\n",
    "- Как вы сформулировали нулевую и альтернативную гипотезы;\n",
    "- Какой критерий применили для проверки гипотез и почему.\n",
    "\n",
    "**Шаг 6. Напишите общий вывод**\n",
    "\n",
    "Оформление: Выполните задание в Jupyter Notebook. Заполните программный код в ячейках типа code, текстовые пояснения — в ячейках типа markdown. Примените форматирование и заголовки."
   ]
  },
  {
   "cell_type": "markdown",
   "metadata": {},
   "source": [
    "<div class=\"alert alert-success\">\n",
    "<b>✔️</b> Отличное и максимально подробное вступление в проект, каждый сможет быстрее разобраться в концепции / деталях работы😃 \n",
    "\n",
    "</div>"
   ]
  },
  {
   "cell_type": "markdown",
   "metadata": {},
   "source": [
    "## Импорт данных, загрузка библиотек"
   ]
  },
  {
   "cell_type": "markdown",
   "metadata": {},
   "source": [
    "На данном шаге выполняем ипорт библиотек, которые понадобятся для работы с данными, добавляем настройки отображения, подключаем шрифт для графиков, загружаем непосредственно сам набор данных для анализа."
   ]
  },
  {
   "cell_type": "code",
   "execution_count": 1,
   "metadata": {},
   "outputs": [],
   "source": [
    "import pandas as pd\n",
    "import numpy as np\n",
    "import matplotlib.pyplot as plt\n",
    "import seaborn as sns\n",
    "\n",
    "from datetime import datetime\n",
    "from scipy import stats as st\n",
    "\n",
    "import warnings\n",
    "warnings.filterwarnings(\"ignore\")"
   ]
  },
  {
   "cell_type": "code",
   "execution_count": 2,
   "metadata": {},
   "outputs": [],
   "source": [
    "pd.set_option('display.max_columns', None)\n",
    "#pd.options.display.width = 0\n",
    "pd.options.display.float_format = '{:,.2f}'.format\n",
    "from IPython.core.interactiveshell import InteractiveShell\n",
    "InteractiveShell.ast_node_interactivity = \"all\""
   ]
  },
  {
   "cell_type": "code",
   "execution_count": 3,
   "metadata": {},
   "outputs": [],
   "source": [
    "font = {'family': 'monospace',\n",
    "        'color':  '#000000',\n",
    "        'weight': 'bold',\n",
    "        'size': 14,\n",
    "        }"
   ]
  },
  {
   "cell_type": "code",
   "execution_count": 4,
   "metadata": {},
   "outputs": [],
   "source": [
    "games = pd.read_csv('/datasets/games.csv')"
   ]
  },
  {
   "cell_type": "markdown",
   "metadata": {},
   "source": [
    "<div class=\"alert alert-success\">\n",
    "<b>✔️</b> Все импорты и загрузка данных в раздельных ячейках, отлично. Также использовано дополнительное форматирование👍\n",
    "\n",
    "</div>\n"
   ]
  },
  {
   "cell_type": "markdown",
   "metadata": {},
   "source": [
    "## Предобработка данных"
   ]
  },
  {
   "cell_type": "markdown",
   "metadata": {},
   "source": [
    "Выполним первичный анализ имеющихся данных."
   ]
  },
  {
   "cell_type": "code",
   "execution_count": 5,
   "metadata": {
    "scrolled": true
   },
   "outputs": [
    {
     "name": "stdout",
     "output_type": "stream",
     "text": [
      "<class 'pandas.core.frame.DataFrame'>\n",
      "RangeIndex: 16715 entries, 0 to 16714\n",
      "Data columns (total 11 columns):\n",
      "Name               16713 non-null object\n",
      "Platform           16715 non-null object\n",
      "Year_of_Release    16446 non-null float64\n",
      "Genre              16713 non-null object\n",
      "NA_sales           16715 non-null float64\n",
      "EU_sales           16715 non-null float64\n",
      "JP_sales           16715 non-null float64\n",
      "Other_sales        16715 non-null float64\n",
      "Critic_Score       8137 non-null float64\n",
      "User_Score         10014 non-null object\n",
      "Rating             9949 non-null object\n",
      "dtypes: float64(6), object(5)\n",
      "memory usage: 1.4+ MB\n"
     ]
    }
   ],
   "source": [
    "games.info()"
   ]
  },
  {
   "cell_type": "markdown",
   "metadata": {},
   "source": [
    "Нужны преобразования типов данных:\n",
    "- Year_of_Release в тип данных дат;\n",
    "- User_Score в float;\n",
    "\n",
    "Также у 2х игр нет названия и у 2х игр нет жанровой принадлежности. Также много пропусков в оценках критиков и пользователей, не выставлен рейтинг ESRB у многих игр."
   ]
  },
  {
   "cell_type": "code",
   "execution_count": 6,
   "metadata": {
    "scrolled": true
   },
   "outputs": [
    {
     "data": {
      "text/html": [
       "<div>\n",
       "<style scoped>\n",
       "    .dataframe tbody tr th:only-of-type {\n",
       "        vertical-align: middle;\n",
       "    }\n",
       "\n",
       "    .dataframe tbody tr th {\n",
       "        vertical-align: top;\n",
       "    }\n",
       "\n",
       "    .dataframe thead th {\n",
       "        text-align: right;\n",
       "    }\n",
       "</style>\n",
       "<table border=\"1\" class=\"dataframe\">\n",
       "  <thead>\n",
       "    <tr style=\"text-align: right;\">\n",
       "      <th></th>\n",
       "      <th>count</th>\n",
       "      <th>mean</th>\n",
       "      <th>std</th>\n",
       "      <th>min</th>\n",
       "      <th>25%</th>\n",
       "      <th>50%</th>\n",
       "      <th>75%</th>\n",
       "      <th>max</th>\n",
       "    </tr>\n",
       "  </thead>\n",
       "  <tbody>\n",
       "    <tr>\n",
       "      <td>Year_of_Release</td>\n",
       "      <td>16,446.00</td>\n",
       "      <td>2,006.48</td>\n",
       "      <td>5.88</td>\n",
       "      <td>1,980.00</td>\n",
       "      <td>2,003.00</td>\n",
       "      <td>2,007.00</td>\n",
       "      <td>2,010.00</td>\n",
       "      <td>2,016.00</td>\n",
       "    </tr>\n",
       "    <tr>\n",
       "      <td>NA_sales</td>\n",
       "      <td>16,715.00</td>\n",
       "      <td>0.26</td>\n",
       "      <td>0.81</td>\n",
       "      <td>0.00</td>\n",
       "      <td>0.00</td>\n",
       "      <td>0.08</td>\n",
       "      <td>0.24</td>\n",
       "      <td>41.36</td>\n",
       "    </tr>\n",
       "    <tr>\n",
       "      <td>EU_sales</td>\n",
       "      <td>16,715.00</td>\n",
       "      <td>0.15</td>\n",
       "      <td>0.50</td>\n",
       "      <td>0.00</td>\n",
       "      <td>0.00</td>\n",
       "      <td>0.02</td>\n",
       "      <td>0.11</td>\n",
       "      <td>28.96</td>\n",
       "    </tr>\n",
       "    <tr>\n",
       "      <td>JP_sales</td>\n",
       "      <td>16,715.00</td>\n",
       "      <td>0.08</td>\n",
       "      <td>0.31</td>\n",
       "      <td>0.00</td>\n",
       "      <td>0.00</td>\n",
       "      <td>0.00</td>\n",
       "      <td>0.04</td>\n",
       "      <td>10.22</td>\n",
       "    </tr>\n",
       "    <tr>\n",
       "      <td>Other_sales</td>\n",
       "      <td>16,715.00</td>\n",
       "      <td>0.05</td>\n",
       "      <td>0.19</td>\n",
       "      <td>0.00</td>\n",
       "      <td>0.00</td>\n",
       "      <td>0.01</td>\n",
       "      <td>0.03</td>\n",
       "      <td>10.57</td>\n",
       "    </tr>\n",
       "    <tr>\n",
       "      <td>Critic_Score</td>\n",
       "      <td>8,137.00</td>\n",
       "      <td>68.97</td>\n",
       "      <td>13.94</td>\n",
       "      <td>13.00</td>\n",
       "      <td>60.00</td>\n",
       "      <td>71.00</td>\n",
       "      <td>79.00</td>\n",
       "      <td>98.00</td>\n",
       "    </tr>\n",
       "  </tbody>\n",
       "</table>\n",
       "</div>"
      ],
      "text/plain": [
       "                    count     mean   std      min      25%      50%      75%  \\\n",
       "Year_of_Release 16,446.00 2,006.48  5.88 1,980.00 2,003.00 2,007.00 2,010.00   \n",
       "NA_sales        16,715.00     0.26  0.81     0.00     0.00     0.08     0.24   \n",
       "EU_sales        16,715.00     0.15  0.50     0.00     0.00     0.02     0.11   \n",
       "JP_sales        16,715.00     0.08  0.31     0.00     0.00     0.00     0.04   \n",
       "Other_sales     16,715.00     0.05  0.19     0.00     0.00     0.01     0.03   \n",
       "Critic_Score     8,137.00    68.97 13.94    13.00    60.00    71.00    79.00   \n",
       "\n",
       "                     max  \n",
       "Year_of_Release 2,016.00  \n",
       "NA_sales           41.36  \n",
       "EU_sales           28.96  \n",
       "JP_sales           10.22  \n",
       "Other_sales        10.57  \n",
       "Critic_Score       98.00  "
      ]
     },
     "execution_count": 6,
     "metadata": {},
     "output_type": "execute_result"
    }
   ],
   "source": [
    "games.describe().T"
   ]
  },
  {
   "cell_type": "markdown",
   "metadata": {},
   "source": [
    "Цифровые столбцы выглядят адекватно."
   ]
  },
  {
   "cell_type": "code",
   "execution_count": 7,
   "metadata": {
    "scrolled": true
   },
   "outputs": [
    {
     "data": {
      "text/html": [
       "<div>\n",
       "<style scoped>\n",
       "    .dataframe tbody tr th:only-of-type {\n",
       "        vertical-align: middle;\n",
       "    }\n",
       "\n",
       "    .dataframe tbody tr th {\n",
       "        vertical-align: top;\n",
       "    }\n",
       "\n",
       "    .dataframe thead th {\n",
       "        text-align: right;\n",
       "    }\n",
       "</style>\n",
       "<table border=\"1\" class=\"dataframe\">\n",
       "  <thead>\n",
       "    <tr style=\"text-align: right;\">\n",
       "      <th></th>\n",
       "      <th>Name</th>\n",
       "      <th>Platform</th>\n",
       "      <th>Year_of_Release</th>\n",
       "      <th>Genre</th>\n",
       "      <th>NA_sales</th>\n",
       "      <th>EU_sales</th>\n",
       "      <th>JP_sales</th>\n",
       "      <th>Other_sales</th>\n",
       "      <th>Critic_Score</th>\n",
       "      <th>User_Score</th>\n",
       "      <th>Rating</th>\n",
       "    </tr>\n",
       "  </thead>\n",
       "  <tbody>\n",
       "    <tr>\n",
       "      <td>16705</td>\n",
       "      <td>15 Days</td>\n",
       "      <td>PC</td>\n",
       "      <td>2,009.00</td>\n",
       "      <td>Adventure</td>\n",
       "      <td>0.00</td>\n",
       "      <td>0.01</td>\n",
       "      <td>0.00</td>\n",
       "      <td>0.00</td>\n",
       "      <td>63.00</td>\n",
       "      <td>5.8</td>\n",
       "      <td>NaN</td>\n",
       "    </tr>\n",
       "    <tr>\n",
       "      <td>16706</td>\n",
       "      <td>Men in Black II: Alien Escape</td>\n",
       "      <td>GC</td>\n",
       "      <td>2,003.00</td>\n",
       "      <td>Shooter</td>\n",
       "      <td>0.01</td>\n",
       "      <td>0.00</td>\n",
       "      <td>0.00</td>\n",
       "      <td>0.00</td>\n",
       "      <td>nan</td>\n",
       "      <td>tbd</td>\n",
       "      <td>T</td>\n",
       "    </tr>\n",
       "    <tr>\n",
       "      <td>16707</td>\n",
       "      <td>Aiyoku no Eustia</td>\n",
       "      <td>PSV</td>\n",
       "      <td>2,014.00</td>\n",
       "      <td>Misc</td>\n",
       "      <td>0.00</td>\n",
       "      <td>0.00</td>\n",
       "      <td>0.01</td>\n",
       "      <td>0.00</td>\n",
       "      <td>nan</td>\n",
       "      <td>NaN</td>\n",
       "      <td>NaN</td>\n",
       "    </tr>\n",
       "    <tr>\n",
       "      <td>16708</td>\n",
       "      <td>Woody Woodpecker in Crazy Castle 5</td>\n",
       "      <td>GBA</td>\n",
       "      <td>2,002.00</td>\n",
       "      <td>Platform</td>\n",
       "      <td>0.01</td>\n",
       "      <td>0.00</td>\n",
       "      <td>0.00</td>\n",
       "      <td>0.00</td>\n",
       "      <td>nan</td>\n",
       "      <td>NaN</td>\n",
       "      <td>NaN</td>\n",
       "    </tr>\n",
       "    <tr>\n",
       "      <td>16709</td>\n",
       "      <td>SCORE International Baja 1000: The Official Game</td>\n",
       "      <td>PS2</td>\n",
       "      <td>2,008.00</td>\n",
       "      <td>Racing</td>\n",
       "      <td>0.00</td>\n",
       "      <td>0.00</td>\n",
       "      <td>0.00</td>\n",
       "      <td>0.00</td>\n",
       "      <td>nan</td>\n",
       "      <td>NaN</td>\n",
       "      <td>NaN</td>\n",
       "    </tr>\n",
       "    <tr>\n",
       "      <td>16710</td>\n",
       "      <td>Samurai Warriors: Sanada Maru</td>\n",
       "      <td>PS3</td>\n",
       "      <td>2,016.00</td>\n",
       "      <td>Action</td>\n",
       "      <td>0.00</td>\n",
       "      <td>0.00</td>\n",
       "      <td>0.01</td>\n",
       "      <td>0.00</td>\n",
       "      <td>nan</td>\n",
       "      <td>NaN</td>\n",
       "      <td>NaN</td>\n",
       "    </tr>\n",
       "    <tr>\n",
       "      <td>16711</td>\n",
       "      <td>LMA Manager 2007</td>\n",
       "      <td>X360</td>\n",
       "      <td>2,006.00</td>\n",
       "      <td>Sports</td>\n",
       "      <td>0.00</td>\n",
       "      <td>0.01</td>\n",
       "      <td>0.00</td>\n",
       "      <td>0.00</td>\n",
       "      <td>nan</td>\n",
       "      <td>NaN</td>\n",
       "      <td>NaN</td>\n",
       "    </tr>\n",
       "    <tr>\n",
       "      <td>16712</td>\n",
       "      <td>Haitaka no Psychedelica</td>\n",
       "      <td>PSV</td>\n",
       "      <td>2,016.00</td>\n",
       "      <td>Adventure</td>\n",
       "      <td>0.00</td>\n",
       "      <td>0.00</td>\n",
       "      <td>0.01</td>\n",
       "      <td>0.00</td>\n",
       "      <td>nan</td>\n",
       "      <td>NaN</td>\n",
       "      <td>NaN</td>\n",
       "    </tr>\n",
       "    <tr>\n",
       "      <td>16713</td>\n",
       "      <td>Spirits &amp; Spells</td>\n",
       "      <td>GBA</td>\n",
       "      <td>2,003.00</td>\n",
       "      <td>Platform</td>\n",
       "      <td>0.01</td>\n",
       "      <td>0.00</td>\n",
       "      <td>0.00</td>\n",
       "      <td>0.00</td>\n",
       "      <td>nan</td>\n",
       "      <td>NaN</td>\n",
       "      <td>NaN</td>\n",
       "    </tr>\n",
       "    <tr>\n",
       "      <td>16714</td>\n",
       "      <td>Winning Post 8 2016</td>\n",
       "      <td>PSV</td>\n",
       "      <td>2,016.00</td>\n",
       "      <td>Simulation</td>\n",
       "      <td>0.00</td>\n",
       "      <td>0.00</td>\n",
       "      <td>0.01</td>\n",
       "      <td>0.00</td>\n",
       "      <td>nan</td>\n",
       "      <td>NaN</td>\n",
       "      <td>NaN</td>\n",
       "    </tr>\n",
       "  </tbody>\n",
       "</table>\n",
       "</div>"
      ],
      "text/plain": [
       "                                                   Name Platform  \\\n",
       "16705                                           15 Days       PC   \n",
       "16706                     Men in Black II: Alien Escape       GC   \n",
       "16707                                  Aiyoku no Eustia      PSV   \n",
       "16708                Woody Woodpecker in Crazy Castle 5      GBA   \n",
       "16709  SCORE International Baja 1000: The Official Game      PS2   \n",
       "16710                     Samurai Warriors: Sanada Maru      PS3   \n",
       "16711                                  LMA Manager 2007     X360   \n",
       "16712                           Haitaka no Psychedelica      PSV   \n",
       "16713                                  Spirits & Spells      GBA   \n",
       "16714                               Winning Post 8 2016      PSV   \n",
       "\n",
       "       Year_of_Release       Genre  NA_sales  EU_sales  JP_sales  Other_sales  \\\n",
       "16705         2,009.00   Adventure      0.00      0.01      0.00         0.00   \n",
       "16706         2,003.00     Shooter      0.01      0.00      0.00         0.00   \n",
       "16707         2,014.00        Misc      0.00      0.00      0.01         0.00   \n",
       "16708         2,002.00    Platform      0.01      0.00      0.00         0.00   \n",
       "16709         2,008.00      Racing      0.00      0.00      0.00         0.00   \n",
       "16710         2,016.00      Action      0.00      0.00      0.01         0.00   \n",
       "16711         2,006.00      Sports      0.00      0.01      0.00         0.00   \n",
       "16712         2,016.00   Adventure      0.00      0.00      0.01         0.00   \n",
       "16713         2,003.00    Platform      0.01      0.00      0.00         0.00   \n",
       "16714         2,016.00  Simulation      0.00      0.00      0.01         0.00   \n",
       "\n",
       "       Critic_Score User_Score Rating  \n",
       "16705         63.00        5.8    NaN  \n",
       "16706           nan        tbd      T  \n",
       "16707           nan        NaN    NaN  \n",
       "16708           nan        NaN    NaN  \n",
       "16709           nan        NaN    NaN  \n",
       "16710           nan        NaN    NaN  \n",
       "16711           nan        NaN    NaN  \n",
       "16712           nan        NaN    NaN  \n",
       "16713           nan        NaN    NaN  \n",
       "16714           nan        NaN    NaN  "
      ]
     },
     "execution_count": 7,
     "metadata": {},
     "output_type": "execute_result"
    }
   ],
   "source": [
    "games.tail(10)"
   ]
  },
  {
   "cell_type": "markdown",
   "metadata": {},
   "source": [
    "В столбце с оценками пользователей **User_score** есть значения TBD - to be determined (будет определено) или to be decided (будет определено). Используется, если какая-то информация еще не определена или решение по вопросу не принято. Вполне нормальная практика для видеоигр, когда на сайтах, например, **Metacritic** перед выходом игры появляется оценка критиков и журналистов, а оценка пользователей появляется спустя несколько дней, после набора нужного числа голосов.\n",
    "\n",
    "В нашем случае такие значения могут помешать заменить тип данных в столбце, т.е. надо заранее продумать замену этим значениям, либо обговорить и превратить их в Nan, поскольку оценки же получается нет, т.е. это можно интерпретировать как такой же пропуск.\n",
    "\n"
   ]
  },
  {
   "cell_type": "markdown",
   "metadata": {},
   "source": [
    "<div class=\"alert alert-success\">\n",
    "<b>✔️</b> Хороший вывод, подробный и верный!\n",
    "\n",
    "</div>\n",
    "\n",
    "<div class=\"alert alert-warning\">\n",
    "<b>⚠️</b> \n",
    "<br> \n",
    "    \n",
    "**На будущее:** метод `describe()` может быть очень полезным при знакомстве с датасетом (я видела, что ты используешь его ниже)! Советую использовать также и в начале, почитать про его аргументы - пригодится в следующих проектах, а также рекомендую рассматривать результат метода в транспонированном виде, если много столбцов- горизонтальные скроллбары могут мешать просмотру - `df.describe().T` \n",
    "    \n",
    "    \n",
    "Также на данном этапе было бы полезно исследовать данные на наличие дубликатов.\n",
    "</div>"
   ]
  },
  {
   "cell_type": "markdown",
   "metadata": {},
   "source": [
    "### Обработка заголовков"
   ]
  },
  {
   "cell_type": "markdown",
   "metadata": {},
   "source": [
    "Произведем приведение заголовков таблицы к нижнему регистру. Также немного подправим названия."
   ]
  },
  {
   "cell_type": "code",
   "execution_count": 8,
   "metadata": {},
   "outputs": [],
   "source": [
    "games.columns = games.columns.str.lower()"
   ]
  },
  {
   "cell_type": "code",
   "execution_count": 9,
   "metadata": {},
   "outputs": [],
   "source": [
    "games = games.rename(columns = {'name':'game_name', 'genre':'game_genre', 'rating':'esrb_rating'})"
   ]
  },
  {
   "cell_type": "code",
   "execution_count": 10,
   "metadata": {
    "scrolled": true
   },
   "outputs": [
    {
     "data": {
      "text/html": [
       "<div>\n",
       "<style scoped>\n",
       "    .dataframe tbody tr th:only-of-type {\n",
       "        vertical-align: middle;\n",
       "    }\n",
       "\n",
       "    .dataframe tbody tr th {\n",
       "        vertical-align: top;\n",
       "    }\n",
       "\n",
       "    .dataframe thead th {\n",
       "        text-align: right;\n",
       "    }\n",
       "</style>\n",
       "<table border=\"1\" class=\"dataframe\">\n",
       "  <thead>\n",
       "    <tr style=\"text-align: right;\">\n",
       "      <th></th>\n",
       "      <th>game_name</th>\n",
       "      <th>platform</th>\n",
       "      <th>year_of_release</th>\n",
       "      <th>game_genre</th>\n",
       "      <th>na_sales</th>\n",
       "      <th>eu_sales</th>\n",
       "      <th>jp_sales</th>\n",
       "      <th>other_sales</th>\n",
       "      <th>critic_score</th>\n",
       "      <th>user_score</th>\n",
       "      <th>esrb_rating</th>\n",
       "    </tr>\n",
       "  </thead>\n",
       "  <tbody>\n",
       "    <tr>\n",
       "      <td>1388</td>\n",
       "      <td>Inazuma Eleven 2</td>\n",
       "      <td>DS</td>\n",
       "      <td>2,009.00</td>\n",
       "      <td>Role-Playing</td>\n",
       "      <td>0.00</td>\n",
       "      <td>0.19</td>\n",
       "      <td>1.18</td>\n",
       "      <td>0.03</td>\n",
       "      <td>nan</td>\n",
       "      <td>NaN</td>\n",
       "      <td>NaN</td>\n",
       "    </tr>\n",
       "  </tbody>\n",
       "</table>\n",
       "</div>"
      ],
      "text/plain": [
       "             game_name platform  year_of_release    game_genre  na_sales  \\\n",
       "1388  Inazuma Eleven 2       DS         2,009.00  Role-Playing      0.00   \n",
       "\n",
       "      eu_sales  jp_sales  other_sales  critic_score user_score esrb_rating  \n",
       "1388      0.19      1.18         0.03           nan        NaN         NaN  "
      ]
     },
     "execution_count": 10,
     "metadata": {},
     "output_type": "execute_result"
    }
   ],
   "source": [
    "games.sample()"
   ]
  },
  {
   "cell_type": "markdown",
   "metadata": {},
   "source": [
    "**Вывод**"
   ]
  },
  {
   "cell_type": "markdown",
   "metadata": {},
   "source": [
    "Привели в порядок заголовки данных."
   ]
  },
  {
   "cell_type": "markdown",
   "metadata": {},
   "source": [
    "<div class=\"alert alert-success\">\n",
    "<b>✔️</b> Хорошо, теперь видим столбцы в нижнем регистре, это может немного ускорить работу\n",
    "\n",
    "</div>"
   ]
  },
  {
   "cell_type": "markdown",
   "metadata": {},
   "source": [
    "### Обработка данных"
   ]
  },
  {
   "cell_type": "markdown",
   "metadata": {},
   "source": [
    "По первичному анализу данных можно сделать вывод о том, что единообразно привести в порядок данные во всех столбцах не получится, чтобы не упустить ничего из внимания, пройдем отдельно по каждому столбцу и выполним предобработку данных."
   ]
  },
  {
   "cell_type": "markdown",
   "metadata": {},
   "source": [
    "#### game_name "
   ]
  },
  {
   "cell_type": "markdown",
   "metadata": {},
   "source": [
    "Оценим пропуски."
   ]
  },
  {
   "cell_type": "code",
   "execution_count": 11,
   "metadata": {},
   "outputs": [
    {
     "data": {
      "text/plain": [
       "2"
      ]
     },
     "execution_count": 11,
     "metadata": {},
     "output_type": "execute_result"
    }
   ],
   "source": [
    "games['game_name'].isna().sum()"
   ]
  },
  {
   "cell_type": "code",
   "execution_count": 12,
   "metadata": {},
   "outputs": [
    {
     "data": {
      "text/html": [
       "<div>\n",
       "<style scoped>\n",
       "    .dataframe tbody tr th:only-of-type {\n",
       "        vertical-align: middle;\n",
       "    }\n",
       "\n",
       "    .dataframe tbody tr th {\n",
       "        vertical-align: top;\n",
       "    }\n",
       "\n",
       "    .dataframe thead th {\n",
       "        text-align: right;\n",
       "    }\n",
       "</style>\n",
       "<table border=\"1\" class=\"dataframe\">\n",
       "  <thead>\n",
       "    <tr style=\"text-align: right;\">\n",
       "      <th></th>\n",
       "      <th>game_name</th>\n",
       "      <th>platform</th>\n",
       "      <th>year_of_release</th>\n",
       "      <th>game_genre</th>\n",
       "      <th>na_sales</th>\n",
       "      <th>eu_sales</th>\n",
       "      <th>jp_sales</th>\n",
       "      <th>other_sales</th>\n",
       "      <th>critic_score</th>\n",
       "      <th>user_score</th>\n",
       "      <th>esrb_rating</th>\n",
       "    </tr>\n",
       "  </thead>\n",
       "  <tbody>\n",
       "    <tr>\n",
       "      <td>659</td>\n",
       "      <td>NaN</td>\n",
       "      <td>GEN</td>\n",
       "      <td>1,993.00</td>\n",
       "      <td>NaN</td>\n",
       "      <td>1.78</td>\n",
       "      <td>0.53</td>\n",
       "      <td>0.00</td>\n",
       "      <td>0.08</td>\n",
       "      <td>nan</td>\n",
       "      <td>NaN</td>\n",
       "      <td>NaN</td>\n",
       "    </tr>\n",
       "    <tr>\n",
       "      <td>14244</td>\n",
       "      <td>NaN</td>\n",
       "      <td>GEN</td>\n",
       "      <td>1,993.00</td>\n",
       "      <td>NaN</td>\n",
       "      <td>0.00</td>\n",
       "      <td>0.00</td>\n",
       "      <td>0.03</td>\n",
       "      <td>0.00</td>\n",
       "      <td>nan</td>\n",
       "      <td>NaN</td>\n",
       "      <td>NaN</td>\n",
       "    </tr>\n",
       "  </tbody>\n",
       "</table>\n",
       "</div>"
      ],
      "text/plain": [
       "      game_name platform  year_of_release game_genre  na_sales  eu_sales  \\\n",
       "659         NaN      GEN         1,993.00        NaN      1.78      0.53   \n",
       "14244       NaN      GEN         1,993.00        NaN      0.00      0.00   \n",
       "\n",
       "       jp_sales  other_sales  critic_score user_score esrb_rating  \n",
       "659        0.00         0.08           nan        NaN         NaN  \n",
       "14244      0.03         0.00           nan        NaN         NaN  "
      ]
     },
     "execution_count": 12,
     "metadata": {},
     "output_type": "execute_result"
    }
   ],
   "source": [
    "games[games['game_name'].isna()].head()"
   ]
  },
  {
   "cell_type": "markdown",
   "metadata": {},
   "source": [
    "Пропуски данных в имени и в жанре совпадают, также у данных игр нет оценок критиков, пользователей и не выставлен рейтинг, зато есть продажи, причем заметные. Заполним пропуски в стоблце **game_name** и **game_genre** на **no_game_name** и **no_genre_name**, чтобы понимать, что эти строки были обработаны."
   ]
  },
  {
   "cell_type": "code",
   "execution_count": 13,
   "metadata": {},
   "outputs": [],
   "source": [
    "games['game_name'] = games['game_name'].fillna('no_game_name')\n",
    "games['game_genre'] = games['game_genre'].fillna('no_genre_name')"
   ]
  },
  {
   "cell_type": "code",
   "execution_count": 14,
   "metadata": {
    "scrolled": true
   },
   "outputs": [
    {
     "name": "stdout",
     "output_type": "stream",
     "text": [
      "<class 'pandas.core.frame.DataFrame'>\n",
      "RangeIndex: 16715 entries, 0 to 16714\n",
      "Data columns (total 11 columns):\n",
      "game_name          16715 non-null object\n",
      "platform           16715 non-null object\n",
      "year_of_release    16446 non-null float64\n",
      "game_genre         16715 non-null object\n",
      "na_sales           16715 non-null float64\n",
      "eu_sales           16715 non-null float64\n",
      "jp_sales           16715 non-null float64\n",
      "other_sales        16715 non-null float64\n",
      "critic_score       8137 non-null float64\n",
      "user_score         10014 non-null object\n",
      "esrb_rating        9949 non-null object\n",
      "dtypes: float64(6), object(5)\n",
      "memory usage: 1.4+ MB\n"
     ]
    }
   ],
   "source": [
    "games.info()"
   ]
  },
  {
   "cell_type": "markdown",
   "metadata": {},
   "source": [
    "**Вывод**"
   ]
  },
  {
   "cell_type": "markdown",
   "metadata": {},
   "source": [
    "Заполнение пропусков прошло успешно. Замену названий на snake_case не стал производить, поскольку это именно названия."
   ]
  },
  {
   "cell_type": "markdown",
   "metadata": {},
   "source": [
    "<div class=\"alert alert-success\">\n",
    "<b>✔️</b> Действительно, вряд ли мы сможем их заполнить на основе имеющихся данных. Также мы могли бы удалить данные строки, т.к. их всего 2\n",
    "\n",
    "</div>"
   ]
  },
  {
   "cell_type": "markdown",
   "metadata": {},
   "source": [
    "#### platform"
   ]
  },
  {
   "cell_type": "markdown",
   "metadata": {},
   "source": [
    "Оценим значения в столбце с игровыми платформами."
   ]
  },
  {
   "cell_type": "code",
   "execution_count": 15,
   "metadata": {},
   "outputs": [
    {
     "data": {
      "text/plain": [
       "array(['Wii', 'NES', 'GB', 'DS', 'X360', 'PS3', 'PS2', 'SNES', 'GBA',\n",
       "       'PS4', '3DS', 'N64', 'PS', 'XB', 'PC', '2600', 'PSP', 'XOne',\n",
       "       'WiiU', 'GC', 'GEN', 'DC', 'PSV', 'SAT', 'SCD', 'WS', 'NG', 'TG16',\n",
       "       '3DO', 'GG', 'PCFX'], dtype=object)"
      ]
     },
     "execution_count": 15,
     "metadata": {},
     "output_type": "execute_result"
    }
   ],
   "source": [
    "games['platform'].unique()"
   ]
  },
  {
   "cell_type": "code",
   "execution_count": 16,
   "metadata": {
    "scrolled": false
   },
   "outputs": [
    {
     "data": {
      "text/plain": [
       "PS2     2161\n",
       "DS      2151\n",
       "PS3     1331\n",
       "Wii     1320\n",
       "X360    1262\n",
       "PSP     1209\n",
       "PS      1197\n",
       "PC       974\n",
       "XB       824\n",
       "GBA      822\n",
       "GC       556\n",
       "3DS      520\n",
       "PSV      430\n",
       "PS4      392\n",
       "N64      319\n",
       "XOne     247\n",
       "SNES     239\n",
       "SAT      173\n",
       "WiiU     147\n",
       "2600     133\n",
       "NES       98\n",
       "GB        98\n",
       "DC        52\n",
       "GEN       29\n",
       "NG        12\n",
       "SCD        6\n",
       "WS         6\n",
       "3DO        3\n",
       "TG16       2\n",
       "GG         1\n",
       "PCFX       1\n",
       "Name: platform, dtype: int64"
      ]
     },
     "execution_count": 16,
     "metadata": {},
     "output_type": "execute_result"
    }
   ],
   "source": [
    "games['platform'].value_counts()"
   ]
  },
  {
   "cell_type": "markdown",
   "metadata": {},
   "source": [
    "Поскольку мы работаем на Питоне, приведем на всякий случай все в snake_case."
   ]
  },
  {
   "cell_type": "code",
   "execution_count": 17,
   "metadata": {},
   "outputs": [],
   "source": [
    "games['platform'] = games['platform'].str.lower()"
   ]
  },
  {
   "cell_type": "code",
   "execution_count": 18,
   "metadata": {},
   "outputs": [
    {
     "data": {
      "text/plain": [
       "array(['wii', 'nes', 'gb', 'ds', 'x360', 'ps3', 'ps2', 'snes', 'gba',\n",
       "       'ps4', '3ds', 'n64', 'ps', 'xb', 'pc', '2600', 'psp', 'xone',\n",
       "       'wiiu', 'gc', 'gen', 'dc', 'psv', 'sat', 'scd', 'ws', 'ng', 'tg16',\n",
       "       '3do', 'gg', 'pcfx'], dtype=object)"
      ]
     },
     "execution_count": 18,
     "metadata": {},
     "output_type": "execute_result"
    }
   ],
   "source": [
    "games['platform'].unique()"
   ]
  },
  {
   "cell_type": "markdown",
   "metadata": {},
   "source": [
    "**Вывод**"
   ]
  },
  {
   "cell_type": "markdown",
   "metadata": {},
   "source": [
    "Даже без приведения к одному регистру видно, что повторов нет. Пропусков тоже. Переходим дальше."
   ]
  },
  {
   "cell_type": "markdown",
   "metadata": {},
   "source": [
    "#### year_of_release"
   ]
  },
  {
   "cell_type": "markdown",
   "metadata": {},
   "source": [
    "С датой нужно поработать, оценить пропуски данных и заменить тип на DateTime"
   ]
  },
  {
   "cell_type": "code",
   "execution_count": 19,
   "metadata": {
    "scrolled": false
   },
   "outputs": [
    {
     "data": {
      "text/html": [
       "<div>\n",
       "<style scoped>\n",
       "    .dataframe tbody tr th:only-of-type {\n",
       "        vertical-align: middle;\n",
       "    }\n",
       "\n",
       "    .dataframe tbody tr th {\n",
       "        vertical-align: top;\n",
       "    }\n",
       "\n",
       "    .dataframe thead th {\n",
       "        text-align: right;\n",
       "    }\n",
       "</style>\n",
       "<table border=\"1\" class=\"dataframe\">\n",
       "  <thead>\n",
       "    <tr style=\"text-align: right;\">\n",
       "      <th></th>\n",
       "      <th>game_name</th>\n",
       "      <th>platform</th>\n",
       "      <th>year_of_release</th>\n",
       "      <th>game_genre</th>\n",
       "      <th>na_sales</th>\n",
       "      <th>eu_sales</th>\n",
       "      <th>jp_sales</th>\n",
       "      <th>other_sales</th>\n",
       "      <th>critic_score</th>\n",
       "      <th>user_score</th>\n",
       "      <th>esrb_rating</th>\n",
       "    </tr>\n",
       "  </thead>\n",
       "  <tbody>\n",
       "    <tr>\n",
       "      <td>183</td>\n",
       "      <td>Madden NFL 2004</td>\n",
       "      <td>ps2</td>\n",
       "      <td>nan</td>\n",
       "      <td>Sports</td>\n",
       "      <td>4.26</td>\n",
       "      <td>0.26</td>\n",
       "      <td>0.01</td>\n",
       "      <td>0.71</td>\n",
       "      <td>94.00</td>\n",
       "      <td>8.5</td>\n",
       "      <td>E</td>\n",
       "    </tr>\n",
       "    <tr>\n",
       "      <td>377</td>\n",
       "      <td>FIFA Soccer 2004</td>\n",
       "      <td>ps2</td>\n",
       "      <td>nan</td>\n",
       "      <td>Sports</td>\n",
       "      <td>0.59</td>\n",
       "      <td>2.36</td>\n",
       "      <td>0.04</td>\n",
       "      <td>0.51</td>\n",
       "      <td>84.00</td>\n",
       "      <td>6.4</td>\n",
       "      <td>E</td>\n",
       "    </tr>\n",
       "    <tr>\n",
       "      <td>456</td>\n",
       "      <td>LEGO Batman: The Videogame</td>\n",
       "      <td>wii</td>\n",
       "      <td>nan</td>\n",
       "      <td>Action</td>\n",
       "      <td>1.80</td>\n",
       "      <td>0.97</td>\n",
       "      <td>0.00</td>\n",
       "      <td>0.29</td>\n",
       "      <td>74.00</td>\n",
       "      <td>7.9</td>\n",
       "      <td>E10+</td>\n",
       "    </tr>\n",
       "    <tr>\n",
       "      <td>475</td>\n",
       "      <td>wwe Smackdown vs. Raw 2006</td>\n",
       "      <td>ps2</td>\n",
       "      <td>nan</td>\n",
       "      <td>Fighting</td>\n",
       "      <td>1.57</td>\n",
       "      <td>1.02</td>\n",
       "      <td>0.00</td>\n",
       "      <td>0.41</td>\n",
       "      <td>nan</td>\n",
       "      <td>NaN</td>\n",
       "      <td>NaN</td>\n",
       "    </tr>\n",
       "    <tr>\n",
       "      <td>609</td>\n",
       "      <td>Space Invaders</td>\n",
       "      <td>2600</td>\n",
       "      <td>nan</td>\n",
       "      <td>Shooter</td>\n",
       "      <td>2.36</td>\n",
       "      <td>0.14</td>\n",
       "      <td>0.00</td>\n",
       "      <td>0.03</td>\n",
       "      <td>nan</td>\n",
       "      <td>NaN</td>\n",
       "      <td>NaN</td>\n",
       "    </tr>\n",
       "    <tr>\n",
       "      <td>627</td>\n",
       "      <td>Rock Band</td>\n",
       "      <td>x360</td>\n",
       "      <td>nan</td>\n",
       "      <td>Misc</td>\n",
       "      <td>1.93</td>\n",
       "      <td>0.33</td>\n",
       "      <td>0.00</td>\n",
       "      <td>0.21</td>\n",
       "      <td>92.00</td>\n",
       "      <td>8.2</td>\n",
       "      <td>T</td>\n",
       "    </tr>\n",
       "    <tr>\n",
       "      <td>657</td>\n",
       "      <td>Frogger's Adventures: Temple of the Frog</td>\n",
       "      <td>gba</td>\n",
       "      <td>nan</td>\n",
       "      <td>Adventure</td>\n",
       "      <td>2.15</td>\n",
       "      <td>0.18</td>\n",
       "      <td>0.00</td>\n",
       "      <td>0.07</td>\n",
       "      <td>73.00</td>\n",
       "      <td>tbd</td>\n",
       "      <td>E</td>\n",
       "    </tr>\n",
       "    <tr>\n",
       "      <td>678</td>\n",
       "      <td>LEGO Indiana Jones: The Original Adventures</td>\n",
       "      <td>wii</td>\n",
       "      <td>nan</td>\n",
       "      <td>Action</td>\n",
       "      <td>1.51</td>\n",
       "      <td>0.61</td>\n",
       "      <td>0.00</td>\n",
       "      <td>0.21</td>\n",
       "      <td>78.00</td>\n",
       "      <td>6.6</td>\n",
       "      <td>E10+</td>\n",
       "    </tr>\n",
       "    <tr>\n",
       "      <td>719</td>\n",
       "      <td>Call of Duty 3</td>\n",
       "      <td>wii</td>\n",
       "      <td>nan</td>\n",
       "      <td>Shooter</td>\n",
       "      <td>1.17</td>\n",
       "      <td>0.84</td>\n",
       "      <td>0.00</td>\n",
       "      <td>0.23</td>\n",
       "      <td>69.00</td>\n",
       "      <td>6.7</td>\n",
       "      <td>T</td>\n",
       "    </tr>\n",
       "    <tr>\n",
       "      <td>805</td>\n",
       "      <td>Rock Band</td>\n",
       "      <td>wii</td>\n",
       "      <td>nan</td>\n",
       "      <td>Misc</td>\n",
       "      <td>1.33</td>\n",
       "      <td>0.56</td>\n",
       "      <td>0.00</td>\n",
       "      <td>0.20</td>\n",
       "      <td>80.00</td>\n",
       "      <td>6.3</td>\n",
       "      <td>T</td>\n",
       "    </tr>\n",
       "  </tbody>\n",
       "</table>\n",
       "</div>"
      ],
      "text/plain": [
       "                                       game_name platform  year_of_release  \\\n",
       "183                              Madden NFL 2004      ps2              nan   \n",
       "377                             FIFA Soccer 2004      ps2              nan   \n",
       "456                   LEGO Batman: The Videogame      wii              nan   \n",
       "475                   wwe Smackdown vs. Raw 2006      ps2              nan   \n",
       "609                               Space Invaders     2600              nan   \n",
       "627                                    Rock Band     x360              nan   \n",
       "657     Frogger's Adventures: Temple of the Frog      gba              nan   \n",
       "678  LEGO Indiana Jones: The Original Adventures      wii              nan   \n",
       "719                               Call of Duty 3      wii              nan   \n",
       "805                                    Rock Band      wii              nan   \n",
       "\n",
       "    game_genre  na_sales  eu_sales  jp_sales  other_sales  critic_score  \\\n",
       "183     Sports      4.26      0.26      0.01         0.71         94.00   \n",
       "377     Sports      0.59      2.36      0.04         0.51         84.00   \n",
       "456     Action      1.80      0.97      0.00         0.29         74.00   \n",
       "475   Fighting      1.57      1.02      0.00         0.41           nan   \n",
       "609    Shooter      2.36      0.14      0.00         0.03           nan   \n",
       "627       Misc      1.93      0.33      0.00         0.21         92.00   \n",
       "657  Adventure      2.15      0.18      0.00         0.07         73.00   \n",
       "678     Action      1.51      0.61      0.00         0.21         78.00   \n",
       "719    Shooter      1.17      0.84      0.00         0.23         69.00   \n",
       "805       Misc      1.33      0.56      0.00         0.20         80.00   \n",
       "\n",
       "    user_score esrb_rating  \n",
       "183        8.5           E  \n",
       "377        6.4           E  \n",
       "456        7.9        E10+  \n",
       "475        NaN         NaN  \n",
       "609        NaN         NaN  \n",
       "627        8.2           T  \n",
       "657        tbd           E  \n",
       "678        6.6        E10+  \n",
       "719        6.7           T  \n",
       "805        6.3           T  "
      ]
     },
     "execution_count": 19,
     "metadata": {},
     "output_type": "execute_result"
    }
   ],
   "source": [
    "games[games['year_of_release'].isna()].head(10)"
   ]
  },
  {
   "cell_type": "code",
   "execution_count": 20,
   "metadata": {},
   "outputs": [
    {
     "data": {
      "text/plain": [
       "1.609332934489979"
      ]
     },
     "execution_count": 20,
     "metadata": {},
     "output_type": "execute_result"
    }
   ],
   "source": [
    "games['year_of_release'].isna().mean()*100"
   ]
  },
  {
   "cell_type": "markdown",
   "metadata": {},
   "source": [
    "Странно что весьма много пропусков у данных о годе выхода игры (1.6 % данных), причем по названиям можно сделать вывод, что игры так сказать не из конца выборки (2015-2016), возможно произошел сбой при выгрузке данных о годе выхода игры. Отбросить эти строки тоже нельзя, присутствуют данные о продажах и рейтинге игр для разных платформ. Заменим пропуски каким-нибудь характерным значением, которое будет выбиваться и сразу даст понять, что это обработанный пропуск. Для года можно взять значение 2049."
   ]
  },
  {
   "cell_type": "code",
   "execution_count": 21,
   "metadata": {
    "scrolled": false
   },
   "outputs": [
    {
     "name": "stdout",
     "output_type": "stream",
     "text": [
      "<class 'pandas.core.frame.DataFrame'>\n",
      "RangeIndex: 16715 entries, 0 to 16714\n",
      "Data columns (total 11 columns):\n",
      "game_name          16715 non-null object\n",
      "platform           16715 non-null object\n",
      "year_of_release    16715 non-null float64\n",
      "game_genre         16715 non-null object\n",
      "na_sales           16715 non-null float64\n",
      "eu_sales           16715 non-null float64\n",
      "jp_sales           16715 non-null float64\n",
      "other_sales        16715 non-null float64\n",
      "critic_score       8137 non-null float64\n",
      "user_score         10014 non-null object\n",
      "esrb_rating        9949 non-null object\n",
      "dtypes: float64(6), object(5)\n",
      "memory usage: 1.4+ MB\n"
     ]
    }
   ],
   "source": [
    "games['year_of_release'] = games['year_of_release'].fillna(2049)\n",
    "games.info()"
   ]
  },
  {
   "cell_type": "markdown",
   "metadata": {},
   "source": [
    "Приведем тип данных в столбце с годом выпуска игры в формат DateTime."
   ]
  },
  {
   "cell_type": "code",
   "execution_count": 22,
   "metadata": {},
   "outputs": [],
   "source": [
    "games['year_of_release'] = pd.to_datetime(games['year_of_release'], format=\"%Y\").dt.year"
   ]
  },
  {
   "cell_type": "code",
   "execution_count": 23,
   "metadata": {},
   "outputs": [
    {
     "name": "stdout",
     "output_type": "stream",
     "text": [
      "<class 'pandas.core.frame.DataFrame'>\n",
      "RangeIndex: 16715 entries, 0 to 16714\n",
      "Data columns (total 11 columns):\n",
      "game_name          16715 non-null object\n",
      "platform           16715 non-null object\n",
      "year_of_release    16715 non-null int64\n",
      "game_genre         16715 non-null object\n",
      "na_sales           16715 non-null float64\n",
      "eu_sales           16715 non-null float64\n",
      "jp_sales           16715 non-null float64\n",
      "other_sales        16715 non-null float64\n",
      "critic_score       8137 non-null float64\n",
      "user_score         10014 non-null object\n",
      "esrb_rating        9949 non-null object\n",
      "dtypes: float64(5), int64(1), object(5)\n",
      "memory usage: 1.4+ MB\n"
     ]
    }
   ],
   "source": [
    "games.info()"
   ]
  },
  {
   "cell_type": "code",
   "execution_count": 24,
   "metadata": {
    "scrolled": true
   },
   "outputs": [
    {
     "data": {
      "text/html": [
       "<div>\n",
       "<style scoped>\n",
       "    .dataframe tbody tr th:only-of-type {\n",
       "        vertical-align: middle;\n",
       "    }\n",
       "\n",
       "    .dataframe tbody tr th {\n",
       "        vertical-align: top;\n",
       "    }\n",
       "\n",
       "    .dataframe thead th {\n",
       "        text-align: right;\n",
       "    }\n",
       "</style>\n",
       "<table border=\"1\" class=\"dataframe\">\n",
       "  <thead>\n",
       "    <tr style=\"text-align: right;\">\n",
       "      <th></th>\n",
       "      <th>game_name</th>\n",
       "      <th>platform</th>\n",
       "      <th>year_of_release</th>\n",
       "      <th>game_genre</th>\n",
       "      <th>na_sales</th>\n",
       "      <th>eu_sales</th>\n",
       "      <th>jp_sales</th>\n",
       "      <th>other_sales</th>\n",
       "      <th>critic_score</th>\n",
       "      <th>user_score</th>\n",
       "      <th>esrb_rating</th>\n",
       "    </tr>\n",
       "  </thead>\n",
       "  <tbody>\n",
       "    <tr>\n",
       "      <td>8382</td>\n",
       "      <td>State of Emergency</td>\n",
       "      <td>xb</td>\n",
       "      <td>2003</td>\n",
       "      <td>Action</td>\n",
       "      <td>0.13</td>\n",
       "      <td>0.04</td>\n",
       "      <td>0.00</td>\n",
       "      <td>0.01</td>\n",
       "      <td>67.00</td>\n",
       "      <td>6.3</td>\n",
       "      <td>M</td>\n",
       "    </tr>\n",
       "  </tbody>\n",
       "</table>\n",
       "</div>"
      ],
      "text/plain": [
       "               game_name platform  year_of_release game_genre  na_sales  \\\n",
       "8382  State of Emergency       xb             2003     Action      0.13   \n",
       "\n",
       "      eu_sales  jp_sales  other_sales  critic_score user_score esrb_rating  \n",
       "8382      0.04      0.00         0.01         67.00        6.3           M  "
      ]
     },
     "execution_count": 24,
     "metadata": {},
     "output_type": "execute_result"
    }
   ],
   "source": [
    "games.sample()"
   ]
  },
  {
   "cell_type": "code",
   "execution_count": 25,
   "metadata": {
    "scrolled": true
   },
   "outputs": [
    {
     "data": {
      "text/html": [
       "<div>\n",
       "<style scoped>\n",
       "    .dataframe tbody tr th:only-of-type {\n",
       "        vertical-align: middle;\n",
       "    }\n",
       "\n",
       "    .dataframe tbody tr th {\n",
       "        vertical-align: top;\n",
       "    }\n",
       "\n",
       "    .dataframe thead th {\n",
       "        text-align: right;\n",
       "    }\n",
       "</style>\n",
       "<table border=\"1\" class=\"dataframe\">\n",
       "  <thead>\n",
       "    <tr style=\"text-align: right;\">\n",
       "      <th></th>\n",
       "      <th>year_of_release</th>\n",
       "      <th>na_sales</th>\n",
       "      <th>eu_sales</th>\n",
       "      <th>jp_sales</th>\n",
       "      <th>other_sales</th>\n",
       "      <th>critic_score</th>\n",
       "    </tr>\n",
       "  </thead>\n",
       "  <tbody>\n",
       "    <tr>\n",
       "      <td>count</td>\n",
       "      <td>16,715.00</td>\n",
       "      <td>16,715.00</td>\n",
       "      <td>16,715.00</td>\n",
       "      <td>16,715.00</td>\n",
       "      <td>16,715.00</td>\n",
       "      <td>8,137.00</td>\n",
       "    </tr>\n",
       "    <tr>\n",
       "      <td>mean</td>\n",
       "      <td>2,007.17</td>\n",
       "      <td>0.26</td>\n",
       "      <td>0.15</td>\n",
       "      <td>0.08</td>\n",
       "      <td>0.05</td>\n",
       "      <td>68.97</td>\n",
       "    </tr>\n",
       "    <tr>\n",
       "      <td>std</td>\n",
       "      <td>7.91</td>\n",
       "      <td>0.81</td>\n",
       "      <td>0.50</td>\n",
       "      <td>0.31</td>\n",
       "      <td>0.19</td>\n",
       "      <td>13.94</td>\n",
       "    </tr>\n",
       "    <tr>\n",
       "      <td>min</td>\n",
       "      <td>1,980.00</td>\n",
       "      <td>0.00</td>\n",
       "      <td>0.00</td>\n",
       "      <td>0.00</td>\n",
       "      <td>0.00</td>\n",
       "      <td>13.00</td>\n",
       "    </tr>\n",
       "    <tr>\n",
       "      <td>25%</td>\n",
       "      <td>2,003.00</td>\n",
       "      <td>0.00</td>\n",
       "      <td>0.00</td>\n",
       "      <td>0.00</td>\n",
       "      <td>0.00</td>\n",
       "      <td>60.00</td>\n",
       "    </tr>\n",
       "    <tr>\n",
       "      <td>50%</td>\n",
       "      <td>2,008.00</td>\n",
       "      <td>0.08</td>\n",
       "      <td>0.02</td>\n",
       "      <td>0.00</td>\n",
       "      <td>0.01</td>\n",
       "      <td>71.00</td>\n",
       "    </tr>\n",
       "    <tr>\n",
       "      <td>75%</td>\n",
       "      <td>2,011.00</td>\n",
       "      <td>0.24</td>\n",
       "      <td>0.11</td>\n",
       "      <td>0.04</td>\n",
       "      <td>0.03</td>\n",
       "      <td>79.00</td>\n",
       "    </tr>\n",
       "    <tr>\n",
       "      <td>max</td>\n",
       "      <td>2,049.00</td>\n",
       "      <td>41.36</td>\n",
       "      <td>28.96</td>\n",
       "      <td>10.22</td>\n",
       "      <td>10.57</td>\n",
       "      <td>98.00</td>\n",
       "    </tr>\n",
       "  </tbody>\n",
       "</table>\n",
       "</div>"
      ],
      "text/plain": [
       "       year_of_release  na_sales  eu_sales  jp_sales  other_sales  \\\n",
       "count        16,715.00 16,715.00 16,715.00 16,715.00    16,715.00   \n",
       "mean          2,007.17      0.26      0.15      0.08         0.05   \n",
       "std               7.91      0.81      0.50      0.31         0.19   \n",
       "min           1,980.00      0.00      0.00      0.00         0.00   \n",
       "25%           2,003.00      0.00      0.00      0.00         0.00   \n",
       "50%           2,008.00      0.08      0.02      0.00         0.01   \n",
       "75%           2,011.00      0.24      0.11      0.04         0.03   \n",
       "max           2,049.00     41.36     28.96     10.22        10.57   \n",
       "\n",
       "       critic_score  \n",
       "count      8,137.00  \n",
       "mean          68.97  \n",
       "std           13.94  \n",
       "min           13.00  \n",
       "25%           60.00  \n",
       "50%           71.00  \n",
       "75%           79.00  \n",
       "max           98.00  "
      ]
     },
     "execution_count": 25,
     "metadata": {},
     "output_type": "execute_result"
    }
   ],
   "source": [
    "games.describe()"
   ]
  },
  {
   "cell_type": "markdown",
   "metadata": {},
   "source": [
    "<div class=\"alert alert-info\" style=\"border-radius: 15px; box-shadow: 4px 4px 4px; border: 1px solid \">\n",
    "\n",
    "Тут я обратил внимание, что когда я хочу взять из формата даты, только один год (потому что когда я привожу к datetime выше, автоматически прописывается день и месяц, но они будут вносить некорректность в данные, поскольку не все игры выходят именно 1 января) то формат столбца автоматически переводится в int, поэтому тут я оставил его таким и продолжил анализ.\n",
    "    \n",
    "</div>\n",
    "\n",
    "\n",
    "<div class=\"alert alert-success\">\n",
    "<b>✔️</b> Хорошо, корректно, спасибо за подробное объяснение\n",
    "</div>"
   ]
  },
  {
   "cell_type": "markdown",
   "metadata": {},
   "source": [
    "**Вывод**"
   ]
  },
  {
   "cell_type": "markdown",
   "metadata": {},
   "source": [
    "Данные с годами выхода игр обработаны. Пропуски заменены на характерное значение."
   ]
  },
  {
   "cell_type": "markdown",
   "metadata": {},
   "source": [
    "<div class=\"alert alert-success\">\n",
    "<b>✔️</b> Ты верно подметил, что мы не можем заполнить данные пропуски медианной, средним и прочим. Также верно изменен тип данных\n",
    "</div>\n",
    "\n",
    "\n",
    "<div class=\"alert alert-warning\">\n",
    "<b>⚠️</b> \n",
    "<br> В данном случае можно сразу удалить такую малую долю пропусков для экономии времени:)\n",
    "</div>"
   ]
  },
  {
   "cell_type": "markdown",
   "metadata": {},
   "source": [
    "#### game_genre"
   ]
  },
  {
   "cell_type": "markdown",
   "metadata": {},
   "source": [
    "Оценим данные в столбце с жанрами игр."
   ]
  },
  {
   "cell_type": "code",
   "execution_count": 26,
   "metadata": {},
   "outputs": [
    {
     "data": {
      "text/plain": [
       "0"
      ]
     },
     "execution_count": 26,
     "metadata": {},
     "output_type": "execute_result"
    }
   ],
   "source": [
    "games['game_genre'].isna().sum()"
   ]
  },
  {
   "cell_type": "markdown",
   "metadata": {},
   "source": [
    "Пропусков нет (обработка выше)"
   ]
  },
  {
   "cell_type": "code",
   "execution_count": 27,
   "metadata": {},
   "outputs": [
    {
     "data": {
      "text/plain": [
       "array(['Sports', 'Platform', 'Racing', 'Role-Playing', 'Puzzle', 'Misc',\n",
       "       'Shooter', 'Simulation', 'Action', 'Fighting', 'Adventure',\n",
       "       'Strategy', 'no_genre_name'], dtype=object)"
      ]
     },
     "execution_count": 27,
     "metadata": {},
     "output_type": "execute_result"
    }
   ],
   "source": [
    "games['game_genre'].unique()"
   ]
  },
  {
   "cell_type": "markdown",
   "metadata": {},
   "source": [
    "Чтобы не выбивались из общего вида, приведем к snake_case."
   ]
  },
  {
   "cell_type": "code",
   "execution_count": 28,
   "metadata": {},
   "outputs": [],
   "source": [
    "games['game_genre'] = games['game_genre'].str.lower()\n",
    "games.loc[games['game_genre'] == 'role-playing', 'game_genre'] = 'role_playing'"
   ]
  },
  {
   "cell_type": "code",
   "execution_count": 29,
   "metadata": {},
   "outputs": [
    {
     "data": {
      "text/plain": [
       "array(['sports', 'platform', 'racing', 'role_playing', 'puzzle', 'misc',\n",
       "       'shooter', 'simulation', 'action', 'fighting', 'adventure',\n",
       "       'strategy', 'no_genre_name'], dtype=object)"
      ]
     },
     "execution_count": 29,
     "metadata": {},
     "output_type": "execute_result"
    }
   ],
   "source": [
    "games['game_genre'].unique()"
   ]
  },
  {
   "cell_type": "markdown",
   "metadata": {},
   "source": [
    "**Вывод**"
   ]
  },
  {
   "cell_type": "markdown",
   "metadata": {},
   "source": [
    "Привели данные к snake_case, пропусков нет."
   ]
  },
  {
   "cell_type": "markdown",
   "metadata": {},
   "source": [
    "#### sales"
   ]
  },
  {
   "cell_type": "markdown",
   "metadata": {},
   "source": [
    "Оценим данные в столбцах с продажами по регионам и сразу выполним расчет суммарных продаж."
   ]
  },
  {
   "cell_type": "code",
   "execution_count": 30,
   "metadata": {},
   "outputs": [
    {
     "name": "stdout",
     "output_type": "stream",
     "text": [
      "<class 'pandas.core.frame.DataFrame'>\n",
      "RangeIndex: 16715 entries, 0 to 16714\n",
      "Data columns (total 11 columns):\n",
      "game_name          16715 non-null object\n",
      "platform           16715 non-null object\n",
      "year_of_release    16715 non-null int64\n",
      "game_genre         16715 non-null object\n",
      "na_sales           16715 non-null float64\n",
      "eu_sales           16715 non-null float64\n",
      "jp_sales           16715 non-null float64\n",
      "other_sales        16715 non-null float64\n",
      "critic_score       8137 non-null float64\n",
      "user_score         10014 non-null object\n",
      "esrb_rating        9949 non-null object\n",
      "dtypes: float64(5), int64(1), object(5)\n",
      "memory usage: 1.4+ MB\n"
     ]
    }
   ],
   "source": [
    "games.info()"
   ]
  },
  {
   "cell_type": "code",
   "execution_count": 31,
   "metadata": {},
   "outputs": [
    {
     "data": {
      "text/html": [
       "<div>\n",
       "<style scoped>\n",
       "    .dataframe tbody tr th:only-of-type {\n",
       "        vertical-align: middle;\n",
       "    }\n",
       "\n",
       "    .dataframe tbody tr th {\n",
       "        vertical-align: top;\n",
       "    }\n",
       "\n",
       "    .dataframe thead th {\n",
       "        text-align: right;\n",
       "    }\n",
       "</style>\n",
       "<table border=\"1\" class=\"dataframe\">\n",
       "  <thead>\n",
       "    <tr style=\"text-align: right;\">\n",
       "      <th></th>\n",
       "      <th>na_sales</th>\n",
       "      <th>eu_sales</th>\n",
       "      <th>jp_sales</th>\n",
       "      <th>other_sales</th>\n",
       "    </tr>\n",
       "  </thead>\n",
       "  <tbody>\n",
       "    <tr>\n",
       "      <td>count</td>\n",
       "      <td>16,715.00</td>\n",
       "      <td>16,715.00</td>\n",
       "      <td>16,715.00</td>\n",
       "      <td>16,715.00</td>\n",
       "    </tr>\n",
       "    <tr>\n",
       "      <td>mean</td>\n",
       "      <td>0.26</td>\n",
       "      <td>0.15</td>\n",
       "      <td>0.08</td>\n",
       "      <td>0.05</td>\n",
       "    </tr>\n",
       "    <tr>\n",
       "      <td>std</td>\n",
       "      <td>0.81</td>\n",
       "      <td>0.50</td>\n",
       "      <td>0.31</td>\n",
       "      <td>0.19</td>\n",
       "    </tr>\n",
       "    <tr>\n",
       "      <td>min</td>\n",
       "      <td>0.00</td>\n",
       "      <td>0.00</td>\n",
       "      <td>0.00</td>\n",
       "      <td>0.00</td>\n",
       "    </tr>\n",
       "    <tr>\n",
       "      <td>25%</td>\n",
       "      <td>0.00</td>\n",
       "      <td>0.00</td>\n",
       "      <td>0.00</td>\n",
       "      <td>0.00</td>\n",
       "    </tr>\n",
       "    <tr>\n",
       "      <td>50%</td>\n",
       "      <td>0.08</td>\n",
       "      <td>0.02</td>\n",
       "      <td>0.00</td>\n",
       "      <td>0.01</td>\n",
       "    </tr>\n",
       "    <tr>\n",
       "      <td>75%</td>\n",
       "      <td>0.24</td>\n",
       "      <td>0.11</td>\n",
       "      <td>0.04</td>\n",
       "      <td>0.03</td>\n",
       "    </tr>\n",
       "    <tr>\n",
       "      <td>max</td>\n",
       "      <td>41.36</td>\n",
       "      <td>28.96</td>\n",
       "      <td>10.22</td>\n",
       "      <td>10.57</td>\n",
       "    </tr>\n",
       "  </tbody>\n",
       "</table>\n",
       "</div>"
      ],
      "text/plain": [
       "       na_sales  eu_sales  jp_sales  other_sales\n",
       "count 16,715.00 16,715.00 16,715.00    16,715.00\n",
       "mean       0.26      0.15      0.08         0.05\n",
       "std        0.81      0.50      0.31         0.19\n",
       "min        0.00      0.00      0.00         0.00\n",
       "25%        0.00      0.00      0.00         0.00\n",
       "50%        0.08      0.02      0.00         0.01\n",
       "75%        0.24      0.11      0.04         0.03\n",
       "max       41.36     28.96     10.22        10.57"
      ]
     },
     "execution_count": 31,
     "metadata": {},
     "output_type": "execute_result"
    }
   ],
   "source": [
    "games[['na_sales', 'eu_sales', 'jp_sales', 'other_sales']].describe()"
   ]
  },
  {
   "cell_type": "markdown",
   "metadata": {},
   "source": [
    "Выглядит адекватно. Рассчитаем суммарные продажи."
   ]
  },
  {
   "cell_type": "code",
   "execution_count": 32,
   "metadata": {},
   "outputs": [
    {
     "data": {
      "text/html": [
       "<div>\n",
       "<style scoped>\n",
       "    .dataframe tbody tr th:only-of-type {\n",
       "        vertical-align: middle;\n",
       "    }\n",
       "\n",
       "    .dataframe tbody tr th {\n",
       "        vertical-align: top;\n",
       "    }\n",
       "\n",
       "    .dataframe thead th {\n",
       "        text-align: right;\n",
       "    }\n",
       "</style>\n",
       "<table border=\"1\" class=\"dataframe\">\n",
       "  <thead>\n",
       "    <tr style=\"text-align: right;\">\n",
       "      <th></th>\n",
       "      <th>game_name</th>\n",
       "      <th>platform</th>\n",
       "      <th>year_of_release</th>\n",
       "      <th>game_genre</th>\n",
       "      <th>na_sales</th>\n",
       "      <th>eu_sales</th>\n",
       "      <th>jp_sales</th>\n",
       "      <th>other_sales</th>\n",
       "      <th>critic_score</th>\n",
       "      <th>user_score</th>\n",
       "      <th>esrb_rating</th>\n",
       "      <th>total_sales</th>\n",
       "    </tr>\n",
       "  </thead>\n",
       "  <tbody>\n",
       "    <tr>\n",
       "      <td>0</td>\n",
       "      <td>Wii Sports</td>\n",
       "      <td>wii</td>\n",
       "      <td>2006</td>\n",
       "      <td>sports</td>\n",
       "      <td>41.36</td>\n",
       "      <td>28.96</td>\n",
       "      <td>3.77</td>\n",
       "      <td>8.45</td>\n",
       "      <td>76.00</td>\n",
       "      <td>8</td>\n",
       "      <td>E</td>\n",
       "      <td>82.54</td>\n",
       "    </tr>\n",
       "    <tr>\n",
       "      <td>1</td>\n",
       "      <td>Super Mario Bros.</td>\n",
       "      <td>nes</td>\n",
       "      <td>1985</td>\n",
       "      <td>platform</td>\n",
       "      <td>29.08</td>\n",
       "      <td>3.58</td>\n",
       "      <td>6.81</td>\n",
       "      <td>0.77</td>\n",
       "      <td>nan</td>\n",
       "      <td>NaN</td>\n",
       "      <td>NaN</td>\n",
       "      <td>40.24</td>\n",
       "    </tr>\n",
       "    <tr>\n",
       "      <td>2</td>\n",
       "      <td>Mario Kart Wii</td>\n",
       "      <td>wii</td>\n",
       "      <td>2008</td>\n",
       "      <td>racing</td>\n",
       "      <td>15.68</td>\n",
       "      <td>12.76</td>\n",
       "      <td>3.79</td>\n",
       "      <td>3.29</td>\n",
       "      <td>82.00</td>\n",
       "      <td>8.3</td>\n",
       "      <td>E</td>\n",
       "      <td>35.52</td>\n",
       "    </tr>\n",
       "    <tr>\n",
       "      <td>3</td>\n",
       "      <td>Wii Sports Resort</td>\n",
       "      <td>wii</td>\n",
       "      <td>2009</td>\n",
       "      <td>sports</td>\n",
       "      <td>15.61</td>\n",
       "      <td>10.93</td>\n",
       "      <td>3.28</td>\n",
       "      <td>2.95</td>\n",
       "      <td>80.00</td>\n",
       "      <td>8</td>\n",
       "      <td>E</td>\n",
       "      <td>32.77</td>\n",
       "    </tr>\n",
       "    <tr>\n",
       "      <td>4</td>\n",
       "      <td>Pokemon Red/Pokemon Blue</td>\n",
       "      <td>gb</td>\n",
       "      <td>1996</td>\n",
       "      <td>role_playing</td>\n",
       "      <td>11.27</td>\n",
       "      <td>8.89</td>\n",
       "      <td>10.22</td>\n",
       "      <td>1.00</td>\n",
       "      <td>nan</td>\n",
       "      <td>NaN</td>\n",
       "      <td>NaN</td>\n",
       "      <td>31.38</td>\n",
       "    </tr>\n",
       "    <tr>\n",
       "      <td>5</td>\n",
       "      <td>Tetris</td>\n",
       "      <td>gb</td>\n",
       "      <td>1989</td>\n",
       "      <td>puzzle</td>\n",
       "      <td>23.20</td>\n",
       "      <td>2.26</td>\n",
       "      <td>4.22</td>\n",
       "      <td>0.58</td>\n",
       "      <td>nan</td>\n",
       "      <td>NaN</td>\n",
       "      <td>NaN</td>\n",
       "      <td>30.26</td>\n",
       "    </tr>\n",
       "    <tr>\n",
       "      <td>6</td>\n",
       "      <td>New Super Mario Bros.</td>\n",
       "      <td>ds</td>\n",
       "      <td>2006</td>\n",
       "      <td>platform</td>\n",
       "      <td>11.28</td>\n",
       "      <td>9.14</td>\n",
       "      <td>6.50</td>\n",
       "      <td>2.88</td>\n",
       "      <td>89.00</td>\n",
       "      <td>8.5</td>\n",
       "      <td>E</td>\n",
       "      <td>29.80</td>\n",
       "    </tr>\n",
       "    <tr>\n",
       "      <td>7</td>\n",
       "      <td>Wii Play</td>\n",
       "      <td>wii</td>\n",
       "      <td>2006</td>\n",
       "      <td>misc</td>\n",
       "      <td>13.96</td>\n",
       "      <td>9.18</td>\n",
       "      <td>2.93</td>\n",
       "      <td>2.84</td>\n",
       "      <td>58.00</td>\n",
       "      <td>6.6</td>\n",
       "      <td>E</td>\n",
       "      <td>28.91</td>\n",
       "    </tr>\n",
       "    <tr>\n",
       "      <td>8</td>\n",
       "      <td>New Super Mario Bros. Wii</td>\n",
       "      <td>wii</td>\n",
       "      <td>2009</td>\n",
       "      <td>platform</td>\n",
       "      <td>14.44</td>\n",
       "      <td>6.94</td>\n",
       "      <td>4.70</td>\n",
       "      <td>2.24</td>\n",
       "      <td>87.00</td>\n",
       "      <td>8.4</td>\n",
       "      <td>E</td>\n",
       "      <td>28.32</td>\n",
       "    </tr>\n",
       "    <tr>\n",
       "      <td>9</td>\n",
       "      <td>Duck Hunt</td>\n",
       "      <td>nes</td>\n",
       "      <td>1984</td>\n",
       "      <td>shooter</td>\n",
       "      <td>26.93</td>\n",
       "      <td>0.63</td>\n",
       "      <td>0.28</td>\n",
       "      <td>0.47</td>\n",
       "      <td>nan</td>\n",
       "      <td>NaN</td>\n",
       "      <td>NaN</td>\n",
       "      <td>28.31</td>\n",
       "    </tr>\n",
       "  </tbody>\n",
       "</table>\n",
       "</div>"
      ],
      "text/plain": [
       "                   game_name platform  year_of_release    game_genre  \\\n",
       "0                 Wii Sports      wii             2006        sports   \n",
       "1          Super Mario Bros.      nes             1985      platform   \n",
       "2             Mario Kart Wii      wii             2008        racing   \n",
       "3          Wii Sports Resort      wii             2009        sports   \n",
       "4   Pokemon Red/Pokemon Blue       gb             1996  role_playing   \n",
       "5                     Tetris       gb             1989        puzzle   \n",
       "6      New Super Mario Bros.       ds             2006      platform   \n",
       "7                   Wii Play      wii             2006          misc   \n",
       "8  New Super Mario Bros. Wii      wii             2009      platform   \n",
       "9                  Duck Hunt      nes             1984       shooter   \n",
       "\n",
       "   na_sales  eu_sales  jp_sales  other_sales  critic_score user_score  \\\n",
       "0     41.36     28.96      3.77         8.45         76.00          8   \n",
       "1     29.08      3.58      6.81         0.77           nan        NaN   \n",
       "2     15.68     12.76      3.79         3.29         82.00        8.3   \n",
       "3     15.61     10.93      3.28         2.95         80.00          8   \n",
       "4     11.27      8.89     10.22         1.00           nan        NaN   \n",
       "5     23.20      2.26      4.22         0.58           nan        NaN   \n",
       "6     11.28      9.14      6.50         2.88         89.00        8.5   \n",
       "7     13.96      9.18      2.93         2.84         58.00        6.6   \n",
       "8     14.44      6.94      4.70         2.24         87.00        8.4   \n",
       "9     26.93      0.63      0.28         0.47           nan        NaN   \n",
       "\n",
       "  esrb_rating  total_sales  \n",
       "0           E        82.54  \n",
       "1         NaN        40.24  \n",
       "2           E        35.52  \n",
       "3           E        32.77  \n",
       "4         NaN        31.38  \n",
       "5         NaN        30.26  \n",
       "6           E        29.80  \n",
       "7           E        28.91  \n",
       "8           E        28.32  \n",
       "9         NaN        28.31  "
      ]
     },
     "execution_count": 32,
     "metadata": {},
     "output_type": "execute_result"
    }
   ],
   "source": [
    "games['total_sales'] = games['na_sales'] + games['eu_sales'] + games['jp_sales'] + games['other_sales']\n",
    "games.head(10)"
   ]
  },
  {
   "cell_type": "code",
   "execution_count": 33,
   "metadata": {},
   "outputs": [
    {
     "name": "stdout",
     "output_type": "stream",
     "text": [
      "<class 'pandas.core.frame.DataFrame'>\n",
      "RangeIndex: 16715 entries, 0 to 16714\n",
      "Data columns (total 12 columns):\n",
      "game_name          16715 non-null object\n",
      "platform           16715 non-null object\n",
      "year_of_release    16715 non-null int64\n",
      "game_genre         16715 non-null object\n",
      "na_sales           16715 non-null float64\n",
      "eu_sales           16715 non-null float64\n",
      "jp_sales           16715 non-null float64\n",
      "other_sales        16715 non-null float64\n",
      "critic_score       8137 non-null float64\n",
      "user_score         10014 non-null object\n",
      "esrb_rating        9949 non-null object\n",
      "total_sales        16715 non-null float64\n",
      "dtypes: float64(6), int64(1), object(5)\n",
      "memory usage: 1.5+ MB\n"
     ]
    }
   ],
   "source": [
    "games.info()"
   ]
  },
  {
   "cell_type": "markdown",
   "metadata": {},
   "source": [
    "**Вывод**"
   ]
  },
  {
   "cell_type": "markdown",
   "metadata": {},
   "source": [
    "Рассчитали значения суммарных продаж для каждой строки."
   ]
  },
  {
   "cell_type": "markdown",
   "metadata": {},
   "source": [
    "<div class=\"alert alert-success\">\n",
    "<b>✔️</b> \n",
    "<br> Верно выполнен расчет суммарных продаж!\n",
    "</div>\n",
    "<div class=\"alert alert-warning\">\n",
    "<b>⚠️</b> \n",
    "<br> \n",
    "    \n",
    "Твой метод подсчета корректный, также можно еще взять метод **sum** с аргументом **axis=1**\n",
    "\n",
    "```python\n",
    "df['total_sales'] = df[['na_sales','eu_sales','jp_sales','other_sales']].sum(axis=1)\n",
    "```\n",
    "</div>"
   ]
  },
  {
   "cell_type": "markdown",
   "metadata": {},
   "source": [
    "<div class=\"alert alert-info\">\n",
    "<b>Комментарий студента:</b> Спасибо, добавлю в шпаргалку такой способ вызова методов к множественным столбцам. \n",
    "<br>\n",
    "</div>"
   ]
  },
  {
   "cell_type": "markdown",
   "metadata": {},
   "source": [
    "#### critic_score и user_score"
   ]
  },
  {
   "cell_type": "markdown",
   "metadata": {},
   "source": [
    "Оценим пропуски и в целом значения в этих столбцах. Также заменим тип данных в строке **user_score** на float, предварительно заменив значения tbd, т.е. будем интерпретировать такие оценки как пропуски."
   ]
  },
  {
   "cell_type": "code",
   "execution_count": 34,
   "metadata": {},
   "outputs": [
    {
     "data": {
      "text/plain": [
       "14.501944361352079"
      ]
     },
     "execution_count": 34,
     "metadata": {},
     "output_type": "execute_result"
    }
   ],
   "source": [
    "games[games['user_score'] == 'tbd']['user_score'].count()/games.shape[0]*100"
   ]
  },
  {
   "cell_type": "markdown",
   "metadata": {},
   "source": [
    "14% данных относятся к оценкам пользователей tbd."
   ]
  },
  {
   "cell_type": "code",
   "execution_count": 35,
   "metadata": {},
   "outputs": [
    {
     "data": {
      "text/html": [
       "<div>\n",
       "<style scoped>\n",
       "    .dataframe tbody tr th:only-of-type {\n",
       "        vertical-align: middle;\n",
       "    }\n",
       "\n",
       "    .dataframe tbody tr th {\n",
       "        vertical-align: top;\n",
       "    }\n",
       "\n",
       "    .dataframe thead th {\n",
       "        text-align: right;\n",
       "    }\n",
       "</style>\n",
       "<table border=\"1\" class=\"dataframe\">\n",
       "  <thead>\n",
       "    <tr style=\"text-align: right;\">\n",
       "      <th></th>\n",
       "      <th>game_name</th>\n",
       "      <th>platform</th>\n",
       "      <th>year_of_release</th>\n",
       "      <th>game_genre</th>\n",
       "      <th>na_sales</th>\n",
       "      <th>eu_sales</th>\n",
       "      <th>jp_sales</th>\n",
       "      <th>other_sales</th>\n",
       "      <th>critic_score</th>\n",
       "      <th>user_score</th>\n",
       "      <th>esrb_rating</th>\n",
       "      <th>total_sales</th>\n",
       "    </tr>\n",
       "  </thead>\n",
       "  <tbody>\n",
       "    <tr>\n",
       "      <td>119</td>\n",
       "      <td>Zumba Fitness</td>\n",
       "      <td>wii</td>\n",
       "      <td>2010</td>\n",
       "      <td>sports</td>\n",
       "      <td>3.45</td>\n",
       "      <td>2.59</td>\n",
       "      <td>0.00</td>\n",
       "      <td>0.66</td>\n",
       "      <td>nan</td>\n",
       "      <td>tbd</td>\n",
       "      <td>E</td>\n",
       "      <td>6.70</td>\n",
       "    </tr>\n",
       "    <tr>\n",
       "      <td>301</td>\n",
       "      <td>Namco Museum: 50th Anniversary</td>\n",
       "      <td>ps2</td>\n",
       "      <td>2005</td>\n",
       "      <td>misc</td>\n",
       "      <td>2.08</td>\n",
       "      <td>1.35</td>\n",
       "      <td>0.00</td>\n",
       "      <td>0.54</td>\n",
       "      <td>61.00</td>\n",
       "      <td>tbd</td>\n",
       "      <td>E10+</td>\n",
       "      <td>3.97</td>\n",
       "    </tr>\n",
       "    <tr>\n",
       "      <td>520</td>\n",
       "      <td>Zumba Fitness 2</td>\n",
       "      <td>wii</td>\n",
       "      <td>2011</td>\n",
       "      <td>sports</td>\n",
       "      <td>1.51</td>\n",
       "      <td>1.03</td>\n",
       "      <td>0.00</td>\n",
       "      <td>0.27</td>\n",
       "      <td>nan</td>\n",
       "      <td>tbd</td>\n",
       "      <td>T</td>\n",
       "      <td>2.81</td>\n",
       "    </tr>\n",
       "    <tr>\n",
       "      <td>645</td>\n",
       "      <td>uDraw Studio</td>\n",
       "      <td>wii</td>\n",
       "      <td>2010</td>\n",
       "      <td>misc</td>\n",
       "      <td>1.65</td>\n",
       "      <td>0.57</td>\n",
       "      <td>0.00</td>\n",
       "      <td>0.20</td>\n",
       "      <td>71.00</td>\n",
       "      <td>tbd</td>\n",
       "      <td>E</td>\n",
       "      <td>2.42</td>\n",
       "    </tr>\n",
       "    <tr>\n",
       "      <td>657</td>\n",
       "      <td>Frogger's Adventures: Temple of the Frog</td>\n",
       "      <td>gba</td>\n",
       "      <td>2049</td>\n",
       "      <td>adventure</td>\n",
       "      <td>2.15</td>\n",
       "      <td>0.18</td>\n",
       "      <td>0.00</td>\n",
       "      <td>0.07</td>\n",
       "      <td>73.00</td>\n",
       "      <td>tbd</td>\n",
       "      <td>E</td>\n",
       "      <td>2.40</td>\n",
       "    </tr>\n",
       "    <tr>\n",
       "      <td>718</td>\n",
       "      <td>Just Dance Kids</td>\n",
       "      <td>wii</td>\n",
       "      <td>2010</td>\n",
       "      <td>misc</td>\n",
       "      <td>1.52</td>\n",
       "      <td>0.54</td>\n",
       "      <td>0.00</td>\n",
       "      <td>0.18</td>\n",
       "      <td>nan</td>\n",
       "      <td>tbd</td>\n",
       "      <td>E</td>\n",
       "      <td>2.24</td>\n",
       "    </tr>\n",
       "    <tr>\n",
       "      <td>726</td>\n",
       "      <td>Dance Dance Revolution X2</td>\n",
       "      <td>ps2</td>\n",
       "      <td>2009</td>\n",
       "      <td>simulation</td>\n",
       "      <td>1.09</td>\n",
       "      <td>0.85</td>\n",
       "      <td>0.00</td>\n",
       "      <td>0.28</td>\n",
       "      <td>nan</td>\n",
       "      <td>tbd</td>\n",
       "      <td>E10+</td>\n",
       "      <td>2.22</td>\n",
       "    </tr>\n",
       "    <tr>\n",
       "      <td>821</td>\n",
       "      <td>The Incredibles</td>\n",
       "      <td>gba</td>\n",
       "      <td>2004</td>\n",
       "      <td>action</td>\n",
       "      <td>1.15</td>\n",
       "      <td>0.77</td>\n",
       "      <td>0.04</td>\n",
       "      <td>0.10</td>\n",
       "      <td>55.00</td>\n",
       "      <td>tbd</td>\n",
       "      <td>E</td>\n",
       "      <td>2.06</td>\n",
       "    </tr>\n",
       "    <tr>\n",
       "      <td>881</td>\n",
       "      <td>Who wants to be a millionaire</td>\n",
       "      <td>pc</td>\n",
       "      <td>1999</td>\n",
       "      <td>misc</td>\n",
       "      <td>1.94</td>\n",
       "      <td>0.00</td>\n",
       "      <td>0.00</td>\n",
       "      <td>0.00</td>\n",
       "      <td>nan</td>\n",
       "      <td>tbd</td>\n",
       "      <td>E</td>\n",
       "      <td>1.94</td>\n",
       "    </tr>\n",
       "    <tr>\n",
       "      <td>1047</td>\n",
       "      <td>Tetris Worlds</td>\n",
       "      <td>gba</td>\n",
       "      <td>2001</td>\n",
       "      <td>puzzle</td>\n",
       "      <td>1.25</td>\n",
       "      <td>0.39</td>\n",
       "      <td>0.00</td>\n",
       "      <td>0.06</td>\n",
       "      <td>65.00</td>\n",
       "      <td>tbd</td>\n",
       "      <td>E</td>\n",
       "      <td>1.70</td>\n",
       "    </tr>\n",
       "    <tr>\n",
       "      <td>1048</td>\n",
       "      <td>Imagine: Teacher</td>\n",
       "      <td>ds</td>\n",
       "      <td>2008</td>\n",
       "      <td>simulation</td>\n",
       "      <td>0.70</td>\n",
       "      <td>0.82</td>\n",
       "      <td>0.00</td>\n",
       "      <td>0.19</td>\n",
       "      <td>nan</td>\n",
       "      <td>tbd</td>\n",
       "      <td>E</td>\n",
       "      <td>1.71</td>\n",
       "    </tr>\n",
       "    <tr>\n",
       "      <td>1069</td>\n",
       "      <td>Personal Trainer: Math</td>\n",
       "      <td>ds</td>\n",
       "      <td>2007</td>\n",
       "      <td>puzzle</td>\n",
       "      <td>0.48</td>\n",
       "      <td>1.12</td>\n",
       "      <td>0.00</td>\n",
       "      <td>0.08</td>\n",
       "      <td>63.00</td>\n",
       "      <td>tbd</td>\n",
       "      <td>E</td>\n",
       "      <td>1.68</td>\n",
       "    </tr>\n",
       "    <tr>\n",
       "      <td>1070</td>\n",
       "      <td>Game Party 3</td>\n",
       "      <td>wii</td>\n",
       "      <td>2009</td>\n",
       "      <td>puzzle</td>\n",
       "      <td>1.40</td>\n",
       "      <td>0.16</td>\n",
       "      <td>0.00</td>\n",
       "      <td>0.12</td>\n",
       "      <td>37.00</td>\n",
       "      <td>tbd</td>\n",
       "      <td>E</td>\n",
       "      <td>1.68</td>\n",
       "    </tr>\n",
       "    <tr>\n",
       "      <td>1089</td>\n",
       "      <td>Monsters, Inc.</td>\n",
       "      <td>gba</td>\n",
       "      <td>2001</td>\n",
       "      <td>adventure</td>\n",
       "      <td>0.59</td>\n",
       "      <td>0.95</td>\n",
       "      <td>0.03</td>\n",
       "      <td>0.10</td>\n",
       "      <td>nan</td>\n",
       "      <td>tbd</td>\n",
       "      <td>E</td>\n",
       "      <td>1.67</td>\n",
       "    </tr>\n",
       "    <tr>\n",
       "      <td>1151</td>\n",
       "      <td>SpongeBob's Atlantis SquarePantis</td>\n",
       "      <td>ds</td>\n",
       "      <td>2007</td>\n",
       "      <td>action</td>\n",
       "      <td>1.49</td>\n",
       "      <td>0.00</td>\n",
       "      <td>0.00</td>\n",
       "      <td>0.11</td>\n",
       "      <td>64.00</td>\n",
       "      <td>tbd</td>\n",
       "      <td>E</td>\n",
       "      <td>1.60</td>\n",
       "    </tr>\n",
       "  </tbody>\n",
       "</table>\n",
       "</div>"
      ],
      "text/plain": [
       "                                     game_name platform  year_of_release  \\\n",
       "119                              Zumba Fitness      wii             2010   \n",
       "301             Namco Museum: 50th Anniversary      ps2             2005   \n",
       "520                            Zumba Fitness 2      wii             2011   \n",
       "645                               uDraw Studio      wii             2010   \n",
       "657   Frogger's Adventures: Temple of the Frog      gba             2049   \n",
       "718                            Just Dance Kids      wii             2010   \n",
       "726                  Dance Dance Revolution X2      ps2             2009   \n",
       "821                            The Incredibles      gba             2004   \n",
       "881              Who wants to be a millionaire       pc             1999   \n",
       "1047                             Tetris Worlds      gba             2001   \n",
       "1048                          Imagine: Teacher       ds             2008   \n",
       "1069                    Personal Trainer: Math       ds             2007   \n",
       "1070                              Game Party 3      wii             2009   \n",
       "1089                            Monsters, Inc.      gba             2001   \n",
       "1151         SpongeBob's Atlantis SquarePantis       ds             2007   \n",
       "\n",
       "      game_genre  na_sales  eu_sales  jp_sales  other_sales  critic_score  \\\n",
       "119       sports      3.45      2.59      0.00         0.66           nan   \n",
       "301         misc      2.08      1.35      0.00         0.54         61.00   \n",
       "520       sports      1.51      1.03      0.00         0.27           nan   \n",
       "645         misc      1.65      0.57      0.00         0.20         71.00   \n",
       "657    adventure      2.15      0.18      0.00         0.07         73.00   \n",
       "718         misc      1.52      0.54      0.00         0.18           nan   \n",
       "726   simulation      1.09      0.85      0.00         0.28           nan   \n",
       "821       action      1.15      0.77      0.04         0.10         55.00   \n",
       "881         misc      1.94      0.00      0.00         0.00           nan   \n",
       "1047      puzzle      1.25      0.39      0.00         0.06         65.00   \n",
       "1048  simulation      0.70      0.82      0.00         0.19           nan   \n",
       "1069      puzzle      0.48      1.12      0.00         0.08         63.00   \n",
       "1070      puzzle      1.40      0.16      0.00         0.12         37.00   \n",
       "1089   adventure      0.59      0.95      0.03         0.10           nan   \n",
       "1151      action      1.49      0.00      0.00         0.11         64.00   \n",
       "\n",
       "     user_score esrb_rating  total_sales  \n",
       "119         tbd           E         6.70  \n",
       "301         tbd        E10+         3.97  \n",
       "520         tbd           T         2.81  \n",
       "645         tbd           E         2.42  \n",
       "657         tbd           E         2.40  \n",
       "718         tbd           E         2.24  \n",
       "726         tbd        E10+         2.22  \n",
       "821         tbd           E         2.06  \n",
       "881         tbd           E         1.94  \n",
       "1047        tbd           E         1.70  \n",
       "1048        tbd           E         1.71  \n",
       "1069        tbd           E         1.68  \n",
       "1070        tbd           E         1.68  \n",
       "1089        tbd           E         1.67  \n",
       "1151        tbd           E         1.60  "
      ]
     },
     "execution_count": 35,
     "metadata": {},
     "output_type": "execute_result"
    }
   ],
   "source": [
    "games[games['user_score'] == 'tbd'].head(15)"
   ]
  },
  {
   "cell_type": "markdown",
   "metadata": {},
   "source": [
    "Данные относятся к разным годам, поэтому вариант, что это данные по относительно свежим играм, не подходит; видимо это связано с ошибкой при выгрузке или формировании файла данных. Поэтому как говорилось ранее, будем интерпретировать такие значения как пропуски. "
   ]
  },
  {
   "cell_type": "code",
   "execution_count": 36,
   "metadata": {},
   "outputs": [],
   "source": [
    "games.loc[games['user_score'] == 'tbd','user_score'] = np.nan"
   ]
  },
  {
   "cell_type": "code",
   "execution_count": 37,
   "metadata": {},
   "outputs": [],
   "source": [
    "games['user_score'] = games['user_score'].astype('float')"
   ]
  },
  {
   "cell_type": "code",
   "execution_count": 38,
   "metadata": {},
   "outputs": [
    {
     "name": "stdout",
     "output_type": "stream",
     "text": [
      "<class 'pandas.core.frame.DataFrame'>\n",
      "RangeIndex: 16715 entries, 0 to 16714\n",
      "Data columns (total 12 columns):\n",
      "game_name          16715 non-null object\n",
      "platform           16715 non-null object\n",
      "year_of_release    16715 non-null int64\n",
      "game_genre         16715 non-null object\n",
      "na_sales           16715 non-null float64\n",
      "eu_sales           16715 non-null float64\n",
      "jp_sales           16715 non-null float64\n",
      "other_sales        16715 non-null float64\n",
      "critic_score       8137 non-null float64\n",
      "user_score         7590 non-null float64\n",
      "esrb_rating        9949 non-null object\n",
      "total_sales        16715 non-null float64\n",
      "dtypes: float64(7), int64(1), object(4)\n",
      "memory usage: 1.5+ MB\n"
     ]
    }
   ],
   "source": [
    "games.info()"
   ]
  },
  {
   "cell_type": "markdown",
   "metadata": {},
   "source": [
    "<div class=\"alert alert-success\">\n",
    "<b>✔️</b> \n",
    "<br> \n",
    "\n",
    "Абсолютно точно! Мы не можем заполнить данные значения или удалить, только оставить в качестве пропущенных данных👍\n",
    "</div>"
   ]
  },
  {
   "cell_type": "code",
   "execution_count": 39,
   "metadata": {
    "scrolled": true
   },
   "outputs": [
    {
     "data": {
      "text/html": [
       "<div>\n",
       "<style scoped>\n",
       "    .dataframe tbody tr th:only-of-type {\n",
       "        vertical-align: middle;\n",
       "    }\n",
       "\n",
       "    .dataframe tbody tr th {\n",
       "        vertical-align: top;\n",
       "    }\n",
       "\n",
       "    .dataframe thead th {\n",
       "        text-align: right;\n",
       "    }\n",
       "</style>\n",
       "<table border=\"1\" class=\"dataframe\">\n",
       "  <thead>\n",
       "    <tr style=\"text-align: right;\">\n",
       "      <th></th>\n",
       "      <th>user_score</th>\n",
       "      <th>critic_score</th>\n",
       "    </tr>\n",
       "  </thead>\n",
       "  <tbody>\n",
       "    <tr>\n",
       "      <td>count</td>\n",
       "      <td>7,590.00</td>\n",
       "      <td>8,137.00</td>\n",
       "    </tr>\n",
       "    <tr>\n",
       "      <td>mean</td>\n",
       "      <td>7.13</td>\n",
       "      <td>68.97</td>\n",
       "    </tr>\n",
       "    <tr>\n",
       "      <td>std</td>\n",
       "      <td>1.50</td>\n",
       "      <td>13.94</td>\n",
       "    </tr>\n",
       "    <tr>\n",
       "      <td>min</td>\n",
       "      <td>0.00</td>\n",
       "      <td>13.00</td>\n",
       "    </tr>\n",
       "    <tr>\n",
       "      <td>25%</td>\n",
       "      <td>6.40</td>\n",
       "      <td>60.00</td>\n",
       "    </tr>\n",
       "    <tr>\n",
       "      <td>50%</td>\n",
       "      <td>7.50</td>\n",
       "      <td>71.00</td>\n",
       "    </tr>\n",
       "    <tr>\n",
       "      <td>75%</td>\n",
       "      <td>8.20</td>\n",
       "      <td>79.00</td>\n",
       "    </tr>\n",
       "    <tr>\n",
       "      <td>max</td>\n",
       "      <td>9.70</td>\n",
       "      <td>98.00</td>\n",
       "    </tr>\n",
       "  </tbody>\n",
       "</table>\n",
       "</div>"
      ],
      "text/plain": [
       "       user_score  critic_score\n",
       "count    7,590.00      8,137.00\n",
       "mean         7.13         68.97\n",
       "std          1.50         13.94\n",
       "min          0.00         13.00\n",
       "25%          6.40         60.00\n",
       "50%          7.50         71.00\n",
       "75%          8.20         79.00\n",
       "max          9.70         98.00"
      ]
     },
     "execution_count": 39,
     "metadata": {},
     "output_type": "execute_result"
    }
   ],
   "source": [
    "games[['user_score', 'critic_score']].describe()"
   ]
  },
  {
   "cell_type": "code",
   "execution_count": 40,
   "metadata": {},
   "outputs": [
    {
     "data": {
      "text/plain": [
       "54.59168411606342"
      ]
     },
     "execution_count": 40,
     "metadata": {},
     "output_type": "execute_result"
    },
    {
     "data": {
      "text/plain": [
       "51.31917439425665"
      ]
     },
     "execution_count": 40,
     "metadata": {},
     "output_type": "execute_result"
    }
   ],
   "source": [
    "games['user_score'].isna().mean()*100\n",
    "games['critic_score'].isna().mean()*100"
   ]
  },
  {
   "cell_type": "markdown",
   "metadata": {},
   "source": [
    "Больше половины данных имеют пропуски в оценках критиков и пользователей."
   ]
  },
  {
   "cell_type": "markdown",
   "metadata": {},
   "source": [
    "**Вывод**"
   ]
  },
  {
   "cell_type": "markdown",
   "metadata": {},
   "source": [
    "Проведен анализ столбцов с оценками пользователей и критиков. Произведена обработка значения tbd в столбце с оценками пользователей и изменен тип данных."
   ]
  },
  {
   "cell_type": "markdown",
   "metadata": {},
   "source": [
    "<div class=\"alert alert-success\">\n",
    "<b>✔️</b> \n",
    "<br> \n",
    "Верно, не стоит заполнять эти данные, т.к. это может привести к искажению результатов анализа\n",
    "</div>"
   ]
  },
  {
   "cell_type": "markdown",
   "metadata": {},
   "source": [
    "#### esrb_rating"
   ]
  },
  {
   "cell_type": "markdown",
   "metadata": {},
   "source": [
    "Оценим значения в данном столбце."
   ]
  },
  {
   "cell_type": "code",
   "execution_count": 41,
   "metadata": {},
   "outputs": [
    {
     "data": {
      "text/plain": [
       "array(['E', nan, 'M', 'T', 'E10+', 'K-A', 'AO', 'EC', 'RP'], dtype=object)"
      ]
     },
     "execution_count": 41,
     "metadata": {},
     "output_type": "execute_result"
    }
   ],
   "source": [
    "games['esrb_rating'].unique()"
   ]
  },
  {
   "cell_type": "code",
   "execution_count": 42,
   "metadata": {},
   "outputs": [
    {
     "data": {
      "text/html": [
       "<div>\n",
       "<style scoped>\n",
       "    .dataframe tbody tr th:only-of-type {\n",
       "        vertical-align: middle;\n",
       "    }\n",
       "\n",
       "    .dataframe tbody tr th {\n",
       "        vertical-align: top;\n",
       "    }\n",
       "\n",
       "    .dataframe thead th {\n",
       "        text-align: right;\n",
       "    }\n",
       "</style>\n",
       "<table border=\"1\" class=\"dataframe\">\n",
       "  <thead>\n",
       "    <tr style=\"text-align: right;\">\n",
       "      <th></th>\n",
       "      <th>game_name</th>\n",
       "      <th>platform</th>\n",
       "      <th>year_of_release</th>\n",
       "      <th>game_genre</th>\n",
       "      <th>na_sales</th>\n",
       "      <th>eu_sales</th>\n",
       "      <th>jp_sales</th>\n",
       "      <th>other_sales</th>\n",
       "      <th>critic_score</th>\n",
       "      <th>user_score</th>\n",
       "      <th>esrb_rating</th>\n",
       "      <th>total_sales</th>\n",
       "    </tr>\n",
       "  </thead>\n",
       "  <tbody>\n",
       "    <tr>\n",
       "      <td>1</td>\n",
       "      <td>Super Mario Bros.</td>\n",
       "      <td>nes</td>\n",
       "      <td>1985</td>\n",
       "      <td>platform</td>\n",
       "      <td>29.08</td>\n",
       "      <td>3.58</td>\n",
       "      <td>6.81</td>\n",
       "      <td>0.77</td>\n",
       "      <td>nan</td>\n",
       "      <td>nan</td>\n",
       "      <td>NaN</td>\n",
       "      <td>40.24</td>\n",
       "    </tr>\n",
       "    <tr>\n",
       "      <td>4</td>\n",
       "      <td>Pokemon Red/Pokemon Blue</td>\n",
       "      <td>gb</td>\n",
       "      <td>1996</td>\n",
       "      <td>role_playing</td>\n",
       "      <td>11.27</td>\n",
       "      <td>8.89</td>\n",
       "      <td>10.22</td>\n",
       "      <td>1.00</td>\n",
       "      <td>nan</td>\n",
       "      <td>nan</td>\n",
       "      <td>NaN</td>\n",
       "      <td>31.38</td>\n",
       "    </tr>\n",
       "    <tr>\n",
       "      <td>5</td>\n",
       "      <td>Tetris</td>\n",
       "      <td>gb</td>\n",
       "      <td>1989</td>\n",
       "      <td>puzzle</td>\n",
       "      <td>23.20</td>\n",
       "      <td>2.26</td>\n",
       "      <td>4.22</td>\n",
       "      <td>0.58</td>\n",
       "      <td>nan</td>\n",
       "      <td>nan</td>\n",
       "      <td>NaN</td>\n",
       "      <td>30.26</td>\n",
       "    </tr>\n",
       "    <tr>\n",
       "      <td>9</td>\n",
       "      <td>Duck Hunt</td>\n",
       "      <td>nes</td>\n",
       "      <td>1984</td>\n",
       "      <td>shooter</td>\n",
       "      <td>26.93</td>\n",
       "      <td>0.63</td>\n",
       "      <td>0.28</td>\n",
       "      <td>0.47</td>\n",
       "      <td>nan</td>\n",
       "      <td>nan</td>\n",
       "      <td>NaN</td>\n",
       "      <td>28.31</td>\n",
       "    </tr>\n",
       "    <tr>\n",
       "      <td>10</td>\n",
       "      <td>Nintendogs</td>\n",
       "      <td>ds</td>\n",
       "      <td>2005</td>\n",
       "      <td>simulation</td>\n",
       "      <td>9.05</td>\n",
       "      <td>10.95</td>\n",
       "      <td>1.93</td>\n",
       "      <td>2.74</td>\n",
       "      <td>nan</td>\n",
       "      <td>nan</td>\n",
       "      <td>NaN</td>\n",
       "      <td>24.67</td>\n",
       "    </tr>\n",
       "  </tbody>\n",
       "</table>\n",
       "</div>"
      ],
      "text/plain": [
       "                   game_name platform  year_of_release    game_genre  \\\n",
       "1          Super Mario Bros.      nes             1985      platform   \n",
       "4   Pokemon Red/Pokemon Blue       gb             1996  role_playing   \n",
       "5                     Tetris       gb             1989        puzzle   \n",
       "9                  Duck Hunt      nes             1984       shooter   \n",
       "10                Nintendogs       ds             2005    simulation   \n",
       "\n",
       "    na_sales  eu_sales  jp_sales  other_sales  critic_score  user_score  \\\n",
       "1      29.08      3.58      6.81         0.77           nan         nan   \n",
       "4      11.27      8.89     10.22         1.00           nan         nan   \n",
       "5      23.20      2.26      4.22         0.58           nan         nan   \n",
       "9      26.93      0.63      0.28         0.47           nan         nan   \n",
       "10      9.05     10.95      1.93         2.74           nan         nan   \n",
       "\n",
       "   esrb_rating  total_sales  \n",
       "1          NaN        40.24  \n",
       "4          NaN        31.38  \n",
       "5          NaN        30.26  \n",
       "9          NaN        28.31  \n",
       "10         NaN        24.67  "
      ]
     },
     "execution_count": 42,
     "metadata": {},
     "output_type": "execute_result"
    }
   ],
   "source": [
    "games[games['esrb_rating'].isna()].head()"
   ]
  },
  {
   "cell_type": "markdown",
   "metadata": {},
   "source": [
    "Есть пропуски в данных. Поступим с ними также, как и с пропусками в названиях и жанрах, заменим пропуски на **no_esrb_rating**. И заодно приведем столбец к snake_case "
   ]
  },
  {
   "cell_type": "code",
   "execution_count": 43,
   "metadata": {},
   "outputs": [],
   "source": [
    "games['esrb_rating'] = games['esrb_rating'].fillna('no_esrb_rating')\n",
    "games['esrb_rating'] = games['esrb_rating'].str.lower()\n",
    "games.loc[games['esrb_rating'] == 'k-a', 'esrb_rating'] = 'k_a'"
   ]
  },
  {
   "cell_type": "code",
   "execution_count": 44,
   "metadata": {},
   "outputs": [
    {
     "name": "stdout",
     "output_type": "stream",
     "text": [
      "<class 'pandas.core.frame.DataFrame'>\n",
      "RangeIndex: 16715 entries, 0 to 16714\n",
      "Data columns (total 12 columns):\n",
      "game_name          16715 non-null object\n",
      "platform           16715 non-null object\n",
      "year_of_release    16715 non-null int64\n",
      "game_genre         16715 non-null object\n",
      "na_sales           16715 non-null float64\n",
      "eu_sales           16715 non-null float64\n",
      "jp_sales           16715 non-null float64\n",
      "other_sales        16715 non-null float64\n",
      "critic_score       8137 non-null float64\n",
      "user_score         7590 non-null float64\n",
      "esrb_rating        16715 non-null object\n",
      "total_sales        16715 non-null float64\n",
      "dtypes: float64(7), int64(1), object(4)\n",
      "memory usage: 1.5+ MB\n"
     ]
    }
   ],
   "source": [
    "games.info()"
   ]
  },
  {
   "cell_type": "code",
   "execution_count": 45,
   "metadata": {},
   "outputs": [
    {
     "data": {
      "text/html": [
       "<div>\n",
       "<style scoped>\n",
       "    .dataframe tbody tr th:only-of-type {\n",
       "        vertical-align: middle;\n",
       "    }\n",
       "\n",
       "    .dataframe tbody tr th {\n",
       "        vertical-align: top;\n",
       "    }\n",
       "\n",
       "    .dataframe thead th {\n",
       "        text-align: right;\n",
       "    }\n",
       "</style>\n",
       "<table border=\"1\" class=\"dataframe\">\n",
       "  <thead>\n",
       "    <tr style=\"text-align: right;\">\n",
       "      <th></th>\n",
       "      <th>game_name</th>\n",
       "      <th>platform</th>\n",
       "      <th>year_of_release</th>\n",
       "      <th>game_genre</th>\n",
       "      <th>na_sales</th>\n",
       "      <th>eu_sales</th>\n",
       "      <th>jp_sales</th>\n",
       "      <th>other_sales</th>\n",
       "      <th>critic_score</th>\n",
       "      <th>user_score</th>\n",
       "      <th>esrb_rating</th>\n",
       "      <th>total_sales</th>\n",
       "    </tr>\n",
       "  </thead>\n",
       "  <tbody>\n",
       "    <tr>\n",
       "      <td>7505</td>\n",
       "      <td>Assassin's Creed The Ezio Collection</td>\n",
       "      <td>ps4</td>\n",
       "      <td>2016</td>\n",
       "      <td>action</td>\n",
       "      <td>0.04</td>\n",
       "      <td>0.13</td>\n",
       "      <td>0.00</td>\n",
       "      <td>0.03</td>\n",
       "      <td>72.00</td>\n",
       "      <td>7.40</td>\n",
       "      <td>m</td>\n",
       "      <td>0.20</td>\n",
       "    </tr>\n",
       "    <tr>\n",
       "      <td>7239</td>\n",
       "      <td>NBA Live 09 All-Play</td>\n",
       "      <td>wii</td>\n",
       "      <td>2008</td>\n",
       "      <td>sports</td>\n",
       "      <td>0.19</td>\n",
       "      <td>0.01</td>\n",
       "      <td>0.00</td>\n",
       "      <td>0.02</td>\n",
       "      <td>51.00</td>\n",
       "      <td>5.90</td>\n",
       "      <td>e</td>\n",
       "      <td>0.22</td>\n",
       "    </tr>\n",
       "    <tr>\n",
       "      <td>5147</td>\n",
       "      <td>Mini Ninjas</td>\n",
       "      <td>wii</td>\n",
       "      <td>2009</td>\n",
       "      <td>action</td>\n",
       "      <td>0.16</td>\n",
       "      <td>0.16</td>\n",
       "      <td>0.00</td>\n",
       "      <td>0.04</td>\n",
       "      <td>79.00</td>\n",
       "      <td>8.30</td>\n",
       "      <td>e10+</td>\n",
       "      <td>0.36</td>\n",
       "    </tr>\n",
       "    <tr>\n",
       "      <td>16480</td>\n",
       "      <td>Nova Usagi no Game de Ryuugaku!? DS</td>\n",
       "      <td>ds</td>\n",
       "      <td>2007</td>\n",
       "      <td>misc</td>\n",
       "      <td>0.00</td>\n",
       "      <td>0.00</td>\n",
       "      <td>0.01</td>\n",
       "      <td>0.00</td>\n",
       "      <td>nan</td>\n",
       "      <td>nan</td>\n",
       "      <td>no_esrb_rating</td>\n",
       "      <td>0.01</td>\n",
       "    </tr>\n",
       "    <tr>\n",
       "      <td>4111</td>\n",
       "      <td>Theme Park Roller Coaster</td>\n",
       "      <td>ps2</td>\n",
       "      <td>2000</td>\n",
       "      <td>strategy</td>\n",
       "      <td>0.23</td>\n",
       "      <td>0.18</td>\n",
       "      <td>0.00</td>\n",
       "      <td>0.06</td>\n",
       "      <td>82.00</td>\n",
       "      <td>7.90</td>\n",
       "      <td>e</td>\n",
       "      <td>0.47</td>\n",
       "    </tr>\n",
       "    <tr>\n",
       "      <td>5880</td>\n",
       "      <td>PowerUp Heroes</td>\n",
       "      <td>x360</td>\n",
       "      <td>2011</td>\n",
       "      <td>fighting</td>\n",
       "      <td>0.18</td>\n",
       "      <td>0.09</td>\n",
       "      <td>0.00</td>\n",
       "      <td>0.03</td>\n",
       "      <td>61.00</td>\n",
       "      <td>7.50</td>\n",
       "      <td>e10+</td>\n",
       "      <td>0.30</td>\n",
       "    </tr>\n",
       "    <tr>\n",
       "      <td>9445</td>\n",
       "      <td>Slime MoriMori Dragon Quest 3: Taikaizoku to S...</td>\n",
       "      <td>3ds</td>\n",
       "      <td>2011</td>\n",
       "      <td>role_playing</td>\n",
       "      <td>0.00</td>\n",
       "      <td>0.00</td>\n",
       "      <td>0.13</td>\n",
       "      <td>0.00</td>\n",
       "      <td>nan</td>\n",
       "      <td>nan</td>\n",
       "      <td>no_esrb_rating</td>\n",
       "      <td>0.13</td>\n",
       "    </tr>\n",
       "    <tr>\n",
       "      <td>9209</td>\n",
       "      <td>Age of Empires: Collector's Edition</td>\n",
       "      <td>pc</td>\n",
       "      <td>2000</td>\n",
       "      <td>strategy</td>\n",
       "      <td>0.02</td>\n",
       "      <td>0.10</td>\n",
       "      <td>0.00</td>\n",
       "      <td>0.02</td>\n",
       "      <td>nan</td>\n",
       "      <td>8.00</td>\n",
       "      <td>t</td>\n",
       "      <td>0.14</td>\n",
       "    </tr>\n",
       "    <tr>\n",
       "      <td>6832</td>\n",
       "      <td>Dragon Ball Z: Sagas</td>\n",
       "      <td>xb</td>\n",
       "      <td>2005</td>\n",
       "      <td>fighting</td>\n",
       "      <td>0.18</td>\n",
       "      <td>0.05</td>\n",
       "      <td>0.00</td>\n",
       "      <td>0.01</td>\n",
       "      <td>51.00</td>\n",
       "      <td>6.10</td>\n",
       "      <td>t</td>\n",
       "      <td>0.24</td>\n",
       "    </tr>\n",
       "    <tr>\n",
       "      <td>12400</td>\n",
       "      <td>TrackMania Turbo</td>\n",
       "      <td>xone</td>\n",
       "      <td>2016</td>\n",
       "      <td>action</td>\n",
       "      <td>0.02</td>\n",
       "      <td>0.04</td>\n",
       "      <td>0.00</td>\n",
       "      <td>0.00</td>\n",
       "      <td>76.00</td>\n",
       "      <td>7.70</td>\n",
       "      <td>e</td>\n",
       "      <td>0.06</td>\n",
       "    </tr>\n",
       "  </tbody>\n",
       "</table>\n",
       "</div>"
      ],
      "text/plain": [
       "                                               game_name platform  \\\n",
       "7505                Assassin's Creed The Ezio Collection      ps4   \n",
       "7239                                NBA Live 09 All-Play      wii   \n",
       "5147                                         Mini Ninjas      wii   \n",
       "16480                Nova Usagi no Game de Ryuugaku!? DS       ds   \n",
       "4111                           Theme Park Roller Coaster      ps2   \n",
       "5880                                      PowerUp Heroes     x360   \n",
       "9445   Slime MoriMori Dragon Quest 3: Taikaizoku to S...      3ds   \n",
       "9209                 Age of Empires: Collector's Edition       pc   \n",
       "6832                                Dragon Ball Z: Sagas       xb   \n",
       "12400                                   TrackMania Turbo     xone   \n",
       "\n",
       "       year_of_release    game_genre  na_sales  eu_sales  jp_sales  \\\n",
       "7505              2016        action      0.04      0.13      0.00   \n",
       "7239              2008        sports      0.19      0.01      0.00   \n",
       "5147              2009        action      0.16      0.16      0.00   \n",
       "16480             2007          misc      0.00      0.00      0.01   \n",
       "4111              2000      strategy      0.23      0.18      0.00   \n",
       "5880              2011      fighting      0.18      0.09      0.00   \n",
       "9445              2011  role_playing      0.00      0.00      0.13   \n",
       "9209              2000      strategy      0.02      0.10      0.00   \n",
       "6832              2005      fighting      0.18      0.05      0.00   \n",
       "12400             2016        action      0.02      0.04      0.00   \n",
       "\n",
       "       other_sales  critic_score  user_score     esrb_rating  total_sales  \n",
       "7505          0.03         72.00        7.40               m         0.20  \n",
       "7239          0.02         51.00        5.90               e         0.22  \n",
       "5147          0.04         79.00        8.30            e10+         0.36  \n",
       "16480         0.00           nan         nan  no_esrb_rating         0.01  \n",
       "4111          0.06         82.00        7.90               e         0.47  \n",
       "5880          0.03         61.00        7.50            e10+         0.30  \n",
       "9445          0.00           nan         nan  no_esrb_rating         0.13  \n",
       "9209          0.02           nan        8.00               t         0.14  \n",
       "6832          0.01         51.00        6.10               t         0.24  \n",
       "12400         0.00         76.00        7.70               e         0.06  "
      ]
     },
     "execution_count": 45,
     "metadata": {},
     "output_type": "execute_result"
    }
   ],
   "source": [
    "games.sample(10)"
   ]
  },
  {
   "cell_type": "markdown",
   "metadata": {},
   "source": [
    "**Вывод**"
   ]
  },
  {
   "cell_type": "markdown",
   "metadata": {},
   "source": [
    "Произвели заполнение пропусков в данных о рейтинге игр. "
   ]
  },
  {
   "cell_type": "markdown",
   "metadata": {},
   "source": [
    "**Вывод предобработки**"
   ]
  },
  {
   "cell_type": "markdown",
   "metadata": {},
   "source": [
    "По результатам предобработки данных были выполнены замены типов данных, заполнение пропусков там, где это было возможно и не нарушало целостность данных, данные в столбцах (кроме названия игр) и заголовки столбцов приведены к snake_case."
   ]
  },
  {
   "cell_type": "markdown",
   "metadata": {},
   "source": [
    "<div class=\"alert alert-success\">\n",
    "<b>✔️</b> \n",
    "<br> \n",
    "\n",
    "Этап предобработки произведен верно, без критичных ошибок. Каждое заполнение объяснено и подкреплено обоснованием 👍\n",
    "\n",
    "</div>"
   ]
  },
  {
   "cell_type": "markdown",
   "metadata": {},
   "source": [
    "## Исследовательский анализ данных"
   ]
  },
  {
   "cell_type": "markdown",
   "metadata": {},
   "source": [
    "В исследовательском анализе данных нужно дать ответы на следующие вопросы:\n",
    "\n",
    "- Посмотрите, сколько игр выпускалось в разные годы. Важны ли данные за все периоды?\n",
    "- Посмотрите, как менялись продажи по платформам. Выберите платформы с наибольшими суммарными продажами и постройте распределение по годам. За какой характерный срок появляются новые и исчезают старые платформы?\n",
    "- Возьмите данные за соответствующий актуальный период. Актуальный период определите самостоятельно в результате исследования предыдущих вопросов. Основной фактор — эти данные помогут построить прогноз на 2017 год.\n",
    "- Не учитывайте в работе данные за предыдущие годы.\n",
    "- Какие платформы лидируют по продажам, растут или падают? Выберите несколько потенциально прибыльных платформ.\n",
    "- Постройте график «ящик с усами» по глобальным продажам игр в разбивке по платформам. Опишите результат.\n",
    "- Посмотрите, как влияют на продажи внутри одной популярной платформы отзывы пользователей и критиков. Постройте диаграмму рассеяния и посчитайте корреляцию между отзывами и продажами. Сформулируйте выводы.\n",
    "- Соотнесите выводы с продажами игр на других платформах.\n",
    "- Посмотрите на общее распределение игр по жанрам. Что можно сказать о самых прибыльных жанрах? Выделяются ли жанры с высокими и низкими продажами?"
   ]
  },
  {
   "cell_type": "markdown",
   "metadata": {},
   "source": [
    "### Анализ выхода игр по годам"
   ]
  },
  {
   "cell_type": "markdown",
   "metadata": {},
   "source": [
    "**- Посмотрите, сколько игр выпускалось в разные годы. Важны ли данные за все периоды?**"
   ]
  },
  {
   "cell_type": "markdown",
   "metadata": {},
   "source": [
    "Построим гистограмму распределения выхода игр по годам, помня, что значения 2049 соответствуют пропускам и отфильтруем их, чтобы они не попали в распределение."
   ]
  },
  {
   "cell_type": "code",
   "execution_count": 46,
   "metadata": {
    "scrolled": true
   },
   "outputs": [
    {
     "data": {
      "image/png": "[encoded data removed]",
      "text/plain": [
       "<Figure size 432x288 with 1 Axes>"
      ]
     },
     "metadata": {
      "needs_background": "light"
     },
     "output_type": "display_data"
    }
   ],
   "source": [
    "games[games['year_of_release'] != 2049].pivot_table(index = 'year_of_release', \n",
    "                                                    values = 'game_name', \n",
    "                                                    aggfunc = 'count').plot(legend = False, grid = True, kind = 'bar')\n",
    "plt.title('Распределение по годам выхода', fontdict=font)\n",
    "plt.xlabel('Год выхода', fontdict=font)\n",
    "plt.ylabel('Количество игр', fontdict=font);"
   ]
  },
  {
   "cell_type": "markdown",
   "metadata": {},
   "source": [
    "График выхода игр можно разделить на несколько периодов:\n",
    "\n",
    "- Период с 1980 по 1995 года - появление первых игр и игровых консолей;\n",
    "- Период с 1995 по 2008 - стабильный рост, сопровождающийся всплесками в районе 2002, 2007 годов, популяризация игр, увеличение аудитории Playstation и Xbox, выход в 2006-2007 году супер-популярных Xbox 360 и Playstation 3, становление PC как игровой платформы, рост вычислительных мощностей приводит и к стремительному росту количества выходящих игр.\n",
    "- Период с 2008 по 20013 - мировой финансовый кризис и его последствия, ударивший и по индустрии видеоигр.\n",
    "- Период с 2013 по 2016 - новый всплекс вызван выходом нового поколения игровых консолей - Xbox One и Playstation 4.\n",
    "\n",
    "Для прогноза продаж на 2017 год, наибольшее значение имеет период с 2013 по 2016, поскольку в этот период сменилось поколение консолей, произошел прорыв в компьютерном железе для PC (выход 9ой серии видеокарт Nvidia)."
   ]
  },
  {
   "cell_type": "markdown",
   "metadata": {},
   "source": [
    "<div class=\"alert alert-success\">\n",
    "<b>✔️</b> \n",
    "<br> \n",
    "\n",
    "Хорошо, что ты подтвердил фактом период с 2013 по 2016, согласна с твоим выводом, очень подробный!\n",
    "\n",
    "</div>"
   ]
  },
  {
   "cell_type": "markdown",
   "metadata": {},
   "source": [
    "### Анализ продаж по платформам"
   ]
  },
  {
   "cell_type": "markdown",
   "metadata": {},
   "source": [
    "**- Посмотрите, как менялись продажи по платформам. Выберите платформы с наибольшими суммарными продажами и постройте распределение по годам. За какой характерный срок появляются новые и исчезают старые платформы?**"
   ]
  },
  {
   "cell_type": "markdown",
   "metadata": {},
   "source": [
    "Построим график продаж, сгруппированный по платформе выхода игры, чтобы выделить самую популярную платформу."
   ]
  },
  {
   "cell_type": "markdown",
   "metadata": {},
   "source": [
    "Соберем данные через **pivot_table**, где индексация будет по платформе, а значениями будут сумма продаж по каждой платформе. Отсортируем таблицу от самой успешной к наименее успешной платформе, построим график и выделим по нему топ-10 платформ."
   ]
  },
  {
   "cell_type": "code",
   "execution_count": 47,
   "metadata": {},
   "outputs": [
    {
     "data": {
      "text/html": [
       "<div>\n",
       "<style scoped>\n",
       "    .dataframe tbody tr th:only-of-type {\n",
       "        vertical-align: middle;\n",
       "    }\n",
       "\n",
       "    .dataframe tbody tr th {\n",
       "        vertical-align: top;\n",
       "    }\n",
       "\n",
       "    .dataframe thead th {\n",
       "        text-align: right;\n",
       "    }\n",
       "</style>\n",
       "<table border=\"1\" class=\"dataframe\">\n",
       "  <thead>\n",
       "    <tr style=\"text-align: right;\">\n",
       "      <th></th>\n",
       "      <th>platform</th>\n",
       "      <th>total_sales</th>\n",
       "    </tr>\n",
       "  </thead>\n",
       "  <tbody>\n",
       "    <tr>\n",
       "      <td>0</td>\n",
       "      <td>ps2</td>\n",
       "      <td>1,255.77</td>\n",
       "    </tr>\n",
       "    <tr>\n",
       "      <td>1</td>\n",
       "      <td>x360</td>\n",
       "      <td>971.42</td>\n",
       "    </tr>\n",
       "    <tr>\n",
       "      <td>2</td>\n",
       "      <td>ps3</td>\n",
       "      <td>939.65</td>\n",
       "    </tr>\n",
       "    <tr>\n",
       "      <td>3</td>\n",
       "      <td>wii</td>\n",
       "      <td>907.51</td>\n",
       "    </tr>\n",
       "    <tr>\n",
       "      <td>4</td>\n",
       "      <td>ds</td>\n",
       "      <td>806.12</td>\n",
       "    </tr>\n",
       "    <tr>\n",
       "      <td>5</td>\n",
       "      <td>ps</td>\n",
       "      <td>730.86</td>\n",
       "    </tr>\n",
       "    <tr>\n",
       "      <td>6</td>\n",
       "      <td>gba</td>\n",
       "      <td>317.85</td>\n",
       "    </tr>\n",
       "    <tr>\n",
       "      <td>7</td>\n",
       "      <td>ps4</td>\n",
       "      <td>314.14</td>\n",
       "    </tr>\n",
       "    <tr>\n",
       "      <td>8</td>\n",
       "      <td>psp</td>\n",
       "      <td>294.05</td>\n",
       "    </tr>\n",
       "    <tr>\n",
       "      <td>9</td>\n",
       "      <td>pc</td>\n",
       "      <td>259.52</td>\n",
       "    </tr>\n",
       "  </tbody>\n",
       "</table>\n",
       "</div>"
      ],
      "text/plain": [
       "  platform  total_sales\n",
       "0      ps2     1,255.77\n",
       "1     x360       971.42\n",
       "2      ps3       939.65\n",
       "3      wii       907.51\n",
       "4       ds       806.12\n",
       "5       ps       730.86\n",
       "6      gba       317.85\n",
       "7      ps4       314.14\n",
       "8      psp       294.05\n",
       "9       pc       259.52"
      ]
     },
     "execution_count": 47,
     "metadata": {},
     "output_type": "execute_result"
    }
   ],
   "source": [
    "grouped_platform = games.pivot_table(index = 'platform', values = 'total_sales', \n",
    "                  aggfunc = {'total_sales': 'sum'}).sort_values(by = 'total_sales',\n",
    "                                                                             ascending = False).reset_index()\n",
    "grouped_platform.head(10)"
   ]
  },
  {
   "cell_type": "code",
   "execution_count": 48,
   "metadata": {
    "scrolled": false
   },
   "outputs": [
    {
     "data": {
      "image/png": "[encoded data removed]",
      "text/plain": [
       "<Figure size 1080x576 with 1 Axes>"
      ]
     },
     "metadata": {
      "needs_background": "light"
     },
     "output_type": "display_data"
    }
   ],
   "source": [
    "grouped_platform.plot( figsize=(15,8), legend = True, grid = True)\n",
    "plt.xticks(np.arange(len(grouped_platform)), grouped_platform['platform'])\n",
    "plt.title('Распределение продаж игр по платформам', fontdict=font)\n",
    "plt.xlabel('Платформа', fontdict=font)\n",
    "plt.ylabel('Продажи', fontdict=font);"
   ]
  },
  {
   "cell_type": "markdown",
   "metadata": {},
   "source": [
    "В первой 10ке абсолютное доминирование игровой консоли из Японии - Sony Playstation, в 10 самых успешных платформ по продажам попали все поколения PS, а также портативная консоль PSP. За бортом осталась лишь PS Vita (psv)."
   ]
  },
  {
   "cell_type": "markdown",
   "metadata": {},
   "source": [
    "Показатели продаж на платформах PlayStation как раз можно использовать для ответа на вторую часть вопроса - за какое время сменяются поколения платформ, т.к. первая консоль PlayStation появилась как раз в 1994 году, где на предыдущем графике отмечался резкий подъем выхода игр."
   ]
  },
  {
   "cell_type": "code",
   "execution_count": 49,
   "metadata": {
    "scrolled": true
   },
   "outputs": [],
   "source": [
    "ps_generations = []\n",
    "for i in grouped_platform['platform']:\n",
    "    if 'ps' in i:\n",
    "        if i not in ps_generations:\n",
    "            ps_generations.append(i)\n",
    "        \n",
    "\n",
    "ps_gens_str = str(','.join(ps_generations))"
   ]
  },
  {
   "cell_type": "code",
   "execution_count": 50,
   "metadata": {
    "scrolled": false
   },
   "outputs": [
    {
     "data": {
      "image/png": "[encoded data removed]",
      "text/plain": [
       "<Figure size 720x720 with 1 Axes>"
      ]
     },
     "metadata": {
      "needs_background": "light"
     },
     "output_type": "display_data"
    }
   ],
   "source": [
    "games[(games['year_of_release'] != 2049) & (games['platform'].isin(ps_generations))].\\\n",
    "pivot_table(index = ['year_of_release', 'platform'], values = ['total_sales'],\n",
    "                  aggfunc = 'sum').reset_index().pivot('year_of_release', 'platform', 'total_sales')\\\n",
    ".plot(kind = 'bar',grid = True, figsize = (10,10), alpha = 0.5, width = 4)\n",
    "plt.title('Распределение продаж по годам выхода игр на платформе PlayStation', fontdict=font)\n",
    "plt.xlabel('Год выхода', fontdict=font)\n",
    "plt.ylabel('Уровень продаж', fontdict=font);"
   ]
  },
  {
   "cell_type": "markdown",
   "metadata": {},
   "source": [
    "На графике отмечаются перекрытия между поколениями консолей, поскольку некоторое время еще сохраняется поддержка предыдущего поколения и для него также продолжают выпускаться новые игры. Судя по графику, период от выхода одного поколения до другого составляет 7 лет."
   ]
  },
  {
   "cell_type": "markdown",
   "metadata": {},
   "source": [
    "**Вывод**"
   ]
  },
  {
   "cell_type": "markdown",
   "metadata": {},
   "source": [
    "Наиболее популярными по количеству продаж являются платформы Sony PlayStation всех поколений. Срок актуальности игровой платформы составляет 7 лет."
   ]
  },
  {
   "cell_type": "markdown",
   "metadata": {},
   "source": [
    "<div class=\"alert alert-success\">\n",
    "<b>✔️</b> \n",
    "<br> Отличная визуализация - иногда это является визитной карточкой выполненого анализа, также соглашусь с выбором наиболее успешных платформ по продажам\n",
    "</div>"
   ]
  },
  {
   "cell_type": "markdown",
   "metadata": {},
   "source": [
    "### Анализ актуального периода до 2017 года"
   ]
  },
  {
   "cell_type": "markdown",
   "metadata": {},
   "source": [
    "**- Возьмите данные за соответствующий актуальный период. Актуальный период определите самостоятельно в результате исследования предыдущих вопросов. Основной фактор — эти данные помогут построить прогноз на 2017 год.**\n",
    "\n",
    "**- Не учитывайте в работе данные за предыдущие годы.**"
   ]
  },
  {
   "cell_type": "markdown",
   "metadata": {},
   "source": [
    "Поскольку в предыдущем пункте было установлено, что срок актуальности игровой платформы составляет 7 лет, возьмем для анализа данные с 2010 года. Создадим отдельную выборку."
   ]
  },
  {
   "cell_type": "code",
   "execution_count": 51,
   "metadata": {},
   "outputs": [],
   "source": [
    "games_actual_period = games[(games['year_of_release'] >= 2010) & (games['year_of_release'] != 2049)]"
   ]
  },
  {
   "cell_type": "code",
   "execution_count": 52,
   "metadata": {},
   "outputs": [
    {
     "name": "stdout",
     "output_type": "stream",
     "text": [
      "<class 'pandas.core.frame.DataFrame'>\n",
      "Int64Index: 5277 entries, 14 to 16714\n",
      "Data columns (total 12 columns):\n",
      "game_name          5277 non-null object\n",
      "platform           5277 non-null object\n",
      "year_of_release    5277 non-null int64\n",
      "game_genre         5277 non-null object\n",
      "na_sales           5277 non-null float64\n",
      "eu_sales           5277 non-null float64\n",
      "jp_sales           5277 non-null float64\n",
      "other_sales        5277 non-null float64\n",
      "critic_score       2312 non-null float64\n",
      "user_score         2499 non-null float64\n",
      "esrb_rating        5277 non-null object\n",
      "total_sales        5277 non-null float64\n",
      "dtypes: float64(7), int64(1), object(4)\n",
      "memory usage: 535.9+ KB\n"
     ]
    }
   ],
   "source": [
    "games_actual_period.info()"
   ]
  },
  {
   "cell_type": "code",
   "execution_count": 53,
   "metadata": {
    "scrolled": false
   },
   "outputs": [
    {
     "data": {
      "text/html": [
       "<div>\n",
       "<style scoped>\n",
       "    .dataframe tbody tr th:only-of-type {\n",
       "        vertical-align: middle;\n",
       "    }\n",
       "\n",
       "    .dataframe tbody tr th {\n",
       "        vertical-align: top;\n",
       "    }\n",
       "\n",
       "    .dataframe thead th {\n",
       "        text-align: right;\n",
       "    }\n",
       "</style>\n",
       "<table border=\"1\" class=\"dataframe\">\n",
       "  <thead>\n",
       "    <tr style=\"text-align: right;\">\n",
       "      <th></th>\n",
       "      <th>game_name</th>\n",
       "      <th>platform</th>\n",
       "      <th>year_of_release</th>\n",
       "      <th>game_genre</th>\n",
       "      <th>na_sales</th>\n",
       "      <th>eu_sales</th>\n",
       "      <th>jp_sales</th>\n",
       "      <th>other_sales</th>\n",
       "      <th>critic_score</th>\n",
       "      <th>user_score</th>\n",
       "      <th>esrb_rating</th>\n",
       "      <th>total_sales</th>\n",
       "    </tr>\n",
       "  </thead>\n",
       "  <tbody>\n",
       "    <tr>\n",
       "      <td>14</td>\n",
       "      <td>Kinect Adventures!</td>\n",
       "      <td>x360</td>\n",
       "      <td>2010</td>\n",
       "      <td>misc</td>\n",
       "      <td>15.00</td>\n",
       "      <td>4.89</td>\n",
       "      <td>0.24</td>\n",
       "      <td>1.69</td>\n",
       "      <td>61.00</td>\n",
       "      <td>6.30</td>\n",
       "      <td>e</td>\n",
       "      <td>21.82</td>\n",
       "    </tr>\n",
       "    <tr>\n",
       "      <td>8423</td>\n",
       "      <td>Learning to Spell</td>\n",
       "      <td>ds</td>\n",
       "      <td>2010</td>\n",
       "      <td>misc</td>\n",
       "      <td>0.16</td>\n",
       "      <td>0.00</td>\n",
       "      <td>0.00</td>\n",
       "      <td>0.01</td>\n",
       "      <td>nan</td>\n",
       "      <td>nan</td>\n",
       "      <td>e</td>\n",
       "      <td>0.17</td>\n",
       "    </tr>\n",
       "    <tr>\n",
       "      <td>8412</td>\n",
       "      <td>Disney Sing It: Family Hits</td>\n",
       "      <td>ps3</td>\n",
       "      <td>2010</td>\n",
       "      <td>misc</td>\n",
       "      <td>0.11</td>\n",
       "      <td>0.03</td>\n",
       "      <td>0.00</td>\n",
       "      <td>0.02</td>\n",
       "      <td>72.00</td>\n",
       "      <td>nan</td>\n",
       "      <td>e</td>\n",
       "      <td>0.16</td>\n",
       "    </tr>\n",
       "    <tr>\n",
       "      <td>8410</td>\n",
       "      <td>Brunswick Cosmic Bowling</td>\n",
       "      <td>wii</td>\n",
       "      <td>2010</td>\n",
       "      <td>sports</td>\n",
       "      <td>0.16</td>\n",
       "      <td>0.00</td>\n",
       "      <td>0.00</td>\n",
       "      <td>0.01</td>\n",
       "      <td>nan</td>\n",
       "      <td>nan</td>\n",
       "      <td>e</td>\n",
       "      <td>0.17</td>\n",
       "    </tr>\n",
       "    <tr>\n",
       "      <td>8393</td>\n",
       "      <td>CSI: Fatal Conspiracy</td>\n",
       "      <td>x360</td>\n",
       "      <td>2010</td>\n",
       "      <td>adventure</td>\n",
       "      <td>0.11</td>\n",
       "      <td>0.04</td>\n",
       "      <td>0.00</td>\n",
       "      <td>0.01</td>\n",
       "      <td>42.00</td>\n",
       "      <td>4.80</td>\n",
       "      <td>m</td>\n",
       "      <td>0.16</td>\n",
       "    </tr>\n",
       "    <tr>\n",
       "      <td>8380</td>\n",
       "      <td>Jillian Michaels Fitness Ultimatum 2011</td>\n",
       "      <td>wii</td>\n",
       "      <td>2010</td>\n",
       "      <td>sports</td>\n",
       "      <td>0.16</td>\n",
       "      <td>0.00</td>\n",
       "      <td>0.00</td>\n",
       "      <td>0.01</td>\n",
       "      <td>nan</td>\n",
       "      <td>nan</td>\n",
       "      <td>e</td>\n",
       "      <td>0.17</td>\n",
       "    </tr>\n",
       "    <tr>\n",
       "      <td>8378</td>\n",
       "      <td>Camp Rock: The Final Jam</td>\n",
       "      <td>ds</td>\n",
       "      <td>2010</td>\n",
       "      <td>misc</td>\n",
       "      <td>0.14</td>\n",
       "      <td>0.02</td>\n",
       "      <td>0.00</td>\n",
       "      <td>0.01</td>\n",
       "      <td>nan</td>\n",
       "      <td>nan</td>\n",
       "      <td>no_esrb_rating</td>\n",
       "      <td>0.17</td>\n",
       "    </tr>\n",
       "    <tr>\n",
       "      <td>8354</td>\n",
       "      <td>N3 II: Ninety-Nine Nights</td>\n",
       "      <td>x360</td>\n",
       "      <td>2010</td>\n",
       "      <td>action</td>\n",
       "      <td>0.06</td>\n",
       "      <td>0.06</td>\n",
       "      <td>0.04</td>\n",
       "      <td>0.01</td>\n",
       "      <td>nan</td>\n",
       "      <td>nan</td>\n",
       "      <td>no_esrb_rating</td>\n",
       "      <td>0.17</td>\n",
       "    </tr>\n",
       "    <tr>\n",
       "      <td>8352</td>\n",
       "      <td>MotoGP 09/10</td>\n",
       "      <td>x360</td>\n",
       "      <td>2010</td>\n",
       "      <td>racing</td>\n",
       "      <td>0.07</td>\n",
       "      <td>0.09</td>\n",
       "      <td>0.00</td>\n",
       "      <td>0.02</td>\n",
       "      <td>69.00</td>\n",
       "      <td>5.70</td>\n",
       "      <td>e</td>\n",
       "      <td>0.18</td>\n",
       "    </tr>\n",
       "    <tr>\n",
       "      <td>8330</td>\n",
       "      <td>Gundam Assault Survive</td>\n",
       "      <td>psp</td>\n",
       "      <td>2010</td>\n",
       "      <td>action</td>\n",
       "      <td>0.00</td>\n",
       "      <td>0.00</td>\n",
       "      <td>0.17</td>\n",
       "      <td>0.00</td>\n",
       "      <td>nan</td>\n",
       "      <td>nan</td>\n",
       "      <td>no_esrb_rating</td>\n",
       "      <td>0.17</td>\n",
       "    </tr>\n",
       "  </tbody>\n",
       "</table>\n",
       "</div>"
      ],
      "text/plain": [
       "                                    game_name platform  year_of_release  \\\n",
       "14                         Kinect Adventures!     x360             2010   \n",
       "8423                        Learning to Spell       ds             2010   \n",
       "8412              Disney Sing It: Family Hits      ps3             2010   \n",
       "8410                 Brunswick Cosmic Bowling      wii             2010   \n",
       "8393                    CSI: Fatal Conspiracy     x360             2010   \n",
       "8380  Jillian Michaels Fitness Ultimatum 2011      wii             2010   \n",
       "8378                 Camp Rock: The Final Jam       ds             2010   \n",
       "8354                N3 II: Ninety-Nine Nights     x360             2010   \n",
       "8352                             MotoGP 09/10     x360             2010   \n",
       "8330                   Gundam Assault Survive      psp             2010   \n",
       "\n",
       "     game_genre  na_sales  eu_sales  jp_sales  other_sales  critic_score  \\\n",
       "14         misc     15.00      4.89      0.24         1.69         61.00   \n",
       "8423       misc      0.16      0.00      0.00         0.01           nan   \n",
       "8412       misc      0.11      0.03      0.00         0.02         72.00   \n",
       "8410     sports      0.16      0.00      0.00         0.01           nan   \n",
       "8393  adventure      0.11      0.04      0.00         0.01         42.00   \n",
       "8380     sports      0.16      0.00      0.00         0.01           nan   \n",
       "8378       misc      0.14      0.02      0.00         0.01           nan   \n",
       "8354     action      0.06      0.06      0.04         0.01           nan   \n",
       "8352     racing      0.07      0.09      0.00         0.02         69.00   \n",
       "8330     action      0.00      0.00      0.17         0.00           nan   \n",
       "\n",
       "      user_score     esrb_rating  total_sales  \n",
       "14          6.30               e        21.82  \n",
       "8423         nan               e         0.17  \n",
       "8412         nan               e         0.16  \n",
       "8410         nan               e         0.17  \n",
       "8393        4.80               m         0.16  \n",
       "8380         nan               e         0.17  \n",
       "8378         nan  no_esrb_rating         0.17  \n",
       "8354         nan  no_esrb_rating         0.17  \n",
       "8352        5.70               e         0.18  \n",
       "8330         nan  no_esrb_rating         0.17  "
      ]
     },
     "execution_count": 53,
     "metadata": {},
     "output_type": "execute_result"
    }
   ],
   "source": [
    "games_actual_period.sort_values(by = 'year_of_release').head(10)"
   ]
  },
  {
   "cell_type": "markdown",
   "metadata": {},
   "source": [
    "<div class=\"alert alert-warning\">\n",
    "<b>⚠️<a class=\"tocSkip\"> </b>\n",
    "    \n",
    "**Рекоммендация и на будущее:**\n",
    "    \n",
    "Решая данную задачу, я тоже сначала взяла среднее - 7 лет. Но потом я поняла, что рынок динамичен, все быстро меняется, верно? Некогда популярный жанр за 7 лет может стать не таким популярным, и наоборот. Индустрия развивается, игры становятся лучше, графика лучше, а пользователи — более требовательными. В таких задачах нам нужна свежная информация, свежая оценка. Если прогнозируем на 2017 год, то какая разница, что было 7 лет назад? Потенциально прибыльные платформы мы можем легко отобрать по графикам и таблице прадаж. Но пользовательские портреты могут поменяться. Если взглянуть на столбчатую диаграмму продаж, то по ней можно понять, в какой год произошла стабилизация рынка после бурных продаж. \n",
    "    \n",
    "Было бы отлично поправить период анализа. Для целей прогнозирования продаж на следующий год даже в традиционных бизнесах редко берут данные более чем за 2-3 года или 5 лет (максимум), поэтому действительно актуальным периодом будет, как минимум, 2012, в идеале 2013-2016 (как ты писал выше).\n",
    "</div>"
   ]
  },
  {
   "cell_type": "markdown",
   "metadata": {},
   "source": [
    "#### Выделяем перспективные платформы"
   ]
  },
  {
   "cell_type": "markdown",
   "metadata": {},
   "source": [
    "- Какие платформы лидируют по продажам, растут или падают? Выберите несколько потенциально прибыльных платформ.\n",
    "- Постройте график «ящик с усами» по глобальным продажам игр в разбивке по платформам. Опишите результат."
   ]
  },
  {
   "cell_type": "markdown",
   "metadata": {},
   "source": [
    "Построим графики суммарных продаж по платформам."
   ]
  },
  {
   "cell_type": "code",
   "execution_count": 54,
   "metadata": {
    "scrolled": false
   },
   "outputs": [
    {
     "data": {
      "image/png": "[encoded data removed]",
      "text/plain": [
       "<Figure size 720x720 with 1 Axes>"
      ]
     },
     "metadata": {
      "needs_background": "light"
     },
     "output_type": "display_data"
    }
   ],
   "source": [
    "games_actual_period.pivot_table(index = 'platform',\n",
    "                                values = 'total_sales',\n",
    "                                aggfunc = 'sum')\\\n",
    "                                .reset_index()\\\n",
    "                                .sort_values(by = 'total_sales', ascending = True)\\\n",
    ".plot.bar(x = 'platform', y = 'total_sales', grid = True, alpha = 0.5, figsize = (10,10))\n",
    "plt.title('Рейтинг платформ по уровням продаж', fontdict=font)\n",
    "plt.xlabel('Платформа', fontdict=font)\n",
    "plt.ylabel('Уровень продаж', fontdict=font);"
   ]
  },
  {
   "cell_type": "code",
   "execution_count": 55,
   "metadata": {},
   "outputs": [
    {
     "data": {
      "image/png": "[encoded data removed]",
      "text/plain": [
       "<Figure size 720x720 with 1 Axes>"
      ]
     },
     "metadata": {
      "needs_background": "light"
     },
     "output_type": "display_data"
    }
   ],
   "source": [
    "games_actual_period.pivot_table(index = ['year_of_release', 'platform'],\n",
    "                                values = 'total_sales',\n",
    "                                aggfunc = 'sum')\\\n",
    "                                .reset_index()\\\n",
    "                                .pivot('year_of_release', 'platform', 'total_sales')\\\n",
    ".plot.bar(grid = True, alpha = 0.8, figsize = (10,10),  stacked = True)\n",
    "plt.title('Рейтинг платформ по уровням продаж в динамике', fontdict=font)\n",
    "plt.xlabel('Год выхода', fontdict=font)\n",
    "plt.ylabel('Уровень продаж', fontdict=font);"
   ]
  },
  {
   "cell_type": "markdown",
   "metadata": {},
   "source": [
    "По данному графику видно, как за анализируемый период падают продажи прошлых поколений консолей PS3 и Xbox360, но начинают расти продажи на консолях PS4 и XboxOne, причем для PS4 старт лучше, чем для Xbox. Постепенно выходят из продаж консоли Nintendo Wii, Nintendo DS."
   ]
  },
  {
   "cell_type": "markdown",
   "metadata": {},
   "source": [
    "Теперь построим боксплоты по разбивке по платформам."
   ]
  },
  {
   "cell_type": "code",
   "execution_count": 56,
   "metadata": {},
   "outputs": [
    {
     "data": {
      "image/png": "[encoded data removed]",
      "text/plain": [
       "<Figure size 720x720 with 1 Axes>"
      ]
     },
     "metadata": {
      "needs_background": "light"
     },
     "output_type": "display_data"
    }
   ],
   "source": [
    "games_actual_period.boxplot('total_sales', by = 'platform',figsize=(10,10)).set_ylim(0,10);"
   ]
  },
  {
   "cell_type": "markdown",
   "metadata": {},
   "source": [
    "<div class=\"alert alert-warning\">\n",
    "\n",
    "<b>⚠️ </b> \n",
    "\n",
    "Предупреждения в проекте (если появляются) можно убрать при помощи:\n",
    "    \n",
    "        import warnings\n",
    "        warnings.filterwarnings(\"ignore\")\n",
    " \n",
    "</div>"
   ]
  },
  {
   "cell_type": "markdown",
   "metadata": {},
   "source": [
    "<div class=\"alert alert-info\">\n",
    "<b>Комментарий студента:</b> Спасибо) полезная штука, только наверно ее лучше включать в проект, когда он завершен и есть уверенность о том, что критических предупреждений не будет)\n",
    "<br>\n",
    "</div>"
   ]
  },
  {
   "cell_type": "code",
   "execution_count": 57,
   "metadata": {
    "scrolled": false
   },
   "outputs": [
    {
     "data": {
      "image/png": "[encoded data removed]",
      "text/plain": [
       "<Figure size 720x720 with 1 Axes>"
      ]
     },
     "metadata": {
      "needs_background": "light"
     },
     "output_type": "display_data"
    }
   ],
   "source": [
    "games_actual_period.boxplot('total_sales', by = 'platform',figsize=(10,10)).set_ylim(0,50);"
   ]
  },
  {
   "cell_type": "markdown",
   "metadata": {},
   "source": [
    "Анализируя результаты построения боксплотов можно сделать следующие выводы:\n",
    "\n",
    "- величина продаж больше у платформ: PS3, PS4, Xbox360, XboxOne;\n",
    "- Перспективными являются PS4 и XboxOne как актуальные поколения игровых консолей для рассматриваемого периода;\n",
    "- характерные \"выбросы\" по продажам для крупных платформ можно интерпретировать как выход популярной игры или серии игр на нескольких платформах одновременно (PS, Xbox и PC), т.е. подтверждается что эти направления являются перспективными;\n",
    "- также стоит отметить высокие значения \"выбросов\" по продажам для консолей Wii, что может быть связано с оригинальной концепцией игровой платформы (вместо привычных джойстиков используются джойстики с гироскопом, симулирующие движения человека перед экраном в игру), что можно использовать как дополнительную перспективу для увеличения продаж, перед выходом крупного проекта для этой консоли."
   ]
  },
  {
   "cell_type": "markdown",
   "metadata": {},
   "source": [
    "**Вывод**"
   ]
  },
  {
   "cell_type": "markdown",
   "metadata": {},
   "source": [
    "Наиболее перспективными платформами являются PS4 и XboxOne."
   ]
  },
  {
   "cell_type": "markdown",
   "metadata": {},
   "source": [
    "<div class=\"alert alert-success\">\n",
    "<b>✔️</b> \n",
    "<br> Этот шаг выполнен корректно,  PS4 и XboxOne действительно выделяются, это может быть ценным инсайтом для маркетингового отдела + данная информация была подтверждена информативной визуализацией👍\n",
    "</div>"
   ]
  },
  {
   "cell_type": "markdown",
   "metadata": {},
   "source": [
    "#### Оценка корреляции между отзывами и продажами"
   ]
  },
  {
   "cell_type": "markdown",
   "metadata": {},
   "source": [
    "- Посмотрите, как влияют на продажи внутри одной популярной платформы отзывы пользователей и критиков. Постройте диаграмму рассеяния и посчитайте корреляцию между отзывами и продажами. Сформулируйте выводы.\n",
    "- Соотнесите выводы с продажами игр на других платформах."
   ]
  },
  {
   "cell_type": "markdown",
   "metadata": {},
   "source": [
    "Для анализа влияния оценок пользователей на продажи возьмем платформу PS3 и PS4, как самые популярные для выбранного периода."
   ]
  },
  {
   "cell_type": "code",
   "execution_count": 58,
   "metadata": {},
   "outputs": [
    {
     "data": {
      "text/html": [
       "<style  type=\"text/css\" >\n",
       "    #T_e9bf4586_8675_11ec_9410_02420a39a933row0_col0 {\n",
       "            background-color:  #b40426;\n",
       "            color:  #f1f1f1;\n",
       "        }    #T_e9bf4586_8675_11ec_9410_02420a39a933row0_col1 {\n",
       "            background-color:  #3b4cc0;\n",
       "            color:  #f1f1f1;\n",
       "        }    #T_e9bf4586_8675_11ec_9410_02420a39a933row1_col0 {\n",
       "            background-color:  #3b4cc0;\n",
       "            color:  #f1f1f1;\n",
       "        }    #T_e9bf4586_8675_11ec_9410_02420a39a933row1_col1 {\n",
       "            background-color:  #b40426;\n",
       "            color:  #f1f1f1;\n",
       "        }</style><table id=\"T_e9bf4586_8675_11ec_9410_02420a39a933\" ><thead>    <tr>        <th class=\"blank level0\" ></th>        <th class=\"col_heading level0 col0\" >critic_score</th>        <th class=\"col_heading level0 col1\" >total_sales</th>    </tr></thead><tbody>\n",
       "                <tr>\n",
       "                        <th id=\"T_e9bf4586_8675_11ec_9410_02420a39a933level0_row0\" class=\"row_heading level0 row0\" >critic_score</th>\n",
       "                        <td id=\"T_e9bf4586_8675_11ec_9410_02420a39a933row0_col0\" class=\"data row0 col0\" >100.00%</td>\n",
       "                        <td id=\"T_e9bf4586_8675_11ec_9410_02420a39a933row0_col1\" class=\"data row0 col1\" >40.10%</td>\n",
       "            </tr>\n",
       "            <tr>\n",
       "                        <th id=\"T_e9bf4586_8675_11ec_9410_02420a39a933level0_row1\" class=\"row_heading level0 row1\" >total_sales</th>\n",
       "                        <td id=\"T_e9bf4586_8675_11ec_9410_02420a39a933row1_col0\" class=\"data row1 col0\" >40.10%</td>\n",
       "                        <td id=\"T_e9bf4586_8675_11ec_9410_02420a39a933row1_col1\" class=\"data row1 col1\" >100.00%</td>\n",
       "            </tr>\n",
       "    </tbody></table>"
      ],
      "text/plain": [
       "<pandas.io.formats.style.Styler at 0x7fbb6b44a410>"
      ]
     },
     "execution_count": 58,
     "metadata": {},
     "output_type": "execute_result"
    }
   ],
   "source": [
    "games_actual_period[games_actual_period['platform'].isin(['ps4', 'ps3'])][['critic_score', 'total_sales']]\\\n",
    ".corr().style.format(\"{:.2%}\").background_gradient(cmap='coolwarm')"
   ]
  },
  {
   "cell_type": "code",
   "execution_count": 59,
   "metadata": {},
   "outputs": [
    {
     "data": {
      "text/html": [
       "<style  type=\"text/css\" >\n",
       "    #T_e9c1f36c_8675_11ec_9410_02420a39a933row0_col0 {\n",
       "            background-color:  #b40426;\n",
       "            color:  #f1f1f1;\n",
       "        }    #T_e9c1f36c_8675_11ec_9410_02420a39a933row0_col1 {\n",
       "            background-color:  #3b4cc0;\n",
       "            color:  #f1f1f1;\n",
       "        }    #T_e9c1f36c_8675_11ec_9410_02420a39a933row1_col0 {\n",
       "            background-color:  #3b4cc0;\n",
       "            color:  #f1f1f1;\n",
       "        }    #T_e9c1f36c_8675_11ec_9410_02420a39a933row1_col1 {\n",
       "            background-color:  #b40426;\n",
       "            color:  #f1f1f1;\n",
       "        }</style><table id=\"T_e9c1f36c_8675_11ec_9410_02420a39a933\" ><thead>    <tr>        <th class=\"blank level0\" ></th>        <th class=\"col_heading level0 col0\" >user_score</th>        <th class=\"col_heading level0 col1\" >total_sales</th>    </tr></thead><tbody>\n",
       "                <tr>\n",
       "                        <th id=\"T_e9c1f36c_8675_11ec_9410_02420a39a933level0_row0\" class=\"row_heading level0 row0\" >user_score</th>\n",
       "                        <td id=\"T_e9c1f36c_8675_11ec_9410_02420a39a933row0_col0\" class=\"data row0 col0\" >100.00%</td>\n",
       "                        <td id=\"T_e9c1f36c_8675_11ec_9410_02420a39a933row0_col1\" class=\"data row0 col1\" >3.66%</td>\n",
       "            </tr>\n",
       "            <tr>\n",
       "                        <th id=\"T_e9c1f36c_8675_11ec_9410_02420a39a933level0_row1\" class=\"row_heading level0 row1\" >total_sales</th>\n",
       "                        <td id=\"T_e9c1f36c_8675_11ec_9410_02420a39a933row1_col0\" class=\"data row1 col0\" >3.66%</td>\n",
       "                        <td id=\"T_e9c1f36c_8675_11ec_9410_02420a39a933row1_col1\" class=\"data row1 col1\" >100.00%</td>\n",
       "            </tr>\n",
       "    </tbody></table>"
      ],
      "text/plain": [
       "<pandas.io.formats.style.Styler at 0x7fbb6b3f1250>"
      ]
     },
     "execution_count": 59,
     "metadata": {},
     "output_type": "execute_result"
    }
   ],
   "source": [
    "games_actual_period[games_actual_period['platform'].isin(['ps3', 'ps4'])][['user_score', 'total_sales']]\\\n",
    ".corr().style.format(\"{:.2%}\").background_gradient(cmap='coolwarm')"
   ]
  },
  {
   "cell_type": "code",
   "execution_count": 60,
   "metadata": {},
   "outputs": [
    {
     "data": {
      "image/png": "[encoded data removed]",
      "text/plain": [
       "<Figure size 720x720 with 9 Axes>"
      ]
     },
     "metadata": {
      "needs_background": "light"
     },
     "output_type": "display_data"
    }
   ],
   "source": [
    "pd.plotting.scatter_matrix(\n",
    "    games_actual_period[games_actual_period['platform'].isin(['ps4', 'ps3'])][['total_sales','critic_score', 'user_score']]\n",
    ", figsize = (10, 10)\n",
    ");"
   ]
  },
  {
   "cell_type": "markdown",
   "metadata": {},
   "source": [
    "Отмечается отсутствие корреляции суммы продаж и оценок и критиков и игроков для выбранной платформы Playstation, тем не менее по графикам видно, что игры продаются лучше, при оценке критиков выше 60, в то время как оценка пользователей не влияет."
   ]
  },
  {
   "cell_type": "markdown",
   "metadata": {},
   "source": [
    "Теперь сделаем такой же расчет корреляции, но для всех платформ сразу."
   ]
  },
  {
   "cell_type": "code",
   "execution_count": 61,
   "metadata": {},
   "outputs": [
    {
     "data": {
      "text/html": [
       "<style  type=\"text/css\" >\n",
       "    #T_ea7266b6_8675_11ec_9410_02420a39a933row0_col0 {\n",
       "            background-color:  #b40426;\n",
       "            color:  #f1f1f1;\n",
       "        }    #T_ea7266b6_8675_11ec_9410_02420a39a933row0_col1 {\n",
       "            background-color:  #3b4cc0;\n",
       "            color:  #f1f1f1;\n",
       "        }    #T_ea7266b6_8675_11ec_9410_02420a39a933row1_col0 {\n",
       "            background-color:  #3b4cc0;\n",
       "            color:  #f1f1f1;\n",
       "        }    #T_ea7266b6_8675_11ec_9410_02420a39a933row1_col1 {\n",
       "            background-color:  #b40426;\n",
       "            color:  #f1f1f1;\n",
       "        }</style><table id=\"T_ea7266b6_8675_11ec_9410_02420a39a933\" ><thead>    <tr>        <th class=\"blank level0\" ></th>        <th class=\"col_heading level0 col0\" >critic_score</th>        <th class=\"col_heading level0 col1\" >total_sales</th>    </tr></thead><tbody>\n",
       "                <tr>\n",
       "                        <th id=\"T_ea7266b6_8675_11ec_9410_02420a39a933level0_row0\" class=\"row_heading level0 row0\" >critic_score</th>\n",
       "                        <td id=\"T_ea7266b6_8675_11ec_9410_02420a39a933row0_col0\" class=\"data row0 col0\" >100.00%</td>\n",
       "                        <td id=\"T_ea7266b6_8675_11ec_9410_02420a39a933row0_col1\" class=\"data row0 col1\" >31.70%</td>\n",
       "            </tr>\n",
       "            <tr>\n",
       "                        <th id=\"T_ea7266b6_8675_11ec_9410_02420a39a933level0_row1\" class=\"row_heading level0 row1\" >total_sales</th>\n",
       "                        <td id=\"T_ea7266b6_8675_11ec_9410_02420a39a933row1_col0\" class=\"data row1 col0\" >31.70%</td>\n",
       "                        <td id=\"T_ea7266b6_8675_11ec_9410_02420a39a933row1_col1\" class=\"data row1 col1\" >100.00%</td>\n",
       "            </tr>\n",
       "    </tbody></table>"
      ],
      "text/plain": [
       "<pandas.io.formats.style.Styler at 0x7fbb6b3b7c50>"
      ]
     },
     "execution_count": 61,
     "metadata": {},
     "output_type": "execute_result"
    }
   ],
   "source": [
    "games_actual_period[['critic_score', 'total_sales']]\\\n",
    ".corr().style.format(\"{:.2%}\").background_gradient(cmap='coolwarm')"
   ]
  },
  {
   "cell_type": "code",
   "execution_count": 62,
   "metadata": {},
   "outputs": [
    {
     "data": {
      "text/html": [
       "<style  type=\"text/css\" >\n",
       "    #T_ea771526_8675_11ec_9410_02420a39a933row0_col0 {\n",
       "            background-color:  #b40426;\n",
       "            color:  #f1f1f1;\n",
       "        }    #T_ea771526_8675_11ec_9410_02420a39a933row0_col1 {\n",
       "            background-color:  #3b4cc0;\n",
       "            color:  #f1f1f1;\n",
       "        }    #T_ea771526_8675_11ec_9410_02420a39a933row1_col0 {\n",
       "            background-color:  #3b4cc0;\n",
       "            color:  #f1f1f1;\n",
       "        }    #T_ea771526_8675_11ec_9410_02420a39a933row1_col1 {\n",
       "            background-color:  #b40426;\n",
       "            color:  #f1f1f1;\n",
       "        }</style><table id=\"T_ea771526_8675_11ec_9410_02420a39a933\" ><thead>    <tr>        <th class=\"blank level0\" ></th>        <th class=\"col_heading level0 col0\" >user_score</th>        <th class=\"col_heading level0 col1\" >total_sales</th>    </tr></thead><tbody>\n",
       "                <tr>\n",
       "                        <th id=\"T_ea771526_8675_11ec_9410_02420a39a933level0_row0\" class=\"row_heading level0 row0\" >user_score</th>\n",
       "                        <td id=\"T_ea771526_8675_11ec_9410_02420a39a933row0_col0\" class=\"data row0 col0\" >100.00%</td>\n",
       "                        <td id=\"T_ea771526_8675_11ec_9410_02420a39a933row0_col1\" class=\"data row0 col1\" >5.54%</td>\n",
       "            </tr>\n",
       "            <tr>\n",
       "                        <th id=\"T_ea771526_8675_11ec_9410_02420a39a933level0_row1\" class=\"row_heading level0 row1\" >total_sales</th>\n",
       "                        <td id=\"T_ea771526_8675_11ec_9410_02420a39a933row1_col0\" class=\"data row1 col0\" >5.54%</td>\n",
       "                        <td id=\"T_ea771526_8675_11ec_9410_02420a39a933row1_col1\" class=\"data row1 col1\" >100.00%</td>\n",
       "            </tr>\n",
       "    </tbody></table>"
      ],
      "text/plain": [
       "<pandas.io.formats.style.Styler at 0x7fbb73f07b10>"
      ]
     },
     "execution_count": 62,
     "metadata": {},
     "output_type": "execute_result"
    }
   ],
   "source": [
    "games_actual_period[['user_score', 'total_sales']]\\\n",
    ".corr().style.format(\"{:.2%}\").background_gradient(cmap='coolwarm')"
   ]
  },
  {
   "cell_type": "code",
   "execution_count": 63,
   "metadata": {},
   "outputs": [
    {
     "data": {
      "image/png": "[encoded data removed]",
      "text/plain": [
       "<Figure size 720x720 with 9 Axes>"
      ]
     },
     "metadata": {
      "needs_background": "light"
     },
     "output_type": "display_data"
    }
   ],
   "source": [
    "pd.plotting.scatter_matrix(\n",
    "    games_actual_period[['total_sales','critic_score', 'user_score']]\n",
    ", figsize = (10, 10)\n",
    ");"
   ]
  },
  {
   "cell_type": "markdown",
   "metadata": {},
   "source": [
    "Если рассматривать корреляции для всех платформ, то закономерность прослеживается точно такая же - корреляции между продажами и оценками критиков и пользователей нет, лучше продаются игры с оценкой критиков выше 60, оценка пользователей не влияется на уровень продаж."
   ]
  },
  {
   "cell_type": "markdown",
   "metadata": {},
   "source": [
    "**Вывод**"
   ]
  },
  {
   "cell_type": "markdown",
   "metadata": {},
   "source": [
    "Оценки критиков и пользователей имеют слабую корреляцию с уровнем продаж для самых популярных платформ и в целом по всему анализируемому периоду. Но стоит отметить, что лучше продаются игры с оценкой критиков выше 60."
   ]
  },
  {
   "cell_type": "markdown",
   "metadata": {},
   "source": [
    "<div class=\"alert alert-success\">\n",
    "<b>✔️</b> \n",
    "<br> Думаю, все же можно отметить, что продажи коррелируют больше с оценкой критиков, нежели с оценкой пользователей, т.к. покупатели больше доверяют профессиональному мнению:)\n",
    "    \n",
    "1. Использовано форматирование для наглядного отображения корреляции,\n",
    "    \n",
    "2. Использован метод `scatter_matrix`👍\n",
    "</div>"
   ]
  },
  {
   "cell_type": "markdown",
   "metadata": {},
   "source": [
    "#### Выделяем перспективные жанры"
   ]
  },
  {
   "cell_type": "markdown",
   "metadata": {},
   "source": [
    "- Посмотрите на общее распределение игр по жанрам. Что можно сказать о самых прибыльных жанрах? Выделяются ли жанры с высокими и низкими продажами?"
   ]
  },
  {
   "cell_type": "markdown",
   "metadata": {},
   "source": [
    "Сведем данные по жанрам и суммарным продажам в одну таблицу через **pivot_table**."
   ]
  },
  {
   "cell_type": "code",
   "execution_count": 64,
   "metadata": {},
   "outputs": [
    {
     "data": {
      "image/png": "[encoded data removed]",
      "text/plain": [
       "<Figure size 432x288 with 1 Axes>"
      ]
     },
     "metadata": {
      "needs_background": "light"
     },
     "output_type": "display_data"
    }
   ],
   "source": [
    "games_actual_period.pivot_table(index = 'game_genre', \n",
    "                                values = 'total_sales', \n",
    "                                aggfunc = 'sum').reset_index().sort_values(by = 'total_sales')\\\n",
    ".plot.bar(x = 'game_genre', y = 'total_sales', grid = True)\n",
    "plt.title('Рейтинг популярности жанров', fontdict=font)\n",
    "plt.xlabel('Жанр', fontdict=font)\n",
    "plt.ylabel('Уровень продаж', fontdict=font);"
   ]
  },
  {
   "cell_type": "markdown",
   "metadata": {},
   "source": [
    "По данному графику можно сделать вывод, что самыми прибыльными являются жанры Action, Shooter и Sports. Наименее прибыльными (скорее всего из-за своей нишевости) являются жанры Puzzle, Strategy и Adventure."
   ]
  },
  {
   "cell_type": "markdown",
   "metadata": {},
   "source": [
    "**Вывод**"
   ]
  },
  {
   "cell_type": "markdown",
   "metadata": {},
   "source": [
    "Наиболее прибыльным жанром являетя Action, следом за ним идут Shooter и Sports. "
   ]
  },
  {
   "cell_type": "markdown",
   "metadata": {},
   "source": [
    "<div class=\"alert alert-success\">\n",
    "<b>✔️</b> \n",
    "<br> Корректно, в целом это можно отследить и в наших сегодняшних реалиях\n",
    "</div>"
   ]
  },
  {
   "cell_type": "markdown",
   "metadata": {},
   "source": [
    "## Портрет пользователя каждого региона"
   ]
  },
  {
   "cell_type": "markdown",
   "metadata": {},
   "source": [
    "- Определите для пользователя каждого региона (NA, EU, JP):\n",
    "- Самые популярные платформы (топ-5). Опишите различия в долях продаж.\n",
    "- Самые популярные жанры (топ-5). Поясните разницу.\n",
    "- Влияет ли рейтинг ESRB на продажи в отдельном регионе?"
   ]
  },
  {
   "cell_type": "markdown",
   "metadata": {},
   "source": [
    "### Самые популярные платформы по регионам"
   ]
  },
  {
   "cell_type": "markdown",
   "metadata": {},
   "source": [
    "Определим с помощью **Pivot_table**, сортировки и Bar plot самые популярные платформы в каждом регионе."
   ]
  },
  {
   "cell_type": "code",
   "execution_count": 65,
   "metadata": {},
   "outputs": [
    {
     "data": {
      "image/png": "[encoded data removed]",
      "text/plain": [
       "<Figure size 432x288 with 1 Axes>"
      ]
     },
     "metadata": {
      "needs_background": "light"
     },
     "output_type": "display_data"
    },
    {
     "data": {
      "image/png": "[encoded data removed]",
      "text/plain": [
       "<Figure size 432x288 with 1 Axes>"
      ]
     },
     "metadata": {
      "needs_background": "light"
     },
     "output_type": "display_data"
    },
    {
     "data": {
      "image/png": "[encoded data removed]",
      "text/plain": [
       "<Figure size 432x288 with 1 Axes>"
      ]
     },
     "metadata": {
      "needs_background": "light"
     },
     "output_type": "display_data"
    }
   ],
   "source": [
    "games_actual_period.pivot_table(index = 'platform', \n",
    "                                values = 'na_sales', \n",
    "                                aggfunc = 'sum').reset_index()\\\n",
    ".sort_values(by = 'na_sales', ascending = False).plot(kind = 'bar', x = 'platform', grid = True);\n",
    "plt.title('Рейтинг популярности платформ для Северной Америки', fontdict=font)\n",
    "plt.xlabel('Платформа', fontdict=font)\n",
    "plt.ylabel('Уровень продаж', fontdict=font);\n",
    "games_actual_period.pivot_table(index = 'platform', \n",
    "                                values = 'eu_sales', \n",
    "                                aggfunc = 'sum').reset_index()\\\n",
    ".sort_values(by = 'eu_sales', ascending = False).plot(kind = 'bar', x = 'platform', grid = True);\n",
    "plt.title('Рейтинг популярности платформ для Европы', fontdict=font)\n",
    "plt.xlabel('Платформа', fontdict=font)\n",
    "plt.ylabel('Уровень продаж', fontdict=font);\n",
    "games_actual_period.pivot_table(index = 'platform', \n",
    "                                values = 'jp_sales', \n",
    "                                aggfunc = 'sum').reset_index()\\\n",
    ".sort_values(by = 'jp_sales', ascending = False).plot(kind = 'bar', x = 'platform', grid = True);\n",
    "plt.title('Рейтинг популярности платформ для Японии', fontdict=font)\n",
    "plt.xlabel('Платформа', fontdict=font)\n",
    "plt.ylabel('Уровень продаж', fontdict=font);"
   ]
  },
  {
   "cell_type": "markdown",
   "metadata": {},
   "source": [
    "**Вывод**"
   ]
  },
  {
   "cell_type": "markdown",
   "metadata": {},
   "source": [
    "Топ 5 платформ для каждого региона:\n",
    "Северная Америка: 1. Xbox 360; 2. PS3; 3. Nintendo Wii; 4. PS4; 5. XboxOne.\n",
    "\n",
    "Европа: 1. PS3; 2. Xbox 360; 3. PS4; 4. PC; 5. Nintendo Wii.\n",
    "\n",
    "Япония: 1. Nintendo 3DS; 2. PS3; 3. Playstation Portable; 4. Nintendo DS; 5. Playstation Vita.\n",
    "\n",
    "Популярность платформ хорошо коррелируется с регионами.\n",
    "\n",
    "- Для Северной Америки очевидна популярность \"домашней\" платформы от Майкрософт - Xbox360, за ним идет вторая по популярности платформа PS3, у более нового поколения распределение немного отличается, в пользу более новой консоли от Sony - PS4.\n",
    "- В европейском регионе наоборот, наибольшую популярность имеют консоли от Sony - PS3, затем Xbox360. У нового поколения также PS4 опережает XboxOne, популярность Sony можно объяснить близостью рынка консолей в Европе от производителя в Японии, отсутсвием своей \"домашней\" платформы, меньшей популярностью первой платформы от Майкрософт; также внезапно в топ 5 для Европы попадает и персональный компьютер, тут интересно, попадает ли Россия в регион Европа, потому что игры на ПК очень популярны именно в России и наверное, Восточной Европе.\n",
    "- В японсоком регионе лидирует не Sony, а Nintendo со своей 3DS. Но в целом для японского рынка логично доминирование \"домашних\" консолей от Sony и Nintendo, с очень малой долей продаж игр на Xbox360."
   ]
  },
  {
   "cell_type": "markdown",
   "metadata": {},
   "source": [
    "<div class=\"alert alert-success\">\n",
    "<b>✔️</b> \n",
    "<br> Очень понравился детальный взгляд на данный вопрос👍\n",
    "</div>"
   ]
  },
  {
   "cell_type": "markdown",
   "metadata": {},
   "source": [
    "### Самые популярные жанры"
   ]
  },
  {
   "cell_type": "markdown",
   "metadata": {},
   "source": [
    "Аналогичным способом определим самые популярные жанры для каждого региона."
   ]
  },
  {
   "cell_type": "code",
   "execution_count": 66,
   "metadata": {},
   "outputs": [
    {
     "data": {
      "image/png": "[encoded data removed]",
      "text/plain": [
       "<Figure size 432x288 with 1 Axes>"
      ]
     },
     "metadata": {
      "needs_background": "light"
     },
     "output_type": "display_data"
    },
    {
     "data": {
      "image/png": "[encoded data removed]",
      "text/plain": [
       "<Figure size 432x288 with 1 Axes>"
      ]
     },
     "metadata": {
      "needs_background": "light"
     },
     "output_type": "display_data"
    },
    {
     "data": {
      "image/png": "[encoded data removed]",
      "text/plain": [
       "<Figure size 432x288 with 1 Axes>"
      ]
     },
     "metadata": {
      "needs_background": "light"
     },
     "output_type": "display_data"
    }
   ],
   "source": [
    "games_actual_period.pivot_table(index = 'game_genre', \n",
    "                                values = 'na_sales', \n",
    "                                aggfunc = 'sum').reset_index()\\\n",
    ".sort_values(by = 'na_sales', ascending = False).plot(kind = 'bar', x = 'game_genre', grid = True);\n",
    "plt.title('Рейтинг популярности жанров для Северной Америки', fontdict=font)\n",
    "plt.xlabel('Жанр', fontdict=font)\n",
    "plt.ylabel('Уровень продаж', fontdict=font);\n",
    "games_actual_period.pivot_table(index = 'game_genre', \n",
    "                                values = 'eu_sales', \n",
    "                                aggfunc = 'sum').reset_index()\\\n",
    ".sort_values(by = 'eu_sales', ascending = False).plot(kind = 'bar', x = 'game_genre', grid = True);\n",
    "plt.title('Рейтинг популярности жанров для Европы', fontdict=font)\n",
    "plt.xlabel('Жанр', fontdict=font)\n",
    "plt.ylabel('Уровень продаж', fontdict=font);\n",
    "games_actual_period.pivot_table(index = 'game_genre', \n",
    "                                values = 'jp_sales', \n",
    "                                aggfunc = 'sum').reset_index()\\\n",
    ".sort_values(by = 'jp_sales', ascending = False).plot(kind = 'bar', x = 'game_genre', grid = True);\n",
    "plt.title('Рейтинг популярности жанров для Японии', fontdict=font)\n",
    "plt.xlabel('Жанр', fontdict=font)\n",
    "plt.ylabel('Уровень продаж', fontdict=font);"
   ]
  },
  {
   "cell_type": "markdown",
   "metadata": {},
   "source": [
    "**Вывод**"
   ]
  },
  {
   "cell_type": "markdown",
   "metadata": {},
   "source": [
    "Портрет пользователя из североамериканского и европейского региона полностью совпадает. Самым популярным жанром явлется Action, на втором месте Shooter, затем Sports, Misc, Role-Playing.\n",
    "\n",
    "Совсем иначе выглядит портрет пользователя из Японии, там с большим отрывом от второго места побеждает Role-plaiyng, за ним Action, Misc, Sports, Platform.\n",
    "\n",
    "Данное различие можно объяснить в первую очередь разной культурой запада и востока; во-вторых это можно пояснить стилем игры - на Западе в игры играют в вечернее время, на несколько часов, когда не хватает времени погрузиться в глубокий мир RPG игры, поэтому предпочитают быстрые и активные экшены, шутеры и спортивные симуляторы. Японские же геймеры видимо могут позволить себе быть гиками и тратить на игры больше времени, погружаться в RPG миры; в-третьих Западные игровые компании выпускают в основном популярные боевики, экшн игры (серии Call of Duty, GTA), а японская игровая индустрия сосредоточена на создании РПГ игр и экшн-игр от третьего лица (Final Fantasy, God of war, Nier, Dark Souls, Death Stranding). Исходя из вышеперечисленного и формируется портрет пользователя в каждом регионе по жанру."
   ]
  },
  {
   "cell_type": "markdown",
   "metadata": {},
   "source": [
    "### Влияние рейтинга ESRB на продажи по регионам"
   ]
  },
  {
   "cell_type": "markdown",
   "metadata": {},
   "source": [
    "Теперь оценим влияние рейтинга ESRB на продажи в разных регионах."
   ]
  },
  {
   "cell_type": "code",
   "execution_count": 67,
   "metadata": {
    "scrolled": false
   },
   "outputs": [
    {
     "data": {
      "image/png": "[encoded data removed]",
      "text/plain": [
       "<Figure size 432x288 with 1 Axes>"
      ]
     },
     "metadata": {
      "needs_background": "light"
     },
     "output_type": "display_data"
    },
    {
     "data": {
      "image/png": "[encoded data removed]",
      "text/plain": [
       "<Figure size 432x288 with 1 Axes>"
      ]
     },
     "metadata": {
      "needs_background": "light"
     },
     "output_type": "display_data"
    },
    {
     "data": {
      "image/png": "[encoded data removed]",
      "text/plain": [
       "<Figure size 432x288 with 1 Axes>"
      ]
     },
     "metadata": {
      "needs_background": "light"
     },
     "output_type": "display_data"
    }
   ],
   "source": [
    "games_actual_period.pivot_table(index = 'esrb_rating', \n",
    "                                values = 'na_sales', \n",
    "                                aggfunc = 'sum').reset_index()\\\n",
    ".sort_values(by = 'na_sales', ascending = False).plot(kind = 'bar', x = 'esrb_rating', grid = True);\n",
    "plt.title('Рейтинг популярности по ESRB для Северной Америки', fontdict=font)\n",
    "plt.xlabel('ESRB', fontdict=font)\n",
    "plt.ylabel('Уровень продаж', fontdict=font);\n",
    "games_actual_period.pivot_table(index = 'esrb_rating', \n",
    "                                values = 'eu_sales', \n",
    "                                aggfunc = 'sum').reset_index()\\\n",
    ".sort_values(by = 'eu_sales', ascending = False).plot(kind = 'bar', x = 'esrb_rating', grid = True);\n",
    "plt.title('Рейтинг популярности по ESRB для Евпропы', fontdict=font)\n",
    "plt.xlabel('ESRB', fontdict=font)\n",
    "plt.ylabel('Уровень продаж', fontdict=font);\n",
    "games_actual_period.pivot_table(index = 'esrb_rating', \n",
    "                                values = 'jp_sales', \n",
    "                                aggfunc = 'sum').reset_index()\\\n",
    ".sort_values(by = 'jp_sales', ascending = False).plot(kind = 'bar', x = 'esrb_rating', grid = True);\n",
    "plt.title('Рейтинг популярности по ESRB для Японии', fontdict=font)\n",
    "plt.xlabel('ESRB', fontdict=font)\n",
    "plt.ylabel('Уровень продаж', fontdict=font);"
   ]
  },
  {
   "cell_type": "markdown",
   "metadata": {},
   "source": [
    "**Вывод**"
   ]
  },
  {
   "cell_type": "markdown",
   "metadata": {},
   "source": [
    "В североамериканском и европейском регионе первое место занимают игры с рейтингом для взрослых (подростки от 17 лет, вот и доказывай, что игры только для детей); затем идут игры для всех (рейтинг E) и для подростков. Также в топ 3 в Евпропе попали игры, для которых рейтинг ESRB не установлен. \n",
    "\n",
    "В Японии на первом месте оказались игры без ESRB рейтинга, на втором игры для всех, затем для подростков. Феномен с японским регионом можно объяснить 2мя вариантами: 1. в Японии очень развита культура ретро-гейминга, т.е. играть на старых раритетных приставках, соответственно для которых картриджи могут до сих пор продаваться официально, а поскольку организация ESRB начала работу только с 1994 года, то все игры до (а это почти 14 лет) могли просто не получить этот рейтинг, потому что не от кого было получать; 2. более прозаичная причина - ESRB это организация действующая в США и Канаде, поэтому игры выпущенные только для японского рынка могли не получать рейтинг ESRB, но иметь свой внутренний рейтинг CERO. "
   ]
  },
  {
   "cell_type": "markdown",
   "metadata": {},
   "source": [
    "### Общий вывод портрета пользователя"
   ]
  },
  {
   "cell_type": "markdown",
   "metadata": {},
   "source": [
    "Подводя итог можно составить следующие портреты пользователей:\n",
    "\n",
    "- В США это игрок, предпочитающий экшн-игры и шутеры, выпущенные на консоли Xbox, с возрастным рейтингом для взрослых;\n",
    "- В Европе это игрок, предпочитающий также экшн-игры и шутеры, но уже выпущенные на консоли PlayStation, с возрастным рейтингом для взрослых;\n",
    "- В Японии игроки предпочитают ролевые игры и экшн-игры, для консолей Nintendo и Playstation, скорее всего от внутренних японских студий (отстутсвует ESRB рейтинг) либо игры для всех возрастов."
   ]
  },
  {
   "cell_type": "markdown",
   "metadata": {},
   "source": [
    "<div class=\"alert alert-success\">\n",
    "<b>✔️</b> \n",
    "<br> В целом можно увидеть, что Япония несколько отличается, возможно, в виду традиций и несколько другой культуры:) Этот шаг сделан хорошо, видим подробный анализ, так держать!👍\n",
    "</div>\n",
    "\n",
    "\n",
    "<div class=\"alert alert-warning\">\n",
    "<b>⚠️</b> \n",
    "<br> \n",
    "    \n",
    "    \n",
    "**На будущее в целях улучшения проекта**\n",
    "\n",
    "1. Возможно, это только субъективное наблюдение, но на данном пункте было бы очень полезно использовать pie chart, чтобы проиллюстрировать портрет пользователя. Pie chart полезен в маркетинге и, когда у нас немного параметров (здесь топ-5). [Пример хорошей визуализации с pie chart](https://stackabuse.com/matplotlib-pie-chart-tutorial-and-examples/)\n",
    "\n",
    "2. Также хочу посоветовать использовать цикл для построения графиков или `subplots` для отображения нескольких графиков в ряд, код-шаблон к примеру:\n",
    "    \n",
    "    \n",
    "    fig, axs = plt.subplots(1, 3, figsize=(15, 5))\n",
    "    fig.suptitle('Влияние ... на продажи в регионах')\n",
    "    for i in range(3):\n",
    "        axs[i].pie(df[countries[i]])\n",
    "        \n",
    "где `countries` - список регионов, suptitle -выводит общий заголовок для всех трех диаграмм.\n",
    "    \n",
    "</div>"
   ]
  },
  {
   "cell_type": "markdown",
   "metadata": {},
   "source": [
    "## Статистический анализ данных"
   ]
  },
  {
   "cell_type": "markdown",
   "metadata": {},
   "source": [
    "Проверка гипотез:\n",
    "\n",
    "- Средние пользовательские рейтинги платформ Xbox One и PC одинаковые;\n",
    "- Средние пользовательские рейтинги жанров Action (англ. «действие», экшен-игры) и Sports (англ. «спортивные соревнования») разные.\n",
    "Задайте самостоятельно пороговое значение alpha.\n",
    "\n",
    "Поясните:\n",
    "- Как вы сформулировали нулевую и альтернативную гипотезы;\n",
    "- Какой критерий применили для проверки гипотез и почему."
   ]
  },
  {
   "cell_type": "markdown",
   "metadata": {},
   "source": [
    "### Выбор метода проверки гипотез."
   ]
  },
  {
   "cell_type": "markdown",
   "metadata": {},
   "source": [
    "Для проверки обоих гипотез подойдет метод **scipy.stats.ttest_ind (array1, array2,equal_var)**, т.к. мы проверяем гипотезы о равенстве средних двух совокупностей.\n",
    "\n",
    "В обоих случаях совокупности независимы друг от друга, т.к. в первом случае это пользователи двух разных игровых платформ, а во втором двух разных жанров.\n",
    "\n",
    "**Гипотеза 1:**\n",
    "\n",
    "- Н0 средние пользовательские рейтинги платформ Xbox One и PC одинаковые;\n",
    "- Н1 средние пользовательские рейтинги платформ Xbox One и PC различаются.\n",
    "\n",
    "Гипотеза двусторонняя, т.к. нет в задании уточнения, в какую сторону отличаются средние.\n",
    "\n",
    "**Гипотеза 2:**\n",
    "\n",
    "- Н0 средние пользовательские рейтинги жанров Action и Sports одинаковые;\n",
    "- Н1 средние пользовательские рейтинги жанров Action и Sports разные.\n",
    "\n",
    "Гипотеза двусторонняя, т.к. нет в задании уточнения, в какую сторону отличаются средние.\n",
    "\n",
    "Величину **alpha** возьмем общепринятую, равную 5%.\n",
    "\n",
    "Подготовим данные для проверки каждой гипотезы."
   ]
  },
  {
   "cell_type": "markdown",
   "metadata": {},
   "source": [
    "### Подготовка данных для проверки гипотез"
   ]
  },
  {
   "cell_type": "markdown",
   "metadata": {},
   "source": [
    "Подготовим датасеты для проверки гипотез из общего датасета. Сначала выделим датасет с играми по платформам, для проверки первой гипотезы; затем выделим датасет с играми жанров Action и Sports, для проверки второй гипотезы."
   ]
  },
  {
   "cell_type": "code",
   "execution_count": 68,
   "metadata": {},
   "outputs": [],
   "source": [
    "xbox_one = games_actual_period[games_actual_period['platform'] == 'xone']\n",
    "pc = games_actual_period[games_actual_period['platform'] == 'pc']"
   ]
  },
  {
   "cell_type": "code",
   "execution_count": 69,
   "metadata": {},
   "outputs": [
    {
     "name": "stdout",
     "output_type": "stream",
     "text": [
      "<class 'pandas.core.frame.DataFrame'>\n",
      "Int64Index: 247 entries, 99 to 16672\n",
      "Data columns (total 12 columns):\n",
      "game_name          247 non-null object\n",
      "platform           247 non-null object\n",
      "year_of_release    247 non-null int64\n",
      "game_genre         247 non-null object\n",
      "na_sales           247 non-null float64\n",
      "eu_sales           247 non-null float64\n",
      "jp_sales           247 non-null float64\n",
      "other_sales        247 non-null float64\n",
      "critic_score       169 non-null float64\n",
      "user_score         182 non-null float64\n",
      "esrb_rating        247 non-null object\n",
      "total_sales        247 non-null float64\n",
      "dtypes: float64(7), int64(1), object(4)\n",
      "memory usage: 25.1+ KB\n"
     ]
    }
   ],
   "source": [
    "xbox_one.info()"
   ]
  },
  {
   "cell_type": "code",
   "execution_count": 70,
   "metadata": {},
   "outputs": [
    {
     "name": "stdout",
     "output_type": "stream",
     "text": [
      "<class 'pandas.core.frame.DataFrame'>\n",
      "Int64Index: 479 entries, 192 to 16702\n",
      "Data columns (total 12 columns):\n",
      "game_name          479 non-null object\n",
      "platform           479 non-null object\n",
      "year_of_release    479 non-null int64\n",
      "game_genre         479 non-null object\n",
      "na_sales           479 non-null float64\n",
      "eu_sales           479 non-null float64\n",
      "jp_sales           479 non-null float64\n",
      "other_sales        479 non-null float64\n",
      "critic_score       350 non-null float64\n",
      "user_score         374 non-null float64\n",
      "esrb_rating        479 non-null object\n",
      "total_sales        479 non-null float64\n",
      "dtypes: float64(7), int64(1), object(4)\n",
      "memory usage: 48.6+ KB\n"
     ]
    }
   ],
   "source": [
    "pc.info()"
   ]
  },
  {
   "cell_type": "markdown",
   "metadata": {},
   "source": [
    "Теперь сформируем датасеты по жанрам для проверки второй гипотезы."
   ]
  },
  {
   "cell_type": "code",
   "execution_count": 71,
   "metadata": {},
   "outputs": [],
   "source": [
    "action = games_actual_period[games_actual_period['game_genre'] == 'action']\n",
    "sports = games_actual_period[games_actual_period['game_genre'] == 'sports']"
   ]
  },
  {
   "cell_type": "code",
   "execution_count": 72,
   "metadata": {},
   "outputs": [
    {
     "name": "stdout",
     "output_type": "stream",
     "text": [
      "<class 'pandas.core.frame.DataFrame'>\n",
      "Int64Index: 1495 entries, 16 to 16710\n",
      "Data columns (total 12 columns):\n",
      "game_name          1495 non-null object\n",
      "platform           1495 non-null object\n",
      "year_of_release    1495 non-null int64\n",
      "game_genre         1495 non-null object\n",
      "na_sales           1495 non-null float64\n",
      "eu_sales           1495 non-null float64\n",
      "jp_sales           1495 non-null float64\n",
      "other_sales        1495 non-null float64\n",
      "critic_score       712 non-null float64\n",
      "user_score         779 non-null float64\n",
      "esrb_rating        1495 non-null object\n",
      "total_sales        1495 non-null float64\n",
      "dtypes: float64(7), int64(1), object(4)\n",
      "memory usage: 151.8+ KB\n"
     ]
    }
   ],
   "source": [
    "action.info()"
   ]
  },
  {
   "cell_type": "code",
   "execution_count": 73,
   "metadata": {},
   "outputs": [
    {
     "name": "stdout",
     "output_type": "stream",
     "text": [
      "<class 'pandas.core.frame.DataFrame'>\n",
      "Int64Index: 575 entries, 77 to 16688\n",
      "Data columns (total 12 columns):\n",
      "game_name          575 non-null object\n",
      "platform           575 non-null object\n",
      "year_of_release    575 non-null int64\n",
      "game_genre         575 non-null object\n",
      "na_sales           575 non-null float64\n",
      "eu_sales           575 non-null float64\n",
      "jp_sales           575 non-null float64\n",
      "other_sales        575 non-null float64\n",
      "critic_score       264 non-null float64\n",
      "user_score         315 non-null float64\n",
      "esrb_rating        575 non-null object\n",
      "total_sales        575 non-null float64\n",
      "dtypes: float64(7), int64(1), object(4)\n",
      "memory usage: 58.4+ KB\n"
     ]
    }
   ],
   "source": [
    "sports.info()"
   ]
  },
  {
   "cell_type": "markdown",
   "metadata": {},
   "source": [
    "После формирования датасетов, получилось так, что они имеют разные размеры (и для первой и для второй гипотезы). Данные по оценкам пользователей для Xbox One имеют всего 182 записи, для PC 457. Для Action 936, для Sports 400. Т.е. не будет выполняться одно из условий для проверки равенства средних двух генеральных совокупностей. Сделаем из генеральных совокупностей выборки по 150 значений для первой гипотезы и по 300 для второй; и будем проводить проверку гипотезы на них.\n",
    "\n",
    "Параметр **equal_var** в этом случае оставим при проверке гипотез по умолчанию равный True, т.к. мы сделали выполнение условий о равных дисперсиях."
   ]
  },
  {
   "cell_type": "code",
   "execution_count": 74,
   "metadata": {},
   "outputs": [],
   "source": [
    "xbox_one_for_hypothesis = xbox_one['user_score'].dropna().sample(150)\n",
    "pc_for_hypothesis = pc['user_score'].dropna().sample(150)\n",
    "\n",
    "action_for_hypothesis = action['user_score'].dropna().sample(300)\n",
    "sports_for_hypothesis = sports['user_score'].dropna().sample(300)"
   ]
  },
  {
   "cell_type": "code",
   "execution_count": 75,
   "metadata": {},
   "outputs": [],
   "source": [
    "alpha = 0.05"
   ]
  },
  {
   "cell_type": "markdown",
   "metadata": {},
   "source": [
    "### Проверка Гипотезы 1"
   ]
  },
  {
   "cell_type": "code",
   "execution_count": 76,
   "metadata": {
    "scrolled": true
   },
   "outputs": [
    {
     "name": "stdout",
     "output_type": "stream",
     "text": [
      "p-значение: 0.7893177500704467\n",
      "Не получилось отвергнуть нулевую гипотезу\n"
     ]
    }
   ],
   "source": [
    "results = st.ttest_ind(xbox_one_for_hypothesis, pc_for_hypothesis)\n",
    "print('p-значение:', results.pvalue)\n",
    "\n",
    "if (results.pvalue < alpha):\n",
    "    print(\"Отвергаем нулевую гипотезу\")\n",
    "else:\n",
    "    print(\"Не получилось отвергнуть нулевую гипотезу\")"
   ]
  },
  {
   "cell_type": "markdown",
   "metadata": {},
   "source": [
    "По результатам проверки не получилось отвергнуть гипотезу о равных оценках пользователей Xbox One и PC."
   ]
  },
  {
   "cell_type": "markdown",
   "metadata": {},
   "source": [
    "### Проверка гипотезы 2"
   ]
  },
  {
   "cell_type": "code",
   "execution_count": 77,
   "metadata": {
    "scrolled": true
   },
   "outputs": [
    {
     "name": "stdout",
     "output_type": "stream",
     "text": [
      "p-значение: 5.874698729390137e-14\n",
      "Отвергаем нулевую гипотезу\n"
     ]
    }
   ],
   "source": [
    "results = st.ttest_ind(action_for_hypothesis, sports_for_hypothesis)\n",
    "print('p-значение:', results.pvalue)\n",
    "\n",
    "if (results.pvalue < alpha):\n",
    "    print(\"Отвергаем нулевую гипотезу\")\n",
    "else:\n",
    "    print(\"Не получилось отвергнуть нулевую гипотезу\")"
   ]
  },
  {
   "cell_type": "markdown",
   "metadata": {},
   "source": [
    "По результатам проверки гипотезы получилось отвергнуть гипотезу, о том, что пользовательские оценки жанров Sports и Action одинаковые."
   ]
  },
  {
   "cell_type": "markdown",
   "metadata": {},
   "source": [
    "**Вывод** "
   ]
  },
  {
   "cell_type": "markdown",
   "metadata": {},
   "source": [
    "По результатам статистического анализа данных. Не получилось отвергнуть первую гипотезу, т.е. оценки игроков PC и XboxOne могут быть равными; и получилось отвергнуть вторую гипотезу, т.е. оценки игр экшн и спортивного жанра действительно могут отличаться."
   ]
  },
  {
   "cell_type": "markdown",
   "metadata": {},
   "source": [
    "<div class=\"alert alert-success\">\n",
    "<b>✔️ </b> \n",
    "<br> Проверка гипотез выполнена верно, соглашусь с результатами и выводами выше! Корректно использование `st.ttest_ind()` метода\n",
    "</div>\n"
   ]
  },
  {
   "cell_type": "markdown",
   "metadata": {},
   "source": [
    "## Общий вывод и рекомендации"
   ]
  },
  {
   "cell_type": "markdown",
   "metadata": {},
   "source": [
    "### Вывод"
   ]
  },
  {
   "cell_type": "markdown",
   "metadata": {},
   "source": [
    "Данные, полученные для анализа, находятся в хорошем состоянии. На этапе предварительной обработки данных потребовалось относительно небольшое преобразование в виде применения корректной типизации по столбцам, заполения пропусков в текстовых столбцах и небольшого \"пасхального\" преобразования для столбца с данными о годах выхода игр.\n",
    "\n",
    "В результате исследовательского анализа данных были получены следующие результаты:\n",
    "\n",
    "- проанализированы даты выхода игр, отмечены периоды наиболее активного роста игрового рынка с самым большим пиком в 2008 году, после которого наблюдался период стагнации, с 2014 года отмечается очередной рост игрового рынка;\n",
    "- составлен рейтинг самых популярных платформ по уровню продаж;\n",
    "- получен период сменяемости поколений платформ - 7 лет;\n",
    "- выделен актуальный период для игрового рынка, данные по которому использовались в дальшейшей работе (период с 2010 года)\n",
    "- для данного периода выделены самые перспективные платформы - консоли PS и Xbox;\n",
    "- проанализирована корреляция продаж и оценок пользователей и критиков;\n",
    "- составлен топ-рейтинг жанров;\n",
    "- составлены портрерты пользователей для каждого региона продаж.\n",
    "\n",
    "В статистическом анализе данных были проверены 2 гипотезы, первая о равенстве оценок пользователей платформ PC и Xbox One (не удалось отвергнуть гипотезу); вторая о равенстве оценок пользователей жанров Sports и Action (удалось отвергнуть гипотезу).\n",
    "\n",
    "Суммируя полученные данные удалось составить рекомендацию на стратегию развития магазина компьютерных игр."
   ]
  },
  {
   "cell_type": "markdown",
   "metadata": {},
   "source": [
    "### Рекомендации"
   ]
  },
  {
   "cell_type": "markdown",
   "metadata": {},
   "source": [
    "Отвечая на главный вопрос кейса - какие закономерности определяют успешность игры, можно сформулировать следующее:\n",
    "\n",
    "- максимальной успешности в достигают игры жанра Action или Shooter, выпущенные в мультиплатформенном варианте, т.е. сразу на 2 главных платформах - Xbox и PS. \n",
    "\n",
    "Поэтому на будущий год при составлении рекламной компании для европейского и североамериканского региона:\n",
    "- стоит сделать ставку на продукты для консолей Xbox и Playstation, жанров Action, Shooter, Sports.\n",
    "\n",
    "Для японского рынка рекомендуется подобрать отдельную стратегию продвижения и сделать больший упор:\n",
    "- на RPG, для консолей Playstation и Nintendo, в связи с сильным отличием портрета пользователя на западе и в Японии.\n",
    "\n",
    "- Также при продвижении продуктов стоит обращать внимание на оценки критиков - несмотря на слабую корреляцию продаж и оценок, игры с оценкой выше 60 продаются лучше."
   ]
  },
  {
   "cell_type": "markdown",
   "metadata": {},
   "source": [
    "<div class=\"alert alert-success\">\n",
    "<b>✔️<a class=\"tocSkip\"></b>\n",
    "\n",
    "Общий вывод написан на высшем уровне (особенно классно, что он верно структурирован, и есть рекомендации), подчеркнуты все важные полученные результаты, а также этапы решения данной задачи - клиенты ценят подробный аналитический отчет. Так держать!\n",
    "    \n",
    "Проект принят, спасибо за хорошую работу👍\n",
    "\n",
    "</div>"
   ]
  },
  {
   "cell_type": "code",
   "execution_count": null,
   "metadata": {},
   "outputs": [],
   "source": []
  }
 ],
 "metadata": {
  "ExecuteTimeLog": [
   {
    "duration": 1105,
    "start_time": "2022-01-24T16:21:41.747Z"
   },
   {
    "duration": 3,
    "start_time": "2022-01-24T16:24:02.626Z"
   },
   {
    "duration": 42,
    "start_time": "2022-01-24T16:24:28.224Z"
   },
   {
    "duration": 20,
    "start_time": "2022-01-24T16:24:33.871Z"
   },
   {
    "duration": 2,
    "start_time": "2022-01-24T16:50:40.756Z"
   },
   {
    "duration": 1047,
    "start_time": "2022-01-24T16:56:41.500Z"
   },
   {
    "duration": 3,
    "start_time": "2022-01-24T16:56:42.549Z"
   },
   {
    "duration": 22,
    "start_time": "2022-01-24T16:56:42.556Z"
   },
   {
    "duration": 67,
    "start_time": "2022-01-24T16:56:42.580Z"
   },
   {
    "duration": 23,
    "start_time": "2022-01-24T16:56:42.649Z"
   },
   {
    "duration": 10,
    "start_time": "2022-01-24T16:57:19.814Z"
   },
   {
    "duration": 10,
    "start_time": "2022-01-24T16:57:25.859Z"
   },
   {
    "duration": 290,
    "start_time": "2022-01-24T16:57:40.171Z"
   },
   {
    "duration": 17,
    "start_time": "2022-01-24T16:57:46.727Z"
   },
   {
    "duration": 10,
    "start_time": "2022-01-24T16:59:45.272Z"
   },
   {
    "duration": 41,
    "start_time": "2022-01-24T16:59:54.829Z"
   },
   {
    "duration": 20,
    "start_time": "2022-01-24T17:00:04.357Z"
   },
   {
    "duration": 13,
    "start_time": "2022-01-24T17:00:26.940Z"
   },
   {
    "duration": 13,
    "start_time": "2022-01-24T17:00:33.048Z"
   },
   {
    "duration": 20,
    "start_time": "2022-01-24T17:00:38.336Z"
   },
   {
    "duration": 19,
    "start_time": "2022-01-24T17:00:45.955Z"
   },
   {
    "duration": 12,
    "start_time": "2022-01-24T17:06:08.482Z"
   },
   {
    "duration": 17,
    "start_time": "2022-01-24T17:06:17.627Z"
   },
   {
    "duration": 862,
    "start_time": "2022-01-24T17:15:28.107Z"
   },
   {
    "duration": 812,
    "start_time": "2022-01-24T17:16:18.288Z"
   },
   {
    "duration": 3,
    "start_time": "2022-01-24T17:17:16.667Z"
   },
   {
    "duration": 11,
    "start_time": "2022-01-24T17:17:33.945Z"
   },
   {
    "duration": 8,
    "start_time": "2022-01-24T17:20:26.435Z"
   },
   {
    "duration": 11,
    "start_time": "2022-01-24T17:20:27.737Z"
   },
   {
    "duration": 7,
    "start_time": "2022-01-24T17:23:47.806Z"
   },
   {
    "duration": 11,
    "start_time": "2022-01-24T17:23:54.973Z"
   },
   {
    "duration": 13,
    "start_time": "2022-01-24T17:24:02.589Z"
   },
   {
    "duration": 7,
    "start_time": "2022-01-24T17:26:26.882Z"
   },
   {
    "duration": 11,
    "start_time": "2022-01-24T17:26:28.159Z"
   },
   {
    "duration": 11,
    "start_time": "2022-01-24T17:26:29.268Z"
   },
   {
    "duration": 208,
    "start_time": "2022-01-24T17:27:10.175Z"
   },
   {
    "duration": 204,
    "start_time": "2022-01-24T17:27:15.536Z"
   },
   {
    "duration": 6,
    "start_time": "2022-01-24T17:27:41.259Z"
   },
   {
    "duration": 10,
    "start_time": "2022-01-24T17:27:45.952Z"
   },
   {
    "duration": 12,
    "start_time": "2022-01-24T17:27:46.985Z"
   },
   {
    "duration": 12,
    "start_time": "2022-01-24T17:27:53.941Z"
   },
   {
    "duration": 7,
    "start_time": "2022-01-24T17:32:37.656Z"
   },
   {
    "duration": 13,
    "start_time": "2022-01-24T17:32:53.062Z"
   },
   {
    "duration": 6,
    "start_time": "2022-01-24T17:33:13.646Z"
   },
   {
    "duration": 334,
    "start_time": "2022-01-24T17:33:58.414Z"
   },
   {
    "duration": 10,
    "start_time": "2022-01-24T17:34:06.633Z"
   },
   {
    "duration": 3,
    "start_time": "2022-01-24T17:34:16.640Z"
   },
   {
    "duration": 11,
    "start_time": "2022-01-24T17:34:23.010Z"
   },
   {
    "duration": 14,
    "start_time": "2022-01-24T17:34:28.844Z"
   },
   {
    "duration": 10,
    "start_time": "2022-01-24T17:34:43.241Z"
   },
   {
    "duration": 285,
    "start_time": "2022-01-24T17:35:27.895Z"
   },
   {
    "duration": 9,
    "start_time": "2022-01-24T17:37:34.106Z"
   },
   {
    "duration": 202,
    "start_time": "2022-01-24T17:37:49.741Z"
   },
   {
    "duration": 19,
    "start_time": "2022-01-24T17:37:54.903Z"
   },
   {
    "duration": 6,
    "start_time": "2022-01-24T17:38:32.811Z"
   },
   {
    "duration": 14,
    "start_time": "2022-01-24T17:38:50.917Z"
   },
   {
    "duration": 8,
    "start_time": "2022-01-24T17:43:04.129Z"
   },
   {
    "duration": 12,
    "start_time": "2022-01-24T17:43:12.235Z"
   },
   {
    "duration": 1097,
    "start_time": "2022-01-24T17:46:52.163Z"
   },
   {
    "duration": 3,
    "start_time": "2022-01-24T17:46:53.262Z"
   },
   {
    "duration": 23,
    "start_time": "2022-01-24T17:46:53.271Z"
   },
   {
    "duration": 80,
    "start_time": "2022-01-24T17:46:53.297Z"
   },
   {
    "duration": 11,
    "start_time": "2022-01-24T17:46:53.379Z"
   },
   {
    "duration": 76,
    "start_time": "2022-01-24T17:46:53.392Z"
   },
   {
    "duration": 34,
    "start_time": "2022-01-24T17:46:53.470Z"
   },
   {
    "duration": 23,
    "start_time": "2022-01-24T17:46:53.507Z"
   },
   {
    "duration": 11,
    "start_time": "2022-01-24T17:46:53.532Z"
   },
   {
    "duration": 10,
    "start_time": "2022-01-24T17:46:53.545Z"
   },
   {
    "duration": 9,
    "start_time": "2022-01-24T17:46:53.557Z"
   },
   {
    "duration": 15,
    "start_time": "2022-01-24T17:46:53.567Z"
   },
   {
    "duration": 9,
    "start_time": "2022-01-24T17:46:53.584Z"
   },
   {
    "duration": 12,
    "start_time": "2022-01-24T17:46:53.595Z"
   },
   {
    "duration": 6,
    "start_time": "2022-01-24T17:47:59.641Z"
   },
   {
    "duration": 8,
    "start_time": "2022-01-24T17:49:24.909Z"
   },
   {
    "duration": 8,
    "start_time": "2022-01-24T17:50:18.698Z"
   },
   {
    "duration": 12,
    "start_time": "2022-01-24T17:50:19.732Z"
   },
   {
    "duration": 11,
    "start_time": "2022-01-24T17:50:23.245Z"
   },
   {
    "duration": 14,
    "start_time": "2022-01-24T17:51:42.152Z"
   },
   {
    "duration": 1105,
    "start_time": "2022-01-24T17:52:55.550Z"
   },
   {
    "duration": 4,
    "start_time": "2022-01-24T17:52:56.657Z"
   },
   {
    "duration": 7,
    "start_time": "2022-01-24T17:52:56.663Z"
   },
   {
    "duration": 43,
    "start_time": "2022-01-24T17:52:56.672Z"
   },
   {
    "duration": 10,
    "start_time": "2022-01-24T17:52:56.717Z"
   },
   {
    "duration": 37,
    "start_time": "2022-01-24T17:52:56.729Z"
   },
   {
    "duration": 10,
    "start_time": "2022-01-24T17:52:56.768Z"
   },
   {
    "duration": 5,
    "start_time": "2022-01-24T17:52:56.779Z"
   },
   {
    "duration": 7,
    "start_time": "2022-01-24T17:52:56.786Z"
   },
   {
    "duration": 10,
    "start_time": "2022-01-24T17:52:56.795Z"
   },
   {
    "duration": 7,
    "start_time": "2022-01-24T17:52:56.807Z"
   },
   {
    "duration": 16,
    "start_time": "2022-01-24T17:52:56.816Z"
   },
   {
    "duration": 28,
    "start_time": "2022-01-24T17:52:56.834Z"
   },
   {
    "duration": 18,
    "start_time": "2022-01-24T17:52:56.864Z"
   },
   {
    "duration": 6,
    "start_time": "2022-01-24T17:52:56.884Z"
   },
   {
    "duration": 15,
    "start_time": "2022-01-24T17:52:56.891Z"
   },
   {
    "duration": 29,
    "start_time": "2022-01-24T17:52:56.908Z"
   },
   {
    "duration": 7,
    "start_time": "2022-01-24T17:52:56.939Z"
   },
   {
    "duration": 19,
    "start_time": "2022-01-24T17:52:56.947Z"
   },
   {
    "duration": 10,
    "start_time": "2022-01-24T17:52:56.968Z"
   },
   {
    "duration": 5,
    "start_time": "2022-01-24T17:57:58.257Z"
   },
   {
    "duration": 5,
    "start_time": "2022-01-24T17:58:04.058Z"
   },
   {
    "duration": 63,
    "start_time": "2022-01-24T17:58:45.064Z"
   },
   {
    "duration": 13,
    "start_time": "2022-01-24T17:59:04.108Z"
   },
   {
    "duration": 19,
    "start_time": "2022-01-24T17:59:09.676Z"
   },
   {
    "duration": 1423,
    "start_time": "2022-01-24T17:59:20.606Z"
   },
   {
    "duration": 1035,
    "start_time": "2022-01-24T17:59:41.519Z"
   },
   {
    "duration": 2,
    "start_time": "2022-01-24T17:59:42.557Z"
   },
   {
    "duration": 4,
    "start_time": "2022-01-24T17:59:42.562Z"
   },
   {
    "duration": 39,
    "start_time": "2022-01-24T17:59:42.568Z"
   },
   {
    "duration": 10,
    "start_time": "2022-01-24T17:59:42.609Z"
   },
   {
    "duration": 40,
    "start_time": "2022-01-24T17:59:42.621Z"
   },
   {
    "duration": 11,
    "start_time": "2022-01-24T17:59:42.663Z"
   },
   {
    "duration": 3,
    "start_time": "2022-01-24T17:59:42.676Z"
   },
   {
    "duration": 8,
    "start_time": "2022-01-24T17:59:42.681Z"
   },
   {
    "duration": 11,
    "start_time": "2022-01-24T17:59:42.690Z"
   },
   {
    "duration": 6,
    "start_time": "2022-01-24T17:59:42.703Z"
   },
   {
    "duration": 11,
    "start_time": "2022-01-24T17:59:42.711Z"
   },
   {
    "duration": 9,
    "start_time": "2022-01-24T17:59:42.760Z"
   },
   {
    "duration": 13,
    "start_time": "2022-01-24T17:59:42.770Z"
   },
   {
    "duration": 5,
    "start_time": "2022-01-24T17:59:42.784Z"
   },
   {
    "duration": 10,
    "start_time": "2022-01-24T17:59:42.791Z"
   },
   {
    "duration": 14,
    "start_time": "2022-01-24T17:59:42.802Z"
   },
   {
    "duration": 7,
    "start_time": "2022-01-24T17:59:42.818Z"
   },
   {
    "duration": 10,
    "start_time": "2022-01-24T17:59:42.827Z"
   },
   {
    "duration": 7,
    "start_time": "2022-01-24T17:59:42.861Z"
   },
   {
    "duration": 16,
    "start_time": "2022-01-24T17:59:42.869Z"
   },
   {
    "duration": 12,
    "start_time": "2022-01-24T17:59:42.886Z"
   },
   {
    "duration": 8,
    "start_time": "2022-01-24T18:00:08.943Z"
   },
   {
    "duration": 12,
    "start_time": "2022-01-24T18:00:10.189Z"
   },
   {
    "duration": 11,
    "start_time": "2022-01-24T18:00:12.251Z"
   },
   {
    "duration": 29,
    "start_time": "2022-01-24T18:03:23.532Z"
   },
   {
    "duration": 6,
    "start_time": "2022-01-24T18:05:19.256Z"
   },
   {
    "duration": 85,
    "start_time": "2022-01-24T18:05:24.113Z"
   },
   {
    "duration": 6,
    "start_time": "2022-01-24T18:05:28.044Z"
   },
   {
    "duration": 6,
    "start_time": "2022-01-24T18:05:55.013Z"
   },
   {
    "duration": 9,
    "start_time": "2022-01-24T18:07:25.065Z"
   },
   {
    "duration": 6,
    "start_time": "2022-01-24T18:07:33.347Z"
   },
   {
    "duration": 9,
    "start_time": "2022-01-24T18:08:05.741Z"
   },
   {
    "duration": 5,
    "start_time": "2022-01-24T18:09:25.160Z"
   },
   {
    "duration": 27,
    "start_time": "2022-01-24T18:11:09.066Z"
   },
   {
    "duration": 6,
    "start_time": "2022-01-24T18:11:10.426Z"
   },
   {
    "duration": 7441,
    "start_time": "2022-01-24T18:15:22.361Z"
   },
   {
    "duration": 39,
    "start_time": "2022-01-24T18:17:41.490Z"
   },
   {
    "duration": 63,
    "start_time": "2022-01-24T18:19:07.866Z"
   },
   {
    "duration": 1140,
    "start_time": "2022-01-24T18:19:45.131Z"
   },
   {
    "duration": 3,
    "start_time": "2022-01-24T18:19:46.273Z"
   },
   {
    "duration": 10,
    "start_time": "2022-01-24T18:19:46.278Z"
   },
   {
    "duration": 49,
    "start_time": "2022-01-24T18:19:46.290Z"
   },
   {
    "duration": 11,
    "start_time": "2022-01-24T18:19:46.341Z"
   },
   {
    "duration": 36,
    "start_time": "2022-01-24T18:19:46.353Z"
   },
   {
    "duration": 12,
    "start_time": "2022-01-24T18:19:46.391Z"
   },
   {
    "duration": 17,
    "start_time": "2022-01-24T18:19:46.405Z"
   },
   {
    "duration": 23,
    "start_time": "2022-01-24T18:19:46.425Z"
   },
   {
    "duration": 20,
    "start_time": "2022-01-24T18:19:46.451Z"
   },
   {
    "duration": 28,
    "start_time": "2022-01-24T18:19:46.472Z"
   },
   {
    "duration": 21,
    "start_time": "2022-01-24T18:19:46.502Z"
   },
   {
    "duration": 26,
    "start_time": "2022-01-24T18:19:46.525Z"
   },
   {
    "duration": 31,
    "start_time": "2022-01-24T18:19:46.553Z"
   },
   {
    "duration": 21,
    "start_time": "2022-01-24T18:19:46.586Z"
   },
   {
    "duration": 36,
    "start_time": "2022-01-24T18:19:46.609Z"
   },
   {
    "duration": 18,
    "start_time": "2022-01-24T18:19:46.647Z"
   },
   {
    "duration": 26,
    "start_time": "2022-01-24T18:19:46.667Z"
   },
   {
    "duration": 30,
    "start_time": "2022-01-24T18:19:46.695Z"
   },
   {
    "duration": 21,
    "start_time": "2022-01-24T18:19:46.727Z"
   },
   {
    "duration": 35,
    "start_time": "2022-01-24T18:19:46.749Z"
   },
   {
    "duration": 36,
    "start_time": "2022-01-24T18:19:46.786Z"
   },
   {
    "duration": 23,
    "start_time": "2022-01-24T18:19:46.824Z"
   },
   {
    "duration": 26,
    "start_time": "2022-01-24T18:19:46.848Z"
   },
   {
    "duration": 40,
    "start_time": "2022-01-24T18:19:46.875Z"
   },
   {
    "duration": 4,
    "start_time": "2022-01-24T18:19:46.916Z"
   },
   {
    "duration": 6,
    "start_time": "2022-01-24T18:19:46.923Z"
   },
   {
    "duration": 29,
    "start_time": "2022-01-24T18:19:46.931Z"
   },
   {
    "duration": 4,
    "start_time": "2022-01-24T18:19:46.962Z"
   },
   {
    "duration": 71,
    "start_time": "2022-01-24T18:19:46.968Z"
   },
   {
    "duration": 44,
    "start_time": "2022-01-24T18:19:47.040Z"
   },
   {
    "duration": 14,
    "start_time": "2022-01-24T18:20:14.047Z"
   },
   {
    "duration": 288,
    "start_time": "2022-01-24T18:20:57.085Z"
   },
   {
    "duration": 18,
    "start_time": "2022-01-24T18:21:43.813Z"
   },
   {
    "duration": 1073,
    "start_time": "2022-01-24T18:21:49.087Z"
   },
   {
    "duration": 3,
    "start_time": "2022-01-24T18:21:50.162Z"
   },
   {
    "duration": 6,
    "start_time": "2022-01-24T18:21:50.167Z"
   },
   {
    "duration": 42,
    "start_time": "2022-01-24T18:21:50.175Z"
   },
   {
    "duration": 12,
    "start_time": "2022-01-24T18:21:50.220Z"
   },
   {
    "duration": 39,
    "start_time": "2022-01-24T18:21:50.234Z"
   },
   {
    "duration": 11,
    "start_time": "2022-01-24T18:21:50.274Z"
   },
   {
    "duration": 3,
    "start_time": "2022-01-24T18:21:50.288Z"
   },
   {
    "duration": 9,
    "start_time": "2022-01-24T18:21:50.293Z"
   },
   {
    "duration": 10,
    "start_time": "2022-01-24T18:21:50.303Z"
   },
   {
    "duration": 9,
    "start_time": "2022-01-24T18:21:50.314Z"
   },
   {
    "duration": 39,
    "start_time": "2022-01-24T18:21:50.324Z"
   },
   {
    "duration": 7,
    "start_time": "2022-01-24T18:21:50.365Z"
   },
   {
    "duration": 12,
    "start_time": "2022-01-24T18:21:50.374Z"
   },
   {
    "duration": 6,
    "start_time": "2022-01-24T18:21:50.388Z"
   },
   {
    "duration": 8,
    "start_time": "2022-01-24T18:21:50.395Z"
   },
   {
    "duration": 16,
    "start_time": "2022-01-24T18:21:50.405Z"
   },
   {
    "duration": 38,
    "start_time": "2022-01-24T18:21:50.423Z"
   },
   {
    "duration": 11,
    "start_time": "2022-01-24T18:21:50.463Z"
   },
   {
    "duration": 6,
    "start_time": "2022-01-24T18:21:50.476Z"
   },
   {
    "duration": 13,
    "start_time": "2022-01-24T18:21:50.484Z"
   },
   {
    "duration": 7,
    "start_time": "2022-01-24T18:21:50.499Z"
   },
   {
    "duration": 18,
    "start_time": "2022-01-24T18:21:50.508Z"
   },
   {
    "duration": 33,
    "start_time": "2022-01-24T18:21:50.528Z"
   },
   {
    "duration": 48,
    "start_time": "2022-01-24T18:21:50.563Z"
   },
   {
    "duration": 5,
    "start_time": "2022-01-24T18:21:50.613Z"
   },
   {
    "duration": 24,
    "start_time": "2022-01-24T18:21:50.619Z"
   },
   {
    "duration": 23,
    "start_time": "2022-01-24T18:21:50.645Z"
   },
   {
    "duration": 18,
    "start_time": "2022-01-24T18:21:50.670Z"
   },
   {
    "duration": 22,
    "start_time": "2022-01-24T18:21:50.690Z"
   },
   {
    "duration": 37,
    "start_time": "2022-01-24T18:21:50.714Z"
   },
   {
    "duration": 34,
    "start_time": "2022-01-24T18:21:50.753Z"
   },
   {
    "duration": 5153,
    "start_time": "2022-01-24T18:23:29.535Z"
   },
   {
    "duration": 5,
    "start_time": "2022-01-24T18:23:41.445Z"
   },
   {
    "duration": 15,
    "start_time": "2022-01-24T18:36:06.716Z"
   },
   {
    "duration": 12,
    "start_time": "2022-01-24T18:36:15.467Z"
   },
   {
    "duration": 14,
    "start_time": "2022-01-24T18:36:18.505Z"
   },
   {
    "duration": 16,
    "start_time": "2022-01-24T18:39:07.257Z"
   },
   {
    "duration": 302,
    "start_time": "2022-01-24T18:40:35.623Z"
   },
   {
    "duration": 8,
    "start_time": "2022-01-24T18:40:42.526Z"
   },
   {
    "duration": 8,
    "start_time": "2022-01-24T18:40:58.379Z"
   },
   {
    "duration": 9,
    "start_time": "2022-01-24T18:41:01.738Z"
   },
   {
    "duration": 20,
    "start_time": "2022-01-24T18:41:34.825Z"
   },
   {
    "duration": 20,
    "start_time": "2022-01-24T18:41:42.970Z"
   },
   {
    "duration": 17,
    "start_time": "2022-01-24T18:41:46.913Z"
   },
   {
    "duration": 11,
    "start_time": "2022-01-24T18:44:49.078Z"
   },
   {
    "duration": 20,
    "start_time": "2022-01-24T18:44:50.011Z"
   },
   {
    "duration": 5,
    "start_time": "2022-01-24T18:45:45.103Z"
   },
   {
    "duration": 11,
    "start_time": "2022-01-24T18:45:51.932Z"
   },
   {
    "duration": 16,
    "start_time": "2022-01-24T18:45:56.320Z"
   },
   {
    "duration": 658,
    "start_time": "2022-01-24T18:46:43.737Z"
   },
   {
    "duration": 12,
    "start_time": "2022-01-24T18:46:52.833Z"
   },
   {
    "duration": 4,
    "start_time": "2022-01-24T18:48:28.727Z"
   },
   {
    "duration": 8,
    "start_time": "2022-01-24T18:48:33.421Z"
   },
   {
    "duration": 7,
    "start_time": "2022-01-24T18:50:53.765Z"
   },
   {
    "duration": 15,
    "start_time": "2022-01-24T18:52:07.866Z"
   },
   {
    "duration": 7,
    "start_time": "2022-01-24T18:55:01.925Z"
   },
   {
    "duration": 14,
    "start_time": "2022-01-24T18:56:51.661Z"
   },
   {
    "duration": 12,
    "start_time": "2022-01-24T18:56:58.755Z"
   },
   {
    "duration": 14,
    "start_time": "2022-01-24T18:57:13.738Z"
   },
   {
    "duration": 318,
    "start_time": "2022-01-24T19:17:43.766Z"
   },
   {
    "duration": 322,
    "start_time": "2022-01-24T19:18:05.407Z"
   },
   {
    "duration": 264,
    "start_time": "2022-01-24T19:19:01.824Z"
   },
   {
    "duration": 319,
    "start_time": "2022-01-24T19:19:16.756Z"
   },
   {
    "duration": 291,
    "start_time": "2022-01-24T19:19:25.480Z"
   },
   {
    "duration": 258,
    "start_time": "2022-01-24T19:31:10.457Z"
   },
   {
    "duration": 358,
    "start_time": "2022-01-25T17:05:24.747Z"
   },
   {
    "duration": 1443,
    "start_time": "2022-01-25T17:05:36.358Z"
   },
   {
    "duration": 4,
    "start_time": "2022-01-25T17:05:37.804Z"
   },
   {
    "duration": 11,
    "start_time": "2022-01-25T17:05:37.811Z"
   },
   {
    "duration": 48,
    "start_time": "2022-01-25T17:05:37.833Z"
   },
   {
    "duration": 17,
    "start_time": "2022-01-25T17:05:37.883Z"
   },
   {
    "duration": 61,
    "start_time": "2022-01-25T17:05:37.902Z"
   },
   {
    "duration": 18,
    "start_time": "2022-01-25T17:05:37.965Z"
   },
   {
    "duration": 6,
    "start_time": "2022-01-25T17:05:37.988Z"
   },
   {
    "duration": 10,
    "start_time": "2022-01-25T17:05:38.036Z"
   },
   {
    "duration": 17,
    "start_time": "2022-01-25T17:05:38.049Z"
   },
   {
    "duration": 9,
    "start_time": "2022-01-25T17:05:38.068Z"
   },
   {
    "duration": 22,
    "start_time": "2022-01-25T17:05:38.080Z"
   },
   {
    "duration": 35,
    "start_time": "2022-01-25T17:05:38.104Z"
   },
   {
    "duration": 15,
    "start_time": "2022-01-25T17:05:38.142Z"
   },
   {
    "duration": 6,
    "start_time": "2022-01-25T17:05:38.160Z"
   },
   {
    "duration": 11,
    "start_time": "2022-01-25T17:05:38.168Z"
   },
   {
    "duration": 51,
    "start_time": "2022-01-25T17:05:38.181Z"
   },
   {
    "duration": 7,
    "start_time": "2022-01-25T17:05:38.235Z"
   },
   {
    "duration": 20,
    "start_time": "2022-01-25T17:05:38.244Z"
   },
   {
    "duration": 9,
    "start_time": "2022-01-25T17:05:38.266Z"
   },
   {
    "duration": 54,
    "start_time": "2022-01-25T17:05:38.278Z"
   },
   {
    "duration": 11,
    "start_time": "2022-01-25T17:05:38.335Z"
   },
   {
    "duration": 13,
    "start_time": "2022-01-25T17:05:38.351Z"
   },
   {
    "duration": 17,
    "start_time": "2022-01-25T17:05:38.367Z"
   },
   {
    "duration": 73,
    "start_time": "2022-01-25T17:05:38.387Z"
   },
   {
    "duration": 6,
    "start_time": "2022-01-25T17:05:38.463Z"
   },
   {
    "duration": 10,
    "start_time": "2022-01-25T17:05:38.471Z"
   },
   {
    "duration": 50,
    "start_time": "2022-01-25T17:05:38.484Z"
   },
   {
    "duration": 15,
    "start_time": "2022-01-25T17:05:38.536Z"
   },
   {
    "duration": 14,
    "start_time": "2022-01-25T17:05:38.553Z"
   },
   {
    "duration": 31,
    "start_time": "2022-01-25T17:05:38.569Z"
   },
   {
    "duration": 51,
    "start_time": "2022-01-25T17:05:38.603Z"
   },
   {
    "duration": 15,
    "start_time": "2022-01-25T17:05:38.656Z"
   },
   {
    "duration": 12,
    "start_time": "2022-01-25T17:05:38.674Z"
   },
   {
    "duration": 62,
    "start_time": "2022-01-25T17:05:38.689Z"
   },
   {
    "duration": 8,
    "start_time": "2022-01-25T17:05:38.754Z"
   },
   {
    "duration": 11,
    "start_time": "2022-01-25T17:05:38.765Z"
   },
   {
    "duration": 16,
    "start_time": "2022-01-25T17:05:38.779Z"
   },
   {
    "duration": 55,
    "start_time": "2022-01-25T17:05:38.798Z"
   },
   {
    "duration": 9,
    "start_time": "2022-01-25T17:05:38.856Z"
   },
   {
    "duration": 15,
    "start_time": "2022-01-25T17:05:38.868Z"
   },
   {
    "duration": 58,
    "start_time": "2022-01-25T17:05:38.886Z"
   },
   {
    "duration": 19,
    "start_time": "2022-01-25T17:05:38.946Z"
   },
   {
    "duration": 14,
    "start_time": "2022-01-25T17:05:38.968Z"
   },
   {
    "duration": 50,
    "start_time": "2022-01-25T17:05:38.984Z"
   },
   {
    "duration": 492,
    "start_time": "2022-01-25T17:05:39.036Z"
   },
   {
    "duration": 3980,
    "start_time": "2022-01-25T17:05:39.538Z"
   },
   {
    "duration": 321,
    "start_time": "2022-01-25T17:10:05.246Z"
   },
   {
    "duration": 22,
    "start_time": "2022-01-25T17:12:46.263Z"
   },
   {
    "duration": 443,
    "start_time": "2022-01-25T17:13:11.542Z"
   },
   {
    "duration": 20,
    "start_time": "2022-01-25T17:13:30.598Z"
   },
   {
    "duration": 21,
    "start_time": "2022-01-25T17:13:44.795Z"
   },
   {
    "duration": 23,
    "start_time": "2022-01-25T17:13:51.338Z"
   },
   {
    "duration": 99,
    "start_time": "2022-01-25T17:14:12.898Z"
   },
   {
    "duration": 23,
    "start_time": "2022-01-25T17:14:25.724Z"
   },
   {
    "duration": 20,
    "start_time": "2022-01-25T17:14:33.346Z"
   },
   {
    "duration": 298,
    "start_time": "2022-01-25T17:14:57.754Z"
   },
   {
    "duration": 243,
    "start_time": "2022-01-25T17:15:12.009Z"
   },
   {
    "duration": 386,
    "start_time": "2022-01-25T17:15:35.587Z"
   },
   {
    "duration": 498,
    "start_time": "2022-01-25T17:15:56.034Z"
   },
   {
    "duration": 379,
    "start_time": "2022-01-25T17:16:03.213Z"
   },
   {
    "duration": 33,
    "start_time": "2022-01-25T17:16:17.279Z"
   },
   {
    "duration": 30,
    "start_time": "2022-01-25T17:18:09.807Z"
   },
   {
    "duration": 348,
    "start_time": "2022-01-25T17:18:57.701Z"
   },
   {
    "duration": 468,
    "start_time": "2022-01-25T17:19:11.818Z"
   },
   {
    "duration": 568,
    "start_time": "2022-01-25T17:19:21.324Z"
   },
   {
    "duration": 748,
    "start_time": "2022-01-25T17:20:20.469Z"
   },
   {
    "duration": 21,
    "start_time": "2022-01-25T17:20:46.974Z"
   },
   {
    "duration": 7855,
    "start_time": "2022-01-25T17:20:56.361Z"
   },
   {
    "duration": 7437,
    "start_time": "2022-01-25T17:22:00.404Z"
   },
   {
    "duration": 15,
    "start_time": "2022-01-25T17:22:25.010Z"
   },
   {
    "duration": 7967,
    "start_time": "2022-01-25T17:22:28.946Z"
   },
   {
    "duration": 412,
    "start_time": "2022-01-25T17:22:55.979Z"
   },
   {
    "duration": 15,
    "start_time": "2022-01-25T17:24:32.207Z"
   },
   {
    "duration": 7940,
    "start_time": "2022-01-25T17:24:33.765Z"
   },
   {
    "duration": 22,
    "start_time": "2022-01-25T17:24:59.668Z"
   },
   {
    "duration": 25,
    "start_time": "2022-01-25T17:25:12.056Z"
   },
   {
    "duration": 507,
    "start_time": "2022-01-25T17:25:17.188Z"
   },
   {
    "duration": 23,
    "start_time": "2022-01-25T17:25:27.326Z"
   },
   {
    "duration": 554,
    "start_time": "2022-01-25T17:25:32.011Z"
   },
   {
    "duration": 24,
    "start_time": "2022-01-25T17:27:06.413Z"
   },
   {
    "duration": 22,
    "start_time": "2022-01-25T17:27:16.991Z"
   },
   {
    "duration": 586,
    "start_time": "2022-01-25T17:27:19.857Z"
   },
   {
    "duration": 22,
    "start_time": "2022-01-25T17:27:44.925Z"
   },
   {
    "duration": 813,
    "start_time": "2022-01-25T17:27:49.126Z"
   },
   {
    "duration": 32,
    "start_time": "2022-01-25T17:28:00.948Z"
   },
   {
    "duration": 25,
    "start_time": "2022-01-25T17:28:08.770Z"
   },
   {
    "duration": 799,
    "start_time": "2022-01-25T17:28:11.680Z"
   },
   {
    "duration": 651,
    "start_time": "2022-01-25T17:28:42.518Z"
   },
   {
    "duration": 577,
    "start_time": "2022-01-25T17:28:49.415Z"
   },
   {
    "duration": 29,
    "start_time": "2022-01-25T17:29:06.316Z"
   },
   {
    "duration": 760,
    "start_time": "2022-01-25T17:29:08.905Z"
   },
   {
    "duration": 25,
    "start_time": "2022-01-25T17:31:46.077Z"
   },
   {
    "duration": 31,
    "start_time": "2022-01-25T17:51:48.984Z"
   },
   {
    "duration": 97,
    "start_time": "2022-01-25T17:52:37.369Z"
   },
   {
    "duration": 35,
    "start_time": "2022-01-25T17:52:45.069Z"
   },
   {
    "duration": 33,
    "start_time": "2022-01-25T17:53:21.248Z"
   },
   {
    "duration": 37,
    "start_time": "2022-01-25T17:53:31.324Z"
   },
   {
    "duration": 291,
    "start_time": "2022-01-25T17:56:00.328Z"
   },
   {
    "duration": 268,
    "start_time": "2022-01-25T17:56:12.245Z"
   },
   {
    "duration": 87,
    "start_time": "2022-01-25T17:56:26.841Z"
   },
   {
    "duration": 345,
    "start_time": "2022-01-25T17:56:31.714Z"
   },
   {
    "duration": 136,
    "start_time": "2022-01-25T17:56:36.918Z"
   },
   {
    "duration": 397,
    "start_time": "2022-01-25T17:57:22.050Z"
   },
   {
    "duration": 6756,
    "start_time": "2022-01-25T17:57:38.103Z"
   },
   {
    "duration": 291,
    "start_time": "2022-01-25T17:57:52.359Z"
   },
   {
    "duration": 30,
    "start_time": "2022-01-25T17:58:32.171Z"
   },
   {
    "duration": 293,
    "start_time": "2022-01-25T17:59:00.009Z"
   },
   {
    "duration": 276,
    "start_time": "2022-01-25T17:59:16.233Z"
   },
   {
    "duration": 31,
    "start_time": "2022-01-25T17:59:53.423Z"
   },
   {
    "duration": 28,
    "start_time": "2022-01-25T18:00:12.772Z"
   },
   {
    "duration": 33,
    "start_time": "2022-01-25T18:00:20.730Z"
   },
   {
    "duration": 26,
    "start_time": "2022-01-25T18:00:42.873Z"
   },
   {
    "duration": 7020,
    "start_time": "2022-01-25T18:04:47.379Z"
   },
   {
    "duration": 8,
    "start_time": "2022-01-25T18:04:54.505Z"
   },
   {
    "duration": 4,
    "start_time": "2022-01-25T18:05:44.271Z"
   },
   {
    "duration": 5,
    "start_time": "2022-01-25T18:05:57.250Z"
   },
   {
    "duration": 5,
    "start_time": "2022-01-25T18:06:32.358Z"
   },
   {
    "duration": 268,
    "start_time": "2022-01-25T18:07:14.520Z"
   },
   {
    "duration": 441,
    "start_time": "2022-01-25T18:08:43.764Z"
   },
   {
    "duration": 303,
    "start_time": "2022-01-25T18:09:11.813Z"
   },
   {
    "duration": 6,
    "start_time": "2022-01-25T18:09:23.532Z"
   },
   {
    "duration": 271,
    "start_time": "2022-01-25T18:09:33.630Z"
   },
   {
    "duration": 7,
    "start_time": "2022-01-25T18:09:41.186Z"
   },
   {
    "duration": 94,
    "start_time": "2022-01-25T18:09:50.158Z"
   },
   {
    "duration": 7,
    "start_time": "2022-01-25T18:09:59.502Z"
   },
   {
    "duration": 316,
    "start_time": "2022-01-25T18:10:01.741Z"
   },
   {
    "duration": 33,
    "start_time": "2022-01-25T18:10:58.495Z"
   },
   {
    "duration": 272,
    "start_time": "2022-01-25T18:25:53.591Z"
   },
   {
    "duration": 274,
    "start_time": "2022-01-25T18:26:16.076Z"
   },
   {
    "duration": 31,
    "start_time": "2022-01-25T18:27:07.921Z"
   },
   {
    "duration": 37,
    "start_time": "2022-01-25T18:27:16.443Z"
   },
   {
    "duration": 271,
    "start_time": "2022-01-25T18:27:38.450Z"
   },
   {
    "duration": 340,
    "start_time": "2022-01-25T18:28:20.242Z"
   },
   {
    "duration": 27,
    "start_time": "2022-01-25T18:28:34.996Z"
   },
   {
    "duration": 33,
    "start_time": "2022-01-25T18:29:24.490Z"
   },
   {
    "duration": 533,
    "start_time": "2022-01-25T18:29:42.465Z"
   },
   {
    "duration": 532,
    "start_time": "2022-01-25T18:29:49.463Z"
   },
   {
    "duration": 413,
    "start_time": "2022-01-25T18:29:56.924Z"
   },
   {
    "duration": 811,
    "start_time": "2022-01-25T18:32:52.743Z"
   },
   {
    "duration": 430,
    "start_time": "2022-01-25T18:33:17.061Z"
   },
   {
    "duration": 600,
    "start_time": "2022-01-25T18:33:41.172Z"
   },
   {
    "duration": 326,
    "start_time": "2022-01-25T18:33:50.798Z"
   },
   {
    "duration": 344,
    "start_time": "2022-01-25T18:34:22.419Z"
   },
   {
    "duration": 25,
    "start_time": "2022-01-25T18:34:40.796Z"
   },
   {
    "duration": 337,
    "start_time": "2022-01-25T18:34:54.100Z"
   },
   {
    "duration": 575,
    "start_time": "2022-01-25T18:35:46.583Z"
   },
   {
    "duration": 402,
    "start_time": "2022-01-25T18:39:35.712Z"
   },
   {
    "duration": 495,
    "start_time": "2022-01-25T18:39:44.716Z"
   },
   {
    "duration": 485,
    "start_time": "2022-01-25T18:39:58.163Z"
   },
   {
    "duration": 336,
    "start_time": "2022-01-25T18:42:28.601Z"
   },
   {
    "duration": 310,
    "start_time": "2022-01-25T18:42:40.788Z"
   },
   {
    "duration": 1491,
    "start_time": "2022-01-25T18:43:11.342Z"
   },
   {
    "duration": 5,
    "start_time": "2022-01-25T18:43:12.836Z"
   },
   {
    "duration": 16,
    "start_time": "2022-01-25T18:43:12.845Z"
   },
   {
    "duration": 72,
    "start_time": "2022-01-25T18:43:12.864Z"
   },
   {
    "duration": 27,
    "start_time": "2022-01-25T18:43:12.954Z"
   },
   {
    "duration": 83,
    "start_time": "2022-01-25T18:43:12.986Z"
   },
   {
    "duration": 25,
    "start_time": "2022-01-25T18:43:13.072Z"
   },
   {
    "duration": 5,
    "start_time": "2022-01-25T18:43:13.105Z"
   },
   {
    "duration": 44,
    "start_time": "2022-01-25T18:43:13.113Z"
   },
   {
    "duration": 17,
    "start_time": "2022-01-25T18:43:13.160Z"
   },
   {
    "duration": 11,
    "start_time": "2022-01-25T18:43:13.181Z"
   },
   {
    "duration": 56,
    "start_time": "2022-01-25T18:43:13.195Z"
   },
   {
    "duration": 10,
    "start_time": "2022-01-25T18:43:13.255Z"
   },
   {
    "duration": 18,
    "start_time": "2022-01-25T18:43:13.269Z"
   },
   {
    "duration": 6,
    "start_time": "2022-01-25T18:43:13.290Z"
   },
   {
    "duration": 57,
    "start_time": "2022-01-25T18:43:13.299Z"
   },
   {
    "duration": 22,
    "start_time": "2022-01-25T18:43:13.360Z"
   },
   {
    "duration": 14,
    "start_time": "2022-01-25T18:43:13.386Z"
   },
   {
    "duration": 72,
    "start_time": "2022-01-25T18:43:13.403Z"
   },
   {
    "duration": 13,
    "start_time": "2022-01-25T18:43:13.478Z"
   },
   {
    "duration": 23,
    "start_time": "2022-01-25T18:43:13.493Z"
   },
   {
    "duration": 39,
    "start_time": "2022-01-25T18:43:13.518Z"
   },
   {
    "duration": 14,
    "start_time": "2022-01-25T18:43:13.567Z"
   },
   {
    "duration": 16,
    "start_time": "2022-01-25T18:43:13.585Z"
   },
   {
    "duration": 79,
    "start_time": "2022-01-25T18:43:13.604Z"
   },
   {
    "duration": 10,
    "start_time": "2022-01-25T18:43:13.686Z"
   },
   {
    "duration": 8,
    "start_time": "2022-01-25T18:43:13.698Z"
   },
   {
    "duration": 27,
    "start_time": "2022-01-25T18:43:13.746Z"
   },
   {
    "duration": 9,
    "start_time": "2022-01-25T18:43:13.776Z"
   },
   {
    "duration": 52,
    "start_time": "2022-01-25T18:43:13.789Z"
   },
   {
    "duration": 49,
    "start_time": "2022-01-25T18:43:13.844Z"
   },
   {
    "duration": 58,
    "start_time": "2022-01-25T18:43:13.897Z"
   },
   {
    "duration": 15,
    "start_time": "2022-01-25T18:43:13.957Z"
   },
   {
    "duration": 12,
    "start_time": "2022-01-25T18:43:13.974Z"
   },
   {
    "duration": 73,
    "start_time": "2022-01-25T18:43:13.989Z"
   },
   {
    "duration": 9,
    "start_time": "2022-01-25T18:43:14.065Z"
   },
   {
    "duration": 10,
    "start_time": "2022-01-25T18:43:14.077Z"
   },
   {
    "duration": 19,
    "start_time": "2022-01-25T18:43:14.092Z"
   },
   {
    "duration": 31,
    "start_time": "2022-01-25T18:43:14.142Z"
   },
   {
    "duration": 9,
    "start_time": "2022-01-25T18:43:14.176Z"
   },
   {
    "duration": 7,
    "start_time": "2022-01-25T18:43:14.188Z"
   },
   {
    "duration": 65,
    "start_time": "2022-01-25T18:43:14.198Z"
   },
   {
    "duration": 22,
    "start_time": "2022-01-25T18:43:14.265Z"
   },
   {
    "duration": 51,
    "start_time": "2022-01-25T18:43:14.289Z"
   },
   {
    "duration": 35,
    "start_time": "2022-01-25T18:43:14.344Z"
   },
   {
    "duration": 469,
    "start_time": "2022-01-25T18:43:14.382Z"
   },
   {
    "duration": 27,
    "start_time": "2022-01-25T18:43:14.854Z"
   },
   {
    "duration": 928,
    "start_time": "2022-01-25T18:43:14.885Z"
   },
   {
    "duration": 17,
    "start_time": "2022-01-25T18:43:15.817Z"
   },
   {
    "duration": 50,
    "start_time": "2022-01-25T18:43:15.838Z"
   },
   {
    "duration": 525,
    "start_time": "2022-01-25T18:43:15.890Z"
   },
   {
    "duration": 35,
    "start_time": "2022-01-25T18:43:39.465Z"
   },
   {
    "duration": 309,
    "start_time": "2022-01-25T18:43:53.924Z"
   },
   {
    "duration": 37,
    "start_time": "2022-01-25T18:44:00.687Z"
   },
   {
    "duration": 37,
    "start_time": "2022-01-25T18:44:11.244Z"
   },
   {
    "duration": 821,
    "start_time": "2022-01-25T18:44:18.042Z"
   },
   {
    "duration": 864,
    "start_time": "2022-01-25T18:44:36.286Z"
   },
   {
    "duration": 799,
    "start_time": "2022-01-25T18:45:24.095Z"
   },
   {
    "duration": 564,
    "start_time": "2022-01-25T18:45:36.835Z"
   },
   {
    "duration": 725,
    "start_time": "2022-01-25T18:45:50.145Z"
   },
   {
    "duration": 663,
    "start_time": "2022-01-25T18:46:04.077Z"
   },
   {
    "duration": 35,
    "start_time": "2022-01-25T18:46:32.964Z"
   },
   {
    "duration": 411,
    "start_time": "2022-01-25T18:46:58.121Z"
   },
   {
    "duration": 449,
    "start_time": "2022-01-25T18:49:51.920Z"
   },
   {
    "duration": 435,
    "start_time": "2022-01-25T18:50:10.760Z"
   },
   {
    "duration": 632,
    "start_time": "2022-01-25T18:50:45.022Z"
   },
   {
    "duration": 546,
    "start_time": "2022-01-25T18:53:01.352Z"
   },
   {
    "duration": 399,
    "start_time": "2022-01-25T18:55:13.372Z"
   },
   {
    "duration": 484,
    "start_time": "2022-01-25T18:55:20.003Z"
   },
   {
    "duration": 4,
    "start_time": "2022-01-25T19:03:14.446Z"
   },
   {
    "duration": 424,
    "start_time": "2022-01-25T19:03:36.313Z"
   },
   {
    "duration": 8,
    "start_time": "2022-01-25T19:07:47.020Z"
   },
   {
    "duration": 19,
    "start_time": "2022-01-25T19:08:00.719Z"
   },
   {
    "duration": 24,
    "start_time": "2022-01-25T19:08:33.356Z"
   },
   {
    "duration": 264,
    "start_time": "2022-01-25T19:17:27.893Z"
   },
   {
    "duration": 638,
    "start_time": "2022-01-25T19:17:39.705Z"
   },
   {
    "duration": 535,
    "start_time": "2022-01-25T19:18:04.518Z"
   },
   {
    "duration": 615,
    "start_time": "2022-01-25T19:18:25.660Z"
   },
   {
    "duration": 826,
    "start_time": "2022-01-25T19:18:48.893Z"
   },
   {
    "duration": 495,
    "start_time": "2022-01-25T19:18:55.216Z"
   },
   {
    "duration": 663,
    "start_time": "2022-01-25T19:19:01.919Z"
   },
   {
    "duration": 940,
    "start_time": "2022-01-25T19:19:18.825Z"
   },
   {
    "duration": 667,
    "start_time": "2022-01-25T19:19:48.515Z"
   },
   {
    "duration": 729,
    "start_time": "2022-01-25T19:23:30.148Z"
   },
   {
    "duration": 730,
    "start_time": "2022-01-25T19:23:36.934Z"
   },
   {
    "duration": 842,
    "start_time": "2022-01-25T19:23:44.108Z"
   },
   {
    "duration": 873,
    "start_time": "2022-01-25T19:24:09.961Z"
   },
   {
    "duration": 669,
    "start_time": "2022-01-25T19:25:05.792Z"
   },
   {
    "duration": 579,
    "start_time": "2022-01-25T19:46:34.947Z"
   },
   {
    "duration": 420,
    "start_time": "2022-01-25T19:46:55.943Z"
   },
   {
    "duration": 132646,
    "start_time": "2022-01-25T19:47:59.510Z"
   },
   {
    "duration": 378,
    "start_time": "2022-01-25T19:53:32.379Z"
   },
   {
    "duration": 360,
    "start_time": "2022-01-25T19:54:58.215Z"
   },
   {
    "duration": 338,
    "start_time": "2022-01-25T19:55:19.635Z"
   },
   {
    "duration": 319,
    "start_time": "2022-01-25T19:59:25.431Z"
   },
   {
    "duration": 336,
    "start_time": "2022-01-25T19:59:31.870Z"
   },
   {
    "duration": 225,
    "start_time": "2022-01-25T20:04:41.392Z"
   },
   {
    "duration": 326,
    "start_time": "2022-01-25T20:04:47.715Z"
   },
   {
    "duration": 346,
    "start_time": "2022-01-25T20:05:06.911Z"
   },
   {
    "duration": 349,
    "start_time": "2022-01-25T20:05:23.823Z"
   },
   {
    "duration": 439,
    "start_time": "2022-01-25T20:05:40.681Z"
   },
   {
    "duration": 17,
    "start_time": "2022-01-25T20:20:52.381Z"
   },
   {
    "duration": 11,
    "start_time": "2022-01-25T20:21:14.836Z"
   },
   {
    "duration": 14,
    "start_time": "2022-01-25T20:21:19.930Z"
   },
   {
    "duration": 7056,
    "start_time": "2022-01-25T20:21:57.712Z"
   },
   {
    "duration": 266,
    "start_time": "2022-01-25T20:22:13.183Z"
   },
   {
    "duration": 6534,
    "start_time": "2022-01-25T20:23:24.810Z"
   },
   {
    "duration": 28,
    "start_time": "2022-01-25T20:23:40.777Z"
   },
   {
    "duration": 17,
    "start_time": "2022-01-25T20:24:17.740Z"
   },
   {
    "duration": 616,
    "start_time": "2022-01-25T20:24:41.266Z"
   },
   {
    "duration": 16,
    "start_time": "2022-01-25T20:24:55.113Z"
   },
   {
    "duration": 12,
    "start_time": "2022-01-25T20:25:54.604Z"
   },
   {
    "duration": 11,
    "start_time": "2022-01-25T20:25:55.577Z"
   },
   {
    "duration": 28,
    "start_time": "2022-01-25T20:30:16.263Z"
   },
   {
    "duration": 25,
    "start_time": "2022-01-25T20:30:34.788Z"
   },
   {
    "duration": 39,
    "start_time": "2022-01-25T20:30:57.658Z"
   },
   {
    "duration": 40,
    "start_time": "2022-01-25T20:31:08.950Z"
   },
   {
    "duration": 19,
    "start_time": "2022-01-25T20:31:21.077Z"
   },
   {
    "duration": 19,
    "start_time": "2022-01-25T20:31:30.745Z"
   },
   {
    "duration": 21,
    "start_time": "2022-01-25T20:31:39.745Z"
   },
   {
    "duration": 20,
    "start_time": "2022-01-25T20:31:44.373Z"
   },
   {
    "duration": 23,
    "start_time": "2022-01-25T20:31:50.618Z"
   },
   {
    "duration": 343,
    "start_time": "2022-01-25T20:34:13.215Z"
   },
   {
    "duration": 399,
    "start_time": "2022-01-25T20:35:13.748Z"
   },
   {
    "duration": 114,
    "start_time": "2022-01-25T20:35:44.405Z"
   },
   {
    "duration": 605,
    "start_time": "2022-01-25T20:35:47.345Z"
   },
   {
    "duration": 415,
    "start_time": "2022-01-25T20:36:06.079Z"
   },
   {
    "duration": 412,
    "start_time": "2022-01-25T20:36:06.729Z"
   },
   {
    "duration": 1852,
    "start_time": "2022-01-25T20:36:21.406Z"
   },
   {
    "duration": 655,
    "start_time": "2022-01-25T20:36:45.336Z"
   },
   {
    "duration": 3897,
    "start_time": "2022-01-25T20:36:57.341Z"
   },
   {
    "duration": 702,
    "start_time": "2022-01-25T20:37:10.630Z"
   },
   {
    "duration": 332,
    "start_time": "2022-01-25T20:44:55.325Z"
   },
   {
    "duration": 333,
    "start_time": "2022-01-25T20:45:15.587Z"
   },
   {
    "duration": 333,
    "start_time": "2022-01-25T20:45:28.644Z"
   },
   {
    "duration": 1143,
    "start_time": "2022-01-25T20:46:19.475Z"
   },
   {
    "duration": 1050,
    "start_time": "2022-01-25T20:46:46.348Z"
   },
   {
    "duration": 463,
    "start_time": "2022-01-25T20:50:19.679Z"
   },
   {
    "duration": 484,
    "start_time": "2022-01-26T18:49:10.531Z"
   },
   {
    "duration": 1323,
    "start_time": "2022-01-26T18:49:22.898Z"
   },
   {
    "duration": 5,
    "start_time": "2022-01-26T18:49:24.224Z"
   },
   {
    "duration": 16,
    "start_time": "2022-01-26T18:49:24.232Z"
   },
   {
    "duration": 61,
    "start_time": "2022-01-26T18:49:24.252Z"
   },
   {
    "duration": 14,
    "start_time": "2022-01-26T18:49:24.316Z"
   },
   {
    "duration": 49,
    "start_time": "2022-01-26T18:49:24.332Z"
   },
   {
    "duration": 17,
    "start_time": "2022-01-26T18:49:24.384Z"
   },
   {
    "duration": 4,
    "start_time": "2022-01-26T18:49:24.405Z"
   },
   {
    "duration": 37,
    "start_time": "2022-01-26T18:49:24.412Z"
   },
   {
    "duration": 16,
    "start_time": "2022-01-26T18:49:24.452Z"
   },
   {
    "duration": 11,
    "start_time": "2022-01-26T18:49:24.470Z"
   },
   {
    "duration": 21,
    "start_time": "2022-01-26T18:49:24.483Z"
   },
   {
    "duration": 44,
    "start_time": "2022-01-26T18:49:24.507Z"
   },
   {
    "duration": 20,
    "start_time": "2022-01-26T18:49:24.554Z"
   },
   {
    "duration": 7,
    "start_time": "2022-01-26T18:49:24.577Z"
   },
   {
    "duration": 12,
    "start_time": "2022-01-26T18:49:24.587Z"
   },
   {
    "duration": 15,
    "start_time": "2022-01-26T18:49:24.602Z"
   },
   {
    "duration": 7,
    "start_time": "2022-01-26T18:49:24.650Z"
   },
   {
    "duration": 30,
    "start_time": "2022-01-26T18:49:24.659Z"
   },
   {
    "duration": 12,
    "start_time": "2022-01-26T18:49:24.691Z"
   },
   {
    "duration": 45,
    "start_time": "2022-01-26T18:49:24.705Z"
   },
   {
    "duration": 11,
    "start_time": "2022-01-26T18:49:24.752Z"
   },
   {
    "duration": 19,
    "start_time": "2022-01-26T18:49:24.773Z"
   },
   {
    "duration": 16,
    "start_time": "2022-01-26T18:49:24.797Z"
   },
   {
    "duration": 77,
    "start_time": "2022-01-26T18:49:24.815Z"
   },
   {
    "duration": 8,
    "start_time": "2022-01-26T18:49:24.895Z"
   },
   {
    "duration": 44,
    "start_time": "2022-01-26T18:49:24.906Z"
   },
   {
    "duration": 20,
    "start_time": "2022-01-26T18:49:24.953Z"
   },
   {
    "duration": 9,
    "start_time": "2022-01-26T18:49:24.976Z"
   },
   {
    "duration": 16,
    "start_time": "2022-01-26T18:49:24.988Z"
   },
   {
    "duration": 35,
    "start_time": "2022-01-26T18:49:25.047Z"
   },
   {
    "duration": 28,
    "start_time": "2022-01-26T18:49:25.085Z"
   },
   {
    "duration": 45,
    "start_time": "2022-01-26T18:49:25.117Z"
   },
   {
    "duration": 9,
    "start_time": "2022-01-26T18:49:25.165Z"
   },
   {
    "duration": 24,
    "start_time": "2022-01-26T18:49:25.177Z"
   },
   {
    "duration": 48,
    "start_time": "2022-01-26T18:49:25.204Z"
   },
   {
    "duration": 13,
    "start_time": "2022-01-26T18:49:25.255Z"
   },
   {
    "duration": 18,
    "start_time": "2022-01-26T18:49:25.271Z"
   },
   {
    "duration": 25,
    "start_time": "2022-01-26T18:49:25.292Z"
   },
   {
    "duration": 9,
    "start_time": "2022-01-26T18:49:25.349Z"
   },
   {
    "duration": 8,
    "start_time": "2022-01-26T18:49:25.360Z"
   },
   {
    "duration": 20,
    "start_time": "2022-01-26T18:49:25.371Z"
   },
   {
    "duration": 54,
    "start_time": "2022-01-26T18:49:25.394Z"
   },
   {
    "duration": 14,
    "start_time": "2022-01-26T18:49:25.451Z"
   },
   {
    "duration": 18,
    "start_time": "2022-01-26T18:49:25.467Z"
   },
   {
    "duration": 369,
    "start_time": "2022-01-26T18:49:25.487Z"
   },
   {
    "duration": 25,
    "start_time": "2022-01-26T18:49:25.859Z"
   },
   {
    "duration": 594,
    "start_time": "2022-01-26T18:49:25.888Z"
   },
   {
    "duration": 4,
    "start_time": "2022-01-26T18:49:26.485Z"
   },
   {
    "duration": 709,
    "start_time": "2022-01-26T18:49:26.492Z"
   },
   {
    "duration": 983,
    "start_time": "2022-01-26T18:49:27.204Z"
   },
   {
    "duration": 8,
    "start_time": "2022-01-26T18:49:28.189Z"
   },
   {
    "duration": 12,
    "start_time": "2022-01-26T18:49:28.200Z"
   },
   {
    "duration": 50,
    "start_time": "2022-01-26T18:49:28.214Z"
   },
   {
    "duration": 408,
    "start_time": "2022-01-26T18:49:28.267Z"
   },
   {
    "duration": 773,
    "start_time": "2022-01-26T18:49:28.678Z"
   },
   {
    "duration": 677,
    "start_time": "2022-01-26T18:49:29.454Z"
   },
   {
    "duration": 646,
    "start_time": "2022-01-26T18:49:30.133Z"
   },
   {
    "duration": 15,
    "start_time": "2022-01-26T18:49:30.782Z"
   },
   {
    "duration": 29,
    "start_time": "2022-01-26T18:49:30.800Z"
   },
   {
    "duration": 811,
    "start_time": "2022-01-26T18:49:30.832Z"
   },
   {
    "duration": -199,
    "start_time": "2022-01-26T18:49:31.848Z"
   },
   {
    "duration": -206,
    "start_time": "2022-01-26T18:49:31.856Z"
   },
   {
    "duration": 927,
    "start_time": "2022-01-26T18:50:07.522Z"
   },
   {
    "duration": 977,
    "start_time": "2022-01-26T18:51:42.574Z"
   },
   {
    "duration": 1124,
    "start_time": "2022-01-26T18:51:59.342Z"
   },
   {
    "duration": 123,
    "start_time": "2022-01-26T18:53:50.405Z"
   },
   {
    "duration": 1085,
    "start_time": "2022-01-26T18:57:07.547Z"
   },
   {
    "duration": 1089,
    "start_time": "2022-01-26T18:57:17.792Z"
   },
   {
    "duration": 1208,
    "start_time": "2022-01-26T18:57:22.951Z"
   },
   {
    "duration": 1090,
    "start_time": "2022-01-26T18:57:33.019Z"
   },
   {
    "duration": 1065,
    "start_time": "2022-01-26T18:58:20.665Z"
   },
   {
    "duration": 1153,
    "start_time": "2022-01-26T18:58:29.541Z"
   },
   {
    "duration": 454,
    "start_time": "2022-01-26T18:59:12.462Z"
   },
   {
    "duration": 344,
    "start_time": "2022-01-26T18:59:32.978Z"
   },
   {
    "duration": 955,
    "start_time": "2022-01-26T18:59:54.315Z"
   },
   {
    "duration": 556,
    "start_time": "2022-01-26T18:59:56.807Z"
   },
   {
    "duration": 1113,
    "start_time": "2022-01-26T19:08:23.626Z"
   },
   {
    "duration": 851,
    "start_time": "2022-01-26T19:23:45.013Z"
   },
   {
    "duration": 9,
    "start_time": "2022-01-26T19:59:48.690Z"
   },
   {
    "duration": 10,
    "start_time": "2022-01-26T20:00:33.375Z"
   },
   {
    "duration": 11,
    "start_time": "2022-01-26T20:00:43.357Z"
   },
   {
    "duration": 9,
    "start_time": "2022-01-26T20:05:02.034Z"
   },
   {
    "duration": 12,
    "start_time": "2022-01-26T20:05:09.354Z"
   },
   {
    "duration": 11,
    "start_time": "2022-01-26T20:05:18.128Z"
   },
   {
    "duration": 9,
    "start_time": "2022-01-26T20:08:46.237Z"
   },
   {
    "duration": 10,
    "start_time": "2022-01-26T20:09:21.110Z"
   },
   {
    "duration": 246,
    "start_time": "2022-01-26T20:09:31.111Z"
   },
   {
    "duration": 10,
    "start_time": "2022-01-26T20:09:40.219Z"
   },
   {
    "duration": 9,
    "start_time": "2022-01-26T20:09:44.516Z"
   },
   {
    "duration": 12,
    "start_time": "2022-01-26T20:10:34.295Z"
   },
   {
    "duration": 11,
    "start_time": "2022-01-26T20:11:18.557Z"
   },
   {
    "duration": 4,
    "start_time": "2022-01-26T20:12:43.149Z"
   },
   {
    "duration": 7,
    "start_time": "2022-01-26T20:12:45.323Z"
   },
   {
    "duration": 6,
    "start_time": "2022-01-26T20:13:37.109Z"
   },
   {
    "duration": 7,
    "start_time": "2022-01-26T20:14:09.656Z"
   },
   {
    "duration": 7,
    "start_time": "2022-01-26T20:14:22.681Z"
   },
   {
    "duration": 13,
    "start_time": "2022-01-26T20:20:02.841Z"
   },
   {
    "duration": 8,
    "start_time": "2022-01-26T20:20:05.408Z"
   },
   {
    "duration": 7,
    "start_time": "2022-01-26T20:20:08.816Z"
   },
   {
    "duration": 11,
    "start_time": "2022-01-26T20:20:12.295Z"
   },
   {
    "duration": 7,
    "start_time": "2022-01-26T20:20:14.229Z"
   },
   {
    "duration": 6,
    "start_time": "2022-01-26T20:20:16.415Z"
   },
   {
    "duration": 12,
    "start_time": "2022-01-26T20:20:18.374Z"
   },
   {
    "duration": 7,
    "start_time": "2022-01-26T20:20:21.362Z"
   },
   {
    "duration": 7,
    "start_time": "2022-01-26T20:20:22.974Z"
   },
   {
    "duration": 7,
    "start_time": "2022-01-26T20:20:23.674Z"
   },
   {
    "duration": 7,
    "start_time": "2022-01-26T20:20:24.129Z"
   },
   {
    "duration": 16,
    "start_time": "2022-01-26T20:20:25.862Z"
   },
   {
    "duration": 7,
    "start_time": "2022-01-26T20:20:27.395Z"
   },
   {
    "duration": 8,
    "start_time": "2022-01-26T20:20:29.495Z"
   },
   {
    "duration": 3,
    "start_time": "2022-01-26T20:20:31.424Z"
   },
   {
    "duration": 3,
    "start_time": "2022-01-26T20:20:32.236Z"
   },
   {
    "duration": 13,
    "start_time": "2022-01-26T20:20:33.530Z"
   },
   {
    "duration": 7,
    "start_time": "2022-01-26T20:20:35.005Z"
   },
   {
    "duration": 13,
    "start_time": "2022-01-26T20:20:36.924Z"
   },
   {
    "duration": 8,
    "start_time": "2022-01-26T20:20:38.380Z"
   },
   {
    "duration": 6,
    "start_time": "2022-01-26T20:21:13.136Z"
   },
   {
    "duration": 15,
    "start_time": "2022-01-26T20:21:40.036Z"
   },
   {
    "duration": 6,
    "start_time": "2022-01-26T20:21:41.742Z"
   },
   {
    "duration": 7,
    "start_time": "2022-01-26T20:21:42.834Z"
   },
   {
    "duration": 6,
    "start_time": "2022-01-26T20:21:44.065Z"
   },
   {
    "duration": 11,
    "start_time": "2022-01-26T20:21:45.397Z"
   },
   {
    "duration": 7,
    "start_time": "2022-01-26T20:21:46.837Z"
   },
   {
    "duration": 1500,
    "start_time": "2022-01-27T16:08:22.211Z"
   },
   {
    "duration": 4,
    "start_time": "2022-01-27T16:08:23.714Z"
   },
   {
    "duration": 10,
    "start_time": "2022-01-27T16:08:23.721Z"
   },
   {
    "duration": 68,
    "start_time": "2022-01-27T16:08:23.734Z"
   },
   {
    "duration": 15,
    "start_time": "2022-01-27T16:08:23.804Z"
   },
   {
    "duration": 48,
    "start_time": "2022-01-27T16:08:23.822Z"
   },
   {
    "duration": 17,
    "start_time": "2022-01-27T16:08:23.872Z"
   },
   {
    "duration": 4,
    "start_time": "2022-01-27T16:08:23.894Z"
   },
   {
    "duration": 15,
    "start_time": "2022-01-27T16:08:23.902Z"
   },
   {
    "duration": 40,
    "start_time": "2022-01-27T16:08:23.920Z"
   },
   {
    "duration": 7,
    "start_time": "2022-01-27T16:08:23.963Z"
   },
   {
    "duration": 24,
    "start_time": "2022-01-27T16:08:23.972Z"
   },
   {
    "duration": 24,
    "start_time": "2022-01-27T16:08:23.999Z"
   },
   {
    "duration": 38,
    "start_time": "2022-01-27T16:08:24.025Z"
   },
   {
    "duration": 11,
    "start_time": "2022-01-27T16:08:24.066Z"
   },
   {
    "duration": 12,
    "start_time": "2022-01-27T16:08:24.080Z"
   },
   {
    "duration": 15,
    "start_time": "2022-01-27T16:08:24.095Z"
   },
   {
    "duration": 41,
    "start_time": "2022-01-27T16:08:24.112Z"
   },
   {
    "duration": 20,
    "start_time": "2022-01-27T16:08:24.157Z"
   },
   {
    "duration": 9,
    "start_time": "2022-01-27T16:08:24.180Z"
   },
   {
    "duration": 61,
    "start_time": "2022-01-27T16:08:24.191Z"
   },
   {
    "duration": 12,
    "start_time": "2022-01-27T16:08:24.255Z"
   },
   {
    "duration": 14,
    "start_time": "2022-01-27T16:08:24.275Z"
   },
   {
    "duration": 18,
    "start_time": "2022-01-27T16:08:24.293Z"
   },
   {
    "duration": 75,
    "start_time": "2022-01-27T16:08:24.313Z"
   },
   {
    "duration": 8,
    "start_time": "2022-01-27T16:08:24.391Z"
   },
   {
    "duration": 11,
    "start_time": "2022-01-27T16:08:24.401Z"
   },
   {
    "duration": 43,
    "start_time": "2022-01-27T16:08:24.414Z"
   },
   {
    "duration": 11,
    "start_time": "2022-01-27T16:08:24.460Z"
   },
   {
    "duration": 17,
    "start_time": "2022-01-27T16:08:24.474Z"
   },
   {
    "duration": 65,
    "start_time": "2022-01-27T16:08:24.493Z"
   },
   {
    "duration": 26,
    "start_time": "2022-01-27T16:08:24.561Z"
   },
   {
    "duration": 14,
    "start_time": "2022-01-27T16:08:24.589Z"
   },
   {
    "duration": 42,
    "start_time": "2022-01-27T16:08:24.606Z"
   },
   {
    "duration": 24,
    "start_time": "2022-01-27T16:08:24.651Z"
   },
   {
    "duration": 11,
    "start_time": "2022-01-27T16:08:24.678Z"
   },
   {
    "duration": 18,
    "start_time": "2022-01-27T16:08:24.692Z"
   },
   {
    "duration": 41,
    "start_time": "2022-01-27T16:08:24.712Z"
   },
   {
    "duration": 24,
    "start_time": "2022-01-27T16:08:24.755Z"
   },
   {
    "duration": 14,
    "start_time": "2022-01-27T16:08:24.782Z"
   },
   {
    "duration": 10,
    "start_time": "2022-01-27T16:08:24.799Z"
   },
   {
    "duration": 51,
    "start_time": "2022-01-27T16:08:24.811Z"
   },
   {
    "duration": 20,
    "start_time": "2022-01-27T16:08:24.865Z"
   },
   {
    "duration": 13,
    "start_time": "2022-01-27T16:08:24.888Z"
   },
   {
    "duration": 44,
    "start_time": "2022-01-27T16:08:24.904Z"
   },
   {
    "duration": 318,
    "start_time": "2022-01-27T16:08:24.951Z"
   },
   {
    "duration": 20,
    "start_time": "2022-01-27T16:08:25.272Z"
   },
   {
    "duration": 532,
    "start_time": "2022-01-27T16:08:25.295Z"
   },
   {
    "duration": 4,
    "start_time": "2022-01-27T16:08:25.830Z"
   },
   {
    "duration": 995,
    "start_time": "2022-01-27T16:08:25.849Z"
   },
   {
    "duration": 8,
    "start_time": "2022-01-27T16:08:26.848Z"
   },
   {
    "duration": 12,
    "start_time": "2022-01-27T16:08:26.858Z"
   },
   {
    "duration": 21,
    "start_time": "2022-01-27T16:08:26.873Z"
   },
   {
    "duration": 374,
    "start_time": "2022-01-27T16:08:26.896Z"
   },
   {
    "duration": 756,
    "start_time": "2022-01-27T16:08:27.274Z"
   },
   {
    "duration": 672,
    "start_time": "2022-01-27T16:08:28.032Z"
   },
   {
    "duration": 639,
    "start_time": "2022-01-27T16:08:28.706Z"
   },
   {
    "duration": 15,
    "start_time": "2022-01-27T16:08:29.349Z"
   },
   {
    "duration": 22,
    "start_time": "2022-01-27T16:08:29.367Z"
   },
   {
    "duration": 366,
    "start_time": "2022-01-27T16:08:29.392Z"
   },
   {
    "duration": 981,
    "start_time": "2022-01-27T16:08:29.761Z"
   },
   {
    "duration": 995,
    "start_time": "2022-01-27T16:08:30.748Z"
   },
   {
    "duration": 965,
    "start_time": "2022-01-27T16:08:31.749Z"
   },
   {
    "duration": 8,
    "start_time": "2022-01-27T16:08:32.717Z"
   },
   {
    "duration": 25,
    "start_time": "2022-01-27T16:08:32.729Z"
   },
   {
    "duration": 12,
    "start_time": "2022-01-27T16:08:32.756Z"
   },
   {
    "duration": 9,
    "start_time": "2022-01-27T16:08:32.770Z"
   },
   {
    "duration": 10,
    "start_time": "2022-01-27T16:08:32.787Z"
   },
   {
    "duration": 48,
    "start_time": "2022-01-27T16:08:32.800Z"
   },
   {
    "duration": 11,
    "start_time": "2022-01-27T16:08:32.851Z"
   },
   {
    "duration": 5,
    "start_time": "2022-01-27T16:08:32.865Z"
   },
   {
    "duration": 8,
    "start_time": "2022-01-27T16:08:32.873Z"
   },
   {
    "duration": 9,
    "start_time": "2022-01-27T16:08:32.884Z"
   },
   {
    "duration": 7,
    "start_time": "2022-01-27T16:10:05.982Z"
   },
   {
    "duration": 7,
    "start_time": "2022-01-27T16:13:05.385Z"
   },
   {
    "duration": 11,
    "start_time": "2022-01-27T16:18:45.383Z"
   },
   {
    "duration": 3,
    "start_time": "2022-01-27T16:18:46.299Z"
   },
   {
    "duration": 7,
    "start_time": "2022-01-27T16:18:47.649Z"
   },
   {
    "duration": 6,
    "start_time": "2022-01-27T16:18:50.330Z"
   },
   {
    "duration": 547,
    "start_time": "2022-01-27T16:19:58.260Z"
   },
   {
    "duration": 108,
    "start_time": "2022-01-27T16:20:54.148Z"
   },
   {
    "duration": 550,
    "start_time": "2022-01-27T16:20:57.570Z"
   },
   {
    "duration": 1017,
    "start_time": "2022-01-27T16:21:44.388Z"
   },
   {
    "duration": 313,
    "start_time": "2022-01-27T16:22:51.397Z"
   },
   {
    "duration": 385,
    "start_time": "2022-01-27T16:24:11.122Z"
   },
   {
    "duration": 504,
    "start_time": "2022-01-27T16:24:31.109Z"
   },
   {
    "duration": 459,
    "start_time": "2022-01-27T16:25:09.459Z"
   },
   {
    "duration": 1000,
    "start_time": "2022-01-27T16:25:26.728Z"
   },
   {
    "duration": 1143,
    "start_time": "2022-01-27T16:26:11.156Z"
   },
   {
    "duration": 1204,
    "start_time": "2022-01-27T16:27:01.822Z"
   },
   {
    "duration": 870,
    "start_time": "2022-01-27T16:27:52.325Z"
   },
   {
    "duration": 894,
    "start_time": "2022-01-27T16:28:14.753Z"
   },
   {
    "duration": 23,
    "start_time": "2022-01-27T16:36:35.784Z"
   },
   {
    "duration": 115,
    "start_time": "2022-01-27T16:36:39.336Z"
   },
   {
    "duration": 12,
    "start_time": "2022-01-27T16:36:41.143Z"
   },
   {
    "duration": 21,
    "start_time": "2022-01-27T16:36:46.744Z"
   },
   {
    "duration": 21,
    "start_time": "2022-01-27T16:37:08.838Z"
   },
   {
    "duration": 21,
    "start_time": "2022-01-27T16:37:14.300Z"
   },
   {
    "duration": 20,
    "start_time": "2022-01-27T16:37:22.090Z"
   },
   {
    "duration": 25,
    "start_time": "2022-01-27T16:37:34.539Z"
   },
   {
    "duration": 21,
    "start_time": "2022-01-27T16:37:39.649Z"
   },
   {
    "duration": 21,
    "start_time": "2022-01-27T16:37:44.944Z"
   },
   {
    "duration": 20,
    "start_time": "2022-01-27T16:37:45.567Z"
   },
   {
    "duration": 22,
    "start_time": "2022-01-27T16:37:46.110Z"
   },
   {
    "duration": 21,
    "start_time": "2022-01-27T16:37:53.280Z"
   },
   {
    "duration": 24,
    "start_time": "2022-01-27T16:38:01.214Z"
   },
   {
    "duration": 23,
    "start_time": "2022-01-27T16:38:07.112Z"
   },
   {
    "duration": 6768,
    "start_time": "2022-01-27T16:43:07.895Z"
   },
   {
    "duration": 1699,
    "start_time": "2022-01-27T16:43:38.163Z"
   },
   {
    "duration": 1670,
    "start_time": "2022-01-27T16:43:44.812Z"
   },
   {
    "duration": 1524,
    "start_time": "2022-01-27T16:45:02.918Z"
   },
   {
    "duration": 1400,
    "start_time": "2022-01-27T16:45:42.148Z"
   },
   {
    "duration": 1599,
    "start_time": "2022-01-27T16:46:12.298Z"
   },
   {
    "duration": 19,
    "start_time": "2022-01-27T16:52:38.629Z"
   },
   {
    "duration": 19,
    "start_time": "2022-01-27T16:52:57.356Z"
   },
   {
    "duration": 2154,
    "start_time": "2022-01-27T16:53:10.516Z"
   },
   {
    "duration": 1644,
    "start_time": "2022-01-27T17:04:33.390Z"
   },
   {
    "duration": 5,
    "start_time": "2022-01-27T17:04:35.037Z"
   },
   {
    "duration": 24,
    "start_time": "2022-01-27T17:04:35.050Z"
   },
   {
    "duration": 59,
    "start_time": "2022-01-27T17:04:35.077Z"
   },
   {
    "duration": 15,
    "start_time": "2022-01-27T17:04:35.139Z"
   },
   {
    "duration": 51,
    "start_time": "2022-01-27T17:04:35.156Z"
   },
   {
    "duration": 38,
    "start_time": "2022-01-27T17:04:35.210Z"
   },
   {
    "duration": 5,
    "start_time": "2022-01-27T17:04:35.251Z"
   },
   {
    "duration": 20,
    "start_time": "2022-01-27T17:04:35.261Z"
   },
   {
    "duration": 23,
    "start_time": "2022-01-27T17:04:35.284Z"
   },
   {
    "duration": 9,
    "start_time": "2022-01-27T17:04:35.309Z"
   },
   {
    "duration": 45,
    "start_time": "2022-01-27T17:04:35.321Z"
   },
   {
    "duration": 13,
    "start_time": "2022-01-27T17:04:35.369Z"
   },
   {
    "duration": 23,
    "start_time": "2022-01-27T17:04:35.384Z"
   },
   {
    "duration": 8,
    "start_time": "2022-01-27T17:04:35.410Z"
   },
   {
    "duration": 29,
    "start_time": "2022-01-27T17:04:35.421Z"
   },
   {
    "duration": 12,
    "start_time": "2022-01-27T17:04:35.452Z"
   },
   {
    "duration": 11,
    "start_time": "2022-01-27T17:04:35.466Z"
   },
   {
    "duration": 25,
    "start_time": "2022-01-27T17:04:35.479Z"
   },
   {
    "duration": 40,
    "start_time": "2022-01-27T17:04:35.507Z"
   },
   {
    "duration": 19,
    "start_time": "2022-01-27T17:04:35.551Z"
   },
   {
    "duration": 12,
    "start_time": "2022-01-27T17:04:35.573Z"
   },
   {
    "duration": 20,
    "start_time": "2022-01-27T17:04:35.588Z"
   },
   {
    "duration": 48,
    "start_time": "2022-01-27T17:04:35.610Z"
   },
   {
    "duration": 42,
    "start_time": "2022-01-27T17:04:35.661Z"
   },
   {
    "duration": 7,
    "start_time": "2022-01-27T17:04:35.705Z"
   },
   {
    "duration": 7,
    "start_time": "2022-01-27T17:04:35.750Z"
   },
   {
    "duration": 18,
    "start_time": "2022-01-27T17:04:35.761Z"
   },
   {
    "duration": 11,
    "start_time": "2022-01-27T17:04:35.782Z"
   },
   {
    "duration": 14,
    "start_time": "2022-01-27T17:04:35.796Z"
   },
   {
    "duration": 36,
    "start_time": "2022-01-27T17:04:35.854Z"
   },
   {
    "duration": 44,
    "start_time": "2022-01-27T17:04:35.893Z"
   },
   {
    "duration": 25,
    "start_time": "2022-01-27T17:04:35.940Z"
   },
   {
    "duration": 9,
    "start_time": "2022-01-27T17:04:35.968Z"
   },
   {
    "duration": 37,
    "start_time": "2022-01-27T17:04:35.980Z"
   },
   {
    "duration": 10,
    "start_time": "2022-01-27T17:04:36.048Z"
   },
   {
    "duration": 9,
    "start_time": "2022-01-27T17:04:36.060Z"
   },
   {
    "duration": 23,
    "start_time": "2022-01-27T17:04:36.072Z"
   },
   {
    "duration": 23,
    "start_time": "2022-01-27T17:04:36.098Z"
   },
   {
    "duration": 35,
    "start_time": "2022-01-27T17:04:36.123Z"
   },
   {
    "duration": 11,
    "start_time": "2022-01-27T17:04:36.161Z"
   },
   {
    "duration": 22,
    "start_time": "2022-01-27T17:04:36.174Z"
   },
   {
    "duration": 19,
    "start_time": "2022-01-27T17:04:36.198Z"
   },
   {
    "duration": 15,
    "start_time": "2022-01-27T17:04:36.250Z"
   },
   {
    "duration": 27,
    "start_time": "2022-01-27T17:04:36.268Z"
   },
   {
    "duration": 640,
    "start_time": "2022-01-27T17:04:36.298Z"
   },
   {
    "duration": 27,
    "start_time": "2022-01-27T17:04:36.941Z"
   },
   {
    "duration": 637,
    "start_time": "2022-01-27T17:04:36.970Z"
   },
   {
    "duration": 5,
    "start_time": "2022-01-27T17:04:37.609Z"
   },
   {
    "duration": 1112,
    "start_time": "2022-01-27T17:04:37.617Z"
   },
   {
    "duration": 17,
    "start_time": "2022-01-27T17:04:38.731Z"
   },
   {
    "duration": 15,
    "start_time": "2022-01-27T17:04:38.751Z"
   },
   {
    "duration": 20,
    "start_time": "2022-01-27T17:04:38.769Z"
   },
   {
    "duration": 542,
    "start_time": "2022-01-27T17:04:38.792Z"
   },
   {
    "duration": 780,
    "start_time": "2022-01-27T17:04:39.336Z"
   },
   {
    "duration": 694,
    "start_time": "2022-01-27T17:04:40.118Z"
   },
   {
    "duration": 710,
    "start_time": "2022-01-27T17:04:40.814Z"
   },
   {
    "duration": 40,
    "start_time": "2022-01-27T17:04:41.528Z"
   },
   {
    "duration": 1719,
    "start_time": "2022-01-27T17:04:41.571Z"
   },
   {
    "duration": 20,
    "start_time": "2022-01-27T17:04:43.293Z"
   },
   {
    "duration": 46,
    "start_time": "2022-01-27T17:04:43.316Z"
   },
   {
    "duration": 1731,
    "start_time": "2022-01-27T17:04:43.364Z"
   },
   {
    "duration": 378,
    "start_time": "2022-01-27T17:04:45.099Z"
   },
   {
    "duration": 1061,
    "start_time": "2022-01-27T17:04:45.480Z"
   },
   {
    "duration": 1181,
    "start_time": "2022-01-27T17:04:46.544Z"
   },
   {
    "duration": 923,
    "start_time": "2022-01-27T17:04:47.728Z"
   },
   {
    "duration": 9,
    "start_time": "2022-01-27T17:04:48.653Z"
   },
   {
    "duration": 15,
    "start_time": "2022-01-27T17:04:48.664Z"
   },
   {
    "duration": 13,
    "start_time": "2022-01-27T17:04:48.681Z"
   },
   {
    "duration": 10,
    "start_time": "2022-01-27T17:04:48.697Z"
   },
   {
    "duration": 45,
    "start_time": "2022-01-27T17:04:48.710Z"
   },
   {
    "duration": 9,
    "start_time": "2022-01-27T17:04:48.758Z"
   },
   {
    "duration": 23,
    "start_time": "2022-01-27T17:04:48.770Z"
   },
   {
    "duration": 17,
    "start_time": "2022-01-27T17:04:48.795Z"
   },
   {
    "duration": 21,
    "start_time": "2022-01-27T17:04:48.815Z"
   },
   {
    "duration": 14,
    "start_time": "2022-01-27T17:04:48.839Z"
   },
   {
    "duration": 1529,
    "start_time": "2022-01-27T17:22:33.062Z"
   },
   {
    "duration": 5,
    "start_time": "2022-01-27T17:22:34.594Z"
   },
   {
    "duration": 10,
    "start_time": "2022-01-27T17:22:34.602Z"
   },
   {
    "duration": 52,
    "start_time": "2022-01-27T17:22:34.615Z"
   },
   {
    "duration": 15,
    "start_time": "2022-01-27T17:22:34.670Z"
   },
   {
    "duration": 65,
    "start_time": "2022-01-27T17:22:34.688Z"
   },
   {
    "duration": 17,
    "start_time": "2022-01-27T17:22:34.755Z"
   },
   {
    "duration": 7,
    "start_time": "2022-01-27T17:22:34.776Z"
   },
   {
    "duration": 10,
    "start_time": "2022-01-27T17:22:34.785Z"
   },
   {
    "duration": 15,
    "start_time": "2022-01-27T17:22:34.798Z"
   },
   {
    "duration": 7,
    "start_time": "2022-01-27T17:22:34.849Z"
   },
   {
    "duration": 19,
    "start_time": "2022-01-27T17:22:34.859Z"
   },
   {
    "duration": 13,
    "start_time": "2022-01-27T17:22:34.881Z"
   },
   {
    "duration": 20,
    "start_time": "2022-01-27T17:22:34.896Z"
   },
   {
    "duration": 32,
    "start_time": "2022-01-27T17:22:34.918Z"
   },
   {
    "duration": 9,
    "start_time": "2022-01-27T17:22:34.952Z"
   },
   {
    "duration": 17,
    "start_time": "2022-01-27T17:22:34.964Z"
   },
   {
    "duration": 29,
    "start_time": "2022-01-27T17:22:34.983Z"
   },
   {
    "duration": 20,
    "start_time": "2022-01-27T17:22:35.014Z"
   },
   {
    "duration": 7,
    "start_time": "2022-01-27T17:22:35.049Z"
   },
   {
    "duration": 21,
    "start_time": "2022-01-27T17:22:35.059Z"
   },
   {
    "duration": 10,
    "start_time": "2022-01-27T17:22:35.083Z"
   },
   {
    "duration": 13,
    "start_time": "2022-01-27T17:22:35.100Z"
   },
   {
    "duration": 15,
    "start_time": "2022-01-27T17:22:35.151Z"
   },
   {
    "duration": 38,
    "start_time": "2022-01-27T17:22:35.168Z"
   },
   {
    "duration": 6,
    "start_time": "2022-01-27T17:22:35.209Z"
   },
   {
    "duration": 36,
    "start_time": "2022-01-27T17:22:35.217Z"
   },
   {
    "duration": 19,
    "start_time": "2022-01-27T17:22:35.255Z"
   },
   {
    "duration": 15,
    "start_time": "2022-01-27T17:22:35.277Z"
   },
   {
    "duration": 16,
    "start_time": "2022-01-27T17:22:35.294Z"
   },
   {
    "duration": 62,
    "start_time": "2022-01-27T17:22:35.312Z"
   },
   {
    "duration": 28,
    "start_time": "2022-01-27T17:22:35.377Z"
   },
   {
    "duration": 44,
    "start_time": "2022-01-27T17:22:35.407Z"
   },
   {
    "duration": 11,
    "start_time": "2022-01-27T17:22:35.454Z"
   },
   {
    "duration": 31,
    "start_time": "2022-01-27T17:22:35.467Z"
   },
   {
    "duration": 25,
    "start_time": "2022-01-27T17:22:35.501Z"
   },
   {
    "duration": 9,
    "start_time": "2022-01-27T17:22:35.529Z"
   },
   {
    "duration": 15,
    "start_time": "2022-01-27T17:22:35.549Z"
   },
   {
    "duration": 22,
    "start_time": "2022-01-27T17:22:35.566Z"
   },
   {
    "duration": 11,
    "start_time": "2022-01-27T17:22:35.592Z"
   },
   {
    "duration": 46,
    "start_time": "2022-01-27T17:22:35.606Z"
   },
   {
    "duration": 24,
    "start_time": "2022-01-27T17:22:35.654Z"
   },
   {
    "duration": 18,
    "start_time": "2022-01-27T17:22:35.681Z"
   },
   {
    "duration": 20,
    "start_time": "2022-01-27T17:22:35.702Z"
   },
   {
    "duration": 41,
    "start_time": "2022-01-27T17:22:35.724Z"
   },
   {
    "duration": 609,
    "start_time": "2022-01-27T17:22:35.768Z"
   },
   {
    "duration": 23,
    "start_time": "2022-01-27T17:22:36.381Z"
   },
   {
    "duration": 599,
    "start_time": "2022-01-27T17:22:36.408Z"
   },
   {
    "duration": 5,
    "start_time": "2022-01-27T17:22:37.009Z"
   },
   {
    "duration": 1100,
    "start_time": "2022-01-27T17:22:37.018Z"
   },
   {
    "duration": 10,
    "start_time": "2022-01-27T17:22:38.121Z"
   },
   {
    "duration": 13,
    "start_time": "2022-01-27T17:22:38.148Z"
   },
   {
    "duration": 21,
    "start_time": "2022-01-27T17:22:38.164Z"
   },
   {
    "duration": 505,
    "start_time": "2022-01-27T17:22:38.188Z"
   },
   {
    "duration": 866,
    "start_time": "2022-01-27T17:22:38.696Z"
   },
   {
    "duration": 695,
    "start_time": "2022-01-27T17:22:39.564Z"
   },
   {
    "duration": 657,
    "start_time": "2022-01-27T17:22:40.262Z"
   },
   {
    "duration": 41,
    "start_time": "2022-01-27T17:22:40.922Z"
   },
   {
    "duration": 1819,
    "start_time": "2022-01-27T17:22:40.965Z"
   },
   {
    "duration": 20,
    "start_time": "2022-01-27T17:22:42.787Z"
   },
   {
    "duration": 45,
    "start_time": "2022-01-27T17:22:42.810Z"
   },
   {
    "duration": 1960,
    "start_time": "2022-01-27T17:22:42.858Z"
   },
   {
    "duration": 374,
    "start_time": "2022-01-27T17:22:44.821Z"
   },
   {
    "duration": 1088,
    "start_time": "2022-01-27T17:22:45.197Z"
   },
   {
    "duration": 1228,
    "start_time": "2022-01-27T17:22:46.288Z"
   },
   {
    "duration": 976,
    "start_time": "2022-01-27T17:22:47.518Z"
   },
   {
    "duration": 8,
    "start_time": "2022-01-27T17:22:48.497Z"
   },
   {
    "duration": 11,
    "start_time": "2022-01-27T17:22:48.512Z"
   },
   {
    "duration": 30,
    "start_time": "2022-01-27T17:22:48.525Z"
   },
   {
    "duration": 13,
    "start_time": "2022-01-27T17:22:48.558Z"
   },
   {
    "duration": 13,
    "start_time": "2022-01-27T17:22:48.574Z"
   },
   {
    "duration": 23,
    "start_time": "2022-01-27T17:22:48.589Z"
   },
   {
    "duration": 26,
    "start_time": "2022-01-27T17:22:48.614Z"
   },
   {
    "duration": 11,
    "start_time": "2022-01-27T17:22:48.649Z"
   },
   {
    "duration": 11,
    "start_time": "2022-01-27T17:22:48.662Z"
   },
   {
    "duration": 8,
    "start_time": "2022-01-27T17:22:48.675Z"
   },
   {
    "duration": 896,
    "start_time": "2022-01-27T17:25:14.192Z"
   },
   {
    "duration": 814,
    "start_time": "2022-01-27T17:26:10.406Z"
   },
   {
    "duration": 988,
    "start_time": "2022-01-27T17:26:32.024Z"
   },
   {
    "duration": 802,
    "start_time": "2022-01-27T17:26:59.727Z"
   },
   {
    "duration": 895,
    "start_time": "2022-01-27T17:27:06.892Z"
   },
   {
    "duration": 789,
    "start_time": "2022-01-27T17:28:39.940Z"
   },
   {
    "duration": 1072,
    "start_time": "2022-01-27T17:31:44.218Z"
   },
   {
    "duration": 2498,
    "start_time": "2022-01-27T17:33:23.997Z"
   },
   {
    "duration": 768,
    "start_time": "2022-01-27T17:33:54.989Z"
   },
   {
    "duration": 29,
    "start_time": "2022-01-27T17:34:33.588Z"
   },
   {
    "duration": 865,
    "start_time": "2022-01-27T17:36:07.335Z"
   },
   {
    "duration": 763,
    "start_time": "2022-01-27T17:36:14.773Z"
   },
   {
    "duration": 324,
    "start_time": "2022-01-27T17:36:19.095Z"
   },
   {
    "duration": 775,
    "start_time": "2022-01-27T17:36:25.784Z"
   },
   {
    "duration": 1566,
    "start_time": "2022-01-27T17:38:10.533Z"
   },
   {
    "duration": 5,
    "start_time": "2022-01-27T17:38:12.103Z"
   },
   {
    "duration": 9,
    "start_time": "2022-01-27T17:38:12.112Z"
   },
   {
    "duration": 62,
    "start_time": "2022-01-27T17:38:12.124Z"
   },
   {
    "duration": 17,
    "start_time": "2022-01-27T17:38:12.189Z"
   },
   {
    "duration": 66,
    "start_time": "2022-01-27T17:38:12.209Z"
   },
   {
    "duration": 16,
    "start_time": "2022-01-27T17:38:12.277Z"
   },
   {
    "duration": 7,
    "start_time": "2022-01-27T17:38:12.297Z"
   },
   {
    "duration": 10,
    "start_time": "2022-01-27T17:38:12.307Z"
   },
   {
    "duration": 41,
    "start_time": "2022-01-27T17:38:12.320Z"
   },
   {
    "duration": 9,
    "start_time": "2022-01-27T17:38:12.363Z"
   },
   {
    "duration": 16,
    "start_time": "2022-01-27T17:38:12.375Z"
   },
   {
    "duration": 8,
    "start_time": "2022-01-27T17:38:12.394Z"
   },
   {
    "duration": 51,
    "start_time": "2022-01-27T17:38:12.404Z"
   },
   {
    "duration": 7,
    "start_time": "2022-01-27T17:38:12.458Z"
   },
   {
    "duration": 10,
    "start_time": "2022-01-27T17:38:12.467Z"
   },
   {
    "duration": 12,
    "start_time": "2022-01-27T17:38:12.480Z"
   },
   {
    "duration": 14,
    "start_time": "2022-01-27T17:38:12.494Z"
   },
   {
    "duration": 56,
    "start_time": "2022-01-27T17:38:12.511Z"
   },
   {
    "duration": 7,
    "start_time": "2022-01-27T17:38:12.569Z"
   },
   {
    "duration": 15,
    "start_time": "2022-01-27T17:38:12.578Z"
   },
   {
    "duration": 10,
    "start_time": "2022-01-27T17:38:12.595Z"
   },
   {
    "duration": 15,
    "start_time": "2022-01-27T17:38:12.648Z"
   },
   {
    "duration": 15,
    "start_time": "2022-01-27T17:38:12.668Z"
   },
   {
    "duration": 69,
    "start_time": "2022-01-27T17:38:12.686Z"
   },
   {
    "duration": 7,
    "start_time": "2022-01-27T17:38:12.758Z"
   },
   {
    "duration": 11,
    "start_time": "2022-01-27T17:38:12.768Z"
   },
   {
    "duration": 18,
    "start_time": "2022-01-27T17:38:12.781Z"
   },
   {
    "duration": 9,
    "start_time": "2022-01-27T17:38:12.801Z"
   },
   {
    "duration": 15,
    "start_time": "2022-01-27T17:38:12.849Z"
   },
   {
    "duration": 31,
    "start_time": "2022-01-27T17:38:12.866Z"
   },
   {
    "duration": 50,
    "start_time": "2022-01-27T17:38:12.900Z"
   },
   {
    "duration": 14,
    "start_time": "2022-01-27T17:38:12.953Z"
   },
   {
    "duration": 9,
    "start_time": "2022-01-27T17:38:12.969Z"
   },
   {
    "duration": 22,
    "start_time": "2022-01-27T17:38:12.981Z"
   },
   {
    "duration": 42,
    "start_time": "2022-01-27T17:38:13.006Z"
   },
   {
    "duration": 11,
    "start_time": "2022-01-27T17:38:13.051Z"
   },
   {
    "duration": 26,
    "start_time": "2022-01-27T17:38:13.064Z"
   },
   {
    "duration": 32,
    "start_time": "2022-01-27T17:38:13.093Z"
   },
   {
    "duration": 22,
    "start_time": "2022-01-27T17:38:13.128Z"
   },
   {
    "duration": 9,
    "start_time": "2022-01-27T17:38:13.153Z"
   },
   {
    "duration": 30,
    "start_time": "2022-01-27T17:38:13.165Z"
   },
   {
    "duration": 50,
    "start_time": "2022-01-27T17:38:13.198Z"
   },
   {
    "duration": 15,
    "start_time": "2022-01-27T17:38:13.252Z"
   },
   {
    "duration": 20,
    "start_time": "2022-01-27T17:38:13.270Z"
   },
   {
    "duration": 615,
    "start_time": "2022-01-27T17:38:13.293Z"
   },
   {
    "duration": 39,
    "start_time": "2022-01-27T17:38:13.911Z"
   },
   {
    "duration": 591,
    "start_time": "2022-01-27T17:38:13.953Z"
   },
   {
    "duration": 5,
    "start_time": "2022-01-27T17:38:14.549Z"
   },
   {
    "duration": 1058,
    "start_time": "2022-01-27T17:38:14.557Z"
   },
   {
    "duration": 8,
    "start_time": "2022-01-27T17:38:15.617Z"
   },
   {
    "duration": 30,
    "start_time": "2022-01-27T17:38:15.627Z"
   },
   {
    "duration": 23,
    "start_time": "2022-01-27T17:38:15.659Z"
   },
   {
    "duration": 505,
    "start_time": "2022-01-27T17:38:15.684Z"
   },
   {
    "duration": 945,
    "start_time": "2022-01-27T17:38:16.192Z"
   },
   {
    "duration": 766,
    "start_time": "2022-01-27T17:38:17.140Z"
   },
   {
    "duration": 726,
    "start_time": "2022-01-27T17:38:17.909Z"
   },
   {
    "duration": 710,
    "start_time": "2022-01-27T17:38:18.648Z"
   },
   {
    "duration": 25,
    "start_time": "2022-01-27T17:38:19.361Z"
   },
   {
    "duration": 1777,
    "start_time": "2022-01-27T17:38:19.388Z"
   },
   {
    "duration": 22,
    "start_time": "2022-01-27T17:38:21.167Z"
   },
   {
    "duration": 25,
    "start_time": "2022-01-27T17:38:21.192Z"
   },
   {
    "duration": 2123,
    "start_time": "2022-01-27T17:38:21.219Z"
   },
   {
    "duration": 360,
    "start_time": "2022-01-27T17:38:23.349Z"
   },
   {
    "duration": 1078,
    "start_time": "2022-01-27T17:38:23.711Z"
   },
   {
    "duration": 1071,
    "start_time": "2022-01-27T17:38:24.792Z"
   },
   {
    "duration": 1067,
    "start_time": "2022-01-27T17:38:25.866Z"
   },
   {
    "duration": 7,
    "start_time": "2022-01-27T17:38:26.949Z"
   },
   {
    "duration": 13,
    "start_time": "2022-01-27T17:38:26.959Z"
   },
   {
    "duration": 16,
    "start_time": "2022-01-27T17:38:26.975Z"
   },
   {
    "duration": 11,
    "start_time": "2022-01-27T17:38:26.993Z"
   },
   {
    "duration": 12,
    "start_time": "2022-01-27T17:38:27.007Z"
   },
   {
    "duration": 36,
    "start_time": "2022-01-27T17:38:27.022Z"
   },
   {
    "duration": 12,
    "start_time": "2022-01-27T17:38:27.060Z"
   },
   {
    "duration": 11,
    "start_time": "2022-01-27T17:38:27.074Z"
   },
   {
    "duration": 13,
    "start_time": "2022-01-27T17:38:27.087Z"
   },
   {
    "duration": 10,
    "start_time": "2022-01-27T17:38:27.103Z"
   },
   {
    "duration": 316,
    "start_time": "2022-02-05T11:16:46.738Z"
   },
   {
    "duration": 1079,
    "start_time": "2022-02-05T11:16:58.673Z"
   },
   {
    "duration": 3,
    "start_time": "2022-02-05T11:16:59.753Z"
   },
   {
    "duration": 3,
    "start_time": "2022-02-05T11:16:59.760Z"
   },
   {
    "duration": 35,
    "start_time": "2022-02-05T11:16:59.764Z"
   },
   {
    "duration": 8,
    "start_time": "2022-02-05T11:16:59.801Z"
   },
   {
    "duration": 32,
    "start_time": "2022-02-05T11:16:59.810Z"
   },
   {
    "duration": 9,
    "start_time": "2022-02-05T11:16:59.844Z"
   },
   {
    "duration": 4,
    "start_time": "2022-02-05T11:16:59.855Z"
   },
   {
    "duration": 8,
    "start_time": "2022-02-05T11:16:59.861Z"
   },
   {
    "duration": 10,
    "start_time": "2022-02-05T11:16:59.870Z"
   },
   {
    "duration": 4,
    "start_time": "2022-02-05T11:16:59.881Z"
   },
   {
    "duration": 43,
    "start_time": "2022-02-05T11:16:59.887Z"
   },
   {
    "duration": 12,
    "start_time": "2022-02-05T11:16:59.931Z"
   },
   {
    "duration": 8,
    "start_time": "2022-02-05T11:16:59.945Z"
   },
   {
    "duration": 4,
    "start_time": "2022-02-05T11:16:59.954Z"
   },
   {
    "duration": 6,
    "start_time": "2022-02-05T11:16:59.959Z"
   },
   {
    "duration": 8,
    "start_time": "2022-02-05T11:16:59.966Z"
   },
   {
    "duration": 5,
    "start_time": "2022-02-05T11:16:59.975Z"
   },
   {
    "duration": 11,
    "start_time": "2022-02-05T11:16:59.981Z"
   },
   {
    "duration": 4,
    "start_time": "2022-02-05T11:16:59.993Z"
   },
   {
    "duration": 9,
    "start_time": "2022-02-05T11:17:00.027Z"
   },
   {
    "duration": 7,
    "start_time": "2022-02-05T11:17:00.040Z"
   },
   {
    "duration": 8,
    "start_time": "2022-02-05T11:17:00.049Z"
   },
   {
    "duration": 9,
    "start_time": "2022-02-05T11:17:00.059Z"
   },
   {
    "duration": 24,
    "start_time": "2022-02-05T11:17:00.069Z"
   },
   {
    "duration": 32,
    "start_time": "2022-02-05T11:17:00.095Z"
   },
   {
    "duration": 4,
    "start_time": "2022-02-05T11:17:00.128Z"
   },
   {
    "duration": 11,
    "start_time": "2022-02-05T11:17:00.133Z"
   },
   {
    "duration": 7,
    "start_time": "2022-02-05T11:17:00.145Z"
   },
   {
    "duration": 11,
    "start_time": "2022-02-05T11:17:00.153Z"
   },
   {
    "duration": 22,
    "start_time": "2022-02-05T11:17:00.166Z"
   },
   {
    "duration": 15,
    "start_time": "2022-02-05T11:17:00.189Z"
   },
   {
    "duration": 25,
    "start_time": "2022-02-05T11:17:00.205Z"
   },
   {
    "duration": 5,
    "start_time": "2022-02-05T11:17:00.231Z"
   },
   {
    "duration": 16,
    "start_time": "2022-02-05T11:17:00.238Z"
   },
   {
    "duration": 9,
    "start_time": "2022-02-05T11:17:00.255Z"
   },
   {
    "duration": 13,
    "start_time": "2022-02-05T11:17:00.265Z"
   },
   {
    "duration": 25,
    "start_time": "2022-02-05T11:17:00.280Z"
   },
   {
    "duration": 25,
    "start_time": "2022-02-05T11:17:00.306Z"
   },
   {
    "duration": 5,
    "start_time": "2022-02-05T11:17:00.332Z"
   },
   {
    "duration": 7,
    "start_time": "2022-02-05T11:17:00.338Z"
   },
   {
    "duration": 14,
    "start_time": "2022-02-05T11:17:00.347Z"
   },
   {
    "duration": 12,
    "start_time": "2022-02-05T11:17:00.362Z"
   },
   {
    "duration": 7,
    "start_time": "2022-02-05T11:17:00.375Z"
   },
   {
    "duration": 27,
    "start_time": "2022-02-05T11:17:00.384Z"
   },
   {
    "duration": 346,
    "start_time": "2022-02-05T11:17:00.412Z"
   },
   {
    "duration": 13,
    "start_time": "2022-02-05T11:17:00.759Z"
   },
   {
    "duration": 415,
    "start_time": "2022-02-05T11:17:00.773Z"
   },
   {
    "duration": 4,
    "start_time": "2022-02-05T11:17:01.189Z"
   },
   {
    "duration": 561,
    "start_time": "2022-02-05T11:17:01.194Z"
   },
   {
    "duration": 7,
    "start_time": "2022-02-05T11:17:01.757Z"
   },
   {
    "duration": 17,
    "start_time": "2022-02-05T11:17:01.766Z"
   },
   {
    "duration": 14,
    "start_time": "2022-02-05T11:17:01.785Z"
   },
   {
    "duration": 297,
    "start_time": "2022-02-05T11:17:01.801Z"
   },
   {
    "duration": 485,
    "start_time": "2022-02-05T11:17:02.100Z"
   },
   {
    "duration": 362,
    "start_time": "2022-02-05T11:17:02.587Z"
   },
   {
    "duration": 358,
    "start_time": "2022-02-05T11:17:02.951Z"
   },
   {
    "duration": 451,
    "start_time": "2022-02-05T11:17:03.310Z"
   },
   {
    "duration": 13,
    "start_time": "2022-02-05T11:17:03.762Z"
   },
   {
    "duration": 1105,
    "start_time": "2022-02-05T11:17:03.777Z"
   },
   {
    "duration": 11,
    "start_time": "2022-02-05T11:17:04.883Z"
   },
   {
    "duration": 10,
    "start_time": "2022-02-05T11:17:04.895Z"
   },
   {
    "duration": 1049,
    "start_time": "2022-02-05T11:17:04.906Z"
   },
   {
    "duration": 204,
    "start_time": "2022-02-05T11:17:05.956Z"
   },
   {
    "duration": 565,
    "start_time": "2022-02-05T11:17:06.162Z"
   },
   {
    "duration": 586,
    "start_time": "2022-02-05T11:17:06.729Z"
   },
   {
    "duration": 698,
    "start_time": "2022-02-05T11:17:07.320Z"
   },
   {
    "duration": 10,
    "start_time": "2022-02-05T11:17:08.019Z"
   },
   {
    "duration": 7,
    "start_time": "2022-02-05T11:17:08.031Z"
   },
   {
    "duration": 7,
    "start_time": "2022-02-05T11:17:08.040Z"
   },
   {
    "duration": 6,
    "start_time": "2022-02-05T11:17:08.049Z"
   },
   {
    "duration": 7,
    "start_time": "2022-02-05T11:17:08.056Z"
   },
   {
    "duration": 6,
    "start_time": "2022-02-05T11:17:08.065Z"
   },
   {
    "duration": 7,
    "start_time": "2022-02-05T11:17:08.073Z"
   },
   {
    "duration": 5,
    "start_time": "2022-02-05T11:17:08.081Z"
   },
   {
    "duration": 6,
    "start_time": "2022-02-05T11:17:08.088Z"
   },
   {
    "duration": 5,
    "start_time": "2022-02-05T11:17:08.095Z"
   },
   {
    "duration": 3,
    "start_time": "2022-02-05T11:22:19.443Z"
   },
   {
    "duration": 1118,
    "start_time": "2022-02-05T11:22:27.303Z"
   },
   {
    "duration": 2,
    "start_time": "2022-02-05T11:22:28.423Z"
   },
   {
    "duration": 11,
    "start_time": "2022-02-05T11:22:28.427Z"
   },
   {
    "duration": 44,
    "start_time": "2022-02-05T11:22:28.439Z"
   },
   {
    "duration": 9,
    "start_time": "2022-02-05T11:22:28.485Z"
   },
   {
    "duration": 26,
    "start_time": "2022-02-05T11:22:28.495Z"
   },
   {
    "duration": 13,
    "start_time": "2022-02-05T11:22:28.522Z"
   },
   {
    "duration": 15,
    "start_time": "2022-02-05T11:22:28.538Z"
   },
   {
    "duration": 6,
    "start_time": "2022-02-05T11:22:28.555Z"
   },
   {
    "duration": 10,
    "start_time": "2022-02-05T11:22:28.562Z"
   },
   {
    "duration": 6,
    "start_time": "2022-02-05T11:22:28.574Z"
   },
   {
    "duration": 13,
    "start_time": "2022-02-05T11:22:28.581Z"
   },
   {
    "duration": 8,
    "start_time": "2022-02-05T11:22:28.597Z"
   },
   {
    "duration": 26,
    "start_time": "2022-02-05T11:22:28.607Z"
   },
   {
    "duration": 6,
    "start_time": "2022-02-05T11:22:28.635Z"
   },
   {
    "duration": 10,
    "start_time": "2022-02-05T11:22:28.643Z"
   },
   {
    "duration": 8,
    "start_time": "2022-02-05T11:22:28.655Z"
   },
   {
    "duration": 9,
    "start_time": "2022-02-05T11:22:28.664Z"
   },
   {
    "duration": 13,
    "start_time": "2022-02-05T11:22:28.674Z"
   },
   {
    "duration": 4,
    "start_time": "2022-02-05T11:22:28.688Z"
   },
   {
    "duration": 12,
    "start_time": "2022-02-05T11:22:28.693Z"
   },
   {
    "duration": 30,
    "start_time": "2022-02-05T11:22:28.706Z"
   },
   {
    "duration": 13,
    "start_time": "2022-02-05T11:22:28.741Z"
   },
   {
    "duration": 10,
    "start_time": "2022-02-05T11:22:28.756Z"
   },
   {
    "duration": 23,
    "start_time": "2022-02-05T11:22:28.767Z"
   },
   {
    "duration": 5,
    "start_time": "2022-02-05T11:22:28.791Z"
   },
   {
    "duration": 30,
    "start_time": "2022-02-05T11:22:28.798Z"
   },
   {
    "duration": 20,
    "start_time": "2022-02-05T11:22:28.829Z"
   },
   {
    "duration": 4,
    "start_time": "2022-02-05T11:22:28.850Z"
   },
   {
    "duration": 9,
    "start_time": "2022-02-05T11:22:28.855Z"
   },
   {
    "duration": 18,
    "start_time": "2022-02-05T11:22:28.865Z"
   },
   {
    "duration": 45,
    "start_time": "2022-02-05T11:22:28.884Z"
   },
   {
    "duration": 14,
    "start_time": "2022-02-05T11:22:28.930Z"
   },
   {
    "duration": 7,
    "start_time": "2022-02-05T11:22:28.946Z"
   },
   {
    "duration": 13,
    "start_time": "2022-02-05T11:22:28.955Z"
   },
   {
    "duration": 7,
    "start_time": "2022-02-05T11:22:28.969Z"
   },
   {
    "duration": 5,
    "start_time": "2022-02-05T11:22:28.978Z"
   },
   {
    "duration": 11,
    "start_time": "2022-02-05T11:22:28.985Z"
   },
   {
    "duration": 44,
    "start_time": "2022-02-05T11:22:28.997Z"
   },
   {
    "duration": 9,
    "start_time": "2022-02-05T11:22:29.043Z"
   },
   {
    "duration": 4,
    "start_time": "2022-02-05T11:22:29.054Z"
   },
   {
    "duration": 11,
    "start_time": "2022-02-05T11:22:29.060Z"
   },
   {
    "duration": 12,
    "start_time": "2022-02-05T11:22:29.073Z"
   },
   {
    "duration": 50,
    "start_time": "2022-02-05T11:22:29.087Z"
   },
   {
    "duration": 31,
    "start_time": "2022-02-05T11:22:29.139Z"
   },
   {
    "duration": 506,
    "start_time": "2022-02-05T11:22:29.172Z"
   },
   {
    "duration": 19,
    "start_time": "2022-02-05T11:22:29.680Z"
   },
   {
    "duration": 485,
    "start_time": "2022-02-05T11:22:29.701Z"
   },
   {
    "duration": 4,
    "start_time": "2022-02-05T11:22:30.188Z"
   },
   {
    "duration": 963,
    "start_time": "2022-02-05T11:22:30.193Z"
   },
   {
    "duration": 8,
    "start_time": "2022-02-05T11:22:31.158Z"
   },
   {
    "duration": 10,
    "start_time": "2022-02-05T11:22:31.167Z"
   },
   {
    "duration": 12,
    "start_time": "2022-02-05T11:22:31.178Z"
   },
   {
    "duration": 302,
    "start_time": "2022-02-05T11:22:31.191Z"
   },
   {
    "duration": 518,
    "start_time": "2022-02-05T11:22:31.494Z"
   },
   {
    "duration": 383,
    "start_time": "2022-02-05T11:22:32.013Z"
   },
   {
    "duration": 387,
    "start_time": "2022-02-05T11:22:32.398Z"
   },
   {
    "duration": 475,
    "start_time": "2022-02-05T11:22:32.786Z"
   },
   {
    "duration": 15,
    "start_time": "2022-02-05T11:22:33.262Z"
   },
   {
    "duration": 1132,
    "start_time": "2022-02-05T11:22:33.278Z"
   },
   {
    "duration": 23,
    "start_time": "2022-02-05T11:22:34.411Z"
   },
   {
    "duration": 28,
    "start_time": "2022-02-05T11:22:34.436Z"
   },
   {
    "duration": 1533,
    "start_time": "2022-02-05T11:22:34.466Z"
   },
   {
    "duration": 292,
    "start_time": "2022-02-05T11:22:36.001Z"
   },
   {
    "duration": 610,
    "start_time": "2022-02-05T11:22:36.295Z"
   },
   {
    "duration": 620,
    "start_time": "2022-02-05T11:22:36.907Z"
   },
   {
    "duration": 636,
    "start_time": "2022-02-05T11:22:37.529Z"
   },
   {
    "duration": 6,
    "start_time": "2022-02-05T11:22:38.169Z"
   },
   {
    "duration": 6,
    "start_time": "2022-02-05T11:22:38.177Z"
   },
   {
    "duration": 6,
    "start_time": "2022-02-05T11:22:38.185Z"
   },
   {
    "duration": 34,
    "start_time": "2022-02-05T11:22:38.193Z"
   },
   {
    "duration": 7,
    "start_time": "2022-02-05T11:22:38.229Z"
   },
   {
    "duration": 21,
    "start_time": "2022-02-05T11:22:38.238Z"
   },
   {
    "duration": 9,
    "start_time": "2022-02-05T11:22:38.260Z"
   },
   {
    "duration": 6,
    "start_time": "2022-02-05T11:22:38.270Z"
   },
   {
    "duration": 6,
    "start_time": "2022-02-05T11:22:38.277Z"
   },
   {
    "duration": 5,
    "start_time": "2022-02-05T11:22:38.284Z"
   }
  ],
  "kernelspec": {
   "display_name": "Python 3 (ipykernel)",
   "language": "python",
   "name": "python3"
  },
  "language_info": {
   "codemirror_mode": {
    "name": "ipython",
    "version": 3
   },
   "file_extension": ".py",
   "mimetype": "text/x-python",
   "name": "python",
   "nbconvert_exporter": "python",
   "pygments_lexer": "ipython3",
   "version": "3.9.5"
  },
  "toc": {
   "base_numbering": 1,
   "nav_menu": {},
   "number_sections": true,
   "sideBar": true,
   "skip_h1_title": true,
   "title_cell": "Table of Contents",
   "title_sidebar": "Contents",
   "toc_cell": true,
   "toc_position": {
    "height": "calc(100% - 180px)",
    "left": "10px",
    "top": "150px",
    "width": "166px"
   },
   "toc_section_display": true,
   "toc_window_display": true
  }
 },
 "nbformat": 4,
 "nbformat_minor": 2
}
