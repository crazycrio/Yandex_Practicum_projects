{
 "cells": [
  {
   "cell_type": "markdown",
   "metadata": {},
   "source": [
    "Привет, меня зовут Артем Хуршудов. Сегодня я проверю твой проект.\n",
    "<br> Дальнейшее общение будет происходить на \"ты\" если это не вызывает никаких проблем.\n",
    "<br> Желательно реагировать на каждый мой комментарий ('исправил', 'не понятно как исправить ошибку', ...)\n",
    "<br> Пожалуйста, не удаляй комментарии ревьюера, так как они повышают качество повторного ревью.\n",
    "\n",
    "Комментарии будут в <font color='green'>зеленой</font>, <font color='blue'>синей</font> или <font color='red'>красной</font> рамках:\n",
    "\n",
    "<div class=\"alert alert-block alert-success\">\n",
    "<b>Успех:</b> Если все сделано отлично\n",
    "</div>\n",
    "\n",
    "<div class=\"alert alert-block alert-info\">\n",
    "<b>Совет: </b> Если можно немного улучшить\n",
    "</div>\n",
    "\n",
    "<div class=\"alert alert-block alert-danger\">\n",
    "<b>Ошибка:</b> Если требуются исправления. Работа не может быть принята с красными комментариями.\n",
    "</div>\n",
    "\n",
    "-------------------\n",
    "\n",
    "Будет очень хорошо, если ты будешь помечать свои действия следующим образом:\n",
    "<div class=\"alert alert-block alert-warning\">\n",
    "<b>Комментарий студента:</b> ...\n",
    "</div>\n",
    "\n",
    "<div class=\"alert alert-block alert-warning\">\n",
    "<b>Изменения:</b> Были внесены следующие изменения ...\n",
    "</div>\n",
    "\n",
    "#### <font color='orange'>Полезные ссылки:</font>\n",
    "* Могу предложить обратить внимание на вот этот теоритический курс лекци: https://www.youtube.com/watch?v=SZkrxWhI5qM&list=PLJOzdkh8T5krxc4HsHbB8g8f0hu7973fK\n",
    "\n",
    "### <font color='orange'>Общее впечатление</font>\n",
    "* Большое спасибо за проделанную работу. Видно, что приложено много усилий.\n",
    "* Отлично, что правильно использованы train/valid/test наборы.\n",
    "* Выводы и рассуждения получились содержательными, их было интересно читать.\n",
    "* Я оставил несколько советов, надеюсь, что они будут учтены в будущих проектах.\n",
    "* Тебе удалось добиться очень хорошего качества, поздравляю!\n",
    "* Проект может быть зачтен, но я его отправлю назад, чтобы у тебя была возможность задать вопросы и внести правки, при желании. Однако, ты можешь просто вернуть проект в таком же виде и я его зачту."
   ]
  },
  {
   "cell_type": "markdown",
   "metadata": {},
   "source": [
    "### <font color='orange'>Общее впечатление (ревью 2)</font>\n",
    "* Проект зачтен!\n",
    "* Для удобства все новые комментарии обозначены фразой \"ревью 2\".\n",
    "* Удачи в дальнейшем обучении и следующих работах!"
   ]
  },
  {
   "cell_type": "markdown",
   "metadata": {},
   "source": [
    "# Рекомендация тарифов"
   ]
  },
  {
   "cell_type": "markdown",
   "metadata": {},
   "source": [
    "**Описание проекта**\n",
    "\n",
    "Оператор мобильной связи «Мегалайн» выяснил: многие клиенты пользуются архивными тарифами. Они хотят построить систему, способную проанализировать поведение клиентов и предложить пользователям новый тариф: «Смарт» или «Ультра».\n",
    "\n",
    "В вашем распоряжении данные о поведении клиентов, которые уже перешли на эти тарифы (из проекта курса «Статистический анализ данных»). Нужно построить модель для задачи классификации, которая выберет подходящий тариф. Предобработка данных не понадобится — вы её уже сделали.\n",
    "\n",
    "Постройте модель с максимально большим значением accuracy. Чтобы сдать проект успешно, нужно довести долю правильных ответов по крайней мере до 0.75. Проверьте accuracy на тестовой выборке самостоятельно.\n",
    "\n",
    "Инструкция по выполнению проекта\n",
    "\n",
    "- Откройте файл с данными и изучите его. Путь к файлу: /datasets/users_behavior.csv.\n",
    "- Разделите исходные данные на обучающую, валидационную и тестовую выборки.\n",
    "- Исследуйте качество разных моделей, меняя гиперпараметры. Кратко напишите выводы исследования.\n",
    "- Проверьте качество модели на тестовой выборке.\n",
    "- **Дополнительное задание: проверьте модели на вменяемость. Ничего страшного, если не получится: эти данные сложнее тех, с которыми вы работали раньше. В следующем курсе подробнее об этом расскажем.**\n",
    "\n",
    "Описание данных\n",
    "\n",
    "Каждый объект в наборе данных — это информация о поведении одного пользователя за месяц. Известно:\n",
    "\n",
    "- сalls — количество звонков,\n",
    "- minutes — суммарная длительность звонков в минутах,\n",
    "- messages — количество sms-сообщений,\n",
    "- mb_used — израсходованный интернет-трафик в Мб,\n",
    "- is_ultra — каким тарифом пользовался в течение месяца («Ультра» — 1, «Смарт» — 0)."
   ]
  },
  {
   "cell_type": "markdown",
   "metadata": {},
   "source": [
    "## Откройте и изучите файл"
   ]
  },
  {
   "cell_type": "markdown",
   "metadata": {},
   "source": [
    "### Загрузка модулей и библиотек"
   ]
  },
  {
   "cell_type": "markdown",
   "metadata": {},
   "source": [
    "Начнем работу с загрузки необходимых модулей и библиотек для работы, также настроим рабочую среду для более комфортной работы.\n"
   ]
  },
  {
   "cell_type": "markdown",
   "metadata": {},
   "source": [
    "Для начала надо определиться с типом решаемой задачи и под нее уже выбрать инструменты для работы. Нам необходимо предсказать по поведению клиентов (т.е. по кол-ву совершенных звонков, отправленных СМС и израсходованному интернет-трафику) наилучший тариф - **Ультра** или **Смарт**. Получается мы имеем дело с задачей классификации.\n",
    "\n",
    "Моделями для обучения и работы будут 3 пройденные в рамках курса: **DecisionTreeClassifier**, **RandomForestClassifier**, **LogisticRegression**."
   ]
  },
  {
   "cell_type": "code",
   "execution_count": 1,
   "metadata": {},
   "outputs": [],
   "source": [
    "import pandas as pd\n",
    "from sklearn.tree import DecisionTreeClassifier\n",
    "from sklearn.ensemble import RandomForestClassifier\n",
    "from sklearn.linear_model import LogisticRegression\n",
    "from sklearn.model_selection import train_test_split\n",
    "from sklearn.metrics import accuracy_score\n",
    "from matplotlib import pyplot"
   ]
  },
  {
   "cell_type": "code",
   "execution_count": 2,
   "metadata": {},
   "outputs": [],
   "source": [
    "import warnings\n",
    "warnings.filterwarnings(\"ignore\")"
   ]
  },
  {
   "cell_type": "code",
   "execution_count": 3,
   "metadata": {},
   "outputs": [],
   "source": [
    "pd.set_option('display.max_columns', None)\n",
    "pd.options.display.float_format = '{:,.2f}'.format"
   ]
  },
  {
   "cell_type": "code",
   "execution_count": 4,
   "metadata": {},
   "outputs": [],
   "source": [
    "font = {'family': 'monospace',\n",
    "        'color':  '#000000',\n",
    "        'weight': 'bold',\n",
    "        'size': 14,\n",
    "        }"
   ]
  },
  {
   "cell_type": "markdown",
   "metadata": {},
   "source": [
    "<div class=\"alert alert-block alert-info\">\n",
    "<b>Совет: </b> Желательно, чтобы все импорты были собраны в верхней части ноутбука! Если у того, кто будет запускать твой ноутбук будут отсутствовать некоторые библиотеки, то он это увидит сразу, а не в процессе!\n",
    "</div>"
   ]
  },
  {
   "cell_type": "markdown",
   "metadata": {},
   "source": [
    "<div class=\"alert alert-block alert-warning\">\n",
    "<b>Комментарий студента:</b> В верхней части это еще выше? \n",
    "</div>"
   ]
  },
  {
   "cell_type": "markdown",
   "metadata": {},
   "source": [
    "<div class=\"alert alert-block alert-info\">\n",
    "<b>Совет (ревью 2): </b> Нет, у тебя просто не все импорты.\n",
    "</div>"
   ]
  },
  {
   "cell_type": "markdown",
   "metadata": {},
   "source": [
    "### Загрузка и оценка данных"
   ]
  },
  {
   "cell_type": "markdown",
   "metadata": {},
   "source": [
    "Теперь можно открыть набор данных и изучить его."
   ]
  },
  {
   "cell_type": "code",
   "execution_count": 5,
   "metadata": {},
   "outputs": [],
   "source": [
    "df = pd.read_csv('/datasets/users_behavior.csv')"
   ]
  },
  {
   "cell_type": "code",
   "execution_count": 6,
   "metadata": {},
   "outputs": [
    {
     "data": {
      "text/html": [
       "<div>\n",
       "<style scoped>\n",
       "    .dataframe tbody tr th:only-of-type {\n",
       "        vertical-align: middle;\n",
       "    }\n",
       "\n",
       "    .dataframe tbody tr th {\n",
       "        vertical-align: top;\n",
       "    }\n",
       "\n",
       "    .dataframe thead th {\n",
       "        text-align: right;\n",
       "    }\n",
       "</style>\n",
       "<table border=\"1\" class=\"dataframe\">\n",
       "  <thead>\n",
       "    <tr style=\"text-align: right;\">\n",
       "      <th></th>\n",
       "      <th>calls</th>\n",
       "      <th>minutes</th>\n",
       "      <th>messages</th>\n",
       "      <th>mb_used</th>\n",
       "      <th>is_ultra</th>\n",
       "    </tr>\n",
       "  </thead>\n",
       "  <tbody>\n",
       "    <tr>\n",
       "      <td>count</td>\n",
       "      <td>3,214.00</td>\n",
       "      <td>3,214.00</td>\n",
       "      <td>3,214.00</td>\n",
       "      <td>3,214.00</td>\n",
       "      <td>3,214.00</td>\n",
       "    </tr>\n",
       "    <tr>\n",
       "      <td>mean</td>\n",
       "      <td>63.04</td>\n",
       "      <td>438.21</td>\n",
       "      <td>38.28</td>\n",
       "      <td>17,207.67</td>\n",
       "      <td>0.31</td>\n",
       "    </tr>\n",
       "    <tr>\n",
       "      <td>std</td>\n",
       "      <td>33.24</td>\n",
       "      <td>234.57</td>\n",
       "      <td>36.15</td>\n",
       "      <td>7,570.97</td>\n",
       "      <td>0.46</td>\n",
       "    </tr>\n",
       "    <tr>\n",
       "      <td>min</td>\n",
       "      <td>0.00</td>\n",
       "      <td>0.00</td>\n",
       "      <td>0.00</td>\n",
       "      <td>0.00</td>\n",
       "      <td>0.00</td>\n",
       "    </tr>\n",
       "    <tr>\n",
       "      <td>25%</td>\n",
       "      <td>40.00</td>\n",
       "      <td>274.58</td>\n",
       "      <td>9.00</td>\n",
       "      <td>12,491.90</td>\n",
       "      <td>0.00</td>\n",
       "    </tr>\n",
       "    <tr>\n",
       "      <td>50%</td>\n",
       "      <td>62.00</td>\n",
       "      <td>430.60</td>\n",
       "      <td>30.00</td>\n",
       "      <td>16,943.24</td>\n",
       "      <td>0.00</td>\n",
       "    </tr>\n",
       "    <tr>\n",
       "      <td>75%</td>\n",
       "      <td>82.00</td>\n",
       "      <td>571.93</td>\n",
       "      <td>57.00</td>\n",
       "      <td>21,424.70</td>\n",
       "      <td>1.00</td>\n",
       "    </tr>\n",
       "    <tr>\n",
       "      <td>max</td>\n",
       "      <td>244.00</td>\n",
       "      <td>1,632.06</td>\n",
       "      <td>224.00</td>\n",
       "      <td>49,745.73</td>\n",
       "      <td>1.00</td>\n",
       "    </tr>\n",
       "  </tbody>\n",
       "</table>\n",
       "</div>"
      ],
      "text/plain": [
       "         calls  minutes  messages   mb_used  is_ultra\n",
       "count 3,214.00 3,214.00  3,214.00  3,214.00  3,214.00\n",
       "mean     63.04   438.21     38.28 17,207.67      0.31\n",
       "std      33.24   234.57     36.15  7,570.97      0.46\n",
       "min       0.00     0.00      0.00      0.00      0.00\n",
       "25%      40.00   274.58      9.00 12,491.90      0.00\n",
       "50%      62.00   430.60     30.00 16,943.24      0.00\n",
       "75%      82.00   571.93     57.00 21,424.70      1.00\n",
       "max     244.00 1,632.06    224.00 49,745.73      1.00"
      ]
     },
     "execution_count": 6,
     "metadata": {},
     "output_type": "execute_result"
    }
   ],
   "source": [
    "df.describe()"
   ]
  },
  {
   "cell_type": "code",
   "execution_count": 7,
   "metadata": {
    "scrolled": true
   },
   "outputs": [
    {
     "name": "stdout",
     "output_type": "stream",
     "text": [
      "<class 'pandas.core.frame.DataFrame'>\n",
      "RangeIndex: 3214 entries, 0 to 3213\n",
      "Data columns (total 5 columns):\n",
      "calls       3214 non-null float64\n",
      "minutes     3214 non-null float64\n",
      "messages    3214 non-null float64\n",
      "mb_used     3214 non-null float64\n",
      "is_ultra    3214 non-null int64\n",
      "dtypes: float64(4), int64(1)\n",
      "memory usage: 125.7 KB\n"
     ]
    }
   ],
   "source": [
    "df.info()"
   ]
  },
  {
   "cell_type": "code",
   "execution_count": 8,
   "metadata": {},
   "outputs": [
    {
     "data": {
      "text/html": [
       "<div>\n",
       "<style scoped>\n",
       "    .dataframe tbody tr th:only-of-type {\n",
       "        vertical-align: middle;\n",
       "    }\n",
       "\n",
       "    .dataframe tbody tr th {\n",
       "        vertical-align: top;\n",
       "    }\n",
       "\n",
       "    .dataframe thead th {\n",
       "        text-align: right;\n",
       "    }\n",
       "</style>\n",
       "<table border=\"1\" class=\"dataframe\">\n",
       "  <thead>\n",
       "    <tr style=\"text-align: right;\">\n",
       "      <th></th>\n",
       "      <th>calls</th>\n",
       "      <th>minutes</th>\n",
       "      <th>messages</th>\n",
       "      <th>mb_used</th>\n",
       "      <th>is_ultra</th>\n",
       "    </tr>\n",
       "  </thead>\n",
       "  <tbody>\n",
       "    <tr>\n",
       "      <td>0</td>\n",
       "      <td>40.00</td>\n",
       "      <td>311.90</td>\n",
       "      <td>83.00</td>\n",
       "      <td>19,915.42</td>\n",
       "      <td>0</td>\n",
       "    </tr>\n",
       "    <tr>\n",
       "      <td>1</td>\n",
       "      <td>85.00</td>\n",
       "      <td>516.75</td>\n",
       "      <td>56.00</td>\n",
       "      <td>22,696.96</td>\n",
       "      <td>0</td>\n",
       "    </tr>\n",
       "    <tr>\n",
       "      <td>2</td>\n",
       "      <td>77.00</td>\n",
       "      <td>467.66</td>\n",
       "      <td>86.00</td>\n",
       "      <td>21,060.45</td>\n",
       "      <td>0</td>\n",
       "    </tr>\n",
       "    <tr>\n",
       "      <td>3</td>\n",
       "      <td>106.00</td>\n",
       "      <td>745.53</td>\n",
       "      <td>81.00</td>\n",
       "      <td>8,437.39</td>\n",
       "      <td>1</td>\n",
       "    </tr>\n",
       "    <tr>\n",
       "      <td>4</td>\n",
       "      <td>66.00</td>\n",
       "      <td>418.74</td>\n",
       "      <td>1.00</td>\n",
       "      <td>14,502.75</td>\n",
       "      <td>0</td>\n",
       "    </tr>\n",
       "  </tbody>\n",
       "</table>\n",
       "</div>"
      ],
      "text/plain": [
       "   calls  minutes  messages   mb_used  is_ultra\n",
       "0  40.00   311.90     83.00 19,915.42         0\n",
       "1  85.00   516.75     56.00 22,696.96         0\n",
       "2  77.00   467.66     86.00 21,060.45         0\n",
       "3 106.00   745.53     81.00  8,437.39         1\n",
       "4  66.00   418.74      1.00 14,502.75         0"
      ]
     },
     "execution_count": 8,
     "metadata": {},
     "output_type": "execute_result"
    }
   ],
   "source": [
    "df.head()"
   ]
  },
  {
   "cell_type": "code",
   "execution_count": 9,
   "metadata": {},
   "outputs": [
    {
     "data": {
      "text/html": [
       "<div>\n",
       "<style scoped>\n",
       "    .dataframe tbody tr th:only-of-type {\n",
       "        vertical-align: middle;\n",
       "    }\n",
       "\n",
       "    .dataframe tbody tr th {\n",
       "        vertical-align: top;\n",
       "    }\n",
       "\n",
       "    .dataframe thead th {\n",
       "        text-align: right;\n",
       "    }\n",
       "</style>\n",
       "<table border=\"1\" class=\"dataframe\">\n",
       "  <thead>\n",
       "    <tr style=\"text-align: right;\">\n",
       "      <th></th>\n",
       "      <th>calls</th>\n",
       "      <th>minutes</th>\n",
       "      <th>messages</th>\n",
       "      <th>mb_used</th>\n",
       "      <th>is_ultra</th>\n",
       "    </tr>\n",
       "  </thead>\n",
       "  <tbody>\n",
       "    <tr>\n",
       "      <td>3209</td>\n",
       "      <td>122.00</td>\n",
       "      <td>910.98</td>\n",
       "      <td>20.00</td>\n",
       "      <td>35,124.90</td>\n",
       "      <td>1</td>\n",
       "    </tr>\n",
       "    <tr>\n",
       "      <td>3210</td>\n",
       "      <td>25.00</td>\n",
       "      <td>190.36</td>\n",
       "      <td>0.00</td>\n",
       "      <td>3,275.61</td>\n",
       "      <td>0</td>\n",
       "    </tr>\n",
       "    <tr>\n",
       "      <td>3211</td>\n",
       "      <td>97.00</td>\n",
       "      <td>634.44</td>\n",
       "      <td>70.00</td>\n",
       "      <td>13,974.06</td>\n",
       "      <td>0</td>\n",
       "    </tr>\n",
       "    <tr>\n",
       "      <td>3212</td>\n",
       "      <td>64.00</td>\n",
       "      <td>462.32</td>\n",
       "      <td>90.00</td>\n",
       "      <td>31,239.78</td>\n",
       "      <td>0</td>\n",
       "    </tr>\n",
       "    <tr>\n",
       "      <td>3213</td>\n",
       "      <td>80.00</td>\n",
       "      <td>566.09</td>\n",
       "      <td>6.00</td>\n",
       "      <td>29,480.52</td>\n",
       "      <td>1</td>\n",
       "    </tr>\n",
       "  </tbody>\n",
       "</table>\n",
       "</div>"
      ],
      "text/plain": [
       "      calls  minutes  messages   mb_used  is_ultra\n",
       "3209 122.00   910.98     20.00 35,124.90         1\n",
       "3210  25.00   190.36      0.00  3,275.61         0\n",
       "3211  97.00   634.44     70.00 13,974.06         0\n",
       "3212  64.00   462.32     90.00 31,239.78         0\n",
       "3213  80.00   566.09      6.00 29,480.52         1"
      ]
     },
     "execution_count": 9,
     "metadata": {},
     "output_type": "execute_result"
    }
   ],
   "source": [
    "df.tail()"
   ]
  },
  {
   "cell_type": "code",
   "execution_count": 10,
   "metadata": {},
   "outputs": [
    {
     "data": {
      "text/html": [
       "<div>\n",
       "<style scoped>\n",
       "    .dataframe tbody tr th:only-of-type {\n",
       "        vertical-align: middle;\n",
       "    }\n",
       "\n",
       "    .dataframe tbody tr th {\n",
       "        vertical-align: top;\n",
       "    }\n",
       "\n",
       "    .dataframe thead th {\n",
       "        text-align: right;\n",
       "    }\n",
       "</style>\n",
       "<table border=\"1\" class=\"dataframe\">\n",
       "  <thead>\n",
       "    <tr style=\"text-align: right;\">\n",
       "      <th></th>\n",
       "      <th>calls</th>\n",
       "      <th>minutes</th>\n",
       "      <th>messages</th>\n",
       "      <th>mb_used</th>\n",
       "      <th>is_ultra</th>\n",
       "    </tr>\n",
       "  </thead>\n",
       "  <tbody>\n",
       "    <tr>\n",
       "      <td>749</td>\n",
       "      <td>69.00</td>\n",
       "      <td>430.50</td>\n",
       "      <td>9.00</td>\n",
       "      <td>10,460.90</td>\n",
       "      <td>0</td>\n",
       "    </tr>\n",
       "    <tr>\n",
       "      <td>740</td>\n",
       "      <td>69.00</td>\n",
       "      <td>456.26</td>\n",
       "      <td>39.00</td>\n",
       "      <td>15,289.84</td>\n",
       "      <td>0</td>\n",
       "    </tr>\n",
       "    <tr>\n",
       "      <td>503</td>\n",
       "      <td>118.00</td>\n",
       "      <td>726.13</td>\n",
       "      <td>27.00</td>\n",
       "      <td>22,022.28</td>\n",
       "      <td>1</td>\n",
       "    </tr>\n",
       "    <tr>\n",
       "      <td>3155</td>\n",
       "      <td>64.00</td>\n",
       "      <td>431.79</td>\n",
       "      <td>14.00</td>\n",
       "      <td>14,675.42</td>\n",
       "      <td>0</td>\n",
       "    </tr>\n",
       "    <tr>\n",
       "      <td>1819</td>\n",
       "      <td>125.00</td>\n",
       "      <td>897.35</td>\n",
       "      <td>0.00</td>\n",
       "      <td>38,910.01</td>\n",
       "      <td>1</td>\n",
       "    </tr>\n",
       "  </tbody>\n",
       "</table>\n",
       "</div>"
      ],
      "text/plain": [
       "      calls  minutes  messages   mb_used  is_ultra\n",
       "749   69.00   430.50      9.00 10,460.90         0\n",
       "740   69.00   456.26     39.00 15,289.84         0\n",
       "503  118.00   726.13     27.00 22,022.28         1\n",
       "3155  64.00   431.79     14.00 14,675.42         0\n",
       "1819 125.00   897.35      0.00 38,910.01         1"
      ]
     },
     "execution_count": 10,
     "metadata": {},
     "output_type": "execute_result"
    }
   ],
   "source": [
    "df.sample(5)"
   ]
  },
  {
   "cell_type": "code",
   "execution_count": 11,
   "metadata": {},
   "outputs": [
    {
     "data": {
      "text/plain": [
       "calls       0\n",
       "minutes     0\n",
       "messages    0\n",
       "mb_used     0\n",
       "is_ultra    0\n",
       "dtype: int64"
      ]
     },
     "execution_count": 11,
     "metadata": {},
     "output_type": "execute_result"
    }
   ],
   "source": [
    "df.isnull().sum()"
   ]
  },
  {
   "cell_type": "code",
   "execution_count": 12,
   "metadata": {},
   "outputs": [
    {
     "data": {
      "text/plain": [
       "0"
      ]
     },
     "execution_count": 12,
     "metadata": {},
     "output_type": "execute_result"
    }
   ],
   "source": [
    "df.duplicated().sum()"
   ]
  },
  {
   "cell_type": "markdown",
   "metadata": {},
   "source": [
    "**Вывод**"
   ]
  },
  {
   "cell_type": "markdown",
   "metadata": {},
   "source": [
    "Как говорится, доверяй, но проверяй. Действительно имеем подготовленный набор данных, не требующий дополнительной предобработки. Все столбцы содержат данные без пропусков, повторов и в верных форматах данных."
   ]
  },
  {
   "cell_type": "markdown",
   "metadata": {},
   "source": [
    "<div class=\"alert alert-block alert-success\">\n",
    "<b>Успех:</b> Данные загружены корректно, первичный осмотр проведен.\n",
    "</div>"
   ]
  },
  {
   "cell_type": "markdown",
   "metadata": {},
   "source": [
    "## Разбейте данные на выборки"
   ]
  },
  {
   "cell_type": "markdown",
   "metadata": {},
   "source": [
    "Проведем разделение данных на выборки для обучения модели, валидации, тестирования. Соовтетственно нам нужно разделить исходный набор данных в соотношении 3:1:1. Но сначала выделим из всех признаков целевой и запишем его в отдельный набор данных. Целевой признак в нашей задаче - столбец **is_ultra**; вынесем его отдельно от остальных признаков."
   ]
  },
  {
   "cell_type": "code",
   "execution_count": 13,
   "metadata": {},
   "outputs": [],
   "source": [
    "features = df.drop(['is_ultra'], axis = 1)\n",
    "target = df['is_ultra']"
   ]
  },
  {
   "cell_type": "code",
   "execution_count": 14,
   "metadata": {
    "scrolled": true
   },
   "outputs": [
    {
     "name": "stdout",
     "output_type": "stream",
     "text": [
      "<class 'pandas.core.frame.DataFrame'>\n",
      "RangeIndex: 3214 entries, 0 to 3213\n",
      "Data columns (total 4 columns):\n",
      "calls       3214 non-null float64\n",
      "minutes     3214 non-null float64\n",
      "messages    3214 non-null float64\n",
      "mb_used     3214 non-null float64\n",
      "dtypes: float64(4)\n",
      "memory usage: 100.6 KB\n"
     ]
    }
   ],
   "source": [
    "features.info()"
   ]
  },
  {
   "cell_type": "code",
   "execution_count": 15,
   "metadata": {},
   "outputs": [
    {
     "data": {
      "text/plain": [
       "(3214,)"
      ]
     },
     "execution_count": 15,
     "metadata": {},
     "output_type": "execute_result"
    }
   ],
   "source": [
    "target.shape"
   ]
  },
  {
   "cell_type": "markdown",
   "metadata": {},
   "source": [
    "Для удобства, зададим переменные для гиперпараметров и значение **random_state** в одной ячейке, чтобы можно было всегда их быстро подправить во всем коде."
   ]
  },
  {
   "cell_type": "code",
   "execution_count": 16,
   "metadata": {},
   "outputs": [],
   "source": [
    "seed = 140593 #Значение для random_state\n",
    "n_estimators = 100 #Значение для контроля количества деревьев в случайном лесу\n",
    "depth = 5 #Значение для контроля высоты решающего дерева"
   ]
  },
  {
   "cell_type": "markdown",
   "metadata": {},
   "source": [
    "Теперь можно приступить к разделению данных на обучающую, валидационную и тестовую выборки. Поскольку \"спрятанной\" тестовой выборки у нас нет, то разделение выполним в 2 этапа: разделим данные на обучающую и вадидационно-тестовую выборки в соотношении 4:6; 60% данных станут обучающей выборкой, остальные 40% будут валидационно-тестовой, затем разделим валидационно-тестовую выборку пополам, что в результате даст: 60% обучающей выборки, 20% валидационной и 20% тестовой выборки от исходного набора данных."
   ]
  },
  {
   "cell_type": "code",
   "execution_count": 17,
   "metadata": {},
   "outputs": [],
   "source": [
    "features_training, features_test_valid, target_training, target_test_valid = train_test_split(features, target,\n",
    "                                                                              test_size=0.4,\n",
    "                                                                              random_state=seed)\n",
    "features_test, features_valid, target_test, target_valid = train_test_split(features_test_valid, target_test_valid,\n",
    "                                                                              test_size=0.5,\n",
    "                                                                              random_state=seed)"
   ]
  },
  {
   "cell_type": "code",
   "execution_count": 18,
   "metadata": {},
   "outputs": [
    {
     "name": "stdout",
     "output_type": "stream",
     "text": [
      "<class 'pandas.core.frame.DataFrame'>\n",
      "Int64Index: 1928 entries, 913 to 1965\n",
      "Data columns (total 4 columns):\n",
      "calls       1928 non-null float64\n",
      "minutes     1928 non-null float64\n",
      "messages    1928 non-null float64\n",
      "mb_used     1928 non-null float64\n",
      "dtypes: float64(4)\n",
      "memory usage: 75.3 KB\n"
     ]
    }
   ],
   "source": [
    "features_training.info()"
   ]
  },
  {
   "cell_type": "code",
   "execution_count": 19,
   "metadata": {},
   "outputs": [
    {
     "name": "stdout",
     "output_type": "stream",
     "text": [
      "<class 'pandas.core.frame.DataFrame'>\n",
      "Int64Index: 643 entries, 2443 to 754\n",
      "Data columns (total 4 columns):\n",
      "calls       643 non-null float64\n",
      "minutes     643 non-null float64\n",
      "messages    643 non-null float64\n",
      "mb_used     643 non-null float64\n",
      "dtypes: float64(4)\n",
      "memory usage: 25.1 KB\n"
     ]
    }
   ],
   "source": [
    "features_valid.info()"
   ]
  },
  {
   "cell_type": "code",
   "execution_count": 20,
   "metadata": {},
   "outputs": [
    {
     "name": "stdout",
     "output_type": "stream",
     "text": [
      "<class 'pandas.core.frame.DataFrame'>\n",
      "Int64Index: 643 entries, 766 to 1911\n",
      "Data columns (total 4 columns):\n",
      "calls       643 non-null float64\n",
      "minutes     643 non-null float64\n",
      "messages    643 non-null float64\n",
      "mb_used     643 non-null float64\n",
      "dtypes: float64(4)\n",
      "memory usage: 25.1 KB\n"
     ]
    }
   ],
   "source": [
    "features_test.info()"
   ]
  },
  {
   "cell_type": "code",
   "execution_count": 21,
   "metadata": {},
   "outputs": [
    {
     "data": {
      "text/plain": [
       "913     1\n",
       "390     1\n",
       "1648    1\n",
       "2124    0\n",
       "1368    1\n",
       "       ..\n",
       "1969    0\n",
       "2885    1\n",
       "288     0\n",
       "1318    1\n",
       "1965    0\n",
       "Name: is_ultra, Length: 1928, dtype: int64"
      ]
     },
     "execution_count": 21,
     "metadata": {},
     "output_type": "execute_result"
    }
   ],
   "source": [
    "target_training"
   ]
  },
  {
   "cell_type": "code",
   "execution_count": 22,
   "metadata": {},
   "outputs": [
    {
     "data": {
      "text/plain": [
       "2443    1\n",
       "1440    0\n",
       "211     0\n",
       "411     0\n",
       "560     0\n",
       "       ..\n",
       "2960    1\n",
       "1801    0\n",
       "601     0\n",
       "1309    0\n",
       "754     0\n",
       "Name: is_ultra, Length: 643, dtype: int64"
      ]
     },
     "execution_count": 22,
     "metadata": {},
     "output_type": "execute_result"
    }
   ],
   "source": [
    "target_valid"
   ]
  },
  {
   "cell_type": "code",
   "execution_count": 23,
   "metadata": {
    "scrolled": true
   },
   "outputs": [
    {
     "data": {
      "text/plain": [
       "766     0\n",
       "2994    0\n",
       "2507    0\n",
       "3210    0\n",
       "767     0\n",
       "       ..\n",
       "410     0\n",
       "1149    1\n",
       "1280    1\n",
       "2025    0\n",
       "1911    0\n",
       "Name: is_ultra, Length: 643, dtype: int64"
      ]
     },
     "execution_count": 23,
     "metadata": {},
     "output_type": "execute_result"
    }
   ],
   "source": [
    "target_test"
   ]
  },
  {
   "cell_type": "code",
   "execution_count": 24,
   "metadata": {},
   "outputs": [
    {
     "data": {
      "text/plain": [
       "3214"
      ]
     },
     "execution_count": 24,
     "metadata": {},
     "output_type": "execute_result"
    }
   ],
   "source": [
    "1928+643+643"
   ]
  },
  {
   "cell_type": "code",
   "execution_count": 25,
   "metadata": {},
   "outputs": [
    {
     "data": {
      "text/plain": [
       "1.0"
      ]
     },
     "execution_count": 25,
     "metadata": {},
     "output_type": "execute_result"
    }
   ],
   "source": [
    "(1928/3214)+(643/3214)+(643/3214)"
   ]
  },
  {
   "cell_type": "markdown",
   "metadata": {},
   "source": [
    "**Вывод**"
   ]
  },
  {
   "cell_type": "markdown",
   "metadata": {},
   "source": [
    "Немного топорная проверка (заказчикам такое лучше не показывать), но все сошлось обратно к 100%, значит разделение на обучающую, валидационную и тестовую выборки проведено корректно. Можно приступать к обучению моделей и настройке."
   ]
  },
  {
   "cell_type": "markdown",
   "metadata": {},
   "source": [
    "<div class=\"alert alert-block alert-success\">\n",
    "<b>Успех:</b> Разбиение было сделано правильно. Радует, что была реализована проверка корректности разбиения!\n",
    "</div>"
   ]
  },
  {
   "cell_type": "markdown",
   "metadata": {},
   "source": [
    "## Исследуйте модели"
   ]
  },
  {
   "cell_type": "markdown",
   "metadata": {},
   "source": [
    "### Инициализация \"дефолтных\" моделей"
   ]
  },
  {
   "cell_type": "markdown",
   "metadata": {},
   "source": [
    "Начнем работу с моделями с дефолтных гиперпараметров, задав только seed для random_state, оценим их работу через параметр **accuracy**."
   ]
  },
  {
   "cell_type": "markdown",
   "metadata": {},
   "source": [
    "Для создания компактного и удобного для запуска Workflow по обучению модели добавим каждую из моделей в список, к которому затем будем обращаться при настройке моделей."
   ]
  },
  {
   "cell_type": "code",
   "execution_count": 26,
   "metadata": {},
   "outputs": [],
   "source": [
    "models = []\n",
    "models.append(('DTC', DecisionTreeClassifier(random_state = seed)))\n",
    "models.append(('RF', RandomForestClassifier(random_state = seed)))\n",
    "models.append(('LR', LogisticRegression(random_state = seed)))"
   ]
  },
  {
   "cell_type": "markdown",
   "metadata": {},
   "source": [
    "Для проверки качества модели будем использовать метрику **accuracy**, напишем цикл для совместного расчета всех вариантов модели, с выводом только оценки модели на тренировочных и валидационных данных."
   ]
  },
  {
   "cell_type": "code",
   "execution_count": 27,
   "metadata": {
    "scrolled": true
   },
   "outputs": [
    {
     "name": "stdout",
     "output_type": "stream",
     "text": [
      "DTC: valid = 0.715\n",
      "RF: valid = 0.784\n",
      "LR: valid = 0.750\n"
     ]
    }
   ],
   "source": [
    "scores = []\n",
    "names = []\n",
    "predictions = []\n",
    "msg_row = []\n",
    "for name, model in models:\n",
    "    names.append(name)\n",
    "    m_fit = model.fit(features_training, target_training)\n",
    "    m_predict = model.predict(features_valid)\n",
    "    predictions.append(m_predict)\n",
    "    m_score = accuracy_score(target_valid,m_predict)\n",
    "    scores.append(m_score)\n",
    "    msg = \"%s: valid = %.3f\" % (name, m_score)\n",
    "    msg_row.append(msg)\n",
    "    print(msg)"
   ]
  },
  {
   "cell_type": "markdown",
   "metadata": {},
   "source": [
    "Случайный лес вырывается вперед. Попробуем теперь отдельно поработать с каждой моделью и поварьировать гиперпараметры по отдельности."
   ]
  },
  {
   "cell_type": "markdown",
   "metadata": {},
   "source": [
    "### Дерево решений"
   ]
  },
  {
   "cell_type": "markdown",
   "metadata": {},
   "source": [
    "Поработаем с деревом решений, поменяв в нем гиперпараметр отвечающий за максимальную высоту."
   ]
  },
  {
   "cell_type": "code",
   "execution_count": 28,
   "metadata": {},
   "outputs": [],
   "source": [
    "max_depth_DTC = []\n",
    "score_DTC = []\n",
    "\n",
    "for depth in range(1, 20):\n",
    "    model_DTC = DecisionTreeClassifier(random_state=seed, max_depth=depth)\n",
    "    model_DTC.fit(features_training, target_training)\n",
    "    predictions_valid = model_DTC.predict(features_valid)\n",
    "    m_score = accuracy_score(target_valid,predictions_valid)\n",
    "    max_depth_DTC.append(depth)\n",
    "    score_DTC.append(m_score)\n",
    "    msg = \"max_depth = %s: score = %.3f\" % (depth, m_score)\n",
    "    #print(msg)\n",
    "best_DTC_scores = pd.DataFrame(list(zip(score_DTC, max_depth_DTC)),\n",
    "               columns =['score','depth'])"
   ]
  },
  {
   "cell_type": "code",
   "execution_count": 29,
   "metadata": {},
   "outputs": [
    {
     "data": {
      "text/html": [
       "<div>\n",
       "<style scoped>\n",
       "    .dataframe tbody tr th:only-of-type {\n",
       "        vertical-align: middle;\n",
       "    }\n",
       "\n",
       "    .dataframe tbody tr th {\n",
       "        vertical-align: top;\n",
       "    }\n",
       "\n",
       "    .dataframe thead th {\n",
       "        text-align: right;\n",
       "    }\n",
       "</style>\n",
       "<table border=\"1\" class=\"dataframe\">\n",
       "  <thead>\n",
       "    <tr style=\"text-align: right;\">\n",
       "      <th></th>\n",
       "      <th>score</th>\n",
       "      <th>depth</th>\n",
       "    </tr>\n",
       "  </thead>\n",
       "  <tbody>\n",
       "    <tr>\n",
       "      <td>3</td>\n",
       "      <td>0.80</td>\n",
       "      <td>4</td>\n",
       "    </tr>\n",
       "  </tbody>\n",
       "</table>\n",
       "</div>"
      ],
      "text/plain": [
       "   score  depth\n",
       "3   0.80      4"
      ]
     },
     "execution_count": 29,
     "metadata": {},
     "output_type": "execute_result"
    }
   ],
   "source": [
    "best_DTC_scores.sort_values(by = 'score', ascending = False).head(1)"
   ]
  },
  {
   "cell_type": "markdown",
   "metadata": {},
   "source": [
    "<div class=\"alert alert-block alert-success\">\n",
    "<b>Успех:</b> Подбор парамтеров был сделан верно.\n",
    "</div>\n",
    "\n",
    "<div class=\"alert alert-block alert-info\">\n",
    "<b>Совет: </b> Желательно собирать все результаты полученные во время настройки парамтеров в одну таблицу/список, а затем выбирать лучший параметр с помощью функции max.\n",
    "</div>"
   ]
  },
  {
   "cell_type": "markdown",
   "metadata": {},
   "source": [
    "<div class=\"alert alert-block alert-warning\">\n",
    "<b>Комментарий студента:</b> По сути почти сделал это изначально, собрал из двух списков таблицу и сделал по ней вывод лучшего балла модели\n",
    "</div>"
   ]
  },
  {
   "cell_type": "markdown",
   "metadata": {},
   "source": [
    "<div class=\"alert alert-block alert-success\">\n",
    "<b>Успех (ревью 2):</b> ОК.\n",
    "</div>"
   ]
  },
  {
   "cell_type": "code",
   "execution_count": 30,
   "metadata": {},
   "outputs": [
    {
     "data": {
      "image/png": "[encoded data removed]",
      "text/plain": [
       "<Figure size 432x288 with 1 Axes>"
      ]
     },
     "metadata": {
      "needs_background": "light"
     },
     "output_type": "display_data"
    }
   ],
   "source": [
    "fig = pyplot.figure()\n",
    "fig.suptitle('Сравнение результатов работы DTC с разной высотой дерева')\n",
    "pyplot.scatter(x = max_depth_DTC, y = score_DTC)\n",
    "pyplot.show()"
   ]
  },
  {
   "cell_type": "markdown",
   "metadata": {},
   "source": [
    "Больше не значит лучше, высота дерева решений равная 4м показывает лучшее значение **accuracy** на валидационной выборке."
   ]
  },
  {
   "cell_type": "markdown",
   "metadata": {},
   "source": [
    "<div class=\"alert alert-block alert-success\">\n",
    "<b>Успех:</b> Хорошая визуализация!\n",
    "</div>"
   ]
  },
  {
   "cell_type": "markdown",
   "metadata": {},
   "source": [
    "### Случайный лес"
   ]
  },
  {
   "cell_type": "markdown",
   "metadata": {},
   "source": [
    "Теперь попробуем поварьировать гиперпараметры в случайном лесу. По дефолту в лесу содержится 100 деревьев, попробуем добавить их количество, одновременно меняя высоту деревьев. Идея сделать стресс-тест модели, чтобы найти точку перегиба, когда количество уже не влияет на качество модели."
   ]
  },
  {
   "cell_type": "code",
   "execution_count": 31,
   "metadata": {},
   "outputs": [],
   "source": [
    "#%%timeit\n",
    "scores_rf = []\n",
    "est_rf = []\n",
    "depth_rf = []\n",
    "for est in range(1, 200):\n",
    "    for depth in range(1, 20):\n",
    "        model_RF = RandomForestClassifier(random_state=seed, n_estimators=est, max_depth = depth)\n",
    "        model_RF.fit(features_training, target_training)\n",
    "        predictions = model_RF.predict(features_valid)\n",
    "        m_score = model_RF.score(features_valid, target_valid)\n",
    "        scores_rf.append(m_score)\n",
    "        est_rf.append(est)\n",
    "        depth_rf.append(depth)\n",
    "        msg = \"est = %s, max_depth = %s: valid = %.3f\" % (est, depth, m_score)\n",
    "        #print(msg)\n",
    "        \n",
    "best_rf_scores = pd.DataFrame(list(zip(scores_rf, est_rf,depth_rf )),\n",
    "               columns =['score', 'est', 'depth'])"
   ]
  },
  {
   "cell_type": "code",
   "execution_count": 32,
   "metadata": {
    "scrolled": false
   },
   "outputs": [
    {
     "data": {
      "text/html": [
       "<div>\n",
       "<style scoped>\n",
       "    .dataframe tbody tr th:only-of-type {\n",
       "        vertical-align: middle;\n",
       "    }\n",
       "\n",
       "    .dataframe tbody tr th {\n",
       "        vertical-align: top;\n",
       "    }\n",
       "\n",
       "    .dataframe thead th {\n",
       "        text-align: right;\n",
       "    }\n",
       "</style>\n",
       "<table border=\"1\" class=\"dataframe\">\n",
       "  <thead>\n",
       "    <tr style=\"text-align: right;\">\n",
       "      <th></th>\n",
       "      <th>score</th>\n",
       "      <th>est</th>\n",
       "      <th>depth</th>\n",
       "    </tr>\n",
       "  </thead>\n",
       "  <tbody>\n",
       "    <tr>\n",
       "      <td>692</td>\n",
       "      <td>0.83</td>\n",
       "      <td>37</td>\n",
       "      <td>9</td>\n",
       "    </tr>\n",
       "  </tbody>\n",
       "</table>\n",
       "</div>"
      ],
      "text/plain": [
       "     score  est  depth\n",
       "692   0.83   37      9"
      ]
     },
     "execution_count": 32,
     "metadata": {},
     "output_type": "execute_result"
    }
   ],
   "source": [
    "best_rf_scores.sort_values(by = 'score', ascending = False).head(1)"
   ]
  },
  {
   "cell_type": "markdown",
   "metadata": {},
   "source": [
    "Лучшее значение accuracy для модели случайного леса 0.83 получено при количестве деревьев 37, с высотой 9."
   ]
  },
  {
   "cell_type": "markdown",
   "metadata": {},
   "source": [
    "<div class=\"alert alert-block alert-success\">\n",
    "<b>Успех:</b> Молодец, что подобрал несколько разных параметров!\n",
    "</div>"
   ]
  },
  {
   "cell_type": "markdown",
   "metadata": {},
   "source": [
    "### Логистическая регрессия"
   ]
  },
  {
   "cell_type": "markdown",
   "metadata": {},
   "source": [
    "Для модели логистической регрессии попробуем поварьировать параметр **solver**."
   ]
  },
  {
   "cell_type": "code",
   "execution_count": 33,
   "metadata": {
    "scrolled": false
   },
   "outputs": [
    {
     "name": "stdout",
     "output_type": "stream",
     "text": [
      "Solver = newton-cg: valid = 0.757\n",
      "Solver = lbfgs: valid = 0.757\n",
      "Solver = liblinear: valid = 0.750\n",
      "Solver = sag: valid = 0.698\n",
      "Solver = saga: valid = 0.698\n"
     ]
    }
   ],
   "source": [
    "solvers = ['newton-cg', 'lbfgs', 'liblinear', 'sag', 'saga']\n",
    "\n",
    "for solver in solvers:\n",
    "    model_LR = LogisticRegression(random_state = seed, solver = solver)\n",
    "    model_LR.fit(features_training, target_training) \n",
    "    m_score = model_LR.score(features_valid, target_valid)\n",
    "    msg = \"Solver = %s: valid = %.3f\" % (solver, m_score)\n",
    "    print(msg)"
   ]
  },
  {
   "cell_type": "markdown",
   "metadata": {},
   "source": [
    "Логистическя регрессия показывает лучшие результаты при гиперпараметре Solver newton-cg и lbfgs."
   ]
  },
  {
   "cell_type": "markdown",
   "metadata": {},
   "source": [
    "**Вывод**"
   ]
  },
  {
   "cell_type": "markdown",
   "metadata": {},
   "source": [
    "В результате настройки моделей и подбора гиперпараметров, удалось получить наивысший балл accuracy в модели RandomForest с гиперпараметрами est = 37 и max_depth = 9."
   ]
  },
  {
   "cell_type": "markdown",
   "metadata": {},
   "source": [
    "<div class=\"alert alert-block alert-success\">\n",
    "<b>Успех:</b> Этот шаг был сделан отлично!\n",
    "</div>"
   ]
  },
  {
   "cell_type": "markdown",
   "metadata": {},
   "source": [
    "## Проверьте модель на тестовой выборке"
   ]
  },
  {
   "cell_type": "markdown",
   "metadata": {},
   "source": [
    "Выполним проверку модели на тестовой выборке."
   ]
  },
  {
   "cell_type": "code",
   "execution_count": 34,
   "metadata": {},
   "outputs": [
    {
     "data": {
      "text/plain": [
       "'est = 37, max_depth = 9: test = 0.815'"
      ]
     },
     "execution_count": 34,
     "metadata": {},
     "output_type": "execute_result"
    }
   ],
   "source": [
    "model_RF = RandomForestClassifier(random_state=seed, n_estimators=37, max_depth = 9)\n",
    "model_RF.fit(features_training, target_training)\n",
    "predictions = model_RF.predict(features_test)\n",
    "m_score = model_RF.score(features_test, target_test)\n",
    "msg = \"est = %s, max_depth = %s: test = %.3f\" % (37, 9, m_score)\n",
    "msg"
   ]
  },
  {
   "cell_type": "markdown",
   "metadata": {},
   "source": [
    "**Вывод**"
   ]
  },
  {
   "cell_type": "markdown",
   "metadata": {},
   "source": [
    "На тестовой выборке удалось получить точность модели равную 0.815, т.е. условие, поставленное в задаче, выполнено."
   ]
  },
  {
   "cell_type": "markdown",
   "metadata": {},
   "source": [
    "<div class=\"alert alert-block alert-success\">\n",
    "<b>Успех:</b> Тестирование реализовано абсолютно верно!\n",
    "</div>"
   ]
  },
  {
   "cell_type": "markdown",
   "metadata": {},
   "source": [
    "## (бонус) Проверьте модели на адекватность"
   ]
  },
  {
   "cell_type": "markdown",
   "metadata": {},
   "source": [
    "Для проверки модели на адекватность воспользуемся Dummy Classifier c параметром Strategy mostfrequent, т.е. если оценка нашей настроенной модели будет выше, чем оценка у Dummy Classifier, который в данном случае работает как рандомный угадыватель самого частого значения (0, тариф Смарт), то значит наша модель работает адекватно."
   ]
  },
  {
   "cell_type": "code",
   "execution_count": 35,
   "metadata": {},
   "outputs": [
    {
     "data": {
      "text/plain": [
       "0.7091757387247278"
      ]
     },
     "execution_count": 35,
     "metadata": {},
     "output_type": "execute_result"
    }
   ],
   "source": [
    "from sklearn.dummy import DummyClassifier\n",
    "dummy_clf = DummyClassifier(strategy=\"most_frequent\")\n",
    "dummy_clf.fit(features_training, target_training)\n",
    "DummyClassifier (strategy = \"most_frequent\", random_state = seed)\n",
    "dummy_clf.predict(features_test)\n",
    "dummy_clf.score(features_test, target_test)"
   ]
  },
  {
   "cell_type": "markdown",
   "metadata": {},
   "source": [
    "Результаты Dummy Classifier показывают более низкий балл, чем результаты настроенной модели Random Forest, значит можно сделать вывод, что модель работает адекватно."
   ]
  },
  {
   "cell_type": "markdown",
   "metadata": {},
   "source": [
    "<div class=\"alert alert-block alert-success\">\n",
    "<b>Успех:</b> Хорошо, что здесь использовалась готовая дамми модель!\n",
    "</div>"
   ]
  },
  {
   "cell_type": "markdown",
   "metadata": {},
   "source": [
    "## Выводы"
   ]
  },
  {
   "cell_type": "markdown",
   "metadata": {},
   "source": [
    "В работе были рассмотрены 3 модели машинного обучения:\n",
    "- Decision Tree Classifier\n",
    "- Random Forest Classifier \n",
    "- Logostic Regression\n",
    "\n",
    "По результатам обучения и подбора гиперпараметров, наивысший балл **accuacy** был получен для модели Random Forest Classifier.\n",
    "\n",
    "При проверке модели на тестовой выборке значение **accuracy** равно 0.81 у обученной модели.\n",
    "\n",
    "При проверки на адекватность по сравнению с Dummy Classifier обученная модель показывает лучший результат."
   ]
  },
  {
   "cell_type": "markdown",
   "metadata": {},
   "source": [
    "<div class=\"alert alert-block alert-success\">\n",
    "<b>Успех:</b> Приятно видеть выводы в конце проекта!\n",
    "</div>"
   ]
  },
  {
   "cell_type": "markdown",
   "metadata": {},
   "source": [
    "## Чек-лист готовности проекта"
   ]
  },
  {
   "cell_type": "markdown",
   "metadata": {},
   "source": [
    "Поставьте 'x' в выполненных пунктах. Далее нажмите Shift+Enter."
   ]
  },
  {
   "cell_type": "markdown",
   "metadata": {},
   "source": [
    "- [x] Jupyter Notebook открыт\n",
    "- [x] Весь код исполняется без ошибок\n",
    "- [x] Ячейки с кодом расположены в порядке исполнения\n",
    "- [x] Выполнено задание 1: данные загружены и изучены\n",
    "- [x] Выполнено задание 2: данные разбиты на три выборки\n",
    "- [x] Выполнено задание 3: проведено исследование моделей\n",
    "    - [x] Рассмотрено больше одной модели\n",
    "    - [x] Рассмотрено хотя бы 3 значения гипепараметров для какой-нибудь модели\n",
    "    - [x] Написаны выводы по результатам исследования\n",
    "- [x] Выполнено задание 3: Проведено тестирование\n",
    "- [x] Удалось достичь accuracy не меньше 0.75\n"
   ]
  }
 ],
 "metadata": {
  "ExecuteTimeLog": [
   {
    "duration": 1088,
    "start_time": "2022-02-09T18:56:49.691Z"
   },
   {
    "duration": 19,
    "start_time": "2022-02-09T18:57:28.556Z"
   },
   {
    "duration": 59,
    "start_time": "2022-02-09T18:57:36.986Z"
   },
   {
    "duration": 3,
    "start_time": "2022-02-09T19:06:48.797Z"
   },
   {
    "duration": 3,
    "start_time": "2022-02-09T19:06:57.126Z"
   },
   {
    "duration": 32,
    "start_time": "2022-02-09T19:06:59.086Z"
   },
   {
    "duration": 17,
    "start_time": "2022-02-09T19:07:07.542Z"
   },
   {
    "duration": 19,
    "start_time": "2022-02-09T19:07:14.990Z"
   },
   {
    "duration": 7,
    "start_time": "2022-02-09T19:07:20.334Z"
   },
   {
    "duration": 7,
    "start_time": "2022-02-09T19:07:28.061Z"
   },
   {
    "duration": 7,
    "start_time": "2022-02-09T19:07:33.710Z"
   },
   {
    "duration": 7,
    "start_time": "2022-02-09T19:07:42.055Z"
   },
   {
    "duration": 10,
    "start_time": "2022-02-09T19:08:23.031Z"
   },
   {
    "duration": 5,
    "start_time": "2022-02-09T19:08:28.112Z"
   },
   {
    "duration": 6,
    "start_time": "2022-02-09T19:08:38.527Z"
   },
   {
    "duration": 1170,
    "start_time": "2022-02-11T18:29:04.340Z"
   },
   {
    "duration": 3,
    "start_time": "2022-02-11T18:29:05.511Z"
   },
   {
    "duration": 6,
    "start_time": "2022-02-11T18:29:05.516Z"
   },
   {
    "duration": 19,
    "start_time": "2022-02-11T18:29:05.524Z"
   },
   {
    "duration": 25,
    "start_time": "2022-02-11T18:29:05.544Z"
   },
   {
    "duration": 6,
    "start_time": "2022-02-11T18:29:05.570Z"
   },
   {
    "duration": 9,
    "start_time": "2022-02-11T18:29:05.578Z"
   },
   {
    "duration": 28,
    "start_time": "2022-02-11T18:29:05.589Z"
   },
   {
    "duration": 7,
    "start_time": "2022-02-11T18:29:05.618Z"
   },
   {
    "duration": 8,
    "start_time": "2022-02-11T18:29:05.627Z"
   },
   {
    "duration": 7,
    "start_time": "2022-02-11T18:29:05.637Z"
   },
   {
    "duration": 5,
    "start_time": "2022-02-11T18:49:24.310Z"
   },
   {
    "duration": 784,
    "start_time": "2022-02-11T19:24:00.091Z"
   },
   {
    "duration": 4,
    "start_time": "2022-02-11T19:49:56.290Z"
   },
   {
    "duration": 7,
    "start_time": "2022-02-11T19:49:57.668Z"
   },
   {
    "duration": 226,
    "start_time": "2022-02-11T19:51:12.404Z"
   },
   {
    "duration": 2,
    "start_time": "2022-02-11T19:52:24.380Z"
   },
   {
    "duration": 5,
    "start_time": "2022-02-11T19:52:25.444Z"
   },
   {
    "duration": 3,
    "start_time": "2022-02-11T19:55:41.102Z"
   },
   {
    "duration": 2,
    "start_time": "2022-02-11T19:55:41.957Z"
   },
   {
    "duration": 7,
    "start_time": "2022-02-11T19:55:42.741Z"
   },
   {
    "duration": 5,
    "start_time": "2022-02-11T19:55:43.581Z"
   },
   {
    "duration": 47965,
    "start_time": "2022-02-11T19:55:44.741Z"
   },
   {
    "duration": 3,
    "start_time": "2022-02-11T20:00:18.422Z"
   },
   {
    "duration": 46393,
    "start_time": "2022-02-11T20:00:22.988Z"
   },
   {
    "duration": 6,
    "start_time": "2022-02-11T20:08:21.153Z"
   },
   {
    "duration": 215,
    "start_time": "2022-02-11T20:08:37.418Z"
   },
   {
    "duration": 6,
    "start_time": "2022-02-11T20:08:47.498Z"
   },
   {
    "duration": 49704,
    "start_time": "2022-02-11T20:08:49.113Z"
   },
   {
    "duration": 51367,
    "start_time": "2022-02-11T20:14:45.459Z"
   },
   {
    "duration": 51417,
    "start_time": "2022-02-11T20:16:00.333Z"
   },
   {
    "duration": 239,
    "start_time": "2022-02-12T07:17:06.867Z"
   },
   {
    "duration": 1299,
    "start_time": "2022-02-12T07:17:15.962Z"
   },
   {
    "duration": 3,
    "start_time": "2022-02-12T07:17:17.264Z"
   },
   {
    "duration": 8,
    "start_time": "2022-02-12T07:17:17.269Z"
   },
   {
    "duration": 5,
    "start_time": "2022-02-12T07:17:17.279Z"
   },
   {
    "duration": 27,
    "start_time": "2022-02-12T07:17:17.285Z"
   },
   {
    "duration": 25,
    "start_time": "2022-02-12T07:17:17.314Z"
   },
   {
    "duration": 7,
    "start_time": "2022-02-12T07:17:17.341Z"
   },
   {
    "duration": 36,
    "start_time": "2022-02-12T07:17:17.350Z"
   },
   {
    "duration": 9,
    "start_time": "2022-02-12T07:17:17.389Z"
   },
   {
    "duration": 16,
    "start_time": "2022-02-12T07:17:17.400Z"
   },
   {
    "duration": 8,
    "start_time": "2022-02-12T07:17:17.418Z"
   },
   {
    "duration": 9,
    "start_time": "2022-02-12T07:17:17.428Z"
   },
   {
    "duration": 9,
    "start_time": "2022-02-12T07:17:17.439Z"
   },
   {
    "duration": 9,
    "start_time": "2022-02-12T07:17:17.450Z"
   },
   {
    "duration": 14,
    "start_time": "2022-02-12T07:17:17.461Z"
   },
   {
    "duration": 8,
    "start_time": "2022-02-12T07:17:17.477Z"
   },
   {
    "duration": 418,
    "start_time": "2022-02-12T07:17:17.487Z"
   },
   {
    "duration": -959,
    "start_time": "2022-02-12T07:17:18.866Z"
   },
   {
    "duration": 371,
    "start_time": "2022-02-12T07:17:30.261Z"
   },
   {
    "duration": 1166,
    "start_time": "2022-02-12T07:18:28.392Z"
   },
   {
    "duration": 3,
    "start_time": "2022-02-12T07:18:29.560Z"
   },
   {
    "duration": 7,
    "start_time": "2022-02-12T07:18:29.566Z"
   },
   {
    "duration": 7,
    "start_time": "2022-02-12T07:18:29.575Z"
   },
   {
    "duration": 24,
    "start_time": "2022-02-12T07:18:29.583Z"
   },
   {
    "duration": 27,
    "start_time": "2022-02-12T07:18:29.609Z"
   },
   {
    "duration": 7,
    "start_time": "2022-02-12T07:18:29.638Z"
   },
   {
    "duration": 14,
    "start_time": "2022-02-12T07:18:29.647Z"
   },
   {
    "duration": 11,
    "start_time": "2022-02-12T07:18:29.663Z"
   },
   {
    "duration": 33,
    "start_time": "2022-02-12T07:18:29.676Z"
   },
   {
    "duration": 6,
    "start_time": "2022-02-12T07:18:29.710Z"
   },
   {
    "duration": 9,
    "start_time": "2022-02-12T07:18:29.718Z"
   },
   {
    "duration": 6,
    "start_time": "2022-02-12T07:18:29.728Z"
   },
   {
    "duration": 8,
    "start_time": "2022-02-12T07:18:29.736Z"
   },
   {
    "duration": 16,
    "start_time": "2022-02-12T07:18:29.746Z"
   },
   {
    "duration": 14,
    "start_time": "2022-02-12T07:18:29.764Z"
   },
   {
    "duration": 50697,
    "start_time": "2022-02-12T07:18:29.780Z"
   },
   {
    "duration": 43730,
    "start_time": "2022-02-12T07:19:20.479Z"
   },
   {
    "duration": 6,
    "start_time": "2022-02-12T07:22:58.704Z"
   },
   {
    "duration": 1221,
    "start_time": "2022-02-12T07:23:06.095Z"
   },
   {
    "duration": 3,
    "start_time": "2022-02-12T07:23:07.318Z"
   },
   {
    "duration": 23,
    "start_time": "2022-02-12T07:23:07.323Z"
   },
   {
    "duration": 20,
    "start_time": "2022-02-12T07:23:07.348Z"
   },
   {
    "duration": 30,
    "start_time": "2022-02-12T07:23:07.370Z"
   },
   {
    "duration": 26,
    "start_time": "2022-02-12T07:23:07.402Z"
   },
   {
    "duration": 8,
    "start_time": "2022-02-12T07:23:07.430Z"
   },
   {
    "duration": 15,
    "start_time": "2022-02-12T07:23:07.439Z"
   },
   {
    "duration": 16,
    "start_time": "2022-02-12T07:23:07.457Z"
   },
   {
    "duration": 18,
    "start_time": "2022-02-12T07:23:07.474Z"
   },
   {
    "duration": 15,
    "start_time": "2022-02-12T07:23:07.494Z"
   },
   {
    "duration": 11,
    "start_time": "2022-02-12T07:23:07.510Z"
   },
   {
    "duration": 4,
    "start_time": "2022-02-12T07:23:07.523Z"
   },
   {
    "duration": 7,
    "start_time": "2022-02-12T07:23:07.529Z"
   },
   {
    "duration": 50,
    "start_time": "2022-02-12T07:23:07.539Z"
   },
   {
    "duration": 7,
    "start_time": "2022-02-12T07:23:07.591Z"
   },
   {
    "duration": 57813,
    "start_time": "2022-02-12T07:23:07.600Z"
   },
   {
    "duration": 44236,
    "start_time": "2022-02-12T07:24:05.415Z"
   },
   {
    "duration": 4,
    "start_time": "2022-02-12T07:32:37.636Z"
   },
   {
    "duration": 4,
    "start_time": "2022-02-12T07:33:20.428Z"
   },
   {
    "duration": 5,
    "start_time": "2022-02-12T07:33:21.355Z"
   },
   {
    "duration": 3,
    "start_time": "2022-02-12T07:33:22.243Z"
   },
   {
    "duration": 3,
    "start_time": "2022-02-12T07:33:23.187Z"
   },
   {
    "duration": 4,
    "start_time": "2022-02-12T07:50:14.018Z"
   },
   {
    "duration": 5,
    "start_time": "2022-02-12T07:53:39.770Z"
   },
   {
    "duration": 6,
    "start_time": "2022-02-12T07:53:49.018Z"
   },
   {
    "duration": 308,
    "start_time": "2022-02-12T07:53:59.002Z"
   },
   {
    "duration": 6,
    "start_time": "2022-02-12T07:55:48.499Z"
   },
   {
    "duration": 244,
    "start_time": "2022-02-12T07:56:33.508Z"
   },
   {
    "duration": 4,
    "start_time": "2022-02-12T07:56:37.667Z"
   },
   {
    "duration": 4,
    "start_time": "2022-02-12T07:59:39.700Z"
   },
   {
    "duration": 3,
    "start_time": "2022-02-12T07:59:48.195Z"
   },
   {
    "duration": 8,
    "start_time": "2022-02-12T08:22:31.405Z"
   },
   {
    "duration": 208,
    "start_time": "2022-02-12T08:22:47.587Z"
   },
   {
    "duration": 7,
    "start_time": "2022-02-12T08:22:52.355Z"
   },
   {
    "duration": 7,
    "start_time": "2022-02-12T08:23:09.716Z"
   },
   {
    "duration": 12,
    "start_time": "2022-02-12T08:23:17.955Z"
   },
   {
    "duration": 8,
    "start_time": "2022-02-12T08:23:30.869Z"
   },
   {
    "duration": 6,
    "start_time": "2022-02-12T08:23:49.325Z"
   },
   {
    "duration": 5,
    "start_time": "2022-02-12T08:24:00.869Z"
   },
   {
    "duration": 6,
    "start_time": "2022-02-12T08:24:09.076Z"
   },
   {
    "duration": 5,
    "start_time": "2022-02-12T08:25:20.365Z"
   },
   {
    "duration": 4,
    "start_time": "2022-02-12T08:25:29.301Z"
   },
   {
    "duration": 4,
    "start_time": "2022-02-12T08:25:54.549Z"
   },
   {
    "duration": 5,
    "start_time": "2022-02-12T08:26:17.358Z"
   },
   {
    "duration": 7,
    "start_time": "2022-02-12T08:41:49.612Z"
   },
   {
    "duration": 6353,
    "start_time": "2022-02-12T08:41:52.452Z"
   },
   {
    "duration": 4347,
    "start_time": "2022-02-12T08:43:57.630Z"
   },
   {
    "duration": 4400,
    "start_time": "2022-02-12T08:44:16.487Z"
   },
   {
    "duration": 411,
    "start_time": "2022-02-12T08:45:55.494Z"
   },
   {
    "duration": 425,
    "start_time": "2022-02-12T08:46:07.758Z"
   },
   {
    "duration": 425,
    "start_time": "2022-02-12T08:46:22.470Z"
   },
   {
    "duration": 3,
    "start_time": "2022-02-12T08:53:47.232Z"
   },
   {
    "duration": 213,
    "start_time": "2022-02-12T09:01:09.644Z"
   },
   {
    "duration": 411,
    "start_time": "2022-02-12T09:02:07.677Z"
   },
   {
    "duration": 1158,
    "start_time": "2022-02-12T09:02:22.042Z"
   },
   {
    "duration": 94,
    "start_time": "2022-02-12T09:02:23.202Z"
   },
   {
    "duration": 3,
    "start_time": "2022-02-12T09:02:23.298Z"
   },
   {
    "duration": 10,
    "start_time": "2022-02-12T09:02:23.308Z"
   },
   {
    "duration": 12,
    "start_time": "2022-02-12T09:02:23.320Z"
   },
   {
    "duration": 25,
    "start_time": "2022-02-12T09:02:23.334Z"
   },
   {
    "duration": 29,
    "start_time": "2022-02-12T09:02:23.361Z"
   },
   {
    "duration": 13,
    "start_time": "2022-02-12T09:02:23.394Z"
   },
   {
    "duration": 17,
    "start_time": "2022-02-12T09:02:23.410Z"
   },
   {
    "duration": 25,
    "start_time": "2022-02-12T09:02:23.430Z"
   },
   {
    "duration": 15,
    "start_time": "2022-02-12T09:02:23.457Z"
   },
   {
    "duration": 10,
    "start_time": "2022-02-12T09:02:23.473Z"
   },
   {
    "duration": 10,
    "start_time": "2022-02-12T09:02:23.485Z"
   },
   {
    "duration": 15,
    "start_time": "2022-02-12T09:02:23.497Z"
   },
   {
    "duration": 12,
    "start_time": "2022-02-12T09:02:23.514Z"
   },
   {
    "duration": 10,
    "start_time": "2022-02-12T09:02:23.528Z"
   },
   {
    "duration": 10,
    "start_time": "2022-02-12T09:02:23.540Z"
   },
   {
    "duration": 15,
    "start_time": "2022-02-12T09:02:23.552Z"
   },
   {
    "duration": 14,
    "start_time": "2022-02-12T09:02:23.569Z"
   },
   {
    "duration": 29,
    "start_time": "2022-02-12T09:02:23.585Z"
   },
   {
    "duration": 20,
    "start_time": "2022-02-12T09:02:23.617Z"
   },
   {
    "duration": 13,
    "start_time": "2022-02-12T09:02:23.639Z"
   },
   {
    "duration": 8,
    "start_time": "2022-02-12T09:02:23.656Z"
   },
   {
    "duration": 16,
    "start_time": "2022-02-12T09:02:23.666Z"
   },
   {
    "duration": 7,
    "start_time": "2022-02-12T09:02:23.685Z"
   },
   {
    "duration": 5,
    "start_time": "2022-02-12T09:02:23.706Z"
   },
   {
    "duration": 12,
    "start_time": "2022-02-12T09:02:23.713Z"
   },
   {
    "duration": 397,
    "start_time": "2022-02-12T09:02:23.727Z"
   },
   {
    "duration": -922,
    "start_time": "2022-02-12T09:02:25.048Z"
   },
   {
    "duration": -922,
    "start_time": "2022-02-12T09:02:25.050Z"
   },
   {
    "duration": 423,
    "start_time": "2022-02-12T09:02:59.892Z"
   },
   {
    "duration": 398,
    "start_time": "2022-02-12T09:03:20.526Z"
   },
   {
    "duration": 150,
    "start_time": "2022-02-12T09:03:47.317Z"
   },
   {
    "duration": 4,
    "start_time": "2022-02-12T09:05:49.342Z"
   },
   {
    "duration": 260,
    "start_time": "2022-02-12T09:05:51.300Z"
   },
   {
    "duration": 265,
    "start_time": "2022-02-12T09:21:46.163Z"
   },
   {
    "duration": 206,
    "start_time": "2022-02-12T09:23:44.724Z"
   },
   {
    "duration": 65,
    "start_time": "2022-02-12T09:25:22.708Z"
   },
   {
    "duration": 63,
    "start_time": "2022-02-12T09:26:40.668Z"
   },
   {
    "duration": 62,
    "start_time": "2022-02-12T09:26:47.843Z"
   },
   {
    "duration": 234,
    "start_time": "2022-02-12T09:27:07.300Z"
   },
   {
    "duration": 4,
    "start_time": "2022-02-12T09:28:28.164Z"
   },
   {
    "duration": 73,
    "start_time": "2022-02-12T09:28:28.997Z"
   },
   {
    "duration": 177,
    "start_time": "2022-02-12T09:28:53.852Z"
   },
   {
    "duration": 163,
    "start_time": "2022-02-12T09:35:12.551Z"
   },
   {
    "duration": 227,
    "start_time": "2022-02-12T09:35:16.839Z"
   },
   {
    "duration": 220,
    "start_time": "2022-02-12T09:35:29.831Z"
   },
   {
    "duration": 13126,
    "start_time": "2022-02-12T09:35:37.744Z"
   },
   {
    "duration": 1230,
    "start_time": "2022-02-12T09:36:04.880Z"
   },
   {
    "duration": 108,
    "start_time": "2022-02-12T09:36:06.113Z"
   },
   {
    "duration": 2,
    "start_time": "2022-02-12T09:36:06.224Z"
   },
   {
    "duration": 28,
    "start_time": "2022-02-12T09:36:06.228Z"
   },
   {
    "duration": 65,
    "start_time": "2022-02-12T09:36:06.258Z"
   },
   {
    "duration": 57,
    "start_time": "2022-02-12T09:36:06.325Z"
   },
   {
    "duration": 55,
    "start_time": "2022-02-12T09:36:06.385Z"
   },
   {
    "duration": 11,
    "start_time": "2022-02-12T09:36:06.444Z"
   },
   {
    "duration": 46,
    "start_time": "2022-02-12T09:36:06.458Z"
   },
   {
    "duration": 43,
    "start_time": "2022-02-12T09:36:06.506Z"
   },
   {
    "duration": 30,
    "start_time": "2022-02-12T09:36:06.552Z"
   },
   {
    "duration": 48,
    "start_time": "2022-02-12T09:36:06.584Z"
   },
   {
    "duration": 42,
    "start_time": "2022-02-12T09:36:06.634Z"
   },
   {
    "duration": 40,
    "start_time": "2022-02-12T09:36:06.678Z"
   },
   {
    "duration": 41,
    "start_time": "2022-02-12T09:36:06.720Z"
   },
   {
    "duration": 43,
    "start_time": "2022-02-12T09:36:06.763Z"
   },
   {
    "duration": 50,
    "start_time": "2022-02-12T09:36:06.809Z"
   },
   {
    "duration": 47,
    "start_time": "2022-02-12T09:36:06.861Z"
   },
   {
    "duration": 37,
    "start_time": "2022-02-12T09:36:06.910Z"
   },
   {
    "duration": 24,
    "start_time": "2022-02-12T09:36:06.950Z"
   },
   {
    "duration": 33,
    "start_time": "2022-02-12T09:36:06.977Z"
   },
   {
    "duration": 35,
    "start_time": "2022-02-12T09:36:07.012Z"
   },
   {
    "duration": 28,
    "start_time": "2022-02-12T09:36:07.052Z"
   },
   {
    "duration": 30,
    "start_time": "2022-02-12T09:36:07.083Z"
   },
   {
    "duration": 29,
    "start_time": "2022-02-12T09:36:07.116Z"
   },
   {
    "duration": 26,
    "start_time": "2022-02-12T09:36:07.147Z"
   },
   {
    "duration": 32,
    "start_time": "2022-02-12T09:36:07.175Z"
   },
   {
    "duration": 119,
    "start_time": "2022-02-12T09:36:07.210Z"
   },
   {
    "duration": 232,
    "start_time": "2022-02-12T09:36:07.331Z"
   },
   {
    "duration": 84861,
    "start_time": "2022-02-12T09:36:07.566Z"
   },
   {
    "duration": 6,
    "start_time": "2022-02-12T09:37:32.429Z"
   },
   {
    "duration": 304,
    "start_time": "2022-02-12T09:37:32.437Z"
   },
   {
    "duration": 1186,
    "start_time": "2022-02-12T09:49:27.881Z"
   },
   {
    "duration": 94,
    "start_time": "2022-02-12T09:49:29.069Z"
   },
   {
    "duration": 3,
    "start_time": "2022-02-12T09:49:29.167Z"
   },
   {
    "duration": 8,
    "start_time": "2022-02-12T09:49:29.172Z"
   },
   {
    "duration": 8,
    "start_time": "2022-02-12T09:49:29.182Z"
   },
   {
    "duration": 22,
    "start_time": "2022-02-12T09:49:29.192Z"
   },
   {
    "duration": 25,
    "start_time": "2022-02-12T09:49:29.217Z"
   },
   {
    "duration": 7,
    "start_time": "2022-02-12T09:49:29.245Z"
   },
   {
    "duration": 10,
    "start_time": "2022-02-12T09:49:29.254Z"
   },
   {
    "duration": 15,
    "start_time": "2022-02-12T09:49:29.266Z"
   },
   {
    "duration": 10,
    "start_time": "2022-02-12T09:49:29.307Z"
   },
   {
    "duration": 9,
    "start_time": "2022-02-12T09:49:29.318Z"
   },
   {
    "duration": 7,
    "start_time": "2022-02-12T09:49:29.329Z"
   },
   {
    "duration": 7,
    "start_time": "2022-02-12T09:49:29.337Z"
   },
   {
    "duration": 13,
    "start_time": "2022-02-12T09:49:29.346Z"
   },
   {
    "duration": 8,
    "start_time": "2022-02-12T09:49:29.361Z"
   },
   {
    "duration": 7,
    "start_time": "2022-02-12T09:49:29.371Z"
   },
   {
    "duration": 35,
    "start_time": "2022-02-12T09:49:29.380Z"
   },
   {
    "duration": 14,
    "start_time": "2022-02-12T09:49:29.416Z"
   },
   {
    "duration": 16,
    "start_time": "2022-02-12T09:49:29.431Z"
   },
   {
    "duration": 11,
    "start_time": "2022-02-12T09:49:29.449Z"
   },
   {
    "duration": 13,
    "start_time": "2022-02-12T09:49:29.464Z"
   },
   {
    "duration": 8,
    "start_time": "2022-02-12T09:49:29.479Z"
   },
   {
    "duration": 24,
    "start_time": "2022-02-12T09:49:29.489Z"
   },
   {
    "duration": 9,
    "start_time": "2022-02-12T09:49:29.515Z"
   },
   {
    "duration": 8,
    "start_time": "2022-02-12T09:49:29.526Z"
   },
   {
    "duration": 7,
    "start_time": "2022-02-12T09:49:29.536Z"
   },
   {
    "duration": 97,
    "start_time": "2022-02-12T09:49:29.545Z"
   },
   {
    "duration": 178,
    "start_time": "2022-02-12T09:49:29.645Z"
   },
   {
    "duration": 83657,
    "start_time": "2022-02-12T09:49:29.825Z"
   },
   {
    "duration": 311,
    "start_time": "2022-02-12T09:52:19.406Z"
   },
   {
    "duration": 4,
    "start_time": "2022-02-12T09:52:50.754Z"
   },
   {
    "duration": 29517,
    "start_time": "2022-02-12T10:03:54.257Z"
   },
   {
    "duration": 1340223,
    "start_time": "2022-02-12T10:04:43.603Z"
   },
   {
    "duration": 4,
    "start_time": "2022-02-12T10:27:03.828Z"
   },
   {
    "duration": 15,
    "start_time": "2022-02-12T11:33:04.119Z"
   },
   {
    "duration": 14,
    "start_time": "2022-02-12T11:33:28.399Z"
   },
   {
    "duration": 210,
    "start_time": "2022-02-12T11:42:17.290Z"
   },
   {
    "duration": 15,
    "start_time": "2022-02-12T11:42:41.426Z"
   },
   {
    "duration": 228,
    "start_time": "2022-02-12T11:42:49.082Z"
   },
   {
    "duration": 211,
    "start_time": "2022-02-12T11:42:59.793Z"
   },
   {
    "duration": 213,
    "start_time": "2022-02-12T11:43:05.424Z"
   },
   {
    "duration": 15,
    "start_time": "2022-02-12T11:43:13.225Z"
   },
   {
    "duration": 179,
    "start_time": "2022-02-12T12:01:07.008Z"
   },
   {
    "duration": 183,
    "start_time": "2022-02-12T12:01:39.146Z"
   },
   {
    "duration": 7,
    "start_time": "2022-02-12T12:05:56.010Z"
   },
   {
    "duration": 7,
    "start_time": "2022-02-12T12:06:07.770Z"
   },
   {
    "duration": 7,
    "start_time": "2022-02-12T12:06:14.866Z"
   },
   {
    "duration": 951,
    "start_time": "2022-02-12T20:03:06.327Z"
   },
   {
    "duration": 138,
    "start_time": "2022-02-12T20:03:07.281Z"
   },
   {
    "duration": 3,
    "start_time": "2022-02-12T20:03:07.421Z"
   },
   {
    "duration": 4,
    "start_time": "2022-02-12T20:03:07.427Z"
   },
   {
    "duration": 4,
    "start_time": "2022-02-12T20:03:07.432Z"
   },
   {
    "duration": 18,
    "start_time": "2022-02-12T20:03:07.437Z"
   },
   {
    "duration": 29,
    "start_time": "2022-02-12T20:03:07.457Z"
   },
   {
    "duration": 6,
    "start_time": "2022-02-12T20:03:07.489Z"
   },
   {
    "duration": 7,
    "start_time": "2022-02-12T20:03:07.497Z"
   },
   {
    "duration": 7,
    "start_time": "2022-02-12T20:03:07.506Z"
   },
   {
    "duration": 10,
    "start_time": "2022-02-12T20:03:07.514Z"
   },
   {
    "duration": 6,
    "start_time": "2022-02-12T20:03:07.526Z"
   },
   {
    "duration": 9,
    "start_time": "2022-02-12T20:03:07.534Z"
   },
   {
    "duration": 29,
    "start_time": "2022-02-12T20:03:07.544Z"
   },
   {
    "duration": 6,
    "start_time": "2022-02-12T20:03:07.575Z"
   },
   {
    "duration": 7,
    "start_time": "2022-02-12T20:03:07.582Z"
   },
   {
    "duration": 6,
    "start_time": "2022-02-12T20:03:07.590Z"
   },
   {
    "duration": 8,
    "start_time": "2022-02-12T20:03:07.598Z"
   },
   {
    "duration": 13,
    "start_time": "2022-02-12T20:03:07.607Z"
   },
   {
    "duration": 10,
    "start_time": "2022-02-12T20:03:07.621Z"
   },
   {
    "duration": 10,
    "start_time": "2022-02-12T20:03:07.633Z"
   },
   {
    "duration": 12,
    "start_time": "2022-02-12T20:03:07.644Z"
   },
   {
    "duration": 4,
    "start_time": "2022-02-12T20:03:07.671Z"
   },
   {
    "duration": 7,
    "start_time": "2022-02-12T20:03:07.677Z"
   },
   {
    "duration": 9,
    "start_time": "2022-02-12T20:03:07.686Z"
   },
   {
    "duration": 9,
    "start_time": "2022-02-12T20:03:07.696Z"
   },
   {
    "duration": 7,
    "start_time": "2022-02-12T20:03:07.707Z"
   },
   {
    "duration": 73,
    "start_time": "2022-02-12T20:03:07.716Z"
   },
   {
    "duration": 168,
    "start_time": "2022-02-12T20:03:07.791Z"
   },
   {
    "duration": 17,
    "start_time": "2022-02-12T20:03:07.961Z"
   },
   {
    "duration": 2,
    "start_time": "2022-02-12T20:03:07.980Z"
   },
   {
    "duration": 152,
    "start_time": "2022-02-12T20:03:07.984Z"
   },
   {
    "duration": 5,
    "start_time": "2022-02-12T20:03:08.138Z"
   },
   {
    "duration": 6,
    "start_time": "2022-02-12T20:03:35.171Z"
   },
   {
    "duration": 1044950,
    "start_time": "2022-02-12T20:04:18.188Z"
   },
   {
    "duration": 376,
    "start_time": "2022-02-12T20:21:57.603Z"
   },
   {
    "duration": 8,
    "start_time": "2022-02-12T20:22:14.013Z"
   },
   {
    "duration": 11,
    "start_time": "2022-02-12T20:22:26.780Z"
   },
   {
    "duration": 8,
    "start_time": "2022-02-12T20:22:59.379Z"
   },
   {
    "duration": 1023,
    "start_time": "2022-02-12T21:11:27.268Z"
   },
   {
    "duration": 78,
    "start_time": "2022-02-12T21:11:28.293Z"
   },
   {
    "duration": 3,
    "start_time": "2022-02-12T21:11:28.373Z"
   },
   {
    "duration": 3,
    "start_time": "2022-02-12T21:11:28.378Z"
   },
   {
    "duration": 4,
    "start_time": "2022-02-12T21:11:28.383Z"
   },
   {
    "duration": 18,
    "start_time": "2022-02-12T21:11:28.389Z"
   },
   {
    "duration": 22,
    "start_time": "2022-02-12T21:11:28.409Z"
   },
   {
    "duration": 6,
    "start_time": "2022-02-12T21:11:28.434Z"
   },
   {
    "duration": 29,
    "start_time": "2022-02-12T21:11:28.443Z"
   },
   {
    "duration": 7,
    "start_time": "2022-02-12T21:11:28.474Z"
   },
   {
    "duration": 8,
    "start_time": "2022-02-12T21:11:28.483Z"
   },
   {
    "duration": 6,
    "start_time": "2022-02-12T21:11:28.492Z"
   },
   {
    "duration": 8,
    "start_time": "2022-02-12T21:11:28.499Z"
   },
   {
    "duration": 6,
    "start_time": "2022-02-12T21:11:28.508Z"
   },
   {
    "duration": 11,
    "start_time": "2022-02-12T21:11:28.516Z"
   },
   {
    "duration": 7,
    "start_time": "2022-02-12T21:11:28.529Z"
   },
   {
    "duration": 7,
    "start_time": "2022-02-12T21:11:28.537Z"
   },
   {
    "duration": 6,
    "start_time": "2022-02-12T21:11:28.571Z"
   },
   {
    "duration": 5,
    "start_time": "2022-02-12T21:11:28.579Z"
   },
   {
    "duration": 10,
    "start_time": "2022-02-12T21:11:28.586Z"
   },
   {
    "duration": 11,
    "start_time": "2022-02-12T21:11:28.597Z"
   },
   {
    "duration": 9,
    "start_time": "2022-02-12T21:11:28.610Z"
   },
   {
    "duration": 9,
    "start_time": "2022-02-12T21:11:28.621Z"
   },
   {
    "duration": 8,
    "start_time": "2022-02-12T21:11:28.632Z"
   },
   {
    "duration": 8,
    "start_time": "2022-02-12T21:11:28.642Z"
   },
   {
    "duration": 8,
    "start_time": "2022-02-12T21:11:28.652Z"
   },
   {
    "duration": 12,
    "start_time": "2022-02-12T21:11:28.661Z"
   },
   {
    "duration": 67,
    "start_time": "2022-02-12T21:11:28.674Z"
   },
   {
    "duration": 150,
    "start_time": "2022-02-12T21:11:28.742Z"
   },
   {
    "duration": 2524755,
    "start_time": "2022-02-12T21:11:28.894Z"
   },
   {
    "duration": -1002,
    "start_time": "2022-02-12T21:53:34.653Z"
   },
   {
    "duration": -1003,
    "start_time": "2022-02-12T21:53:34.655Z"
   },
   {
    "duration": -1005,
    "start_time": "2022-02-12T21:53:34.658Z"
   },
   {
    "duration": 29118,
    "start_time": "2022-02-12T21:53:49.171Z"
   },
   {
    "duration": 1513,
    "start_time": "2022-02-13T07:53:53.837Z"
   },
   {
    "duration": 184,
    "start_time": "2022-02-13T07:53:55.353Z"
   },
   {
    "duration": 4,
    "start_time": "2022-02-13T07:53:55.541Z"
   },
   {
    "duration": 17,
    "start_time": "2022-02-13T07:53:55.548Z"
   },
   {
    "duration": 10,
    "start_time": "2022-02-13T07:53:55.567Z"
   },
   {
    "duration": 93,
    "start_time": "2022-02-13T07:53:55.580Z"
   },
   {
    "duration": 41,
    "start_time": "2022-02-13T07:53:55.676Z"
   },
   {
    "duration": 9,
    "start_time": "2022-02-13T07:53:55.721Z"
   },
   {
    "duration": 26,
    "start_time": "2022-02-13T07:53:55.733Z"
   },
   {
    "duration": 12,
    "start_time": "2022-02-13T07:53:55.762Z"
   },
   {
    "duration": 13,
    "start_time": "2022-02-13T07:53:55.777Z"
   },
   {
    "duration": 7,
    "start_time": "2022-02-13T07:53:55.793Z"
   },
   {
    "duration": 57,
    "start_time": "2022-02-13T07:53:55.802Z"
   },
   {
    "duration": 5,
    "start_time": "2022-02-13T07:53:55.862Z"
   },
   {
    "duration": 12,
    "start_time": "2022-02-13T07:53:55.870Z"
   },
   {
    "duration": 11,
    "start_time": "2022-02-13T07:53:55.884Z"
   },
   {
    "duration": 4,
    "start_time": "2022-02-13T07:53:55.899Z"
   },
   {
    "duration": 53,
    "start_time": "2022-02-13T07:53:55.906Z"
   },
   {
    "duration": 11,
    "start_time": "2022-02-13T07:53:55.962Z"
   },
   {
    "duration": 22,
    "start_time": "2022-02-13T07:53:55.976Z"
   },
   {
    "duration": 19,
    "start_time": "2022-02-13T07:53:56.002Z"
   },
   {
    "duration": 37,
    "start_time": "2022-02-13T07:53:56.024Z"
   },
   {
    "duration": 20,
    "start_time": "2022-02-13T07:53:56.067Z"
   },
   {
    "duration": 16,
    "start_time": "2022-02-13T07:53:56.090Z"
   },
   {
    "duration": 9,
    "start_time": "2022-02-13T07:53:56.109Z"
   },
   {
    "duration": 15,
    "start_time": "2022-02-13T07:53:56.120Z"
   },
   {
    "duration": 22,
    "start_time": "2022-02-13T07:53:56.138Z"
   },
   {
    "duration": 149,
    "start_time": "2022-02-13T07:53:56.163Z"
   },
   {
    "duration": 228,
    "start_time": "2022-02-13T07:53:56.314Z"
   },
   {
    "duration": 3475124,
    "start_time": "2022-02-13T07:53:56.544Z"
   },
   {
    "duration": -617,
    "start_time": "2022-02-13T08:51:52.288Z"
   },
   {
    "duration": -617,
    "start_time": "2022-02-13T08:51:52.290Z"
   },
   {
    "duration": -617,
    "start_time": "2022-02-13T08:51:52.292Z"
   },
   {
    "duration": 1747706,
    "start_time": "2022-02-13T08:52:26.365Z"
   },
   {
    "duration": 11,
    "start_time": "2022-02-13T09:22:34.768Z"
   },
   {
    "duration": 252,
    "start_time": "2022-02-13T09:22:39.480Z"
   },
   {
    "duration": 169,
    "start_time": "2022-02-13T09:50:28.610Z"
   },
   {
    "duration": 167,
    "start_time": "2022-02-13T09:50:52.170Z"
   },
   {
    "duration": 325,
    "start_time": "2022-02-13T10:03:16.205Z"
   },
   {
    "duration": 186,
    "start_time": "2022-02-13T10:03:23.008Z"
   },
   {
    "duration": 404,
    "start_time": "2022-02-13T10:05:04.522Z"
   },
   {
    "duration": 377,
    "start_time": "2022-02-13T10:05:22.969Z"
   },
   {
    "duration": 352,
    "start_time": "2022-02-13T10:05:35.104Z"
   },
   {
    "duration": 403,
    "start_time": "2022-02-13T10:05:43.761Z"
   },
   {
    "duration": 345,
    "start_time": "2022-02-13T10:05:47.208Z"
   },
   {
    "duration": 311,
    "start_time": "2022-02-13T10:06:03.608Z"
   },
   {
    "duration": 339,
    "start_time": "2022-02-13T10:06:29.969Z"
   },
   {
    "duration": 511,
    "start_time": "2022-02-13T10:06:51.594Z"
   },
   {
    "duration": 601,
    "start_time": "2022-02-13T10:07:03.440Z"
   },
   {
    "duration": 456,
    "start_time": "2022-02-13T10:07:43.305Z"
   },
   {
    "duration": 8,
    "start_time": "2022-02-13T10:08:49.280Z"
   },
   {
    "duration": 8,
    "start_time": "2022-02-13T10:09:01.482Z"
   },
   {
    "duration": 9,
    "start_time": "2022-02-13T10:09:13.233Z"
   },
   {
    "duration": 10,
    "start_time": "2022-02-13T10:09:20.354Z"
   },
   {
    "duration": 110556,
    "start_time": "2022-02-13T10:19:01.991Z"
   },
   {
    "duration": 13,
    "start_time": "2022-02-13T10:22:15.599Z"
   },
   {
    "duration": 6,
    "start_time": "2022-02-13T10:26:46.617Z"
   },
   {
    "duration": 329,
    "start_time": "2022-02-13T10:30:09.641Z"
   },
   {
    "duration": 315,
    "start_time": "2022-02-13T10:30:47.267Z"
   },
   {
    "duration": 1288,
    "start_time": "2022-02-14T18:00:33.321Z"
   },
   {
    "duration": 4,
    "start_time": "2022-02-14T18:00:34.611Z"
   },
   {
    "duration": 27,
    "start_time": "2022-02-14T18:00:34.618Z"
   },
   {
    "duration": 23,
    "start_time": "2022-02-14T18:00:34.648Z"
   },
   {
    "duration": 62,
    "start_time": "2022-02-14T18:00:34.673Z"
   },
   {
    "duration": 28,
    "start_time": "2022-02-14T18:00:34.737Z"
   },
   {
    "duration": 11,
    "start_time": "2022-02-14T18:00:34.767Z"
   },
   {
    "duration": 23,
    "start_time": "2022-02-14T18:00:34.780Z"
   },
   {
    "duration": 21,
    "start_time": "2022-02-14T18:00:34.808Z"
   },
   {
    "duration": 32,
    "start_time": "2022-02-14T18:00:34.832Z"
   },
   {
    "duration": 11,
    "start_time": "2022-02-14T18:00:34.866Z"
   },
   {
    "duration": 18,
    "start_time": "2022-02-14T18:00:34.879Z"
   },
   {
    "duration": 17,
    "start_time": "2022-02-14T18:00:34.900Z"
   },
   {
    "duration": 9,
    "start_time": "2022-02-14T18:00:34.919Z"
   },
   {
    "duration": 9,
    "start_time": "2022-02-14T18:00:34.930Z"
   },
   {
    "duration": 22,
    "start_time": "2022-02-14T18:00:34.941Z"
   },
   {
    "duration": 10,
    "start_time": "2022-02-14T18:00:34.966Z"
   },
   {
    "duration": 8,
    "start_time": "2022-02-14T18:00:34.979Z"
   },
   {
    "duration": 15,
    "start_time": "2022-02-14T18:00:34.989Z"
   },
   {
    "duration": 30,
    "start_time": "2022-02-14T18:00:35.007Z"
   },
   {
    "duration": 12,
    "start_time": "2022-02-14T18:00:35.040Z"
   },
   {
    "duration": 7,
    "start_time": "2022-02-14T18:00:35.054Z"
   },
   {
    "duration": 17,
    "start_time": "2022-02-14T18:00:35.063Z"
   },
   {
    "duration": 11,
    "start_time": "2022-02-14T18:00:35.081Z"
   },
   {
    "duration": 18,
    "start_time": "2022-02-14T18:00:35.101Z"
   },
   {
    "duration": 7,
    "start_time": "2022-02-14T18:00:35.122Z"
   },
   {
    "duration": 94,
    "start_time": "2022-02-14T18:00:35.133Z"
   },
   {
    "duration": 174,
    "start_time": "2022-02-14T18:00:35.229Z"
   },
   {
    "duration": 11,
    "start_time": "2022-02-14T18:00:35.406Z"
   },
   {
    "duration": 372,
    "start_time": "2022-02-14T18:00:35.419Z"
   },
   {
    "duration": 622,
    "start_time": "2022-02-14T18:00:35.792Z"
   },
   {
    "duration": -2334,
    "start_time": "2022-02-14T18:00:38.751Z"
   },
   {
    "duration": -2336,
    "start_time": "2022-02-14T18:00:38.754Z"
   },
   {
    "duration": -2346,
    "start_time": "2022-02-14T18:00:38.766Z"
   },
   {
    "duration": 1178,
    "start_time": "2022-02-14T18:12:06.150Z"
   },
   {
    "duration": 2,
    "start_time": "2022-02-14T18:12:07.330Z"
   },
   {
    "duration": 6,
    "start_time": "2022-02-14T18:12:07.334Z"
   },
   {
    "duration": 7,
    "start_time": "2022-02-14T18:12:07.342Z"
   },
   {
    "duration": 27,
    "start_time": "2022-02-14T18:12:07.351Z"
   },
   {
    "duration": 27,
    "start_time": "2022-02-14T18:12:07.380Z"
   },
   {
    "duration": 6,
    "start_time": "2022-02-14T18:12:07.408Z"
   },
   {
    "duration": 9,
    "start_time": "2022-02-14T18:12:07.417Z"
   },
   {
    "duration": 9,
    "start_time": "2022-02-14T18:12:07.428Z"
   },
   {
    "duration": 9,
    "start_time": "2022-02-14T18:12:07.439Z"
   },
   {
    "duration": 6,
    "start_time": "2022-02-14T18:12:07.450Z"
   },
   {
    "duration": 42,
    "start_time": "2022-02-14T18:12:07.457Z"
   },
   {
    "duration": 6,
    "start_time": "2022-02-14T18:12:07.501Z"
   },
   {
    "duration": 8,
    "start_time": "2022-02-14T18:12:07.509Z"
   },
   {
    "duration": 3,
    "start_time": "2022-02-14T18:12:07.519Z"
   },
   {
    "duration": 9,
    "start_time": "2022-02-14T18:12:07.524Z"
   },
   {
    "duration": 17,
    "start_time": "2022-02-14T18:12:07.534Z"
   },
   {
    "duration": 6,
    "start_time": "2022-02-14T18:12:07.552Z"
   },
   {
    "duration": 39,
    "start_time": "2022-02-14T18:12:07.560Z"
   },
   {
    "duration": 11,
    "start_time": "2022-02-14T18:12:07.601Z"
   },
   {
    "duration": 9,
    "start_time": "2022-02-14T18:12:07.614Z"
   },
   {
    "duration": 7,
    "start_time": "2022-02-14T18:12:07.625Z"
   },
   {
    "duration": 5,
    "start_time": "2022-02-14T18:12:07.636Z"
   },
   {
    "duration": 5,
    "start_time": "2022-02-14T18:12:07.643Z"
   },
   {
    "duration": 6,
    "start_time": "2022-02-14T18:12:07.650Z"
   },
   {
    "duration": 41,
    "start_time": "2022-02-14T18:12:07.658Z"
   },
   {
    "duration": 73,
    "start_time": "2022-02-14T18:12:07.701Z"
   },
   {
    "duration": 170,
    "start_time": "2022-02-14T18:12:07.776Z"
   },
   {
    "duration": 8,
    "start_time": "2022-02-14T18:12:07.947Z"
   },
   {
    "duration": 318,
    "start_time": "2022-02-14T18:12:07.956Z"
   },
   {
    "duration": 344,
    "start_time": "2022-02-14T18:12:08.276Z"
   },
   {
    "duration": -2346,
    "start_time": "2022-02-14T18:12:10.968Z"
   },
   {
    "duration": -2350,
    "start_time": "2022-02-14T18:12:10.973Z"
   },
   {
    "duration": -2352,
    "start_time": "2022-02-14T18:12:10.976Z"
   },
   {
    "duration": -2353,
    "start_time": "2022-02-14T18:12:10.979Z"
   },
   {
    "duration": -2355,
    "start_time": "2022-02-14T18:12:10.982Z"
   },
   {
    "duration": -2357,
    "start_time": "2022-02-14T18:12:10.985Z"
   },
   {
    "duration": -2359,
    "start_time": "2022-02-14T18:12:10.988Z"
   },
   {
    "duration": -2360,
    "start_time": "2022-02-14T18:12:10.991Z"
   },
   {
    "duration": -2363,
    "start_time": "2022-02-14T18:12:10.994Z"
   },
   {
    "duration": -2364,
    "start_time": "2022-02-14T18:12:10.997Z"
   },
   {
    "duration": -2396,
    "start_time": "2022-02-14T18:12:11.029Z"
   },
   {
    "duration": -2399,
    "start_time": "2022-02-14T18:12:11.033Z"
   },
   {
    "duration": -2400,
    "start_time": "2022-02-14T18:12:11.035Z"
   },
   {
    "duration": -2403,
    "start_time": "2022-02-14T18:12:11.039Z"
   },
   {
    "duration": 213,
    "start_time": "2022-02-14T18:12:26.863Z"
   },
   {
    "duration": -2340,
    "start_time": "2022-02-14T18:12:29.418Z"
   },
   {
    "duration": -2344,
    "start_time": "2022-02-14T18:12:29.423Z"
   },
   {
    "duration": -2360,
    "start_time": "2022-02-14T18:12:29.440Z"
   },
   {
    "duration": -2363,
    "start_time": "2022-02-14T18:12:29.444Z"
   },
   {
    "duration": -2364,
    "start_time": "2022-02-14T18:12:29.446Z"
   },
   {
    "duration": -2367,
    "start_time": "2022-02-14T18:12:29.450Z"
   },
   {
    "duration": -2368,
    "start_time": "2022-02-14T18:12:29.452Z"
   },
   {
    "duration": -2371,
    "start_time": "2022-02-14T18:12:29.456Z"
   },
   {
    "duration": -2372,
    "start_time": "2022-02-14T18:12:29.458Z"
   },
   {
    "duration": -2373,
    "start_time": "2022-02-14T18:12:29.461Z"
   },
   {
    "duration": -2375,
    "start_time": "2022-02-14T18:12:29.464Z"
   },
   {
    "duration": -2407,
    "start_time": "2022-02-14T18:12:29.497Z"
   },
   {
    "duration": -2407,
    "start_time": "2022-02-14T18:12:29.499Z"
   },
   {
    "duration": -2410,
    "start_time": "2022-02-14T18:12:29.503Z"
   },
   {
    "duration": 195,
    "start_time": "2022-02-14T18:12:45.865Z"
   },
   {
    "duration": 137,
    "start_time": "2022-02-14T18:12:46.062Z"
   },
   {
    "duration": 7,
    "start_time": "2022-02-14T18:12:46.201Z"
   },
   {
    "duration": 4,
    "start_time": "2022-02-14T18:12:46.210Z"
   },
   {
    "duration": 38,
    "start_time": "2022-02-14T18:12:46.216Z"
   },
   {
    "duration": 5,
    "start_time": "2022-02-14T18:12:46.256Z"
   },
   {
    "duration": 64881,
    "start_time": "2022-02-14T18:12:46.263Z"
   },
   {
    "duration": 414,
    "start_time": "2022-02-14T18:13:51.146Z"
   },
   {
    "duration": 9,
    "start_time": "2022-02-14T18:13:51.562Z"
   },
   {
    "duration": 285027,
    "start_time": "2022-02-14T18:13:51.573Z"
   },
   {
    "duration": 10,
    "start_time": "2022-02-14T18:18:36.602Z"
   },
   {
    "duration": 378195,
    "start_time": "2022-02-14T18:18:36.614Z"
   },
   {
    "duration": 16,
    "start_time": "2022-02-14T18:24:54.811Z"
   },
   {
    "duration": 294173,
    "start_time": "2022-02-14T18:24:54.829Z"
   },
   {
    "duration": 1327,
    "start_time": "2022-02-14T18:35:52.505Z"
   },
   {
    "duration": 2,
    "start_time": "2022-02-14T18:35:53.834Z"
   },
   {
    "duration": 3,
    "start_time": "2022-02-14T18:35:53.841Z"
   },
   {
    "duration": 8,
    "start_time": "2022-02-14T18:35:53.846Z"
   },
   {
    "duration": 24,
    "start_time": "2022-02-14T18:35:53.856Z"
   },
   {
    "duration": 32,
    "start_time": "2022-02-14T18:35:53.882Z"
   },
   {
    "duration": 6,
    "start_time": "2022-02-14T18:35:53.917Z"
   },
   {
    "duration": 9,
    "start_time": "2022-02-14T18:35:53.926Z"
   },
   {
    "duration": 10,
    "start_time": "2022-02-14T18:35:53.938Z"
   },
   {
    "duration": 11,
    "start_time": "2022-02-14T18:35:53.950Z"
   },
   {
    "duration": 38,
    "start_time": "2022-02-14T18:35:53.962Z"
   },
   {
    "duration": 13,
    "start_time": "2022-02-14T18:35:54.002Z"
   },
   {
    "duration": 6,
    "start_time": "2022-02-14T18:35:54.016Z"
   },
   {
    "duration": 12,
    "start_time": "2022-02-14T18:35:54.025Z"
   },
   {
    "duration": 7,
    "start_time": "2022-02-14T18:35:54.039Z"
   },
   {
    "duration": 8,
    "start_time": "2022-02-14T18:35:54.048Z"
   },
   {
    "duration": 11,
    "start_time": "2022-02-14T18:35:54.058Z"
   },
   {
    "duration": 29,
    "start_time": "2022-02-14T18:35:54.071Z"
   },
   {
    "duration": 11,
    "start_time": "2022-02-14T18:35:54.101Z"
   },
   {
    "duration": 8,
    "start_time": "2022-02-14T18:35:54.114Z"
   },
   {
    "duration": 8,
    "start_time": "2022-02-14T18:35:54.124Z"
   },
   {
    "duration": 5,
    "start_time": "2022-02-14T18:35:54.135Z"
   },
   {
    "duration": 6,
    "start_time": "2022-02-14T18:35:54.143Z"
   },
   {
    "duration": 6,
    "start_time": "2022-02-14T18:35:54.151Z"
   },
   {
    "duration": 53,
    "start_time": "2022-02-14T18:35:54.159Z"
   },
   {
    "duration": 20,
    "start_time": "2022-02-14T18:35:54.215Z"
   },
   {
    "duration": 96,
    "start_time": "2022-02-14T18:35:54.236Z"
   },
   {
    "duration": 156,
    "start_time": "2022-02-14T18:35:54.334Z"
   },
   {
    "duration": 14,
    "start_time": "2022-02-14T18:35:54.492Z"
   },
   {
    "duration": 347,
    "start_time": "2022-02-14T18:35:54.507Z"
   },
   {
    "duration": 1198883,
    "start_time": "2022-02-14T18:35:54.856Z"
   },
   {
    "duration": 8,
    "start_time": "2022-02-14T18:55:53.741Z"
   },
   {
    "duration": 196,
    "start_time": "2022-02-14T18:55:53.751Z"
   },
   {
    "duration": 138,
    "start_time": "2022-02-14T18:55:53.949Z"
   },
   {
    "duration": 12,
    "start_time": "2022-02-14T18:55:54.089Z"
   }
  ],
  "kernelspec": {
   "display_name": "Python 3 (ipykernel)",
   "language": "python",
   "name": "python3"
  },
  "language_info": {
   "codemirror_mode": {
    "name": "ipython",
    "version": 3
   },
   "file_extension": ".py",
   "mimetype": "text/x-python",
   "name": "python",
   "nbconvert_exporter": "python",
   "pygments_lexer": "ipython3",
   "version": "3.9.5"
  },
  "toc": {
   "base_numbering": 1,
   "nav_menu": {
    "height": "269px",
    "width": "298px"
   },
   "number_sections": true,
   "sideBar": true,
   "skip_h1_title": true,
   "title_cell": "Table of Contents",
   "title_sidebar": "Contents",
   "toc_cell": false,
   "toc_position": {},
   "toc_section_display": true,
   "toc_window_display": true
  }
 },
 "nbformat": 4,
 "nbformat_minor": 2
}
