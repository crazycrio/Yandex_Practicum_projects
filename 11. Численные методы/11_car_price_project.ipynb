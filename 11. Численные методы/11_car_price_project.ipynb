{
 "cells": [
  {
   "cell_type": "markdown",
   "metadata": {},
   "source": [
    "Привет, меня зовут Люман Аблаев. Сегодня я проверю твой проект.\n",
    "<br> Дальнейшее общение будет происходить на \"ты\" если это не вызывает никаких проблем.\n",
    "<br> Желательно реагировать на каждый мой комментарий ('исправил', 'не понятно как исправить ошибку', ...)\n",
    "<br> Пожалуйста, не удаляй комментарии ревьюера, так как они повышают качество повторного ревью.\n",
    "\n",
    "Комментарии будут в <font color='green'>зеленой</font>, <font color='blue'>синей</font> или <font color='red'>красной</font> рамках:\n",
    "\n",
    "\n",
    "<div class=\"alert alert-block alert-success\">\n",
    "<b>Успех:</b> Если все сделано отлично\n",
    "</div>\n",
    "\n",
    "<div class=\"alert alert-block alert-info\">\n",
    "<b>Совет: </b> Если можно немного улучшить\n",
    "</div>\n",
    "\n",
    "<div class=\"alert alert-block alert-danger\">\n",
    "<b>Ошибка:</b> Если требуются исправления. Работа не может быть принята с красными комментариями.\n",
    "</div>\n",
    "\n",
    "-------------------\n",
    "\n",
    "Будет очень хорошо, если ты будешь помечать свои действия следующим образом:\n",
    "<div class=\"alert alert-block alert-warning\">\n",
    "<b>Комментарий студента:</b> ...\n",
    "</div>\n",
    "\n",
    "<div class=\"alert alert-block alert-warning\">\n",
    "<b>Изменения:</b> Были внесены следующие изменения ...\n",
    "</div>\n",
    "\n",
    "<font color='orange' style='font-size:24px; font-weight:bold'>Общее впечатление</font>\n",
    "* Спасибо за качественную работу - видно, что приложено много усилий\n",
    "- Я оставил некоторые советы, надеюсь они будут полезными и интересными\n",
    "- Тебе удалось справиться с задачей численных методов и достигнуть неплохих результатов, поздравляю!\n",
    "* Отправляю проект назад, если у тебя появились вопросы. Если их нет, то можешь просто отправить проект еще раз и я его зачту.\n",
    "\n",
    "\n"
   ]
  },
  {
   "cell_type": "markdown",
   "metadata": {},
   "source": [
    "# Определение стоимости автомобилей"
   ]
  },
  {
   "cell_type": "markdown",
   "metadata": {},
   "source": [
    "Сервис по продаже автомобилей с пробегом «Не бит, не крашен» разрабатывает приложение для привлечения новых клиентов. В нём можно быстро узнать рыночную стоимость своего автомобиля. В вашем распоряжении исторические данные: технические характеристики, комплектации и цены автомобилей. Вам нужно построить модель для определения стоимости. \n",
    "\n",
    "Заказчику важны:\n",
    "\n",
    "- качество предсказания;\n",
    "- скорость предсказания;\n",
    "- время обучения."
   ]
  },
  {
   "cell_type": "markdown",
   "metadata": {},
   "source": [
    "Признаки:\n",
    "\n",
    "- DateCrawled — дата скачивания анкеты из базы\n",
    "- VehicleType — тип автомобильного кузова\n",
    "- RegistrationYear — год регистрации автомобиля\n",
    "- Gearbox — тип коробки передач\n",
    "- Power — мощность (л. с.)\n",
    "- Model — модель автомобиля\n",
    "- Kilometer — пробег (км)\n",
    "- RegistrationMonth — месяц регистрации автомобиля\n",
    "- FuelType — тип топлива\n",
    "- Brand — марка автомобиля\n",
    "- NotRepaired — была машина в ремонте или нет\n",
    "- DateCreated — дата создания анкеты\n",
    "- NumberOfPictures — количество фотографий автомобиля\n",
    "- PostalCode — почтовый индекс владельца анкеты (пользователя)\n",
    "- LastSeen — дата последней активности пользователя\n",
    "\n",
    "Целевой признак\n",
    "- Price — цена (евро)"
   ]
  },
  {
   "cell_type": "markdown",
   "metadata": {},
   "source": [
    "## Подготовка данных"
   ]
  },
  {
   "cell_type": "markdown",
   "metadata": {},
   "source": [
    "### Загрузка библиотек"
   ]
  },
  {
   "cell_type": "markdown",
   "metadata": {},
   "source": [
    "Первым шагом загрузим необходимые для работы библиотеки."
   ]
  },
  {
   "cell_type": "code",
   "execution_count": 1,
   "metadata": {},
   "outputs": [],
   "source": [
    "import pandas as pd\n",
    "pd.options.mode.chained_assignment = None\n",
    "import numpy as np\n",
    "from sklearn.metrics import mean_squared_error\n",
    "from sklearn.preprocessing import StandardScaler, OrdinalEncoder\n",
    "from sklearn.model_selection import train_test_split, cross_val_score\n",
    "from sklearn.linear_model import LinearRegression\n",
    "from catboost import CatBoostRegressor\n",
    "import lightgbm as lgb\n",
    "from lightgbm import LGBMRegressor\n",
    "\n",
    "import pandas as pd\n",
    "import numpy as np\n",
    "\n",
    "import matplotlib.pyplot as plt\n",
    "import seaborn as sns\n",
    "sns.set()\n",
    "\n",
    "from sklearn.preprocessing import StandardScaler\n",
    "\n",
    "from lightgbm import LGBMRegressor\n",
    "from catboost import Pool, CatBoostRegressor\n",
    "from xgboost import XGBRegressor\n",
    "from sklearn.ensemble import RandomForestRegressor\n",
    "from sklearn.linear_model import LinearRegression\n",
    "from sklearn.pipeline import Pipeline\n",
    "\n",
    "from sklearn.model_selection import train_test_split, KFold, GridSearchCV, RandomizedSearchCV \n",
    "from sklearn.metrics import mean_squared_error"
   ]
  },
  {
   "cell_type": "markdown",
   "metadata": {},
   "source": [
    "<div class=\"alert alert-block alert-success\">\n",
    "<b>Успех:</b> Описание и импорты на месте"
   ]
  },
  {
   "cell_type": "markdown",
   "metadata": {},
   "source": [
    "### Импорт и анализ данных"
   ]
  },
  {
   "cell_type": "markdown",
   "metadata": {},
   "source": [
    "Выполним загрузку данных и первичный анализ."
   ]
  },
  {
   "cell_type": "code",
   "execution_count": 2,
   "metadata": {},
   "outputs": [],
   "source": [
    "df = pd.read_csv('/datasets/autos.csv')"
   ]
  },
  {
   "cell_type": "code",
   "execution_count": 3,
   "metadata": {},
   "outputs": [
    {
     "name": "stdout",
     "output_type": "stream",
     "text": [
      "<class 'pandas.core.frame.DataFrame'>\n",
      "RangeIndex: 354369 entries, 0 to 354368\n",
      "Data columns (total 16 columns):\n",
      " #   Column             Non-Null Count   Dtype \n",
      "---  ------             --------------   ----- \n",
      " 0   DateCrawled        354369 non-null  object\n",
      " 1   Price              354369 non-null  int64 \n",
      " 2   VehicleType        316879 non-null  object\n",
      " 3   RegistrationYear   354369 non-null  int64 \n",
      " 4   Gearbox            334536 non-null  object\n",
      " 5   Power              354369 non-null  int64 \n",
      " 6   Model              334664 non-null  object\n",
      " 7   Kilometer          354369 non-null  int64 \n",
      " 8   RegistrationMonth  354369 non-null  int64 \n",
      " 9   FuelType           321474 non-null  object\n",
      " 10  Brand              354369 non-null  object\n",
      " 11  NotRepaired        283215 non-null  object\n",
      " 12  DateCreated        354369 non-null  object\n",
      " 13  NumberOfPictures   354369 non-null  int64 \n",
      " 14  PostalCode         354369 non-null  int64 \n",
      " 15  LastSeen           354369 non-null  object\n",
      "dtypes: int64(7), object(9)\n",
      "memory usage: 43.3+ MB\n"
     ]
    }
   ],
   "source": [
    "df.info()"
   ]
  },
  {
   "cell_type": "code",
   "execution_count": 4,
   "metadata": {},
   "outputs": [
    {
     "data": {
      "text/html": [
       "<div>\n",
       "<style scoped>\n",
       "    .dataframe tbody tr th:only-of-type {\n",
       "        vertical-align: middle;\n",
       "    }\n",
       "\n",
       "    .dataframe tbody tr th {\n",
       "        vertical-align: top;\n",
       "    }\n",
       "\n",
       "    .dataframe thead th {\n",
       "        text-align: right;\n",
       "    }\n",
       "</style>\n",
       "<table border=\"1\" class=\"dataframe\">\n",
       "  <thead>\n",
       "    <tr style=\"text-align: right;\">\n",
       "      <th></th>\n",
       "      <th>DateCrawled</th>\n",
       "      <th>Price</th>\n",
       "      <th>VehicleType</th>\n",
       "      <th>RegistrationYear</th>\n",
       "      <th>Gearbox</th>\n",
       "      <th>Power</th>\n",
       "      <th>Model</th>\n",
       "      <th>Kilometer</th>\n",
       "      <th>RegistrationMonth</th>\n",
       "      <th>FuelType</th>\n",
       "      <th>Brand</th>\n",
       "      <th>NotRepaired</th>\n",
       "      <th>DateCreated</th>\n",
       "      <th>NumberOfPictures</th>\n",
       "      <th>PostalCode</th>\n",
       "      <th>LastSeen</th>\n",
       "    </tr>\n",
       "  </thead>\n",
       "  <tbody>\n",
       "    <tr>\n",
       "      <th>0</th>\n",
       "      <td>2016-03-24 11:52:17</td>\n",
       "      <td>480</td>\n",
       "      <td>NaN</td>\n",
       "      <td>1993</td>\n",
       "      <td>manual</td>\n",
       "      <td>0</td>\n",
       "      <td>golf</td>\n",
       "      <td>150000</td>\n",
       "      <td>0</td>\n",
       "      <td>petrol</td>\n",
       "      <td>volkswagen</td>\n",
       "      <td>NaN</td>\n",
       "      <td>2016-03-24 00:00:00</td>\n",
       "      <td>0</td>\n",
       "      <td>70435</td>\n",
       "      <td>2016-04-07 03:16:57</td>\n",
       "    </tr>\n",
       "    <tr>\n",
       "      <th>1</th>\n",
       "      <td>2016-03-24 10:58:45</td>\n",
       "      <td>18300</td>\n",
       "      <td>coupe</td>\n",
       "      <td>2011</td>\n",
       "      <td>manual</td>\n",
       "      <td>190</td>\n",
       "      <td>NaN</td>\n",
       "      <td>125000</td>\n",
       "      <td>5</td>\n",
       "      <td>gasoline</td>\n",
       "      <td>audi</td>\n",
       "      <td>yes</td>\n",
       "      <td>2016-03-24 00:00:00</td>\n",
       "      <td>0</td>\n",
       "      <td>66954</td>\n",
       "      <td>2016-04-07 01:46:50</td>\n",
       "    </tr>\n",
       "    <tr>\n",
       "      <th>2</th>\n",
       "      <td>2016-03-14 12:52:21</td>\n",
       "      <td>9800</td>\n",
       "      <td>suv</td>\n",
       "      <td>2004</td>\n",
       "      <td>auto</td>\n",
       "      <td>163</td>\n",
       "      <td>grand</td>\n",
       "      <td>125000</td>\n",
       "      <td>8</td>\n",
       "      <td>gasoline</td>\n",
       "      <td>jeep</td>\n",
       "      <td>NaN</td>\n",
       "      <td>2016-03-14 00:00:00</td>\n",
       "      <td>0</td>\n",
       "      <td>90480</td>\n",
       "      <td>2016-04-05 12:47:46</td>\n",
       "    </tr>\n",
       "    <tr>\n",
       "      <th>3</th>\n",
       "      <td>2016-03-17 16:54:04</td>\n",
       "      <td>1500</td>\n",
       "      <td>small</td>\n",
       "      <td>2001</td>\n",
       "      <td>manual</td>\n",
       "      <td>75</td>\n",
       "      <td>golf</td>\n",
       "      <td>150000</td>\n",
       "      <td>6</td>\n",
       "      <td>petrol</td>\n",
       "      <td>volkswagen</td>\n",
       "      <td>no</td>\n",
       "      <td>2016-03-17 00:00:00</td>\n",
       "      <td>0</td>\n",
       "      <td>91074</td>\n",
       "      <td>2016-03-17 17:40:17</td>\n",
       "    </tr>\n",
       "    <tr>\n",
       "      <th>4</th>\n",
       "      <td>2016-03-31 17:25:20</td>\n",
       "      <td>3600</td>\n",
       "      <td>small</td>\n",
       "      <td>2008</td>\n",
       "      <td>manual</td>\n",
       "      <td>69</td>\n",
       "      <td>fabia</td>\n",
       "      <td>90000</td>\n",
       "      <td>7</td>\n",
       "      <td>gasoline</td>\n",
       "      <td>skoda</td>\n",
       "      <td>no</td>\n",
       "      <td>2016-03-31 00:00:00</td>\n",
       "      <td>0</td>\n",
       "      <td>60437</td>\n",
       "      <td>2016-04-06 10:17:21</td>\n",
       "    </tr>\n",
       "    <tr>\n",
       "      <th>5</th>\n",
       "      <td>2016-04-04 17:36:23</td>\n",
       "      <td>650</td>\n",
       "      <td>sedan</td>\n",
       "      <td>1995</td>\n",
       "      <td>manual</td>\n",
       "      <td>102</td>\n",
       "      <td>3er</td>\n",
       "      <td>150000</td>\n",
       "      <td>10</td>\n",
       "      <td>petrol</td>\n",
       "      <td>bmw</td>\n",
       "      <td>yes</td>\n",
       "      <td>2016-04-04 00:00:00</td>\n",
       "      <td>0</td>\n",
       "      <td>33775</td>\n",
       "      <td>2016-04-06 19:17:07</td>\n",
       "    </tr>\n",
       "    <tr>\n",
       "      <th>6</th>\n",
       "      <td>2016-04-01 20:48:51</td>\n",
       "      <td>2200</td>\n",
       "      <td>convertible</td>\n",
       "      <td>2004</td>\n",
       "      <td>manual</td>\n",
       "      <td>109</td>\n",
       "      <td>2_reihe</td>\n",
       "      <td>150000</td>\n",
       "      <td>8</td>\n",
       "      <td>petrol</td>\n",
       "      <td>peugeot</td>\n",
       "      <td>no</td>\n",
       "      <td>2016-04-01 00:00:00</td>\n",
       "      <td>0</td>\n",
       "      <td>67112</td>\n",
       "      <td>2016-04-05 18:18:39</td>\n",
       "    </tr>\n",
       "    <tr>\n",
       "      <th>7</th>\n",
       "      <td>2016-03-21 18:54:38</td>\n",
       "      <td>0</td>\n",
       "      <td>sedan</td>\n",
       "      <td>1980</td>\n",
       "      <td>manual</td>\n",
       "      <td>50</td>\n",
       "      <td>other</td>\n",
       "      <td>40000</td>\n",
       "      <td>7</td>\n",
       "      <td>petrol</td>\n",
       "      <td>volkswagen</td>\n",
       "      <td>no</td>\n",
       "      <td>2016-03-21 00:00:00</td>\n",
       "      <td>0</td>\n",
       "      <td>19348</td>\n",
       "      <td>2016-03-25 16:47:58</td>\n",
       "    </tr>\n",
       "    <tr>\n",
       "      <th>8</th>\n",
       "      <td>2016-04-04 23:42:13</td>\n",
       "      <td>14500</td>\n",
       "      <td>bus</td>\n",
       "      <td>2014</td>\n",
       "      <td>manual</td>\n",
       "      <td>125</td>\n",
       "      <td>c_max</td>\n",
       "      <td>30000</td>\n",
       "      <td>8</td>\n",
       "      <td>petrol</td>\n",
       "      <td>ford</td>\n",
       "      <td>NaN</td>\n",
       "      <td>2016-04-04 00:00:00</td>\n",
       "      <td>0</td>\n",
       "      <td>94505</td>\n",
       "      <td>2016-04-04 23:42:13</td>\n",
       "    </tr>\n",
       "    <tr>\n",
       "      <th>9</th>\n",
       "      <td>2016-03-17 10:53:50</td>\n",
       "      <td>999</td>\n",
       "      <td>small</td>\n",
       "      <td>1998</td>\n",
       "      <td>manual</td>\n",
       "      <td>101</td>\n",
       "      <td>golf</td>\n",
       "      <td>150000</td>\n",
       "      <td>0</td>\n",
       "      <td>NaN</td>\n",
       "      <td>volkswagen</td>\n",
       "      <td>NaN</td>\n",
       "      <td>2016-03-17 00:00:00</td>\n",
       "      <td>0</td>\n",
       "      <td>27472</td>\n",
       "      <td>2016-03-31 17:17:06</td>\n",
       "    </tr>\n",
       "  </tbody>\n",
       "</table>\n",
       "</div>"
      ],
      "text/plain": [
       "           DateCrawled  Price  VehicleType  RegistrationYear Gearbox  Power  \\\n",
       "0  2016-03-24 11:52:17    480          NaN              1993  manual      0   \n",
       "1  2016-03-24 10:58:45  18300        coupe              2011  manual    190   \n",
       "2  2016-03-14 12:52:21   9800          suv              2004    auto    163   \n",
       "3  2016-03-17 16:54:04   1500        small              2001  manual     75   \n",
       "4  2016-03-31 17:25:20   3600        small              2008  manual     69   \n",
       "5  2016-04-04 17:36:23    650        sedan              1995  manual    102   \n",
       "6  2016-04-01 20:48:51   2200  convertible              2004  manual    109   \n",
       "7  2016-03-21 18:54:38      0        sedan              1980  manual     50   \n",
       "8  2016-04-04 23:42:13  14500          bus              2014  manual    125   \n",
       "9  2016-03-17 10:53:50    999        small              1998  manual    101   \n",
       "\n",
       "     Model  Kilometer  RegistrationMonth  FuelType       Brand NotRepaired  \\\n",
       "0     golf     150000                  0    petrol  volkswagen         NaN   \n",
       "1      NaN     125000                  5  gasoline        audi         yes   \n",
       "2    grand     125000                  8  gasoline        jeep         NaN   \n",
       "3     golf     150000                  6    petrol  volkswagen          no   \n",
       "4    fabia      90000                  7  gasoline       skoda          no   \n",
       "5      3er     150000                 10    petrol         bmw         yes   \n",
       "6  2_reihe     150000                  8    petrol     peugeot          no   \n",
       "7    other      40000                  7    petrol  volkswagen          no   \n",
       "8    c_max      30000                  8    petrol        ford         NaN   \n",
       "9     golf     150000                  0       NaN  volkswagen         NaN   \n",
       "\n",
       "           DateCreated  NumberOfPictures  PostalCode             LastSeen  \n",
       "0  2016-03-24 00:00:00                 0       70435  2016-04-07 03:16:57  \n",
       "1  2016-03-24 00:00:00                 0       66954  2016-04-07 01:46:50  \n",
       "2  2016-03-14 00:00:00                 0       90480  2016-04-05 12:47:46  \n",
       "3  2016-03-17 00:00:00                 0       91074  2016-03-17 17:40:17  \n",
       "4  2016-03-31 00:00:00                 0       60437  2016-04-06 10:17:21  \n",
       "5  2016-04-04 00:00:00                 0       33775  2016-04-06 19:17:07  \n",
       "6  2016-04-01 00:00:00                 0       67112  2016-04-05 18:18:39  \n",
       "7  2016-03-21 00:00:00                 0       19348  2016-03-25 16:47:58  \n",
       "8  2016-04-04 00:00:00                 0       94505  2016-04-04 23:42:13  \n",
       "9  2016-03-17 00:00:00                 0       27472  2016-03-31 17:17:06  "
      ]
     },
     "execution_count": 4,
     "metadata": {},
     "output_type": "execute_result"
    }
   ],
   "source": [
    "df.head(10)"
   ]
  },
  {
   "cell_type": "code",
   "execution_count": 5,
   "metadata": {},
   "outputs": [
    {
     "data": {
      "text/plain": [
       "DateCrawled              0\n",
       "Price                    0\n",
       "VehicleType          37490\n",
       "RegistrationYear         0\n",
       "Gearbox              19833\n",
       "Power                    0\n",
       "Model                19705\n",
       "Kilometer                0\n",
       "RegistrationMonth        0\n",
       "FuelType             32895\n",
       "Brand                    0\n",
       "NotRepaired          71154\n",
       "DateCreated              0\n",
       "NumberOfPictures         0\n",
       "PostalCode               0\n",
       "LastSeen                 0\n",
       "dtype: int64"
      ]
     },
     "execution_count": 5,
     "metadata": {},
     "output_type": "execute_result"
    }
   ],
   "source": [
    "df.isna().sum()"
   ]
  },
  {
   "cell_type": "markdown",
   "metadata": {},
   "source": [
    "**Вывод**"
   ]
  },
  {
   "cell_type": "markdown",
   "metadata": {},
   "source": [
    "Первичный анализ данных показал:\n",
    "\n",
    "В данных есть несколько столбцов, которые несут исключительно информативный характер и не пригодятся при обучении моделей:\n",
    "- DateCrawled - дата получения информации из базы - скорее важно для аналитика, если было бы несколько итераций, в нашем кейсе не пригодится.\n",
    "- RegistrationMonth - месяц регистрации автомобиля, данный параметр не столь важен, многие могут выставлять на продажу машины, которые вообще были сняты с учета.\n",
    "- DateCreated - дата создания анкеты пригодилась бы при анализе рынка в целом, чтобы предсказать периоды роста и спада (но такого никогда не бывает) цен на автомобили, в нашем кейсе можно опустить.\n",
    "- NumberOfPictures - важный параметр в задаче предсказания откликаемости на объявление, потому что всегда приятнее смотреть на то, что ты покупаешь, но в нашем кейсе не пригодится, потому что цена не зависит от качества фотографий и количества (если только фотограф не идет в подарок)\n",
    "- PostalCode - опять же, параметр пригодится в кейсе анализа рынка, кто, где почем продает. Мы же опустим эти данные.\n",
    "- LastSeen - последнее время активности пользователя пригодилось бы при предсказании надежности продавца, не пропадает ли он и ведет ли активность на сайте, но в нашем кейсе можно избавиться.\n",
    "\n",
    "В данных есть столбцы с пропусками, которые будут использоваться в обучении, поэтому обработаем эти пропуски в дальнейшем.\n",
    "\n",
    "Также нужно будет выполнить изменение типизации данных для обучения моделей."
   ]
  },
  {
   "cell_type": "markdown",
   "metadata": {},
   "source": [
    "<div class=\"alert alert-block alert-info\">\n",
    "<b>Совет </b>  Советую обратить внимание на библиотеки sweetviz и pandas_profiling помогут в проведении более тщательного EDA анализа. Исследовательский анализ можно делать и с помощью ручного вызова функций дефолтных библиотек. Данные библиотеки хороши для максимизации комфорта презентации результатов анализа бизнес-пользователям. \n",
    "    \n",
    "Очень просты в использоовании, на вход кладется датафрейм: pandas_profiling.ProfileReport(df) <br> P.S. Лучше пробовать локально, на платформе могут быть проблемы\n",
    "    \n",
    "    \n",
    "    \n",
    "</div>\n"
   ]
  },
  {
   "cell_type": "markdown",
   "metadata": {},
   "source": [
    "### Обработка данных"
   ]
  },
  {
   "cell_type": "markdown",
   "metadata": {},
   "source": [
    "План обработки данных:\n",
    "- избавиться от лишних столбцов\n",
    "- обработать пропуски"
   ]
  },
  {
   "cell_type": "markdown",
   "metadata": {},
   "source": [
    "#### Избавляемся от лишних данных"
   ]
  },
  {
   "cell_type": "markdown",
   "metadata": {},
   "source": [
    "Как описывали ранее, удалим из датасета столбцы с данными, которые не пригодятся при обучении моделей."
   ]
  },
  {
   "cell_type": "code",
   "execution_count": 6,
   "metadata": {},
   "outputs": [],
   "source": [
    "df = df.drop(['DateCrawled', 'RegistrationMonth', 'DateCreated', 'NumberOfPictures', 'PostalCode', 'LastSeen'], axis='columns')"
   ]
  },
  {
   "cell_type": "markdown",
   "metadata": {},
   "source": [
    "<div class=\"alert alert-block alert-success\">\n",
    "<b>Успех:</b> Удалить неинформативные признаки - хорошее решение"
   ]
  },
  {
   "cell_type": "code",
   "execution_count": 7,
   "metadata": {
    "scrolled": true
   },
   "outputs": [
    {
     "data": {
      "text/html": [
       "<div>\n",
       "<style scoped>\n",
       "    .dataframe tbody tr th:only-of-type {\n",
       "        vertical-align: middle;\n",
       "    }\n",
       "\n",
       "    .dataframe tbody tr th {\n",
       "        vertical-align: top;\n",
       "    }\n",
       "\n",
       "    .dataframe thead th {\n",
       "        text-align: right;\n",
       "    }\n",
       "</style>\n",
       "<table border=\"1\" class=\"dataframe\">\n",
       "  <thead>\n",
       "    <tr style=\"text-align: right;\">\n",
       "      <th></th>\n",
       "      <th>Price</th>\n",
       "      <th>VehicleType</th>\n",
       "      <th>RegistrationYear</th>\n",
       "      <th>Gearbox</th>\n",
       "      <th>Power</th>\n",
       "      <th>Model</th>\n",
       "      <th>Kilometer</th>\n",
       "      <th>FuelType</th>\n",
       "      <th>Brand</th>\n",
       "      <th>NotRepaired</th>\n",
       "    </tr>\n",
       "  </thead>\n",
       "  <tbody>\n",
       "    <tr>\n",
       "      <th>0</th>\n",
       "      <td>480</td>\n",
       "      <td>NaN</td>\n",
       "      <td>1993</td>\n",
       "      <td>manual</td>\n",
       "      <td>0</td>\n",
       "      <td>golf</td>\n",
       "      <td>150000</td>\n",
       "      <td>petrol</td>\n",
       "      <td>volkswagen</td>\n",
       "      <td>NaN</td>\n",
       "    </tr>\n",
       "    <tr>\n",
       "      <th>1</th>\n",
       "      <td>18300</td>\n",
       "      <td>coupe</td>\n",
       "      <td>2011</td>\n",
       "      <td>manual</td>\n",
       "      <td>190</td>\n",
       "      <td>NaN</td>\n",
       "      <td>125000</td>\n",
       "      <td>gasoline</td>\n",
       "      <td>audi</td>\n",
       "      <td>yes</td>\n",
       "    </tr>\n",
       "    <tr>\n",
       "      <th>2</th>\n",
       "      <td>9800</td>\n",
       "      <td>suv</td>\n",
       "      <td>2004</td>\n",
       "      <td>auto</td>\n",
       "      <td>163</td>\n",
       "      <td>grand</td>\n",
       "      <td>125000</td>\n",
       "      <td>gasoline</td>\n",
       "      <td>jeep</td>\n",
       "      <td>NaN</td>\n",
       "    </tr>\n",
       "    <tr>\n",
       "      <th>3</th>\n",
       "      <td>1500</td>\n",
       "      <td>small</td>\n",
       "      <td>2001</td>\n",
       "      <td>manual</td>\n",
       "      <td>75</td>\n",
       "      <td>golf</td>\n",
       "      <td>150000</td>\n",
       "      <td>petrol</td>\n",
       "      <td>volkswagen</td>\n",
       "      <td>no</td>\n",
       "    </tr>\n",
       "    <tr>\n",
       "      <th>4</th>\n",
       "      <td>3600</td>\n",
       "      <td>small</td>\n",
       "      <td>2008</td>\n",
       "      <td>manual</td>\n",
       "      <td>69</td>\n",
       "      <td>fabia</td>\n",
       "      <td>90000</td>\n",
       "      <td>gasoline</td>\n",
       "      <td>skoda</td>\n",
       "      <td>no</td>\n",
       "    </tr>\n",
       "  </tbody>\n",
       "</table>\n",
       "</div>"
      ],
      "text/plain": [
       "   Price VehicleType  RegistrationYear Gearbox  Power  Model  Kilometer  \\\n",
       "0    480         NaN              1993  manual      0   golf     150000   \n",
       "1  18300       coupe              2011  manual    190    NaN     125000   \n",
       "2   9800         suv              2004    auto    163  grand     125000   \n",
       "3   1500       small              2001  manual     75   golf     150000   \n",
       "4   3600       small              2008  manual     69  fabia      90000   \n",
       "\n",
       "   FuelType       Brand NotRepaired  \n",
       "0    petrol  volkswagen         NaN  \n",
       "1  gasoline        audi         yes  \n",
       "2  gasoline        jeep         NaN  \n",
       "3    petrol  volkswagen          no  \n",
       "4  gasoline       skoda          no  "
      ]
     },
     "execution_count": 7,
     "metadata": {},
     "output_type": "execute_result"
    }
   ],
   "source": [
    "df.head(5)"
   ]
  },
  {
   "cell_type": "markdown",
   "metadata": {},
   "source": [
    "Подготовили данные к дальнейшей работе без лишних данных."
   ]
  },
  {
   "cell_type": "markdown",
   "metadata": {},
   "source": [
    "#### Обработка пропусков"
   ]
  },
  {
   "cell_type": "markdown",
   "metadata": {},
   "source": [
    "Оценим количество пропусков в данных"
   ]
  },
  {
   "cell_type": "code",
   "execution_count": 8,
   "metadata": {},
   "outputs": [],
   "source": [
    "def missing_values_percentage(df):\n",
    "    count=round(df.isnull().sum(),2)\n",
    "    percent=round((df.isnull().sum()/df.shape[0])*100,2)\n",
    "    data=pd.concat([count,percent],axis=1)\n",
    "    data.reset_index(inplace=True)\n",
    "    data.rename(columns={0: 'Missing Values Count',1: 'Missing Values %'},inplace=True)\n",
    "    missing = data[data['Missing Values Count']!=0].sort_values(by = 'Missing Values %', ascending = False)\n",
    "    display(missing)\n",
    "    return missing"
   ]
  },
  {
   "cell_type": "code",
   "execution_count": 9,
   "metadata": {
    "scrolled": true
   },
   "outputs": [
    {
     "data": {
      "text/html": [
       "<div>\n",
       "<style scoped>\n",
       "    .dataframe tbody tr th:only-of-type {\n",
       "        vertical-align: middle;\n",
       "    }\n",
       "\n",
       "    .dataframe tbody tr th {\n",
       "        vertical-align: top;\n",
       "    }\n",
       "\n",
       "    .dataframe thead th {\n",
       "        text-align: right;\n",
       "    }\n",
       "</style>\n",
       "<table border=\"1\" class=\"dataframe\">\n",
       "  <thead>\n",
       "    <tr style=\"text-align: right;\">\n",
       "      <th></th>\n",
       "      <th>index</th>\n",
       "      <th>Missing Values Count</th>\n",
       "      <th>Missing Values %</th>\n",
       "    </tr>\n",
       "  </thead>\n",
       "  <tbody>\n",
       "    <tr>\n",
       "      <th>9</th>\n",
       "      <td>NotRepaired</td>\n",
       "      <td>71154</td>\n",
       "      <td>20.08</td>\n",
       "    </tr>\n",
       "    <tr>\n",
       "      <th>1</th>\n",
       "      <td>VehicleType</td>\n",
       "      <td>37490</td>\n",
       "      <td>10.58</td>\n",
       "    </tr>\n",
       "    <tr>\n",
       "      <th>7</th>\n",
       "      <td>FuelType</td>\n",
       "      <td>32895</td>\n",
       "      <td>9.28</td>\n",
       "    </tr>\n",
       "    <tr>\n",
       "      <th>3</th>\n",
       "      <td>Gearbox</td>\n",
       "      <td>19833</td>\n",
       "      <td>5.60</td>\n",
       "    </tr>\n",
       "    <tr>\n",
       "      <th>5</th>\n",
       "      <td>Model</td>\n",
       "      <td>19705</td>\n",
       "      <td>5.56</td>\n",
       "    </tr>\n",
       "  </tbody>\n",
       "</table>\n",
       "</div>"
      ],
      "text/plain": [
       "         index  Missing Values Count  Missing Values %\n",
       "9  NotRepaired                 71154             20.08\n",
       "1  VehicleType                 37490             10.58\n",
       "7     FuelType                 32895              9.28\n",
       "3      Gearbox                 19833              5.60\n",
       "5        Model                 19705              5.56"
      ]
     },
     "metadata": {},
     "output_type": "display_data"
    }
   ],
   "source": [
    "missing = missing_values_percentage(df)"
   ]
  },
  {
   "cell_type": "markdown",
   "metadata": {},
   "source": [
    "- Признак NotRepaired о наличии ремонта является весьма весомым, поэтому отбросить 20% данных мы не можем, но также и заполнить в явном виде пропуски не получится.\n",
    "- Тип автомобиля тажке может влиять на конечную цену - автобус будет дороже малолитражки\n",
    "- Тип топлива, тип коробки передач и модель автомобиля - данные пропуски также будет сложно заполнить в явном виде, из-за возможного широкого диапазона комплектаций автомобилей одной и той же марки и модели в разных регионах разными коробками передач и двигателями.\n",
    "\n",
    "Обработаем пропуски, заменив их на уникальное значение **und** - сокрещенное от **undefined**, тогда модель при обучении будет воспринимать их как отдельную категорию."
   ]
  },
  {
   "cell_type": "code",
   "execution_count": 10,
   "metadata": {},
   "outputs": [
    {
     "data": {
      "text/html": [
       "<div>\n",
       "<style scoped>\n",
       "    .dataframe tbody tr th:only-of-type {\n",
       "        vertical-align: middle;\n",
       "    }\n",
       "\n",
       "    .dataframe tbody tr th {\n",
       "        vertical-align: top;\n",
       "    }\n",
       "\n",
       "    .dataframe thead th {\n",
       "        text-align: right;\n",
       "    }\n",
       "</style>\n",
       "<table border=\"1\" class=\"dataframe\">\n",
       "  <thead>\n",
       "    <tr style=\"text-align: right;\">\n",
       "      <th></th>\n",
       "      <th>Price</th>\n",
       "      <th>VehicleType</th>\n",
       "      <th>RegistrationYear</th>\n",
       "      <th>Gearbox</th>\n",
       "      <th>Power</th>\n",
       "      <th>Model</th>\n",
       "      <th>Kilometer</th>\n",
       "      <th>FuelType</th>\n",
       "      <th>Brand</th>\n",
       "      <th>NotRepaired</th>\n",
       "    </tr>\n",
       "  </thead>\n",
       "  <tbody>\n",
       "    <tr>\n",
       "      <th>0</th>\n",
       "      <td>480</td>\n",
       "      <td>und</td>\n",
       "      <td>1993</td>\n",
       "      <td>manual</td>\n",
       "      <td>0</td>\n",
       "      <td>golf</td>\n",
       "      <td>150000</td>\n",
       "      <td>petrol</td>\n",
       "      <td>volkswagen</td>\n",
       "      <td>und</td>\n",
       "    </tr>\n",
       "    <tr>\n",
       "      <th>1</th>\n",
       "      <td>18300</td>\n",
       "      <td>coupe</td>\n",
       "      <td>2011</td>\n",
       "      <td>manual</td>\n",
       "      <td>190</td>\n",
       "      <td>und</td>\n",
       "      <td>125000</td>\n",
       "      <td>gasoline</td>\n",
       "      <td>audi</td>\n",
       "      <td>yes</td>\n",
       "    </tr>\n",
       "    <tr>\n",
       "      <th>2</th>\n",
       "      <td>9800</td>\n",
       "      <td>suv</td>\n",
       "      <td>2004</td>\n",
       "      <td>auto</td>\n",
       "      <td>163</td>\n",
       "      <td>grand</td>\n",
       "      <td>125000</td>\n",
       "      <td>gasoline</td>\n",
       "      <td>jeep</td>\n",
       "      <td>und</td>\n",
       "    </tr>\n",
       "    <tr>\n",
       "      <th>3</th>\n",
       "      <td>1500</td>\n",
       "      <td>small</td>\n",
       "      <td>2001</td>\n",
       "      <td>manual</td>\n",
       "      <td>75</td>\n",
       "      <td>golf</td>\n",
       "      <td>150000</td>\n",
       "      <td>petrol</td>\n",
       "      <td>volkswagen</td>\n",
       "      <td>no</td>\n",
       "    </tr>\n",
       "    <tr>\n",
       "      <th>4</th>\n",
       "      <td>3600</td>\n",
       "      <td>small</td>\n",
       "      <td>2008</td>\n",
       "      <td>manual</td>\n",
       "      <td>69</td>\n",
       "      <td>fabia</td>\n",
       "      <td>90000</td>\n",
       "      <td>gasoline</td>\n",
       "      <td>skoda</td>\n",
       "      <td>no</td>\n",
       "    </tr>\n",
       "  </tbody>\n",
       "</table>\n",
       "</div>"
      ],
      "text/plain": [
       "   Price VehicleType  RegistrationYear Gearbox  Power  Model  Kilometer  \\\n",
       "0    480         und              1993  manual      0   golf     150000   \n",
       "1  18300       coupe              2011  manual    190    und     125000   \n",
       "2   9800         suv              2004    auto    163  grand     125000   \n",
       "3   1500       small              2001  manual     75   golf     150000   \n",
       "4   3600       small              2008  manual     69  fabia      90000   \n",
       "\n",
       "   FuelType       Brand NotRepaired  \n",
       "0    petrol  volkswagen         und  \n",
       "1  gasoline        audi         yes  \n",
       "2  gasoline        jeep         und  \n",
       "3    petrol  volkswagen          no  \n",
       "4  gasoline       skoda          no  "
      ]
     },
     "execution_count": 10,
     "metadata": {},
     "output_type": "execute_result"
    }
   ],
   "source": [
    "df.fillna(value='und', inplace=True)\n",
    "df.head()"
   ]
  },
  {
   "cell_type": "code",
   "execution_count": 11,
   "metadata": {},
   "outputs": [
    {
     "data": {
      "text/html": [
       "<div>\n",
       "<style scoped>\n",
       "    .dataframe tbody tr th:only-of-type {\n",
       "        vertical-align: middle;\n",
       "    }\n",
       "\n",
       "    .dataframe tbody tr th {\n",
       "        vertical-align: top;\n",
       "    }\n",
       "\n",
       "    .dataframe thead th {\n",
       "        text-align: right;\n",
       "    }\n",
       "</style>\n",
       "<table border=\"1\" class=\"dataframe\">\n",
       "  <thead>\n",
       "    <tr style=\"text-align: right;\">\n",
       "      <th></th>\n",
       "      <th>index</th>\n",
       "      <th>Missing Values Count</th>\n",
       "      <th>Missing Values %</th>\n",
       "    </tr>\n",
       "  </thead>\n",
       "  <tbody>\n",
       "  </tbody>\n",
       "</table>\n",
       "</div>"
      ],
      "text/plain": [
       "Empty DataFrame\n",
       "Columns: [index, Missing Values Count, Missing Values %]\n",
       "Index: []"
      ]
     },
     "metadata": {},
     "output_type": "display_data"
    }
   ],
   "source": [
    "missing_corr = missing_values_percentage(df)"
   ]
  },
  {
   "cell_type": "markdown",
   "metadata": {},
   "source": [
    "Выполнили обработку пропусков."
   ]
  },
  {
   "cell_type": "markdown",
   "metadata": {},
   "source": [
    "**Вывод**"
   ]
  },
  {
   "cell_type": "markdown",
   "metadata": {},
   "source": [
    "Проведена подготовка данных для обучения моделей."
   ]
  },
  {
   "cell_type": "markdown",
   "metadata": {},
   "source": [
    "<div class=\"alert alert-block alert-success\">\n",
    "<b>Успех:</b> Пропуски проанализированы и заполнены допустмым способом"
   ]
  },
  {
   "cell_type": "markdown",
   "metadata": {},
   "source": [
    "<div class=\"alert alert-block alert-info\">\n",
    "<b>Совет:</b> также есть подозрительные значения в данных, которые хорошо было бы как минимум проанализировать\n",
    "</div>\n"
   ]
  },
  {
   "cell_type": "markdown",
   "metadata": {},
   "source": [
    "<div class=\"alert alert-block alert-warning\">\n",
    "<b>Изменения:</b> Были внесены следующие изменения. Добавил блок с обработкой аномальных значений в дате регистрации и мощностях двигателей.\n",
    "</div>"
   ]
  },
  {
   "cell_type": "markdown",
   "metadata": {},
   "source": [
    "<div class=\"alert alert-block alert-info\">\n",
    "\n",
    "<b>Совет[2]:</b> Еще хорошо было бы посмотреть price"
   ]
  },
  {
   "cell_type": "markdown",
   "metadata": {},
   "source": [
    "#### Поиск аномальных значений"
   ]
  },
  {
   "cell_type": "markdown",
   "metadata": {},
   "source": [
    "Построим \"ящик с усами\" для данных."
   ]
  },
  {
   "cell_type": "code",
   "execution_count": 12,
   "metadata": {},
   "outputs": [
    {
     "data": {
      "text/plain": [
       "<AxesSubplot:>"
      ]
     },
     "execution_count": 12,
     "metadata": {},
     "output_type": "execute_result"
    },
    {
     "data": {
      "image/png": "[encoded data removed]",
      "text/plain": [
       "<Figure size 432x288 with 1 Axes>"
      ]
     },
     "metadata": {},
     "output_type": "display_data"
    }
   ],
   "source": [
    "df.boxplot()"
   ]
  },
  {
   "cell_type": "markdown",
   "metadata": {},
   "source": [
    "Разрос цены и пробега в целом можно объяснить, поэтому трогать их не будем. А вот с годом регистрации и мощностью двигателя можно поработать."
   ]
  },
  {
   "cell_type": "code",
   "execution_count": 13,
   "metadata": {},
   "outputs": [
    {
     "data": {
      "text/html": [
       "<div>\n",
       "<style scoped>\n",
       "    .dataframe tbody tr th:only-of-type {\n",
       "        vertical-align: middle;\n",
       "    }\n",
       "\n",
       "    .dataframe tbody tr th {\n",
       "        vertical-align: top;\n",
       "    }\n",
       "\n",
       "    .dataframe thead th {\n",
       "        text-align: right;\n",
       "    }\n",
       "</style>\n",
       "<table border=\"1\" class=\"dataframe\">\n",
       "  <thead>\n",
       "    <tr style=\"text-align: right;\">\n",
       "      <th></th>\n",
       "      <th>Price</th>\n",
       "      <th>RegistrationYear</th>\n",
       "      <th>Power</th>\n",
       "      <th>Kilometer</th>\n",
       "    </tr>\n",
       "  </thead>\n",
       "  <tbody>\n",
       "    <tr>\n",
       "      <th>count</th>\n",
       "      <td>354369.000000</td>\n",
       "      <td>354369.000000</td>\n",
       "      <td>354369.000000</td>\n",
       "      <td>354369.000000</td>\n",
       "    </tr>\n",
       "    <tr>\n",
       "      <th>mean</th>\n",
       "      <td>4416.656776</td>\n",
       "      <td>2004.234448</td>\n",
       "      <td>110.094337</td>\n",
       "      <td>128211.172535</td>\n",
       "    </tr>\n",
       "    <tr>\n",
       "      <th>std</th>\n",
       "      <td>4514.158514</td>\n",
       "      <td>90.227958</td>\n",
       "      <td>189.850405</td>\n",
       "      <td>37905.341530</td>\n",
       "    </tr>\n",
       "    <tr>\n",
       "      <th>min</th>\n",
       "      <td>0.000000</td>\n",
       "      <td>1000.000000</td>\n",
       "      <td>0.000000</td>\n",
       "      <td>5000.000000</td>\n",
       "    </tr>\n",
       "    <tr>\n",
       "      <th>25%</th>\n",
       "      <td>1050.000000</td>\n",
       "      <td>1999.000000</td>\n",
       "      <td>69.000000</td>\n",
       "      <td>125000.000000</td>\n",
       "    </tr>\n",
       "    <tr>\n",
       "      <th>50%</th>\n",
       "      <td>2700.000000</td>\n",
       "      <td>2003.000000</td>\n",
       "      <td>105.000000</td>\n",
       "      <td>150000.000000</td>\n",
       "    </tr>\n",
       "    <tr>\n",
       "      <th>75%</th>\n",
       "      <td>6400.000000</td>\n",
       "      <td>2008.000000</td>\n",
       "      <td>143.000000</td>\n",
       "      <td>150000.000000</td>\n",
       "    </tr>\n",
       "    <tr>\n",
       "      <th>max</th>\n",
       "      <td>20000.000000</td>\n",
       "      <td>9999.000000</td>\n",
       "      <td>20000.000000</td>\n",
       "      <td>150000.000000</td>\n",
       "    </tr>\n",
       "  </tbody>\n",
       "</table>\n",
       "</div>"
      ],
      "text/plain": [
       "               Price  RegistrationYear          Power      Kilometer\n",
       "count  354369.000000     354369.000000  354369.000000  354369.000000\n",
       "mean     4416.656776       2004.234448     110.094337  128211.172535\n",
       "std      4514.158514         90.227958     189.850405   37905.341530\n",
       "min         0.000000       1000.000000       0.000000    5000.000000\n",
       "25%      1050.000000       1999.000000      69.000000  125000.000000\n",
       "50%      2700.000000       2003.000000     105.000000  150000.000000\n",
       "75%      6400.000000       2008.000000     143.000000  150000.000000\n",
       "max     20000.000000       9999.000000   20000.000000  150000.000000"
      ]
     },
     "execution_count": 13,
     "metadata": {},
     "output_type": "execute_result"
    }
   ],
   "source": [
    "df.describe()"
   ]
  },
  {
   "cell_type": "markdown",
   "metadata": {},
   "source": [
    "Мощности под 20000 л.с. выглядят нереально, разве что кто то продает самолет, предположим, что кто-то может продавать кастомный гоночный автомобиль. Самый мощный авто на данный момент это Hennessey Venom F5 c мощностью 1600 л.с. Поэтому сделаем отсечку с запасом до 2000. \n",
    "\n",
    "Дата регистрации 1000 год, возможно древние цивилизации и умели строить авто с ДВС, но первые зарегистрированные авто появились в 1910-30е года, с появлением и распространением Ford Model T. Поэтому поставим отсечку по годам регистрации от 1908 (появление Model T), до 2022 года."
   ]
  },
  {
   "cell_type": "code",
   "execution_count": 14,
   "metadata": {},
   "outputs": [],
   "source": [
    "df = df.query('RegistrationYear <= 2022 and RegistrationYear >= 1908 and Power <= 2000')"
   ]
  },
  {
   "cell_type": "markdown",
   "metadata": {},
   "source": [
    "<div class=\"alert alert-block alert-info\">\n",
    "\n",
    "<b>Совет[2]:</b> если судить по дате выгрузки баззы, то машины не могут быть младше 2016 года)"
   ]
  },
  {
   "cell_type": "code",
   "execution_count": 15,
   "metadata": {},
   "outputs": [
    {
     "data": {
      "text/html": [
       "<div>\n",
       "<style scoped>\n",
       "    .dataframe tbody tr th:only-of-type {\n",
       "        vertical-align: middle;\n",
       "    }\n",
       "\n",
       "    .dataframe tbody tr th {\n",
       "        vertical-align: top;\n",
       "    }\n",
       "\n",
       "    .dataframe thead th {\n",
       "        text-align: right;\n",
       "    }\n",
       "</style>\n",
       "<table border=\"1\" class=\"dataframe\">\n",
       "  <thead>\n",
       "    <tr style=\"text-align: right;\">\n",
       "      <th></th>\n",
       "      <th>Price</th>\n",
       "      <th>RegistrationYear</th>\n",
       "      <th>Power</th>\n",
       "      <th>Kilometer</th>\n",
       "    </tr>\n",
       "  </thead>\n",
       "  <tbody>\n",
       "    <tr>\n",
       "      <th>count</th>\n",
       "      <td>354080.000000</td>\n",
       "      <td>354080.000000</td>\n",
       "      <td>354080.000000</td>\n",
       "      <td>354080.000000</td>\n",
       "    </tr>\n",
       "    <tr>\n",
       "      <th>mean</th>\n",
       "      <td>4417.976155</td>\n",
       "      <td>2003.084862</td>\n",
       "      <td>107.339056</td>\n",
       "      <td>128268.823430</td>\n",
       "    </tr>\n",
       "    <tr>\n",
       "      <th>std</th>\n",
       "      <td>4514.301787</td>\n",
       "      <td>7.536048</td>\n",
       "      <td>71.390292</td>\n",
       "      <td>37820.986063</td>\n",
       "    </tr>\n",
       "    <tr>\n",
       "      <th>min</th>\n",
       "      <td>0.000000</td>\n",
       "      <td>1910.000000</td>\n",
       "      <td>0.000000</td>\n",
       "      <td>5000.000000</td>\n",
       "    </tr>\n",
       "    <tr>\n",
       "      <th>25%</th>\n",
       "      <td>1050.000000</td>\n",
       "      <td>1999.000000</td>\n",
       "      <td>69.000000</td>\n",
       "      <td>125000.000000</td>\n",
       "    </tr>\n",
       "    <tr>\n",
       "      <th>50%</th>\n",
       "      <td>2700.000000</td>\n",
       "      <td>2003.000000</td>\n",
       "      <td>105.000000</td>\n",
       "      <td>150000.000000</td>\n",
       "    </tr>\n",
       "    <tr>\n",
       "      <th>75%</th>\n",
       "      <td>6400.000000</td>\n",
       "      <td>2008.000000</td>\n",
       "      <td>142.000000</td>\n",
       "      <td>150000.000000</td>\n",
       "    </tr>\n",
       "    <tr>\n",
       "      <th>max</th>\n",
       "      <td>20000.000000</td>\n",
       "      <td>2019.000000</td>\n",
       "      <td>2000.000000</td>\n",
       "      <td>150000.000000</td>\n",
       "    </tr>\n",
       "  </tbody>\n",
       "</table>\n",
       "</div>"
      ],
      "text/plain": [
       "               Price  RegistrationYear          Power      Kilometer\n",
       "count  354080.000000     354080.000000  354080.000000  354080.000000\n",
       "mean     4417.976155       2003.084862     107.339056  128268.823430\n",
       "std      4514.301787          7.536048      71.390292   37820.986063\n",
       "min         0.000000       1910.000000       0.000000    5000.000000\n",
       "25%      1050.000000       1999.000000      69.000000  125000.000000\n",
       "50%      2700.000000       2003.000000     105.000000  150000.000000\n",
       "75%      6400.000000       2008.000000     142.000000  150000.000000\n",
       "max     20000.000000       2019.000000    2000.000000  150000.000000"
      ]
     },
     "execution_count": 15,
     "metadata": {},
     "output_type": "execute_result"
    }
   ],
   "source": [
    "df.describe()"
   ]
  },
  {
   "cell_type": "code",
   "execution_count": 16,
   "metadata": {},
   "outputs": [
    {
     "data": {
      "text/plain": [
       "<AxesSubplot:>"
      ]
     },
     "execution_count": 16,
     "metadata": {},
     "output_type": "execute_result"
    },
    {
     "data": {
      "image/png": "[encoded data removed]",
      "text/plain": [
       "<Figure size 432x288 with 1 Axes>"
      ]
     },
     "metadata": {},
     "output_type": "display_data"
    }
   ],
   "source": [
    "df.boxplot(column = 'RegistrationYear')"
   ]
  },
  {
   "cell_type": "code",
   "execution_count": 17,
   "metadata": {},
   "outputs": [
    {
     "data": {
      "text/plain": [
       "<AxesSubplot:>"
      ]
     },
     "execution_count": 17,
     "metadata": {},
     "output_type": "execute_result"
    },
    {
     "data": {
      "image/png": "[encoded data removed]",
      "text/plain": [
       "<Figure size 432x288 with 1 Axes>"
      ]
     },
     "metadata": {},
     "output_type": "display_data"
    }
   ],
   "source": [
    "df.boxplot(column = 'Power')"
   ]
  },
  {
   "cell_type": "markdown",
   "metadata": {},
   "source": [
    "## Обучение моделей"
   ]
  },
  {
   "cell_type": "markdown",
   "metadata": {},
   "source": [
    "Выполним обучение 3х моделей:\n",
    "- Linear Regression\n",
    "- CatBoostRegressor\n",
    "- LightGBM\n",
    "\n"
   ]
  },
  {
   "cell_type": "markdown",
   "metadata": {},
   "source": [
    "### Разбиение данных на выборки"
   ]
  },
  {
   "cell_type": "markdown",
   "metadata": {},
   "source": [
    "#### Категиоризация данных"
   ]
  },
  {
   "cell_type": "markdown",
   "metadata": {},
   "source": [
    "Выполним кодирование методом OHE, чтобы преобразовать численные признаки в категориальные для модели линейной регрессии"
   ]
  },
  {
   "cell_type": "code",
   "execution_count": 18,
   "metadata": {},
   "outputs": [],
   "source": [
    "df_ohe = pd.get_dummies(df, drop_first=True)"
   ]
  },
  {
   "cell_type": "markdown",
   "metadata": {},
   "source": [
    "<div class=\"alert alert-block alert-success\">\n",
    "\n",
    "<b>Успех:</b>  OHE-  применен корректно"
   ]
  },
  {
   "cell_type": "code",
   "execution_count": 19,
   "metadata": {},
   "outputs": [
    {
     "name": "stdout",
     "output_type": "stream",
     "text": [
      "<class 'pandas.core.frame.DataFrame'>\n",
      "Int64Index: 354080 entries, 0 to 354368\n",
      "Columns: 312 entries, Price to NotRepaired_yes\n",
      "dtypes: int64(4), uint8(308)\n",
      "memory usage: 117.5 MB\n"
     ]
    }
   ],
   "source": [
    "df_ohe.info()"
   ]
  },
  {
   "cell_type": "code",
   "execution_count": 20,
   "metadata": {
    "scrolled": true
   },
   "outputs": [
    {
     "data": {
      "text/html": [
       "<div>\n",
       "<style scoped>\n",
       "    .dataframe tbody tr th:only-of-type {\n",
       "        vertical-align: middle;\n",
       "    }\n",
       "\n",
       "    .dataframe tbody tr th {\n",
       "        vertical-align: top;\n",
       "    }\n",
       "\n",
       "    .dataframe thead th {\n",
       "        text-align: right;\n",
       "    }\n",
       "</style>\n",
       "<table border=\"1\" class=\"dataframe\">\n",
       "  <thead>\n",
       "    <tr style=\"text-align: right;\">\n",
       "      <th></th>\n",
       "      <th>Price</th>\n",
       "      <th>RegistrationYear</th>\n",
       "      <th>Power</th>\n",
       "      <th>Kilometer</th>\n",
       "      <th>VehicleType_convertible</th>\n",
       "      <th>VehicleType_coupe</th>\n",
       "      <th>VehicleType_other</th>\n",
       "      <th>VehicleType_sedan</th>\n",
       "      <th>VehicleType_small</th>\n",
       "      <th>VehicleType_suv</th>\n",
       "      <th>...</th>\n",
       "      <th>Brand_smart</th>\n",
       "      <th>Brand_sonstige_autos</th>\n",
       "      <th>Brand_subaru</th>\n",
       "      <th>Brand_suzuki</th>\n",
       "      <th>Brand_toyota</th>\n",
       "      <th>Brand_trabant</th>\n",
       "      <th>Brand_volkswagen</th>\n",
       "      <th>Brand_volvo</th>\n",
       "      <th>NotRepaired_und</th>\n",
       "      <th>NotRepaired_yes</th>\n",
       "    </tr>\n",
       "  </thead>\n",
       "  <tbody>\n",
       "    <tr>\n",
       "      <th>0</th>\n",
       "      <td>480</td>\n",
       "      <td>1993</td>\n",
       "      <td>0</td>\n",
       "      <td>150000</td>\n",
       "      <td>0</td>\n",
       "      <td>0</td>\n",
       "      <td>0</td>\n",
       "      <td>0</td>\n",
       "      <td>0</td>\n",
       "      <td>0</td>\n",
       "      <td>...</td>\n",
       "      <td>0</td>\n",
       "      <td>0</td>\n",
       "      <td>0</td>\n",
       "      <td>0</td>\n",
       "      <td>0</td>\n",
       "      <td>0</td>\n",
       "      <td>1</td>\n",
       "      <td>0</td>\n",
       "      <td>1</td>\n",
       "      <td>0</td>\n",
       "    </tr>\n",
       "    <tr>\n",
       "      <th>1</th>\n",
       "      <td>18300</td>\n",
       "      <td>2011</td>\n",
       "      <td>190</td>\n",
       "      <td>125000</td>\n",
       "      <td>0</td>\n",
       "      <td>1</td>\n",
       "      <td>0</td>\n",
       "      <td>0</td>\n",
       "      <td>0</td>\n",
       "      <td>0</td>\n",
       "      <td>...</td>\n",
       "      <td>0</td>\n",
       "      <td>0</td>\n",
       "      <td>0</td>\n",
       "      <td>0</td>\n",
       "      <td>0</td>\n",
       "      <td>0</td>\n",
       "      <td>0</td>\n",
       "      <td>0</td>\n",
       "      <td>0</td>\n",
       "      <td>1</td>\n",
       "    </tr>\n",
       "    <tr>\n",
       "      <th>2</th>\n",
       "      <td>9800</td>\n",
       "      <td>2004</td>\n",
       "      <td>163</td>\n",
       "      <td>125000</td>\n",
       "      <td>0</td>\n",
       "      <td>0</td>\n",
       "      <td>0</td>\n",
       "      <td>0</td>\n",
       "      <td>0</td>\n",
       "      <td>1</td>\n",
       "      <td>...</td>\n",
       "      <td>0</td>\n",
       "      <td>0</td>\n",
       "      <td>0</td>\n",
       "      <td>0</td>\n",
       "      <td>0</td>\n",
       "      <td>0</td>\n",
       "      <td>0</td>\n",
       "      <td>0</td>\n",
       "      <td>1</td>\n",
       "      <td>0</td>\n",
       "    </tr>\n",
       "    <tr>\n",
       "      <th>3</th>\n",
       "      <td>1500</td>\n",
       "      <td>2001</td>\n",
       "      <td>75</td>\n",
       "      <td>150000</td>\n",
       "      <td>0</td>\n",
       "      <td>0</td>\n",
       "      <td>0</td>\n",
       "      <td>0</td>\n",
       "      <td>1</td>\n",
       "      <td>0</td>\n",
       "      <td>...</td>\n",
       "      <td>0</td>\n",
       "      <td>0</td>\n",
       "      <td>0</td>\n",
       "      <td>0</td>\n",
       "      <td>0</td>\n",
       "      <td>0</td>\n",
       "      <td>1</td>\n",
       "      <td>0</td>\n",
       "      <td>0</td>\n",
       "      <td>0</td>\n",
       "    </tr>\n",
       "    <tr>\n",
       "      <th>4</th>\n",
       "      <td>3600</td>\n",
       "      <td>2008</td>\n",
       "      <td>69</td>\n",
       "      <td>90000</td>\n",
       "      <td>0</td>\n",
       "      <td>0</td>\n",
       "      <td>0</td>\n",
       "      <td>0</td>\n",
       "      <td>1</td>\n",
       "      <td>0</td>\n",
       "      <td>...</td>\n",
       "      <td>0</td>\n",
       "      <td>0</td>\n",
       "      <td>0</td>\n",
       "      <td>0</td>\n",
       "      <td>0</td>\n",
       "      <td>0</td>\n",
       "      <td>0</td>\n",
       "      <td>0</td>\n",
       "      <td>0</td>\n",
       "      <td>0</td>\n",
       "    </tr>\n",
       "  </tbody>\n",
       "</table>\n",
       "<p>5 rows × 312 columns</p>\n",
       "</div>"
      ],
      "text/plain": [
       "   Price  RegistrationYear  Power  Kilometer  VehicleType_convertible  \\\n",
       "0    480              1993      0     150000                        0   \n",
       "1  18300              2011    190     125000                        0   \n",
       "2   9800              2004    163     125000                        0   \n",
       "3   1500              2001     75     150000                        0   \n",
       "4   3600              2008     69      90000                        0   \n",
       "\n",
       "   VehicleType_coupe  VehicleType_other  VehicleType_sedan  VehicleType_small  \\\n",
       "0                  0                  0                  0                  0   \n",
       "1                  1                  0                  0                  0   \n",
       "2                  0                  0                  0                  0   \n",
       "3                  0                  0                  0                  1   \n",
       "4                  0                  0                  0                  1   \n",
       "\n",
       "   VehicleType_suv  ...  Brand_smart  Brand_sonstige_autos  Brand_subaru  \\\n",
       "0                0  ...            0                     0             0   \n",
       "1                0  ...            0                     0             0   \n",
       "2                1  ...            0                     0             0   \n",
       "3                0  ...            0                     0             0   \n",
       "4                0  ...            0                     0             0   \n",
       "\n",
       "   Brand_suzuki  Brand_toyota  Brand_trabant  Brand_volkswagen  Brand_volvo  \\\n",
       "0             0             0              0                 1            0   \n",
       "1             0             0              0                 0            0   \n",
       "2             0             0              0                 0            0   \n",
       "3             0             0              0                 1            0   \n",
       "4             0             0              0                 0            0   \n",
       "\n",
       "   NotRepaired_und  NotRepaired_yes  \n",
       "0                1                0  \n",
       "1                0                1  \n",
       "2                1                0  \n",
       "3                0                0  \n",
       "4                0                0  \n",
       "\n",
       "[5 rows x 312 columns]"
      ]
     },
     "execution_count": 20,
     "metadata": {},
     "output_type": "execute_result"
    }
   ],
   "source": [
    "df_ohe.head()"
   ]
  },
  {
   "cell_type": "markdown",
   "metadata": {},
   "source": [
    "#### Разбиение данных на выборки"
   ]
  },
  {
   "cell_type": "markdown",
   "metadata": {},
   "source": [
    "Произведем разделение данных на выборки для обучения моделей. Целевой признак - price."
   ]
  },
  {
   "cell_type": "markdown",
   "metadata": {},
   "source": [
    "Выборки для линейной регрессии:"
   ]
  },
  {
   "cell_type": "code",
   "execution_count": 21,
   "metadata": {},
   "outputs": [],
   "source": [
    "features_lr = df_ohe.drop(['Price'], axis = 1)\n",
    "target_lr = df_ohe['Price']"
   ]
  },
  {
   "cell_type": "markdown",
   "metadata": {},
   "source": [
    "Для Boost методов преобразуем в исходном датасете признаки в категориальный тип."
   ]
  },
  {
   "cell_type": "code",
   "execution_count": 22,
   "metadata": {},
   "outputs": [],
   "source": [
    "categorical = ['VehicleType', 'Gearbox', 'Model', 'FuelType', 'Brand', 'NotRepaired']"
   ]
  },
  {
   "cell_type": "code",
   "execution_count": 23,
   "metadata": {},
   "outputs": [],
   "source": [
    "for col in categorical:\n",
    "    df[col] = df[col].astype('category')"
   ]
  },
  {
   "cell_type": "code",
   "execution_count": 24,
   "metadata": {},
   "outputs": [],
   "source": [
    "features = df.drop(['Price'], axis = 1)\n",
    "target = df['Price']"
   ]
  },
  {
   "cell_type": "code",
   "execution_count": 25,
   "metadata": {},
   "outputs": [],
   "source": [
    "features_train_lr, features_test_lr, target_train_lr, target_test_lr = train_test_split(features_lr, target_lr, test_size=.25, random_state=12345)"
   ]
  },
  {
   "cell_type": "code",
   "execution_count": 26,
   "metadata": {},
   "outputs": [],
   "source": [
    "features_train, features_test, target_train, target_test = train_test_split(features, target, test_size=.25, random_state=12345)"
   ]
  },
  {
   "cell_type": "markdown",
   "metadata": {},
   "source": [
    "### Формула для измерения метрики"
   ]
  },
  {
   "cell_type": "markdown",
   "metadata": {},
   "source": [
    "По поставленной задаче нам нужно будет оценивать метрику **RMSE**, напишем функцию для ее расчета."
   ]
  },
  {
   "cell_type": "code",
   "execution_count": 27,
   "metadata": {},
   "outputs": [],
   "source": [
    "def rmse (target, predictions):\n",
    "    mse = mean_squared_error(target, predictions)\n",
    "    rmse = mse ** 0.5\n",
    "    return rmse"
   ]
  },
  {
   "cell_type": "markdown",
   "metadata": {},
   "source": [
    "### Обучение моделей"
   ]
  },
  {
   "cell_type": "code",
   "execution_count": 28,
   "metadata": {},
   "outputs": [],
   "source": [
    "#Для сбора результатов\n",
    "rmse_df = []"
   ]
  },
  {
   "cell_type": "markdown",
   "metadata": {},
   "source": [
    "#### Linear Regression"
   ]
  },
  {
   "cell_type": "code",
   "execution_count": 29,
   "metadata": {},
   "outputs": [],
   "source": [
    "lr_model = LinearRegression()"
   ]
  },
  {
   "cell_type": "code",
   "execution_count": 30,
   "metadata": {},
   "outputs": [
    {
     "name": "stdout",
     "output_type": "stream",
     "text": [
      "CPU times: user 21.7 s, sys: 4.21 s, total: 25.9 s\n",
      "Wall time: 26 s\n"
     ]
    },
    {
     "data": {
      "text/plain": [
       "LinearRegression()"
      ]
     },
     "execution_count": 30,
     "metadata": {},
     "output_type": "execute_result"
    }
   ],
   "source": [
    "%%time\n",
    "lr_model.fit(features_train_lr, target_train_lr)"
   ]
  },
  {
   "cell_type": "code",
   "execution_count": 31,
   "metadata": {},
   "outputs": [
    {
     "name": "stdout",
     "output_type": "stream",
     "text": [
      "CPU times: user 97.8 ms, sys: 172 ms, total: 270 ms\n",
      "Wall time: 233 ms\n"
     ]
    }
   ],
   "source": [
    "%%time\n",
    "predicted_lr = pd.Series(lr_model.predict(features_test_lr))"
   ]
  },
  {
   "cell_type": "code",
   "execution_count": 32,
   "metadata": {},
   "outputs": [
    {
     "data": {
      "text/plain": [
       "2842.481034199925"
      ]
     },
     "execution_count": 32,
     "metadata": {},
     "output_type": "execute_result"
    }
   ],
   "source": [
    "rmse_lr = rmse(target_test_lr, predicted_lr)\n",
    "rmse_df.append(rmse_lr)\n",
    "rmse_lr"
   ]
  },
  {
   "cell_type": "markdown",
   "metadata": {},
   "source": [
    "#### CatBoost Regressor"
   ]
  },
  {
   "cell_type": "markdown",
   "metadata": {},
   "source": [
    "Создадим модель CBR, попробуем подобрать для нее гиперпараметры."
   ]
  },
  {
   "cell_type": "markdown",
   "metadata": {},
   "source": [
    "Рассмотрим результаты работы при изменении гиперпараметра itearations"
   ]
  },
  {
   "cell_type": "code",
   "execution_count": 33,
   "metadata": {
    "scrolled": true
   },
   "outputs": [
    {
     "name": "stdout",
     "output_type": "stream",
     "text": [
      "Learning rate set to 0.5\n",
      "0:\tlearn: 3149.8174657\ttotal: 142ms\tremaining: 1.28s\n",
      "9:\tlearn: 1908.6640697\ttotal: 844ms\tremaining: 0us\n",
      "Learning rate set to 0.5\n",
      "0:\tlearn: 3137.7899746\ttotal: 77.9ms\tremaining: 701ms\n",
      "9:\tlearn: 1900.9392030\ttotal: 763ms\tremaining: 0us\n",
      "Learning rate set to 0.5\n",
      "0:\tlearn: 3149.8174657\ttotal: 84.2ms\tremaining: 842ms\n",
      "10:\tlearn: 1891.3275843\ttotal: 850ms\tremaining: 0us\n",
      "Learning rate set to 0.5\n",
      "0:\tlearn: 3137.7899746\ttotal: 78.7ms\tremaining: 787ms\n",
      "10:\tlearn: 1884.2320978\ttotal: 832ms\tremaining: 0us\n",
      "Learning rate set to 0.5\n",
      "0:\tlearn: 3149.8174657\ttotal: 86.1ms\tremaining: 948ms\n",
      "10:\tlearn: 1891.3275843\ttotal: 845ms\tremaining: 76.8ms\n",
      "11:\tlearn: 1879.9131312\ttotal: 920ms\tremaining: 0us\n",
      "Learning rate set to 0.5\n",
      "0:\tlearn: 3137.7899746\ttotal: 81.3ms\tremaining: 894ms\n",
      "10:\tlearn: 1884.2320978\ttotal: 844ms\tremaining: 76.7ms\n",
      "11:\tlearn: 1861.7505994\ttotal: 919ms\tremaining: 0us\n",
      "Learning rate set to 0.5\n",
      "0:\tlearn: 3149.8174657\ttotal: 85.9ms\tremaining: 1.03s\n",
      "10:\tlearn: 1891.3275843\ttotal: 844ms\tremaining: 153ms\n",
      "12:\tlearn: 1867.9909524\ttotal: 997ms\tremaining: 0us\n",
      "Learning rate set to 0.5\n",
      "0:\tlearn: 3137.7899746\ttotal: 82.8ms\tremaining: 994ms\n",
      "10:\tlearn: 1884.2320978\ttotal: 868ms\tremaining: 158ms\n",
      "12:\tlearn: 1848.2070291\ttotal: 1.01s\tremaining: 0us\n",
      "Learning rate set to 0.5\n",
      "0:\tlearn: 3149.8174657\ttotal: 86.8ms\tremaining: 1.13s\n",
      "10:\tlearn: 1891.3275843\ttotal: 850ms\tremaining: 232ms\n",
      "13:\tlearn: 1856.3793720\ttotal: 1.08s\tremaining: 0us\n",
      "Learning rate set to 0.5\n",
      "0:\tlearn: 3137.7899746\ttotal: 79.2ms\tremaining: 1.03s\n",
      "10:\tlearn: 1884.2320978\ttotal: 839ms\tremaining: 229ms\n",
      "13:\tlearn: 1839.1411710\ttotal: 1.06s\tremaining: 0us\n",
      "Learning rate set to 0.5\n",
      "0:\tlearn: 3149.8174657\ttotal: 85ms\tremaining: 1.19s\n",
      "10:\tlearn: 1891.3275843\ttotal: 848ms\tremaining: 308ms\n",
      "14:\tlearn: 1845.8272867\ttotal: 1.14s\tremaining: 0us\n",
      "Learning rate set to 0.5\n",
      "0:\tlearn: 3137.7899746\ttotal: 78.3ms\tremaining: 1.09s\n",
      "10:\tlearn: 1884.2320978\ttotal: 844ms\tremaining: 307ms\n",
      "14:\tlearn: 1831.2908449\ttotal: 1.14s\tremaining: 0us\n",
      "Learning rate set to 0.5\n",
      "0:\tlearn: 3149.8174657\ttotal: 85ms\tremaining: 1.27s\n",
      "10:\tlearn: 1891.3275843\ttotal: 854ms\tremaining: 388ms\n",
      "15:\tlearn: 1830.0736396\ttotal: 1.22s\tremaining: 0us\n",
      "Learning rate set to 0.5\n",
      "0:\tlearn: 3137.7899746\ttotal: 78.7ms\tremaining: 1.18s\n",
      "10:\tlearn: 1884.2320978\ttotal: 836ms\tremaining: 380ms\n",
      "15:\tlearn: 1827.1237766\ttotal: 1.21s\tremaining: 0us\n",
      "Learning rate set to 0.5\n",
      "0:\tlearn: 3149.8174657\ttotal: 85.7ms\tremaining: 1.37s\n",
      "10:\tlearn: 1891.3275843\ttotal: 853ms\tremaining: 465ms\n",
      "16:\tlearn: 1820.7196420\ttotal: 1.29s\tremaining: 0us\n",
      "Learning rate set to 0.5\n",
      "0:\tlearn: 3137.7899746\ttotal: 79.1ms\tremaining: 1.26s\n",
      "10:\tlearn: 1884.2320978\ttotal: 879ms\tremaining: 480ms\n",
      "16:\tlearn: 1821.2188480\ttotal: 1.33s\tremaining: 0us\n",
      "Learning rate set to 0.5\n",
      "0:\tlearn: 3149.8174657\ttotal: 84.5ms\tremaining: 1.44s\n",
      "10:\tlearn: 1891.3275843\ttotal: 845ms\tremaining: 537ms\n",
      "17:\tlearn: 1811.8735707\ttotal: 1.36s\tremaining: 0us\n",
      "Learning rate set to 0.5\n",
      "0:\tlearn: 3137.7899746\ttotal: 79.4ms\tremaining: 1.35s\n",
      "10:\tlearn: 1884.2320978\ttotal: 830ms\tremaining: 528ms\n",
      "17:\tlearn: 1811.8142375\ttotal: 1.34s\tremaining: 0us\n",
      "Learning rate set to 0.5\n",
      "0:\tlearn: 3149.8174657\ttotal: 84.7ms\tremaining: 1.52s\n",
      "10:\tlearn: 1891.3275843\ttotal: 844ms\tremaining: 614ms\n",
      "18:\tlearn: 1806.4515022\ttotal: 1.44s\tremaining: 0us\n",
      "Learning rate set to 0.5\n",
      "0:\tlearn: 3137.7899746\ttotal: 81.9ms\tremaining: 1.47s\n",
      "10:\tlearn: 1884.2320978\ttotal: 843ms\tremaining: 613ms\n",
      "18:\tlearn: 1806.4719279\ttotal: 1.44s\tremaining: 0us\n",
      "Learning rate set to 0.5\n",
      "0:\tlearn: 3149.8174657\ttotal: 84.2ms\tremaining: 1.6s\n",
      "10:\tlearn: 1891.3275843\ttotal: 836ms\tremaining: 684ms\n",
      "19:\tlearn: 1799.3646916\ttotal: 1.5s\tremaining: 0us\n",
      "Learning rate set to 0.5\n",
      "0:\tlearn: 3137.7899746\ttotal: 80.4ms\tremaining: 1.53s\n",
      "10:\tlearn: 1884.2320978\ttotal: 840ms\tremaining: 687ms\n",
      "19:\tlearn: 1798.5125901\ttotal: 1.51s\tremaining: 0us\n",
      "Learning rate set to 0.5\n",
      "0:\tlearn: 3149.8174657\ttotal: 84.9ms\tremaining: 1.7s\n",
      "10:\tlearn: 1891.3275843\ttotal: 849ms\tremaining: 772ms\n",
      "20:\tlearn: 1794.4630878\ttotal: 1.61s\tremaining: 0us\n",
      "Learning rate set to 0.5\n",
      "0:\tlearn: 3137.7899746\ttotal: 83.2ms\tremaining: 1.66s\n",
      "10:\tlearn: 1884.2320978\ttotal: 869ms\tremaining: 790ms\n",
      "20:\tlearn: 1783.9677023\ttotal: 1.64s\tremaining: 0us\n",
      "Learning rate set to 0.5\n",
      "0:\tlearn: 3149.8174657\ttotal: 88.7ms\tremaining: 1.86s\n",
      "10:\tlearn: 1891.3275843\ttotal: 842ms\tremaining: 842ms\n",
      "20:\tlearn: 1794.4630878\ttotal: 1.57s\tremaining: 74.7ms\n",
      "21:\tlearn: 1789.1544497\ttotal: 1.64s\tremaining: 0us\n",
      "Learning rate set to 0.5\n",
      "0:\tlearn: 3137.7899746\ttotal: 79.1ms\tremaining: 1.66s\n",
      "10:\tlearn: 1884.2320978\ttotal: 854ms\tremaining: 854ms\n",
      "20:\tlearn: 1783.9677023\ttotal: 1.59s\tremaining: 75.9ms\n",
      "21:\tlearn: 1776.8835288\ttotal: 1.67s\tremaining: 0us\n",
      "Learning rate set to 0.5\n",
      "0:\tlearn: 3149.8174657\ttotal: 84.4ms\tremaining: 1.86s\n",
      "10:\tlearn: 1891.3275843\ttotal: 833ms\tremaining: 909ms\n",
      "20:\tlearn: 1794.4630878\ttotal: 1.56s\tremaining: 148ms\n",
      "22:\tlearn: 1785.0863860\ttotal: 1.7s\tremaining: 0us\n",
      "Learning rate set to 0.5\n",
      "0:\tlearn: 3137.7899746\ttotal: 76.9ms\tremaining: 1.69s\n",
      "10:\tlearn: 1884.2320978\ttotal: 827ms\tremaining: 902ms\n",
      "20:\tlearn: 1783.9677023\ttotal: 1.57s\tremaining: 149ms\n",
      "22:\tlearn: 1765.9416867\ttotal: 1.71s\tremaining: 0us\n",
      "Learning rate set to 0.5\n",
      "0:\tlearn: 3149.8174657\ttotal: 86.5ms\tremaining: 1.99s\n",
      "10:\tlearn: 1891.3275843\ttotal: 879ms\tremaining: 1.04s\n",
      "20:\tlearn: 1794.4630878\ttotal: 1.69s\tremaining: 241ms\n",
      "23:\tlearn: 1776.8481730\ttotal: 1.91s\tremaining: 0us\n",
      "Learning rate set to 0.5\n",
      "0:\tlearn: 3137.7899746\ttotal: 79.8ms\tremaining: 1.83s\n",
      "10:\tlearn: 1884.2320978\ttotal: 836ms\tremaining: 988ms\n",
      "20:\tlearn: 1783.9677023\ttotal: 1.58s\tremaining: 225ms\n",
      "23:\tlearn: 1760.8601752\ttotal: 1.8s\tremaining: 0us\n",
      "Learning rate set to 0.5\n",
      "0:\tlearn: 3149.8174657\ttotal: 81.9ms\tremaining: 1.97s\n",
      "10:\tlearn: 1891.3275843\ttotal: 841ms\tremaining: 1.07s\n",
      "20:\tlearn: 1794.4630878\ttotal: 1.59s\tremaining: 303ms\n",
      "24:\tlearn: 1775.1396753\ttotal: 1.89s\tremaining: 0us\n",
      "Learning rate set to 0.5\n",
      "0:\tlearn: 3137.7899746\ttotal: 81.4ms\tremaining: 1.95s\n",
      "10:\tlearn: 1884.2320978\ttotal: 863ms\tremaining: 1.1s\n",
      "20:\tlearn: 1783.9677023\ttotal: 1.6s\tremaining: 305ms\n",
      "24:\tlearn: 1755.5456353\ttotal: 1.9s\tremaining: 0us\n",
      "Learning rate set to 0.5\n",
      "0:\tlearn: 3149.8174657\ttotal: 82.3ms\tremaining: 2.06s\n",
      "10:\tlearn: 1891.3275843\ttotal: 833ms\tremaining: 1.14s\n",
      "20:\tlearn: 1794.4630878\ttotal: 1.57s\tremaining: 375ms\n",
      "25:\tlearn: 1769.3878607\ttotal: 1.95s\tremaining: 0us\n",
      "Learning rate set to 0.5\n",
      "0:\tlearn: 3137.7899746\ttotal: 77.8ms\tremaining: 1.95s\n",
      "10:\tlearn: 1884.2320978\ttotal: 834ms\tremaining: 1.14s\n",
      "20:\tlearn: 1783.9677023\ttotal: 1.57s\tremaining: 373ms\n",
      "25:\tlearn: 1747.4691864\ttotal: 1.94s\tremaining: 0us\n",
      "Learning rate set to 0.5\n",
      "0:\tlearn: 3149.8174657\ttotal: 84.1ms\tremaining: 2.19s\n",
      "10:\tlearn: 1891.3275843\ttotal: 852ms\tremaining: 1.24s\n",
      "20:\tlearn: 1794.4630878\ttotal: 1.66s\tremaining: 475ms\n",
      "26:\tlearn: 1760.2855356\ttotal: 2.19s\tremaining: 0us\n",
      "Learning rate set to 0.5\n",
      "0:\tlearn: 3137.7899746\ttotal: 78.1ms\tremaining: 2.03s\n",
      "10:\tlearn: 1884.2320978\ttotal: 846ms\tremaining: 1.23s\n",
      "20:\tlearn: 1783.9677023\ttotal: 1.58s\tremaining: 453ms\n",
      "26:\tlearn: 1742.0700979\ttotal: 2.03s\tremaining: 0us\n",
      "Learning rate set to 0.5\n",
      "0:\tlearn: 3149.8174657\ttotal: 84.7ms\tremaining: 2.29s\n",
      "10:\tlearn: 1891.3275843\ttotal: 833ms\tremaining: 1.29s\n",
      "20:\tlearn: 1794.4630878\ttotal: 1.58s\tremaining: 526ms\n",
      "27:\tlearn: 1758.7897215\ttotal: 2.08s\tremaining: 0us\n",
      "Learning rate set to 0.5\n",
      "0:\tlearn: 3137.7899746\ttotal: 79.8ms\tremaining: 2.15s\n",
      "10:\tlearn: 1884.2320978\ttotal: 842ms\tremaining: 1.3s\n",
      "20:\tlearn: 1783.9677023\ttotal: 1.59s\tremaining: 530ms\n",
      "27:\tlearn: 1740.0684701\ttotal: 2.11s\tremaining: 0us\n",
      "Learning rate set to 0.5\n",
      "0:\tlearn: 3149.8174657\ttotal: 85.8ms\tremaining: 2.4s\n",
      "10:\tlearn: 1891.3275843\ttotal: 837ms\tremaining: 1.37s\n",
      "20:\tlearn: 1794.4630878\ttotal: 1.57s\tremaining: 597ms\n",
      "28:\tlearn: 1753.5650319\ttotal: 2.15s\tremaining: 0us\n",
      "Learning rate set to 0.5\n",
      "0:\tlearn: 3137.7899746\ttotal: 79.8ms\tremaining: 2.23s\n",
      "10:\tlearn: 1884.2320978\ttotal: 837ms\tremaining: 1.37s\n",
      "20:\tlearn: 1783.9677023\ttotal: 1.58s\tremaining: 601ms\n",
      "28:\tlearn: 1736.1893025\ttotal: 2.17s\tremaining: 0us\n",
      "Learning rate set to 0.5\n",
      "0:\tlearn: 3149.8174657\ttotal: 82.1ms\tremaining: 2.38s\n",
      "10:\tlearn: 1891.3275843\ttotal: 849ms\tremaining: 1.47s\n",
      "20:\tlearn: 1794.4630878\ttotal: 1.6s\tremaining: 685ms\n",
      "29:\tlearn: 1744.8455678\ttotal: 2.27s\tremaining: 0us\n",
      "Learning rate set to 0.5\n",
      "0:\tlearn: 3137.7899746\ttotal: 77.9ms\tremaining: 2.26s\n",
      "10:\tlearn: 1884.2320978\ttotal: 824ms\tremaining: 1.42s\n",
      "20:\tlearn: 1783.9677023\ttotal: 1.56s\tremaining: 667ms\n",
      "29:\tlearn: 1729.9892316\ttotal: 2.21s\tremaining: 0us\n",
      "Learning rate set to 0.5\n",
      "0:\tlearn: 3149.8174657\ttotal: 84.7ms\tremaining: 2.54s\n",
      "10:\tlearn: 1891.3275843\ttotal: 845ms\tremaining: 1.53s\n",
      "20:\tlearn: 1794.4630878\ttotal: 1.68s\tremaining: 802ms\n",
      "30:\tlearn: 1740.7020962\ttotal: 2.48s\tremaining: 0us\n",
      "Learning rate set to 0.5\n",
      "0:\tlearn: 3137.7899746\ttotal: 87.2ms\tremaining: 2.62s\n",
      "10:\tlearn: 1884.2320978\ttotal: 880ms\tremaining: 1.6s\n",
      "20:\tlearn: 1783.9677023\ttotal: 1.64s\tremaining: 780ms\n",
      "30:\tlearn: 1726.0317566\ttotal: 2.4s\tremaining: 0us\n",
      "Learning rate set to 0.5\n",
      "0:\tlearn: 3149.8174657\ttotal: 86.9ms\tremaining: 2.69s\n",
      "10:\tlearn: 1891.3275843\ttotal: 881ms\tremaining: 1.68s\n",
      "20:\tlearn: 1794.4630878\ttotal: 1.63s\tremaining: 855ms\n",
      "30:\tlearn: 1740.7020962\ttotal: 2.38s\tremaining: 76.7ms\n",
      "31:\tlearn: 1733.9958665\ttotal: 2.45s\tremaining: 0us\n",
      "Learning rate set to 0.5\n",
      "0:\tlearn: 3137.7899746\ttotal: 81.4ms\tremaining: 2.52s\n",
      "10:\tlearn: 1884.2320978\ttotal: 843ms\tremaining: 1.61s\n",
      "20:\tlearn: 1783.9677023\ttotal: 1.6s\tremaining: 837ms\n",
      "30:\tlearn: 1726.0317566\ttotal: 2.35s\tremaining: 75.7ms\n",
      "31:\tlearn: 1719.3869993\ttotal: 2.42s\tremaining: 0us\n",
      "Learning rate set to 0.5\n",
      "0:\tlearn: 3149.8174657\ttotal: 93.6ms\tremaining: 2.99s\n",
      "10:\tlearn: 1891.3275843\ttotal: 883ms\tremaining: 1.77s\n",
      "20:\tlearn: 1794.4630878\ttotal: 1.67s\tremaining: 957ms\n",
      "30:\tlearn: 1740.7020962\ttotal: 2.46s\tremaining: 159ms\n",
      "32:\tlearn: 1727.9038326\ttotal: 2.62s\tremaining: 0us\n",
      "Learning rate set to 0.5\n",
      "0:\tlearn: 3137.7899746\ttotal: 83.6ms\tremaining: 2.68s\n",
      "10:\tlearn: 1884.2320978\ttotal: 855ms\tremaining: 1.71s\n",
      "20:\tlearn: 1783.9677023\ttotal: 1.71s\tremaining: 977ms\n",
      "30:\tlearn: 1726.0317566\ttotal: 2.46s\tremaining: 159ms\n",
      "32:\tlearn: 1714.9875876\ttotal: 2.61s\tremaining: 0us\n",
      "Learning rate set to 0.5\n",
      "0:\tlearn: 3149.8174657\ttotal: 87.2ms\tremaining: 2.88s\n",
      "10:\tlearn: 1891.3275843\ttotal: 850ms\tremaining: 1.78s\n",
      "20:\tlearn: 1794.4630878\ttotal: 1.59s\tremaining: 984ms\n",
      "30:\tlearn: 1740.7020962\ttotal: 2.35s\tremaining: 227ms\n",
      "33:\tlearn: 1721.4908358\ttotal: 2.57s\tremaining: 0us\n",
      "Learning rate set to 0.5\n",
      "0:\tlearn: 3137.7899746\ttotal: 86.3ms\tremaining: 2.85s\n",
      "10:\tlearn: 1884.2320978\ttotal: 886ms\tremaining: 1.85s\n",
      "20:\tlearn: 1783.9677023\ttotal: 1.63s\tremaining: 1.01s\n",
      "30:\tlearn: 1726.0317566\ttotal: 2.38s\tremaining: 230ms\n",
      "33:\tlearn: 1710.7888858\ttotal: 2.59s\tremaining: 0us\n",
      "Learning rate set to 0.5\n",
      "0:\tlearn: 3149.8174657\ttotal: 83.8ms\tremaining: 2.85s\n",
      "10:\tlearn: 1891.3275843\ttotal: 845ms\tremaining: 1.84s\n",
      "20:\tlearn: 1794.4630878\ttotal: 1.59s\tremaining: 1.06s\n",
      "30:\tlearn: 1740.7020962\ttotal: 2.36s\tremaining: 304ms\n",
      "34:\tlearn: 1716.1248509\ttotal: 2.66s\tremaining: 0us\n",
      "Learning rate set to 0.5\n",
      "0:\tlearn: 3137.7899746\ttotal: 80.8ms\tremaining: 2.75s\n",
      "10:\tlearn: 1884.2320978\ttotal: 886ms\tremaining: 1.93s\n",
      "20:\tlearn: 1783.9677023\ttotal: 1.67s\tremaining: 1.11s\n",
      "30:\tlearn: 1726.0317566\ttotal: 2.42s\tremaining: 312ms\n",
      "34:\tlearn: 1703.6255778\ttotal: 2.72s\tremaining: 0us\n",
      "Learning rate set to 0.5\n",
      "0:\tlearn: 3149.8174657\ttotal: 83.6ms\tremaining: 2.93s\n",
      "10:\tlearn: 1891.3275843\ttotal: 839ms\tremaining: 1.91s\n",
      "20:\tlearn: 1794.4630878\ttotal: 1.58s\tremaining: 1.13s\n",
      "30:\tlearn: 1740.7020962\ttotal: 2.33s\tremaining: 376ms\n",
      "35:\tlearn: 1712.1209028\ttotal: 2.81s\tremaining: 0us\n",
      "Learning rate set to 0.5\n",
      "0:\tlearn: 3137.7899746\ttotal: 88.3ms\tremaining: 3.09s\n",
      "10:\tlearn: 1884.2320978\ttotal: 936ms\tremaining: 2.13s\n",
      "20:\tlearn: 1783.9677023\ttotal: 2.06s\tremaining: 1.47s\n",
      "30:\tlearn: 1726.0317566\ttotal: 2.9s\tremaining: 469ms\n",
      "35:\tlearn: 1700.3319424\ttotal: 3.35s\tremaining: 0us\n",
      "Learning rate set to 0.5\n",
      "0:\tlearn: 3149.8174657\ttotal: 91.9ms\tremaining: 3.31s\n",
      "10:\tlearn: 1891.3275843\ttotal: 878ms\tremaining: 2.08s\n",
      "20:\tlearn: 1794.4630878\ttotal: 1.64s\tremaining: 1.25s\n",
      "30:\tlearn: 1740.7020962\ttotal: 2.48s\tremaining: 481ms\n",
      "36:\tlearn: 1710.5320219\ttotal: 3s\tremaining: 0us\n",
      "Learning rate set to 0.5\n",
      "0:\tlearn: 3137.7899746\ttotal: 89.7ms\tremaining: 3.23s\n",
      "10:\tlearn: 1884.2320978\ttotal: 1.16s\tremaining: 2.73s\n",
      "20:\tlearn: 1783.9677023\ttotal: 1.93s\tremaining: 1.47s\n",
      "30:\tlearn: 1726.0317566\ttotal: 2.74s\tremaining: 530ms\n",
      "36:\tlearn: 1695.9063692\ttotal: 3.28s\tremaining: 0us\n",
      "Learning rate set to 0.5\n",
      "0:\tlearn: 3149.8174657\ttotal: 95.4ms\tremaining: 3.53s\n",
      "10:\tlearn: 1891.3275843\ttotal: 900ms\tremaining: 2.21s\n",
      "20:\tlearn: 1794.4630878\ttotal: 1.88s\tremaining: 1.52s\n",
      "30:\tlearn: 1740.7020962\ttotal: 2.79s\tremaining: 629ms\n",
      "37:\tlearn: 1702.8162066\ttotal: 3.33s\tremaining: 0us\n",
      "Learning rate set to 0.5\n",
      "0:\tlearn: 3137.7899746\ttotal: 83.9ms\tremaining: 3.1s\n",
      "10:\tlearn: 1884.2320978\ttotal: 909ms\tremaining: 2.23s\n",
      "20:\tlearn: 1783.9677023\ttotal: 1.71s\tremaining: 1.38s\n",
      "30:\tlearn: 1726.0317566\ttotal: 2.52s\tremaining: 569ms\n",
      "37:\tlearn: 1693.7727054\ttotal: 3.08s\tremaining: 0us\n",
      "Learning rate set to 0.5\n",
      "0:\tlearn: 3149.8174657\ttotal: 90.6ms\tremaining: 3.44s\n",
      "10:\tlearn: 1891.3275843\ttotal: 930ms\tremaining: 2.37s\n",
      "20:\tlearn: 1794.4630878\ttotal: 2.32s\tremaining: 1.99s\n",
      "30:\tlearn: 1740.7020962\ttotal: 3.14s\tremaining: 811ms\n",
      "38:\tlearn: 1697.5053999\ttotal: 3.8s\tremaining: 0us\n",
      "Learning rate set to 0.5\n",
      "0:\tlearn: 3137.7899746\ttotal: 85.6ms\tremaining: 3.25s\n",
      "10:\tlearn: 1884.2320978\ttotal: 900ms\tremaining: 2.29s\n",
      "20:\tlearn: 1783.9677023\ttotal: 1.67s\tremaining: 1.44s\n",
      "30:\tlearn: 1726.0317566\ttotal: 2.44s\tremaining: 630ms\n",
      "38:\tlearn: 1687.7664367\ttotal: 3.03s\tremaining: 0us\n",
      "Learning rate set to 0.5\n",
      "0:\tlearn: 3149.8174657\ttotal: 83.7ms\tremaining: 3.27s\n",
      "10:\tlearn: 1891.3275843\ttotal: 844ms\tremaining: 2.23s\n",
      "20:\tlearn: 1794.4630878\ttotal: 1.59s\tremaining: 1.44s\n",
      "30:\tlearn: 1740.7020962\ttotal: 2.35s\tremaining: 682ms\n",
      "39:\tlearn: 1695.2847271\ttotal: 3.06s\tremaining: 0us\n",
      "Learning rate set to 0.5\n",
      "0:\tlearn: 3137.7899746\ttotal: 80ms\tremaining: 3.12s\n",
      "10:\tlearn: 1884.2320978\ttotal: 882ms\tremaining: 2.33s\n",
      "20:\tlearn: 1783.9677023\ttotal: 1.77s\tremaining: 1.6s\n",
      "30:\tlearn: 1726.0317566\ttotal: 2.71s\tremaining: 787ms\n",
      "39:\tlearn: 1681.6093300\ttotal: 3.45s\tremaining: 0us\n",
      "Learning rate set to 0.5\n",
      "0:\tlearn: 3149.8174657\ttotal: 106ms\tremaining: 4.24s\n",
      "10:\tlearn: 1891.3275843\ttotal: 913ms\tremaining: 2.49s\n",
      "20:\tlearn: 1794.4630878\ttotal: 2.11s\tremaining: 2.01s\n",
      "30:\tlearn: 1740.7020962\ttotal: 3.12s\tremaining: 1.01s\n",
      "40:\tlearn: 1690.3392770\ttotal: 3.91s\tremaining: 0us\n",
      "Learning rate set to 0.5\n",
      "0:\tlearn: 3137.7899746\ttotal: 85.4ms\tremaining: 3.42s\n",
      "10:\tlearn: 1884.2320978\ttotal: 886ms\tremaining: 2.42s\n",
      "20:\tlearn: 1783.9677023\ttotal: 1.65s\tremaining: 1.57s\n",
      "30:\tlearn: 1726.0317566\ttotal: 2.4s\tremaining: 775ms\n",
      "40:\tlearn: 1677.7854583\ttotal: 3.16s\tremaining: 0us\n",
      "Learning rate set to 0.5\n",
      "0:\tlearn: 3149.8174657\ttotal: 86.2ms\tremaining: 3.54s\n",
      "10:\tlearn: 1891.3275843\ttotal: 872ms\tremaining: 2.46s\n",
      "20:\tlearn: 1794.4630878\ttotal: 1.63s\tremaining: 1.63s\n",
      "30:\tlearn: 1740.7020962\ttotal: 2.41s\tremaining: 855ms\n",
      "40:\tlearn: 1690.3392770\ttotal: 3.18s\tremaining: 77.5ms\n",
      "41:\tlearn: 1684.7952682\ttotal: 3.25s\tremaining: 0us\n",
      "Learning rate set to 0.5\n",
      "0:\tlearn: 3137.7899746\ttotal: 84.9ms\tremaining: 3.48s\n",
      "10:\tlearn: 1884.2320978\ttotal: 1.01s\tremaining: 2.84s\n",
      "20:\tlearn: 1783.9677023\ttotal: 1.82s\tremaining: 1.82s\n",
      "30:\tlearn: 1726.0317566\ttotal: 2.6s\tremaining: 921ms\n",
      "40:\tlearn: 1677.7854583\ttotal: 3.36s\tremaining: 81.9ms\n",
      "41:\tlearn: 1673.8580351\ttotal: 3.43s\tremaining: 0us\n",
      "Learning rate set to 0.5\n",
      "0:\tlearn: 3149.8174657\ttotal: 85.4ms\tremaining: 3.58s\n",
      "10:\tlearn: 1891.3275843\ttotal: 880ms\tremaining: 2.56s\n",
      "20:\tlearn: 1794.4630878\ttotal: 1.64s\tremaining: 1.72s\n",
      "30:\tlearn: 1740.7020962\ttotal: 2.39s\tremaining: 925ms\n",
      "40:\tlearn: 1690.3392770\ttotal: 3.13s\tremaining: 153ms\n",
      "42:\tlearn: 1684.3708320\ttotal: 3.28s\tremaining: 0us\n",
      "Learning rate set to 0.5\n",
      "0:\tlearn: 3137.7899746\ttotal: 80.9ms\tremaining: 3.4s\n",
      "10:\tlearn: 1884.2320978\ttotal: 856ms\tremaining: 2.49s\n",
      "20:\tlearn: 1783.9677023\ttotal: 1.6s\tremaining: 1.68s\n",
      "30:\tlearn: 1726.0317566\ttotal: 2.38s\tremaining: 922ms\n",
      "40:\tlearn: 1677.7854583\ttotal: 3.18s\tremaining: 155ms\n",
      "42:\tlearn: 1669.7895917\ttotal: 3.35s\tremaining: 0us\n",
      "Learning rate set to 0.5\n",
      "0:\tlearn: 3149.8174657\ttotal: 87.3ms\tremaining: 3.75s\n",
      "10:\tlearn: 1891.3275843\ttotal: 855ms\tremaining: 2.56s\n",
      "20:\tlearn: 1794.4630878\ttotal: 1.61s\tremaining: 1.76s\n",
      "30:\tlearn: 1740.7020962\ttotal: 2.48s\tremaining: 1.04s\n",
      "40:\tlearn: 1690.3392770\ttotal: 3.25s\tremaining: 237ms\n",
      "43:\tlearn: 1680.2062391\ttotal: 3.47s\tremaining: 0us\n",
      "Learning rate set to 0.5\n",
      "0:\tlearn: 3137.7899746\ttotal: 78.6ms\tremaining: 3.38s\n",
      "10:\tlearn: 1884.2320978\ttotal: 858ms\tremaining: 2.57s\n",
      "20:\tlearn: 1783.9677023\ttotal: 1.61s\tremaining: 1.76s\n",
      "30:\tlearn: 1726.0317566\ttotal: 2.37s\tremaining: 992ms\n",
      "40:\tlearn: 1677.7854583\ttotal: 3.11s\tremaining: 228ms\n",
      "43:\tlearn: 1666.7251349\ttotal: 3.34s\tremaining: 0us\n",
      "Learning rate set to 0.5\n",
      "0:\tlearn: 3149.8174657\ttotal: 86.6ms\tremaining: 3.81s\n",
      "10:\tlearn: 1891.3275843\ttotal: 879ms\tremaining: 2.72s\n",
      "20:\tlearn: 1794.4630878\ttotal: 1.65s\tremaining: 1.89s\n",
      "30:\tlearn: 1740.7020962\ttotal: 2.4s\tremaining: 1.08s\n",
      "40:\tlearn: 1690.3392770\ttotal: 3.19s\tremaining: 311ms\n",
      "44:\tlearn: 1674.4131545\ttotal: 3.49s\tremaining: 0us\n",
      "Learning rate set to 0.5\n",
      "0:\tlearn: 3137.7899746\ttotal: 157ms\tremaining: 6.93s\n",
      "10:\tlearn: 1884.2320978\ttotal: 1.11s\tremaining: 3.42s\n",
      "20:\tlearn: 1783.9677023\ttotal: 2.05s\tremaining: 2.34s\n",
      "30:\tlearn: 1726.0317566\ttotal: 2.95s\tremaining: 1.33s\n",
      "40:\tlearn: 1677.7854583\ttotal: 3.7s\tremaining: 361ms\n",
      "44:\tlearn: 1662.3016096\ttotal: 4s\tremaining: 0us\n",
      "Learning rate set to 0.5\n",
      "0:\tlearn: 3149.8174657\ttotal: 86ms\tremaining: 3.87s\n",
      "10:\tlearn: 1891.3275843\ttotal: 852ms\tremaining: 2.71s\n",
      "20:\tlearn: 1794.4630878\ttotal: 1.62s\tremaining: 1.93s\n",
      "30:\tlearn: 1740.7020962\ttotal: 2.38s\tremaining: 1.15s\n",
      "40:\tlearn: 1690.3392770\ttotal: 3.13s\tremaining: 382ms\n",
      "45:\tlearn: 1669.2956898\ttotal: 3.5s\tremaining: 0us\n",
      "Learning rate set to 0.5\n",
      "0:\tlearn: 3137.7899746\ttotal: 80.1ms\tremaining: 3.61s\n",
      "10:\tlearn: 1884.2320978\ttotal: 845ms\tremaining: 2.69s\n",
      "20:\tlearn: 1783.9677023\ttotal: 1.6s\tremaining: 1.91s\n",
      "30:\tlearn: 1726.0317566\ttotal: 2.41s\tremaining: 1.16s\n",
      "40:\tlearn: 1677.7854583\ttotal: 3.25s\tremaining: 396ms\n",
      "45:\tlearn: 1659.7048969\ttotal: 3.88s\tremaining: 0us\n",
      "Learning rate set to 0.5\n",
      "0:\tlearn: 3149.8174657\ttotal: 92.9ms\tremaining: 4.27s\n",
      "10:\tlearn: 1891.3275843\ttotal: 1.34s\tremaining: 4.39s\n",
      "20:\tlearn: 1794.4630878\ttotal: 2.23s\tremaining: 2.77s\n",
      "30:\tlearn: 1740.7020962\ttotal: 3.01s\tremaining: 1.55s\n",
      "40:\tlearn: 1690.3392770\ttotal: 3.77s\tremaining: 552ms\n",
      "46:\tlearn: 1667.5410263\ttotal: 4.23s\tremaining: 0us\n",
      "Learning rate set to 0.5\n",
      "0:\tlearn: 3137.7899746\ttotal: 80ms\tremaining: 3.68s\n",
      "10:\tlearn: 1884.2320978\ttotal: 854ms\tremaining: 2.8s\n",
      "20:\tlearn: 1783.9677023\ttotal: 1.6s\tremaining: 1.98s\n",
      "30:\tlearn: 1726.0317566\ttotal: 2.36s\tremaining: 1.22s\n",
      "40:\tlearn: 1677.7854583\ttotal: 3.13s\tremaining: 458ms\n",
      "46:\tlearn: 1655.8074387\ttotal: 3.61s\tremaining: 0us\n",
      "Learning rate set to 0.5\n",
      "0:\tlearn: 3149.8174657\ttotal: 86.6ms\tremaining: 4.07s\n",
      "10:\tlearn: 1891.3275843\ttotal: 863ms\tremaining: 2.9s\n",
      "20:\tlearn: 1794.4630878\ttotal: 1.63s\tremaining: 2.09s\n",
      "30:\tlearn: 1740.7020962\ttotal: 2.38s\tremaining: 1.3s\n",
      "40:\tlearn: 1690.3392770\ttotal: 3.23s\tremaining: 552ms\n",
      "47:\tlearn: 1664.3268780\ttotal: 3.77s\tremaining: 0us\n",
      "Learning rate set to 0.5\n",
      "0:\tlearn: 3137.7899746\ttotal: 80.6ms\tremaining: 3.79s\n",
      "10:\tlearn: 1884.2320978\ttotal: 848ms\tremaining: 2.85s\n",
      "20:\tlearn: 1783.9677023\ttotal: 1.59s\tremaining: 2.05s\n",
      "30:\tlearn: 1726.0317566\ttotal: 2.34s\tremaining: 1.28s\n",
      "40:\tlearn: 1677.7854583\ttotal: 3.09s\tremaining: 528ms\n",
      "47:\tlearn: 1653.2816897\ttotal: 3.61s\tremaining: 0us\n",
      "Learning rate set to 0.5\n",
      "0:\tlearn: 3149.8174657\ttotal: 86.3ms\tremaining: 4.14s\n",
      "10:\tlearn: 1891.3275843\ttotal: 843ms\tremaining: 2.91s\n",
      "20:\tlearn: 1794.4630878\ttotal: 1.58s\tremaining: 2.11s\n",
      "30:\tlearn: 1740.7020962\ttotal: 2.33s\tremaining: 1.35s\n",
      "40:\tlearn: 1690.3392770\ttotal: 3.08s\tremaining: 602ms\n",
      "48:\tlearn: 1663.5063845\ttotal: 3.68s\tremaining: 0us\n",
      "Learning rate set to 0.5\n",
      "0:\tlearn: 3137.7899746\ttotal: 80.3ms\tremaining: 3.85s\n",
      "10:\tlearn: 1884.2320978\ttotal: 843ms\tremaining: 2.91s\n",
      "20:\tlearn: 1783.9677023\ttotal: 1.58s\tremaining: 2.11s\n",
      "30:\tlearn: 1726.0317566\ttotal: 2.31s\tremaining: 1.34s\n",
      "40:\tlearn: 1677.7854583\ttotal: 3.08s\tremaining: 602ms\n",
      "48:\tlearn: 1649.5133436\ttotal: 3.67s\tremaining: 0us\n",
      "Learning rate set to 0.5\n",
      "0:\tlearn: 3149.8174657\ttotal: 84.6ms\tremaining: 4.15s\n",
      "10:\tlearn: 1891.3275843\ttotal: 853ms\tremaining: 3.02s\n",
      "20:\tlearn: 1794.4630878\ttotal: 1.59s\tremaining: 2.2s\n",
      "30:\tlearn: 1740.7020962\ttotal: 2.34s\tremaining: 1.43s\n",
      "40:\tlearn: 1690.3392770\ttotal: 3.07s\tremaining: 674ms\n",
      "49:\tlearn: 1660.4283319\ttotal: 3.74s\tremaining: 0us\n",
      "Learning rate set to 0.5\n",
      "0:\tlearn: 3137.7899746\ttotal: 79.7ms\tremaining: 3.91s\n",
      "10:\tlearn: 1884.2320978\ttotal: 834ms\tremaining: 2.96s\n",
      "20:\tlearn: 1783.9677023\ttotal: 1.57s\tremaining: 2.17s\n",
      "30:\tlearn: 1726.0317566\ttotal: 2.31s\tremaining: 1.41s\n",
      "40:\tlearn: 1677.7854583\ttotal: 3.04s\tremaining: 668ms\n",
      "49:\tlearn: 1647.8744280\ttotal: 3.71s\tremaining: 0us\n",
      "Learning rate set to 0.5\n",
      "0:\tlearn: 3149.8174657\ttotal: 86.1ms\tremaining: 4.31s\n",
      "10:\tlearn: 1891.3275843\ttotal: 863ms\tremaining: 3.14s\n",
      "20:\tlearn: 1794.4630878\ttotal: 1.61s\tremaining: 2.3s\n",
      "30:\tlearn: 1740.7020962\ttotal: 2.37s\tremaining: 1.53s\n",
      "40:\tlearn: 1690.3392770\ttotal: 3.12s\tremaining: 760ms\n",
      "50:\tlearn: 1657.8879759\ttotal: 3.86s\tremaining: 0us\n",
      "Learning rate set to 0.5\n",
      "0:\tlearn: 3137.7899746\ttotal: 81.4ms\tremaining: 4.07s\n",
      "10:\tlearn: 1884.2320978\ttotal: 842ms\tremaining: 3.06s\n",
      "20:\tlearn: 1783.9677023\ttotal: 1.58s\tremaining: 2.27s\n",
      "30:\tlearn: 1726.0317566\ttotal: 2.37s\tremaining: 1.53s\n",
      "40:\tlearn: 1677.7854583\ttotal: 3.15s\tremaining: 768ms\n",
      "50:\tlearn: 1644.8097744\ttotal: 3.93s\tremaining: 0us\n",
      "Learning rate set to 0.5\n",
      "0:\tlearn: 3149.8174657\ttotal: 90.5ms\tremaining: 4.62s\n",
      "10:\tlearn: 1891.3275843\ttotal: 893ms\tremaining: 3.33s\n",
      "20:\tlearn: 1794.4630878\ttotal: 1.67s\tremaining: 2.47s\n",
      "30:\tlearn: 1740.7020962\ttotal: 2.48s\tremaining: 1.68s\n",
      "40:\tlearn: 1690.3392770\ttotal: 3.23s\tremaining: 866ms\n",
      "50:\tlearn: 1657.8879759\ttotal: 3.97s\tremaining: 77.9ms\n",
      "51:\tlearn: 1656.3216362\ttotal: 4.05s\tremaining: 0us\n",
      "Learning rate set to 0.5\n",
      "0:\tlearn: 3137.7899746\ttotal: 78.7ms\tremaining: 4.01s\n",
      "10:\tlearn: 1884.2320978\ttotal: 833ms\tremaining: 3.1s\n",
      "20:\tlearn: 1783.9677023\ttotal: 1.57s\tremaining: 2.31s\n",
      "30:\tlearn: 1726.0317566\ttotal: 2.31s\tremaining: 1.56s\n",
      "40:\tlearn: 1677.7854583\ttotal: 3.04s\tremaining: 815ms\n",
      "50:\tlearn: 1644.8097744\ttotal: 3.78s\tremaining: 74.1ms\n",
      "51:\tlearn: 1642.7816535\ttotal: 3.85s\tremaining: 0us\n",
      "Learning rate set to 0.5\n",
      "0:\tlearn: 3149.8174657\ttotal: 86.6ms\tremaining: 4.5s\n",
      "10:\tlearn: 1891.3275843\ttotal: 854ms\tremaining: 3.26s\n",
      "20:\tlearn: 1794.4630878\ttotal: 1.63s\tremaining: 2.48s\n",
      "30:\tlearn: 1740.7020962\ttotal: 2.39s\tremaining: 1.7s\n",
      "40:\tlearn: 1690.3392770\ttotal: 3.16s\tremaining: 924ms\n",
      "50:\tlearn: 1657.8879759\ttotal: 3.91s\tremaining: 153ms\n",
      "52:\tlearn: 1650.2248003\ttotal: 4.06s\tremaining: 0us\n",
      "Learning rate set to 0.5\n",
      "0:\tlearn: 3137.7899746\ttotal: 79.5ms\tremaining: 4.13s\n",
      "10:\tlearn: 1884.2320978\ttotal: 838ms\tremaining: 3.2s\n",
      "20:\tlearn: 1783.9677023\ttotal: 1.6s\tremaining: 2.43s\n",
      "30:\tlearn: 1726.0317566\ttotal: 2.34s\tremaining: 1.66s\n",
      "40:\tlearn: 1677.7854583\ttotal: 3.09s\tremaining: 903ms\n",
      "50:\tlearn: 1644.8097744\ttotal: 3.84s\tremaining: 151ms\n",
      "52:\tlearn: 1638.5651255\ttotal: 4s\tremaining: 0us\n",
      "Learning rate set to 0.5\n",
      "0:\tlearn: 3149.8174657\ttotal: 91ms\tremaining: 4.82s\n",
      "10:\tlearn: 1891.3275843\ttotal: 886ms\tremaining: 3.46s\n",
      "20:\tlearn: 1794.4630878\ttotal: 1.64s\tremaining: 2.57s\n",
      "30:\tlearn: 1740.7020962\ttotal: 2.39s\tremaining: 1.77s\n",
      "40:\tlearn: 1690.3392770\ttotal: 3.15s\tremaining: 1000ms\n",
      "50:\tlearn: 1657.8879759\ttotal: 3.9s\tremaining: 229ms\n",
      "53:\tlearn: 1646.9859262\ttotal: 4.12s\tremaining: 0us\n",
      "Learning rate set to 0.5\n",
      "0:\tlearn: 3137.7899746\ttotal: 78.8ms\tremaining: 4.18s\n",
      "10:\tlearn: 1884.2320978\ttotal: 854ms\tremaining: 3.34s\n",
      "20:\tlearn: 1783.9677023\ttotal: 1.59s\tremaining: 2.5s\n",
      "30:\tlearn: 1726.0317566\ttotal: 2.33s\tremaining: 1.73s\n",
      "40:\tlearn: 1677.7854583\ttotal: 3.07s\tremaining: 973ms\n",
      "50:\tlearn: 1644.8097744\ttotal: 3.83s\tremaining: 225ms\n",
      "53:\tlearn: 1635.1035010\ttotal: 4.05s\tremaining: 0us\n",
      "Learning rate set to 0.5\n",
      "0:\tlearn: 3149.8174657\ttotal: 85.4ms\tremaining: 4.61s\n",
      "10:\tlearn: 1891.3275843\ttotal: 913ms\tremaining: 3.65s\n",
      "20:\tlearn: 1794.4630878\ttotal: 1.66s\tremaining: 2.69s\n",
      "30:\tlearn: 1740.7020962\ttotal: 2.41s\tremaining: 1.87s\n",
      "40:\tlearn: 1690.3392770\ttotal: 3.34s\tremaining: 1.14s\n",
      "50:\tlearn: 1657.8879759\ttotal: 4.08s\tremaining: 320ms\n",
      "54:\tlearn: 1641.9286796\ttotal: 4.38s\tremaining: 0us\n",
      "Learning rate set to 0.5\n",
      "0:\tlearn: 3137.7899746\ttotal: 81ms\tremaining: 4.37s\n",
      "10:\tlearn: 1884.2320978\ttotal: 870ms\tremaining: 3.48s\n",
      "20:\tlearn: 1783.9677023\ttotal: 1.62s\tremaining: 2.63s\n",
      "30:\tlearn: 1726.0317566\ttotal: 2.37s\tremaining: 1.83s\n",
      "40:\tlearn: 1677.7854583\ttotal: 3.1s\tremaining: 1.06s\n",
      "50:\tlearn: 1644.8097744\ttotal: 3.85s\tremaining: 302ms\n",
      "54:\tlearn: 1631.1677761\ttotal: 4.16s\tremaining: 0us\n",
      "Learning rate set to 0.5\n",
      "0:\tlearn: 3149.8174657\ttotal: 82.9ms\tremaining: 4.56s\n",
      "10:\tlearn: 1891.3275843\ttotal: 840ms\tremaining: 3.43s\n",
      "20:\tlearn: 1794.4630878\ttotal: 1.59s\tremaining: 2.65s\n",
      "30:\tlearn: 1740.7020962\ttotal: 2.34s\tremaining: 1.88s\n",
      "40:\tlearn: 1690.3392770\ttotal: 3.09s\tremaining: 1.13s\n",
      "50:\tlearn: 1657.8879759\ttotal: 3.85s\tremaining: 377ms\n",
      "55:\tlearn: 1637.5694407\ttotal: 4.22s\tremaining: 0us\n",
      "Learning rate set to 0.5\n",
      "0:\tlearn: 3137.7899746\ttotal: 80ms\tremaining: 4.4s\n",
      "10:\tlearn: 1884.2320978\ttotal: 839ms\tremaining: 3.43s\n",
      "20:\tlearn: 1783.9677023\ttotal: 1.58s\tremaining: 2.64s\n",
      "30:\tlearn: 1726.0317566\ttotal: 2.33s\tremaining: 1.88s\n",
      "40:\tlearn: 1677.7854583\ttotal: 3.07s\tremaining: 1.12s\n",
      "50:\tlearn: 1644.8097744\ttotal: 3.81s\tremaining: 374ms\n",
      "55:\tlearn: 1626.8522843\ttotal: 4.19s\tremaining: 0us\n",
      "Learning rate set to 0.5\n",
      "0:\tlearn: 3149.8174657\ttotal: 84.1ms\tremaining: 4.71s\n",
      "10:\tlearn: 1891.3275843\ttotal: 853ms\tremaining: 3.57s\n",
      "20:\tlearn: 1794.4630878\ttotal: 1.62s\tremaining: 2.77s\n",
      "30:\tlearn: 1740.7020962\ttotal: 2.36s\tremaining: 1.98s\n",
      "40:\tlearn: 1690.3392770\ttotal: 3.12s\tremaining: 1.22s\n",
      "50:\tlearn: 1657.8879759\ttotal: 3.87s\tremaining: 455ms\n",
      "56:\tlearn: 1632.6036398\ttotal: 4.32s\tremaining: 0us\n",
      "Learning rate set to 0.5\n",
      "0:\tlearn: 3137.7899746\ttotal: 86.3ms\tremaining: 4.83s\n",
      "10:\tlearn: 1884.2320978\ttotal: 882ms\tremaining: 3.69s\n",
      "20:\tlearn: 1783.9677023\ttotal: 1.63s\tremaining: 2.79s\n",
      "30:\tlearn: 1726.0317566\ttotal: 2.38s\tremaining: 2s\n",
      "40:\tlearn: 1677.7854583\ttotal: 3.12s\tremaining: 1.22s\n",
      "50:\tlearn: 1644.8097744\ttotal: 3.86s\tremaining: 454ms\n",
      "56:\tlearn: 1625.3101187\ttotal: 4.3s\tremaining: 0us\n",
      "Learning rate set to 0.5\n",
      "0:\tlearn: 3149.8174657\ttotal: 93.3ms\tremaining: 5.32s\n",
      "10:\tlearn: 1891.3275843\ttotal: 867ms\tremaining: 3.7s\n",
      "20:\tlearn: 1794.4630878\ttotal: 1.62s\tremaining: 2.85s\n",
      "30:\tlearn: 1740.7020962\ttotal: 2.41s\tremaining: 2.1s\n",
      "40:\tlearn: 1690.3392770\ttotal: 3.2s\tremaining: 1.33s\n",
      "50:\tlearn: 1657.8879759\ttotal: 4.11s\tremaining: 565ms\n",
      "57:\tlearn: 1630.0363933\ttotal: 4.67s\tremaining: 0us\n",
      "Learning rate set to 0.5\n",
      "0:\tlearn: 3137.7899746\ttotal: 78.1ms\tremaining: 4.45s\n",
      "10:\tlearn: 1884.2320978\ttotal: 853ms\tremaining: 3.65s\n",
      "20:\tlearn: 1783.9677023\ttotal: 1.66s\tremaining: 2.92s\n",
      "30:\tlearn: 1726.0317566\ttotal: 2.48s\tremaining: 2.16s\n",
      "40:\tlearn: 1677.7854583\ttotal: 3.28s\tremaining: 1.36s\n",
      "50:\tlearn: 1644.8097744\ttotal: 4.1s\tremaining: 562ms\n",
      "57:\tlearn: 1623.6126658\ttotal: 4.65s\tremaining: 0us\n",
      "Learning rate set to 0.5\n",
      "0:\tlearn: 3149.8174657\ttotal: 86.2ms\tremaining: 5s\n",
      "10:\tlearn: 1891.3275843\ttotal: 868ms\tremaining: 3.79s\n",
      "20:\tlearn: 1794.4630878\ttotal: 1.64s\tremaining: 2.96s\n",
      "30:\tlearn: 1740.7020962\ttotal: 2.43s\tremaining: 2.2s\n",
      "40:\tlearn: 1690.3392770\ttotal: 3.22s\tremaining: 1.41s\n",
      "50:\tlearn: 1657.8879759\ttotal: 3.99s\tremaining: 626ms\n",
      "58:\tlearn: 1626.7542360\ttotal: 4.61s\tremaining: 0us\n",
      "Learning rate set to 0.5\n",
      "0:\tlearn: 3137.7899746\ttotal: 85.8ms\tremaining: 4.98s\n",
      "10:\tlearn: 1884.2320978\ttotal: 889ms\tremaining: 3.88s\n",
      "20:\tlearn: 1783.9677023\ttotal: 1.64s\tremaining: 2.96s\n",
      "30:\tlearn: 1726.0317566\ttotal: 2.37s\tremaining: 2.14s\n",
      "40:\tlearn: 1677.7854583\ttotal: 3.1s\tremaining: 1.36s\n",
      "50:\tlearn: 1644.8097744\ttotal: 3.84s\tremaining: 602ms\n",
      "58:\tlearn: 1621.2371748\ttotal: 4.42s\tremaining: 0us\n",
      "Learning rate set to 0.5\n",
      "0:\tlearn: 3149.8174657\ttotal: 83.4ms\tremaining: 4.92s\n",
      "10:\tlearn: 1891.3275843\ttotal: 841ms\tremaining: 3.75s\n",
      "20:\tlearn: 1794.4630878\ttotal: 1.58s\tremaining: 2.94s\n",
      "30:\tlearn: 1740.7020962\ttotal: 2.31s\tremaining: 2.16s\n",
      "40:\tlearn: 1690.3392770\ttotal: 3.06s\tremaining: 1.42s\n",
      "50:\tlearn: 1657.8879759\ttotal: 3.79s\tremaining: 670ms\n",
      "59:\tlearn: 1623.8435451\ttotal: 4.47s\tremaining: 0us\n",
      "Learning rate set to 0.5\n",
      "0:\tlearn: 3137.7899746\ttotal: 81.2ms\tremaining: 4.79s\n",
      "10:\tlearn: 1884.2320978\ttotal: 840ms\tremaining: 3.74s\n",
      "20:\tlearn: 1783.9677023\ttotal: 1.56s\tremaining: 2.9s\n",
      "30:\tlearn: 1726.0317566\ttotal: 2.31s\tremaining: 2.16s\n",
      "40:\tlearn: 1677.7854583\ttotal: 3.04s\tremaining: 1.41s\n",
      "50:\tlearn: 1644.8097744\ttotal: 3.77s\tremaining: 665ms\n",
      "59:\tlearn: 1618.8741295\ttotal: 4.45s\tremaining: 0us\n",
      "Learning rate set to 0.5\n",
      "0:\tlearn: 3149.8174657\ttotal: 84.3ms\tremaining: 5.06s\n",
      "10:\tlearn: 1891.3275843\ttotal: 829ms\tremaining: 3.77s\n",
      "20:\tlearn: 1794.4630878\ttotal: 1.56s\tremaining: 2.97s\n",
      "30:\tlearn: 1740.7020962\ttotal: 2.33s\tremaining: 2.25s\n",
      "40:\tlearn: 1690.3392770\ttotal: 3.07s\tremaining: 1.5s\n",
      "50:\tlearn: 1657.8879759\ttotal: 3.8s\tremaining: 745ms\n",
      "60:\tlearn: 1620.4658473\ttotal: 4.53s\tremaining: 0us\n",
      "Learning rate set to 0.5\n",
      "0:\tlearn: 3137.7899746\ttotal: 76.7ms\tremaining: 4.6s\n",
      "10:\tlearn: 1884.2320978\ttotal: 851ms\tremaining: 3.87s\n",
      "20:\tlearn: 1783.9677023\ttotal: 1.64s\tremaining: 3.13s\n",
      "30:\tlearn: 1726.0317566\ttotal: 2.41s\tremaining: 2.33s\n",
      "40:\tlearn: 1677.7854583\ttotal: 3.15s\tremaining: 1.53s\n",
      "50:\tlearn: 1644.8097744\ttotal: 3.87s\tremaining: 760ms\n",
      "60:\tlearn: 1617.5245684\ttotal: 4.6s\tremaining: 0us\n",
      "Learning rate set to 0.5\n",
      "0:\tlearn: 3149.8174657\ttotal: 82.2ms\tremaining: 5.02s\n",
      "10:\tlearn: 1891.3275843\ttotal: 838ms\tremaining: 3.88s\n",
      "20:\tlearn: 1794.4630878\ttotal: 1.58s\tremaining: 3.09s\n",
      "30:\tlearn: 1740.7020962\ttotal: 2.33s\tremaining: 2.33s\n",
      "40:\tlearn: 1690.3392770\ttotal: 3.08s\tremaining: 1.58s\n",
      "50:\tlearn: 1657.8879759\ttotal: 3.82s\tremaining: 824ms\n",
      "60:\tlearn: 1620.4658473\ttotal: 4.55s\tremaining: 74.6ms\n",
      "61:\tlearn: 1618.0861734\ttotal: 4.63s\tremaining: 0us\n",
      "Learning rate set to 0.5\n",
      "0:\tlearn: 3137.7899746\ttotal: 80.8ms\tremaining: 4.93s\n",
      "10:\tlearn: 1884.2320978\ttotal: 845ms\tremaining: 3.92s\n",
      "20:\tlearn: 1783.9677023\ttotal: 1.59s\tremaining: 3.12s\n",
      "30:\tlearn: 1726.0317566\ttotal: 2.33s\tremaining: 2.33s\n",
      "40:\tlearn: 1677.7854583\ttotal: 3.11s\tremaining: 1.59s\n",
      "50:\tlearn: 1644.8097744\ttotal: 3.9s\tremaining: 842ms\n",
      "60:\tlearn: 1617.5245684\ttotal: 4.7s\tremaining: 77ms\n",
      "61:\tlearn: 1613.0626196\ttotal: 4.78s\tremaining: 0us\n",
      "Learning rate set to 0.5\n",
      "0:\tlearn: 3149.8174657\ttotal: 86.9ms\tremaining: 5.39s\n",
      "10:\tlearn: 1891.3275843\ttotal: 875ms\tremaining: 4.14s\n",
      "20:\tlearn: 1794.4630878\ttotal: 1.68s\tremaining: 3.36s\n",
      "30:\tlearn: 1740.7020962\ttotal: 2.49s\tremaining: 2.57s\n",
      "40:\tlearn: 1690.3392770\ttotal: 3.27s\tremaining: 1.76s\n",
      "50:\tlearn: 1657.8879759\ttotal: 4.01s\tremaining: 944ms\n",
      "60:\tlearn: 1620.4658473\ttotal: 4.76s\tremaining: 156ms\n",
      "62:\tlearn: 1617.8171511\ttotal: 4.91s\tremaining: 0us\n",
      "Learning rate set to 0.5\n",
      "0:\tlearn: 3137.7899746\ttotal: 77.4ms\tremaining: 4.8s\n",
      "10:\tlearn: 1884.2320978\ttotal: 837ms\tremaining: 3.96s\n",
      "20:\tlearn: 1783.9677023\ttotal: 1.59s\tremaining: 3.18s\n",
      "30:\tlearn: 1726.0317566\ttotal: 2.33s\tremaining: 2.41s\n",
      "40:\tlearn: 1677.7854583\ttotal: 3.08s\tremaining: 1.65s\n",
      "50:\tlearn: 1644.8097744\ttotal: 3.84s\tremaining: 903ms\n",
      "60:\tlearn: 1617.5245684\ttotal: 4.63s\tremaining: 152ms\n",
      "62:\tlearn: 1610.4282239\ttotal: 4.88s\tremaining: 0us\n",
      "Learning rate set to 0.5\n",
      "0:\tlearn: 3149.8174657\ttotal: 86.9ms\tremaining: 5.47s\n",
      "10:\tlearn: 1891.3275843\ttotal: 855ms\tremaining: 4.12s\n",
      "20:\tlearn: 1794.4630878\ttotal: 1.6s\tremaining: 3.28s\n",
      "30:\tlearn: 1740.7020962\ttotal: 2.35s\tremaining: 2.5s\n",
      "40:\tlearn: 1690.3392770\ttotal: 3.1s\tremaining: 1.74s\n",
      "50:\tlearn: 1657.8879759\ttotal: 3.83s\tremaining: 976ms\n",
      "60:\tlearn: 1620.4658473\ttotal: 4.56s\tremaining: 224ms\n",
      "63:\tlearn: 1615.5780059\ttotal: 4.78s\tremaining: 0us\n",
      "Learning rate set to 0.5\n",
      "0:\tlearn: 3137.7899746\ttotal: 78.5ms\tremaining: 4.95s\n",
      "10:\tlearn: 1884.2320978\ttotal: 845ms\tremaining: 4.07s\n",
      "20:\tlearn: 1783.9677023\ttotal: 1.62s\tremaining: 3.32s\n",
      "30:\tlearn: 1726.0317566\ttotal: 2.43s\tremaining: 2.59s\n",
      "40:\tlearn: 1677.7854583\ttotal: 3.39s\tremaining: 1.9s\n",
      "50:\tlearn: 1644.8097744\ttotal: 4.15s\tremaining: 1.06s\n",
      "60:\tlearn: 1617.5245684\ttotal: 4.92s\tremaining: 242ms\n",
      "63:\tlearn: 1608.2456074\ttotal: 5.14s\tremaining: 0us\n",
      "Learning rate set to 0.5\n",
      "0:\tlearn: 3149.8174657\ttotal: 88.5ms\tremaining: 5.66s\n",
      "10:\tlearn: 1891.3275843\ttotal: 880ms\tremaining: 4.32s\n",
      "20:\tlearn: 1794.4630878\ttotal: 1.64s\tremaining: 3.44s\n",
      "30:\tlearn: 1740.7020962\ttotal: 2.41s\tremaining: 2.64s\n",
      "40:\tlearn: 1690.3392770\ttotal: 3.16s\tremaining: 1.85s\n",
      "50:\tlearn: 1657.8879759\ttotal: 3.92s\tremaining: 1.07s\n",
      "60:\tlearn: 1620.4658473\ttotal: 4.69s\tremaining: 308ms\n",
      "64:\tlearn: 1611.9475546\ttotal: 5.01s\tremaining: 0us\n",
      "Learning rate set to 0.5\n",
      "0:\tlearn: 3137.7899746\ttotal: 84.2ms\tremaining: 5.39s\n",
      "10:\tlearn: 1884.2320978\ttotal: 975ms\tremaining: 4.79s\n",
      "20:\tlearn: 1783.9677023\ttotal: 1.74s\tremaining: 3.64s\n",
      "30:\tlearn: 1726.0317566\ttotal: 2.49s\tremaining: 2.73s\n",
      "40:\tlearn: 1677.7854583\ttotal: 3.23s\tremaining: 1.89s\n",
      "50:\tlearn: 1644.8097744\ttotal: 3.99s\tremaining: 1.1s\n",
      "60:\tlearn: 1617.5245684\ttotal: 4.74s\tremaining: 311ms\n",
      "64:\tlearn: 1605.7138942\ttotal: 5.05s\tremaining: 0us\n",
      "Learning rate set to 0.5\n",
      "0:\tlearn: 3149.8174657\ttotal: 86.7ms\tremaining: 5.64s\n",
      "10:\tlearn: 1891.3275843\ttotal: 842ms\tremaining: 4.21s\n",
      "20:\tlearn: 1794.4630878\ttotal: 1.58s\tremaining: 3.38s\n",
      "30:\tlearn: 1740.7020962\ttotal: 2.33s\tremaining: 2.63s\n",
      "40:\tlearn: 1690.3392770\ttotal: 3.08s\tremaining: 1.88s\n",
      "50:\tlearn: 1657.8879759\ttotal: 3.85s\tremaining: 1.13s\n",
      "60:\tlearn: 1620.4658473\ttotal: 4.61s\tremaining: 378ms\n",
      "65:\tlearn: 1608.2657679\ttotal: 4.99s\tremaining: 0us\n",
      "Learning rate set to 0.5\n",
      "0:\tlearn: 3137.7899746\ttotal: 78.6ms\tremaining: 5.11s\n",
      "10:\tlearn: 1884.2320978\ttotal: 854ms\tremaining: 4.27s\n",
      "20:\tlearn: 1783.9677023\ttotal: 1.6s\tremaining: 3.44s\n",
      "30:\tlearn: 1726.0317566\ttotal: 2.38s\tremaining: 2.69s\n",
      "40:\tlearn: 1677.7854583\ttotal: 3.12s\tremaining: 1.9s\n",
      "50:\tlearn: 1644.8097744\ttotal: 3.87s\tremaining: 1.14s\n",
      "60:\tlearn: 1617.5245684\ttotal: 4.61s\tremaining: 378ms\n",
      "65:\tlearn: 1602.3524136\ttotal: 4.98s\tremaining: 0us\n",
      "Learning rate set to 0.5\n",
      "0:\tlearn: 3149.8174657\ttotal: 84.8ms\tremaining: 5.6s\n",
      "10:\tlearn: 1891.3275843\ttotal: 858ms\tremaining: 4.37s\n",
      "20:\tlearn: 1794.4630878\ttotal: 1.62s\tremaining: 3.55s\n",
      "30:\tlearn: 1740.7020962\ttotal: 2.4s\tremaining: 2.79s\n",
      "40:\tlearn: 1690.3392770\ttotal: 3.18s\tremaining: 2.02s\n",
      "50:\tlearn: 1657.8879759\ttotal: 3.94s\tremaining: 1.24s\n",
      "60:\tlearn: 1620.4658473\ttotal: 4.69s\tremaining: 462ms\n",
      "66:\tlearn: 1604.5375476\ttotal: 5.14s\tremaining: 0us\n",
      "Learning rate set to 0.5\n",
      "0:\tlearn: 3137.7899746\ttotal: 79.9ms\tremaining: 5.27s\n",
      "10:\tlearn: 1884.2320978\ttotal: 874ms\tremaining: 4.45s\n",
      "20:\tlearn: 1783.9677023\ttotal: 1.64s\tremaining: 3.59s\n",
      "30:\tlearn: 1726.0317566\ttotal: 2.48s\tremaining: 2.88s\n",
      "40:\tlearn: 1677.7854583\ttotal: 3.37s\tremaining: 2.13s\n",
      "50:\tlearn: 1644.8097744\ttotal: 4.18s\tremaining: 1.31s\n",
      "60:\tlearn: 1617.5245684\ttotal: 4.99s\tremaining: 490ms\n",
      "66:\tlearn: 1599.9020496\ttotal: 5.44s\tremaining: 0us\n",
      "Learning rate set to 0.5\n",
      "0:\tlearn: 3149.8174657\ttotal: 86.2ms\tremaining: 5.77s\n",
      "10:\tlearn: 1891.3275843\ttotal: 861ms\tremaining: 4.46s\n",
      "20:\tlearn: 1794.4630878\ttotal: 1.65s\tremaining: 3.7s\n",
      "30:\tlearn: 1740.7020962\ttotal: 2.44s\tremaining: 2.91s\n",
      "40:\tlearn: 1690.3392770\ttotal: 3.22s\tremaining: 2.12s\n",
      "50:\tlearn: 1657.8879759\ttotal: 3.99s\tremaining: 1.33s\n",
      "60:\tlearn: 1620.4658473\ttotal: 4.75s\tremaining: 545ms\n",
      "67:\tlearn: 1601.4172184\ttotal: 5.27s\tremaining: 0us\n",
      "Learning rate set to 0.5\n",
      "0:\tlearn: 3137.7899746\ttotal: 82.7ms\tremaining: 5.54s\n",
      "10:\tlearn: 1884.2320978\ttotal: 881ms\tremaining: 4.57s\n",
      "20:\tlearn: 1783.9677023\ttotal: 1.65s\tremaining: 3.7s\n",
      "30:\tlearn: 1726.0317566\ttotal: 2.44s\tremaining: 2.91s\n",
      "40:\tlearn: 1677.7854583\ttotal: 3.23s\tremaining: 2.13s\n",
      "50:\tlearn: 1644.8097744\ttotal: 3.99s\tremaining: 1.33s\n",
      "60:\tlearn: 1617.5245684\ttotal: 4.77s\tremaining: 548ms\n",
      "67:\tlearn: 1595.6383801\ttotal: 5.3s\tremaining: 0us\n",
      "Learning rate set to 0.5\n",
      "0:\tlearn: 3149.8174657\ttotal: 93.7ms\tremaining: 6.37s\n",
      "10:\tlearn: 1891.3275843\ttotal: 907ms\tremaining: 4.78s\n",
      "20:\tlearn: 1794.4630878\ttotal: 1.65s\tremaining: 3.77s\n",
      "30:\tlearn: 1740.7020962\ttotal: 2.39s\tremaining: 2.93s\n",
      "40:\tlearn: 1690.3392770\ttotal: 3.17s\tremaining: 2.16s\n",
      "50:\tlearn: 1657.8879759\ttotal: 3.93s\tremaining: 1.39s\n",
      "60:\tlearn: 1620.4658473\ttotal: 4.68s\tremaining: 614ms\n",
      "68:\tlearn: 1598.9189021\ttotal: 5.28s\tremaining: 0us\n",
      "Learning rate set to 0.5\n",
      "0:\tlearn: 3137.7899746\ttotal: 106ms\tremaining: 7.17s\n",
      "10:\tlearn: 1884.2320978\ttotal: 942ms\tremaining: 4.97s\n",
      "20:\tlearn: 1783.9677023\ttotal: 2.18s\tremaining: 4.97s\n",
      "30:\tlearn: 1726.0317566\ttotal: 3.27s\tremaining: 4.01s\n",
      "40:\tlearn: 1677.7854583\ttotal: 4.2s\tremaining: 2.87s\n",
      "50:\tlearn: 1644.8097744\ttotal: 4.96s\tremaining: 1.75s\n",
      "60:\tlearn: 1617.5245684\ttotal: 5.7s\tremaining: 747ms\n",
      "68:\tlearn: 1591.4542259\ttotal: 6.29s\tremaining: 0us\n",
      "Learning rate set to 0.5\n",
      "0:\tlearn: 3149.8174657\ttotal: 86.7ms\tremaining: 5.98s\n",
      "10:\tlearn: 1891.3275843\ttotal: 856ms\tremaining: 4.59s\n",
      "20:\tlearn: 1794.4630878\ttotal: 1.6s\tremaining: 3.74s\n",
      "30:\tlearn: 1740.7020962\ttotal: 2.37s\tremaining: 2.98s\n",
      "40:\tlearn: 1690.3392770\ttotal: 3.12s\tremaining: 2.21s\n",
      "50:\tlearn: 1657.8879759\ttotal: 3.87s\tremaining: 1.44s\n",
      "60:\tlearn: 1620.4658473\ttotal: 4.61s\tremaining: 681ms\n",
      "69:\tlearn: 1595.9999213\ttotal: 5.29s\tremaining: 0us\n",
      "Learning rate set to 0.5\n",
      "0:\tlearn: 3137.7899746\ttotal: 80.3ms\tremaining: 5.54s\n",
      "10:\tlearn: 1884.2320978\ttotal: 848ms\tremaining: 4.55s\n",
      "20:\tlearn: 1783.9677023\ttotal: 1.6s\tremaining: 3.73s\n",
      "30:\tlearn: 1726.0317566\ttotal: 2.36s\tremaining: 2.97s\n",
      "40:\tlearn: 1677.7854583\ttotal: 3.11s\tremaining: 2.2s\n",
      "50:\tlearn: 1644.8097744\ttotal: 3.86s\tremaining: 1.44s\n",
      "60:\tlearn: 1617.5245684\ttotal: 4.62s\tremaining: 681ms\n",
      "69:\tlearn: 1588.6393897\ttotal: 5.29s\tremaining: 0us\n",
      "Learning rate set to 0.5\n",
      "0:\tlearn: 3149.8174657\ttotal: 88.2ms\tremaining: 6.17s\n",
      "10:\tlearn: 1891.3275843\ttotal: 902ms\tremaining: 4.92s\n",
      "20:\tlearn: 1794.4630878\ttotal: 1.77s\tremaining: 4.2s\n",
      "30:\tlearn: 1740.7020962\ttotal: 2.53s\tremaining: 3.27s\n",
      "40:\tlearn: 1690.3392770\ttotal: 3.27s\tremaining: 2.39s\n",
      "50:\tlearn: 1657.8879759\ttotal: 4.01s\tremaining: 1.57s\n",
      "60:\tlearn: 1620.4658473\ttotal: 4.87s\tremaining: 798ms\n",
      "70:\tlearn: 1591.8667549\ttotal: 5.63s\tremaining: 0us\n",
      "Learning rate set to 0.5\n",
      "0:\tlearn: 3137.7899746\ttotal: 80.5ms\tremaining: 5.63s\n",
      "10:\tlearn: 1884.2320978\ttotal: 849ms\tremaining: 4.63s\n",
      "20:\tlearn: 1783.9677023\ttotal: 1.61s\tremaining: 3.84s\n",
      "30:\tlearn: 1726.0317566\ttotal: 2.39s\tremaining: 3.09s\n",
      "40:\tlearn: 1677.7854583\ttotal: 3.15s\tremaining: 2.3s\n",
      "50:\tlearn: 1644.8097744\ttotal: 3.9s\tremaining: 1.53s\n",
      "60:\tlearn: 1617.5245684\ttotal: 4.65s\tremaining: 763ms\n",
      "70:\tlearn: 1586.9468962\ttotal: 5.42s\tremaining: 0us\n",
      "Learning rate set to 0.5\n",
      "0:\tlearn: 3149.8174657\ttotal: 90.3ms\tremaining: 6.41s\n",
      "10:\tlearn: 1891.3275843\ttotal: 869ms\tremaining: 4.82s\n",
      "20:\tlearn: 1794.4630878\ttotal: 1.63s\tremaining: 3.96s\n",
      "30:\tlearn: 1740.7020962\ttotal: 2.4s\tremaining: 3.17s\n",
      "40:\tlearn: 1690.3392770\ttotal: 3.21s\tremaining: 2.43s\n",
      "50:\tlearn: 1657.8879759\ttotal: 4.03s\tremaining: 1.66s\n",
      "60:\tlearn: 1620.4658473\ttotal: 4.83s\tremaining: 872ms\n",
      "70:\tlearn: 1591.8667549\ttotal: 5.64s\tremaining: 79.4ms\n",
      "71:\tlearn: 1589.0200006\ttotal: 5.72s\tremaining: 0us\n",
      "Learning rate set to 0.5\n",
      "0:\tlearn: 3137.7899746\ttotal: 81.4ms\tremaining: 5.78s\n",
      "10:\tlearn: 1884.2320978\ttotal: 866ms\tremaining: 4.8s\n",
      "20:\tlearn: 1783.9677023\ttotal: 1.62s\tremaining: 3.93s\n",
      "30:\tlearn: 1726.0317566\ttotal: 2.42s\tremaining: 3.2s\n",
      "40:\tlearn: 1677.7854583\ttotal: 3.19s\tremaining: 2.41s\n",
      "50:\tlearn: 1644.8097744\ttotal: 3.95s\tremaining: 1.63s\n",
      "60:\tlearn: 1617.5245684\ttotal: 4.72s\tremaining: 851ms\n",
      "70:\tlearn: 1586.9468962\ttotal: 5.47s\tremaining: 77.1ms\n",
      "71:\tlearn: 1584.1994990\ttotal: 5.55s\tremaining: 0us\n",
      "Learning rate set to 0.5\n",
      "0:\tlearn: 3149.8174657\ttotal: 89.3ms\tremaining: 6.43s\n",
      "10:\tlearn: 1891.3275843\ttotal: 1.03s\tremaining: 5.83s\n",
      "20:\tlearn: 1794.4630878\ttotal: 1.84s\tremaining: 4.57s\n",
      "30:\tlearn: 1740.7020962\ttotal: 2.65s\tremaining: 3.59s\n",
      "40:\tlearn: 1690.3392770\ttotal: 3.44s\tremaining: 2.68s\n",
      "50:\tlearn: 1657.8879759\ttotal: 4.36s\tremaining: 1.88s\n",
      "60:\tlearn: 1620.4658473\ttotal: 5.17s\tremaining: 1.02s\n",
      "70:\tlearn: 1591.8667549\ttotal: 5.97s\tremaining: 168ms\n",
      "72:\tlearn: 1586.2230979\ttotal: 6.12s\tremaining: 0us\n",
      "Learning rate set to 0.5\n",
      "0:\tlearn: 3137.7899746\ttotal: 86.8ms\tremaining: 6.25s\n",
      "10:\tlearn: 1884.2320978\ttotal: 882ms\tremaining: 4.97s\n",
      "20:\tlearn: 1783.9677023\ttotal: 1.64s\tremaining: 4.06s\n",
      "30:\tlearn: 1726.0317566\ttotal: 2.42s\tremaining: 3.27s\n",
      "40:\tlearn: 1677.7854583\ttotal: 3.2s\tremaining: 2.5s\n",
      "50:\tlearn: 1644.8097744\ttotal: 3.98s\tremaining: 1.72s\n",
      "60:\tlearn: 1617.5245684\ttotal: 4.77s\tremaining: 938ms\n",
      "70:\tlearn: 1586.9468962\ttotal: 5.56s\tremaining: 157ms\n",
      "72:\tlearn: 1581.5121409\ttotal: 5.72s\tremaining: 0us\n",
      "Learning rate set to 0.5\n",
      "0:\tlearn: 3149.8174657\ttotal: 84.5ms\tremaining: 6.17s\n",
      "10:\tlearn: 1891.3275843\ttotal: 869ms\tremaining: 4.98s\n",
      "20:\tlearn: 1794.4630878\ttotal: 1.63s\tremaining: 4.11s\n",
      "30:\tlearn: 1740.7020962\ttotal: 2.39s\tremaining: 3.32s\n",
      "40:\tlearn: 1690.3392770\ttotal: 3.15s\tremaining: 2.53s\n",
      "50:\tlearn: 1657.8879759\ttotal: 3.92s\tremaining: 1.77s\n",
      "60:\tlearn: 1620.4658473\ttotal: 4.71s\tremaining: 1s\n",
      "70:\tlearn: 1591.8667549\ttotal: 5.49s\tremaining: 232ms\n",
      "73:\tlearn: 1583.6088786\ttotal: 5.73s\tremaining: 0us\n",
      "Learning rate set to 0.5\n",
      "0:\tlearn: 3137.7899746\ttotal: 82.8ms\tremaining: 6.04s\n",
      "10:\tlearn: 1884.2320978\ttotal: 876ms\tremaining: 5.02s\n",
      "20:\tlearn: 1783.9677023\ttotal: 1.67s\tremaining: 4.22s\n",
      "30:\tlearn: 1726.0317566\ttotal: 2.53s\tremaining: 3.51s\n",
      "40:\tlearn: 1677.7854583\ttotal: 3.29s\tremaining: 2.65s\n",
      "50:\tlearn: 1644.8097744\ttotal: 4.07s\tremaining: 1.84s\n",
      "60:\tlearn: 1617.5245684\ttotal: 4.85s\tremaining: 1.03s\n",
      "70:\tlearn: 1586.9468962\ttotal: 5.65s\tremaining: 239ms\n",
      "73:\tlearn: 1579.7709304\ttotal: 5.99s\tremaining: 0us\n",
      "Learning rate set to 0.5\n",
      "0:\tlearn: 3149.8174657\ttotal: 84.9ms\tremaining: 6.28s\n",
      "10:\tlearn: 1891.3275843\ttotal: 869ms\tremaining: 5.05s\n",
      "20:\tlearn: 1794.4630878\ttotal: 1.63s\tremaining: 4.19s\n",
      "30:\tlearn: 1740.7020962\ttotal: 2.38s\tremaining: 3.38s\n",
      "40:\tlearn: 1690.3392770\ttotal: 3.15s\tremaining: 2.61s\n",
      "50:\tlearn: 1657.8879759\ttotal: 3.94s\tremaining: 1.85s\n",
      "60:\tlearn: 1620.4658473\ttotal: 4.71s\tremaining: 1.08s\n",
      "70:\tlearn: 1591.8667549\ttotal: 5.48s\tremaining: 309ms\n",
      "74:\tlearn: 1580.8178941\ttotal: 5.8s\tremaining: 0us\n",
      "Learning rate set to 0.5\n",
      "0:\tlearn: 3137.7899746\ttotal: 86.7ms\tremaining: 6.42s\n",
      "10:\tlearn: 1884.2320978\ttotal: 930ms\tremaining: 5.41s\n",
      "20:\tlearn: 1783.9677023\ttotal: 1.75s\tremaining: 4.49s\n",
      "30:\tlearn: 1726.0317566\ttotal: 2.52s\tremaining: 3.58s\n",
      "40:\tlearn: 1677.7854583\ttotal: 3.28s\tremaining: 2.72s\n",
      "50:\tlearn: 1644.8097744\ttotal: 4.05s\tremaining: 1.91s\n",
      "60:\tlearn: 1617.5245684\ttotal: 4.82s\tremaining: 1.1s\n",
      "70:\tlearn: 1586.9468962\ttotal: 5.58s\tremaining: 314ms\n",
      "74:\tlearn: 1577.9049785\ttotal: 5.89s\tremaining: 0us\n",
      "Learning rate set to 0.5\n",
      "0:\tlearn: 3149.8174657\ttotal: 155ms\tremaining: 11.6s\n",
      "10:\tlearn: 1891.3275843\ttotal: 1.54s\tremaining: 9.12s\n",
      "20:\tlearn: 1794.4630878\ttotal: 2.89s\tremaining: 7.57s\n",
      "30:\tlearn: 1740.7020962\ttotal: 4.24s\tremaining: 6.16s\n",
      "40:\tlearn: 1690.3392770\ttotal: 5.62s\tremaining: 4.8s\n",
      "50:\tlearn: 1657.8879759\ttotal: 7.06s\tremaining: 3.46s\n",
      "60:\tlearn: 1620.4658473\ttotal: 8.53s\tremaining: 2.1s\n",
      "70:\tlearn: 1591.8667549\ttotal: 10s\tremaining: 707ms\n",
      "75:\tlearn: 1577.8764162\ttotal: 10.7s\tremaining: 0us\n",
      "Learning rate set to 0.5\n",
      "0:\tlearn: 3137.7899746\ttotal: 86.8ms\tremaining: 6.51s\n",
      "10:\tlearn: 1884.2320978\ttotal: 1.39s\tremaining: 8.22s\n",
      "20:\tlearn: 1783.9677023\ttotal: 2.25s\tremaining: 5.9s\n",
      "30:\tlearn: 1726.0317566\ttotal: 3.06s\tremaining: 4.45s\n",
      "40:\tlearn: 1677.7854583\ttotal: 3.97s\tremaining: 3.39s\n",
      "50:\tlearn: 1644.8097744\ttotal: 4.82s\tremaining: 2.36s\n",
      "60:\tlearn: 1617.5245684\ttotal: 5.61s\tremaining: 1.38s\n",
      "70:\tlearn: 1586.9468962\ttotal: 6.39s\tremaining: 450ms\n",
      "75:\tlearn: 1575.2408138\ttotal: 6.79s\tremaining: 0us\n",
      "Learning rate set to 0.5\n",
      "0:\tlearn: 3149.8174657\ttotal: 94.8ms\tremaining: 7.21s\n",
      "10:\tlearn: 1891.3275843\ttotal: 926ms\tremaining: 5.55s\n",
      "20:\tlearn: 1794.4630878\ttotal: 1.71s\tremaining: 4.55s\n",
      "30:\tlearn: 1740.7020962\ttotal: 2.52s\tremaining: 3.74s\n",
      "40:\tlearn: 1690.3392770\ttotal: 3.3s\tremaining: 2.9s\n",
      "50:\tlearn: 1657.8879759\ttotal: 4.08s\tremaining: 2.08s\n",
      "60:\tlearn: 1620.4658473\ttotal: 4.85s\tremaining: 1.27s\n",
      "70:\tlearn: 1591.8667549\ttotal: 5.7s\tremaining: 481ms\n",
      "76:\tlearn: 1576.9576284\ttotal: 6.5s\tremaining: 0us\n",
      "Learning rate set to 0.5\n",
      "0:\tlearn: 3137.7899746\ttotal: 85.1ms\tremaining: 6.46s\n",
      "10:\tlearn: 1884.2320978\ttotal: 923ms\tremaining: 5.54s\n",
      "20:\tlearn: 1783.9677023\ttotal: 1.69s\tremaining: 4.5s\n",
      "30:\tlearn: 1726.0317566\ttotal: 2.49s\tremaining: 3.7s\n",
      "40:\tlearn: 1677.7854583\ttotal: 3.7s\tremaining: 3.25s\n",
      "50:\tlearn: 1644.8097744\ttotal: 5s\tremaining: 2.55s\n",
      "60:\tlearn: 1617.5245684\ttotal: 6.21s\tremaining: 1.63s\n",
      "70:\tlearn: 1586.9468962\ttotal: 7.52s\tremaining: 636ms\n",
      "76:\tlearn: 1573.5410883\ttotal: 8.29s\tremaining: 0us\n",
      "Learning rate set to 0.5\n",
      "0:\tlearn: 3149.8174657\ttotal: 141ms\tremaining: 10.9s\n",
      "10:\tlearn: 1891.3275843\ttotal: 977ms\tremaining: 5.95s\n",
      "20:\tlearn: 1794.4630878\ttotal: 1.74s\tremaining: 4.72s\n",
      "30:\tlearn: 1740.7020962\ttotal: 2.51s\tremaining: 3.81s\n",
      "40:\tlearn: 1690.3392770\ttotal: 3.27s\tremaining: 2.95s\n",
      "50:\tlearn: 1657.8879759\ttotal: 4.03s\tremaining: 2.13s\n",
      "60:\tlearn: 1620.4658473\ttotal: 4.79s\tremaining: 1.33s\n",
      "70:\tlearn: 1591.8667549\ttotal: 5.58s\tremaining: 550ms\n",
      "77:\tlearn: 1576.0871421\ttotal: 6.12s\tremaining: 0us\n",
      "Learning rate set to 0.5\n",
      "0:\tlearn: 3137.7899746\ttotal: 90ms\tremaining: 6.93s\n",
      "10:\tlearn: 1884.2320978\ttotal: 867ms\tremaining: 5.28s\n",
      "20:\tlearn: 1783.9677023\ttotal: 1.63s\tremaining: 4.42s\n",
      "30:\tlearn: 1726.0317566\ttotal: 2.38s\tremaining: 3.62s\n",
      "40:\tlearn: 1677.7854583\ttotal: 3.16s\tremaining: 2.85s\n",
      "50:\tlearn: 1644.8097744\ttotal: 3.92s\tremaining: 2.08s\n",
      "60:\tlearn: 1617.5245684\ttotal: 4.68s\tremaining: 1.3s\n",
      "70:\tlearn: 1586.9468962\ttotal: 5.46s\tremaining: 539ms\n",
      "77:\tlearn: 1570.9578227\ttotal: 6s\tremaining: 0us\n",
      "Learning rate set to 0.5\n",
      "0:\tlearn: 3149.8174657\ttotal: 89.1ms\tremaining: 6.95s\n",
      "10:\tlearn: 1891.3275843\ttotal: 951ms\tremaining: 5.88s\n",
      "20:\tlearn: 1794.4630878\ttotal: 1.72s\tremaining: 4.76s\n",
      "30:\tlearn: 1740.7020962\ttotal: 2.49s\tremaining: 3.85s\n",
      "40:\tlearn: 1690.3392770\ttotal: 3.25s\tremaining: 3.01s\n",
      "50:\tlearn: 1657.8879759\ttotal: 4.01s\tremaining: 2.2s\n",
      "60:\tlearn: 1620.4658473\ttotal: 4.77s\tremaining: 1.41s\n",
      "70:\tlearn: 1591.8667549\ttotal: 5.53s\tremaining: 623ms\n",
      "78:\tlearn: 1574.8923470\ttotal: 6.13s\tremaining: 0us\n",
      "Learning rate set to 0.5\n",
      "0:\tlearn: 3137.7899746\ttotal: 83.2ms\tremaining: 6.49s\n",
      "10:\tlearn: 1884.2320978\ttotal: 860ms\tremaining: 5.32s\n",
      "20:\tlearn: 1783.9677023\ttotal: 1.6s\tremaining: 4.42s\n",
      "30:\tlearn: 1726.0317566\ttotal: 2.36s\tremaining: 3.65s\n",
      "40:\tlearn: 1677.7854583\ttotal: 3.24s\tremaining: 3s\n",
      "50:\tlearn: 1644.8097744\ttotal: 4.04s\tremaining: 2.22s\n",
      "60:\tlearn: 1617.5245684\ttotal: 4.82s\tremaining: 1.42s\n",
      "70:\tlearn: 1586.9468962\ttotal: 5.57s\tremaining: 627ms\n",
      "78:\tlearn: 1568.9675061\ttotal: 6.18s\tremaining: 0us\n",
      "Learning rate set to 0.5\n",
      "0:\tlearn: 3149.8174657\ttotal: 146ms\tremaining: 11.6s\n",
      "10:\tlearn: 1891.3275843\ttotal: 1.53s\tremaining: 9.6s\n",
      "20:\tlearn: 1794.4630878\ttotal: 2.86s\tremaining: 8.03s\n",
      "30:\tlearn: 1740.7020962\ttotal: 4.29s\tremaining: 6.78s\n",
      "40:\tlearn: 1690.3392770\ttotal: 5.69s\tremaining: 5.41s\n",
      "50:\tlearn: 1657.8879759\ttotal: 6.96s\tremaining: 3.96s\n",
      "60:\tlearn: 1620.4658473\ttotal: 8.24s\tremaining: 2.57s\n",
      "70:\tlearn: 1591.8667549\ttotal: 9.53s\tremaining: 1.21s\n",
      "79:\tlearn: 1573.5469490\ttotal: 10.7s\tremaining: 0us\n",
      "Learning rate set to 0.5\n",
      "0:\tlearn: 3137.7899746\ttotal: 84.9ms\tremaining: 6.71s\n",
      "10:\tlearn: 1884.2320978\ttotal: 861ms\tremaining: 5.4s\n",
      "20:\tlearn: 1783.9677023\ttotal: 1.63s\tremaining: 4.57s\n",
      "30:\tlearn: 1726.0317566\ttotal: 2.4s\tremaining: 3.79s\n",
      "40:\tlearn: 1677.7854583\ttotal: 3.16s\tremaining: 3s\n",
      "50:\tlearn: 1644.8097744\ttotal: 3.92s\tremaining: 2.23s\n",
      "60:\tlearn: 1617.5245684\ttotal: 4.66s\tremaining: 1.45s\n",
      "70:\tlearn: 1586.9468962\ttotal: 5.42s\tremaining: 687ms\n",
      "79:\tlearn: 1565.8805097\ttotal: 6.1s\tremaining: 0us\n",
      "Learning rate set to 0.5\n",
      "0:\tlearn: 3149.8174657\ttotal: 87.2ms\tremaining: 6.97s\n",
      "10:\tlearn: 1891.3275843\ttotal: 867ms\tremaining: 5.52s\n",
      "20:\tlearn: 1794.4630878\ttotal: 1.64s\tremaining: 4.69s\n",
      "30:\tlearn: 1740.7020962\ttotal: 2.41s\tremaining: 3.88s\n",
      "40:\tlearn: 1690.3392770\ttotal: 3.18s\tremaining: 3.11s\n",
      "50:\tlearn: 1657.8879759\ttotal: 3.97s\tremaining: 2.34s\n",
      "60:\tlearn: 1620.4658473\ttotal: 4.73s\tremaining: 1.55s\n",
      "70:\tlearn: 1591.8667549\ttotal: 5.47s\tremaining: 771ms\n",
      "80:\tlearn: 1571.4070422\ttotal: 6.22s\tremaining: 0us\n",
      "Learning rate set to 0.5\n",
      "0:\tlearn: 3137.7899746\ttotal: 82ms\tremaining: 6.56s\n",
      "10:\tlearn: 1884.2320978\ttotal: 1.11s\tremaining: 7.08s\n",
      "20:\tlearn: 1783.9677023\ttotal: 1.89s\tremaining: 5.41s\n",
      "30:\tlearn: 1726.0317566\ttotal: 2.66s\tremaining: 4.29s\n",
      "40:\tlearn: 1677.7854583\ttotal: 3.42s\tremaining: 3.34s\n",
      "50:\tlearn: 1644.8097744\ttotal: 4.19s\tremaining: 2.46s\n",
      "60:\tlearn: 1617.5245684\ttotal: 4.96s\tremaining: 1.62s\n",
      "70:\tlearn: 1586.9468962\ttotal: 5.72s\tremaining: 805ms\n",
      "80:\tlearn: 1564.0064689\ttotal: 6.52s\tremaining: 0us\n",
      "Learning rate set to 0.5\n",
      "0:\tlearn: 3149.8174657\ttotal: 142ms\tremaining: 11.5s\n",
      "10:\tlearn: 1891.3275843\ttotal: 1.6s\tremaining: 10.3s\n",
      "20:\tlearn: 1794.4630878\ttotal: 2.91s\tremaining: 8.44s\n",
      "30:\tlearn: 1740.7020962\ttotal: 4.2s\tremaining: 6.9s\n",
      "40:\tlearn: 1690.3392770\ttotal: 5.47s\tremaining: 5.47s\n",
      "50:\tlearn: 1657.8879759\ttotal: 6.44s\tremaining: 3.91s\n",
      "60:\tlearn: 1620.4658473\ttotal: 7.2s\tremaining: 2.48s\n",
      "70:\tlearn: 1591.8667549\ttotal: 7.96s\tremaining: 1.23s\n",
      "80:\tlearn: 1571.4070422\ttotal: 8.74s\tremaining: 108ms\n",
      "81:\tlearn: 1570.4350051\ttotal: 8.82s\tremaining: 0us\n",
      "Learning rate set to 0.5\n",
      "0:\tlearn: 3137.7899746\ttotal: 88.1ms\tremaining: 7.14s\n",
      "10:\tlearn: 1884.2320978\ttotal: 918ms\tremaining: 5.92s\n",
      "20:\tlearn: 1783.9677023\ttotal: 1.71s\tremaining: 4.98s\n",
      "30:\tlearn: 1726.0317566\ttotal: 2.52s\tremaining: 4.14s\n",
      "40:\tlearn: 1677.7854583\ttotal: 3.31s\tremaining: 3.31s\n",
      "50:\tlearn: 1644.8097744\ttotal: 4.09s\tremaining: 2.48s\n",
      "60:\tlearn: 1617.5245684\ttotal: 4.84s\tremaining: 1.67s\n",
      "70:\tlearn: 1586.9468962\ttotal: 5.6s\tremaining: 867ms\n",
      "80:\tlearn: 1564.0064689\ttotal: 6.37s\tremaining: 78.6ms\n",
      "81:\tlearn: 1560.1211904\ttotal: 6.45s\tremaining: 0us\n",
      "Learning rate set to 0.5\n",
      "0:\tlearn: 3149.8174657\ttotal: 92.1ms\tremaining: 7.55s\n",
      "10:\tlearn: 1891.3275843\ttotal: 878ms\tremaining: 5.75s\n",
      "20:\tlearn: 1794.4630878\ttotal: 1.67s\tremaining: 4.92s\n",
      "30:\tlearn: 1740.7020962\ttotal: 2.43s\tremaining: 4.07s\n",
      "40:\tlearn: 1690.3392770\ttotal: 3.19s\tremaining: 3.27s\n",
      "50:\tlearn: 1657.8879759\ttotal: 3.96s\tremaining: 2.49s\n",
      "60:\tlearn: 1620.4658473\ttotal: 4.73s\tremaining: 1.71s\n",
      "70:\tlearn: 1591.8667549\ttotal: 5.49s\tremaining: 929ms\n",
      "80:\tlearn: 1571.4070422\ttotal: 6.26s\tremaining: 155ms\n",
      "82:\tlearn: 1569.2903494\ttotal: 6.42s\tremaining: 0us\n",
      "Learning rate set to 0.5\n",
      "0:\tlearn: 3137.7899746\ttotal: 89.2ms\tremaining: 7.31s\n",
      "10:\tlearn: 1884.2320978\ttotal: 1.01s\tremaining: 6.65s\n",
      "20:\tlearn: 1783.9677023\ttotal: 1.91s\tremaining: 5.63s\n",
      "30:\tlearn: 1726.0317566\ttotal: 2.74s\tremaining: 4.59s\n",
      "40:\tlearn: 1677.7854583\ttotal: 3.54s\tremaining: 3.62s\n",
      "50:\tlearn: 1644.8097744\ttotal: 4.31s\tremaining: 2.71s\n",
      "60:\tlearn: 1617.5245684\ttotal: 5.08s\tremaining: 1.83s\n",
      "70:\tlearn: 1586.9468962\ttotal: 5.87s\tremaining: 992ms\n",
      "80:\tlearn: 1564.0064689\ttotal: 6.63s\tremaining: 164ms\n",
      "82:\tlearn: 1558.9000809\ttotal: 6.8s\tremaining: 0us\n",
      "Learning rate set to 0.5\n",
      "0:\tlearn: 3149.8174657\ttotal: 88ms\tremaining: 7.31s\n",
      "10:\tlearn: 1891.3275843\ttotal: 867ms\tremaining: 5.75s\n",
      "20:\tlearn: 1794.4630878\ttotal: 1.63s\tremaining: 4.88s\n",
      "30:\tlearn: 1740.7020962\ttotal: 2.39s\tremaining: 4.08s\n",
      "40:\tlearn: 1690.3392770\ttotal: 3.17s\tremaining: 3.32s\n",
      "50:\tlearn: 1657.8879759\ttotal: 3.94s\tremaining: 2.55s\n",
      "60:\tlearn: 1620.4658473\ttotal: 4.7s\tremaining: 1.77s\n",
      "70:\tlearn: 1591.8667549\ttotal: 5.46s\tremaining: 1000ms\n",
      "80:\tlearn: 1571.4070422\ttotal: 6.21s\tremaining: 230ms\n",
      "83:\tlearn: 1567.1649635\ttotal: 6.43s\tremaining: 0us\n",
      "Learning rate set to 0.5\n",
      "0:\tlearn: 3137.7899746\ttotal: 88.7ms\tremaining: 7.36s\n",
      "10:\tlearn: 1884.2320978\ttotal: 872ms\tremaining: 5.79s\n",
      "20:\tlearn: 1783.9677023\ttotal: 1.63s\tremaining: 4.9s\n",
      "30:\tlearn: 1726.0317566\ttotal: 2.38s\tremaining: 4.07s\n",
      "40:\tlearn: 1677.7854583\ttotal: 3.13s\tremaining: 3.28s\n",
      "50:\tlearn: 1644.8097744\ttotal: 3.89s\tremaining: 2.52s\n",
      "60:\tlearn: 1617.5245684\ttotal: 4.69s\tremaining: 1.77s\n",
      "70:\tlearn: 1586.9468962\ttotal: 5.47s\tremaining: 1s\n",
      "80:\tlearn: 1564.0064689\ttotal: 6.25s\tremaining: 232ms\n",
      "83:\tlearn: 1558.1830445\ttotal: 6.55s\tremaining: 0us\n",
      "Learning rate set to 0.5\n",
      "0:\tlearn: 3149.8174657\ttotal: 93.3ms\tremaining: 7.84s\n",
      "10:\tlearn: 1891.3275843\ttotal: 901ms\tremaining: 6.06s\n",
      "20:\tlearn: 1794.4630878\ttotal: 1.71s\tremaining: 5.21s\n",
      "30:\tlearn: 1740.7020962\ttotal: 2.5s\tremaining: 4.35s\n",
      "40:\tlearn: 1690.3392770\ttotal: 3.27s\tremaining: 3.51s\n",
      "50:\tlearn: 1657.8879759\ttotal: 4.07s\tremaining: 2.71s\n",
      "60:\tlearn: 1620.4658473\ttotal: 4.83s\tremaining: 1.9s\n",
      "70:\tlearn: 1591.8667549\ttotal: 5.61s\tremaining: 1.1s\n",
      "80:\tlearn: 1571.4070422\ttotal: 6.46s\tremaining: 319ms\n",
      "84:\tlearn: 1562.7133326\ttotal: 6.77s\tremaining: 0us\n",
      "Learning rate set to 0.5\n",
      "0:\tlearn: 3137.7899746\ttotal: 84.3ms\tremaining: 7.08s\n",
      "10:\tlearn: 1884.2320978\ttotal: 860ms\tremaining: 5.78s\n",
      "20:\tlearn: 1783.9677023\ttotal: 1.63s\tremaining: 4.98s\n",
      "30:\tlearn: 1726.0317566\ttotal: 2.4s\tremaining: 4.18s\n",
      "40:\tlearn: 1677.7854583\ttotal: 3.15s\tremaining: 3.38s\n",
      "50:\tlearn: 1644.8097744\ttotal: 3.9s\tremaining: 2.6s\n",
      "60:\tlearn: 1617.5245684\ttotal: 4.81s\tremaining: 1.89s\n",
      "70:\tlearn: 1586.9468962\ttotal: 5.57s\tremaining: 1.1s\n",
      "80:\tlearn: 1564.0064689\ttotal: 6.34s\tremaining: 313ms\n",
      "84:\tlearn: 1556.0280280\ttotal: 6.65s\tremaining: 0us\n",
      "Learning rate set to 0.5\n",
      "0:\tlearn: 3149.8174657\ttotal: 86.1ms\tremaining: 7.32s\n",
      "10:\tlearn: 1891.3275843\ttotal: 868ms\tremaining: 5.92s\n",
      "20:\tlearn: 1794.4630878\ttotal: 1.63s\tremaining: 5.04s\n",
      "30:\tlearn: 1740.7020962\ttotal: 2.38s\tremaining: 4.23s\n",
      "40:\tlearn: 1690.3392770\ttotal: 3.13s\tremaining: 3.44s\n",
      "50:\tlearn: 1657.8879759\ttotal: 3.9s\tremaining: 2.68s\n",
      "60:\tlearn: 1620.4658473\ttotal: 4.66s\tremaining: 1.91s\n",
      "70:\tlearn: 1591.8667549\ttotal: 5.47s\tremaining: 1.16s\n",
      "80:\tlearn: 1571.4070422\ttotal: 6.22s\tremaining: 384ms\n",
      "85:\tlearn: 1559.8996393\ttotal: 6.61s\tremaining: 0us\n",
      "Learning rate set to 0.5\n",
      "0:\tlearn: 3137.7899746\ttotal: 80.3ms\tremaining: 6.82s\n",
      "10:\tlearn: 1884.2320978\ttotal: 874ms\tremaining: 5.96s\n",
      "20:\tlearn: 1783.9677023\ttotal: 1.64s\tremaining: 5.07s\n",
      "30:\tlearn: 1726.0317566\ttotal: 2.42s\tremaining: 4.29s\n",
      "40:\tlearn: 1677.7854583\ttotal: 3.19s\tremaining: 3.5s\n",
      "50:\tlearn: 1644.8097744\ttotal: 3.96s\tremaining: 2.72s\n",
      "60:\tlearn: 1617.5245684\ttotal: 4.73s\tremaining: 1.94s\n",
      "70:\tlearn: 1586.9468962\ttotal: 5.5s\tremaining: 1.16s\n",
      "80:\tlearn: 1564.0064689\ttotal: 6.27s\tremaining: 387ms\n",
      "85:\tlearn: 1553.6244218\ttotal: 6.67s\tremaining: 0us\n",
      "Learning rate set to 0.5\n",
      "0:\tlearn: 3149.8174657\ttotal: 86.4ms\tremaining: 7.43s\n",
      "10:\tlearn: 1891.3275843\ttotal: 871ms\tremaining: 6.01s\n",
      "20:\tlearn: 1794.4630878\ttotal: 1.64s\tremaining: 5.16s\n",
      "30:\tlearn: 1740.7020962\ttotal: 2.41s\tremaining: 4.36s\n",
      "40:\tlearn: 1690.3392770\ttotal: 3.17s\tremaining: 3.56s\n",
      "50:\tlearn: 1657.8879759\ttotal: 3.92s\tremaining: 2.77s\n",
      "60:\tlearn: 1620.4658473\ttotal: 4.72s\tremaining: 2.01s\n",
      "70:\tlearn: 1591.8667549\ttotal: 5.51s\tremaining: 1.24s\n",
      "80:\tlearn: 1571.4070422\ttotal: 6.26s\tremaining: 464ms\n",
      "86:\tlearn: 1558.0093731\ttotal: 6.71s\tremaining: 0us\n",
      "Learning rate set to 0.5\n",
      "0:\tlearn: 3137.7899746\ttotal: 81.4ms\tremaining: 7s\n",
      "10:\tlearn: 1884.2320978\ttotal: 868ms\tremaining: 6s\n",
      "20:\tlearn: 1783.9677023\ttotal: 1.62s\tremaining: 5.1s\n",
      "30:\tlearn: 1726.0317566\ttotal: 2.38s\tremaining: 4.3s\n",
      "40:\tlearn: 1677.7854583\ttotal: 3.14s\tremaining: 3.53s\n",
      "50:\tlearn: 1644.8097744\ttotal: 3.92s\tremaining: 2.77s\n",
      "60:\tlearn: 1617.5245684\ttotal: 4.68s\tremaining: 2s\n",
      "70:\tlearn: 1586.9468962\ttotal: 5.42s\tremaining: 1.22s\n",
      "80:\tlearn: 1564.0064689\ttotal: 6.17s\tremaining: 457ms\n",
      "86:\tlearn: 1551.0662596\ttotal: 6.62s\tremaining: 0us\n",
      "Learning rate set to 0.5\n",
      "0:\tlearn: 3149.8174657\ttotal: 88.5ms\tremaining: 7.7s\n",
      "10:\tlearn: 1891.3275843\ttotal: 891ms\tremaining: 6.24s\n",
      "20:\tlearn: 1794.4630878\ttotal: 1.67s\tremaining: 5.33s\n",
      "30:\tlearn: 1740.7020962\ttotal: 2.44s\tremaining: 4.48s\n",
      "40:\tlearn: 1690.3392770\ttotal: 3.22s\tremaining: 3.69s\n",
      "50:\tlearn: 1657.8879759\ttotal: 3.98s\tremaining: 2.89s\n",
      "60:\tlearn: 1620.4658473\ttotal: 4.74s\tremaining: 2.1s\n",
      "70:\tlearn: 1591.8667549\ttotal: 5.5s\tremaining: 1.32s\n",
      "80:\tlearn: 1571.4070422\ttotal: 6.35s\tremaining: 549ms\n",
      "87:\tlearn: 1556.7290037\ttotal: 6.89s\tremaining: 0us\n",
      "Learning rate set to 0.5\n",
      "0:\tlearn: 3137.7899746\ttotal: 81.1ms\tremaining: 7.06s\n",
      "10:\tlearn: 1884.2320978\ttotal: 864ms\tremaining: 6.05s\n",
      "20:\tlearn: 1783.9677023\ttotal: 1.63s\tremaining: 5.2s\n",
      "30:\tlearn: 1726.0317566\ttotal: 2.39s\tremaining: 4.39s\n",
      "40:\tlearn: 1677.7854583\ttotal: 3.15s\tremaining: 3.61s\n",
      "50:\tlearn: 1644.8097744\ttotal: 3.92s\tremaining: 2.85s\n",
      "60:\tlearn: 1617.5245684\ttotal: 4.72s\tremaining: 2.09s\n",
      "70:\tlearn: 1586.9468962\ttotal: 5.47s\tremaining: 1.31s\n",
      "80:\tlearn: 1564.0064689\ttotal: 6.23s\tremaining: 539ms\n",
      "87:\tlearn: 1549.5524176\ttotal: 6.75s\tremaining: 0us\n",
      "Learning rate set to 0.5\n",
      "0:\tlearn: 3149.8174657\ttotal: 86.5ms\tremaining: 7.61s\n",
      "10:\tlearn: 1891.3275843\ttotal: 862ms\tremaining: 6.11s\n",
      "20:\tlearn: 1794.4630878\ttotal: 1.63s\tremaining: 5.26s\n",
      "30:\tlearn: 1740.7020962\ttotal: 2.38s\tremaining: 4.46s\n",
      "40:\tlearn: 1690.3392770\ttotal: 3.14s\tremaining: 3.68s\n",
      "50:\tlearn: 1657.8879759\ttotal: 3.9s\tremaining: 2.91s\n",
      "60:\tlearn: 1620.4658473\ttotal: 4.66s\tremaining: 2.14s\n",
      "70:\tlearn: 1591.8667549\ttotal: 5.41s\tremaining: 1.37s\n",
      "80:\tlearn: 1571.4070422\ttotal: 6.21s\tremaining: 613ms\n",
      "88:\tlearn: 1554.0449573\ttotal: 6.88s\tremaining: 0us\n",
      "Learning rate set to 0.5\n",
      "0:\tlearn: 3137.7899746\ttotal: 81.4ms\tremaining: 7.16s\n",
      "10:\tlearn: 1884.2320978\ttotal: 886ms\tremaining: 6.28s\n",
      "20:\tlearn: 1783.9677023\ttotal: 1.66s\tremaining: 5.37s\n",
      "30:\tlearn: 1726.0317566\ttotal: 2.41s\tremaining: 4.51s\n",
      "40:\tlearn: 1677.7854583\ttotal: 3.17s\tremaining: 3.71s\n",
      "50:\tlearn: 1644.8097744\ttotal: 3.95s\tremaining: 2.94s\n",
      "60:\tlearn: 1617.5245684\ttotal: 4.7s\tremaining: 2.16s\n",
      "70:\tlearn: 1586.9468962\ttotal: 5.49s\tremaining: 1.39s\n",
      "80:\tlearn: 1564.0064689\ttotal: 6.28s\tremaining: 620ms\n",
      "88:\tlearn: 1548.3321709\ttotal: 6.92s\tremaining: 0us\n",
      "Learning rate set to 0.5\n",
      "0:\tlearn: 3149.8174657\ttotal: 85.9ms\tremaining: 7.64s\n",
      "10:\tlearn: 1891.3275843\ttotal: 886ms\tremaining: 6.36s\n",
      "20:\tlearn: 1794.4630878\ttotal: 1.7s\tremaining: 5.6s\n",
      "30:\tlearn: 1740.7020962\ttotal: 2.52s\tremaining: 4.79s\n",
      "40:\tlearn: 1690.3392770\ttotal: 3.33s\tremaining: 3.98s\n",
      "50:\tlearn: 1657.8879759\ttotal: 4.13s\tremaining: 3.16s\n",
      "60:\tlearn: 1620.4658473\ttotal: 4.93s\tremaining: 2.35s\n",
      "70:\tlearn: 1591.8667549\ttotal: 5.75s\tremaining: 1.54s\n",
      "80:\tlearn: 1571.4070422\ttotal: 6.51s\tremaining: 724ms\n",
      "89:\tlearn: 1552.2994334\ttotal: 7.21s\tremaining: 0us\n",
      "Learning rate set to 0.5\n",
      "0:\tlearn: 3137.7899746\ttotal: 82.9ms\tremaining: 7.38s\n",
      "10:\tlearn: 1884.2320978\ttotal: 867ms\tremaining: 6.23s\n",
      "20:\tlearn: 1783.9677023\ttotal: 1.64s\tremaining: 5.38s\n",
      "30:\tlearn: 1726.0317566\ttotal: 2.4s\tremaining: 4.58s\n",
      "40:\tlearn: 1677.7854583\ttotal: 3.17s\tremaining: 3.78s\n",
      "50:\tlearn: 1644.8097744\ttotal: 3.93s\tremaining: 3s\n",
      "60:\tlearn: 1617.5245684\ttotal: 4.68s\tremaining: 2.23s\n",
      "70:\tlearn: 1586.9468962\ttotal: 5.44s\tremaining: 1.46s\n",
      "80:\tlearn: 1564.0064689\ttotal: 6.2s\tremaining: 689ms\n",
      "89:\tlearn: 1546.2137717\ttotal: 6.93s\tremaining: 0us\n",
      "Learning rate set to 0.5\n",
      "0:\tlearn: 3149.8174657\ttotal: 88.5ms\tremaining: 7.96s\n",
      "10:\tlearn: 1891.3275843\ttotal: 888ms\tremaining: 6.46s\n",
      "20:\tlearn: 1794.4630878\ttotal: 1.71s\tremaining: 5.71s\n",
      "30:\tlearn: 1740.7020962\ttotal: 2.55s\tremaining: 4.94s\n",
      "40:\tlearn: 1690.3392770\ttotal: 3.31s\tremaining: 4.03s\n",
      "50:\tlearn: 1657.8879759\ttotal: 4.06s\tremaining: 3.18s\n",
      "60:\tlearn: 1620.4658473\ttotal: 4.82s\tremaining: 2.37s\n",
      "70:\tlearn: 1591.8667549\ttotal: 5.57s\tremaining: 1.57s\n",
      "80:\tlearn: 1571.4070422\ttotal: 6.35s\tremaining: 784ms\n",
      "90:\tlearn: 1549.2983460\ttotal: 7.13s\tremaining: 0us\n",
      "Learning rate set to 0.5\n",
      "0:\tlearn: 3137.7899746\ttotal: 141ms\tremaining: 12.7s\n",
      "10:\tlearn: 1884.2320978\ttotal: 1.4s\tremaining: 10.2s\n",
      "20:\tlearn: 1783.9677023\ttotal: 2.67s\tremaining: 8.9s\n",
      "30:\tlearn: 1726.0317566\ttotal: 3.96s\tremaining: 7.67s\n",
      "40:\tlearn: 1677.7854583\ttotal: 4.71s\tremaining: 5.75s\n",
      "50:\tlearn: 1644.8097744\ttotal: 5.47s\tremaining: 4.29s\n",
      "60:\tlearn: 1617.5245684\ttotal: 6.23s\tremaining: 3.06s\n",
      "70:\tlearn: 1586.9468962\ttotal: 6.99s\tremaining: 1.97s\n",
      "80:\tlearn: 1564.0064689\ttotal: 7.76s\tremaining: 958ms\n",
      "90:\tlearn: 1544.0112289\ttotal: 8.54s\tremaining: 0us\n",
      "Learning rate set to 0.5\n",
      "0:\tlearn: 3149.8174657\ttotal: 87.8ms\tremaining: 7.99s\n",
      "10:\tlearn: 1891.3275843\ttotal: 881ms\tremaining: 6.49s\n",
      "20:\tlearn: 1794.4630878\ttotal: 1.65s\tremaining: 5.57s\n",
      "30:\tlearn: 1740.7020962\ttotal: 2.43s\tremaining: 4.78s\n",
      "40:\tlearn: 1690.3392770\ttotal: 3.27s\tremaining: 4.07s\n",
      "50:\tlearn: 1657.8879759\ttotal: 4.11s\tremaining: 3.3s\n",
      "60:\tlearn: 1620.4658473\ttotal: 4.88s\tremaining: 2.48s\n",
      "70:\tlearn: 1591.8667549\ttotal: 5.65s\tremaining: 1.67s\n",
      "80:\tlearn: 1571.4070422\ttotal: 6.45s\tremaining: 876ms\n",
      "90:\tlearn: 1549.2983460\ttotal: 7.3s\tremaining: 80.3ms\n",
      "91:\tlearn: 1546.5319119\ttotal: 7.38s\tremaining: 0us\n",
      "Learning rate set to 0.5\n",
      "0:\tlearn: 3137.7899746\ttotal: 82.4ms\tremaining: 7.5s\n",
      "10:\tlearn: 1884.2320978\ttotal: 864ms\tremaining: 6.37s\n",
      "20:\tlearn: 1783.9677023\ttotal: 1.62s\tremaining: 5.48s\n",
      "30:\tlearn: 1726.0317566\ttotal: 2.41s\tremaining: 4.73s\n",
      "40:\tlearn: 1677.7854583\ttotal: 3.18s\tremaining: 3.95s\n",
      "50:\tlearn: 1644.8097744\ttotal: 3.94s\tremaining: 3.17s\n",
      "60:\tlearn: 1617.5245684\ttotal: 4.69s\tremaining: 2.38s\n",
      "70:\tlearn: 1586.9468962\ttotal: 5.42s\tremaining: 1.6s\n",
      "80:\tlearn: 1564.0064689\ttotal: 6.19s\tremaining: 841ms\n",
      "90:\tlearn: 1544.0112289\ttotal: 6.94s\tremaining: 76.3ms\n",
      "91:\tlearn: 1543.2491558\ttotal: 7.02s\tremaining: 0us\n",
      "Learning rate set to 0.5\n",
      "0:\tlearn: 3149.8174657\ttotal: 87.1ms\tremaining: 8.01s\n",
      "10:\tlearn: 1891.3275843\ttotal: 861ms\tremaining: 6.42s\n",
      "20:\tlearn: 1794.4630878\ttotal: 1.62s\tremaining: 5.56s\n",
      "30:\tlearn: 1740.7020962\ttotal: 2.39s\tremaining: 4.79s\n",
      "40:\tlearn: 1690.3392770\ttotal: 3.15s\tremaining: 4s\n",
      "50:\tlearn: 1657.8879759\ttotal: 3.91s\tremaining: 3.22s\n",
      "60:\tlearn: 1620.4658473\ttotal: 4.78s\tremaining: 2.51s\n",
      "70:\tlearn: 1591.8667549\ttotal: 5.51s\tremaining: 1.71s\n",
      "80:\tlearn: 1571.4070422\ttotal: 6.26s\tremaining: 927ms\n",
      "90:\tlearn: 1549.2983460\ttotal: 7s\tremaining: 154ms\n",
      "92:\tlearn: 1544.0225417\ttotal: 7.15s\tremaining: 0us\n",
      "Learning rate set to 0.5\n",
      "0:\tlearn: 3137.7899746\ttotal: 80.4ms\tremaining: 7.4s\n",
      "10:\tlearn: 1884.2320978\ttotal: 846ms\tremaining: 6.3s\n",
      "20:\tlearn: 1783.9677023\ttotal: 1.61s\tremaining: 5.52s\n",
      "30:\tlearn: 1726.0317566\ttotal: 2.4s\tremaining: 4.81s\n",
      "40:\tlearn: 1677.7854583\ttotal: 3.15s\tremaining: 3.99s\n",
      "50:\tlearn: 1644.8097744\ttotal: 3.9s\tremaining: 3.21s\n",
      "60:\tlearn: 1617.5245684\ttotal: 4.64s\tremaining: 2.43s\n",
      "70:\tlearn: 1586.9468962\ttotal: 5.39s\tremaining: 1.67s\n",
      "80:\tlearn: 1564.0064689\ttotal: 6.14s\tremaining: 910ms\n",
      "90:\tlearn: 1544.0112289\ttotal: 6.89s\tremaining: 151ms\n",
      "92:\tlearn: 1541.0114821\ttotal: 7.04s\tremaining: 0us\n",
      "Learning rate set to 0.5\n",
      "0:\tlearn: 3149.8174657\ttotal: 84.1ms\tremaining: 7.82s\n",
      "10:\tlearn: 1891.3275843\ttotal: 858ms\tremaining: 6.47s\n",
      "20:\tlearn: 1794.4630878\ttotal: 1.62s\tremaining: 5.63s\n",
      "30:\tlearn: 1740.7020962\ttotal: 2.39s\tremaining: 4.85s\n",
      "40:\tlearn: 1690.3392770\ttotal: 3.15s\tremaining: 4.07s\n",
      "50:\tlearn: 1657.8879759\ttotal: 3.92s\tremaining: 3.3s\n",
      "60:\tlearn: 1620.4658473\ttotal: 4.66s\tremaining: 2.52s\n",
      "70:\tlearn: 1591.8667549\ttotal: 5.4s\tremaining: 1.75s\n",
      "80:\tlearn: 1571.4070422\ttotal: 6.15s\tremaining: 988ms\n",
      "90:\tlearn: 1549.2983460\ttotal: 6.96s\tremaining: 229ms\n",
      "93:\tlearn: 1540.8777603\ttotal: 7.19s\tremaining: 0us\n",
      "Learning rate set to 0.5\n",
      "0:\tlearn: 3137.7899746\ttotal: 84.4ms\tremaining: 7.85s\n",
      "10:\tlearn: 1884.2320978\ttotal: 869ms\tremaining: 6.56s\n",
      "20:\tlearn: 1783.9677023\ttotal: 1.67s\tremaining: 5.82s\n",
      "30:\tlearn: 1726.0317566\ttotal: 2.48s\tremaining: 5.03s\n",
      "40:\tlearn: 1677.7854583\ttotal: 3.33s\tremaining: 4.3s\n",
      "50:\tlearn: 1644.8097744\ttotal: 4.11s\tremaining: 3.46s\n",
      "60:\tlearn: 1617.5245684\ttotal: 4.86s\tremaining: 2.63s\n",
      "70:\tlearn: 1586.9468962\ttotal: 5.62s\tremaining: 1.82s\n",
      "80:\tlearn: 1564.0064689\ttotal: 6.38s\tremaining: 1.02s\n",
      "90:\tlearn: 1544.0112289\ttotal: 7.15s\tremaining: 236ms\n",
      "93:\tlearn: 1538.6432838\ttotal: 7.39s\tremaining: 0us\n",
      "Learning rate set to 0.5\n",
      "0:\tlearn: 3149.8174657\ttotal: 145ms\tremaining: 13.6s\n",
      "10:\tlearn: 1891.3275843\ttotal: 1.48s\tremaining: 11.3s\n",
      "20:\tlearn: 1794.4630878\ttotal: 2.76s\tremaining: 9.74s\n",
      "30:\tlearn: 1740.7020962\ttotal: 4.02s\tremaining: 8.3s\n",
      "40:\tlearn: 1690.3392770\ttotal: 5.32s\tremaining: 7.01s\n",
      "50:\tlearn: 1657.8879759\ttotal: 6.6s\tremaining: 5.7s\n",
      "60:\tlearn: 1620.4658473\ttotal: 7.69s\tremaining: 4.28s\n",
      "70:\tlearn: 1591.8667549\ttotal: 8.45s\tremaining: 2.85s\n",
      "80:\tlearn: 1571.4070422\ttotal: 9.2s\tremaining: 1.59s\n",
      "90:\tlearn: 1549.2983460\ttotal: 9.95s\tremaining: 437ms\n",
      "94:\tlearn: 1539.1432390\ttotal: 10.3s\tremaining: 0us\n",
      "Learning rate set to 0.5\n",
      "0:\tlearn: 3137.7899746\ttotal: 85.9ms\tremaining: 8.08s\n",
      "10:\tlearn: 1884.2320978\ttotal: 891ms\tremaining: 6.8s\n",
      "20:\tlearn: 1783.9677023\ttotal: 1.68s\tremaining: 5.93s\n",
      "30:\tlearn: 1726.0317566\ttotal: 2.58s\tremaining: 5.34s\n",
      "40:\tlearn: 1677.7854583\ttotal: 3.36s\tremaining: 4.42s\n",
      "50:\tlearn: 1644.8097744\ttotal: 4.21s\tremaining: 3.63s\n",
      "60:\tlearn: 1617.5245684\ttotal: 4.99s\tremaining: 2.78s\n",
      "70:\tlearn: 1586.9468962\ttotal: 5.75s\tremaining: 1.94s\n",
      "80:\tlearn: 1564.0064689\ttotal: 6.51s\tremaining: 1.12s\n",
      "90:\tlearn: 1544.0112289\ttotal: 7.27s\tremaining: 320ms\n",
      "94:\tlearn: 1535.8133240\ttotal: 7.58s\tremaining: 0us\n",
      "Learning rate set to 0.5\n",
      "0:\tlearn: 3149.8174657\ttotal: 149ms\tremaining: 14.2s\n",
      "10:\tlearn: 1891.3275843\ttotal: 1.48s\tremaining: 11.4s\n",
      "20:\tlearn: 1794.4630878\ttotal: 2.74s\tremaining: 9.79s\n",
      "30:\tlearn: 1740.7020962\ttotal: 4.02s\tremaining: 8.42s\n",
      "40:\tlearn: 1690.3392770\ttotal: 5.31s\tremaining: 7.12s\n",
      "50:\tlearn: 1657.8879759\ttotal: 6.71s\tremaining: 5.92s\n",
      "60:\tlearn: 1620.4658473\ttotal: 7.98s\tremaining: 4.58s\n",
      "70:\tlearn: 1591.8667549\ttotal: 9.28s\tremaining: 3.27s\n",
      "80:\tlearn: 1571.4070422\ttotal: 10.6s\tremaining: 1.95s\n",
      "90:\tlearn: 1549.2983460\ttotal: 11.8s\tremaining: 651ms\n",
      "95:\tlearn: 1538.2191430\ttotal: 12.5s\tremaining: 0us\n",
      "Learning rate set to 0.5\n",
      "0:\tlearn: 3137.7899746\ttotal: 81.4ms\tremaining: 7.73s\n",
      "10:\tlearn: 1884.2320978\ttotal: 863ms\tremaining: 6.67s\n",
      "20:\tlearn: 1783.9677023\ttotal: 1.62s\tremaining: 5.79s\n",
      "30:\tlearn: 1726.0317566\ttotal: 2.39s\tremaining: 5.01s\n",
      "40:\tlearn: 1677.7854583\ttotal: 3.16s\tremaining: 4.24s\n",
      "50:\tlearn: 1644.8097744\ttotal: 3.94s\tremaining: 3.48s\n",
      "60:\tlearn: 1617.5245684\ttotal: 4.68s\tremaining: 2.69s\n",
      "70:\tlearn: 1586.9468962\ttotal: 5.44s\tremaining: 1.92s\n",
      "80:\tlearn: 1564.0064689\ttotal: 6.18s\tremaining: 1.15s\n",
      "90:\tlearn: 1544.0112289\ttotal: 6.95s\tremaining: 382ms\n",
      "95:\tlearn: 1534.6836684\ttotal: 7.32s\tremaining: 0us\n",
      "Learning rate set to 0.5\n",
      "0:\tlearn: 3149.8174657\ttotal: 91.5ms\tremaining: 8.79s\n",
      "10:\tlearn: 1891.3275843\ttotal: 888ms\tremaining: 6.94s\n",
      "20:\tlearn: 1794.4630878\ttotal: 1.65s\tremaining: 5.99s\n",
      "30:\tlearn: 1740.7020962\ttotal: 2.42s\tremaining: 5.14s\n",
      "40:\tlearn: 1690.3392770\ttotal: 3.19s\tremaining: 4.35s\n",
      "50:\tlearn: 1657.8879759\ttotal: 3.95s\tremaining: 3.56s\n",
      "60:\tlearn: 1620.4658473\ttotal: 4.72s\tremaining: 2.79s\n",
      "70:\tlearn: 1591.8667549\ttotal: 5.47s\tremaining: 2s\n",
      "80:\tlearn: 1571.4070422\ttotal: 6.22s\tremaining: 1.23s\n",
      "90:\tlearn: 1549.2983460\ttotal: 6.97s\tremaining: 460ms\n",
      "96:\tlearn: 1533.3584123\ttotal: 7.43s\tremaining: 0us\n",
      "Learning rate set to 0.5\n",
      "0:\tlearn: 3137.7899746\ttotal: 82.4ms\tremaining: 7.91s\n",
      "10:\tlearn: 1884.2320978\ttotal: 874ms\tremaining: 6.83s\n",
      "20:\tlearn: 1783.9677023\ttotal: 1.64s\tremaining: 5.94s\n",
      "30:\tlearn: 1726.0317566\ttotal: 2.51s\tremaining: 5.34s\n",
      "40:\tlearn: 1677.7854583\ttotal: 3.29s\tremaining: 4.49s\n",
      "50:\tlearn: 1644.8097744\ttotal: 4.09s\tremaining: 3.69s\n",
      "60:\tlearn: 1617.5245684\ttotal: 4.85s\tremaining: 2.86s\n",
      "70:\tlearn: 1586.9468962\ttotal: 5.61s\tremaining: 2.05s\n",
      "80:\tlearn: 1564.0064689\ttotal: 6.36s\tremaining: 1.26s\n",
      "90:\tlearn: 1544.0112289\ttotal: 7.15s\tremaining: 471ms\n",
      "96:\tlearn: 1533.2307975\ttotal: 7.64s\tremaining: 0us\n",
      "Learning rate set to 0.5\n",
      "0:\tlearn: 3149.8174657\ttotal: 87.8ms\tremaining: 8.51s\n",
      "10:\tlearn: 1891.3275843\ttotal: 875ms\tremaining: 6.92s\n",
      "20:\tlearn: 1794.4630878\ttotal: 1.64s\tremaining: 6.01s\n",
      "30:\tlearn: 1740.7020962\ttotal: 2.4s\tremaining: 5.2s\n",
      "40:\tlearn: 1690.3392770\ttotal: 3.36s\tremaining: 4.67s\n",
      "50:\tlearn: 1657.8879759\ttotal: 4.14s\tremaining: 3.82s\n",
      "60:\tlearn: 1620.4658473\ttotal: 4.91s\tremaining: 2.98s\n",
      "70:\tlearn: 1591.8667549\ttotal: 5.7s\tremaining: 2.17s\n",
      "80:\tlearn: 1571.4070422\ttotal: 6.46s\tremaining: 1.36s\n",
      "90:\tlearn: 1549.2983460\ttotal: 7.22s\tremaining: 555ms\n",
      "97:\tlearn: 1532.1460188\ttotal: 7.76s\tremaining: 0us\n",
      "Learning rate set to 0.5\n",
      "0:\tlearn: 3137.7899746\ttotal: 82.8ms\tremaining: 8.03s\n",
      "10:\tlearn: 1884.2320978\ttotal: 863ms\tremaining: 6.82s\n",
      "20:\tlearn: 1783.9677023\ttotal: 1.61s\tremaining: 5.91s\n",
      "30:\tlearn: 1726.0317566\ttotal: 2.36s\tremaining: 5.11s\n",
      "40:\tlearn: 1677.7854583\ttotal: 3.12s\tremaining: 4.33s\n",
      "50:\tlearn: 1644.8097744\ttotal: 3.9s\tremaining: 3.59s\n",
      "60:\tlearn: 1617.5245684\ttotal: 4.67s\tremaining: 2.83s\n",
      "70:\tlearn: 1586.9468962\ttotal: 5.56s\tremaining: 2.12s\n",
      "80:\tlearn: 1564.0064689\ttotal: 6.33s\tremaining: 1.33s\n",
      "90:\tlearn: 1544.0112289\ttotal: 7.11s\tremaining: 547ms\n",
      "97:\tlearn: 1532.3981019\ttotal: 7.68s\tremaining: 0us\n",
      "Learning rate set to 0.5\n",
      "0:\tlearn: 3149.8174657\ttotal: 98.9ms\tremaining: 9.69s\n",
      "10:\tlearn: 1891.3275843\ttotal: 1s\tremaining: 8.02s\n",
      "20:\tlearn: 1794.4630878\ttotal: 1.98s\tremaining: 7.35s\n",
      "30:\tlearn: 1740.7020962\ttotal: 2.79s\tremaining: 6.13s\n",
      "40:\tlearn: 1690.3392770\ttotal: 3.59s\tremaining: 5.08s\n",
      "50:\tlearn: 1657.8879759\ttotal: 4.42s\tremaining: 4.16s\n",
      "60:\tlearn: 1620.4658473\ttotal: 5.27s\tremaining: 3.28s\n",
      "70:\tlearn: 1591.8667549\ttotal: 6.5s\tremaining: 2.56s\n",
      "80:\tlearn: 1571.4070422\ttotal: 7.56s\tremaining: 1.68s\n",
      "90:\tlearn: 1549.2983460\ttotal: 8.39s\tremaining: 737ms\n",
      "98:\tlearn: 1531.0574544\ttotal: 9.05s\tremaining: 0us\n",
      "Learning rate set to 0.5\n",
      "0:\tlearn: 3137.7899746\ttotal: 81.3ms\tremaining: 7.97s\n",
      "10:\tlearn: 1884.2320978\ttotal: 864ms\tremaining: 6.91s\n",
      "20:\tlearn: 1783.9677023\ttotal: 1.65s\tremaining: 6.11s\n",
      "30:\tlearn: 1726.0317566\ttotal: 2.41s\tremaining: 5.28s\n",
      "40:\tlearn: 1677.7854583\ttotal: 3.16s\tremaining: 4.47s\n",
      "50:\tlearn: 1644.8097744\ttotal: 3.93s\tremaining: 3.7s\n",
      "60:\tlearn: 1617.5245684\ttotal: 4.69s\tremaining: 2.92s\n",
      "70:\tlearn: 1586.9468962\ttotal: 5.46s\tremaining: 2.15s\n",
      "80:\tlearn: 1564.0064689\ttotal: 6.22s\tremaining: 1.38s\n",
      "90:\tlearn: 1544.0112289\ttotal: 6.98s\tremaining: 614ms\n",
      "98:\tlearn: 1530.3523316\ttotal: 7.59s\tremaining: 0us\n",
      "Learning rate set to 0.5\n",
      "0:\tlearn: 3149.8174657\ttotal: 86.9ms\tremaining: 8.6s\n",
      "10:\tlearn: 1891.3275843\ttotal: 874ms\tremaining: 7.07s\n",
      "20:\tlearn: 1794.4630878\ttotal: 1.64s\tremaining: 6.18s\n",
      "30:\tlearn: 1740.7020962\ttotal: 2.42s\tremaining: 5.39s\n",
      "40:\tlearn: 1690.3392770\ttotal: 3.19s\tremaining: 4.59s\n",
      "50:\tlearn: 1657.8879759\ttotal: 3.96s\tremaining: 3.8s\n",
      "60:\tlearn: 1620.4658473\ttotal: 4.73s\tremaining: 3.02s\n",
      "70:\tlearn: 1591.8667549\ttotal: 5.5s\tremaining: 2.25s\n",
      "80:\tlearn: 1571.4070422\ttotal: 6.26s\tremaining: 1.47s\n",
      "90:\tlearn: 1549.2983460\ttotal: 7.03s\tremaining: 695ms\n",
      "99:\tlearn: 1527.9323628\ttotal: 7.72s\tremaining: 0us\n",
      "Learning rate set to 0.5\n",
      "0:\tlearn: 3137.7899746\ttotal: 85.8ms\tremaining: 8.5s\n",
      "10:\tlearn: 1884.2320978\ttotal: 892ms\tremaining: 7.22s\n",
      "20:\tlearn: 1783.9677023\ttotal: 1.66s\tremaining: 6.26s\n",
      "30:\tlearn: 1726.0317566\ttotal: 2.43s\tremaining: 5.42s\n",
      "40:\tlearn: 1677.7854583\ttotal: 3.19s\tremaining: 4.6s\n",
      "50:\tlearn: 1644.8097744\ttotal: 3.97s\tremaining: 3.81s\n",
      "60:\tlearn: 1617.5245684\ttotal: 4.74s\tremaining: 3.03s\n",
      "70:\tlearn: 1586.9468962\ttotal: 5.52s\tremaining: 2.25s\n",
      "80:\tlearn: 1564.0064689\ttotal: 6.29s\tremaining: 1.47s\n",
      "90:\tlearn: 1544.0112289\ttotal: 7.47s\tremaining: 739ms\n",
      "99:\tlearn: 1526.6169498\ttotal: 8.72s\tremaining: 0us\n",
      "Learning rate set to 0.5\n",
      "0:\tlearn: 3149.8174657\ttotal: 149ms\tremaining: 14.9s\n",
      "10:\tlearn: 1891.3275843\ttotal: 1.48s\tremaining: 12.1s\n",
      "20:\tlearn: 1794.4630878\ttotal: 2.76s\tremaining: 10.5s\n",
      "30:\tlearn: 1740.7020962\ttotal: 4.04s\tremaining: 9.12s\n",
      "40:\tlearn: 1690.3392770\ttotal: 5.33s\tremaining: 7.8s\n",
      "50:\tlearn: 1657.8879759\ttotal: 6.6s\tremaining: 6.47s\n",
      "60:\tlearn: 1620.4658473\ttotal: 7.87s\tremaining: 5.16s\n",
      "70:\tlearn: 1591.8667549\ttotal: 9.15s\tremaining: 3.86s\n",
      "80:\tlearn: 1571.4070422\ttotal: 10.4s\tremaining: 2.57s\n",
      "90:\tlearn: 1549.2983460\ttotal: 11.7s\tremaining: 1.28s\n",
      "100:\tlearn: 1525.4989645\ttotal: 13s\tremaining: 0us\n",
      "Learning rate set to 0.5\n",
      "0:\tlearn: 3137.7899746\ttotal: 81.7ms\tremaining: 8.17s\n",
      "10:\tlearn: 1884.2320978\ttotal: 858ms\tremaining: 7.02s\n",
      "20:\tlearn: 1783.9677023\ttotal: 1.62s\tremaining: 6.17s\n",
      "30:\tlearn: 1726.0317566\ttotal: 2.38s\tremaining: 5.37s\n",
      "40:\tlearn: 1677.7854583\ttotal: 3.15s\tremaining: 4.6s\n",
      "50:\tlearn: 1644.8097744\ttotal: 3.92s\tremaining: 3.84s\n",
      "60:\tlearn: 1617.5245684\ttotal: 4.67s\tremaining: 3.06s\n",
      "70:\tlearn: 1586.9468962\ttotal: 5.45s\tremaining: 2.3s\n",
      "80:\tlearn: 1564.0064689\ttotal: 6.26s\tremaining: 1.55s\n",
      "90:\tlearn: 1544.0112289\ttotal: 7.08s\tremaining: 778ms\n",
      "100:\tlearn: 1524.9000188\ttotal: 7.86s\tremaining: 0us\n",
      "Learning rate set to 0.5\n",
      "0:\tlearn: 3149.8174657\ttotal: 90ms\tremaining: 9.09s\n",
      "10:\tlearn: 1891.3275843\ttotal: 893ms\tremaining: 7.38s\n",
      "20:\tlearn: 1794.4630878\ttotal: 1.68s\tremaining: 6.48s\n",
      "30:\tlearn: 1740.7020962\ttotal: 2.46s\tremaining: 5.63s\n",
      "40:\tlearn: 1690.3392770\ttotal: 3.26s\tremaining: 4.85s\n",
      "50:\tlearn: 1657.8879759\ttotal: 4.06s\tremaining: 4.06s\n",
      "60:\tlearn: 1620.4658473\ttotal: 4.83s\tremaining: 3.25s\n",
      "70:\tlearn: 1591.8667549\ttotal: 5.61s\tremaining: 2.45s\n",
      "80:\tlearn: 1571.4070422\ttotal: 6.39s\tremaining: 1.66s\n",
      "90:\tlearn: 1549.2983460\ttotal: 7.16s\tremaining: 866ms\n",
      "100:\tlearn: 1525.4989645\ttotal: 7.96s\tremaining: 78.8ms\n",
      "101:\tlearn: 1524.4733136\ttotal: 8.04s\tremaining: 0us\n",
      "Learning rate set to 0.5\n",
      "0:\tlearn: 3137.7899746\ttotal: 83.3ms\tremaining: 8.41s\n",
      "10:\tlearn: 1884.2320978\ttotal: 1.05s\tremaining: 8.68s\n",
      "20:\tlearn: 1783.9677023\ttotal: 1.83s\tremaining: 7.06s\n",
      "30:\tlearn: 1726.0317566\ttotal: 2.69s\tremaining: 6.17s\n",
      "40:\tlearn: 1677.7854583\ttotal: 3.46s\tremaining: 5.15s\n",
      "50:\tlearn: 1644.8097744\ttotal: 4.24s\tremaining: 4.24s\n",
      "60:\tlearn: 1617.5245684\ttotal: 5.01s\tremaining: 3.37s\n",
      "70:\tlearn: 1586.9468962\ttotal: 5.76s\tremaining: 2.52s\n",
      "80:\tlearn: 1564.0064689\ttotal: 6.57s\tremaining: 1.7s\n",
      "90:\tlearn: 1544.0112289\ttotal: 7.44s\tremaining: 899ms\n",
      "100:\tlearn: 1524.9000188\ttotal: 8.67s\tremaining: 85.8ms\n",
      "101:\tlearn: 1521.7755255\ttotal: 8.75s\tremaining: 0us\n",
      "Learning rate set to 0.5\n",
      "0:\tlearn: 3149.8174657\ttotal: 89.5ms\tremaining: 9.13s\n",
      "10:\tlearn: 1891.3275843\ttotal: 897ms\tremaining: 7.5s\n",
      "20:\tlearn: 1794.4630878\ttotal: 1.79s\tremaining: 7s\n",
      "30:\tlearn: 1740.7020962\ttotal: 3.11s\tremaining: 7.23s\n",
      "40:\tlearn: 1690.3392770\ttotal: 3.9s\tremaining: 5.9s\n",
      "50:\tlearn: 1657.8879759\ttotal: 4.68s\tremaining: 4.77s\n",
      "60:\tlearn: 1620.4658473\ttotal: 5.49s\tremaining: 3.78s\n",
      "70:\tlearn: 1591.8667549\ttotal: 6.29s\tremaining: 2.83s\n",
      "80:\tlearn: 1571.4070422\ttotal: 7.07s\tremaining: 1.92s\n",
      "90:\tlearn: 1549.2983460\ttotal: 7.85s\tremaining: 1.03s\n",
      "100:\tlearn: 1525.4989645\ttotal: 8.67s\tremaining: 172ms\n",
      "102:\tlearn: 1522.9453964\ttotal: 8.83s\tremaining: 0us\n",
      "Learning rate set to 0.5\n",
      "0:\tlearn: 3137.7899746\ttotal: 82.2ms\tremaining: 8.39s\n",
      "10:\tlearn: 1884.2320978\ttotal: 891ms\tremaining: 7.45s\n",
      "20:\tlearn: 1783.9677023\ttotal: 1.74s\tremaining: 6.8s\n",
      "30:\tlearn: 1726.0317566\ttotal: 2.94s\tremaining: 6.82s\n",
      "40:\tlearn: 1677.7854583\ttotal: 4.2s\tremaining: 6.34s\n",
      "50:\tlearn: 1644.8097744\ttotal: 5.5s\tremaining: 5.61s\n",
      "60:\tlearn: 1617.5245684\ttotal: 6.54s\tremaining: 4.5s\n",
      "70:\tlearn: 1586.9468962\ttotal: 7.35s\tremaining: 3.31s\n",
      "80:\tlearn: 1564.0064689\ttotal: 8.14s\tremaining: 2.21s\n",
      "90:\tlearn: 1544.0112289\ttotal: 8.92s\tremaining: 1.18s\n",
      "100:\tlearn: 1524.9000188\ttotal: 10.1s\tremaining: 200ms\n",
      "102:\tlearn: 1519.9477186\ttotal: 10.4s\tremaining: 0us\n",
      "Learning rate set to 0.5\n",
      "0:\tlearn: 3149.8174657\ttotal: 156ms\tremaining: 16s\n",
      "10:\tlearn: 1891.3275843\ttotal: 1.1s\tremaining: 9.35s\n",
      "20:\tlearn: 1794.4630878\ttotal: 2.09s\tremaining: 8.25s\n",
      "30:\tlearn: 1740.7020962\ttotal: 2.98s\tremaining: 7.02s\n",
      "40:\tlearn: 1690.3392770\ttotal: 4.21s\tremaining: 6.46s\n",
      "50:\tlearn: 1657.8879759\ttotal: 5.12s\tremaining: 5.32s\n",
      "60:\tlearn: 1620.4658473\ttotal: 5.92s\tremaining: 4.17s\n",
      "70:\tlearn: 1591.8667549\ttotal: 6.71s\tremaining: 3.12s\n",
      "80:\tlearn: 1571.4070422\ttotal: 7.49s\tremaining: 2.13s\n",
      "90:\tlearn: 1549.2983460\ttotal: 8.28s\tremaining: 1.18s\n",
      "100:\tlearn: 1525.4989645\ttotal: 9.08s\tremaining: 270ms\n",
      "103:\tlearn: 1521.2334546\ttotal: 9.31s\tremaining: 0us\n",
      "Learning rate set to 0.5\n",
      "0:\tlearn: 3137.7899746\ttotal: 83.3ms\tremaining: 8.58s\n",
      "10:\tlearn: 1884.2320978\ttotal: 887ms\tremaining: 7.5s\n",
      "20:\tlearn: 1783.9677023\ttotal: 1.67s\tremaining: 6.58s\n",
      "30:\tlearn: 1726.0317566\ttotal: 2.46s\tremaining: 5.79s\n",
      "40:\tlearn: 1677.7854583\ttotal: 3.25s\tremaining: 4.99s\n",
      "50:\tlearn: 1644.8097744\ttotal: 4.1s\tremaining: 4.26s\n",
      "60:\tlearn: 1617.5245684\ttotal: 4.91s\tremaining: 3.46s\n",
      "70:\tlearn: 1586.9468962\ttotal: 5.76s\tremaining: 2.68s\n",
      "80:\tlearn: 1564.0064689\ttotal: 6.8s\tremaining: 1.93s\n",
      "90:\tlearn: 1544.0112289\ttotal: 7.59s\tremaining: 1.08s\n",
      "100:\tlearn: 1524.9000188\ttotal: 8.37s\tremaining: 249ms\n",
      "103:\tlearn: 1517.4298113\ttotal: 8.6s\tremaining: 0us\n",
      "Learning rate set to 0.5\n",
      "0:\tlearn: 3149.8174657\ttotal: 96.3ms\tremaining: 10s\n",
      "10:\tlearn: 1891.3275843\ttotal: 1.07s\tremaining: 9.12s\n",
      "20:\tlearn: 1794.4630878\ttotal: 2.48s\tremaining: 9.91s\n",
      "30:\tlearn: 1740.7020962\ttotal: 3.78s\tremaining: 9.02s\n",
      "40:\tlearn: 1690.3392770\ttotal: 5.08s\tremaining: 7.94s\n",
      "50:\tlearn: 1657.8879759\ttotal: 6.39s\tremaining: 6.76s\n",
      "60:\tlearn: 1620.4658473\ttotal: 7.68s\tremaining: 5.54s\n",
      "70:\tlearn: 1591.8667549\ttotal: 9s\tremaining: 4.31s\n",
      "80:\tlearn: 1571.4070422\ttotal: 10.3s\tremaining: 3.06s\n",
      "90:\tlearn: 1549.2983460\ttotal: 11.6s\tremaining: 1.79s\n",
      "100:\tlearn: 1525.4989645\ttotal: 13s\tremaining: 516ms\n",
      "104:\tlearn: 1519.0608597\ttotal: 13.6s\tremaining: 0us\n",
      "Learning rate set to 0.5\n",
      "0:\tlearn: 3137.7899746\ttotal: 139ms\tremaining: 14.5s\n",
      "10:\tlearn: 1884.2320978\ttotal: 1.49s\tremaining: 12.7s\n",
      "20:\tlearn: 1783.9677023\ttotal: 2.79s\tremaining: 11.1s\n",
      "30:\tlearn: 1726.0317566\ttotal: 3.98s\tremaining: 9.49s\n",
      "40:\tlearn: 1677.7854583\ttotal: 4.75s\tremaining: 7.42s\n",
      "50:\tlearn: 1644.8097744\ttotal: 5.55s\tremaining: 5.88s\n",
      "60:\tlearn: 1617.5245684\ttotal: 6.37s\tremaining: 4.6s\n",
      "70:\tlearn: 1586.9468962\ttotal: 7.16s\tremaining: 3.43s\n",
      "80:\tlearn: 1564.0064689\ttotal: 7.97s\tremaining: 2.36s\n",
      "90:\tlearn: 1544.0112289\ttotal: 8.76s\tremaining: 1.35s\n",
      "100:\tlearn: 1524.9000188\ttotal: 9.56s\tremaining: 379ms\n",
      "104:\tlearn: 1514.4625937\ttotal: 9.88s\tremaining: 0us\n",
      "Learning rate set to 0.5\n",
      "0:\tlearn: 3149.8174657\ttotal: 152ms\tremaining: 15.9s\n",
      "10:\tlearn: 1891.3275843\ttotal: 1.52s\tremaining: 13.1s\n",
      "20:\tlearn: 1794.4630878\ttotal: 2.88s\tremaining: 11.7s\n",
      "30:\tlearn: 1740.7020962\ttotal: 4.21s\tremaining: 10.2s\n",
      "40:\tlearn: 1690.3392770\ttotal: 5.7s\tremaining: 9.04s\n",
      "50:\tlearn: 1657.8879759\ttotal: 7.06s\tremaining: 7.61s\n",
      "60:\tlearn: 1620.4658473\ttotal: 8.41s\tremaining: 6.2s\n",
      "70:\tlearn: 1591.8667549\ttotal: 9.74s\tremaining: 4.8s\n",
      "80:\tlearn: 1571.4070422\ttotal: 11.2s\tremaining: 3.44s\n",
      "90:\tlearn: 1549.2983460\ttotal: 12.5s\tremaining: 2.06s\n",
      "100:\tlearn: 1525.4989645\ttotal: 13.8s\tremaining: 685ms\n",
      "105:\tlearn: 1516.4968063\ttotal: 14.5s\tremaining: 0us\n",
      "Learning rate set to 0.5\n",
      "0:\tlearn: 3137.7899746\ttotal: 86.8ms\tremaining: 9.12s\n",
      "10:\tlearn: 1884.2320978\ttotal: 896ms\tremaining: 7.74s\n",
      "20:\tlearn: 1783.9677023\ttotal: 1.68s\tremaining: 6.81s\n",
      "30:\tlearn: 1726.0317566\ttotal: 2.5s\tremaining: 6.04s\n",
      "40:\tlearn: 1677.7854583\ttotal: 3.3s\tremaining: 5.23s\n",
      "50:\tlearn: 1644.8097744\ttotal: 4.09s\tremaining: 4.42s\n",
      "60:\tlearn: 1617.5245684\ttotal: 4.87s\tremaining: 3.6s\n",
      "70:\tlearn: 1586.9468962\ttotal: 5.77s\tremaining: 2.85s\n",
      "80:\tlearn: 1564.0064689\ttotal: 6.57s\tremaining: 2.03s\n",
      "90:\tlearn: 1544.0112289\ttotal: 7.37s\tremaining: 1.21s\n",
      "100:\tlearn: 1524.9000188\ttotal: 8.17s\tremaining: 405ms\n",
      "105:\tlearn: 1512.6640794\ttotal: 8.58s\tremaining: 0us\n",
      "Learning rate set to 0.5\n",
      "0:\tlearn: 3149.8174657\ttotal: 87.6ms\tremaining: 9.29s\n",
      "10:\tlearn: 1891.3275843\ttotal: 936ms\tremaining: 8.17s\n",
      "20:\tlearn: 1794.4630878\ttotal: 1.74s\tremaining: 7.11s\n",
      "30:\tlearn: 1740.7020962\ttotal: 2.52s\tremaining: 6.19s\n",
      "40:\tlearn: 1690.3392770\ttotal: 3.35s\tremaining: 5.4s\n",
      "50:\tlearn: 1657.8879759\ttotal: 4.18s\tremaining: 4.59s\n",
      "60:\tlearn: 1620.4658473\ttotal: 5.01s\tremaining: 3.78s\n",
      "70:\tlearn: 1591.8667549\ttotal: 5.79s\tremaining: 2.93s\n",
      "80:\tlearn: 1571.4070422\ttotal: 6.57s\tremaining: 2.11s\n",
      "90:\tlearn: 1549.2983460\ttotal: 7.39s\tremaining: 1.3s\n",
      "100:\tlearn: 1525.4989645\ttotal: 8.29s\tremaining: 492ms\n",
      "106:\tlearn: 1514.0928627\ttotal: 8.76s\tremaining: 0us\n",
      "Learning rate set to 0.5\n",
      "0:\tlearn: 3137.7899746\ttotal: 151ms\tremaining: 16s\n",
      "10:\tlearn: 1884.2320978\ttotal: 1.21s\tremaining: 10.6s\n",
      "20:\tlearn: 1783.9677023\ttotal: 1.98s\tremaining: 8.13s\n",
      "30:\tlearn: 1726.0317566\ttotal: 2.77s\tremaining: 6.79s\n",
      "40:\tlearn: 1677.7854583\ttotal: 3.53s\tremaining: 5.69s\n",
      "50:\tlearn: 1644.8097744\ttotal: 4.32s\tremaining: 4.75s\n",
      "60:\tlearn: 1617.5245684\ttotal: 5.18s\tremaining: 3.9s\n",
      "70:\tlearn: 1586.9468962\ttotal: 5.98s\tremaining: 3.03s\n",
      "80:\tlearn: 1564.0064689\ttotal: 6.74s\tremaining: 2.16s\n",
      "90:\tlearn: 1544.0112289\ttotal: 7.51s\tremaining: 1.32s\n",
      "100:\tlearn: 1524.9000188\ttotal: 8.32s\tremaining: 494ms\n",
      "106:\tlearn: 1511.0582848\ttotal: 8.81s\tremaining: 0us\n",
      "Learning rate set to 0.5\n",
      "0:\tlearn: 3149.8174657\ttotal: 97.6ms\tremaining: 10.4s\n",
      "10:\tlearn: 1891.3275843\ttotal: 940ms\tremaining: 8.29s\n",
      "20:\tlearn: 1794.4630878\ttotal: 1.76s\tremaining: 7.31s\n",
      "30:\tlearn: 1740.7020962\ttotal: 2.56s\tremaining: 6.37s\n",
      "40:\tlearn: 1690.3392770\ttotal: 3.37s\tremaining: 5.51s\n",
      "50:\tlearn: 1657.8879759\ttotal: 4.21s\tremaining: 4.71s\n",
      "60:\tlearn: 1620.4658473\ttotal: 5.04s\tremaining: 3.88s\n",
      "70:\tlearn: 1591.8667549\ttotal: 5.84s\tremaining: 3.04s\n",
      "80:\tlearn: 1571.4070422\ttotal: 6.63s\tremaining: 2.21s\n",
      "90:\tlearn: 1549.2983460\ttotal: 7.44s\tremaining: 1.39s\n",
      "100:\tlearn: 1525.4989645\ttotal: 8.22s\tremaining: 570ms\n",
      "107:\tlearn: 1512.9271928\ttotal: 8.94s\tremaining: 0us\n",
      "Learning rate set to 0.5\n",
      "0:\tlearn: 3137.7899746\ttotal: 136ms\tremaining: 14.6s\n",
      "10:\tlearn: 1884.2320978\ttotal: 1.47s\tremaining: 13s\n",
      "20:\tlearn: 1783.9677023\ttotal: 2.8s\tremaining: 11.6s\n",
      "30:\tlearn: 1726.0317566\ttotal: 4.12s\tremaining: 10.2s\n",
      "40:\tlearn: 1677.7854583\ttotal: 5.44s\tremaining: 8.9s\n",
      "50:\tlearn: 1644.8097744\ttotal: 6.44s\tremaining: 7.19s\n",
      "60:\tlearn: 1617.5245684\ttotal: 7.23s\tremaining: 5.57s\n",
      "70:\tlearn: 1586.9468962\ttotal: 8.01s\tremaining: 4.17s\n",
      "80:\tlearn: 1564.0064689\ttotal: 8.8s\tremaining: 2.93s\n",
      "90:\tlearn: 1544.0112289\ttotal: 9.56s\tremaining: 1.78s\n",
      "100:\tlearn: 1524.9000188\ttotal: 10.3s\tremaining: 717ms\n",
      "107:\tlearn: 1509.7231635\ttotal: 10.9s\tremaining: 0us\n",
      "Learning rate set to 0.5\n",
      "0:\tlearn: 3149.8174657\ttotal: 87.6ms\tremaining: 9.46s\n",
      "10:\tlearn: 1891.3275843\ttotal: 886ms\tremaining: 7.89s\n",
      "20:\tlearn: 1794.4630878\ttotal: 1.68s\tremaining: 7.03s\n",
      "30:\tlearn: 1740.7020962\ttotal: 2.46s\tremaining: 6.18s\n",
      "40:\tlearn: 1690.3392770\ttotal: 3.23s\tremaining: 5.35s\n",
      "50:\tlearn: 1657.8879759\ttotal: 3.99s\tremaining: 4.54s\n",
      "60:\tlearn: 1620.4658473\ttotal: 4.76s\tremaining: 3.74s\n",
      "70:\tlearn: 1591.8667549\ttotal: 5.54s\tremaining: 2.96s\n",
      "80:\tlearn: 1571.4070422\ttotal: 6.3s\tremaining: 2.18s\n",
      "90:\tlearn: 1549.2983460\ttotal: 7.06s\tremaining: 1.4s\n",
      "100:\tlearn: 1525.4989645\ttotal: 7.84s\tremaining: 621ms\n",
      "108:\tlearn: 1510.6294874\ttotal: 8.46s\tremaining: 0us\n",
      "Learning rate set to 0.5\n",
      "0:\tlearn: 3137.7899746\ttotal: 83.6ms\tremaining: 9.03s\n",
      "10:\tlearn: 1884.2320978\ttotal: 880ms\tremaining: 7.84s\n",
      "20:\tlearn: 1783.9677023\ttotal: 1.64s\tremaining: 6.89s\n",
      "30:\tlearn: 1726.0317566\ttotal: 2.42s\tremaining: 6.1s\n",
      "40:\tlearn: 1677.7854583\ttotal: 3.19s\tremaining: 5.29s\n",
      "50:\tlearn: 1644.8097744\ttotal: 3.97s\tremaining: 4.51s\n",
      "60:\tlearn: 1617.5245684\ttotal: 4.75s\tremaining: 3.73s\n",
      "70:\tlearn: 1586.9468962\ttotal: 5.53s\tremaining: 2.96s\n",
      "80:\tlearn: 1564.0064689\ttotal: 6.3s\tremaining: 2.18s\n",
      "90:\tlearn: 1544.0112289\ttotal: 7.07s\tremaining: 1.4s\n",
      "100:\tlearn: 1524.9000188\ttotal: 7.84s\tremaining: 621ms\n",
      "108:\tlearn: 1507.4061758\ttotal: 8.46s\tremaining: 0us\n",
      "Learning rate set to 0.5\n",
      "0:\tlearn: 3149.8174657\ttotal: 89.5ms\tremaining: 9.75s\n",
      "10:\tlearn: 1891.3275843\ttotal: 912ms\tremaining: 8.21s\n",
      "20:\tlearn: 1794.4630878\ttotal: 1.71s\tremaining: 7.25s\n",
      "30:\tlearn: 1740.7020962\ttotal: 2.55s\tremaining: 6.5s\n",
      "40:\tlearn: 1690.3392770\ttotal: 3.51s\tremaining: 5.91s\n",
      "50:\tlearn: 1657.8879759\ttotal: 4.28s\tremaining: 4.95s\n",
      "60:\tlearn: 1620.4658473\ttotal: 5.03s\tremaining: 4.04s\n",
      "70:\tlearn: 1591.8667549\ttotal: 5.79s\tremaining: 3.18s\n",
      "80:\tlearn: 1571.4070422\ttotal: 6.53s\tremaining: 2.34s\n",
      "90:\tlearn: 1549.2983460\ttotal: 7.29s\tremaining: 1.52s\n",
      "100:\tlearn: 1525.4989645\ttotal: 8.06s\tremaining: 718ms\n",
      "109:\tlearn: 1508.9349846\ttotal: 8.73s\tremaining: 0us\n",
      "Learning rate set to 0.5\n",
      "0:\tlearn: 3137.7899746\ttotal: 81.4ms\tremaining: 8.87s\n",
      "10:\tlearn: 1884.2320978\ttotal: 858ms\tremaining: 7.72s\n",
      "20:\tlearn: 1783.9677023\ttotal: 1.61s\tremaining: 6.85s\n",
      "30:\tlearn: 1726.0317566\ttotal: 2.38s\tremaining: 6.05s\n",
      "40:\tlearn: 1677.7854583\ttotal: 3.13s\tremaining: 5.28s\n",
      "50:\tlearn: 1644.8097744\ttotal: 3.9s\tremaining: 4.51s\n",
      "60:\tlearn: 1617.5245684\ttotal: 4.65s\tremaining: 3.74s\n",
      "70:\tlearn: 1586.9468962\ttotal: 5.42s\tremaining: 2.98s\n",
      "80:\tlearn: 1564.0064689\ttotal: 6.18s\tremaining: 2.21s\n",
      "90:\tlearn: 1544.0112289\ttotal: 6.96s\tremaining: 1.45s\n",
      "100:\tlearn: 1524.9000188\ttotal: 7.77s\tremaining: 693ms\n",
      "109:\tlearn: 1506.3992194\ttotal: 8.47s\tremaining: 0us\n"
     ]
    }
   ],
   "source": [
    "iteration_it = []\n",
    "score_it = []\n",
    "score_mean_it = []\n",
    "\n",
    "for iteration in range(10, 111, 1):\n",
    "    cat_model = CatBoostRegressor(loss_function=\"RMSE\", iterations=iteration, depth=10, verbose=10, cat_features=categorical)\n",
    "    cat_cv = cross_val_score(cat_model, features_train, target_train, cv=2)\n",
    "    #print(\"Score при iterations =\", iteration, \":\", cat_cv)\n",
    "    mean_score = sum(cat_cv)/len(cat_cv)\n",
    "    #print(\"Score mean =\", mean_score)\n",
    "    #print()\n",
    "    iteration_it.append(iteration)\n",
    "    score_it.append((cat_cv))\n",
    "    score_mean_it.append(mean_score)"
   ]
  },
  {
   "cell_type": "code",
   "execution_count": 34,
   "metadata": {},
   "outputs": [
    {
     "data": {
      "image/png": "[encoded data removed]",
      "text/plain": [
       "<Figure size 432x288 with 1 Axes>"
      ]
     },
     "metadata": {},
     "output_type": "display_data"
    }
   ],
   "source": [
    "df_results_iterations = pd.DataFrame({'iteration':iteration_it, 'score':score_mean_it})\n",
    "#display(df_results)\n",
    "\n",
    "df_results_iterations.plot(x = 'iteration', y = 'score')\n",
    "plt.ylim(0.7, 0.9)\n",
    "plt.show()"
   ]
  },
  {
   "cell_type": "markdown",
   "metadata": {},
   "source": [
    "Теперь рассмотрим результаты работы при изменении гиперпараметра depth"
   ]
  },
  {
   "cell_type": "code",
   "execution_count": 35,
   "metadata": {},
   "outputs": [
    {
     "name": "stdout",
     "output_type": "stream",
     "text": [
      "Learning rate set to 0.5\n",
      "0:\tlearn: 3998.9778204\ttotal: 25.9ms\tremaining: 492ms\n",
      "10:\tlearn: 2803.6723510\ttotal: 229ms\tremaining: 187ms\n",
      "19:\tlearn: 2567.0261892\ttotal: 386ms\tremaining: 0us\n",
      "Learning rate set to 0.5\n",
      "0:\tlearn: 3967.1993046\ttotal: 25.5ms\tremaining: 484ms\n",
      "10:\tlearn: 2785.4799466\ttotal: 224ms\tremaining: 183ms\n",
      "19:\tlearn: 2552.3320734\ttotal: 387ms\tremaining: 0us\n",
      "Learning rate set to 0.5\n",
      "0:\tlearn: 3680.6315463\ttotal: 32.2ms\tremaining: 612ms\n",
      "10:\tlearn: 2394.7360896\ttotal: 318ms\tremaining: 260ms\n",
      "19:\tlearn: 2275.6706617\ttotal: 543ms\tremaining: 0us\n",
      "Learning rate set to 0.5\n",
      "0:\tlearn: 3647.9421475\ttotal: 31.5ms\tremaining: 598ms\n",
      "10:\tlearn: 2398.6832459\ttotal: 295ms\tremaining: 242ms\n",
      "19:\tlearn: 2261.4383669\ttotal: 525ms\tremaining: 0us\n",
      "Learning rate set to 0.5\n",
      "0:\tlearn: 3550.8796137\ttotal: 37.5ms\tremaining: 712ms\n",
      "10:\tlearn: 2261.8010053\ttotal: 354ms\tremaining: 290ms\n",
      "19:\tlearn: 2141.0013876\ttotal: 614ms\tremaining: 0us\n",
      "Learning rate set to 0.5\n",
      "0:\tlearn: 3518.8745819\ttotal: 35ms\tremaining: 665ms\n",
      "10:\tlearn: 2283.2232056\ttotal: 347ms\tremaining: 284ms\n",
      "19:\tlearn: 2153.1793804\ttotal: 600ms\tremaining: 0us\n",
      "Learning rate set to 0.5\n",
      "0:\tlearn: 3435.0199346\ttotal: 40.8ms\tremaining: 776ms\n",
      "10:\tlearn: 2166.4920351\ttotal: 407ms\tremaining: 333ms\n",
      "19:\tlearn: 2067.4225725\ttotal: 716ms\tremaining: 0us\n",
      "Learning rate set to 0.5\n",
      "0:\tlearn: 3409.4506816\ttotal: 44.4ms\tremaining: 843ms\n",
      "10:\tlearn: 2156.7989830\ttotal: 427ms\tremaining: 349ms\n",
      "19:\tlearn: 2052.2606083\ttotal: 749ms\tremaining: 0us\n",
      "Learning rate set to 0.5\n",
      "0:\tlearn: 3343.5647448\ttotal: 76.9ms\tremaining: 1.46s\n",
      "10:\tlearn: 2102.7313736\ttotal: 769ms\tremaining: 629ms\n",
      "19:\tlearn: 2012.2949414\ttotal: 1.35s\tremaining: 0us\n",
      "Learning rate set to 0.5\n",
      "0:\tlearn: 3324.9190683\ttotal: 78.7ms\tremaining: 1.5s\n",
      "10:\tlearn: 2085.4977803\ttotal: 769ms\tremaining: 629ms\n",
      "19:\tlearn: 1997.1302770\ttotal: 1.36s\tremaining: 0us\n",
      "Learning rate set to 0.5\n",
      "0:\tlearn: 3293.9264110\ttotal: 85.4ms\tremaining: 1.62s\n",
      "10:\tlearn: 2043.9610285\ttotal: 672ms\tremaining: 550ms\n",
      "19:\tlearn: 1977.0459636\ttotal: 1.11s\tremaining: 0us\n",
      "Learning rate set to 0.5\n",
      "0:\tlearn: 3269.5066567\ttotal: 56.6ms\tremaining: 1.08s\n",
      "10:\tlearn: 2019.2899650\ttotal: 559ms\tremaining: 457ms\n",
      "19:\tlearn: 1948.0973960\ttotal: 977ms\tremaining: 0us\n",
      "Learning rate set to 0.5\n",
      "0:\tlearn: 3256.5841006\ttotal: 64.8ms\tremaining: 1.23s\n",
      "10:\tlearn: 2009.0455199\ttotal: 619ms\tremaining: 507ms\n",
      "19:\tlearn: 1929.6180458\ttotal: 1.08s\tremaining: 0us\n",
      "Learning rate set to 0.5\n",
      "0:\tlearn: 3234.8836192\ttotal: 60.3ms\tremaining: 1.15s\n",
      "10:\tlearn: 1984.3257003\ttotal: 676ms\tremaining: 553ms\n",
      "19:\tlearn: 1906.3867013\ttotal: 1.18s\tremaining: 0us\n",
      "Learning rate set to 0.5\n",
      "0:\tlearn: 3218.7237662\ttotal: 71.4ms\tremaining: 1.36s\n",
      "10:\tlearn: 1959.9692363\ttotal: 692ms\tremaining: 567ms\n",
      "19:\tlearn: 1881.0873618\ttotal: 1.22s\tremaining: 0us\n",
      "Learning rate set to 0.5\n",
      "0:\tlearn: 3208.9087732\ttotal: 68.2ms\tremaining: 1.29s\n",
      "10:\tlearn: 1945.8635079\ttotal: 693ms\tremaining: 567ms\n",
      "19:\tlearn: 1870.2790184\ttotal: 1.23s\tremaining: 0us\n",
      "Learning rate set to 0.5\n",
      "0:\tlearn: 3197.7693860\ttotal: 80.4ms\tremaining: 1.53s\n",
      "10:\tlearn: 1934.2040865\ttotal: 797ms\tremaining: 652ms\n",
      "19:\tlearn: 1850.3158520\ttotal: 1.46s\tremaining: 0us\n",
      "Learning rate set to 0.5\n",
      "0:\tlearn: 3164.4613730\ttotal: 75.5ms\tremaining: 1.43s\n",
      "10:\tlearn: 1908.0233649\ttotal: 786ms\tremaining: 643ms\n",
      "19:\tlearn: 1826.3557076\ttotal: 1.4s\tremaining: 0us\n",
      "Learning rate set to 0.5\n",
      "0:\tlearn: 3149.8174657\ttotal: 87.6ms\tremaining: 1.66s\n",
      "10:\tlearn: 1891.3275843\ttotal: 875ms\tremaining: 716ms\n",
      "19:\tlearn: 1799.3646916\ttotal: 1.56s\tremaining: 0us\n",
      "Learning rate set to 0.5\n",
      "0:\tlearn: 3137.7899746\ttotal: 79.9ms\tremaining: 1.52s\n",
      "10:\tlearn: 1884.2320978\ttotal: 864ms\tremaining: 707ms\n",
      "19:\tlearn: 1798.5125901\ttotal: 1.56s\tremaining: 0us\n",
      "Learning rate set to 0.5\n",
      "0:\tlearn: 3136.2517224\ttotal: 114ms\tremaining: 2.17s\n",
      "10:\tlearn: 1855.0237575\ttotal: 1.15s\tremaining: 940ms\n",
      "19:\tlearn: 1755.4380736\ttotal: 2.02s\tremaining: 0us\n",
      "Learning rate set to 0.5\n",
      "0:\tlearn: 3109.2621569\ttotal: 98.3ms\tremaining: 1.87s\n",
      "10:\tlearn: 1831.4658470\ttotal: 1.06s\tremaining: 868ms\n",
      "19:\tlearn: 1737.1145382\ttotal: 1.91s\tremaining: 0us\n",
      "Learning rate set to 0.5\n",
      "0:\tlearn: 3105.3599887\ttotal: 133ms\tremaining: 2.53s\n",
      "10:\tlearn: 1825.1789512\ttotal: 1.36s\tremaining: 1.11s\n",
      "19:\tlearn: 1724.9826973\ttotal: 2.49s\tremaining: 0us\n",
      "Learning rate set to 0.5\n",
      "0:\tlearn: 3074.2129898\ttotal: 138ms\tremaining: 2.63s\n",
      "10:\tlearn: 1796.0035995\ttotal: 1.95s\tremaining: 1.59s\n",
      "19:\tlearn: 1690.8128826\ttotal: 3.8s\tremaining: 0us\n",
      "Learning rate set to 0.5\n",
      "0:\tlearn: 3090.1456329\ttotal: 299ms\tremaining: 5.67s\n",
      "10:\tlearn: 1781.7529618\ttotal: 3.21s\tremaining: 2.63s\n",
      "19:\tlearn: 1645.1294897\ttotal: 5.8s\tremaining: 0us\n",
      "Learning rate set to 0.5\n",
      "0:\tlearn: 3068.0986629\ttotal: 189ms\tremaining: 3.59s\n",
      "10:\tlearn: 1764.6970777\ttotal: 1.95s\tremaining: 1.59s\n",
      "19:\tlearn: 1660.1850465\ttotal: 3.57s\tremaining: 0us\n",
      "Learning rate set to 0.5\n",
      "0:\tlearn: 3081.8254806\ttotal: 306ms\tremaining: 5.82s\n",
      "10:\tlearn: 1730.9912102\ttotal: 3.48s\tremaining: 2.85s\n",
      "19:\tlearn: 1603.5618148\ttotal: 6.25s\tremaining: 0us\n",
      "Learning rate set to 0.5\n",
      "0:\tlearn: 3061.9955648\ttotal: 310ms\tremaining: 5.88s\n",
      "10:\tlearn: 1730.6199738\ttotal: 3.54s\tremaining: 2.9s\n",
      "19:\tlearn: 1609.4505663\ttotal: 6.58s\tremaining: 0us\n",
      "Learning rate set to 0.5\n",
      "0:\tlearn: 3068.5612913\ttotal: 590ms\tremaining: 11.2s\n",
      "10:\tlearn: 1694.6803881\ttotal: 5.81s\tremaining: 4.75s\n",
      "19:\tlearn: 1555.2665120\ttotal: 10.5s\tremaining: 0us\n",
      "Learning rate set to 0.5\n",
      "0:\tlearn: 3056.1363981\ttotal: 576ms\tremaining: 10.9s\n",
      "10:\tlearn: 1695.6317534\ttotal: 5.85s\tremaining: 4.78s\n",
      "19:\tlearn: 1560.3717561\ttotal: 11.3s\tremaining: 0us\n",
      "Learning rate set to 0.5\n",
      "0:\tlearn: 3061.1655816\ttotal: 1.28s\tremaining: 24.3s\n",
      "10:\tlearn: 1613.6705709\ttotal: 13.1s\tremaining: 10.7s\n",
      "19:\tlearn: 1475.7203064\ttotal: 24s\tremaining: 0us\n",
      "Learning rate set to 0.5\n",
      "0:\tlearn: 3050.0268975\ttotal: 1.12s\tremaining: 21.4s\n",
      "10:\tlearn: 1642.7678900\ttotal: 12.8s\tremaining: 10.4s\n",
      "19:\tlearn: 1503.8084308\ttotal: 23.1s\tremaining: 0us\n"
     ]
    },
    {
     "name": "stderr",
     "output_type": "stream",
     "text": [
      "/opt/conda/lib/python3.9/site-packages/sklearn/model_selection/_validation.py:610: FitFailedWarning: Estimator fit failed. The score on this train-test partition for these parameters will be set to nan. Details: \n",
      "Traceback (most recent call last):\n",
      "  File \"/opt/conda/lib/python3.9/site-packages/sklearn/model_selection/_validation.py\", line 593, in _fit_and_score\n",
      "    estimator.fit(X_train, y_train, **fit_params)\n",
      "  File \"/opt/conda/lib/python3.9/site-packages/catboost/core.py\", line 5299, in fit\n",
      "    return self._fit(X, y, cat_features, None, None, None, sample_weight, None, None, None, None, baseline,\n",
      "  File \"/opt/conda/lib/python3.9/site-packages/catboost/core.py\", line 2021, in _fit\n",
      "    train_params = self._prepare_train_params(\n",
      "  File \"/opt/conda/lib/python3.9/site-packages/catboost/core.py\", line 1953, in _prepare_train_params\n",
      "    _check_train_params(params)\n",
      "  File \"_catboost.pyx\", line 5839, in _catboost._check_train_params\n",
      "  File \"_catboost.pyx\", line 5858, in _catboost._check_train_params\n",
      "_catboost.CatBoostError: catboost/private/libs/options/oblivious_tree_options.cpp:122: Maximum tree depth is 16\n",
      "\n",
      "  warnings.warn(\"Estimator fit failed. The score on this train-test\"\n",
      "/opt/conda/lib/python3.9/site-packages/sklearn/model_selection/_validation.py:610: FitFailedWarning: Estimator fit failed. The score on this train-test partition for these parameters will be set to nan. Details: \n",
      "Traceback (most recent call last):\n",
      "  File \"/opt/conda/lib/python3.9/site-packages/sklearn/model_selection/_validation.py\", line 593, in _fit_and_score\n",
      "    estimator.fit(X_train, y_train, **fit_params)\n",
      "  File \"/opt/conda/lib/python3.9/site-packages/catboost/core.py\", line 5299, in fit\n",
      "    return self._fit(X, y, cat_features, None, None, None, sample_weight, None, None, None, None, baseline,\n",
      "  File \"/opt/conda/lib/python3.9/site-packages/catboost/core.py\", line 2021, in _fit\n",
      "    train_params = self._prepare_train_params(\n",
      "  File \"/opt/conda/lib/python3.9/site-packages/catboost/core.py\", line 1953, in _prepare_train_params\n",
      "    _check_train_params(params)\n",
      "  File \"_catboost.pyx\", line 5839, in _catboost._check_train_params\n",
      "  File \"_catboost.pyx\", line 5858, in _catboost._check_train_params\n",
      "_catboost.CatBoostError: catboost/private/libs/options/oblivious_tree_options.cpp:122: Maximum tree depth is 16\n",
      "\n",
      "  warnings.warn(\"Estimator fit failed. The score on this train-test\"\n",
      "/opt/conda/lib/python3.9/site-packages/sklearn/model_selection/_validation.py:610: FitFailedWarning: Estimator fit failed. The score on this train-test partition for these parameters will be set to nan. Details: \n",
      "Traceback (most recent call last):\n",
      "  File \"/opt/conda/lib/python3.9/site-packages/sklearn/model_selection/_validation.py\", line 593, in _fit_and_score\n",
      "    estimator.fit(X_train, y_train, **fit_params)\n",
      "  File \"/opt/conda/lib/python3.9/site-packages/catboost/core.py\", line 5299, in fit\n",
      "    return self._fit(X, y, cat_features, None, None, None, sample_weight, None, None, None, None, baseline,\n",
      "  File \"/opt/conda/lib/python3.9/site-packages/catboost/core.py\", line 2021, in _fit\n",
      "    train_params = self._prepare_train_params(\n",
      "  File \"/opt/conda/lib/python3.9/site-packages/catboost/core.py\", line 1953, in _prepare_train_params\n",
      "    _check_train_params(params)\n",
      "  File \"_catboost.pyx\", line 5839, in _catboost._check_train_params\n",
      "  File \"_catboost.pyx\", line 5858, in _catboost._check_train_params\n",
      "_catboost.CatBoostError: catboost/private/libs/options/oblivious_tree_options.cpp:122: Maximum tree depth is 16\n",
      "\n",
      "  warnings.warn(\"Estimator fit failed. The score on this train-test\"\n",
      "/opt/conda/lib/python3.9/site-packages/sklearn/model_selection/_validation.py:610: FitFailedWarning: Estimator fit failed. The score on this train-test partition for these parameters will be set to nan. Details: \n",
      "Traceback (most recent call last):\n",
      "  File \"/opt/conda/lib/python3.9/site-packages/sklearn/model_selection/_validation.py\", line 593, in _fit_and_score\n",
      "    estimator.fit(X_train, y_train, **fit_params)\n",
      "  File \"/opt/conda/lib/python3.9/site-packages/catboost/core.py\", line 5299, in fit\n",
      "    return self._fit(X, y, cat_features, None, None, None, sample_weight, None, None, None, None, baseline,\n",
      "  File \"/opt/conda/lib/python3.9/site-packages/catboost/core.py\", line 2021, in _fit\n",
      "    train_params = self._prepare_train_params(\n",
      "  File \"/opt/conda/lib/python3.9/site-packages/catboost/core.py\", line 1953, in _prepare_train_params\n",
      "    _check_train_params(params)\n",
      "  File \"_catboost.pyx\", line 5839, in _catboost._check_train_params\n",
      "  File \"_catboost.pyx\", line 5858, in _catboost._check_train_params\n",
      "_catboost.CatBoostError: catboost/private/libs/options/oblivious_tree_options.cpp:122: Maximum tree depth is 16\n",
      "\n",
      "  warnings.warn(\"Estimator fit failed. The score on this train-test\"\n",
      "/opt/conda/lib/python3.9/site-packages/sklearn/model_selection/_validation.py:610: FitFailedWarning: Estimator fit failed. The score on this train-test partition for these parameters will be set to nan. Details: \n",
      "Traceback (most recent call last):\n",
      "  File \"/opt/conda/lib/python3.9/site-packages/sklearn/model_selection/_validation.py\", line 593, in _fit_and_score\n",
      "    estimator.fit(X_train, y_train, **fit_params)\n",
      "  File \"/opt/conda/lib/python3.9/site-packages/catboost/core.py\", line 5299, in fit\n",
      "    return self._fit(X, y, cat_features, None, None, None, sample_weight, None, None, None, None, baseline,\n",
      "  File \"/opt/conda/lib/python3.9/site-packages/catboost/core.py\", line 2021, in _fit\n",
      "    train_params = self._prepare_train_params(\n",
      "  File \"/opt/conda/lib/python3.9/site-packages/catboost/core.py\", line 1953, in _prepare_train_params\n",
      "    _check_train_params(params)\n",
      "  File \"_catboost.pyx\", line 5839, in _catboost._check_train_params\n",
      "  File \"_catboost.pyx\", line 5858, in _catboost._check_train_params\n",
      "_catboost.CatBoostError: catboost/private/libs/options/oblivious_tree_options.cpp:122: Maximum tree depth is 16\n",
      "\n",
      "  warnings.warn(\"Estimator fit failed. The score on this train-test\"\n",
      "/opt/conda/lib/python3.9/site-packages/sklearn/model_selection/_validation.py:610: FitFailedWarning: Estimator fit failed. The score on this train-test partition for these parameters will be set to nan. Details: \n",
      "Traceback (most recent call last):\n",
      "  File \"/opt/conda/lib/python3.9/site-packages/sklearn/model_selection/_validation.py\", line 593, in _fit_and_score\n",
      "    estimator.fit(X_train, y_train, **fit_params)\n",
      "  File \"/opt/conda/lib/python3.9/site-packages/catboost/core.py\", line 5299, in fit\n",
      "    return self._fit(X, y, cat_features, None, None, None, sample_weight, None, None, None, None, baseline,\n",
      "  File \"/opt/conda/lib/python3.9/site-packages/catboost/core.py\", line 2021, in _fit\n",
      "    train_params = self._prepare_train_params(\n",
      "  File \"/opt/conda/lib/python3.9/site-packages/catboost/core.py\", line 1953, in _prepare_train_params\n",
      "    _check_train_params(params)\n",
      "  File \"_catboost.pyx\", line 5839, in _catboost._check_train_params\n",
      "  File \"_catboost.pyx\", line 5858, in _catboost._check_train_params\n",
      "_catboost.CatBoostError: catboost/private/libs/options/oblivious_tree_options.cpp:122: Maximum tree depth is 16\n",
      "\n",
      "  warnings.warn(\"Estimator fit failed. The score on this train-test\"\n",
      "/opt/conda/lib/python3.9/site-packages/sklearn/model_selection/_validation.py:610: FitFailedWarning: Estimator fit failed. The score on this train-test partition for these parameters will be set to nan. Details: \n",
      "Traceback (most recent call last):\n",
      "  File \"/opt/conda/lib/python3.9/site-packages/sklearn/model_selection/_validation.py\", line 593, in _fit_and_score\n",
      "    estimator.fit(X_train, y_train, **fit_params)\n",
      "  File \"/opt/conda/lib/python3.9/site-packages/catboost/core.py\", line 5299, in fit\n",
      "    return self._fit(X, y, cat_features, None, None, None, sample_weight, None, None, None, None, baseline,\n",
      "  File \"/opt/conda/lib/python3.9/site-packages/catboost/core.py\", line 2021, in _fit\n",
      "    train_params = self._prepare_train_params(\n",
      "  File \"/opt/conda/lib/python3.9/site-packages/catboost/core.py\", line 1953, in _prepare_train_params\n",
      "    _check_train_params(params)\n",
      "  File \"_catboost.pyx\", line 5839, in _catboost._check_train_params\n",
      "  File \"_catboost.pyx\", line 5858, in _catboost._check_train_params\n",
      "_catboost.CatBoostError: catboost/private/libs/options/oblivious_tree_options.cpp:122: Maximum tree depth is 16\n",
      "\n",
      "  warnings.warn(\"Estimator fit failed. The score on this train-test\"\n",
      "/opt/conda/lib/python3.9/site-packages/sklearn/model_selection/_validation.py:610: FitFailedWarning: Estimator fit failed. The score on this train-test partition for these parameters will be set to nan. Details: \n",
      "Traceback (most recent call last):\n",
      "  File \"/opt/conda/lib/python3.9/site-packages/sklearn/model_selection/_validation.py\", line 593, in _fit_and_score\n",
      "    estimator.fit(X_train, y_train, **fit_params)\n",
      "  File \"/opt/conda/lib/python3.9/site-packages/catboost/core.py\", line 5299, in fit\n",
      "    return self._fit(X, y, cat_features, None, None, None, sample_weight, None, None, None, None, baseline,\n",
      "  File \"/opt/conda/lib/python3.9/site-packages/catboost/core.py\", line 2021, in _fit\n",
      "    train_params = self._prepare_train_params(\n",
      "  File \"/opt/conda/lib/python3.9/site-packages/catboost/core.py\", line 1953, in _prepare_train_params\n",
      "    _check_train_params(params)\n",
      "  File \"_catboost.pyx\", line 5839, in _catboost._check_train_params\n",
      "  File \"_catboost.pyx\", line 5858, in _catboost._check_train_params\n",
      "_catboost.CatBoostError: catboost/private/libs/options/oblivious_tree_options.cpp:122: Maximum tree depth is 16\n",
      "\n",
      "  warnings.warn(\"Estimator fit failed. The score on this train-test\"\n",
      "/opt/conda/lib/python3.9/site-packages/sklearn/model_selection/_validation.py:610: FitFailedWarning: Estimator fit failed. The score on this train-test partition for these parameters will be set to nan. Details: \n",
      "Traceback (most recent call last):\n",
      "  File \"/opt/conda/lib/python3.9/site-packages/sklearn/model_selection/_validation.py\", line 593, in _fit_and_score\n",
      "    estimator.fit(X_train, y_train, **fit_params)\n",
      "  File \"/opt/conda/lib/python3.9/site-packages/catboost/core.py\", line 5299, in fit\n",
      "    return self._fit(X, y, cat_features, None, None, None, sample_weight, None, None, None, None, baseline,\n",
      "  File \"/opt/conda/lib/python3.9/site-packages/catboost/core.py\", line 2021, in _fit\n",
      "    train_params = self._prepare_train_params(\n",
      "  File \"/opt/conda/lib/python3.9/site-packages/catboost/core.py\", line 1953, in _prepare_train_params\n",
      "    _check_train_params(params)\n",
      "  File \"_catboost.pyx\", line 5839, in _catboost._check_train_params\n",
      "  File \"_catboost.pyx\", line 5858, in _catboost._check_train_params\n",
      "_catboost.CatBoostError: catboost/private/libs/options/oblivious_tree_options.cpp:122: Maximum tree depth is 16\n",
      "\n",
      "  warnings.warn(\"Estimator fit failed. The score on this train-test\"\n",
      "/opt/conda/lib/python3.9/site-packages/sklearn/model_selection/_validation.py:610: FitFailedWarning: Estimator fit failed. The score on this train-test partition for these parameters will be set to nan. Details: \n",
      "Traceback (most recent call last):\n",
      "  File \"/opt/conda/lib/python3.9/site-packages/sklearn/model_selection/_validation.py\", line 593, in _fit_and_score\n",
      "    estimator.fit(X_train, y_train, **fit_params)\n",
      "  File \"/opt/conda/lib/python3.9/site-packages/catboost/core.py\", line 5299, in fit\n",
      "    return self._fit(X, y, cat_features, None, None, None, sample_weight, None, None, None, None, baseline,\n",
      "  File \"/opt/conda/lib/python3.9/site-packages/catboost/core.py\", line 2021, in _fit\n",
      "    train_params = self._prepare_train_params(\n",
      "  File \"/opt/conda/lib/python3.9/site-packages/catboost/core.py\", line 1953, in _prepare_train_params\n",
      "    _check_train_params(params)\n",
      "  File \"_catboost.pyx\", line 5839, in _catboost._check_train_params\n",
      "  File \"_catboost.pyx\", line 5858, in _catboost._check_train_params\n",
      "_catboost.CatBoostError: catboost/private/libs/options/oblivious_tree_options.cpp:122: Maximum tree depth is 16\n",
      "\n",
      "  warnings.warn(\"Estimator fit failed. The score on this train-test\"\n",
      "/opt/conda/lib/python3.9/site-packages/sklearn/model_selection/_validation.py:610: FitFailedWarning: Estimator fit failed. The score on this train-test partition for these parameters will be set to nan. Details: \n",
      "Traceback (most recent call last):\n",
      "  File \"/opt/conda/lib/python3.9/site-packages/sklearn/model_selection/_validation.py\", line 593, in _fit_and_score\n",
      "    estimator.fit(X_train, y_train, **fit_params)\n",
      "  File \"/opt/conda/lib/python3.9/site-packages/catboost/core.py\", line 5299, in fit\n",
      "    return self._fit(X, y, cat_features, None, None, None, sample_weight, None, None, None, None, baseline,\n",
      "  File \"/opt/conda/lib/python3.9/site-packages/catboost/core.py\", line 2021, in _fit\n",
      "    train_params = self._prepare_train_params(\n",
      "  File \"/opt/conda/lib/python3.9/site-packages/catboost/core.py\", line 1953, in _prepare_train_params\n",
      "    _check_train_params(params)\n",
      "  File \"_catboost.pyx\", line 5839, in _catboost._check_train_params\n",
      "  File \"_catboost.pyx\", line 5858, in _catboost._check_train_params\n",
      "_catboost.CatBoostError: catboost/private/libs/options/oblivious_tree_options.cpp:122: Maximum tree depth is 16\n",
      "\n",
      "  warnings.warn(\"Estimator fit failed. The score on this train-test\"\n",
      "/opt/conda/lib/python3.9/site-packages/sklearn/model_selection/_validation.py:610: FitFailedWarning: Estimator fit failed. The score on this train-test partition for these parameters will be set to nan. Details: \n",
      "Traceback (most recent call last):\n",
      "  File \"/opt/conda/lib/python3.9/site-packages/sklearn/model_selection/_validation.py\", line 593, in _fit_and_score\n",
      "    estimator.fit(X_train, y_train, **fit_params)\n",
      "  File \"/opt/conda/lib/python3.9/site-packages/catboost/core.py\", line 5299, in fit\n",
      "    return self._fit(X, y, cat_features, None, None, None, sample_weight, None, None, None, None, baseline,\n",
      "  File \"/opt/conda/lib/python3.9/site-packages/catboost/core.py\", line 2021, in _fit\n",
      "    train_params = self._prepare_train_params(\n",
      "  File \"/opt/conda/lib/python3.9/site-packages/catboost/core.py\", line 1953, in _prepare_train_params\n",
      "    _check_train_params(params)\n",
      "  File \"_catboost.pyx\", line 5839, in _catboost._check_train_params\n",
      "  File \"_catboost.pyx\", line 5858, in _catboost._check_train_params\n",
      "_catboost.CatBoostError: catboost/private/libs/options/oblivious_tree_options.cpp:122: Maximum tree depth is 16\n",
      "\n",
      "  warnings.warn(\"Estimator fit failed. The score on this train-test\"\n",
      "/opt/conda/lib/python3.9/site-packages/sklearn/model_selection/_validation.py:610: FitFailedWarning: Estimator fit failed. The score on this train-test partition for these parameters will be set to nan. Details: \n",
      "Traceback (most recent call last):\n",
      "  File \"/opt/conda/lib/python3.9/site-packages/sklearn/model_selection/_validation.py\", line 593, in _fit_and_score\n",
      "    estimator.fit(X_train, y_train, **fit_params)\n",
      "  File \"/opt/conda/lib/python3.9/site-packages/catboost/core.py\", line 5299, in fit\n",
      "    return self._fit(X, y, cat_features, None, None, None, sample_weight, None, None, None, None, baseline,\n",
      "  File \"/opt/conda/lib/python3.9/site-packages/catboost/core.py\", line 2021, in _fit\n",
      "    train_params = self._prepare_train_params(\n",
      "  File \"/opt/conda/lib/python3.9/site-packages/catboost/core.py\", line 1953, in _prepare_train_params\n",
      "    _check_train_params(params)\n",
      "  File \"_catboost.pyx\", line 5839, in _catboost._check_train_params\n",
      "  File \"_catboost.pyx\", line 5858, in _catboost._check_train_params\n",
      "_catboost.CatBoostError: catboost/private/libs/options/oblivious_tree_options.cpp:122: Maximum tree depth is 16\n",
      "\n",
      "  warnings.warn(\"Estimator fit failed. The score on this train-test\"\n",
      "/opt/conda/lib/python3.9/site-packages/sklearn/model_selection/_validation.py:610: FitFailedWarning: Estimator fit failed. The score on this train-test partition for these parameters will be set to nan. Details: \n",
      "Traceback (most recent call last):\n",
      "  File \"/opt/conda/lib/python3.9/site-packages/sklearn/model_selection/_validation.py\", line 593, in _fit_and_score\n",
      "    estimator.fit(X_train, y_train, **fit_params)\n",
      "  File \"/opt/conda/lib/python3.9/site-packages/catboost/core.py\", line 5299, in fit\n",
      "    return self._fit(X, y, cat_features, None, None, None, sample_weight, None, None, None, None, baseline,\n",
      "  File \"/opt/conda/lib/python3.9/site-packages/catboost/core.py\", line 2021, in _fit\n",
      "    train_params = self._prepare_train_params(\n",
      "  File \"/opt/conda/lib/python3.9/site-packages/catboost/core.py\", line 1953, in _prepare_train_params\n",
      "    _check_train_params(params)\n",
      "  File \"_catboost.pyx\", line 5839, in _catboost._check_train_params\n",
      "  File \"_catboost.pyx\", line 5858, in _catboost._check_train_params\n",
      "_catboost.CatBoostError: catboost/private/libs/options/oblivious_tree_options.cpp:122: Maximum tree depth is 16\n",
      "\n",
      "  warnings.warn(\"Estimator fit failed. The score on this train-test\"\n",
      "/opt/conda/lib/python3.9/site-packages/sklearn/model_selection/_validation.py:610: FitFailedWarning: Estimator fit failed. The score on this train-test partition for these parameters will be set to nan. Details: \n",
      "Traceback (most recent call last):\n",
      "  File \"/opt/conda/lib/python3.9/site-packages/sklearn/model_selection/_validation.py\", line 593, in _fit_and_score\n",
      "    estimator.fit(X_train, y_train, **fit_params)\n",
      "  File \"/opt/conda/lib/python3.9/site-packages/catboost/core.py\", line 5299, in fit\n",
      "    return self._fit(X, y, cat_features, None, None, None, sample_weight, None, None, None, None, baseline,\n",
      "  File \"/opt/conda/lib/python3.9/site-packages/catboost/core.py\", line 2021, in _fit\n",
      "    train_params = self._prepare_train_params(\n",
      "  File \"/opt/conda/lib/python3.9/site-packages/catboost/core.py\", line 1953, in _prepare_train_params\n",
      "    _check_train_params(params)\n",
      "  File \"_catboost.pyx\", line 5839, in _catboost._check_train_params\n",
      "  File \"_catboost.pyx\", line 5858, in _catboost._check_train_params\n",
      "_catboost.CatBoostError: catboost/private/libs/options/oblivious_tree_options.cpp:122: Maximum tree depth is 16\n",
      "\n",
      "  warnings.warn(\"Estimator fit failed. The score on this train-test\"\n",
      "/opt/conda/lib/python3.9/site-packages/sklearn/model_selection/_validation.py:610: FitFailedWarning: Estimator fit failed. The score on this train-test partition for these parameters will be set to nan. Details: \n",
      "Traceback (most recent call last):\n",
      "  File \"/opt/conda/lib/python3.9/site-packages/sklearn/model_selection/_validation.py\", line 593, in _fit_and_score\n",
      "    estimator.fit(X_train, y_train, **fit_params)\n",
      "  File \"/opt/conda/lib/python3.9/site-packages/catboost/core.py\", line 5299, in fit\n",
      "    return self._fit(X, y, cat_features, None, None, None, sample_weight, None, None, None, None, baseline,\n",
      "  File \"/opt/conda/lib/python3.9/site-packages/catboost/core.py\", line 2021, in _fit\n",
      "    train_params = self._prepare_train_params(\n",
      "  File \"/opt/conda/lib/python3.9/site-packages/catboost/core.py\", line 1953, in _prepare_train_params\n",
      "    _check_train_params(params)\n",
      "  File \"_catboost.pyx\", line 5839, in _catboost._check_train_params\n",
      "  File \"_catboost.pyx\", line 5858, in _catboost._check_train_params\n",
      "_catboost.CatBoostError: catboost/private/libs/options/oblivious_tree_options.cpp:122: Maximum tree depth is 16\n",
      "\n",
      "  warnings.warn(\"Estimator fit failed. The score on this train-test\"\n",
      "/opt/conda/lib/python3.9/site-packages/sklearn/model_selection/_validation.py:610: FitFailedWarning: Estimator fit failed. The score on this train-test partition for these parameters will be set to nan. Details: \n",
      "Traceback (most recent call last):\n",
      "  File \"/opt/conda/lib/python3.9/site-packages/sklearn/model_selection/_validation.py\", line 593, in _fit_and_score\n",
      "    estimator.fit(X_train, y_train, **fit_params)\n",
      "  File \"/opt/conda/lib/python3.9/site-packages/catboost/core.py\", line 5299, in fit\n",
      "    return self._fit(X, y, cat_features, None, None, None, sample_weight, None, None, None, None, baseline,\n",
      "  File \"/opt/conda/lib/python3.9/site-packages/catboost/core.py\", line 2021, in _fit\n",
      "    train_params = self._prepare_train_params(\n",
      "  File \"/opt/conda/lib/python3.9/site-packages/catboost/core.py\", line 1953, in _prepare_train_params\n",
      "    _check_train_params(params)\n",
      "  File \"_catboost.pyx\", line 5839, in _catboost._check_train_params\n",
      "  File \"_catboost.pyx\", line 5858, in _catboost._check_train_params\n",
      "_catboost.CatBoostError: catboost/private/libs/options/oblivious_tree_options.cpp:122: Maximum tree depth is 16\n",
      "\n",
      "  warnings.warn(\"Estimator fit failed. The score on this train-test\"\n",
      "/opt/conda/lib/python3.9/site-packages/sklearn/model_selection/_validation.py:610: FitFailedWarning: Estimator fit failed. The score on this train-test partition for these parameters will be set to nan. Details: \n",
      "Traceback (most recent call last):\n",
      "  File \"/opt/conda/lib/python3.9/site-packages/sklearn/model_selection/_validation.py\", line 593, in _fit_and_score\n",
      "    estimator.fit(X_train, y_train, **fit_params)\n",
      "  File \"/opt/conda/lib/python3.9/site-packages/catboost/core.py\", line 5299, in fit\n",
      "    return self._fit(X, y, cat_features, None, None, None, sample_weight, None, None, None, None, baseline,\n",
      "  File \"/opt/conda/lib/python3.9/site-packages/catboost/core.py\", line 2021, in _fit\n",
      "    train_params = self._prepare_train_params(\n",
      "  File \"/opt/conda/lib/python3.9/site-packages/catboost/core.py\", line 1953, in _prepare_train_params\n",
      "    _check_train_params(params)\n",
      "  File \"_catboost.pyx\", line 5839, in _catboost._check_train_params\n",
      "  File \"_catboost.pyx\", line 5858, in _catboost._check_train_params\n",
      "_catboost.CatBoostError: catboost/private/libs/options/oblivious_tree_options.cpp:122: Maximum tree depth is 16\n",
      "\n",
      "  warnings.warn(\"Estimator fit failed. The score on this train-test\"\n",
      "/opt/conda/lib/python3.9/site-packages/sklearn/model_selection/_validation.py:610: FitFailedWarning: Estimator fit failed. The score on this train-test partition for these parameters will be set to nan. Details: \n",
      "Traceback (most recent call last):\n",
      "  File \"/opt/conda/lib/python3.9/site-packages/sklearn/model_selection/_validation.py\", line 593, in _fit_and_score\n",
      "    estimator.fit(X_train, y_train, **fit_params)\n",
      "  File \"/opt/conda/lib/python3.9/site-packages/catboost/core.py\", line 5299, in fit\n",
      "    return self._fit(X, y, cat_features, None, None, None, sample_weight, None, None, None, None, baseline,\n",
      "  File \"/opt/conda/lib/python3.9/site-packages/catboost/core.py\", line 2021, in _fit\n",
      "    train_params = self._prepare_train_params(\n",
      "  File \"/opt/conda/lib/python3.9/site-packages/catboost/core.py\", line 1953, in _prepare_train_params\n",
      "    _check_train_params(params)\n",
      "  File \"_catboost.pyx\", line 5839, in _catboost._check_train_params\n",
      "  File \"_catboost.pyx\", line 5858, in _catboost._check_train_params\n",
      "_catboost.CatBoostError: catboost/private/libs/options/oblivious_tree_options.cpp:122: Maximum tree depth is 16\n",
      "\n",
      "  warnings.warn(\"Estimator fit failed. The score on this train-test\"\n",
      "/opt/conda/lib/python3.9/site-packages/sklearn/model_selection/_validation.py:610: FitFailedWarning: Estimator fit failed. The score on this train-test partition for these parameters will be set to nan. Details: \n",
      "Traceback (most recent call last):\n",
      "  File \"/opt/conda/lib/python3.9/site-packages/sklearn/model_selection/_validation.py\", line 593, in _fit_and_score\n",
      "    estimator.fit(X_train, y_train, **fit_params)\n",
      "  File \"/opt/conda/lib/python3.9/site-packages/catboost/core.py\", line 5299, in fit\n",
      "    return self._fit(X, y, cat_features, None, None, None, sample_weight, None, None, None, None, baseline,\n",
      "  File \"/opt/conda/lib/python3.9/site-packages/catboost/core.py\", line 2021, in _fit\n",
      "    train_params = self._prepare_train_params(\n",
      "  File \"/opt/conda/lib/python3.9/site-packages/catboost/core.py\", line 1953, in _prepare_train_params\n",
      "    _check_train_params(params)\n",
      "  File \"_catboost.pyx\", line 5839, in _catboost._check_train_params\n",
      "  File \"_catboost.pyx\", line 5858, in _catboost._check_train_params\n",
      "_catboost.CatBoostError: catboost/private/libs/options/oblivious_tree_options.cpp:122: Maximum tree depth is 16\n",
      "\n",
      "  warnings.warn(\"Estimator fit failed. The score on this train-test\"\n",
      "/opt/conda/lib/python3.9/site-packages/sklearn/model_selection/_validation.py:610: FitFailedWarning: Estimator fit failed. The score on this train-test partition for these parameters will be set to nan. Details: \n",
      "Traceback (most recent call last):\n",
      "  File \"/opt/conda/lib/python3.9/site-packages/sklearn/model_selection/_validation.py\", line 593, in _fit_and_score\n",
      "    estimator.fit(X_train, y_train, **fit_params)\n",
      "  File \"/opt/conda/lib/python3.9/site-packages/catboost/core.py\", line 5299, in fit\n",
      "    return self._fit(X, y, cat_features, None, None, None, sample_weight, None, None, None, None, baseline,\n",
      "  File \"/opt/conda/lib/python3.9/site-packages/catboost/core.py\", line 2021, in _fit\n",
      "    train_params = self._prepare_train_params(\n",
      "  File \"/opt/conda/lib/python3.9/site-packages/catboost/core.py\", line 1953, in _prepare_train_params\n",
      "    _check_train_params(params)\n",
      "  File \"_catboost.pyx\", line 5839, in _catboost._check_train_params\n",
      "  File \"_catboost.pyx\", line 5858, in _catboost._check_train_params\n",
      "_catboost.CatBoostError: catboost/private/libs/options/oblivious_tree_options.cpp:122: Maximum tree depth is 16\n",
      "\n",
      "  warnings.warn(\"Estimator fit failed. The score on this train-test\"\n",
      "/opt/conda/lib/python3.9/site-packages/sklearn/model_selection/_validation.py:610: FitFailedWarning: Estimator fit failed. The score on this train-test partition for these parameters will be set to nan. Details: \n",
      "Traceback (most recent call last):\n",
      "  File \"/opt/conda/lib/python3.9/site-packages/sklearn/model_selection/_validation.py\", line 593, in _fit_and_score\n",
      "    estimator.fit(X_train, y_train, **fit_params)\n",
      "  File \"/opt/conda/lib/python3.9/site-packages/catboost/core.py\", line 5299, in fit\n",
      "    return self._fit(X, y, cat_features, None, None, None, sample_weight, None, None, None, None, baseline,\n",
      "  File \"/opt/conda/lib/python3.9/site-packages/catboost/core.py\", line 2021, in _fit\n",
      "    train_params = self._prepare_train_params(\n",
      "  File \"/opt/conda/lib/python3.9/site-packages/catboost/core.py\", line 1953, in _prepare_train_params\n",
      "    _check_train_params(params)\n",
      "  File \"_catboost.pyx\", line 5839, in _catboost._check_train_params\n",
      "  File \"_catboost.pyx\", line 5858, in _catboost._check_train_params\n",
      "_catboost.CatBoostError: catboost/private/libs/options/oblivious_tree_options.cpp:122: Maximum tree depth is 16\n",
      "\n",
      "  warnings.warn(\"Estimator fit failed. The score on this train-test\"\n",
      "/opt/conda/lib/python3.9/site-packages/sklearn/model_selection/_validation.py:610: FitFailedWarning: Estimator fit failed. The score on this train-test partition for these parameters will be set to nan. Details: \n",
      "Traceback (most recent call last):\n",
      "  File \"/opt/conda/lib/python3.9/site-packages/sklearn/model_selection/_validation.py\", line 593, in _fit_and_score\n",
      "    estimator.fit(X_train, y_train, **fit_params)\n",
      "  File \"/opt/conda/lib/python3.9/site-packages/catboost/core.py\", line 5299, in fit\n",
      "    return self._fit(X, y, cat_features, None, None, None, sample_weight, None, None, None, None, baseline,\n",
      "  File \"/opt/conda/lib/python3.9/site-packages/catboost/core.py\", line 2021, in _fit\n",
      "    train_params = self._prepare_train_params(\n",
      "  File \"/opt/conda/lib/python3.9/site-packages/catboost/core.py\", line 1953, in _prepare_train_params\n",
      "    _check_train_params(params)\n",
      "  File \"_catboost.pyx\", line 5839, in _catboost._check_train_params\n",
      "  File \"_catboost.pyx\", line 5858, in _catboost._check_train_params\n",
      "_catboost.CatBoostError: catboost/private/libs/options/oblivious_tree_options.cpp:122: Maximum tree depth is 16\n",
      "\n",
      "  warnings.warn(\"Estimator fit failed. The score on this train-test\"\n",
      "/opt/conda/lib/python3.9/site-packages/sklearn/model_selection/_validation.py:610: FitFailedWarning: Estimator fit failed. The score on this train-test partition for these parameters will be set to nan. Details: \n",
      "Traceback (most recent call last):\n",
      "  File \"/opt/conda/lib/python3.9/site-packages/sklearn/model_selection/_validation.py\", line 593, in _fit_and_score\n",
      "    estimator.fit(X_train, y_train, **fit_params)\n",
      "  File \"/opt/conda/lib/python3.9/site-packages/catboost/core.py\", line 5299, in fit\n",
      "    return self._fit(X, y, cat_features, None, None, None, sample_weight, None, None, None, None, baseline,\n",
      "  File \"/opt/conda/lib/python3.9/site-packages/catboost/core.py\", line 2021, in _fit\n",
      "    train_params = self._prepare_train_params(\n",
      "  File \"/opt/conda/lib/python3.9/site-packages/catboost/core.py\", line 1953, in _prepare_train_params\n",
      "    _check_train_params(params)\n",
      "  File \"_catboost.pyx\", line 5839, in _catboost._check_train_params\n",
      "  File \"_catboost.pyx\", line 5858, in _catboost._check_train_params\n",
      "_catboost.CatBoostError: catboost/private/libs/options/oblivious_tree_options.cpp:122: Maximum tree depth is 16\n",
      "\n",
      "  warnings.warn(\"Estimator fit failed. The score on this train-test\"\n",
      "/opt/conda/lib/python3.9/site-packages/sklearn/model_selection/_validation.py:610: FitFailedWarning: Estimator fit failed. The score on this train-test partition for these parameters will be set to nan. Details: \n",
      "Traceback (most recent call last):\n",
      "  File \"/opt/conda/lib/python3.9/site-packages/sklearn/model_selection/_validation.py\", line 593, in _fit_and_score\n",
      "    estimator.fit(X_train, y_train, **fit_params)\n",
      "  File \"/opt/conda/lib/python3.9/site-packages/catboost/core.py\", line 5299, in fit\n",
      "    return self._fit(X, y, cat_features, None, None, None, sample_weight, None, None, None, None, baseline,\n",
      "  File \"/opt/conda/lib/python3.9/site-packages/catboost/core.py\", line 2021, in _fit\n",
      "    train_params = self._prepare_train_params(\n",
      "  File \"/opt/conda/lib/python3.9/site-packages/catboost/core.py\", line 1953, in _prepare_train_params\n",
      "    _check_train_params(params)\n",
      "  File \"_catboost.pyx\", line 5839, in _catboost._check_train_params\n",
      "  File \"_catboost.pyx\", line 5858, in _catboost._check_train_params\n",
      "_catboost.CatBoostError: catboost/private/libs/options/oblivious_tree_options.cpp:122: Maximum tree depth is 16\n",
      "\n",
      "  warnings.warn(\"Estimator fit failed. The score on this train-test\"\n",
      "/opt/conda/lib/python3.9/site-packages/sklearn/model_selection/_validation.py:610: FitFailedWarning: Estimator fit failed. The score on this train-test partition for these parameters will be set to nan. Details: \n",
      "Traceback (most recent call last):\n",
      "  File \"/opt/conda/lib/python3.9/site-packages/sklearn/model_selection/_validation.py\", line 593, in _fit_and_score\n",
      "    estimator.fit(X_train, y_train, **fit_params)\n",
      "  File \"/opt/conda/lib/python3.9/site-packages/catboost/core.py\", line 5299, in fit\n",
      "    return self._fit(X, y, cat_features, None, None, None, sample_weight, None, None, None, None, baseline,\n",
      "  File \"/opt/conda/lib/python3.9/site-packages/catboost/core.py\", line 2021, in _fit\n",
      "    train_params = self._prepare_train_params(\n",
      "  File \"/opt/conda/lib/python3.9/site-packages/catboost/core.py\", line 1953, in _prepare_train_params\n",
      "    _check_train_params(params)\n",
      "  File \"_catboost.pyx\", line 5839, in _catboost._check_train_params\n",
      "  File \"_catboost.pyx\", line 5858, in _catboost._check_train_params\n",
      "_catboost.CatBoostError: catboost/private/libs/options/oblivious_tree_options.cpp:122: Maximum tree depth is 16\n",
      "\n",
      "  warnings.warn(\"Estimator fit failed. The score on this train-test\"\n",
      "/opt/conda/lib/python3.9/site-packages/sklearn/model_selection/_validation.py:610: FitFailedWarning: Estimator fit failed. The score on this train-test partition for these parameters will be set to nan. Details: \n",
      "Traceback (most recent call last):\n",
      "  File \"/opt/conda/lib/python3.9/site-packages/sklearn/model_selection/_validation.py\", line 593, in _fit_and_score\n",
      "    estimator.fit(X_train, y_train, **fit_params)\n",
      "  File \"/opt/conda/lib/python3.9/site-packages/catboost/core.py\", line 5299, in fit\n",
      "    return self._fit(X, y, cat_features, None, None, None, sample_weight, None, None, None, None, baseline,\n",
      "  File \"/opt/conda/lib/python3.9/site-packages/catboost/core.py\", line 2021, in _fit\n",
      "    train_params = self._prepare_train_params(\n",
      "  File \"/opt/conda/lib/python3.9/site-packages/catboost/core.py\", line 1953, in _prepare_train_params\n",
      "    _check_train_params(params)\n",
      "  File \"_catboost.pyx\", line 5839, in _catboost._check_train_params\n",
      "  File \"_catboost.pyx\", line 5858, in _catboost._check_train_params\n",
      "_catboost.CatBoostError: catboost/private/libs/options/oblivious_tree_options.cpp:122: Maximum tree depth is 16\n",
      "\n",
      "  warnings.warn(\"Estimator fit failed. The score on this train-test\"\n",
      "/opt/conda/lib/python3.9/site-packages/sklearn/model_selection/_validation.py:610: FitFailedWarning: Estimator fit failed. The score on this train-test partition for these parameters will be set to nan. Details: \n",
      "Traceback (most recent call last):\n",
      "  File \"/opt/conda/lib/python3.9/site-packages/sklearn/model_selection/_validation.py\", line 593, in _fit_and_score\n",
      "    estimator.fit(X_train, y_train, **fit_params)\n",
      "  File \"/opt/conda/lib/python3.9/site-packages/catboost/core.py\", line 5299, in fit\n",
      "    return self._fit(X, y, cat_features, None, None, None, sample_weight, None, None, None, None, baseline,\n",
      "  File \"/opt/conda/lib/python3.9/site-packages/catboost/core.py\", line 2021, in _fit\n",
      "    train_params = self._prepare_train_params(\n",
      "  File \"/opt/conda/lib/python3.9/site-packages/catboost/core.py\", line 1953, in _prepare_train_params\n",
      "    _check_train_params(params)\n",
      "  File \"_catboost.pyx\", line 5839, in _catboost._check_train_params\n",
      "  File \"_catboost.pyx\", line 5858, in _catboost._check_train_params\n",
      "_catboost.CatBoostError: catboost/private/libs/options/oblivious_tree_options.cpp:122: Maximum tree depth is 16\n",
      "\n",
      "  warnings.warn(\"Estimator fit failed. The score on this train-test\"\n",
      "/opt/conda/lib/python3.9/site-packages/sklearn/model_selection/_validation.py:610: FitFailedWarning: Estimator fit failed. The score on this train-test partition for these parameters will be set to nan. Details: \n",
      "Traceback (most recent call last):\n",
      "  File \"/opt/conda/lib/python3.9/site-packages/sklearn/model_selection/_validation.py\", line 593, in _fit_and_score\n",
      "    estimator.fit(X_train, y_train, **fit_params)\n",
      "  File \"/opt/conda/lib/python3.9/site-packages/catboost/core.py\", line 5299, in fit\n",
      "    return self._fit(X, y, cat_features, None, None, None, sample_weight, None, None, None, None, baseline,\n",
      "  File \"/opt/conda/lib/python3.9/site-packages/catboost/core.py\", line 2021, in _fit\n",
      "    train_params = self._prepare_train_params(\n",
      "  File \"/opt/conda/lib/python3.9/site-packages/catboost/core.py\", line 1953, in _prepare_train_params\n",
      "    _check_train_params(params)\n",
      "  File \"_catboost.pyx\", line 5839, in _catboost._check_train_params\n",
      "  File \"_catboost.pyx\", line 5858, in _catboost._check_train_params\n",
      "_catboost.CatBoostError: catboost/private/libs/options/oblivious_tree_options.cpp:122: Maximum tree depth is 16\n",
      "\n",
      "  warnings.warn(\"Estimator fit failed. The score on this train-test\"\n",
      "/opt/conda/lib/python3.9/site-packages/sklearn/model_selection/_validation.py:610: FitFailedWarning: Estimator fit failed. The score on this train-test partition for these parameters will be set to nan. Details: \n",
      "Traceback (most recent call last):\n",
      "  File \"/opt/conda/lib/python3.9/site-packages/sklearn/model_selection/_validation.py\", line 593, in _fit_and_score\n",
      "    estimator.fit(X_train, y_train, **fit_params)\n",
      "  File \"/opt/conda/lib/python3.9/site-packages/catboost/core.py\", line 5299, in fit\n",
      "    return self._fit(X, y, cat_features, None, None, None, sample_weight, None, None, None, None, baseline,\n",
      "  File \"/opt/conda/lib/python3.9/site-packages/catboost/core.py\", line 2021, in _fit\n",
      "    train_params = self._prepare_train_params(\n",
      "  File \"/opt/conda/lib/python3.9/site-packages/catboost/core.py\", line 1953, in _prepare_train_params\n",
      "    _check_train_params(params)\n",
      "  File \"_catboost.pyx\", line 5839, in _catboost._check_train_params\n",
      "  File \"_catboost.pyx\", line 5858, in _catboost._check_train_params\n",
      "_catboost.CatBoostError: catboost/private/libs/options/oblivious_tree_options.cpp:122: Maximum tree depth is 16\n",
      "\n",
      "  warnings.warn(\"Estimator fit failed. The score on this train-test\"\n",
      "/opt/conda/lib/python3.9/site-packages/sklearn/model_selection/_validation.py:610: FitFailedWarning: Estimator fit failed. The score on this train-test partition for these parameters will be set to nan. Details: \n",
      "Traceback (most recent call last):\n",
      "  File \"/opt/conda/lib/python3.9/site-packages/sklearn/model_selection/_validation.py\", line 593, in _fit_and_score\n",
      "    estimator.fit(X_train, y_train, **fit_params)\n",
      "  File \"/opt/conda/lib/python3.9/site-packages/catboost/core.py\", line 5299, in fit\n",
      "    return self._fit(X, y, cat_features, None, None, None, sample_weight, None, None, None, None, baseline,\n",
      "  File \"/opt/conda/lib/python3.9/site-packages/catboost/core.py\", line 2021, in _fit\n",
      "    train_params = self._prepare_train_params(\n",
      "  File \"/opt/conda/lib/python3.9/site-packages/catboost/core.py\", line 1953, in _prepare_train_params\n",
      "    _check_train_params(params)\n",
      "  File \"_catboost.pyx\", line 5839, in _catboost._check_train_params\n",
      "  File \"_catboost.pyx\", line 5858, in _catboost._check_train_params\n",
      "_catboost.CatBoostError: catboost/private/libs/options/oblivious_tree_options.cpp:122: Maximum tree depth is 16\n",
      "\n",
      "  warnings.warn(\"Estimator fit failed. The score on this train-test\"\n",
      "/opt/conda/lib/python3.9/site-packages/sklearn/model_selection/_validation.py:610: FitFailedWarning: Estimator fit failed. The score on this train-test partition for these parameters will be set to nan. Details: \n",
      "Traceback (most recent call last):\n",
      "  File \"/opt/conda/lib/python3.9/site-packages/sklearn/model_selection/_validation.py\", line 593, in _fit_and_score\n",
      "    estimator.fit(X_train, y_train, **fit_params)\n",
      "  File \"/opt/conda/lib/python3.9/site-packages/catboost/core.py\", line 5299, in fit\n",
      "    return self._fit(X, y, cat_features, None, None, None, sample_weight, None, None, None, None, baseline,\n",
      "  File \"/opt/conda/lib/python3.9/site-packages/catboost/core.py\", line 2021, in _fit\n",
      "    train_params = self._prepare_train_params(\n",
      "  File \"/opt/conda/lib/python3.9/site-packages/catboost/core.py\", line 1953, in _prepare_train_params\n",
      "    _check_train_params(params)\n",
      "  File \"_catboost.pyx\", line 5839, in _catboost._check_train_params\n",
      "  File \"_catboost.pyx\", line 5858, in _catboost._check_train_params\n",
      "_catboost.CatBoostError: catboost/private/libs/options/oblivious_tree_options.cpp:122: Maximum tree depth is 16\n",
      "\n",
      "  warnings.warn(\"Estimator fit failed. The score on this train-test\"\n",
      "/opt/conda/lib/python3.9/site-packages/sklearn/model_selection/_validation.py:610: FitFailedWarning: Estimator fit failed. The score on this train-test partition for these parameters will be set to nan. Details: \n",
      "Traceback (most recent call last):\n",
      "  File \"/opt/conda/lib/python3.9/site-packages/sklearn/model_selection/_validation.py\", line 593, in _fit_and_score\n",
      "    estimator.fit(X_train, y_train, **fit_params)\n",
      "  File \"/opt/conda/lib/python3.9/site-packages/catboost/core.py\", line 5299, in fit\n",
      "    return self._fit(X, y, cat_features, None, None, None, sample_weight, None, None, None, None, baseline,\n",
      "  File \"/opt/conda/lib/python3.9/site-packages/catboost/core.py\", line 2021, in _fit\n",
      "    train_params = self._prepare_train_params(\n",
      "  File \"/opt/conda/lib/python3.9/site-packages/catboost/core.py\", line 1953, in _prepare_train_params\n",
      "    _check_train_params(params)\n",
      "  File \"_catboost.pyx\", line 5839, in _catboost._check_train_params\n",
      "  File \"_catboost.pyx\", line 5858, in _catboost._check_train_params\n",
      "_catboost.CatBoostError: catboost/private/libs/options/oblivious_tree_options.cpp:122: Maximum tree depth is 16\n",
      "\n",
      "  warnings.warn(\"Estimator fit failed. The score on this train-test\"\n",
      "/opt/conda/lib/python3.9/site-packages/sklearn/model_selection/_validation.py:610: FitFailedWarning: Estimator fit failed. The score on this train-test partition for these parameters will be set to nan. Details: \n",
      "Traceback (most recent call last):\n",
      "  File \"/opt/conda/lib/python3.9/site-packages/sklearn/model_selection/_validation.py\", line 593, in _fit_and_score\n",
      "    estimator.fit(X_train, y_train, **fit_params)\n",
      "  File \"/opt/conda/lib/python3.9/site-packages/catboost/core.py\", line 5299, in fit\n",
      "    return self._fit(X, y, cat_features, None, None, None, sample_weight, None, None, None, None, baseline,\n",
      "  File \"/opt/conda/lib/python3.9/site-packages/catboost/core.py\", line 2021, in _fit\n",
      "    train_params = self._prepare_train_params(\n",
      "  File \"/opt/conda/lib/python3.9/site-packages/catboost/core.py\", line 1953, in _prepare_train_params\n",
      "    _check_train_params(params)\n",
      "  File \"_catboost.pyx\", line 5839, in _catboost._check_train_params\n",
      "  File \"_catboost.pyx\", line 5858, in _catboost._check_train_params\n",
      "_catboost.CatBoostError: catboost/private/libs/options/oblivious_tree_options.cpp:122: Maximum tree depth is 16\n",
      "\n",
      "  warnings.warn(\"Estimator fit failed. The score on this train-test\"\n",
      "/opt/conda/lib/python3.9/site-packages/sklearn/model_selection/_validation.py:610: FitFailedWarning: Estimator fit failed. The score on this train-test partition for these parameters will be set to nan. Details: \n",
      "Traceback (most recent call last):\n",
      "  File \"/opt/conda/lib/python3.9/site-packages/sklearn/model_selection/_validation.py\", line 593, in _fit_and_score\n",
      "    estimator.fit(X_train, y_train, **fit_params)\n",
      "  File \"/opt/conda/lib/python3.9/site-packages/catboost/core.py\", line 5299, in fit\n",
      "    return self._fit(X, y, cat_features, None, None, None, sample_weight, None, None, None, None, baseline,\n",
      "  File \"/opt/conda/lib/python3.9/site-packages/catboost/core.py\", line 2021, in _fit\n",
      "    train_params = self._prepare_train_params(\n",
      "  File \"/opt/conda/lib/python3.9/site-packages/catboost/core.py\", line 1953, in _prepare_train_params\n",
      "    _check_train_params(params)\n",
      "  File \"_catboost.pyx\", line 5839, in _catboost._check_train_params\n",
      "  File \"_catboost.pyx\", line 5858, in _catboost._check_train_params\n",
      "_catboost.CatBoostError: catboost/private/libs/options/oblivious_tree_options.cpp:122: Maximum tree depth is 16\n",
      "\n",
      "  warnings.warn(\"Estimator fit failed. The score on this train-test\"\n",
      "/opt/conda/lib/python3.9/site-packages/sklearn/model_selection/_validation.py:610: FitFailedWarning: Estimator fit failed. The score on this train-test partition for these parameters will be set to nan. Details: \n",
      "Traceback (most recent call last):\n",
      "  File \"/opt/conda/lib/python3.9/site-packages/sklearn/model_selection/_validation.py\", line 593, in _fit_and_score\n",
      "    estimator.fit(X_train, y_train, **fit_params)\n",
      "  File \"/opt/conda/lib/python3.9/site-packages/catboost/core.py\", line 5299, in fit\n",
      "    return self._fit(X, y, cat_features, None, None, None, sample_weight, None, None, None, None, baseline,\n",
      "  File \"/opt/conda/lib/python3.9/site-packages/catboost/core.py\", line 2021, in _fit\n",
      "    train_params = self._prepare_train_params(\n",
      "  File \"/opt/conda/lib/python3.9/site-packages/catboost/core.py\", line 1953, in _prepare_train_params\n",
      "    _check_train_params(params)\n",
      "  File \"_catboost.pyx\", line 5839, in _catboost._check_train_params\n",
      "  File \"_catboost.pyx\", line 5858, in _catboost._check_train_params\n",
      "_catboost.CatBoostError: catboost/private/libs/options/oblivious_tree_options.cpp:122: Maximum tree depth is 16\n",
      "\n",
      "  warnings.warn(\"Estimator fit failed. The score on this train-test\"\n"
     ]
    }
   ],
   "source": [
    "depth_d = []\n",
    "score_d = []\n",
    "score_mean_d = []\n",
    "\n",
    "for depth in range(1, 35, 1):\n",
    "    cat_model = CatBoostRegressor(loss_function=\"RMSE\", iterations=20, depth=depth, verbose=10, cat_features=categorical)\n",
    "    cat_cv = cross_val_score(cat_model, features_train, target_train, cv=2)\n",
    "    #print(\"Score при depth =\", depth, \":\", cat_cv)\n",
    "    #print(\"Score mean =\", sum(cat_cv)/len(cat_cv))\n",
    "    #print()\n",
    "    depth_d.append(depth)\n",
    "    mean_score = sum(cat_cv)/len(cat_cv)\n",
    "    score_d.append(cat_cv)\n",
    "    score_mean_d.append(mean_score)"
   ]
  },
  {
   "cell_type": "code",
   "execution_count": 36,
   "metadata": {
    "scrolled": true
   },
   "outputs": [
    {
     "data": {
      "image/png": "[encoded data removed]",
      "text/plain": [
       "<Figure size 432x288 with 1 Axes>"
      ]
     },
     "metadata": {},
     "output_type": "display_data"
    }
   ],
   "source": [
    "df_results_depth = pd.DataFrame({'depth':depth_d, 'score':score_mean_d})\n",
    "#display(df_results)\n",
    "\n",
    "df_results_depth.plot(x = 'depth', y = 'score')\n",
    "plt.ylim(0.7, 0.9)\n",
    "plt.show()"
   ]
  },
  {
   "cell_type": "markdown",
   "metadata": {},
   "source": [
    "По результатам варьирования гиперпараметров можно резюмировать следующее:\n",
    "\n",
    "- увеличение числа итераций дает увеличение точности модели, но при этом увеличивается и скорость обучения\n",
    "- разница между 85 и 110 итерациями не столь велика, чтобы жертвовать скоростью обучения\n",
    "- аналогичная картина при увеличении глубины - точность растет, но постепенно зависимость точности от глубины выходит на \"полку\" и увеличение глубины не дает бОльшего прироста в точности.\n",
    "\n",
    "Оптимальным смотрится диапазон изменения количества итераций от 80 до 90, глубина 12."
   ]
  },
  {
   "cell_type": "code",
   "execution_count": 37,
   "metadata": {},
   "outputs": [],
   "source": [
    "cat_model_optimum= CatBoostRegressor(loss_function=\"RMSE\", iterations=85, depth=12, verbose=10)"
   ]
  },
  {
   "cell_type": "code",
   "execution_count": 38,
   "metadata": {},
   "outputs": [
    {
     "name": "stdout",
     "output_type": "stream",
     "text": [
      "Learning rate set to 0.5\n",
      "0:\tlearn: 3108.1511043\ttotal: 228ms\tremaining: 19.1s\n",
      "10:\tlearn: 1820.9513719\ttotal: 2.31s\tremaining: 15.6s\n",
      "20:\tlearn: 1729.8314940\ttotal: 5s\tremaining: 15.2s\n",
      "30:\tlearn: 1661.0006761\ttotal: 7.09s\tremaining: 12.4s\n",
      "40:\tlearn: 1609.8955000\ttotal: 9.22s\tremaining: 9.89s\n",
      "50:\tlearn: 1569.9474878\ttotal: 11.5s\tremaining: 7.65s\n",
      "60:\tlearn: 1535.3640776\ttotal: 13.6s\tremaining: 5.34s\n",
      "70:\tlearn: 1508.4824352\ttotal: 15.7s\tremaining: 3.09s\n",
      "80:\tlearn: 1486.6361098\ttotal: 17.8s\tremaining: 879ms\n",
      "84:\tlearn: 1479.7005790\ttotal: 18.6s\tremaining: 0us\n",
      "CPU times: user 18.9 s, sys: 94.7 ms, total: 19 s\n",
      "Wall time: 19.8 s\n"
     ]
    },
    {
     "data": {
      "text/plain": [
       "<catboost.core.CatBoostRegressor at 0x7fdd4f4941f0>"
      ]
     },
     "execution_count": 38,
     "metadata": {},
     "output_type": "execute_result"
    }
   ],
   "source": [
    "%%time \n",
    "cat_model_optimum.fit(features_train, target_train, cat_features=categorical)"
   ]
  },
  {
   "cell_type": "code",
   "execution_count": 39,
   "metadata": {},
   "outputs": [
    {
     "name": "stdout",
     "output_type": "stream",
     "text": [
      "CPU times: user 83.2 ms, sys: 7.89 ms, total: 91.1 ms\n",
      "Wall time: 88.8 ms\n"
     ]
    }
   ],
   "source": [
    "%%time\n",
    "predicted_cat_optimum = pd.Series(cat_model_optimum.predict(features_test))"
   ]
  },
  {
   "cell_type": "code",
   "execution_count": 40,
   "metadata": {},
   "outputs": [
    {
     "data": {
      "text/plain": [
       "1747.3527337723717"
      ]
     },
     "execution_count": 40,
     "metadata": {},
     "output_type": "execute_result"
    }
   ],
   "source": [
    "rmse_cbr = rmse(target_test, predicted_cat_optimum)\n",
    "rmse_df.append(rmse_cbr)\n",
    "rmse_cbr"
   ]
  },
  {
   "cell_type": "markdown",
   "metadata": {},
   "source": [
    "#### LightGBM"
   ]
  },
  {
   "cell_type": "markdown",
   "metadata": {},
   "source": [
    "Попробуем поподбирать разные параметры для LGBM\n",
    "\n",
    "Начнем с типа буста."
   ]
  },
  {
   "cell_type": "code",
   "execution_count": 41,
   "metadata": {},
   "outputs": [
    {
     "name": "stdout",
     "output_type": "stream",
     "text": [
      "[LightGBM] [Warning] Auto-choosing col-wise multi-threading, the overhead of testing was 0.393227 seconds.\n",
      "You can set `force_col_wise=true` to remove the overhead.\n",
      "[LightGBM] [Warning] No further splits with positive gain, best gain: -inf\n",
      "[LightGBM] [Warning] No further splits with positive gain, best gain: -inf\n",
      "[LightGBM] [Warning] No further splits with positive gain, best gain: -inf\n",
      "[LightGBM] [Warning] No further splits with positive gain, best gain: -inf\n",
      "[LightGBM] [Warning] No further splits with positive gain, best gain: -inf\n",
      "[LightGBM] [Warning] No further splits with positive gain, best gain: -inf\n",
      "[LightGBM] [Warning] No further splits with positive gain, best gain: -inf\n",
      "[LightGBM] [Warning] No further splits with positive gain, best gain: -inf\n",
      "[LightGBM] [Warning] No further splits with positive gain, best gain: -inf\n",
      "[LightGBM] [Warning] No further splits with positive gain, best gain: -inf\n",
      "[LightGBM] [Warning] No further splits with positive gain, best gain: -inf\n",
      "[LightGBM] [Warning] No further splits with positive gain, best gain: -inf\n",
      "[LightGBM] [Warning] No further splits with positive gain, best gain: -inf\n",
      "[LightGBM] [Warning] No further splits with positive gain, best gain: -inf\n",
      "[LightGBM] [Warning] Auto-choosing row-wise multi-threading, the overhead of testing was 0.310641 seconds.\n",
      "You can set `force_row_wise=true` to remove the overhead.\n",
      "And if memory is not enough, you can set `force_col_wise=true`.\n",
      "[LightGBM] [Warning] Auto-choosing row-wise multi-threading, the overhead of testing was 0.308314 seconds.\n",
      "You can set `force_row_wise=true` to remove the overhead.\n",
      "And if memory is not enough, you can set `force_col_wise=true`.\n",
      "[LightGBM] [Warning] No further splits with positive gain, best gain: -inf\n",
      "[LightGBM] [Warning] No further splits with positive gain, best gain: -inf\n",
      "[LightGBM] [Warning] No further splits with positive gain, best gain: -inf\n",
      "[LightGBM] [Warning] No further splits with positive gain, best gain: -inf\n",
      "[LightGBM] [Warning] No further splits with positive gain, best gain: -inf\n",
      "[LightGBM] [Warning] No further splits with positive gain, best gain: -inf\n",
      "[LightGBM] [Warning] No further splits with positive gain, best gain: -inf\n",
      "[LightGBM] [Warning] No further splits with positive gain, best gain: -inf\n",
      "[LightGBM] [Warning] No further splits with positive gain, best gain: -inf\n",
      "[LightGBM] [Warning] No further splits with positive gain, best gain: -inf\n"
     ]
    }
   ],
   "source": [
    "boosting_type = ['gbdt', 'dart', 'goss']\n",
    "results_bt = []\n",
    "\n",
    "for bt in boosting_type:\n",
    "    lgbm_model = LGBMRegressor(boosting_type = bt, objective = 'regression', metric = 'rmse', max_depth = 4, \n",
    "    learning_rate = 0.1,\n",
    "    verbose = 0,\n",
    "    num_leaves = 31)\n",
    "    lgbm_model.fit(features_train, target_train)\n",
    "    predictions_lgbm = lgbm_model.predict(features_test)\n",
    "    rmse_lgbm_test = rmse(target_test, predictions_lgbm)\n",
    "    #print(rmse_lgbm_test)\n",
    "    results_bt.append(rmse_lgbm_test)"
   ]
  },
  {
   "cell_type": "code",
   "execution_count": 42,
   "metadata": {
    "scrolled": false
   },
   "outputs": [
    {
     "data": {
      "text/html": [
       "<div>\n",
       "<style scoped>\n",
       "    .dataframe tbody tr th:only-of-type {\n",
       "        vertical-align: middle;\n",
       "    }\n",
       "\n",
       "    .dataframe tbody tr th {\n",
       "        vertical-align: top;\n",
       "    }\n",
       "\n",
       "    .dataframe thead th {\n",
       "        text-align: right;\n",
       "    }\n",
       "</style>\n",
       "<table border=\"1\" class=\"dataframe\">\n",
       "  <thead>\n",
       "    <tr style=\"text-align: right;\">\n",
       "      <th></th>\n",
       "      <th>bt</th>\n",
       "      <th>rmse</th>\n",
       "    </tr>\n",
       "  </thead>\n",
       "  <tbody>\n",
       "    <tr>\n",
       "      <th>0</th>\n",
       "      <td>gbdt</td>\n",
       "      <td>1860.934581</td>\n",
       "    </tr>\n",
       "    <tr>\n",
       "      <th>1</th>\n",
       "      <td>dart</td>\n",
       "      <td>2077.680986</td>\n",
       "    </tr>\n",
       "    <tr>\n",
       "      <th>2</th>\n",
       "      <td>goss</td>\n",
       "      <td>1864.401835</td>\n",
       "    </tr>\n",
       "  </tbody>\n",
       "</table>\n",
       "</div>"
      ],
      "text/plain": [
       "     bt         rmse\n",
       "0  gbdt  1860.934581\n",
       "1  dart  2077.680986\n",
       "2  goss  1864.401835"
      ]
     },
     "execution_count": 42,
     "metadata": {},
     "output_type": "execute_result"
    }
   ],
   "source": [
    "dict_lgbm = {'bt': boosting_type, 'rmse': results_bt}\n",
    "results_lgbm = pd.DataFrame(dict_lgbm)\n",
    "results_lgbm"
   ]
  },
  {
   "cell_type": "markdown",
   "metadata": {},
   "source": [
    "Лучший результат показывает буст **gbdt**"
   ]
  },
  {
   "cell_type": "markdown",
   "metadata": {},
   "source": [
    "Попробуем поварьировать максимальную глубину."
   ]
  },
  {
   "cell_type": "code",
   "execution_count": 43,
   "metadata": {
    "scrolled": true
   },
   "outputs": [
    {
     "name": "stdout",
     "output_type": "stream",
     "text": [
      "[LightGBM] [Warning] Auto-choosing row-wise multi-threading, the overhead of testing was 0.197019 seconds.\n",
      "You can set `force_row_wise=true` to remove the overhead.\n",
      "And if memory is not enough, you can set `force_col_wise=true`.\n",
      "[LightGBM] [Warning] Auto-choosing col-wise multi-threading, the overhead of testing was 0.305380 seconds.\n",
      "You can set `force_col_wise=true` to remove the overhead.\n",
      "[LightGBM] [Warning] No further splits with positive gain, best gain: -inf\n",
      "[LightGBM] [Warning] Accuracy may be bad since you didn't explicitly set num_leaves OR 2^max_depth > num_leaves. (num_leaves=31).\n",
      "[LightGBM] [Warning] Accuracy may be bad since you didn't explicitly set num_leaves OR 2^max_depth > num_leaves. (num_leaves=31).\n",
      "[LightGBM] [Warning] Auto-choosing row-wise multi-threading, the overhead of testing was 0.395166 seconds.\n",
      "You can set `force_row_wise=true` to remove the overhead.\n",
      "And if memory is not enough, you can set `force_col_wise=true`.\n",
      "[LightGBM] [Warning] No further splits with positive gain, best gain: -inf\n",
      "[LightGBM] [Warning] No further splits with positive gain, best gain: -inf\n",
      "[LightGBM] [Warning] No further splits with positive gain, best gain: -inf\n",
      "[LightGBM] [Warning] No further splits with positive gain, best gain: -inf\n",
      "[LightGBM] [Warning] No further splits with positive gain, best gain: -inf\n",
      "[LightGBM] [Warning] No further splits with positive gain, best gain: -inf\n",
      "[LightGBM] [Warning] No further splits with positive gain, best gain: -inf\n",
      "[LightGBM] [Warning] No further splits with positive gain, best gain: -inf\n",
      "[LightGBM] [Warning] No further splits with positive gain, best gain: -inf\n",
      "[LightGBM] [Warning] No further splits with positive gain, best gain: -inf\n",
      "[LightGBM] [Warning] No further splits with positive gain, best gain: -inf\n",
      "[LightGBM] [Warning] No further splits with positive gain, best gain: -inf\n",
      "[LightGBM] [Warning] No further splits with positive gain, best gain: -inf\n",
      "[LightGBM] [Warning] No further splits with positive gain, best gain: -inf\n",
      "[LightGBM] [Warning] No further splits with positive gain, best gain: -inf\n",
      "[LightGBM] [Warning] No further splits with positive gain, best gain: -inf\n",
      "[LightGBM] [Warning] No further splits with positive gain, best gain: -inf\n",
      "[LightGBM] [Warning] No further splits with positive gain, best gain: -inf\n",
      "[LightGBM] [Warning] No further splits with positive gain, best gain: -inf\n",
      "[LightGBM] [Warning] No further splits with positive gain, best gain: -inf\n",
      "[LightGBM] [Warning] No further splits with positive gain, best gain: -inf\n",
      "[LightGBM] [Warning] No further splits with positive gain, best gain: -inf\n",
      "[LightGBM] [Warning] No further splits with positive gain, best gain: -inf\n",
      "[LightGBM] [Warning] No further splits with positive gain, best gain: -inf\n",
      "[LightGBM] [Warning] No further splits with positive gain, best gain: -inf\n",
      "[LightGBM] [Warning] No further splits with positive gain, best gain: -inf\n",
      "[LightGBM] [Warning] No further splits with positive gain, best gain: -inf\n",
      "[LightGBM] [Warning] No further splits with positive gain, best gain: -inf\n",
      "[LightGBM] [Warning] No further splits with positive gain, best gain: -inf\n",
      "[LightGBM] [Warning] No further splits with positive gain, best gain: -inf\n",
      "[LightGBM] [Warning] Accuracy may be bad since you didn't explicitly set num_leaves OR 2^max_depth > num_leaves. (num_leaves=31).\n",
      "[LightGBM] [Warning] Accuracy may be bad since you didn't explicitly set num_leaves OR 2^max_depth > num_leaves. (num_leaves=31).\n",
      "[LightGBM] [Warning] Auto-choosing row-wise multi-threading, the overhead of testing was 0.389918 seconds.\n",
      "You can set `force_row_wise=true` to remove the overhead.\n",
      "And if memory is not enough, you can set `force_col_wise=true`.\n",
      "[LightGBM] [Warning] No further splits with positive gain, best gain: -inf\n",
      "[LightGBM] [Warning] No further splits with positive gain, best gain: -inf\n",
      "[LightGBM] [Warning] Accuracy may be bad since you didn't explicitly set num_leaves OR 2^max_depth > num_leaves. (num_leaves=31).\n",
      "[LightGBM] [Warning] Accuracy may be bad since you didn't explicitly set num_leaves OR 2^max_depth > num_leaves. (num_leaves=31).\n",
      "[LightGBM] [Warning] Auto-choosing row-wise multi-threading, the overhead of testing was 0.310178 seconds.\n",
      "You can set `force_row_wise=true` to remove the overhead.\n",
      "And if memory is not enough, you can set `force_col_wise=true`.\n",
      "[LightGBM] [Warning] Accuracy may be bad since you didn't explicitly set num_leaves OR 2^max_depth > num_leaves. (num_leaves=31).\n",
      "[LightGBM] [Warning] Accuracy may be bad since you didn't explicitly set num_leaves OR 2^max_depth > num_leaves. (num_leaves=31).\n",
      "[LightGBM] [Warning] Auto-choosing col-wise multi-threading, the overhead of testing was 0.394905 seconds.\n",
      "You can set `force_col_wise=true` to remove the overhead.\n",
      "[LightGBM] [Warning] Accuracy may be bad since you didn't explicitly set num_leaves OR 2^max_depth > num_leaves. (num_leaves=31).\n",
      "[LightGBM] [Warning] Accuracy may be bad since you didn't explicitly set num_leaves OR 2^max_depth > num_leaves. (num_leaves=31).\n",
      "[LightGBM] [Warning] Auto-choosing row-wise multi-threading, the overhead of testing was 0.299232 seconds.\n",
      "You can set `force_row_wise=true` to remove the overhead.\n",
      "And if memory is not enough, you can set `force_col_wise=true`.\n",
      "[LightGBM] [Warning] Accuracy may be bad since you didn't explicitly set num_leaves OR 2^max_depth > num_leaves. (num_leaves=31).\n",
      "[LightGBM] [Warning] Accuracy may be bad since you didn't explicitly set num_leaves OR 2^max_depth > num_leaves. (num_leaves=31).\n",
      "[LightGBM] [Warning] Auto-choosing row-wise multi-threading, the overhead of testing was 0.312266 seconds.\n",
      "You can set `force_row_wise=true` to remove the overhead.\n",
      "And if memory is not enough, you can set `force_col_wise=true`.\n",
      "[LightGBM] [Warning] Accuracy may be bad since you didn't explicitly set num_leaves OR 2^max_depth > num_leaves. (num_leaves=31).\n",
      "[LightGBM] [Warning] Accuracy may be bad since you didn't explicitly set num_leaves OR 2^max_depth > num_leaves. (num_leaves=31).\n",
      "[LightGBM] [Warning] Auto-choosing col-wise multi-threading, the overhead of testing was 0.396517 seconds.\n",
      "You can set `force_col_wise=true` to remove the overhead.\n",
      "[LightGBM] [Warning] Accuracy may be bad since you didn't explicitly set num_leaves OR 2^max_depth > num_leaves. (num_leaves=31).\n",
      "[LightGBM] [Warning] Accuracy may be bad since you didn't explicitly set num_leaves OR 2^max_depth > num_leaves. (num_leaves=31).\n",
      "[LightGBM] [Warning] Auto-choosing row-wise multi-threading, the overhead of testing was 0.390094 seconds.\n",
      "You can set `force_row_wise=true` to remove the overhead.\n",
      "And if memory is not enough, you can set `force_col_wise=true`.\n"
     ]
    }
   ],
   "source": [
    "depths = []\n",
    "results_depth = []\n",
    "\n",
    "for depth in range(1, 20, 2):\n",
    "    lgbm_model = LGBMRegressor(boosting_type = 'gbdt', objective = 'regression', metric = 'rmse', max_depth = depth, \n",
    "    learning_rate = 0.1,\n",
    "    verbose = 0,\n",
    "    num_leaves = 31)\n",
    "    lgbm_model.fit(features_train, target_train)\n",
    "    predictions_lgbm = lgbm_model.predict(features_test)\n",
    "    rmse_lgbm_test = rmse(target_test, predictions_lgbm)\n",
    "    #print(rmse_lgbm_test)\n",
    "    results_depth.append(rmse_lgbm_test)\n",
    "    depths.append(depth)"
   ]
  },
  {
   "cell_type": "code",
   "execution_count": 44,
   "metadata": {
    "scrolled": false
   },
   "outputs": [
    {
     "data": {
      "text/html": [
       "<div>\n",
       "<style scoped>\n",
       "    .dataframe tbody tr th:only-of-type {\n",
       "        vertical-align: middle;\n",
       "    }\n",
       "\n",
       "    .dataframe tbody tr th {\n",
       "        vertical-align: top;\n",
       "    }\n",
       "\n",
       "    .dataframe thead th {\n",
       "        text-align: right;\n",
       "    }\n",
       "</style>\n",
       "<table border=\"1\" class=\"dataframe\">\n",
       "  <thead>\n",
       "    <tr style=\"text-align: right;\">\n",
       "      <th></th>\n",
       "      <th>depth</th>\n",
       "      <th>rmse</th>\n",
       "    </tr>\n",
       "  </thead>\n",
       "  <tbody>\n",
       "    <tr>\n",
       "      <th>0</th>\n",
       "      <td>1</td>\n",
       "      <td>2498.672052</td>\n",
       "    </tr>\n",
       "    <tr>\n",
       "      <th>1</th>\n",
       "      <td>3</td>\n",
       "      <td>1943.836326</td>\n",
       "    </tr>\n",
       "    <tr>\n",
       "      <th>2</th>\n",
       "      <td>5</td>\n",
       "      <td>1804.040411</td>\n",
       "    </tr>\n",
       "    <tr>\n",
       "      <th>3</th>\n",
       "      <td>7</td>\n",
       "      <td>1780.358599</td>\n",
       "    </tr>\n",
       "    <tr>\n",
       "      <th>4</th>\n",
       "      <td>9</td>\n",
       "      <td>1776.672975</td>\n",
       "    </tr>\n",
       "    <tr>\n",
       "      <th>5</th>\n",
       "      <td>11</td>\n",
       "      <td>1773.158461</td>\n",
       "    </tr>\n",
       "    <tr>\n",
       "      <th>6</th>\n",
       "      <td>13</td>\n",
       "      <td>1774.851020</td>\n",
       "    </tr>\n",
       "    <tr>\n",
       "      <th>7</th>\n",
       "      <td>15</td>\n",
       "      <td>1775.179208</td>\n",
       "    </tr>\n",
       "    <tr>\n",
       "      <th>8</th>\n",
       "      <td>17</td>\n",
       "      <td>1775.179208</td>\n",
       "    </tr>\n",
       "    <tr>\n",
       "      <th>9</th>\n",
       "      <td>19</td>\n",
       "      <td>1775.179208</td>\n",
       "    </tr>\n",
       "  </tbody>\n",
       "</table>\n",
       "</div>"
      ],
      "text/plain": [
       "   depth         rmse\n",
       "0      1  2498.672052\n",
       "1      3  1943.836326\n",
       "2      5  1804.040411\n",
       "3      7  1780.358599\n",
       "4      9  1776.672975\n",
       "5     11  1773.158461\n",
       "6     13  1774.851020\n",
       "7     15  1775.179208\n",
       "8     17  1775.179208\n",
       "9     19  1775.179208"
      ]
     },
     "execution_count": 44,
     "metadata": {},
     "output_type": "execute_result"
    }
   ],
   "source": [
    "dict_lgbm_depth = {'depth': depths, 'rmse': results_depth}\n",
    "results_lgbm_depth = pd.DataFrame(dict_lgbm_depth)\n",
    "results_lgbm_depth"
   ]
  },
  {
   "cell_type": "markdown",
   "metadata": {},
   "source": [
    "С увеличением глубины метрика качества не улучшается после значения 11."
   ]
  },
  {
   "cell_type": "code",
   "execution_count": 45,
   "metadata": {},
   "outputs": [],
   "source": [
    "\n",
    "\n",
    "params = {\n",
    "    'boosting_type': 'gbdt',\n",
    "    'objective': 'regression',\n",
    "    'metric': 'rmse',\n",
    "    'max_depth': 11, \n",
    "    'learning_rate': 0.1,\n",
    "    'verbose': 0,\n",
    "    'num_leaves': 31, \n",
    "}"
   ]
  },
  {
   "cell_type": "code",
   "execution_count": 46,
   "metadata": {},
   "outputs": [],
   "source": [
    "lgbm_model = LGBMRegressor(**params)"
   ]
  },
  {
   "cell_type": "code",
   "execution_count": 47,
   "metadata": {},
   "outputs": [
    {
     "name": "stdout",
     "output_type": "stream",
     "text": [
      "[LightGBM] [Warning] Accuracy may be bad since you didn't explicitly set num_leaves OR 2^max_depth > num_leaves. (num_leaves=31).\n",
      "[LightGBM] [Warning] Accuracy may be bad since you didn't explicitly set num_leaves OR 2^max_depth > num_leaves. (num_leaves=31).\n",
      "[LightGBM] [Warning] Auto-choosing row-wise multi-threading, the overhead of testing was 0.385065 seconds.\n",
      "You can set `force_row_wise=true` to remove the overhead.\n",
      "And if memory is not enough, you can set `force_col_wise=true`.\n",
      "CPU times: user 5min 51s, sys: 3.36 s, total: 5min 54s\n",
      "Wall time: 5min 56s\n"
     ]
    },
    {
     "data": {
      "text/plain": [
       "LGBMRegressor(max_depth=11, metric='rmse', objective='regression', verbose=0)"
      ]
     },
     "execution_count": 47,
     "metadata": {},
     "output_type": "execute_result"
    }
   ],
   "source": [
    "%%time\n",
    "lgbm_model.fit(features_train, target_train)"
   ]
  },
  {
   "cell_type": "code",
   "execution_count": 48,
   "metadata": {},
   "outputs": [
    {
     "name": "stdout",
     "output_type": "stream",
     "text": [
      "CPU times: user 961 ms, sys: 0 ns, total: 961 ms\n",
      "Wall time: 979 ms\n"
     ]
    }
   ],
   "source": [
    "%%time\n",
    "predictions_lgbm = lgbm_model.predict(features_test)"
   ]
  },
  {
   "cell_type": "code",
   "execution_count": 49,
   "metadata": {},
   "outputs": [
    {
     "data": {
      "text/plain": [
       "1773.1584607781417"
      ]
     },
     "execution_count": 49,
     "metadata": {},
     "output_type": "execute_result"
    }
   ],
   "source": [
    "rmse_lgbm = rmse(target_test, predictions_lgbm)\n",
    "rmse_df.append(rmse_lgbm)\n",
    "rmse_lgbm"
   ]
  },
  {
   "cell_type": "markdown",
   "metadata": {},
   "source": [
    "## Анализ моделей"
   ]
  },
  {
   "cell_type": "markdown",
   "metadata": {},
   "source": [
    "<div class=\"alert alert-block alert-warning\">\n",
    "<b>Изменения:</b> Были внесены следующие изменения. После фильтрации аномальных значений еще улучшилось время работы CBR и LR, но сильно просело время обучения у LGBM. Так что теперь вывод смотрится более однозначным - CBR приоритетный вариант для использования.\n",
    "</div>"
   ]
  },
  {
   "cell_type": "markdown",
   "metadata": {},
   "source": [
    "<div class=\"alert alert-block alert-success\">\n",
    "\n",
    "<b>Успех[2]:</b> Есть контакт"
   ]
  },
  {
   "cell_type": "code",
   "execution_count": 51,
   "metadata": {
    "scrolled": true
   },
   "outputs": [
    {
     "data": {
      "text/html": [
       "<div>\n",
       "<style scoped>\n",
       "    .dataframe tbody tr th:only-of-type {\n",
       "        vertical-align: middle;\n",
       "    }\n",
       "\n",
       "    .dataframe tbody tr th {\n",
       "        vertical-align: top;\n",
       "    }\n",
       "\n",
       "    .dataframe thead th {\n",
       "        text-align: right;\n",
       "    }\n",
       "</style>\n",
       "<table border=\"1\" class=\"dataframe\">\n",
       "  <thead>\n",
       "    <tr style=\"text-align: right;\">\n",
       "      <th></th>\n",
       "      <th>model</th>\n",
       "      <th>time_to_learn, s</th>\n",
       "      <th>time_to_predict, ms</th>\n",
       "      <th>rmse</th>\n",
       "    </tr>\n",
       "  </thead>\n",
       "  <tbody>\n",
       "    <tr>\n",
       "      <th>0</th>\n",
       "      <td>LR</td>\n",
       "      <td>26.0</td>\n",
       "      <td>233.0</td>\n",
       "      <td>2842.481034</td>\n",
       "    </tr>\n",
       "    <tr>\n",
       "      <th>1</th>\n",
       "      <td>CBR</td>\n",
       "      <td>19.8</td>\n",
       "      <td>88.8</td>\n",
       "      <td>1747.352734</td>\n",
       "    </tr>\n",
       "    <tr>\n",
       "      <th>2</th>\n",
       "      <td>LGBM</td>\n",
       "      <td>356.0</td>\n",
       "      <td>979.0</td>\n",
       "      <td>1773.158461</td>\n",
       "    </tr>\n",
       "  </tbody>\n",
       "</table>\n",
       "</div>"
      ],
      "text/plain": [
       "  model  time_to_learn, s  time_to_predict, ms         rmse\n",
       "0    LR              26.0                233.0  2842.481034\n",
       "1   CBR              19.8                 88.8  1747.352734\n",
       "2  LGBM             356.0                979.0  1773.158461"
      ]
     },
     "execution_count": 51,
     "metadata": {},
     "output_type": "execute_result"
    }
   ],
   "source": [
    "model = ['LR', 'CBR', 'LGBM']\n",
    "time_to_learn = [26, 19.8, 356]\n",
    "time_to_predict = [233, 88.8, 979]\n",
    "\n",
    "dict = {'model': model, 'time_to_learn, s': time_to_learn, 'time_to_predict, ms': time_to_predict, 'rmse': rmse_df} \n",
    "    \n",
    "results = pd.DataFrame(dict)\n",
    "results"
   ]
  },
  {
   "cell_type": "markdown",
   "metadata": {},
   "source": [
    "**Вывод**"
   ]
  },
  {
   "cell_type": "markdown",
   "metadata": {},
   "source": [
    "- В рамках работы были оценены 3 варианта модели машинного обучения - линейная регрессия, как представитель стандартной модели и CatBoost и LightGBM как представители буст моделей.\n",
    "- Линейная регрессия показывает низкие результаты как по скорости обучения и предсказания, так и по метрике RMSE; CBR чуть дольше обучается, но зато заметно быстрее выдает предсказания и имеет лучшее значение метрики rmse; LGBM обучается быстрее всех, но имеет бОльшее время предсказания и второй показатель по метрике rmse.\n",
    "- Для работы рекомендуется использовать модель CatBoostRegressor как некий оптимум между скоростью работы и качеством предсказаний, поскольку единожды обучив модель, можно будет ей продолжать пользоваться, получая прирост скорости предсказания."
   ]
  },
  {
   "cell_type": "markdown",
   "metadata": {},
   "source": [
    "<div class=\"alert alert-block alert-success\">\n",
    "    \n",
    "<b>Успех:</b> Хорошо проделаны шаги!<br> Радует достаточное количество рассмотренных моделей и то, что был попробован внутренний метод кодировки данных <br> Все нужные метрики успешно вычислены и проанализированы    <br> Приятно видеть информативную таблицу"
   ]
  },
  {
   "cell_type": "markdown",
   "metadata": {},
   "source": [
    "\n",
    "\n",
    "<div class=\"alert alert-block alert-info\">\n",
    "<b>Совет:</b> \n",
    "\n",
    "Также если говорить, что можно ещё улучшить в подобных проектах, то я бы выделил такие моменты:<br>\n",
    "    \n",
    "1) Для понимания, а какие в итоге факторы важны при моделировании, можно выводить их важность, использую feature_importances_, ну и график заодно. Это будет смотреться очнь здорово: результативная метрика и график важности факторов)))\n",
    "    \n",
    "2) У нас разный возраст машин. Есть гипотеза, что для разных возрастов - своё ценообразование. Поэтому, можно попробовать ввести фактор \"тип возраста\" (ретро, супер-ретро, старая, новая... надо подумать..)..\n",
    "    \n"
   ]
  },
  {
   "cell_type": "markdown",
   "metadata": {},
   "source": [
    "## Чек-лист проверки"
   ]
  },
  {
   "cell_type": "markdown",
   "metadata": {},
   "source": [
    "Поставьте 'x' в выполненных пунктах. Далее нажмите Shift+Enter."
   ]
  },
  {
   "cell_type": "markdown",
   "metadata": {},
   "source": [
    "- [x]  Jupyter Notebook открыт\n",
    "- [x]  Весь код выполняется без ошибок\n",
    "- [x]  Ячейки с кодом расположены в порядке исполнения\n",
    "- [x]  Выполнена загрузка и подготовка данных\n",
    "- [x]  Выполнено обучение моделей\n",
    "- [x]  Есть анализ скорости работы и качества моделей"
   ]
  },
  {
   "cell_type": "code",
   "execution_count": null,
   "metadata": {},
   "outputs": [],
   "source": []
  }
 ],
 "metadata": {
  "ExecuteTimeLog": [
   {
    "duration": 534,
    "start_time": "2022-04-23T11:18:07.366Z"
   },
   {
    "duration": 3915,
    "start_time": "2022-04-23T11:19:08.047Z"
   },
   {
    "duration": 1376,
    "start_time": "2022-04-23T11:19:39.335Z"
   },
   {
    "duration": 1253,
    "start_time": "2022-04-23T11:19:47.097Z"
   },
   {
    "duration": 179,
    "start_time": "2022-04-23T11:19:58.006Z"
   },
   {
    "duration": 1185,
    "start_time": "2022-04-23T11:20:46.523Z"
   },
   {
    "duration": 243,
    "start_time": "2022-04-23T11:20:51.913Z"
   },
   {
    "duration": 194,
    "start_time": "2022-04-23T11:20:56.271Z"
   },
   {
    "duration": 1991,
    "start_time": "2022-04-23T11:21:35.820Z"
   },
   {
    "duration": 149,
    "start_time": "2022-04-23T11:21:38.965Z"
   },
   {
    "duration": 94,
    "start_time": "2022-04-23T11:21:41.660Z"
   },
   {
    "duration": 144,
    "start_time": "2022-04-23T11:22:15.523Z"
   },
   {
    "duration": 102,
    "start_time": "2022-04-23T11:22:30.108Z"
   },
   {
    "duration": 154,
    "start_time": "2022-04-23T11:22:38.516Z"
   },
   {
    "duration": 35,
    "start_time": "2022-04-23T11:30:52.504Z"
   },
   {
    "duration": 48,
    "start_time": "2022-04-23T11:31:07.142Z"
   },
   {
    "duration": 6,
    "start_time": "2022-04-23T11:31:15.825Z"
   },
   {
    "duration": 178,
    "start_time": "2022-04-23T11:31:23.103Z"
   },
   {
    "duration": 198,
    "start_time": "2022-04-23T11:31:34.165Z"
   },
   {
    "duration": 106,
    "start_time": "2022-04-23T11:31:56.010Z"
   },
   {
    "duration": 153,
    "start_time": "2022-04-23T11:32:08.071Z"
   },
   {
    "duration": 71,
    "start_time": "2022-04-23T11:32:17.619Z"
   },
   {
    "duration": 207,
    "start_time": "2022-04-23T11:32:48.760Z"
   },
   {
    "duration": 55,
    "start_time": "2022-04-23T11:32:57.146Z"
   },
   {
    "duration": 50,
    "start_time": "2022-04-23T11:33:03.683Z"
   },
   {
    "duration": 151,
    "start_time": "2022-04-23T11:33:25.680Z"
   },
   {
    "duration": 409,
    "start_time": "2022-04-23T11:34:33.946Z"
   },
   {
    "duration": 9,
    "start_time": "2022-04-23T11:34:49.472Z"
   },
   {
    "duration": 274167,
    "start_time": "2022-04-23T11:34:57.618Z"
   },
   {
    "duration": 103,
    "start_time": "2022-04-23T11:42:09.932Z"
   },
   {
    "duration": 1124,
    "start_time": "2022-04-23T11:42:13.266Z"
   },
   {
    "duration": 185,
    "start_time": "2022-04-23T11:42:15.245Z"
   },
   {
    "duration": 22,
    "start_time": "2022-04-23T11:42:32.022Z"
   },
   {
    "duration": 205,
    "start_time": "2022-04-23T11:43:08.499Z"
   },
   {
    "duration": 176,
    "start_time": "2022-04-23T11:43:14.228Z"
   },
   {
    "duration": 13,
    "start_time": "2022-04-23T11:54:50.526Z"
   },
   {
    "duration": 12,
    "start_time": "2022-04-23T11:54:56.665Z"
   },
   {
    "duration": 27,
    "start_time": "2022-04-23T11:55:01.895Z"
   },
   {
    "duration": 18,
    "start_time": "2022-04-23T11:55:10.405Z"
   },
   {
    "duration": 6,
    "start_time": "2022-04-23T11:58:26.441Z"
   },
   {
    "duration": 229,
    "start_time": "2022-04-23T11:58:27.172Z"
   },
   {
    "duration": 129,
    "start_time": "2022-04-23T12:04:25.970Z"
   },
   {
    "duration": 260,
    "start_time": "2022-04-23T12:04:58.200Z"
   },
   {
    "duration": 8,
    "start_time": "2022-04-23T12:08:33.536Z"
   },
   {
    "duration": 6,
    "start_time": "2022-04-23T12:09:02.392Z"
   },
   {
    "duration": 1085,
    "start_time": "2022-04-23T12:09:02.401Z"
   },
   {
    "duration": 177,
    "start_time": "2022-04-23T12:09:03.489Z"
   },
   {
    "duration": 36,
    "start_time": "2022-04-23T12:09:03.669Z"
   },
   {
    "duration": 184,
    "start_time": "2022-04-23T12:09:03.707Z"
   },
   {
    "duration": 29,
    "start_time": "2022-04-23T12:09:03.894Z"
   },
   {
    "duration": 17,
    "start_time": "2022-04-23T12:09:03.925Z"
   },
   {
    "duration": 40,
    "start_time": "2022-04-23T12:09:03.946Z"
   },
   {
    "duration": 226,
    "start_time": "2022-04-23T12:09:03.989Z"
   },
   {
    "duration": 129,
    "start_time": "2022-04-23T12:09:04.220Z"
   },
   {
    "duration": 241,
    "start_time": "2022-04-23T12:09:04.351Z"
   },
   {
    "duration": 1450,
    "start_time": "2022-04-23T12:31:02.379Z"
   },
   {
    "duration": 52,
    "start_time": "2022-04-23T12:31:11.942Z"
   },
   {
    "duration": 22,
    "start_time": "2022-04-23T12:31:27.898Z"
   },
   {
    "duration": 236,
    "start_time": "2022-04-23T12:35:02.622Z"
   },
   {
    "duration": 4,
    "start_time": "2022-04-23T12:35:15.897Z"
   },
   {
    "duration": 273,
    "start_time": "2022-04-23T12:35:30.453Z"
   },
   {
    "duration": 7,
    "start_time": "2022-04-23T12:35:47.162Z"
   },
   {
    "duration": 511,
    "start_time": "2022-04-23T12:39:41.233Z"
   },
   {
    "duration": 55,
    "start_time": "2022-04-23T12:39:42.671Z"
   },
   {
    "duration": 5,
    "start_time": "2022-04-23T12:40:38.774Z"
   },
   {
    "duration": 4,
    "start_time": "2022-04-23T12:40:43.108Z"
   },
   {
    "duration": 3,
    "start_time": "2022-04-23T12:43:21.392Z"
   },
   {
    "duration": 61984,
    "start_time": "2022-04-23T12:43:28.217Z"
   },
   {
    "duration": 273,
    "start_time": "2022-04-23T12:45:04.721Z"
   },
   {
    "duration": 7,
    "start_time": "2022-04-23T12:45:06.376Z"
   },
   {
    "duration": 161885,
    "start_time": "2022-04-23T12:47:38.251Z"
   },
   {
    "duration": 107474,
    "start_time": "2022-04-23T12:50:20.139Z"
   },
   {
    "duration": 4,
    "start_time": "2022-04-23T12:55:30.823Z"
   },
   {
    "duration": 45659,
    "start_time": "2022-04-23T12:56:14.646Z"
   },
   {
    "duration": 147,
    "start_time": "2022-04-23T12:57:00.308Z"
   },
   {
    "duration": 32,
    "start_time": "2022-04-23T12:57:00.457Z"
   },
   {
    "duration": 4,
    "start_time": "2022-04-23T12:57:44.412Z"
   },
   {
    "duration": 34631,
    "start_time": "2022-04-23T12:57:52.607Z"
   },
   {
    "duration": 132,
    "start_time": "2022-04-23T12:59:58.126Z"
   },
   {
    "duration": 7,
    "start_time": "2022-04-23T13:00:00.011Z"
   },
   {
    "duration": 4,
    "start_time": "2022-04-23T13:00:09.769Z"
   },
   {
    "duration": 45943,
    "start_time": "2022-04-23T13:00:10.476Z"
   },
   {
    "duration": 141,
    "start_time": "2022-04-23T13:00:56.422Z"
   },
   {
    "duration": 7,
    "start_time": "2022-04-23T13:00:56.566Z"
   },
   {
    "duration": 4,
    "start_time": "2022-04-23T13:02:59.850Z"
   },
   {
    "duration": 4,
    "start_time": "2022-04-23T13:03:00.862Z"
   },
   {
    "duration": 108718,
    "start_time": "2022-04-23T13:03:02.170Z"
   },
   {
    "duration": 1392,
    "start_time": "2022-04-23T13:04:50.894Z"
   },
   {
    "duration": 7,
    "start_time": "2022-04-23T13:04:52.289Z"
   },
   {
    "duration": 1776,
    "start_time": "2022-04-23T13:20:12.395Z"
   },
   {
    "duration": 1182,
    "start_time": "2022-04-23T13:20:14.173Z"
   },
   {
    "duration": 194,
    "start_time": "2022-04-23T13:20:15.357Z"
   },
   {
    "duration": 48,
    "start_time": "2022-04-23T13:20:15.554Z"
   },
   {
    "duration": 191,
    "start_time": "2022-04-23T13:20:15.604Z"
   },
   {
    "duration": 38,
    "start_time": "2022-04-23T13:20:15.798Z"
   },
   {
    "duration": 28,
    "start_time": "2022-04-23T13:20:15.838Z"
   },
   {
    "duration": 19,
    "start_time": "2022-04-23T13:20:15.869Z"
   },
   {
    "duration": 245,
    "start_time": "2022-04-23T13:20:15.892Z"
   },
   {
    "duration": 125,
    "start_time": "2022-04-23T13:20:16.141Z"
   },
   {
    "duration": 229,
    "start_time": "2022-04-23T13:20:16.269Z"
   },
   {
    "duration": 1608,
    "start_time": "2022-04-23T13:20:16.501Z"
   },
   {
    "duration": 109,
    "start_time": "2022-04-23T13:20:18.112Z"
   },
   {
    "duration": 24,
    "start_time": "2022-04-23T13:20:18.223Z"
   },
   {
    "duration": 252,
    "start_time": "2022-04-23T13:20:18.249Z"
   },
   {
    "duration": 4,
    "start_time": "2022-04-23T13:20:18.503Z"
   },
   {
    "duration": 307,
    "start_time": "2022-04-23T13:20:18.509Z"
   },
   {
    "duration": 7,
    "start_time": "2022-04-23T13:20:18.819Z"
   },
   {
    "duration": 533,
    "start_time": "2022-04-23T13:20:18.829Z"
   },
   {
    "duration": 69,
    "start_time": "2022-04-23T13:20:19.364Z"
   },
   {
    "duration": 4,
    "start_time": "2022-04-23T13:20:19.435Z"
   },
   {
    "duration": 8,
    "start_time": "2022-04-23T13:20:19.442Z"
   },
   {
    "duration": 58249,
    "start_time": "2022-04-23T13:20:19.452Z"
   },
   {
    "duration": 393,
    "start_time": "2022-04-23T13:21:17.704Z"
   },
   {
    "duration": 103,
    "start_time": "2022-04-23T13:21:18.182Z"
   },
   {
    "duration": 354661,
    "start_time": "2022-04-23T13:21:18.288Z"
   },
   {
    "duration": 183655,
    "start_time": "2022-04-23T13:27:12.952Z"
   },
   {
    "duration": 4,
    "start_time": "2022-04-23T13:30:16.614Z"
   },
   {
    "duration": 47987,
    "start_time": "2022-04-23T13:30:16.620Z"
   },
   {
    "duration": 138,
    "start_time": "2022-04-23T13:31:04.609Z"
   },
   {
    "duration": 8,
    "start_time": "2022-04-23T13:31:04.749Z"
   },
   {
    "duration": 22,
    "start_time": "2022-04-23T13:31:04.759Z"
   },
   {
    "duration": 7,
    "start_time": "2022-04-23T13:31:04.783Z"
   },
   {
    "duration": 102500,
    "start_time": "2022-04-23T13:31:04.792Z"
   },
   {
    "duration": 1407,
    "start_time": "2022-04-23T13:32:47.295Z"
   },
   {
    "duration": 6,
    "start_time": "2022-04-23T13:32:48.704Z"
   },
   {
    "duration": 184,
    "start_time": "2022-04-23T13:36:18.263Z"
   },
   {
    "duration": 0,
    "start_time": "2022-04-23T13:36:18.451Z"
   },
   {
    "duration": 0,
    "start_time": "2022-04-23T13:36:18.452Z"
   },
   {
    "duration": 0,
    "start_time": "2022-04-23T13:36:18.454Z"
   },
   {
    "duration": 0,
    "start_time": "2022-04-23T13:36:18.457Z"
   },
   {
    "duration": 0,
    "start_time": "2022-04-23T13:36:18.459Z"
   },
   {
    "duration": 468,
    "start_time": "2022-04-23T13:36:52.078Z"
   },
   {
    "duration": 9,
    "start_time": "2022-04-23T13:36:59.361Z"
   },
   {
    "duration": 324516,
    "start_time": "2022-04-23T13:36:59.372Z"
   },
   {
    "duration": 6,
    "start_time": "2022-04-23T13:42:23.891Z"
   },
   {
    "duration": 1811395,
    "start_time": "2022-04-23T13:42:23.900Z"
   },
   {
    "duration": 0,
    "start_time": "2022-04-23T14:12:35.298Z"
   },
   {
    "duration": 0,
    "start_time": "2022-04-23T14:12:35.299Z"
   },
   {
    "duration": 127,
    "start_time": "2022-04-23T14:13:19.131Z"
   },
   {
    "duration": 5,
    "start_time": "2022-04-23T14:13:36.993Z"
   },
   {
    "duration": 4,
    "start_time": "2022-04-23T14:13:38.926Z"
   },
   {
    "duration": 39665,
    "start_time": "2022-04-23T14:13:40.434Z"
   },
   {
    "duration": 1394,
    "start_time": "2022-04-23T14:14:20.105Z"
   },
   {
    "duration": 6,
    "start_time": "2022-04-23T14:14:21.502Z"
   },
   {
    "duration": 5,
    "start_time": "2022-04-23T14:14:38.740Z"
   },
   {
    "duration": 4,
    "start_time": "2022-04-23T14:14:40.376Z"
   },
   {
    "duration": 37076,
    "start_time": "2022-04-23T14:14:41.026Z"
   },
   {
    "duration": 1382,
    "start_time": "2022-04-23T14:15:18.106Z"
   },
   {
    "duration": 9,
    "start_time": "2022-04-23T14:15:19.490Z"
   },
   {
    "duration": 5,
    "start_time": "2022-04-23T14:15:20.609Z"
   },
   {
    "duration": 4,
    "start_time": "2022-04-23T14:15:22.111Z"
   },
   {
    "duration": 26572,
    "start_time": "2022-04-23T14:15:24.221Z"
   },
   {
    "duration": 907,
    "start_time": "2022-04-23T14:15:50.796Z"
   },
   {
    "duration": 9,
    "start_time": "2022-04-23T14:15:51.706Z"
   },
   {
    "duration": 7794,
    "start_time": "2022-04-23T14:18:20.942Z"
   },
   {
    "duration": 5,
    "start_time": "2022-04-23T14:20:01.599Z"
   },
   {
    "duration": 9676,
    "start_time": "2022-04-23T14:20:19.846Z"
   },
   {
    "duration": 5,
    "start_time": "2022-04-23T14:20:29.525Z"
   },
   {
    "duration": 47551,
    "start_time": "2022-04-23T14:22:01.295Z"
   },
   {
    "duration": 5,
    "start_time": "2022-04-23T14:22:48.848Z"
   },
   {
    "duration": 46402,
    "start_time": "2022-04-23T14:24:25.454Z"
   },
   {
    "duration": 6,
    "start_time": "2022-04-23T14:25:11.859Z"
   },
   {
    "duration": 2402,
    "start_time": "2022-04-23T14:32:26.967Z"
   },
   {
    "duration": 1202,
    "start_time": "2022-04-23T14:32:29.372Z"
   },
   {
    "duration": 202,
    "start_time": "2022-04-23T14:32:30.576Z"
   },
   {
    "duration": 31,
    "start_time": "2022-04-23T14:32:30.781Z"
   },
   {
    "duration": 199,
    "start_time": "2022-04-23T14:32:30.814Z"
   },
   {
    "duration": 40,
    "start_time": "2022-04-23T14:32:31.015Z"
   },
   {
    "duration": 39,
    "start_time": "2022-04-23T14:32:31.058Z"
   },
   {
    "duration": 10,
    "start_time": "2022-04-23T14:32:31.100Z"
   },
   {
    "duration": 257,
    "start_time": "2022-04-23T14:32:31.113Z"
   },
   {
    "duration": 141,
    "start_time": "2022-04-23T14:32:31.376Z"
   },
   {
    "duration": 241,
    "start_time": "2022-04-23T14:32:31.520Z"
   },
   {
    "duration": 1581,
    "start_time": "2022-04-23T14:32:31.764Z"
   },
   {
    "duration": 43,
    "start_time": "2022-04-23T14:32:33.347Z"
   },
   {
    "duration": 24,
    "start_time": "2022-04-23T14:32:33.392Z"
   },
   {
    "duration": 247,
    "start_time": "2022-04-23T14:32:33.418Z"
   },
   {
    "duration": 4,
    "start_time": "2022-04-23T14:32:33.667Z"
   },
   {
    "duration": 286,
    "start_time": "2022-04-23T14:32:33.682Z"
   },
   {
    "duration": 13,
    "start_time": "2022-04-23T14:32:33.970Z"
   },
   {
    "duration": 517,
    "start_time": "2022-04-23T14:32:33.985Z"
   },
   {
    "duration": 54,
    "start_time": "2022-04-23T14:32:34.504Z"
   },
   {
    "duration": 4,
    "start_time": "2022-04-23T14:32:34.560Z"
   },
   {
    "duration": 4,
    "start_time": "2022-04-23T14:32:34.593Z"
   },
   {
    "duration": 59598,
    "start_time": "2022-04-23T14:32:34.600Z"
   },
   {
    "duration": 393,
    "start_time": "2022-04-23T14:33:34.201Z"
   },
   {
    "duration": 93,
    "start_time": "2022-04-23T14:33:34.598Z"
   },
   {
    "duration": 350677,
    "start_time": "2022-04-23T14:33:34.694Z"
   },
   {
    "duration": 182729,
    "start_time": "2022-04-23T14:39:25.374Z"
   },
   {
    "duration": 4,
    "start_time": "2022-04-23T14:42:28.110Z"
   },
   {
    "duration": 46068,
    "start_time": "2022-04-23T14:42:28.117Z"
   },
   {
    "duration": 143,
    "start_time": "2022-04-23T14:43:14.188Z"
   },
   {
    "duration": 6,
    "start_time": "2022-04-23T14:43:14.334Z"
   },
   {
    "duration": 10,
    "start_time": "2022-04-23T14:43:14.342Z"
   },
   {
    "duration": 16,
    "start_time": "2022-04-23T14:43:14.354Z"
   },
   {
    "duration": 18029,
    "start_time": "2022-04-23T14:43:14.371Z"
   },
   {
    "duration": 900,
    "start_time": "2022-04-23T14:43:32.403Z"
   },
   {
    "duration": 8,
    "start_time": "2022-04-23T14:43:33.305Z"
   },
   {
    "duration": 6,
    "start_time": "2022-04-23T15:09:33.478Z"
   },
   {
    "duration": 198,
    "start_time": "2022-04-23T15:10:14.362Z"
   },
   {
    "duration": 20,
    "start_time": "2022-04-23T15:10:32.175Z"
   },
   {
    "duration": 29,
    "start_time": "2022-04-23T15:10:44.467Z"
   },
   {
    "duration": 9,
    "start_time": "2022-04-23T15:11:37.081Z"
   },
   {
    "duration": 6,
    "start_time": "2022-04-23T15:11:42.560Z"
   },
   {
    "duration": 12,
    "start_time": "2022-04-23T15:11:50.111Z"
   },
   {
    "duration": 6,
    "start_time": "2022-04-23T15:12:01.930Z"
   },
   {
    "duration": 5,
    "start_time": "2022-04-23T15:12:13.660Z"
   },
   {
    "duration": 5,
    "start_time": "2022-04-23T15:13:02.237Z"
   },
   {
    "duration": 15,
    "start_time": "2022-04-23T15:13:08.495Z"
   },
   {
    "duration": 14,
    "start_time": "2022-04-23T15:13:16.457Z"
   },
   {
    "duration": 7855,
    "start_time": "2022-04-23T15:14:05.477Z"
   },
   {
    "duration": 7905,
    "start_time": "2022-04-23T15:14:24.318Z"
   },
   {
    "duration": 7829,
    "start_time": "2022-04-23T15:14:42.595Z"
   },
   {
    "duration": 7899,
    "start_time": "2022-04-23T15:15:51.239Z"
   },
   {
    "duration": 353980,
    "start_time": "2022-04-23T15:16:09.425Z"
   },
   {
    "duration": 6,
    "start_time": "2022-04-23T15:22:18.838Z"
   },
   {
    "duration": 7,
    "start_time": "2022-04-23T15:22:19.885Z"
   },
   {
    "duration": 6,
    "start_time": "2022-04-23T15:22:20.672Z"
   },
   {
    "duration": 17,
    "start_time": "2022-04-23T15:22:22.395Z"
   },
   {
    "duration": 12,
    "start_time": "2022-04-23T15:22:30.658Z"
   },
   {
    "duration": 382,
    "start_time": "2022-04-23T15:22:36.383Z"
   },
   {
    "duration": 253,
    "start_time": "2022-04-23T15:23:59.696Z"
   },
   {
    "duration": 250,
    "start_time": "2022-04-23T15:24:08.046Z"
   },
   {
    "duration": 268,
    "start_time": "2022-04-23T15:24:19.899Z"
   },
   {
    "duration": 260,
    "start_time": "2022-04-23T15:24:27.702Z"
   },
   {
    "duration": 284,
    "start_time": "2022-04-23T15:24:33.062Z"
   },
   {
    "duration": 3234255,
    "start_time": "2022-04-23T15:27:42.048Z"
   },
   {
    "duration": 285,
    "start_time": "2022-04-23T16:21:36.307Z"
   },
   {
    "duration": 299853,
    "start_time": "2022-04-23T16:21:36.595Z"
   },
   {
    "duration": 330,
    "start_time": "2022-04-23T16:26:36.452Z"
   },
   {
    "duration": 9,
    "start_time": "2022-04-23T16:26:36.785Z"
   },
   {
    "duration": 46928,
    "start_time": "2022-04-23T16:26:36.796Z"
   },
   {
    "duration": 142,
    "start_time": "2022-04-23T16:27:23.726Z"
   },
   {
    "duration": 16,
    "start_time": "2022-04-23T16:27:23.870Z"
   },
   {
    "duration": 15,
    "start_time": "2022-04-23T16:27:23.889Z"
   },
   {
    "duration": 4,
    "start_time": "2022-04-23T16:27:23.907Z"
   },
   {
    "duration": 120844,
    "start_time": "2022-04-23T16:27:23.914Z"
   },
   {
    "duration": 149,
    "start_time": "2022-04-23T16:29:24.760Z"
   },
   {
    "duration": 6,
    "start_time": "2022-04-23T16:29:24.911Z"
   },
   {
    "duration": 8,
    "start_time": "2022-04-23T16:29:24.929Z"
   },
   {
    "duration": 5,
    "start_time": "2022-04-23T16:29:32.662Z"
   },
   {
    "duration": 5,
    "start_time": "2022-04-23T16:29:44.201Z"
   },
   {
    "duration": 7,
    "start_time": "2022-04-23T16:29:47.507Z"
   },
   {
    "duration": 4,
    "start_time": "2022-04-23T16:30:17.352Z"
   },
   {
    "duration": 52539,
    "start_time": "2022-04-23T16:30:18.359Z"
   },
   {
    "duration": 155,
    "start_time": "2022-04-23T16:31:10.901Z"
   },
   {
    "duration": 7,
    "start_time": "2022-04-23T16:31:11.058Z"
   },
   {
    "duration": 4,
    "start_time": "2022-04-23T16:31:34.196Z"
   },
   {
    "duration": 3,
    "start_time": "2022-04-23T16:31:34.935Z"
   },
   {
    "duration": 27080,
    "start_time": "2022-04-23T16:31:36.312Z"
   },
   {
    "duration": 891,
    "start_time": "2022-04-23T16:32:03.396Z"
   },
   {
    "duration": 7,
    "start_time": "2022-04-23T16:32:04.290Z"
   },
   {
    "duration": 15,
    "start_time": "2022-04-23T16:36:21.691Z"
   },
   {
    "duration": 4,
    "start_time": "2022-04-23T16:36:50.546Z"
   },
   {
    "duration": 7,
    "start_time": "2022-04-23T16:36:54.295Z"
   },
   {
    "duration": 7,
    "start_time": "2022-04-23T16:37:21.412Z"
   },
   {
    "duration": 7,
    "start_time": "2022-04-23T16:37:49.305Z"
   },
   {
    "duration": 7,
    "start_time": "2022-04-23T16:37:59.170Z"
   },
   {
    "duration": 5,
    "start_time": "2022-04-23T16:39:43.995Z"
   },
   {
    "duration": 10,
    "start_time": "2022-04-23T16:39:48.804Z"
   },
   {
    "duration": 6,
    "start_time": "2022-04-23T16:41:57.595Z"
   },
   {
    "duration": 22,
    "start_time": "2022-04-23T16:42:02.080Z"
   },
   {
    "duration": 21,
    "start_time": "2022-04-23T16:42:13.283Z"
   },
   {
    "duration": 14,
    "start_time": "2022-04-23T16:42:33.554Z"
   },
   {
    "duration": 0,
    "start_time": "2022-04-23T16:51:02.711Z"
   },
   {
    "duration": 136,
    "start_time": "2022-04-23T16:51:59.759Z"
   },
   {
    "duration": 134,
    "start_time": "2022-04-23T16:52:07.826Z"
   },
   {
    "duration": 0,
    "start_time": "2022-04-23T16:53:20.629Z"
   },
   {
    "duration": 154489,
    "start_time": "2022-04-23T16:53:23.532Z"
   },
   {
    "duration": 119876,
    "start_time": "2022-04-23T16:56:50.740Z"
   },
   {
    "duration": 114283,
    "start_time": "2022-04-23T16:59:29.816Z"
   },
   {
    "duration": 12,
    "start_time": "2022-04-23T17:05:21.998Z"
   },
   {
    "duration": 249529,
    "start_time": "2022-04-23T17:05:26.122Z"
   },
   {
    "duration": 12,
    "start_time": "2022-04-23T17:09:35.682Z"
   },
   {
    "duration": 3,
    "start_time": "2022-04-23T17:10:07.235Z"
   },
   {
    "duration": 7,
    "start_time": "2022-04-23T17:10:08.707Z"
   },
   {
    "duration": 208171,
    "start_time": "2022-04-23T17:13:50.917Z"
   },
   {
    "duration": 19,
    "start_time": "2022-04-23T17:19:59.976Z"
   },
   {
    "duration": 486158,
    "start_time": "2022-04-23T17:20:27.141Z"
   },
   {
    "duration": 11,
    "start_time": "2022-04-23T17:28:33.302Z"
   },
   {
    "duration": 145,
    "start_time": "2022-04-23T17:31:46.232Z"
   },
   {
    "duration": 14,
    "start_time": "2022-04-23T17:31:47.260Z"
   },
   {
    "duration": 72,
    "start_time": "2022-04-23T17:32:06.623Z"
   },
   {
    "duration": 4,
    "start_time": "2022-04-23T17:32:25.282Z"
   },
   {
    "duration": 3,
    "start_time": "2022-04-23T17:32:27.601Z"
   },
   {
    "duration": 38392,
    "start_time": "2022-04-23T17:32:30.512Z"
   },
   {
    "duration": 1297,
    "start_time": "2022-04-23T17:33:08.907Z"
   },
   {
    "duration": 7,
    "start_time": "2022-04-23T17:33:10.206Z"
   },
   {
    "duration": 2479,
    "start_time": "2022-04-23T17:35:03.959Z"
   },
   {
    "duration": 1203,
    "start_time": "2022-04-23T17:35:06.440Z"
   },
   {
    "duration": 197,
    "start_time": "2022-04-23T17:35:07.646Z"
   },
   {
    "duration": 50,
    "start_time": "2022-04-23T17:35:07.846Z"
   },
   {
    "duration": 188,
    "start_time": "2022-04-23T17:35:07.898Z"
   },
   {
    "duration": 39,
    "start_time": "2022-04-23T17:35:08.089Z"
   },
   {
    "duration": 22,
    "start_time": "2022-04-23T17:35:08.130Z"
   },
   {
    "duration": 31,
    "start_time": "2022-04-23T17:35:08.155Z"
   },
   {
    "duration": 239,
    "start_time": "2022-04-23T17:35:08.190Z"
   },
   {
    "duration": 133,
    "start_time": "2022-04-23T17:35:08.435Z"
   },
   {
    "duration": 249,
    "start_time": "2022-04-23T17:35:08.570Z"
   },
   {
    "duration": 1624,
    "start_time": "2022-04-23T17:35:08.821Z"
   },
   {
    "duration": 43,
    "start_time": "2022-04-23T17:35:10.448Z"
   },
   {
    "duration": 37,
    "start_time": "2022-04-23T17:35:10.494Z"
   },
   {
    "duration": 279,
    "start_time": "2022-04-23T17:35:10.534Z"
   },
   {
    "duration": 5,
    "start_time": "2022-04-23T17:35:10.817Z"
   },
   {
    "duration": 388,
    "start_time": "2022-04-23T17:35:10.825Z"
   },
   {
    "duration": 10,
    "start_time": "2022-04-23T17:35:11.216Z"
   },
   {
    "duration": 677,
    "start_time": "2022-04-23T17:35:11.229Z"
   },
   {
    "duration": 55,
    "start_time": "2022-04-23T17:35:11.908Z"
   },
   {
    "duration": 20,
    "start_time": "2022-04-23T17:35:11.966Z"
   },
   {
    "duration": 11,
    "start_time": "2022-04-23T17:35:11.995Z"
   },
   {
    "duration": 6,
    "start_time": "2022-04-23T17:35:12.009Z"
   },
   {
    "duration": 45288,
    "start_time": "2022-04-23T17:35:12.018Z"
   },
   {
    "duration": 384,
    "start_time": "2022-04-23T17:35:57.309Z"
   },
   {
    "duration": 98,
    "start_time": "2022-04-23T17:35:57.695Z"
   },
   {
    "duration": 3201740,
    "start_time": "2022-04-23T17:35:57.881Z"
   },
   {
    "duration": 378,
    "start_time": "2022-04-23T18:29:19.626Z"
   },
   {
    "duration": 295828,
    "start_time": "2022-04-23T18:29:20.006Z"
   },
   {
    "duration": 296,
    "start_time": "2022-04-23T18:34:15.836Z"
   },
   {
    "duration": 4,
    "start_time": "2022-04-23T18:34:16.134Z"
   },
   {
    "duration": 51842,
    "start_time": "2022-04-23T18:34:16.140Z"
   },
   {
    "duration": 159,
    "start_time": "2022-04-23T18:35:07.985Z"
   },
   {
    "duration": 9,
    "start_time": "2022-04-23T18:35:08.146Z"
   },
   {
    "duration": 198947,
    "start_time": "2022-04-23T18:35:08.158Z"
   },
   {
    "duration": 80,
    "start_time": "2022-04-23T18:38:27.107Z"
   },
   {
    "duration": 674414,
    "start_time": "2022-04-23T18:38:27.190Z"
   },
   {
    "duration": 14,
    "start_time": "2022-04-23T18:49:41.682Z"
   },
   {
    "duration": 4,
    "start_time": "2022-04-23T18:49:41.698Z"
   },
   {
    "duration": 5,
    "start_time": "2022-04-23T18:49:41.704Z"
   },
   {
    "duration": 44303,
    "start_time": "2022-04-23T18:49:41.711Z"
   },
   {
    "duration": 1282,
    "start_time": "2022-04-23T18:50:26.016Z"
   },
   {
    "duration": 7,
    "start_time": "2022-04-23T18:50:27.302Z"
   },
   {
    "duration": 15,
    "start_time": "2022-04-23T18:50:27.311Z"
   },
   {
    "duration": 15,
    "start_time": "2022-04-23T18:51:48.303Z"
   },
   {
    "duration": 45,
    "start_time": "2022-04-24T06:59:18.372Z"
   },
   {
    "duration": 1826,
    "start_time": "2022-04-24T06:59:34.531Z"
   },
   {
    "duration": 757,
    "start_time": "2022-04-24T06:59:36.359Z"
   },
   {
    "duration": 124,
    "start_time": "2022-04-24T06:59:37.117Z"
   },
   {
    "duration": 25,
    "start_time": "2022-04-24T06:59:37.243Z"
   },
   {
    "duration": 128,
    "start_time": "2022-04-24T06:59:37.269Z"
   },
   {
    "duration": 25,
    "start_time": "2022-04-24T06:59:37.399Z"
   },
   {
    "duration": 30,
    "start_time": "2022-04-24T06:59:37.426Z"
   },
   {
    "duration": 9,
    "start_time": "2022-04-24T06:59:37.458Z"
   },
   {
    "duration": 164,
    "start_time": "2022-04-24T06:59:37.469Z"
   },
   {
    "duration": 89,
    "start_time": "2022-04-24T06:59:37.635Z"
   },
   {
    "duration": 164,
    "start_time": "2022-04-24T06:59:37.725Z"
   },
   {
    "duration": 1260,
    "start_time": "2022-04-24T06:59:44.216Z"
   },
   {
    "duration": 303,
    "start_time": "2022-04-24T07:02:36.501Z"
   },
   {
    "duration": 211,
    "start_time": "2022-04-24T07:03:01.930Z"
   },
   {
    "duration": 314,
    "start_time": "2022-04-24T07:05:02.231Z"
   },
   {
    "duration": 289,
    "start_time": "2022-04-24T07:05:09.380Z"
   },
   {
    "duration": 0,
    "start_time": "2022-04-24T07:08:09.500Z"
   },
   {
    "duration": 3549,
    "start_time": "2022-04-24T07:18:33.584Z"
   },
   {
    "duration": 10,
    "start_time": "2022-04-24T07:19:08.779Z"
   },
   {
    "duration": 0,
    "start_time": "2022-04-24T07:21:27.166Z"
   },
   {
    "duration": 56,
    "start_time": "2022-04-24T07:22:32.779Z"
   },
   {
    "duration": 8883,
    "start_time": "2022-04-24T07:28:55.110Z"
   },
   {
    "duration": 56,
    "start_time": "2022-04-24T07:29:10.419Z"
   },
   {
    "duration": 1242,
    "start_time": "2022-04-24T07:29:37.676Z"
   },
   {
    "duration": 319,
    "start_time": "2022-04-24T07:30:12.339Z"
   },
   {
    "duration": 371,
    "start_time": "2022-04-24T07:30:31.535Z"
   },
   {
    "duration": 318,
    "start_time": "2022-04-24T07:30:54.189Z"
   },
   {
    "duration": 1628,
    "start_time": "2022-04-24T07:32:14.530Z"
   },
   {
    "duration": 742,
    "start_time": "2022-04-24T07:32:16.160Z"
   },
   {
    "duration": 128,
    "start_time": "2022-04-24T07:32:16.904Z"
   },
   {
    "duration": 24,
    "start_time": "2022-04-24T07:32:17.035Z"
   },
   {
    "duration": 144,
    "start_time": "2022-04-24T07:32:17.061Z"
   },
   {
    "duration": 24,
    "start_time": "2022-04-24T07:32:17.207Z"
   },
   {
    "duration": 30,
    "start_time": "2022-04-24T07:32:17.233Z"
   },
   {
    "duration": 25,
    "start_time": "2022-04-24T07:32:17.264Z"
   },
   {
    "duration": 186,
    "start_time": "2022-04-24T07:32:17.291Z"
   },
   {
    "duration": 90,
    "start_time": "2022-04-24T07:32:17.481Z"
   },
   {
    "duration": 161,
    "start_time": "2022-04-24T07:32:17.573Z"
   },
   {
    "duration": 1266,
    "start_time": "2022-04-24T07:32:17.736Z"
   },
   {
    "duration": 104,
    "start_time": "2022-04-24T07:32:19.004Z"
   },
   {
    "duration": 120,
    "start_time": "2022-04-24T07:32:19.110Z"
   },
   {
    "duration": 62,
    "start_time": "2022-04-24T07:32:19.232Z"
   },
   {
    "duration": 379,
    "start_time": "2022-04-24T07:32:19.295Z"
   },
   {
    "duration": 313,
    "start_time": "2022-04-24T07:32:19.675Z"
   },
   {
    "duration": 858,
    "start_time": "2022-04-24T07:32:19.990Z"
   },
   {
    "duration": 15,
    "start_time": "2022-04-24T07:32:20.854Z"
   },
   {
    "duration": 24,
    "start_time": "2022-04-24T07:32:20.871Z"
   },
   {
    "duration": 217,
    "start_time": "2022-04-24T07:32:20.896Z"
   },
   {
    "duration": 3,
    "start_time": "2022-04-24T07:32:21.115Z"
   },
   {
    "duration": 172,
    "start_time": "2022-04-24T07:32:21.119Z"
   },
   {
    "duration": 6,
    "start_time": "2022-04-24T07:32:21.293Z"
   },
   {
    "duration": 341,
    "start_time": "2022-04-24T07:32:21.300Z"
   },
   {
    "duration": 48,
    "start_time": "2022-04-24T07:32:21.643Z"
   },
   {
    "duration": 3,
    "start_time": "2022-04-24T07:32:21.692Z"
   },
   {
    "duration": 16,
    "start_time": "2022-04-24T07:32:21.698Z"
   },
   {
    "duration": 23,
    "start_time": "2022-04-24T07:32:21.716Z"
   },
   {
    "duration": 26020,
    "start_time": "2022-04-24T07:32:21.741Z"
   },
   {
    "duration": 293,
    "start_time": "2022-04-24T07:32:47.763Z"
   },
   {
    "duration": 7,
    "start_time": "2022-04-24T07:32:48.058Z"
   },
   {
    "duration": 1230111,
    "start_time": "2022-04-24T07:32:48.156Z"
   },
   {
    "duration": 236,
    "start_time": "2022-04-24T07:53:18.269Z"
   },
   {
    "duration": 164244,
    "start_time": "2022-04-24T07:53:18.507Z"
   },
   {
    "duration": 171,
    "start_time": "2022-04-24T07:56:02.753Z"
   },
   {
    "duration": 3,
    "start_time": "2022-04-24T07:56:02.925Z"
   },
   {
    "duration": 19822,
    "start_time": "2022-04-24T07:56:02.930Z"
   },
   {
    "duration": 92,
    "start_time": "2022-04-24T07:56:22.754Z"
   },
   {
    "duration": 5,
    "start_time": "2022-04-24T07:56:22.854Z"
   },
   {
    "duration": 480257,
    "start_time": "2022-04-24T07:56:22.861Z"
   },
   {
    "duration": 44,
    "start_time": "2022-04-24T08:04:23.120Z"
   },
   {
    "duration": 2386447,
    "start_time": "2022-04-24T08:04:23.166Z"
   },
   {
    "duration": 50,
    "start_time": "2022-04-24T08:44:09.615Z"
   },
   {
    "duration": 22,
    "start_time": "2022-04-24T08:44:09.668Z"
   },
   {
    "duration": 13,
    "start_time": "2022-04-24T08:44:09.692Z"
   },
   {
    "duration": 356355,
    "start_time": "2022-04-24T08:44:09.710Z"
   },
   {
    "duration": 988,
    "start_time": "2022-04-24T08:50:06.071Z"
   },
   {
    "duration": 7,
    "start_time": "2022-04-24T08:50:07.063Z"
   },
   {
    "duration": 38,
    "start_time": "2022-04-24T08:50:07.072Z"
   },
   {
    "duration": 16,
    "start_time": "2022-04-24T09:28:36.120Z"
   }
  ],
  "kernelspec": {
   "display_name": "Python 3 (ipykernel)",
   "language": "python",
   "name": "python3"
  },
  "language_info": {
   "codemirror_mode": {
    "name": "ipython",
    "version": 3
   },
   "file_extension": ".py",
   "mimetype": "text/x-python",
   "name": "python",
   "nbconvert_exporter": "python",
   "pygments_lexer": "ipython3",
   "version": "3.9.5"
  },
  "toc": {
   "base_numbering": 1,
   "nav_menu": {},
   "number_sections": true,
   "sideBar": true,
   "skip_h1_title": true,
   "title_cell": "Table of Contents",
   "title_sidebar": "Contents",
   "toc_cell": false,
   "toc_position": {},
   "toc_section_display": true,
   "toc_window_display": false
  }
 },
 "nbformat": 4,
 "nbformat_minor": 2
}
